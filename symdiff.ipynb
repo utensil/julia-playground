{
 "cells": [
  {
   "cell_type": "markdown",
   "metadata": {},
   "source": [
    "Modified from http://www.johnmyleswhite.com/notebook/2013/01/07/symbolic-differentiation-in-julia/"
   ]
  },
  {
   "cell_type": "code",
   "execution_count": 135,
   "metadata": {
    "collapsed": false
   },
   "outputs": [
    {
     "data": {
      "text/plain": [
       ":(x + 1)"
      ]
     },
     "execution_count": 135,
     "metadata": {},
     "output_type": "execute_result"
    }
   ],
   "source": [
    "expr = :(x + 1)"
   ]
  },
  {
   "cell_type": "code",
   "execution_count": 136,
   "metadata": {
    "collapsed": false
   },
   "outputs": [
    {
     "data": {
      "text/plain": [
       "Expr"
      ]
     },
     "execution_count": 136,
     "metadata": {},
     "output_type": "execute_result"
    }
   ],
   "source": [
    "typeof(expr)"
   ]
  },
  {
   "cell_type": "code",
   "execution_count": 137,
   "metadata": {
    "collapsed": false
   },
   "outputs": [
    {
     "name": "stdout",
     "output_type": "stream",
     "text": [
      "Expr \n",
      "  head: Symbol call\n",
      "  args: Array(Any,(3,))\n",
      "    1: Symbol +\n",
      "    2: Symbol x\n",
      "    3: Int64 1\n",
      "  typ: Any\n"
     ]
    }
   ],
   "source": [
    "expr |> dump"
   ]
  },
  {
   "cell_type": "code",
   "execution_count": 138,
   "metadata": {
    "collapsed": false
   },
   "outputs": [
    {
     "data": {
      "text/latex": [
       "No documentation found.\n",
       "\\textbf{Summary:}\n",
       "\\begin{verbatim}\n",
       "type Expr <: Any\n",
       "\\end{verbatim}\n",
       "\\textbf{Fields:}\n",
       "\\begin{verbatim}\n",
       "head :: Symbol\n",
       "args :: Array{Any,1}\n",
       "typ  :: Any\n",
       "\\end{verbatim}\n"
      ],
      "text/markdown": [
       "No documentation found.\n",
       "\n",
       "**Summary:**\n",
       "\n",
       "```julia\n",
       "type Expr <: Any\n",
       "```\n",
       "\n",
       "**Fields:**\n",
       "\n",
       "```julia\n",
       "head :: Symbol\n",
       "args :: Array{Any,1}\n",
       "typ  :: Any\n",
       "```\n"
      ],
      "text/plain": [
       "No documentation found.\n",
       "\n",
       "**Summary:**\n",
       "\n",
       "```julia\n",
       "type Expr <: Any\n",
       "```\n",
       "\n",
       "**Fields:**\n",
       "\n",
       "```julia\n",
       "head :: Symbol\n",
       "args :: Array{Any,1}\n",
       "typ  :: Any\n",
       "```\n"
      ]
     },
     "execution_count": 138,
     "metadata": {},
     "output_type": "execute_result"
    }
   ],
   "source": [
    "@doc Expr"
   ]
  },
  {
   "cell_type": "code",
   "execution_count": 139,
   "metadata": {
    "collapsed": false
   },
   "outputs": [
    {
     "data": {
      "text/plain": [
       ":(1 + 1)"
      ]
     },
     "execution_count": 139,
     "metadata": {},
     "output_type": "execute_result"
    }
   ],
   "source": [
    "expr2 = Expr(:call, :+, 1, 1)"
   ]
  },
  {
   "cell_type": "code",
   "execution_count": 140,
   "metadata": {
    "collapsed": false
   },
   "outputs": [
    {
     "data": {
      "text/plain": [
       "2"
      ]
     },
     "execution_count": 140,
     "metadata": {},
     "output_type": "execute_result"
    }
   ],
   "source": [
    "expr2 |> eval"
   ]
  },
  {
   "cell_type": "code",
   "execution_count": 141,
   "metadata": {
    "collapsed": false
   },
   "outputs": [
    {
     "data": {
      "text/plain": [
       "differentiate (generic function with 3 methods)"
      ]
     },
     "execution_count": 141,
     "metadata": {},
     "output_type": "execute_result"
    }
   ],
   "source": [
    "# Constant\n",
    "differentiate(x::Number, target::Symbol) = 0"
   ]
  },
  {
   "cell_type": "code",
   "execution_count": 142,
   "metadata": {
    "collapsed": false
   },
   "outputs": [
    {
     "data": {
      "text/plain": [
       "0"
      ]
     },
     "execution_count": 142,
     "metadata": {},
     "output_type": "execute_result"
    }
   ],
   "source": [
    "differentiate(5, :x)"
   ]
  },
  {
   "cell_type": "code",
   "execution_count": 143,
   "metadata": {
    "collapsed": false
   },
   "outputs": [
    {
     "data": {
      "text/plain": [
       "differentiate (generic function with 3 methods)"
      ]
     },
     "execution_count": 143,
     "metadata": {},
     "output_type": "execute_result"
    }
   ],
   "source": [
    "# Just one symbol\n",
    "function differentiate(s::Symbol, target::Symbol)\n",
    "    if s == target\n",
    "        return 1\n",
    "    else\n",
    "        return 0\n",
    "    end\n",
    "end"
   ]
  },
  {
   "cell_type": "code",
   "execution_count": 144,
   "metadata": {
    "collapsed": false
   },
   "outputs": [
    {
     "data": {
      "text/plain": [
       "1"
      ]
     },
     "execution_count": 144,
     "metadata": {},
     "output_type": "execute_result"
    }
   ],
   "source": [
    "differentiate(:x, :x)"
   ]
  },
  {
   "cell_type": "code",
   "execution_count": 145,
   "metadata": {
    "collapsed": false,
    "scrolled": true
   },
   "outputs": [
    {
     "data": {
      "text/plain": [
       "0"
      ]
     },
     "execution_count": 145,
     "metadata": {},
     "output_type": "execute_result"
    }
   ],
   "source": [
    "differentiate(:y, :x)"
   ]
  },
  {
   "cell_type": "code",
   "execution_count": 146,
   "metadata": {
    "collapsed": false
   },
   "outputs": [
    {
     "data": {
      "text/plain": [
       "differentiate_sum (generic function with 1 method)"
      ]
     },
     "execution_count": 146,
     "metadata": {},
     "output_type": "execute_result"
    }
   ],
   "source": [
    "# Sum\n",
    "function differentiate_sum(ex::Expr, target::Symbol)\n",
    "    #@printf \"diff[+]: %s\\n\" ex\n",
    "    n = length(ex.args)\n",
    "    new_args = Array(Any, n)\n",
    "    new_args[1] = :+\n",
    "    for i in 2:n\n",
    "        new_args[i] = differentiate(ex.args[i], target)\n",
    "    end\n",
    "    return Expr(:call, new_args...)\n",
    "end"
   ]
  },
  {
   "cell_type": "code",
   "execution_count": 147,
   "metadata": {
    "collapsed": false
   },
   "outputs": [
    {
     "data": {
      "text/plain": [
       ":(1 + 0)"
      ]
     },
     "execution_count": 147,
     "metadata": {},
     "output_type": "execute_result"
    }
   ],
   "source": [
    "differentiate_sum(:(x + y), :x)"
   ]
  },
  {
   "cell_type": "code",
   "execution_count": 148,
   "metadata": {
    "collapsed": false
   },
   "outputs": [
    {
     "data": {
      "text/plain": [
       "differentiate_subtraction (generic function with 1 method)"
      ]
     },
     "execution_count": 148,
     "metadata": {},
     "output_type": "execute_result"
    }
   ],
   "source": [
    "function differentiate_subtraction(ex::Expr, target::Symbol)\n",
    "    #@printf \"diff[-]: %s\\n\" ex\n",
    "    n = length(ex.args)\n",
    "    new_args = Array(Any, n)\n",
    "    new_args[1] = :-\n",
    "    for i in 2:n\n",
    "        new_args[i] = differentiate(ex.args[i], target)\n",
    "    end\n",
    "    return Expr(:call, new_args...)\n",
    "end"
   ]
  },
  {
   "cell_type": "code",
   "execution_count": 149,
   "metadata": {
    "collapsed": false
   },
   "outputs": [
    {
     "data": {
      "text/plain": [
       ":(1 - 0)"
      ]
     },
     "execution_count": 149,
     "metadata": {},
     "output_type": "execute_result"
    }
   ],
   "source": [
    "differentiate_subtraction(:(x - y), :x)"
   ]
  },
  {
   "cell_type": "code",
   "execution_count": 150,
   "metadata": {
    "collapsed": false
   },
   "outputs": [
    {
     "data": {
      "text/plain": [
       "differentiate_product (generic function with 1 method)"
      ]
     },
     "execution_count": 150,
     "metadata": {},
     "output_type": "execute_result"
    }
   ],
   "source": [
    "function differentiate_product(ex::Expr, target::Symbol)\n",
    "    #@printf \"diff[*]: %s\\n\" ex\n",
    "    n = length(ex.args)\n",
    "    res_args = Array(Any, n)\n",
    "    res_args[1] = :+\n",
    "    for i in 2:n\n",
    "       new_args = Array(Any, n)\n",
    "       new_args[1] = :*\n",
    "       for j in 2:n\n",
    "           if j == i\n",
    "               new_args[j] = differentiate(ex.args[j], target)\n",
    "           else\n",
    "               new_args[j] = ex.args[j]\n",
    "           end\n",
    "       end\n",
    "       res_args[i] = Expr(:call, new_args...)\n",
    "    end\n",
    "    return Expr(:call, res_args...)\n",
    "end"
   ]
  },
  {
   "cell_type": "code",
   "execution_count": 151,
   "metadata": {
    "collapsed": false
   },
   "outputs": [
    {
     "data": {
      "text/plain": [
       ":(1x + x * 1)"
      ]
     },
     "execution_count": 151,
     "metadata": {},
     "output_type": "execute_result"
    }
   ],
   "source": [
    "differentiate_product(:(x * x), :x)"
   ]
  },
  {
   "cell_type": "code",
   "execution_count": 152,
   "metadata": {
    "collapsed": false
   },
   "outputs": [
    {
     "data": {
      "text/plain": [
       "differentiate_quotient (generic function with 1 method)"
      ]
     },
     "execution_count": 152,
     "metadata": {},
     "output_type": "execute_result"
    }
   ],
   "source": [
    "function differentiate_quotient(ex::Expr, target::Symbol)\n",
    "    #@printf \"diff[/]: %s\\n\" ex\n",
    "    return Expr(:call,\n",
    "                :/,\n",
    "                Expr(:call,\n",
    "                    :-,\n",
    "                    Expr(:call,\n",
    "                        :*,\n",
    "                        differentiate(ex.args[2], target),\n",
    "                        ex.args[3]\n",
    "                    ),\n",
    "                    Expr(:call,\n",
    "                        :*,\n",
    "                        ex.args[2],\n",
    "                        differentiate(ex.args[3], target)\n",
    "                    )\n",
    "                ),\n",
    "                Expr(:call,\n",
    "                    :^,\n",
    "                    ex.args[3],\n",
    "                    2\n",
    "                )\n",
    "            )\n",
    "end"
   ]
  },
  {
   "cell_type": "code",
   "execution_count": 153,
   "metadata": {
    "collapsed": false
   },
   "outputs": [
    {
     "data": {
      "text/plain": [
       ":((0y - x * 1) / y ^ 2)"
      ]
     },
     "execution_count": 153,
     "metadata": {},
     "output_type": "execute_result"
    }
   ],
   "source": [
    "differentiate_quotient(:(x / y), :y)"
   ]
  },
  {
   "cell_type": "code",
   "execution_count": 154,
   "metadata": {
    "collapsed": false
   },
   "outputs": [
    {
     "data": {
      "text/plain": [
       "Dict{Symbol,Function} with 4 entries:\n",
       "  :/ => differentiate_quotient\n",
       "  :+ => differentiate_sum\n",
       "  :* => differentiate_product\n",
       "  :- => differentiate_subtraction"
      ]
     },
     "execution_count": 154,
     "metadata": {},
     "output_type": "execute_result"
    }
   ],
   "source": [
    "differentiate_lookup = Dict(\n",
    "  :+ => differentiate_sum,\n",
    "  :- => differentiate_subtraction,\n",
    "  :* => differentiate_product,\n",
    "  :/ => differentiate_quotient\n",
    ")"
   ]
  },
  {
   "cell_type": "code",
   "execution_count": 155,
   "metadata": {
    "collapsed": false
   },
   "outputs": [
    {
     "data": {
      "text/plain": [
       "differentiate (generic function with 3 methods)"
      ]
     },
     "execution_count": 155,
     "metadata": {},
     "output_type": "execute_result"
    }
   ],
   "source": [
    "function differentiate(ex::Expr, target::Symbol)\n",
    "    # @printf \"diff: %s\\n\" ex\n",
    "    if ex.head == :call\n",
    "        if haskey(differentiate_lookup, ex.args[1])\n",
    "            return differentiate_lookup[ex.args[1]](ex, target)\n",
    "        else\n",
    "            error(\"Don't know how to differentiate $(ex.args[1])\")\n",
    "        end\n",
    "    else\n",
    "        return differentiate(ex.head)\n",
    "    end\n",
    "end"
   ]
  },
  {
   "cell_type": "code",
   "execution_count": 156,
   "metadata": {
    "collapsed": false
   },
   "outputs": [
    {
     "data": {
      "text/plain": [
       ":(0 + 1 + (1x + x * 1))"
      ]
     },
     "execution_count": 156,
     "metadata": {},
     "output_type": "execute_result"
    }
   ],
   "source": [
    "differentiate(:(1 + x + x * x), :x)"
   ]
  },
  {
   "cell_type": "code",
   "execution_count": 160,
   "metadata": {
    "collapsed": false
   },
   "outputs": [
    {
     "data": {
      "text/plain": [
       ":(0 + 1 + (0z + x * 1) + (0 * z * z + x * 1 * z + x * z * 1))"
      ]
     },
     "execution_count": 160,
     "metadata": {},
     "output_type": "execute_result"
    }
   ],
   "source": [
    "differentiate(:(1 + z + x * z + x * z * z), :z)"
   ]
  },
  {
   "cell_type": "code",
   "execution_count": null,
   "metadata": {
    "collapsed": true
   },
   "outputs": [],
   "source": []
  }
 ],
 "metadata": {
  "kernelspec": {
   "display_name": "Julia 0.4.5",
   "language": "julia",
   "name": "julia-0.4"
  },
  "language_info": {
   "file_extension": ".jl",
   "mimetype": "application/julia",
   "name": "julia",
   "version": "0.4.5"
  }
 },
 "nbformat": 4,
 "nbformat_minor": 0
}
