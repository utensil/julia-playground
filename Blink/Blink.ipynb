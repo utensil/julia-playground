{
 "cells": [
  {
   "cell_type": "code",
   "execution_count": 24,
   "metadata": {
    "collapsed": false
   },
   "outputs": [
    {
     "name": "stderr",
     "output_type": "stream",
     "text": [
      "INFO: Nothing to be done\n",
      "MethodError: `getindex` has no method matching getindex(::Void, ::ASCIIString)"
     ]
    }
   ],
   "source": [
    "Pkg.add(\"Blink\")"
   ]
  },
  {
   "cell_type": "code",
   "execution_count": 27,
   "metadata": {
    "collapsed": false
   },
   "outputs": [],
   "source": [
    "using Blink"
   ]
  },
  {
   "cell_type": "code",
   "execution_count": 28,
   "metadata": {
    "collapsed": false
   },
   "outputs": [
    {
     "data": {
      "text/plain": [
       "Blink.AtomShell.Window(2,Blink.AtomShell.Electron(Process(`/Users/utensil/.julia/v0.4/Blink/deps/Julia.app/Contents/MacOS/Electron /Users/utensil/.julia/v0.4/Blink/src/AtomShell/main.js port 2610`, ProcessRunning),TCPSocket(active, 0 bytes waiting),Dict{ASCIIString,Any}(\"callback\"=>(anonymous function))),Blink.Page(3,#undef,Dict{ASCIIString,Any}(\"callback\"=>(anonymous function)),Condition(Any[])))"
      ]
     },
     "execution_count": 28,
     "metadata": {},
     "output_type": "execute_result"
    }
   ],
   "source": [
    "w = Window()"
   ]
  },
  {
   "cell_type": "code",
   "execution_count": 29,
   "metadata": {
    "collapsed": false
   },
   "outputs": [
    {
     "data": {
      "text/plain": [
       "\"Julia\""
      ]
     },
     "execution_count": 29,
     "metadata": {},
     "output_type": "execute_result"
    }
   ],
   "source": [
    "julia = \"Julia\""
   ]
  },
  {
   "cell_type": "code",
   "execution_count": 30,
   "metadata": {
    "collapsed": false
   },
   "outputs": [
    {
     "data": {
      "text/plain": [
       "Blink.Page(3,WebSockets.WebSocket(11,TCPSocket(active, 0 bytes waiting),false,false),Dict{ASCIIString,Any}(\"callback\"=>(anonymous function)),Condition(Any[]))"
      ]
     },
     "execution_count": 30,
     "metadata": {},
     "output_type": "execute_result"
    }
   ],
   "source": [
    "body!(w, \"\"\"\n",
    "<div style=\"width: 60%;margin-top: 70px;margin-left: auto;margin-right: auto;\">\n",
    "<h1>Hello $julia</h1>\n",
    "</div>\n",
    "\"\"\")"
   ]
  },
  {
   "cell_type": "code",
   "execution_count": 31,
   "metadata": {
    "collapsed": false
   },
   "outputs": [
    {
     "data": {
      "text/plain": [
       "false"
      ]
     },
     "execution_count": 31,
     "metadata": {},
     "output_type": "execute_result"
    }
   ],
   "source": [
    "loadurl(w, \"http://julialang.org\")"
   ]
  },
  {
   "cell_type": "code",
   "execution_count": 32,
   "metadata": {
    "collapsed": true
   },
   "outputs": [],
   "source": [
    "opentools(w)"
   ]
  },
  {
   "cell_type": "code",
   "execution_count": 33,
   "metadata": {
    "collapsed": false
   },
   "outputs": [
    {
     "data": {
      "text/plain": [
       "Dict{AbstractString,Any} with 5 entries:\n",
       "  \"_eventsCount\"         => 12\n",
       "  \"_events\"              => Dict{AbstractString,Any}()\n",
       "  \"devToolsWebContents\"  => Dict{AbstractString,Any}(\"_events\"=>Dict{AbstractSt…\n",
       "  \"browserWindowOptions\" => Dict{AbstractString,Any}(\"nodeIntegration\"=>false,\"…\n",
       "  \"session\"              => Dict{AbstractString,Any}(\"cookies\"=>Dict{AbstractSt…"
      ]
     },
     "execution_count": 33,
     "metadata": {},
     "output_type": "execute_result"
    }
   ],
   "source": [
    "@js w console.log(\"Hello Julia\")"
   ]
  },
  {
   "cell_type": "code",
   "execution_count": 34,
   "metadata": {
    "collapsed": false
   },
   "outputs": [
    {
     "data": {
      "text/plain": [
       "Dict{AbstractString,Any} with 5 entries:\n",
       "  \"_eventsCount\"         => 12\n",
       "  \"_events\"              => Dict{AbstractString,Any}(\"did-finish-load\"=>Any[not…\n",
       "  \"devToolsWebContents\"  => Dict{AbstractString,Any}(\"_events\"=>Dict{AbstractSt…\n",
       "  \"browserWindowOptions\" => Dict{AbstractString,Any}(\"nodeIntegration\"=>false,\"…\n",
       "  \"session\"              => Dict{AbstractString,Any}(\"cookies\"=>Dict{AbstractSt…"
      ]
     },
     "execution_count": 34,
     "metadata": {},
     "output_type": "execute_result"
    }
   ],
   "source": [
    "@js w Math.log(10)"
   ]
  },
  {
   "cell_type": "code",
   "execution_count": null,
   "metadata": {
    "collapsed": true
   },
   "outputs": [],
   "source": []
  }
 ],
 "metadata": {
  "kernelspec": {
   "display_name": "Julia 0.4.5",
   "language": "julia",
   "name": "julia-0.4"
  },
  "language_info": {
   "file_extension": ".jl",
   "mimetype": "application/julia",
   "name": "julia",
   "version": "0.4.5"
  }
 },
 "nbformat": 4,
 "nbformat_minor": 0
}
