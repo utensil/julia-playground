{
 "cells": [
  {
   "cell_type": "markdown",
   "metadata": {},
   "source": [
    "> Note: The following exercises are inspired by and adapted from [juliaopt-notebook](http://nbviewer.jupyter.org/github/JuliaOpt/juliaopt-notebooks/tree/master/notebooks/)"
   ]
  },
  {
   "cell_type": "code",
   "execution_count": 3,
   "metadata": {
    "collapsed": false
   },
   "outputs": [
    {
     "name": "stderr",
     "output_type": "stream",
     "text": [
      "INFO: Nothing to be done\n"
     ]
    }
   ],
   "source": [
    "Pkg.add(\"JuMP\")"
   ]
  },
  {
   "cell_type": "code",
   "execution_count": null,
   "metadata": {
    "collapsed": false,
    "scrolled": false
   },
   "outputs": [
    {
     "name": "stderr",
     "output_type": "stream",
     "text": [
      "INFO: Computing test dependencies for JuMP...\n",
      "INFO: Cloning cache of ECOS from git://github.com/JuliaOpt/ECOS.jl.git\n",
      "INFO: Cloning cache of Ipopt from git://github.com/JuliaOpt/Ipopt.jl.git\n",
      "INFO: Cloning cache of SCS from git://github.com/JuliaOpt/SCS.jl.git\n",
      "INFO: Installing ECOS v0.6.2\n",
      "INFO: Installing Ipopt v0.2.1\n",
      "INFO: Installing SCS v0.2.1\n",
      "INFO: Building Homebrew\n"
     ]
    },
    {
     "name": "stdout",
     "output_type": "stream",
     "text": [
      "HEAD is now at 53c5089 CoreTap#install: fix clone target setting\n",
      "HEAD is now at c377b50 Merge pull request #92 from staticfloat/staging\n"
     ]
    },
    {
     "name": "stderr",
     "output_type": "stream",
     "text": [
      "INFO: Building ECOS\n"
     ]
    },
    {
     "name": "stdout",
     "output_type": "stream",
     "text": [
      "==> Installing ecos from staticfloat/juliadeps\n",
      "==> Downloading https://juliabottles.s3.amazonaws.com/ecos-2.0.4.el_capitan.bottle.tar.gz\n"
     ]
    },
    {
     "name": "stderr",
     "output_type": "stream",
     "text": [
      "Error: Failed to download resource \"ecos\"\n",
      "Download failed: https://juliabottles.s3.amazonaws.com/ecos-2.0.4.el_capitan.bottle.tar.gz\n",
      "Warning: Bottle installation failed: building from source.\n"
     ]
    },
    {
     "name": "stdout",
     "output_type": "stream",
     "text": [
      "==> Downloading https://github.com/embotech/ecos/archive/v2.0.4.tar.gz\n",
      "==> Downloading from https://codeload.github.com/embotech/ecos/tar.gz/v2.0.4\n",
      "==> make shared\n",
      "==> make test\n",
      "🍺  /Users/utensil/.julia/v0.4/Homebrew/deps/usr/Cellar/ecos/2.0.4: 19 files, 4.6M, built in 26 seconds\n"
     ]
    },
    {
     "name": "stderr",
     "output_type": "stream",
     "text": [
      "Warning: Already linked: /Users/utensil/.julia/v0.4/Homebrew/deps/usr/Cellar/ecos/2.0.4\n",
      "INFO: Building Ipopt\n"
     ]
    },
    {
     "name": "stdout",
     "output_type": "stream",
     "text": [
      "==> Installing ipopt from staticfloat/juliadeps\n",
      "==> Installing dependencies for staticfloat/juliadeps/ipopt: staticfloat/juliadeps/libgfortran\n",
      "==> Installing staticfloat/juliadeps/ipopt dependency: staticfloat/juliadeps/libgfortran\n",
      "==> Downloading https://juliabottles.s3.amazonaws.com/libgfortran-5.2.el_capitan.bottle.tar.gz\n",
      "==> Installing dependencies for staticfloat/juliadeps/libgfortran: mpfr, libmpc, isl, gcc\n",
      "==> Installing staticfloat/juliadeps/libgfortran dependency: mpfr\n",
      "==> Downloading https://homebrew.bintray.com/bottles/mpfr-3.1.3.el_capitan.bottle.tar.gz\n"
     ]
    },
    {
     "name": "stderr",
     "output_type": "stream",
     "text": [
      "Error: Failed to download resource \"libgfortran\"\n",
      "Download failed: https://juliabottles.s3.amazonaws.com/libgfortran-5.2.el_capitan.bottle.tar.gz\n",
      "Warning: Bottle installation failed: building from source.\n"
     ]
    },
    {
     "name": "stdout",
     "output_type": "stream",
     "text": [
      "==> Pouring mpfr-3.1.3.el_capitan.bottle.tar.gz\n",
      "🍺  /Users/utensil/.julia/v0.4/Homebrew/deps/usr/Cellar/mpfr/3.1.3: 25 files, 3.5M\n",
      "==> Installing staticfloat/juliadeps/libgfortran dependency: libmpc\n",
      "==> Downloading https://homebrew.bintray.com/bottles/libmpc-1.0.3.el_capitan.bottle.tar.gz\n",
      "==> Pouring libmpc-1.0.3.el_capitan.bottle.tar.gz\n",
      "🍺  /Users/utensil/.julia/v0.4/Homebrew/deps/usr/Cellar/libmpc/1.0.3: 11 files, 350.1K\n",
      "==> Installing staticfloat/juliadeps/libgfortran dependency: isl\n",
      "==> Downloading https://homebrew.bintray.com/bottles/isl-0.15.el_capitan.bottle.tar.gz\n",
      "==> Pouring isl-0.15.el_capitan.bottle.tar.gz\n",
      "🍺  /Users/utensil/.julia/v0.4/Homebrew/deps/usr/Cellar/isl/0.15: 70 files, 3.6M\n",
      "==> Installing staticfloat/juliadeps/libgfortran dependency: gcc\n"
     ]
    },
    {
     "name": "stderr",
     "output_type": "stream",
     "text": [
      "Warning: Building gcc from source:\n",
      "  The bottle needs the Xcode CLT to be installed.\n"
     ]
    },
    {
     "name": "stdout",
     "output_type": "stream",
     "text": [
      "==> Downloading http://ftpmirror.gnu.org/gcc/gcc-5.3.0/gcc-5.3.0.tar.bz2\n",
      "==> Downloading from http://mirrors.opencas.cn/gnu/gcc/gcc-5.3.0/gcc-5.3.0.tar.bz2\n",
      "==> Patching\n",
      "patching file gcc/jit/Make-lang.in\n",
      "patching file gcc/jit/jit-playback.c\n",
      "Hunk #1 succeeded at 2470 with fuzz 2 (offset 54 lines).\n",
      "==> ../configure --build=x86_64-apple-darwin15.2.0 --prefix=/Users/utensil/.julia/v0.4/Homebrew/deps/usr/Cellar/gcc/5.3.0 --libdir=/Users/utensil/.julia/v0.4/Homebrew/deps/usr/Cellar/gcc/5.3.0/lib/gcc/5 --enable-languages=c,c++,objc,obj-c++,fortran --program-suffix=-5 --with-gmp=/Users/utensil/.julia/v0.4/Homebrew/deps/usr/opt/gmp --with-mpfr=/Users/utensil/.julia/v0.4/Homebrew/deps/usr/opt/mpfr --with-mpc=/Users/utensil/.julia/v0.4/Homebrew/deps/usr/opt/libmpc --with-isl=/Users/utensil/.julia/v0.4/Homebrew/deps/usr/opt/isl --with-system-zlib --enable-libstdcxx-time=yes --enable-stage1-checking --enable-checking=release --enable-lto --with-build-config=bootstrap-debug --disable-werror --with-pkgversion=Homebrew gcc 5.3.0 --with-bugurl=https://github.com/Homebrew/homebrew/issues --enable-plugin --disable-nls --enable-multilib --with-native-system-header-dir=/usr/include --with-sysroot=/Applications/Xcode.app/Contents/Developer/Platforms/MacOSX.platform/Developer/SDKs/MacOSX10.11.sdk\n",
      "==> make bootstrap\n",
      "==> make install\n",
      "==> Caveats\n",
      "GCC has been built with multilib support. Notably, OpenMP may not work:\n",
      "  https://gcc.gnu.org/bugzilla/show_bug.cgi?id=60670\n",
      "If you need OpenMP support you may want to\n",
      "  brew reinstall gcc --without-multilib\n",
      "==> Summary\n",
      "🍺  /Users/utensil/.julia/v0.4/Homebrew/deps/usr/Cellar/gcc/5.3.0: 1,390 files, 254.9M, built in 57 minutes 52 seconds\n",
      "==> Downloading https://github.com/staticfloat/homebrew-libgfortran-formula/archive/master.tar.gz\n",
      "==> Downloading from https://codeload.github.com/staticfloat/homebrew-libgfortran-formula/tar.gz/master\n",
      "==> cp /Users/utensil/.julia/v0.4/Homebrew/deps/usr/Cellar/gcc/5.3.0/lib/gcc/5/libquadmath.0.dylib /Users/utensil/.julia/v0.4/Homebrew/deps/usr/Cellar/libgfortran/5.2/lib\n",
      "==> cp /Users/utensil/.julia/v0.4/Homebrew/deps/usr/Cellar/gcc/5.3.0/lib/gcc/5/libgcc_s.1.dylib /Users/utensil/.julia/v0.4/Homebrew/deps/usr/Cellar/libgfortran/5.2/lib\n",
      "==> cp /Users/utensil/.julia/v0.4/Homebrew/deps/usr/Cellar/gcc/5.3.0/lib/gcc/5/libgfortran.3.dylib /Users/utensil/.julia/v0.4/Homebrew/deps/usr/Cellar/libgfortran/5.2/lib\n"
     ]
    },
    {
     "name": "stderr",
     "output_type": "stream",
     "text": [
      "Warning: SHA1 support is deprecated and will be removed in a future version.\n",
      "Please switch this formula to SHA256.\n"
     ]
    },
    {
     "name": "stdout",
     "output_type": "stream",
     "text": [
      "🍺  /Users/utensil/.julia/v0.4/Homebrew/deps/usr/Cellar/libgfortran/5.2: 8 files, 2M, built in 9 seconds\n",
      "==> Installing staticfloat/juliadeps/ipopt\n",
      "==> Downloading https://juliabottles.s3.amazonaws.com/ipopt-3.12.4.el_capitan.bottle.tar.gz\n",
      "==> Pouring ipopt-3.12.4.el_capitan.bottle.tar.gz\n",
      "🍺  /Users/utensil/.julia/v0.4/Homebrew/deps/usr/Cellar/ipopt/3.12.4: 91 files, 5.8M\n"
     ]
    },
    {
     "name": "stderr",
     "output_type": "stream",
     "text": [
      "Warning: Already linked: /Users/utensil/.julia/v0.4/Homebrew/deps/usr/Cellar/ipopt/3.12.4\n",
      "INFO: Building SCS\n"
     ]
    },
    {
     "name": "stdout",
     "output_type": "stream",
     "text": [
      "==> Installing scs from staticfloat/juliadeps\n",
      "==> Downloading https://juliabottles.s3.amazonaws.com/scs-1.1.8.el_capitan.bottle.tar.gz\n"
     ]
    },
    {
     "name": "stderr",
     "output_type": "stream",
     "text": [
      "Error: Failed to download resource \"scs\"\n",
      "Download failed: https://juliabottles.s3.amazonaws.com/scs-1.1.8.el_capitan.bottle.tar.gz\n",
      "Warning: Bottle installation failed: building from source.\n"
     ]
    },
    {
     "name": "stdout",
     "output_type": "stream",
     "text": [
      "==> Downloading https://github.com/cvxgrp/scs/archive/v1.1.8.tar.gz\n",
      "==> Downloading from https://codeload.github.com/cvxgrp/scs/tar.gz/v1.1.8\n",
      "==> make out/libscsdir.dylib\n",
      "==> make purge\n",
      "==> make out/libscsdir.dylib\n",
      "🍺  /Users/utensil/.julia/v0.4/Homebrew/deps/usr/Cellar/scs/1.1.8: 5 files, 165.1K, built in 29 seconds\n"
     ]
    },
    {
     "name": "stderr",
     "output_type": "stream",
     "text": [
      "Warning: Already linked: /Users/utensil/.julia/v0.4/Homebrew/deps/usr/Cellar/scs/1.1.8\n",
      "INFO: Testing JuMP\n",
      "INFO: Recompiling stale cache file /Users/utensil/.julia/lib/v0.4/JuMP.ji for module JuMP.\n",
      "INFO: Recompiling stale cache file /Users/utensil/.julia/lib/v0.4/ForwardDiff.ji for module ForwardDiff.\n",
      "WARNING: New definition \n",
      "    atan2(ForwardDiff.GradientNumber, Real) at /Users/utensil/.julia/v0.4/ForwardDiff/src/GradientNumber.jl:208\n",
      "is ambiguous with: \n",
      "    atan2(Real, ForwardDiff.GradientNumber) at /Users/utensil/.julia/v0.4/ForwardDiff/src/GradientNumber.jl:208.\n",
      "To fix, define \n",
      "    atan2(ForwardDiff.GradientNumber, ForwardDiff.GradientNumber)\n",
      "before the new definition.\n",
      "WARNING: New definition \n",
      "    *(Real, ForwardDiff.HessianNumber) at /Users/utensil/.julia/v0.4/ForwardDiff/src/HessianNumber.jl:98\n",
      "is ambiguous with: \n",
      "    *(ForwardDiff.HessianNumber, Real) at /Users/utensil/.julia/v0.4/ForwardDiff/src/HessianNumber.jl:97.\n",
      "To fix, define \n",
      "    *(ForwardDiff.HessianNumber, ForwardDiff.HessianNumber)\n",
      "before the new definition.\n",
      "WARNING: New definition \n",
      "    /(Real, ForwardDiff.HessianNumber) at /Users/utensil/.julia/v0.4/ForwardDiff/src/HessianNumber.jl:126\n",
      "is ambiguous with: \n",
      "    /(ForwardDiff.HessianNumber, Real) at /Users/utensil/.julia/v0.4/ForwardDiff/src/HessianNumber.jl:123.\n",
      "To fix, define \n",
      "    /(ForwardDiff.HessianNumber, ForwardDiff.HessianNumber)\n",
      "before the new definition.\n",
      "WARNING: New definition \n",
      "    ^(Real, ForwardDiff.HessianNumber) at /Users/utensil/.julia/v0.4/ForwardDiff/src/HessianNumber.jl:176\n",
      "is ambiguous with: \n",
      "    ^(ForwardDiff.HessianNumber, Real) at /Users/utensil/.julia/v0.4/ForwardDiff/src/HessianNumber.jl:167.\n",
      "To fix, define \n",
      "    ^(ForwardDiff.HessianNumber, ForwardDiff.HessianNumber)\n",
      "before the new definition.\n",
      "WARNING: New definition \n",
      "    atan2(ForwardDiff.HessianNumber, Real) at /Users/utensil/.julia/v0.4/ForwardDiff/src/HessianNumber.jl:268\n",
      "is ambiguous with: \n",
      "    atan2(Real, ForwardDiff.HessianNumber) at /Users/utensil/.julia/v0.4/ForwardDiff/src/HessianNumber.jl:268.\n",
      "To fix, define \n",
      "    atan2(ForwardDiff.HessianNumber, ForwardDiff.HessianNumber)\n",
      "before the new definition.\n",
      "WARNING: New definition \n",
      "    *(Real, ForwardDiff.TensorNumber) at /Users/utensil/.julia/v0.4/ForwardDiff/src/TensorNumber.jl:107\n",
      "is ambiguous with: \n",
      "    *(ForwardDiff.TensorNumber, Real) at /Users/utensil/.julia/v0.4/ForwardDiff/src/TensorNumber.jl:106.\n",
      "To fix, define \n",
      "    *(ForwardDiff.TensorNumber, ForwardDiff.TensorNumber)\n",
      "before the new definition.\n",
      "WARNING: New definition \n",
      "    /(Real, ForwardDiff.TensorNumber) at /Users/utensil/.julia/v0.4/ForwardDiff/src/TensorNumber.jl:142\n",
      "is ambiguous with: \n",
      "    /(ForwardDiff.TensorNumber, Real) at /Users/utensil/.julia/v0.4/ForwardDiff/src/TensorNumber.jl:139.\n",
      "To fix, define \n",
      "    /(ForwardDiff.TensorNumber, ForwardDiff.TensorNumber)\n",
      "before the new definition.\n",
      "WARNING: New definition \n",
      "    ^(Real, ForwardDiff.TensorNumber) at /Users/utensil/.julia/v0.4/ForwardDiff/src/TensorNumber.jl:211\n",
      "is ambiguous with: \n",
      "    ^(ForwardDiff.TensorNumber, Real) at /Users/utensil/.julia/v0.4/ForwardDiff/src/TensorNumber.jl:197.\n",
      "To fix, define \n",
      "    ^(ForwardDiff.TensorNumber, ForwardDiff.TensorNumber)\n",
      "before the new definition.\n",
      "WARNING: New definition \n",
      "    atan2(ForwardDiff.TensorNumber, Real) at /Users/utensil/.julia/v0.4/ForwardDiff/src/TensorNumber.jl:332\n",
      "is ambiguous with: \n",
      "    atan2(Real, ForwardDiff.TensorNumber) at /Users/utensil/.julia/v0.4/ForwardDiff/src/TensorNumber.jl:332.\n",
      "To fix, define \n",
      "    atan2(ForwardDiff.TensorNumber, ForwardDiff.TensorNumber)\n",
      "before the new definition.\n",
      "INFO: Recompiling stale cache file /Users/utensil/.julia/lib/v0.4/ReverseDiffSparse.ji for module ReverseDiffSparse.\n"
     ]
    },
    {
     "name": "stdout",
     "output_type": "stream",
     "text": [
      "[print] JuMPContainer{Variable}\n",
      "  > bound printing\n",
      "  > index set printing\n",
      "  > category printing\n",
      "  > Empty JuMPContainer printing (#124)\n",
      "108 facts verified.\n",
      "[print] JuMPContainer{Number}\n",
      "6 facts verified.\n",
      "[print] SOS constraints\n",
      "6 facts verified.\n",
      "[print] Model\n",
      "8 facts verified.\n",
      "[print] changing variable categories\n",
      "2 facts verified.\n",
      "[print] expressions\n",
      "9 facts verified.\n",
      "[print] Variable\n",
      "32 facts verified.\n",
      "[print] User-created Array{Variable}\n",
      "6 facts verified.\n",
      "[print] basename keyword argument\n",
      "15 facts verified.\n",
      "[variable] constructors\n",
      "11 facts verified.\n",
      "[variable] get and set bounds\n",
      "14 facts verified.\n",
      "[variable] get and set values\n",
      "3 facts verified.\n",
      "[variable] get and set category\n",
      "2 facts verified.\n",
      "[variable] repeated elements in index set (issue #199)\n",
      "1 fact verified.\n",
      "[variable] condition in indexing\n",
      "3 facts verified.\n",
      "[variable] @variable returning Array{Variable}\n"
     ]
    },
    {
     "name": "stderr",
     "output_type": "stream",
     "text": [
      "WARNING: Variable value not defined for component of x. Check that the model was properly solved.\n"
     ]
    },
    {
     "name": "stdout",
     "output_type": "stream",
     "text": [
      "6 facts verified.\n",
      "[variable] getvalue on empty things\n"
     ]
    },
    {
     "name": "stderr",
     "output_type": "stream",
     "text": [
      "WARNING: Variable value not defined for component of z. Check that the model was properly solved.\n"
     ]
    },
    {
     "name": "stdout",
     "output_type": "stream",
     "text": [
      "5 facts verified.\n",
      "[variable] Slices of JuMPArray (#684)\n",
      "33 facts verified.\n",
      "[variable] Can't use end for indexing a JuMPContainer\n",
      "6 facts verified.\n",
      "[expr] Test expression construction\n",
      "  > AffExpr\n",
      "  > QuadExpr\n",
      "8 facts verified.\n",
      "[expr] Test getvalue(expr)\n",
      "2 facts verified.\n",
      "[expr] Test expression iterators\n",
      "4 facts verified.\n",
      "[operator] Testing basic operator overloads\n",
      "  > Number--???\n",
      "  > Variable--???\n",
      "  > Norm--???\n",
      "  > AffExpr--???\n",
      "  > QuadExpr--???\n",
      "  > SOCExpr--???\n",
      "290 facts verified.\n",
      "[operator] Higher-level operators\n",
      "  > sum\n",
      "  > dot\n",
      "18 facts verified.\n",
      "Vectorized operations\n",
      "  > Transpose\n",
      "  > Vectorized arithmetic\n",
      "  > Dot-ops\n",
      "  > Vectorized comparisons\n",
      "86 facts verified.\n",
      "[operator] JuMPArray concatenation\n",
      "9 facts verified.\n",
      "[macros] Check Julia expression parsing\n",
      "13 facts verified.\n",
      "[macros] Check @constraint basics\n",
      "11 facts verified.\n",
      "[macros] Checking @variable with reverse direction bounds\n",
      "2 facts verified.\n",
      "[macros] sum{}\n",
      "5 facts verified.\n",
      "[macros] Problem modification\n",
      "4 facts verified.\n",
      "[macros] Using pre-built affine is OK in macro\n",
      "4 facts verified.\n",
      "[macros] Test ranges in @variable\n",
      "10 facts verified.\n",
      "[macros] Unicode comparisons\n",
      "9 facts verified.\n",
      "[macros] Three argument @constraint\n",
      "3 facts verified.\n",
      "[macros] @constraints\n",
      "4 facts verified.\n",
      "[macros] @NLconstraints\n",
      "5 facts verified.\n",
      "[macros] Vectors in nonlinear expressions\n",
      "2 facts verified.\n",
      "[macros] @objective with quadratic\n",
      "1 fact verified.\n",
      "[macros] @constraint with quadratic\n",
      "13 facts verified.\n",
      "[macros] Triangular indexing, iteration\n",
      "158 facts verified.\n",
      "[macros] Multidimensional indexing\n",
      "1 fact verified.\n"
     ]
    },
    {
     "name": "stderr",
     "output_type": "stream",
     "text": [
      "WARNING: The two-argument version of @defExpr is deprecated. The corresponding JuMP model is now required as the first argument. The new syntax is @expression(<JuMP model>, <name of expression(s)>, <expression>)\n",
      "WARNING: The one-argument version of @defExpr is deprecated. The corresponding JuMP model is now required as the first argument, and a name for the expression or collection of expressions is required as the second argument. The new syntax is @expression(<JuMP model>, <name of expression(s)>, <expression>)\n"
     ]
    },
    {
     "name": "stdout",
     "output_type": "stream",
     "text": [
      "[macros] @expression\n",
      "6 facts verified.\n",
      "[macros] Conditions in constraint indexing\n",
      "7 facts verified.\n",
      "[macros] Test changes in condition parsing\n",
      "4 facts verified.\n",
      "[macros] Norm parsing\n",
      "5 facts verified.\n",
      "[macros] Extraneous terms in QuadExpr (#535)\n",
      "1 fact verified.\n",
      "[macros] Special-case binary multiplication in addtoexpr_reorder (#537)\n",
      "3 facts verified.\n",
      "[macros] Indices in macros don't leak out of scope (#582)\n",
      "25 facts verified.\n",
      "[macros] Issue #621\n",
      "1 fact verified.\n",
      "[macros] @variables and @constraints\n",
      "13 facts verified.\n",
      "[macros] No bare symbols in constraint macros\n",
      "6 facts verified.\n",
      "[macros] LB/UB kwargs\n",
      "6 facts verified.\n",
      "[fuzzer] Check macros for expression construction\n",
      "[model] Check error cases\n"
     ]
    },
    {
     "name": "stderr",
     "output_type": "stream",
     "text": [
      "WARNING: Variable value not defined for errVar. Check that the model was properly solved.\n"
     ]
    },
    {
     "name": "stdout",
     "output_type": "stream",
     "text": [
      "6 facts verified.\n",
      "[model] Performance warnings\n"
     ]
    },
    {
     "name": "stderr",
     "output_type": "stream",
     "text": [
      "WARNING: Variable value not defined for x. Check that the model was properly solved.\n",
      "WARNING: The addition operator has been used on JuMP expressions a large number of times. This warning is safe to ignore but may indicate that model generation is slower than necessary. For performance reasons, you should not add expressions in a loop. Instead of x += y, use append!(x,y) to modify x in place. If y is a single variable, you may also use push!(x, coef, y) in place of x += coef*y.\n"
     ]
    },
    {
     "name": "stdout",
     "output_type": "stream",
     "text": [
      "0 facts verified.\n",
      "[model] Test printing a model\n",
      "Warning, MPS does not support maximization sense. Flipping objective coefficients.\n",
      "65 facts verified.\n",
      "[model] Quadratic MPS writer\n",
      "20 facts verified.\n",
      "[model] Test solving a MILP\n",
      "  > With solver Cbc.CbcMathProgSolverInterface.CbcSolver\n",
      "  > With solver GLPKMathProgInterface.GLPKInterfaceMIP.GLPKSolverMIP\n",
      "20 facts verified.\n",
      "[model] Test solving an LP (Min)\n",
      "  > With solver Clp.ClpMathProgSolverInterface.ClpSolver\n",
      "  > With solver GLPKMathProgInterface.GLPKInterfaceLP.GLPKSolverLP\n",
      "  > With solver Ipopt.IpoptSolver\n",
      "\n",
      "******************************************************************************\n",
      "This program contains Ipopt, a library for large-scale nonlinear optimization.\n",
      " Ipopt is released as open source code under the Eclipse Public License (EPL).\n",
      "         For more information visit http://projects.coin-or.org/Ipopt\n",
      "******************************************************************************\n",
      "\n",
      "  > With solver ECOS.ECOSSolver\n",
      "  > With solver SCS.SCSSolver\n",
      "95 facts verified.\n",
      "[model] Test solving an LP (Max)\n",
      "  > With solver Clp.ClpMathProgSolverInterface.ClpSolver\n",
      "  > With solver GLPKMathProgInterface.GLPKInterfaceLP.GLPKSolverLP\n",
      "  > With solver Ipopt.IpoptSolver\n",
      "  > With solver ECOS.ECOSSolver\n",
      "  > With solver SCS.SCSSolver\n",
      "95 facts verified.\n",
      "[model] Test binary variable handling\n",
      "  > With solver Cbc.CbcMathProgSolverInterface.CbcSolver\n",
      "  > With solver GLPKMathProgInterface.GLPKInterfaceMIP.GLPKSolverMIP\n",
      "4 facts verified.\n",
      "[model] Test model copying\n",
      "28 facts verified.\n",
      "[model] Test variable/model 'hygiene'\n",
      "  > Linear constraint\n",
      "  > Linear objective\n",
      "  > Quadratic constraint\n",
      "  > Affine in quadratic constraint\n",
      "  > Quadratic objective\n",
      "5 facts verified.\n",
      "[model] Test NaN checking\n",
      "3 facts verified.\n",
      "[model] Test column-wise modeling\n",
      "9 facts verified.\n",
      "[model] Test all MPS paths\n",
      "Warning, MPS does not support maximization sense. Flipping objective coefficients.\n",
      "0 facts verified.\n",
      "[model] Test all LP paths\n",
      "1 fact verified.\n",
      "[model] Test semi-continuous variables\n",
      "0 facts verified.\n",
      "[model] Test semi-integer variables\n",
      "0 facts verified.\n",
      "[model] Test fixed variables don't leak through MPB\n",
      "  > With solver Clp.ClpMathProgSolverInterface.ClpSolver\n",
      "  > With solver GLPKMathProgInterface.GLPKInterfaceLP.GLPKSolverLP\n",
      "  > With solver Ipopt.IpoptSolver\n",
      "  > With solver ECOS.ECOSSolver\n",
      "  > With solver SCS.SCSSolver\n",
      "  > With solver Cbc.CbcMathProgSolverInterface.CbcSolver\n",
      "  > With solver GLPKMathProgInterface.GLPKInterfaceMIP.GLPKSolverMIP\n"
     ]
    },
    {
     "name": "stderr",
     "output_type": "stream",
     "text": [
      "WARNING: Ignoring partial starting solution. Cbc requires a feasible value to be specified for all variables.\n"
     ]
    },
    {
     "name": "stdout",
     "output_type": "stream",
     "text": [
      "27 facts verified.\n",
      "[model] Test SOS constraints\n",
      "  > With solver Cbc.CbcMathProgSolverInterface.CbcSolver\n"
     ]
    },
    {
     "name": "stderr",
     "output_type": "stream",
     "text": [
      "WARNING: Solver does not appear to support providing initial feasible solutions.\n"
     ]
    },
    {
     "name": "stdout",
     "output_type": "stream",
     "text": [
      "Cbc3007W No integer variables - nothing to do\n",
      "Cbc3007W No integer variables - nothing to do\n",
      "10 facts verified.\n",
      "[model] Test vectorized model creation\n",
      "2 facts verified.\n",
      "[model] Test MIQP vectorization\n",
      "2 facts verified.\n",
      "[model] Test setsolver\n",
      "26 facts verified.\n",
      "[model] Setting solve hook\n",
      "2 facts verified.\n",
      "[model] Setting print hook\n",
      "1 fact verified.\n",
      "[model] Test linearindex\n",
      "5 facts verified.\n",
      "[model] Test LinearConstraint from ConstraintRef\n",
      "1 fact verified.\n",
      "[model] Test getvalue on OneIndexedArrays\n",
      "2 facts verified.\n",
      "[model] Relaxation keyword argument to solve\n",
      "24 facts verified.\n",
      "[model] Unrecognized keyword argument to solve\n",
      "1 fact verified.\n",
      "[probmod] Testing problem modification basics\n",
      "  > With solver Clp.ClpMathProgSolverInterface.ClpSolver\n",
      "  > With solver GLPKMathProgInterface.GLPKInterfaceLP.GLPKSolverLP\n",
      "  > With solver Ipopt.IpoptSolver\n",
      "  > With solver ECOS.ECOSSolver\n",
      "  > With solver SCS.SCSSolver\n",
      "65 facts verified.\n",
      "[probmod] Testing problem modification part two\n",
      "  > With solver Cbc.CbcMathProgSolverInterface.CbcSolver\n"
     ]
    },
    {
     "name": "stderr",
     "output_type": "stream",
     "text": [
      "WARNING: Solver does not appear to support adding variables to an existing model. Hot-start is disabled.\n",
      "WARNING: Solver does not appear to support hot-starts. Model will be built from scratch.\n"
     ]
    },
    {
     "name": "stdout",
     "output_type": "stream",
     "text": [
      "Presolve 0 (-1) rows, 0 (-3) columns and 0 (-3) elements\n",
      "Optimal - objective value 3.3\n",
      "After Postsolve, objective 3.3, infeasibilities - dual 0.9999999 (1), primal 0 (0)\n",
      "Presolved model was optimal, full model needs cleaning up\n",
      "0  Obj 3.3 Dual inf 0.9999999 (1)\n",
      "1  Obj 3.3\n",
      "Optimal - objective value 3.3\n",
      "Optimal objective 3.3 - 1 iterations time 0.002, Presolve 0.00\n",
      "Cbc0045I Solution with objective value -3.3 saved\n",
      "Presolve 0 (-3) rows, 0 (-3) columns and 0 (-7) elements\n",
      "Optimal - objective value 2.2\n",
      "After Postsolve, objective 2.2, infeasibilities - dual 0 (0), primal 0 (0)\n",
      "Optimal objective 2.2 - 0 iterations time 0.002, Presolve 0.00\n",
      "Cbc0045I Solution with objective value -2.2 saved\n",
      "  > With solver GLPKMathProgInterface.GLPKInterfaceMIP.GLPKSolverMIP\n"
     ]
    },
    {
     "name": "stderr",
     "output_type": "stream",
     "text": [
      "WARNING: Solver does not appear to support adding constraints to an existing model. Hot-start is disabled.\n"
     ]
    },
    {
     "name": "stdout",
     "output_type": "stream",
     "text": [
      "36 facts verified.\n",
      "[probmod] Test adding a range constraint and modifying it\n",
      "1 fact verified.\n",
      "[probmod] Test adding a 'decoupled' variable (#205)\n",
      "  > With solver Clp.ClpMathProgSolverInterface.ClpSolver\n",
      "  > With solver GLPKMathProgInterface.GLPKInterfaceLP.GLPKSolverLP\n",
      "Presolve 0 (-3) rows, 0 (-3) columns and 0 (-7) elements\n",
      "Optimal - objective value 101.1\n",
      "After Postsolve, objective 101.1, infeasibilities - dual 0 (0), primal 0 (0)\n",
      "Optimal objective 101.1 - 0 iterations time 0.002, Presolve 0.00\n",
      "Cbc0045I Solution with objective value -101.1 saved\n",
      "  > With solver Ipopt.IpoptSolver\n",
      "  > With solver ECOS.ECOSSolver\n",
      "  > With solver SCS.SCSSolver\n",
      "10 facts verified.\n",
      "[probmod] Test JuMP.build\n",
      "  > With solver Clp.ClpMathProgSolverInterface.ClpSolver\n",
      "  > With solver GLPKMathProgInterface.GLPKInterfaceLP.GLPKSolverLP\n",
      "  > With solver Ipopt.IpoptSolver\n",
      "  > With solver ECOS.ECOSSolver\n",
      "  > With solver SCS.SCSSolver\n",
      "40 facts verified.\n",
      "[probmod] Test JuMP.build with MIP\n",
      "  > With solver Cbc.CbcMathProgSolverInterface.CbcSolver\n",
      "  > With solver GLPKMathProgInterface.GLPKInterfaceMIP.GLPKSolverMIP\n",
      "12 facts verified.\n",
      "[probmod] Test adding empty constraints\n",
      "  > With solver Clp.ClpMathProgSolverInterface.ClpSolver\n",
      "  > With solver GLPKMathProgInterface.GLPKInterfaceLP.GLPKSolverLP\n",
      "  > With solver Ipopt.IpoptSolver\n",
      "  > With solver ECOS.ECOSSolver\n",
      "  > With solver SCS.SCSSolver\n",
      "10 facts verified.\n",
      "[probmod] Test bound modification on binaries\n",
      "  > With solver Cbc.CbcMathProgSolverInterface.CbcSolver\n",
      "Optimal - objective value 1\n",
      "Optimal objective 1 - 0 iterations time 0.002\n",
      "Cbc0045I Solution with objective value -1 saved\n",
      "Optimal - objective value 0\n",
      "Optimal objective 0 - 0 iterations time 0.002\n",
      "Cbc0045I Solution with objective value 0 saved\n",
      "  > With solver GLPKMathProgInterface.GLPKInterfaceMIP.GLPKSolverMIP\n",
      "12 facts verified.\n",
      "[probmod] Applicable regressions\n",
      "  > Clp\n",
      "  > Cbc\n",
      "  > GLPK LP\n",
      "  > GLPK MIP\n",
      "72 facts verified.\n",
      "[callback] Test lazy constraints\n",
      "  > With solver GLPKMathProgInterface.GLPKInterfaceMIP.GLPKSolverMIP\n",
      "8 facts verified.\n",
      "[callback] Test user cuts\n",
      "  > With solver GLPKMathProgInterface.GLPKInterfaceMIP.GLPKSolverMIP\n",
      "3 facts verified.\n",
      "[callback] Test heuristics\n",
      "  > With solver GLPKMathProgInterface.GLPKInterfaceMIP.GLPKSolverMIP\n"
     ]
    },
    {
     "name": "stderr",
     "output_type": "stream",
     "text": [
      "WARNING: Ignoring infeasible solution from heuristic callback\n"
     ]
    },
    {
     "name": "stdout",
     "output_type": "stream",
     "text": [
      "6 facts verified.\n",
      "[callback] Test informational callback\n",
      "0 facts verified.\n",
      "[callback] Callback exit on CallbackAbort\n",
      "  > With solver GLPKMathProgInterface.GLPKInterfaceMIP.GLPKSolverMIP\n"
     ]
    },
    {
     "name": "stderr",
     "output_type": "stream",
     "text": [
      "WARNING: Not solved to optimality, status: UserLimit\n"
     ]
    },
    {
     "name": "stdout",
     "output_type": "stream",
     "text": [
      "1 fact verified.\n",
      "[qcqpmodel] Test quad objective (discrete)\n",
      "0 facts verified.\n",
      "[qcqpmodel] Test quad objective (continuous)\n",
      "  > With solver Ipopt.IpoptSolver\n",
      "9 facts verified.\n",
      "[qcqpmodel] Test quad constraints (continuous)\n",
      "  > With solver Ipopt.IpoptSolver\n",
      "19 facts verified.\n",
      "[qcqpmodel] Test SOC constraints (continuous)\n",
      "  > With solver ECOS.ECOSSolver\n",
      "  > With solver SCS.SCSSolver\n",
      "32 facts verified.\n",
      "[qcqpmodel] Test SOC duals\n",
      "  > With solver ECOS.ECOSSolver\n",
      "  > With solver SCS.SCSSolver\n",
      "20 facts verified.\n",
      "[qcqpmodel] Test quad constraints (discrete)\n",
      "0 facts verified.\n",
      "[qcqpmodel] Test simple normed problem\n",
      "  > With solver ECOS.ECOSSolver\n",
      "  > With solver SCS.SCSSolver\n",
      "10 facts verified.\n",
      "[qcqpmodel] Test quad problem modification\n",
      "  > With solver Ipopt.IpoptSolver\n",
      "10 facts verified.\n",
      "[qcqpmodel] Rotated second-order cones\n",
      "0 facts verified.\n",
      "[nonlinear] Test getvalue on arrays\n",
      "5 facts verified.\n",
      "[nonlinear] Test HS071 solves correctly\n",
      "  > With solver Ipopt.IpoptSolver\n",
      "  > With solver NLopt.NLoptSolver\n",
      "6 facts verified.\n"
     ]
    },
    {
     "name": "stderr",
     "output_type": "stream",
     "text": [
      "WARNING: Nonlinear solver does not provide dual solutions\n"
     ]
    },
    {
     "name": "stdout",
     "output_type": "stream",
     "text": [
      "[nonlinear] Test HS071 solves correctly, epigraph\n",
      "  > With solver Ipopt.IpoptSolver\n",
      "  > With solver NLopt.NLoptSolver\n",
      "4 facts verified.\n",
      "[nonlinear] Test ifelse\n",
      "  > With solver Ipopt.IpoptSolver\n",
      "2 facts verified.\n",
      "[nonlinear] Accepting fixed variables\n",
      "  > With solver Ipopt.IpoptSolver, simplify = true\n",
      "  > With solver Ipopt.IpoptSolver, simplify = false\n",
      "  > With solver NLopt.NLoptSolver, simplify = true\n",
      "  > With solver NLopt.NLoptSolver, simplify = false\n",
      "16 facts verified.\n",
      "[nonlinear] Test QP solve through NL pathway\n",
      "  > With solver Ipopt.IpoptSolver\n",
      "  > With solver NLopt.NLoptSolver\n",
      "16 facts verified.\n",
      "[nonlinear] Test quad con solve through NL pathway\n",
      "  > With solver Ipopt.IpoptSolver\n",
      "  > With solver NLopt.NLoptSolver\n",
      "6 facts verified.\n",
      "[nonlinear] Test resolve with parameter\n",
      "  > With solver Ipopt.IpoptSolver, simplify = true\n",
      "  > With solver Ipopt.IpoptSolver, simplify = false\n",
      "  > With solver NLopt.NLoptSolver, simplify = true\n",
      "  > With solver NLopt.NLoptSolver, simplify = false\n",
      "16 facts verified.\n",
      "[nonlinear] Test two-sided nonlinear constraints\n",
      "  > With solver Ipopt.IpoptSolver\n",
      "  > With solver NLopt.NLoptSolver\n",
      "8 facts verified.\n",
      "[nonlinear] Quadratic equality constraints\n",
      "  > With solver Ipopt.IpoptSolver\n",
      "  > With solver NLopt.NLoptSolver\n"
     ]
    },
    {
     "name": "stderr",
     "output_type": "stream",
     "text": [
      "WARNING: Not solved to optimality, status: Suboptimal\n"
     ]
    },
    {
     "name": "stdout",
     "output_type": "stream",
     "text": [
      "    Failure :: (line:505) :: With solver NLopt.NLoptSolver :: fact was false\n",
      "      Expression: status --> :(:Optimal)\n",
      "        Expected: :Optimal\n",
      "        Occurred: :Suboptimal\n",
      "    Failure :: (line:505) :: With solver NLopt.NLoptSolver :: fact was false\n",
      "      Expression: getvalue(x) --> roughly([sqrt(1 / 2),0],1.0e-6)\n",
      "        Expected: [0.0,0.0] ≅ [0.7071067811865476,0.0]\n",
      "Out of 4 total facts:\n",
      "  Verified: 2\n",
      "  Failed:   2\n",
      "[nonlinear] Test mixed integer nonlinear problems\n",
      "0 facts verified.\n",
      "[nonlinear] Test continuous relaxation of minlp test problem\n",
      "  > With solver Ipopt.IpoptSolver\n",
      "  > With solver NLopt.NLoptSolver\n",
      "10 facts verified.\n",
      "[nonlinear] Test maximization objective\n",
      "  > With solver Ipopt.IpoptSolver\n",
      "  > With solver NLopt.NLoptSolver\n",
      "6 facts verified.\n"
     ]
    },
    {
     "name": "stderr",
     "output_type": "stream",
     "text": [
      "WARNING: in @NLexpression(quadexpr2,x + x ^ 2 + x * y + y ^ 2): three arguments are required.\n",
      "Note that the syntax of @NLexpression has recently changed:\n",
      "The first argument should be the model to which the expression is attached.\n",
      "The second is the name of the expression (or collection of expressions).\n",
      "The third is the expression itself.\n",
      "Example:\n",
      "@NLexpression(m, my_expr, x^2/y)\n",
      "@NLexpression(m, my_expr_collection[i=1:2], sin(z[i])^2)\n",
      "Support for the old syntax (with the model omitted) will be removed in an upcoming release.\n",
      "WARNING: in @NLexpression(x + x ^ 2 + x * y + y ^ 2): three arguments are required.\n",
      "Note that the syntax of @NLexpression has recently changed:\n",
      "The first argument should be the model to which the expression is attached.\n",
      "The second is the name of the expression (or collection of expressions).\n",
      "The third is the expression itself.\n",
      "Example:\n",
      "@NLexpression(m, my_expr, x^2/y)\n",
      "@NLexpression(m, my_expr_collection[i=1:2], sin(z[i])^2)\n",
      "Support for the old syntax (with the model omitted) will be removed in an upcoming release.\n"
     ]
    },
    {
     "name": "stdout",
     "output_type": "stream",
     "text": [
      "[nonlinear] Test maximization objective (embedded expressions)\n",
      "  > With solver Ipopt.IpoptSolver, simplify = true\n",
      "  > With solver Ipopt.IpoptSolver, simplify = false\n",
      "  > With solver NLopt.NLoptSolver, simplify = true\n",
      "  > With solver NLopt.NLoptSolver, simplify = false\n",
      "24 facts verified.\n",
      "[nonlinear] Test infeasibility detection\n",
      "  > With solver Ipopt.IpoptSolver\n",
      "1 fact verified.\n",
      "[nonlinear] Test unboundedness detection\n",
      "  > With solver Ipopt.IpoptSolver\n",
      "1 fact verified.\n",
      "[nonlinear] Test entropy maximization\n",
      "  > With solver Ipopt.IpoptSolver\n",
      "  > With solver NLopt.NLoptSolver\n",
      "4 facts verified.\n",
      "[nonlinear] Test entropy maximization (reformulation)\n",
      "  > With solver Ipopt.IpoptSolver\n",
      "  > With solver NLopt.NLoptSolver\n"
     ]
    }
   ],
   "source": [
    "Pkg.test(\"JuMP\")"
   ]
  },
  {
   "cell_type": "code",
   "execution_count": 1,
   "metadata": {
    "collapsed": false
   },
   "outputs": [
    {
     "name": "stderr",
     "output_type": "stream",
     "text": [
      "INFO: Nothing to be done\n",
      "INFO: Nothing to be done\n",
      "INFO: Nothing to be done\n"
     ]
    }
   ],
   "source": [
    "for pkg in [\"GLPKMathProgInterface\", \"Cbc\", \"Clp\"]\n",
    "  Pkg.add(pkg)\n",
    "end"
   ]
  },
  {
   "cell_type": "code",
   "execution_count": 2,
   "metadata": {
    "collapsed": false
   },
   "outputs": [
    {
     "name": "stderr",
     "output_type": "stream",
     "text": [
      "INFO: Testing GLPKMathProgInterface\n"
     ]
    },
    {
     "name": "stdout",
     "output_type": "stream",
     "text": [
      "Testing linprog with solver GLPKMathProgInterface.GLPKInterfaceLP.GLPKSolverLP\n"
     ]
    },
    {
     "name": "stderr",
     "output_type": "stream",
     "text": [
      "WARNING: Element type Int64 does not have an infinite value. Note that this may artifically introduce ranged (two-sided) constraints. To avoid this, consider casting the problem data to Float64.\n"
     ]
    },
    {
     "name": "stdout",
     "output_type": "stream",
     "text": [
      "Passed\n",
      "Testing mixintprog with solver GLPKMathProgInterface.GLPKInterfaceMIP.GLPKSolverMIP\n",
      "Done\n",
      "Problem LIN1\n",
      "Problem LIN1A\n",
      "Problem LIN2\n",
      "Problem LIN2A\n",
      "Problem LIN3\n",
      "Problem LIN4\n",
      "Problem LIN1\n",
      "Problem LIN1A\n",
      "Problem LIN2\n",
      "Problem LIN2A\n",
      "Problem LIN3\n",
      "glp_intopt: optimal basis to initial LP relaxation not provided\n",
      "Problem LIN4\n",
      "glp_intopt: optimal basis to initial LP relaxation not provided\n"
     ]
    },
    {
     "name": "stderr",
     "output_type": "stream",
     "text": [
      "INFO: GLPKMathProgInterface tests passed\n",
      "INFO: Computing test dependencies for Cbc...\n",
      "INFO: No packages to install, update or remove\n",
      "INFO: Testing Cbc\n"
     ]
    },
    {
     "name": "stdout",
     "output_type": "stream",
     "text": [
      "Solution status: Optimal\n",
      "Optimal value: -7.0\n",
      "Solution vector: [1.0,1.0,0.0,0.0,1.0]\n",
      "Testing mixintprog with solver Cbc.CbcMathProgSolverInterface.CbcSolver\n",
      "Done\n",
      "Cgl0004I processed model has 1 rows, 5 columns (5 integer (5 of which binary)) and 5 elements\n",
      "Cutoff increment increased from 1e-05 to 0.9999\n",
      "Cbc0038I Initial state - 1 integers unsatisfied sum - 0.25\n",
      "Cbc0038I Solution found of -16\n",
      "Cbc0038I Before mini branch and bound, 4 integers at bound fixed and 0 continuous\n",
      "Cbc0038I Mini branch and bound did not improve solution (0.00 seconds)\n",
      "Cbc0038I After 0.00 seconds - Feasibility pump exiting with objective of -16 - took 0.00 seconds\n",
      "Cbc0012I Integer solution of -16 found by feasibility pump after 0 iterations and 0 nodes (0.00 seconds)\n",
      "Cbc0001I Search completed - best objective -16, took 1 iterations and 0 nodes (0.00 seconds)\n",
      "Cbc0035I Maximum depth 0, 4 variables fixed on reduced cost\n",
      "Total time (CPU seconds):       0.00   (Wallclock seconds):       0.00\n",
      "\n",
      "Problem LIN1\n",
      "Problem LIN1A\n",
      "Problem LIN2\n",
      "Problem LIN2A\n",
      "Problem LIN3\n",
      "Problem LIN4\n",
      "[print] JuMPContainer{Variable}\n",
      "  > bound printing\n",
      "  > index set printing\n",
      "  > category printing\n",
      "  > Empty JuMPContainer printing (#124)\n",
      "108 facts verified.\n",
      "[print] JuMPContainer{Number}\n",
      "6 facts verified.\n",
      "[print] SOS constraints\n",
      "6 facts verified.\n",
      "[print] Model\n",
      "8 facts verified.\n",
      "[print] changing variable categories\n",
      "2 facts verified.\n",
      "[print] expressions\n",
      "9 facts verified.\n",
      "[print] Variable\n",
      "32 facts verified.\n",
      "[print] User-created Array{Variable}\n",
      "6 facts verified.\n",
      "[print] basename keyword argument\n",
      "15 facts verified.\n",
      "[variable] constructors\n",
      "11 facts verified.\n",
      "[variable] get and set bounds\n",
      "14 facts verified.\n",
      "[variable] get and set values\n",
      "3 facts verified.\n",
      "[variable] get and set category\n",
      "2 facts verified.\n",
      "[variable] repeated elements in index set (issue #199)\n",
      "1 fact verified.\n",
      "[variable] condition in indexing\n",
      "3 facts verified.\n",
      "[variable] @variable returning Array{Variable}\n",
      "6 facts verified.\n"
     ]
    },
    {
     "name": "stderr",
     "output_type": "stream",
     "text": [
      "WARNING: Variable value not defined for component of x. Check that the model was properly solved.\n",
      "WARNING: Variable value not defined for component of z. Check that the model was properly solved.\n"
     ]
    },
    {
     "name": "stdout",
     "output_type": "stream",
     "text": [
      "[variable] getvalue on empty things\n",
      "5 facts verified.\n",
      "[variable] Slices of JuMPArray (#684)\n",
      "33 facts verified.\n",
      "[variable] Can't use end for indexing a JuMPContainer\n",
      "6 facts verified.\n",
      "[expr] Test expression construction\n",
      "  > AffExpr\n",
      "  > QuadExpr\n",
      "8 facts verified.\n",
      "[expr] Test getvalue(expr)\n",
      "2 facts verified.\n",
      "[expr] Test expression iterators\n",
      "4 facts verified.\n",
      "[operator] Testing basic operator overloads\n",
      "  > Number--???\n",
      "  > Variable--???\n",
      "  > Norm--???\n",
      "  > AffExpr--???\n",
      "  > QuadExpr--???\n",
      "  > SOCExpr--???\n",
      "290 facts verified.\n",
      "[operator] Higher-level operators\n",
      "  > sum\n",
      "  > dot\n",
      "18 facts verified.\n",
      "Vectorized operations\n",
      "  > Transpose\n",
      "  > Vectorized arithmetic\n",
      "  > Dot-ops\n",
      "  > Vectorized comparisons\n",
      "86 facts verified.\n",
      "[operator] JuMPArray concatenation\n",
      "9 facts verified.\n",
      "[macros] Check Julia expression parsing\n",
      "13 facts verified.\n",
      "[macros] Check @constraint basics\n",
      "11 facts verified.\n",
      "[macros] Checking @variable with reverse direction bounds\n",
      "2 facts verified.\n",
      "[macros] sum{}\n",
      "5 facts verified.\n",
      "[macros] Problem modification\n",
      "4 facts verified.\n",
      "[macros] Using pre-built affine is OK in macro\n",
      "4 facts verified.\n",
      "[macros] Test ranges in @variable\n",
      "10 facts verified.\n",
      "[macros] Unicode comparisons\n",
      "9 facts verified.\n",
      "[macros] Three argument @constraint\n",
      "3 facts verified.\n",
      "[macros] @constraints\n",
      "4 facts verified.\n",
      "[macros] @NLconstraints\n",
      "5 facts verified.\n",
      "[macros] Vectors in nonlinear expressions\n",
      "2 facts verified.\n",
      "[macros] @objective with quadratic\n",
      "1 fact verified.\n",
      "[macros] @constraint with quadratic\n",
      "13 facts verified.\n",
      "[macros] Triangular indexing, iteration\n",
      "158 facts verified.\n",
      "[macros] Multidimensional indexing\n",
      "1 fact verified.\n",
      "[macros] @expression\n"
     ]
    },
    {
     "name": "stderr",
     "output_type": "stream",
     "text": [
      "WARNING: The two-argument version of @defExpr is deprecated. The corresponding JuMP model is now required as the first argument. The new syntax is @expression(<JuMP model>, <name of expression(s)>, <expression>)\n",
      "WARNING: The one-argument version of @defExpr is deprecated. The corresponding JuMP model is now required as the first argument, and a name for the expression or collection of expressions is required as the second argument. The new syntax is @expression(<JuMP model>, <name of expression(s)>, <expression>)\n"
     ]
    },
    {
     "name": "stdout",
     "output_type": "stream",
     "text": [
      "6 facts verified.\n",
      "[macros] Conditions in constraint indexing\n",
      "7 facts verified.\n",
      "[macros] Test changes in condition parsing\n",
      "4 facts verified.\n",
      "[macros] Norm parsing\n",
      "5 facts verified.\n",
      "[macros] Extraneous terms in QuadExpr (#535)\n",
      "1 fact verified.\n",
      "[macros] Special-case binary multiplication in addtoexpr_reorder (#537)\n",
      "3 facts verified.\n",
      "[macros] Indices in macros don't leak out of scope (#582)\n",
      "25 facts verified.\n",
      "[macros] Issue #621\n",
      "1 fact verified.\n",
      "[macros] @variables and @constraints\n",
      "13 facts verified.\n",
      "[macros] No bare symbols in constraint macros\n",
      "6 facts verified.\n",
      "[macros] LB/UB kwargs\n",
      "6 facts verified.\n",
      "[fuzzer] Check macros for expression construction\n",
      "[model] Check error cases\n"
     ]
    },
    {
     "name": "stderr",
     "output_type": "stream",
     "text": [
      "WARNING: Variable value not defined for errVar. Check that the model was properly solved.\n"
     ]
    },
    {
     "name": "stdout",
     "output_type": "stream",
     "text": [
      "6 facts verified.\n",
      "[model] Performance warnings\n"
     ]
    },
    {
     "name": "stderr",
     "output_type": "stream",
     "text": [
      "WARNING: Variable value not defined for x. Check that the model was properly solved.\n",
      "WARNING: The addition operator has been used on JuMP expressions a large number of times. This warning is safe to ignore but may indicate that model generation is slower than necessary. For performance reasons, you should not add expressions in a loop. Instead of x += y, use append!(x,y) to modify x in place. If y is a single variable, you may also use push!(x, coef, y) in place of x += coef*y.\n"
     ]
    },
    {
     "name": "stdout",
     "output_type": "stream",
     "text": [
      "0 facts verified.\n",
      "[model] Test printing a model\n",
      "Warning, MPS does not support maximization sense. Flipping objective coefficients.\n",
      "65 facts verified.\n",
      "[model] Quadratic MPS writer\n",
      "20 facts verified.\n",
      "[model] Test solving a MILP\n",
      "  > With solver Cbc.CbcMathProgSolverInterface.CbcSolver\n",
      "  > With solver GLPKMathProgInterface.GLPKInterfaceMIP.GLPKSolverMIP\n",
      "20 facts verified.\n",
      "[model] Test solving an LP (Min)\n",
      "  > With solver Clp.ClpMathProgSolverInterface.ClpSolver\n",
      "  > With solver GLPKMathProgInterface.GLPKInterfaceLP.GLPKSolverLP\n",
      "38 facts verified.\n",
      "[model] Test solving an LP (Max)\n",
      "  > With solver Clp.ClpMathProgSolverInterface.ClpSolver\n",
      "  > With solver GLPKMathProgInterface.GLPKInterfaceLP.GLPKSolverLP\n",
      "38 facts verified.\n",
      "[model] Test binary variable handling\n",
      "  > With solver Cbc.CbcMathProgSolverInterface.CbcSolver\n",
      "  > With solver GLPKMathProgInterface.GLPKInterfaceMIP.GLPKSolverMIP\n",
      "4 facts verified.\n",
      "[model] Test model copying\n",
      "28 facts verified.\n",
      "[model] Test variable/model 'hygiene'\n",
      "  > Linear constraint\n",
      "  > Linear objective\n",
      "  > Quadratic constraint\n",
      "  > Affine in quadratic constraint\n",
      "  > Quadratic objective\n",
      "5 facts verified.\n",
      "[model] Test NaN checking\n",
      "3 facts verified.\n",
      "[model] Test column-wise modeling\n",
      "9 facts verified.\n",
      "[model] Test all MPS paths\n",
      "Warning, MPS does not support maximization sense. Flipping objective coefficients.\n",
      "0 facts verified.\n",
      "[model] Test all LP paths\n",
      "1 fact verified.\n",
      "[model] Test semi-continuous variables\n",
      "0 facts verified.\n",
      "[model] Test semi-integer variables\n",
      "0 facts verified.\n",
      "[model] Test fixed variables don't leak through MPB\n",
      "  > With solver Clp.ClpMathProgSolverInterface.ClpSolver\n",
      "  > With solver GLPKMathProgInterface.GLPKInterfaceLP.GLPKSolverLP\n",
      "  > With solver Cbc.CbcMathProgSolverInterface.CbcSolver\n",
      "  > With solver GLPKMathProgInterface.GLPKInterfaceMIP.GLPKSolverMIP\n",
      "12 facts verified.\n"
     ]
    },
    {
     "name": "stderr",
     "output_type": "stream",
     "text": [
      "WARNING: Ignoring partial starting solution. Cbc requires a feasible value to be specified for all variables.\n",
      "WARNING: Solver does not appear to support providing initial feasible solutions.\n"
     ]
    },
    {
     "name": "stdout",
     "output_type": "stream",
     "text": [
      "[model] Test SOS constraints\n",
      "  > With solver Cbc.CbcMathProgSolverInterface.CbcSolver\n",
      "Cbc3007W No integer variables - nothing to do\n",
      "Cbc3007W No integer variables - nothing to do\n",
      "10 facts verified.\n",
      "[model] Test vectorized model creation\n",
      "2 facts verified.\n",
      "[model] Test MIQP vectorization\n",
      "0 facts verified.\n",
      "[model] Test setsolver\n",
      "11 facts verified.\n",
      "[model] Setting solve hook\n",
      "2 facts verified.\n",
      "[model] Setting print hook\n",
      "1 fact verified.\n",
      "[model] Test linearindex\n",
      "5 facts verified.\n",
      "[model] Test LinearConstraint from ConstraintRef\n",
      "1 fact verified.\n",
      "[model] Test getvalue on OneIndexedArrays\n",
      "2 facts verified.\n",
      "[model] Relaxation keyword argument to solve\n",
      "24 facts verified.\n",
      "[model] Unrecognized keyword argument to solve\n",
      "1 fact verified.\n",
      "[probmod] Testing problem modification basics\n",
      "  > With solver Clp.ClpMathProgSolverInterface.ClpSolver\n",
      "  > With solver GLPKMathProgInterface.GLPKInterfaceLP.GLPKSolverLP\n",
      "26 facts verified.\n",
      "[probmod] Testing problem modification part two\n",
      "  > With solver Cbc.CbcMathProgSolverInterface.CbcSolver\n"
     ]
    },
    {
     "name": "stderr",
     "output_type": "stream",
     "text": [
      "WARNING: Solver does not appear to support hot-starts. Model will be built from scratch.\n"
     ]
    },
    {
     "name": "stdout",
     "output_type": "stream",
     "text": [
      "Presolve 0 (-1) rows, 0 (-3) columns and 0 (-3) elements\n",
      "Optimal - objective value 3.3\n",
      "After Postsolve, objective 3.3, infeasibilities - dual 0.9999999 (1), primal 0 (0)\n",
      "Presolved model was optimal, full model needs cleaning up\n",
      "0  Obj 3.3 Dual inf 0.9999999 (1)\n",
      "1  Obj 3.3\n",
      "Optimal - objective value 3.3\n",
      "Optimal objective 3.3 - 1 iterations time 0.002, Presolve 0.00\n",
      "Cbc0045I Solution with objective value -3.3 saved\n"
     ]
    },
    {
     "name": "stderr",
     "output_type": "stream",
     "text": [
      "WARNING: Solver does not appear to support adding constraints to an existing model. Hot-start is disabled.\n"
     ]
    },
    {
     "name": "stdout",
     "output_type": "stream",
     "text": [
      "Presolve 0 (-3) rows, 0 (-3) columns and 0 (-7) elements\n",
      "Optimal - objective value 2.2\n",
      "After Postsolve, objective 2.2, infeasibilities - dual 0 (0), primal 0 (0)\n",
      "Optimal objective 2.2 - 0 iterations time 0.002, Presolve 0.00\n",
      "Cbc0045I Solution with objective value -2.2 saved\n",
      "  > With solver GLPKMathProgInterface.GLPKInterfaceMIP.GLPKSolverMIP\n",
      "36 facts verified.\n",
      "[probmod] Test adding a range constraint and modifying it\n",
      "1 fact verified.\n",
      "[probmod] Test adding a 'decoupled' variable (#205)\n",
      "  > With solver Clp.ClpMathProgSolverInterface.ClpSolver\n",
      "Presolve 0 (-3) rows, 0 (-3) columns and 0 (-7) elements\n",
      "Optimal - objective value 101.1\n",
      "After Postsolve, objective 101.1, infeasibilities - dual 0 (0), primal 0 (0)\n",
      "Optimal objective 101.1 - 0 iterations time 0.002, Presolve 0.00\n",
      "Cbc0045I Solution with objective value -101.1 saved\n",
      "  > With solver GLPKMathProgInterface.GLPKInterfaceLP.GLPKSolverLP\n",
      "4 facts verified.\n",
      "[probmod] Test JuMP.build\n",
      "  > With solver Clp.ClpMathProgSolverInterface.ClpSolver\n",
      "  > With solver GLPKMathProgInterface.GLPKInterfaceLP.GLPKSolverLP\n",
      "16 facts verified.\n",
      "[probmod] Test JuMP.build with MIP\n",
      "  > With solver Cbc.CbcMathProgSolverInterface.CbcSolver\n",
      "  > With solver GLPKMathProgInterface.GLPKInterfaceMIP.GLPKSolverMIP\n",
      "12 facts verified.\n",
      "[probmod] Test adding empty constraints\n",
      "  > With solver Clp.ClpMathProgSolverInterface.ClpSolver\n",
      "  > With solver GLPKMathProgInterface.GLPKInterfaceLP.GLPKSolverLP\n",
      "4 facts verified.\n",
      "[probmod] Test bound modification on binaries\n",
      "  > With solver Cbc.CbcMathProgSolverInterface.CbcSolver\n",
      "Optimal - objective value 1\n",
      "Optimal objective 1 - 0 iterations time 0.002\n",
      "Cbc0045I Solution with objective value -1 saved\n",
      "Optimal - objective value 0\n",
      "Optimal objective 0 - 0 iterations time 0.002\n",
      "Cbc0045I Solution with objective value 0 saved\n",
      "  > With solver GLPKMathProgInterface.GLPKInterfaceMIP.GLPKSolverMIP\n",
      "12 facts verified.\n",
      "[probmod] Applicable regressions\n",
      "  > Clp\n",
      "  > Cbc\n",
      "  > GLPK LP\n",
      "  > GLPK MIP\n",
      "72 facts verified.\n",
      "[callback] Test lazy constraints\n",
      "  > With solver GLPKMathProgInterface.GLPKInterfaceMIP.GLPKSolverMIP\n",
      "8 facts verified.\n",
      "[callback] Test user cuts\n",
      "  > With solver GLPKMathProgInterface.GLPKInterfaceMIP.GLPKSolverMIP\n",
      "3 facts verified.\n",
      "[callback] Test heuristics\n",
      "  > With solver GLPKMathProgInterface.GLPKInterfaceMIP.GLPKSolverMIP\n",
      "6 facts verified.\n",
      "[callback] Test informational callback\n"
     ]
    },
    {
     "name": "stderr",
     "output_type": "stream",
     "text": [
      "WARNING: Ignoring infeasible solution from heuristic callback\n"
     ]
    },
    {
     "name": "stdout",
     "output_type": "stream",
     "text": [
      "0 facts verified.\n",
      "[callback] Callback exit on CallbackAbort\n",
      "  > With solver GLPKMathProgInterface.GLPKInterfaceMIP.GLPKSolverMIP\n",
      "1 fact verified.\n"
     ]
    },
    {
     "name": "stderr",
     "output_type": "stream",
     "text": [
      "WARNING: Not solved to optimality, status: UserLimit\n"
     ]
    },
    {
     "name": "stdout",
     "output_type": "stream",
     "text": [
      "[qcqpmodel] Test quad objective (discrete)\n",
      "0 facts verified.\n",
      "[qcqpmodel] Test quad objective (continuous)\n",
      "0 facts verified.\n",
      "[qcqpmodel] Test quad constraints (continuous)\n",
      "0 facts verified.\n",
      "[qcqpmodel] Test SOC constraints (continuous)\n",
      "0 facts verified.\n",
      "[qcqpmodel] Test SOC duals\n",
      "0 facts verified.\n",
      "[qcqpmodel] Test quad constraints (discrete)\n",
      "0 facts verified.\n",
      "[qcqpmodel] Test simple normed problem\n",
      "0 facts verified.\n",
      "[qcqpmodel] Test quad problem modification\n",
      "0 facts verified.\n",
      "[qcqpmodel] Rotated second-order cones\n",
      "0 facts verified.\n"
     ]
    },
    {
     "name": "stderr",
     "output_type": "stream",
     "text": [
      "WARNING: Quadratic tests not run!\n"
     ]
    },
    {
     "name": "stdout",
     "output_type": "stream",
     "text": [
      "[nonlinear] Test getvalue on arrays\n",
      "5 facts verified.\n",
      "[nonlinear] Test HS071 solves correctly\n",
      "  > With solver NLopt.NLoptSolver\n",
      "3 facts verified.\n",
      "[nonlinear] Test HS071 solves correctly, epigraph\n",
      "  > With solver NLopt.NLoptSolver\n"
     ]
    },
    {
     "name": "stderr",
     "output_type": "stream",
     "text": [
      "WARNING: Nonlinear solver does not provide dual solutions\n"
     ]
    },
    {
     "name": "stdout",
     "output_type": "stream",
     "text": [
      "2 facts verified.\n",
      "[nonlinear] Test ifelse\n",
      "0 facts verified.\n",
      "[nonlinear] Accepting fixed variables\n",
      "  > With solver NLopt.NLoptSolver, simplify = true\n",
      "  > With solver NLopt.NLoptSolver, simplify = false\n",
      "8 facts verified.\n",
      "[nonlinear] Test QP solve through NL pathway\n",
      "  > With solver NLopt.NLoptSolver\n",
      "8 facts verified.\n",
      "[nonlinear] Test quad con solve through NL pathway\n",
      "  > With solver NLopt.NLoptSolver\n",
      "3 facts verified.\n",
      "[nonlinear] Test resolve with parameter\n",
      "  > With solver NLopt.NLoptSolver, simplify = true\n",
      "  > With solver NLopt.NLoptSolver, simplify = false\n",
      "8 facts verified.\n",
      "[nonlinear] Test two-sided nonlinear constraints\n",
      "  > With solver NLopt.NLoptSolver\n",
      "4 facts verified.\n",
      "[nonlinear] Quadratic equality constraints\n",
      "  > With solver NLopt.NLoptSolver\n"
     ]
    },
    {
     "name": "stderr",
     "output_type": "stream",
     "text": [
      "WARNING: Not solved to optimality, status: Suboptimal\n"
     ]
    },
    {
     "name": "stdout",
     "output_type": "stream",
     "text": [
      "    Failure :: (line:505) :: With solver NLopt.NLoptSolver :: fact was false\n",
      "      Expression: status --> :(:Optimal)\n",
      "        Expected: :Optimal\n",
      "        Occurred: :Suboptimal\n",
      "    Failure :: (line:505) :: With solver NLopt.NLoptSolver :: fact was false\n",
      "      Expression: getvalue(x) --> roughly([sqrt(1 / 2),0],1.0e-6)\n",
      "        Expected: [0.0,0.0] ≅ [0.7071067811865476,0.0]\n",
      "Out of 2 total facts:\n",
      "  Failed:   2\n",
      "[nonlinear] Test mixed integer nonlinear problems\n",
      "0 facts verified.\n",
      "[nonlinear] Test continuous relaxation of minlp test problem\n",
      "  > With solver NLopt.NLoptSolver\n",
      "5 facts verified.\n",
      "[nonlinear] Test maximization objective\n",
      "  > With solver NLopt.NLoptSolver\n",
      "3 facts verified.\n"
     ]
    },
    {
     "name": "stderr",
     "output_type": "stream",
     "text": [
      "WARNING: in @NLexpression(quadexpr2,x + x ^ 2 + x * y + y ^ 2): three arguments are required.\n",
      "Note that the syntax of @NLexpression has recently changed:\n",
      "The first argument should be the model to which the expression is attached.\n",
      "The second is the name of the expression (or collection of expressions).\n",
      "The third is the expression itself.\n",
      "Example:\n",
      "@NLexpression(m, my_expr, x^2/y)\n",
      "@NLexpression(m, my_expr_collection[i=1:2], sin(z[i])^2)\n",
      "Support for the old syntax (with the model omitted) will be removed in an upcoming release.\n"
     ]
    },
    {
     "name": "stdout",
     "output_type": "stream",
     "text": [
      "[nonlinear] Test maximization objective (embedded expressions)\n",
      "  > With solver NLopt.NLoptSolver, simplify = true\n"
     ]
    },
    {
     "name": "stderr",
     "output_type": "stream",
     "text": [
      "WARNING: in @NLexpression(x + x ^ 2 + x * y + y ^ 2): three arguments are required.\n",
      "Note that the syntax of @NLexpression has recently changed:\n",
      "The first argument should be the model to which the expression is attached.\n",
      "The second is the name of the expression (or collection of expressions).\n",
      "The third is the expression itself.\n",
      "Example:\n",
      "@NLexpression(m, my_expr, x^2/y)\n",
      "@NLexpression(m, my_expr_collection[i=1:2], sin(z[i])^2)\n",
      "Support for the old syntax (with the model omitted) will be removed in an upcoming release.\n"
     ]
    },
    {
     "name": "stdout",
     "output_type": "stream",
     "text": [
      "  > With solver NLopt.NLoptSolver, simplify = false\n",
      "12 facts verified.\n",
      "[nonlinear] Test infeasibility detection\n",
      "0 facts verified.\n",
      "[nonlinear] Test unboundedness detection\n",
      "0 facts verified.\n",
      "[nonlinear] Test entropy maximization\n",
      "  > With solver NLopt.NLoptSolver\n",
      "2 facts verified.\n",
      "[nonlinear] Test entropy maximization (reformulation)\n",
      "  > With solver NLopt.NLoptSolver\n"
     ]
    },
    {
     "name": "stderr",
     "output_type": "stream",
     "text": [
      "=================================[ ERROR: Cbc ]=================================\n",
      "\n",
      "failed process: Process(`/opt/homebrew-cask/Caskroom/julia/0.4.5/Julia-0.4.5.app/Contents/Resources/julia/bin/julia --check-bounds=yes --code-coverage=none --color=no /Users/utensil/.julia/v0.4/Cbc/test/runtests.jl`, ProcessSignaled(9)) [0]\n",
      "\n",
      "================================================================================\n",
      "INFO: No packages to install, update or remove\n"
     ]
    },
    {
     "ename": "LoadError",
     "evalue": "LoadError: Cbc had test errors\nwhile loading In[2], in expression starting on line 1",
     "output_type": "error",
     "traceback": [
      "LoadError: Cbc had test errors\nwhile loading In[2], in expression starting on line 1",
      ""
     ]
    }
   ],
   "source": [
    "for pkg in [\"GLPKMathProgInterface\", \"Cbc\", \"Clp\"]\n",
    "    Pkg.test(pkg)\n",
    "end"
   ]
  },
  {
   "cell_type": "code",
   "execution_count": null,
   "metadata": {
    "collapsed": false
   },
   "outputs": [
    {
     "name": "stderr",
     "output_type": "stream",
     "text": [
      "INFO: Testing Clp\n"
     ]
    },
    {
     "name": "stdout",
     "output_type": "stream",
     "text": [
      "Testing linprog with solver Clp.ClpMathProgSolverInterface.ClpSolver\n"
     ]
    },
    {
     "name": "stderr",
     "output_type": "stream",
     "text": [
      "WARNING: Element type Int64 does not have an infinite value. Note that this may artifically introduce ranged (two-sided) constraints. To avoid this, consider casting the problem data to Float64.\n"
     ]
    },
    {
     "name": "stdout",
     "output_type": "stream",
     "text": [
      "Passed\n"
     ]
    }
   ],
   "source": [
    "Pkg.test(\"Clp\")"
   ]
  },
  {
   "cell_type": "code",
   "execution_count": 1,
   "metadata": {
    "collapsed": false
   },
   "outputs": [
    {
     "name": "stderr",
     "output_type": "stream",
     "text": [
      "WARNING: @defVar is deprecated, use @variable instead.\n",
      "WARNING: @setObjective is deprecated, use @objective instead.\n",
      "WARNING: @addConstraint is deprecated, use @constraint instead.\n"
     ]
    },
    {
     "name": "stdout",
     "output_type": "stream",
     "text": [
      "The optimization problem to be solved is:\n",
      "Min x + y\n",
      "Subject to\n",
      " x + y ≤ 1\n",
      " x ≥ 0\n",
      " y ≥ 0\n"
     ]
    },
    {
     "name": "stderr",
     "output_type": "stream",
     "text": [
      "WARNING: getObjectiveValue is deprecated, use getobjectivevalue instead.\n"
     ]
    },
    {
     "name": "stdout",
     "output_type": "stream",
     "text": [
      "Objective value: 0.0\n",
      "x = 0.0\n",
      "y = 0.0\n"
     ]
    },
    {
     "name": "stderr",
     "output_type": "stream",
     "text": [
      " in depwarn at deprecated.jl:73\n",
      " in getObjectiveValue at deprecated.jl:30\n",
      " in include_string at loading.jl:282\n",
      " in execute_request_0x535c5df2 at /Users/utensil/.julia/v0.4/IJulia/src/execute_request.jl:182\n",
      " in eventloop at /Users/utensil/.julia/v0.4/IJulia/src/IJulia.jl:142\n",
      " in anonymous at task.jl:447\n",
      "while loading In[1], in expression starting on line 49\n",
      "WARNING: getValue is deprecated, use getvalue instead.\n",
      " in depwarn at deprecated.jl:73\n",
      " in getValue at deprecated.jl:30\n",
      " in include_string at loading.jl:282\n",
      " in execute_request_0x535c5df2 at /Users/utensil/.julia/v0.4/IJulia/src/execute_request.jl:182\n",
      " in eventloop at /Users/utensil/.julia/v0.4/IJulia/src/IJulia.jl:142\n",
      " in anonymous at task.jl:447\n",
      "while loading In[1], in expression starting on line 51\n"
     ]
    }
   ],
   "source": [
    "using JuMP  # Need to say it whenever we use JuMP\n",
    "\n",
    "using GLPKMathProgInterface # Loading the GLPK module for using its solver\n",
    "\n",
    "\n",
    "#MODEL CONSTRUCTION\n",
    "#--------------------\n",
    "\n",
    "myModel = Model(solver=GLPKSolverLP()) \n",
    "# Name of the model object. All constraints and variables of an optimization problem are associated \n",
    "# with a particular model object. The name of the model object does not have to be myModel, it can be yourModel too! The argument of Model,\n",
    "# solver=GLPKsolverLP() means that to solve the optimization problem we will use GLPK solver.\n",
    "\n",
    "#VARIABLES\n",
    "#---------\n",
    "\n",
    "# A variable is modelled using @defVar(name of the model object, variable name and bound, variable type)\n",
    "# Bound can be lower bound, upper bound or both. If no variable type is defined, then it is treated as \n",
    "#real. For binary variable write Bin and for integer use Int.\n",
    "\n",
    "@defVar(myModel, x >= 0) # Models x >=0\n",
    "\n",
    "# Some possible variations:\n",
    "# @defVar(myModel, x, Binary) # No bound on x present, but x is a binary variable now\n",
    "# @defVar(myModel, x <= 10) # This one defines a variable with lower bound x <= 10\n",
    "# @defVar(myModel, 0 <= x <= 10, Int) # This one has both lower and upper bound, and x is an integer\n",
    "\n",
    "@defVar(myModel, y >= 0) # Models y >= 0\n",
    "\n",
    "#OBJECTIVE\n",
    "#---------\n",
    "\n",
    "@setObjective(myModel, Min, x + y) # Sets the objective to be minimized. For maximization use Max\n",
    "\n",
    "#CONSTRAINTS\n",
    "#-----------\n",
    "\n",
    "@addConstraint(myModel, x + y <= 1) # Adds the constraint x + y <= 1\n",
    "\n",
    "#THE MODEL IN A HUMAN-READABLE FORMAT\n",
    "#------------------------------------\n",
    "println(\"The optimization problem to be solved is:\")\n",
    "print(myModel) # Shows the model constructed in a human-readable form\n",
    "\n",
    "#SOLVE IT AND DISPLAY THE RESULTS\n",
    "#--------------------------------\n",
    "status = solve(myModel) # solves the model  \n",
    "\n",
    "println(\"Objective value: \", getObjectiveValue(myModel)) # getObjectiveValue(model_name) gives the optimum objective value\n",
    "println(\"x = \", getValue(x)) # getValue(decision_variable) will give the optimum value of the associated decision variable\n",
    "println(\"y = \", getValue(y))"
   ]
  },
  {
   "cell_type": "code",
   "execution_count": 2,
   "metadata": {
    "collapsed": false
   },
   "outputs": [
    {
     "name": "stdout",
     "output_type": "stream",
     "text": [
      "The optimization problem to be solved is:\n",
      "Min x + y\n",
      "Subject to\n",
      " x + y ≤ 1\n",
      " x ≥ 0\n",
      " y ≥ 0\n",
      "Objective value: 0.0\n",
      "x = 0.0\n",
      "y = 0.0\n"
     ]
    }
   ],
   "source": [
    "using JuMP  # Need to say it whenever we use JuMP\n",
    "\n",
    "using GLPKMathProgInterface # Loading the GLPK module for using its solver\n",
    "\n",
    "\n",
    "#MODEL CONSTRUCTION\n",
    "#--------------------\n",
    "\n",
    "myModel = Model(solver=GLPKSolverLP()) \n",
    "# Name of the model object. All constraints and variables of an optimization problem are associated \n",
    "# with a particular model object. The name of the model object does not have to be myModel, it can be yourModel too! The argument of Model,\n",
    "# solver=GLPKsolverLP() means that to solve the optimization problem we will use GLPK solver.\n",
    "\n",
    "#VARIABLES\n",
    "#---------\n",
    "\n",
    "# A variable is modelled using @variable(name of the model object, variable name and bound, variable type)\n",
    "# Bound can be lower bound, upper bound or both. If no variable type is defined, then it is treated as \n",
    "#real. For binary variable write Bin and for integer use Int.\n",
    "\n",
    "@variable(myModel, x >= 0) # Models x >=0\n",
    "\n",
    "# Some possible variations:\n",
    "# @variable(myModel, x, Binary) # No bound on x present, but x is a binary variable now\n",
    "# @variable(myModel, x <= 10) # This one defines a variable with lower bound x <= 10\n",
    "# @variable(myModel, 0 <= x <= 10, Int) # This one has both lower and upper bound, and x is an integer\n",
    "\n",
    "@variable(myModel, y >= 0) # Models y >= 0\n",
    "\n",
    "#OBJECTIVE\n",
    "#---------\n",
    "\n",
    "@objective(myModel, Min, x + y) # Sets the objective to be minimized. For maximization use Max\n",
    "\n",
    "#CONSTRAINTS\n",
    "#-----------\n",
    "\n",
    "@constraint(myModel, x + y <= 1) # Adds the constraint x + y <= 1\n",
    "\n",
    "#THE MODEL IN A HUMAN-READABLE FORMAT\n",
    "#------------------------------------\n",
    "println(\"The optimization problem to be solved is:\")\n",
    "print(myModel) # Shows the model constructed in a human-readable form\n",
    "\n",
    "#SOLVE IT AND DISPLAY THE RESULTS\n",
    "#--------------------------------\n",
    "status = solve(myModel) # solves the model  \n",
    "\n",
    "println(\"Objective value: \", getobjectivevalue(myModel)) # getobjectivevalue(model_name) gives the optimum objective value\n",
    "println(\"x = \", getvalue(x)) # getvalue(decision_variable) will give the optimum value of the associated decision variable\n",
    "println(\"y = \", getvalue(y))"
   ]
  },
  {
   "cell_type": "code",
   "execution_count": null,
   "metadata": {
    "collapsed": true
   },
   "outputs": [],
   "source": []
  }
 ],
 "metadata": {
  "kernelspec": {
   "display_name": "Julia 0.4.5",
   "language": "julia",
   "name": "julia-0.4"
  },
  "language_info": {
   "file_extension": ".jl",
   "mimetype": "application/julia",
   "name": "julia",
   "version": "0.4.5"
  }
 },
 "nbformat": 4,
 "nbformat_minor": 0
}
