{
 "cells": [
  {
   "cell_type": "code",
   "execution_count": 19,
   "metadata": {
    "collapsed": false
   },
   "outputs": [
    {
     "name": "stderr",
     "output_type": "stream",
     "text": [
      "INFO: Removing BuildExecutable v0.0.3\n",
      "INFO: Package database updated\n"
     ]
    }
   ],
   "source": [
    "Pkg.rm(\"BuildExecutable\")"
   ]
  },
  {
   "cell_type": "code",
   "execution_count": 20,
   "metadata": {
    "collapsed": false
   },
   "outputs": [
    {
     "name": "stderr",
     "output_type": "stream",
     "text": [
      "INFO: Installing BuildExecutable v0.0.3\n",
      "INFO: Building BuildExecutable\n",
      "INFO: Package database updated\n",
      "INFO: METADATA is out-of-date — you may not have the latest version of BuildExecutable\n",
      "INFO: Use `Pkg.update()` to get the latest versions of your packages\n"
     ]
    }
   ],
   "source": [
    "Pkg.add(\"BuildExecutable\")"
   ]
  },
  {
   "cell_type": "code",
   "execution_count": 2,
   "metadata": {
    "collapsed": false
   },
   "outputs": [
    {
     "name": "stderr",
     "output_type": "stream",
     "text": [
      "INFO: Computing test dependencies for BuildExecutable...\n",
      "INFO: No packages to install, update or remove\n",
      "INFO: Testing BuildExecutable\n"
     ]
    },
    {
     "name": "stdout",
     "output_type": "stream",
     "text": [
      "running: /opt/homebrew-cask/Caskroom/julia/0.4.5/Julia-0.4.5.app/Contents/Resources/julia/bin/julia /Users/utensil/.julia/v0.4/BuildExecutable/src/build_sysimg.jl /opt/homebrew-cask/Caskroom/julia/0.4.5/Julia-0.4.5.app/Contents/Resources/julia/lib/julia/libtest_executable native /var/folders/5w/p0cqvqwd0j13vs3z4rl18t840000gn/T/tmpm5cBRK/userimg.jl --force\n"
     ]
    },
    {
     "name": "stderr",
     "output_type": "stream",
     "text": [
      "INFO: Building inference0.o...\n"
     ]
    },
    {
     "name": "stdout",
     "output_type": "stream",
     "text": [
      "/opt/homebrew-cask/Caskroom/julia/0.4.5/Julia-0.4.5.app/Contents/Resources/julia/bin/julia -C native --output-ji /opt/homebrew-cask/Caskroom/julia/0.4.5/Julia-0.4.5.app/Contents/Resources/julia/lib/julia/inference0.ji --output-o /opt/homebrew-cask/Caskroom/julia/0.4.5/Julia-0.4.5.app/Contents/Resources/julia/lib/julia/inference0.o coreimg.jl\n",
      "essentials.jl\n",
      "reflection.jl\n",
      "options.jl\n",
      "promotion.jl\n",
      "tuple.jl\n",
      "range.jl\n",
      "expr.jl\n",
      "error.jl\n",
      "bool.jl\n",
      "number.jl\n",
      "int.jl\n",
      "operators.jl\n",
      "pointer.jl\n",
      "abstractarray.jl\n",
      "array.jl\n",
      "hashing.jl\n",
      "nofloat_hashing.jl\n",
      "functors.jl\n",
      "reduce.jl\n",
      "intset.jl\n",
      "dict.jl\n",
      "iterator.jl\n",
      "inference.jl\n",
      "/opt/homebrew-cask/Caskroom/julia/0.4.5/Julia-0.4.5.app/Contents/Resources/julia/bin/julia -C native --output-ji /opt/homebrew-cask/Caskroom/julia/0.4.5/Julia-0.4.5.app/Contents/Resources/julia/lib/julia/inference.ji --output-o /opt/homebrew-cask/Caskroom/julia/0.4.5/Julia-0.4.5.app/Contents/Resources/julia/lib/julia/inference.o coreimg.jl\n"
     ]
    },
    {
     "name": "stderr",
     "output_type": "stream",
     "text": [
      "INFO: Building inference.o...\n"
     ]
    },
    {
     "name": "stdout",
     "output_type": "stream",
     "text": [
      "essentials.jl\n",
      "reflection.jl\n",
      "options.jl\n",
      "promotion.jl\n",
      "tuple.jl\n",
      "range.jl\n",
      "expr.jl\n",
      "error.jl\n",
      "bool.jl\n",
      "number.jl\n",
      "int.jl\n",
      "operators.jl\n",
      "pointer.jl\n",
      "abstractarray.jl\n",
      "array.jl\n",
      "hashing.jl\n",
      "nofloat_hashing.jl\n",
      "functors.jl\n",
      "reduce.jl\n",
      "intset.jl\n",
      "dict.jl\n",
      "iterator.jl\n",
      "inference.jl\n",
      "/opt/homebrew-cask/Caskroom/julia/0.4.5/Julia-0.4.5.app/Contents/Resources/julia/bin/julia -C native --output-ji /opt/homebrew-cask/Caskroom/julia/0.4.5/Julia-0.4.5.app/Contents/Resources/julia/lib/julia/libtest_executable.ji --output-o /opt/homebrew-cask/Caskroom/julia/0.4.5/Julia-0.4.5.app/Contents/Resources/julia/lib/julia/libtest_executable.o -J /opt/homebrew-cask/Caskroom/julia/0.4.5/Julia-0.4.5.app/Contents/Resources/julia/lib/julia/inference.ji --startup-file=no sysimg.jl\n"
     ]
    },
    {
     "name": "stderr",
     "output_type": "stream",
     "text": [
      "INFO: Building sys.o...\n"
     ]
    },
    {
     "name": "stdout",
     "output_type": "stream",
     "text": [
      "exports.jl\n",
      "essentials.jl\n",
      "docs/bootstrap.jl\n",
      "base.jl\n",
      "reflection.jl\n",
      "build_h.jl\n",
      "version_git.jl\n",
      "c.jl\n",
      "options.jl\n",
      "promotion.jl\n",
      "tuple.jl\n",
      "range.jl\n",
      "expr.jl\n",
      "error.jl\n",
      "bool.jl\n",
      "number.jl\n",
      "int.jl\n",
      "operators.jl\n",
      "pointer.jl\n",
      "refpointer.jl\n",
      "functors.jl\n",
      "abstractarray.jl\n",
      "subarray.jl\n",
      "array.jl\n",
      "hashing.jl\n",
      "rounding.jl\n",
      "float.jl\n",
      "complex.jl\n",
      "rational.jl\n",
      "abstractarraymath.jl\n",
      "arraymath.jl\n",
      "simdloop.jl\n",
      "reduce.jl\n",
      "bitarray.jl\n",
      "intset.jl\n",
      "dict.jl\n",
      "set.jl\n",
      "iterator.jl\n",
      "osutils.jl\n",
      "char.jl\n",
      "ascii.jl\n",
      "iobuffer.jl\n",
      "string.jl\n",
      "strings/types.jl\n",
      "strings/basic.jl\n",
      "strings/search.jl\n",
      "strings/util.jl\n",
      "strings/io.jl\n",
      "unicode.jl\n",
      "unicode/UnicodeError.jl\n",
      "unicode/types.jl\n",
      "unicode/checkstring.jl\n",
      "unicode/utf8.jl\n",
      "unicode/utf16.jl\n",
      "unicode/utf32.jl\n",
      "unicode/utf8proc.jl\n",
      "parse.jl\n",
      "shell.jl\n",
      "regex.jl\n",
      "pcre.jl\n",
      "base64.jl\n",
      "io.jl\n",
      "iostream.jl\n",
      "libc.jl\n",
      "libdl.jl\n",
      "env.jl\n",
      "path.jl\n",
      "intfuncs.jl\n",
      "nullable.jl\n",
      "task.jl\n",
      "lock.jl\n",
      "show.jl\n",
      "stream.jl\n",
      "uv_constants.jl\n",
      "socket.jl\n",
      "stat.jl\n",
      "fs.jl\n",
      "process.jl\n",
      "multimedia.jl\n",
      "grisu.jl\n",
      "file.jl\n",
      "methodshow.jl\n",
      "floatfuncs.jl\n",
      "math.jl\n",
      "float16.jl\n",
      "cartesian.jl\n",
      "multidimensional.jl\n",
      "primes.jl\n",
      "reducedim.jl\n",
      "ordering.jl\n",
      "collections.jl\n",
      "sort.jl\n",
      "version.jl\n",
      "gmp.jl\n",
      "mpfr.jl\n",
      "combinatorics.jl\n",
      "hashing2.jl\n",
      "dSFMT.jl\n",
      "random.jl\n",
      "printf.jl\n",
      "meta.jl\n",
      "Enums.jl\n",
      "serialize.jl\n",
      "channels.jl\n",
      "multi.jl\n",
      "managers.jl\n",
      "loading.jl\n",
      "poll.jl\n",
      "mmap.jl\n",
      "sharedarray.jl\n",
      "datafmt.jl\n",
      "deepcopy.jl\n",
      "interactiveutil.jl\n",
      "replutil.jl\n",
      "test.jl\n",
      "i18n.jl\n",
      "Terminals.jl\n",
      "LineEdit.jl\n",
      "REPLCompletions.jl\n",
      "REPL.jl\n",
      "client.jl\n",
      "util.jl\n",
      "linalg.jl\n",
      "broadcast.jl\n",
      "statistics.jl\n",
      "sparse.jl\n",
      "irrationals.jl\n",
      "dft.jl\n",
      "dsp.jl\n",
      "sysinfo.jl\n",
      "quadgk.jl\n",
      "fastmath.jl\n",
      "pkg.jl\n",
      "profile.jl\n",
      "Dates.jl\n",
      "markdown/Markdown.jl\n",
      "docs/Docs.jl\n",
      "deprecated.jl\n",
      "require.jl\n",
      "docs/helpdb.jl\n",
      "docs/basedocs.jl\n",
      "/opt/homebrew-cask/Caskroom/julia/0.4.5/Julia-0.4.5.app/Contents/Resources/julia/share/julia/base/precompile.jl\n"
     ]
    },
    {
     "name": "stderr",
     "output_type": "stream",
     "text": [
      "INFO: Linking sys.dylib\n"
     ]
    },
    {
     "name": "stdout",
     "output_type": "stream",
     "text": [
      "\n"
     ]
    },
    {
     "name": "stderr",
     "output_type": "stream",
     "text": [
      "INFO: System image successfully built at /opt/homebrew-cask/Caskroom/julia/0.4.5/Julia-0.4.5.app/Contents/Resources/julia/lib/julia/libtest_executable.dylib\n",
      "INFO: To run Julia with this image loaded, run: julia -J /opt/homebrew-cask/Caskroom/julia/0.4.5/Julia-0.4.5.app/Contents/Resources/julia/lib/julia/libtest_executable.dylib\n"
     ]
    },
    {
     "name": "stdout",
     "output_type": "stream",
     "text": [
      "running: gcc -g `` -I/opt/homebrew-cask/Caskroom/julia/0.4.5/Julia-0.4.5.app/Contents/Resources/julia/include/julia -I/opt/homebrew-cask/Caskroom/julia/0.4.5/Julia-0.4.5.app/Contents/Resources/src -I/opt/homebrew-cask/Caskroom/julia/0.4.5/Julia-0.4.5.app/Contents/Resources/src/support -I/opt/homebrew-cask/Caskroom/julia/0.4.5/Julia-0.4.5.app/Contents/Resources/usr/include /var/folders/5w/p0cqvqwd0j13vs3z4rl18t840000gn/T/tmpm5cBRK/start_func.c -o /opt/homebrew-cask/Caskroom/julia/0.4.5/Julia-0.4.5.app/Contents/Resources/julia/bin/test_executable -Wl,-rpath,/opt/homebrew-cask/Caskroom/julia/0.4.5/Julia-0.4.5.app/Contents/Resources/julia/lib/julia -L/opt/homebrew-cask/Caskroom/julia/0.4.5/Julia-0.4.5.app/Contents/Resources/julia/lib/julia -ljulia -ltest_executable\n",
      "\n",
      "running: rm -rf /var/folders/5w/p0cqvqwd0j13vs3z4rl18t840000gn/T/tmpm5cBRK /opt/homebrew-cask/Caskroom/julia/0.4.5/Julia-0.4.5.app/Contents/Resources/julia/lib/julia/libtest_executable.o /opt/homebrew-cask/Caskroom/julia/0.4.5/Julia-0.4.5.app/Contents/Resources/julia/lib/julia/inference.o /opt/homebrew-cask/Caskroom/julia/0.4.5/Julia-0.4.5.app/Contents/Resources/julia/lib/julia/inference.ji /opt/homebrew-cask/Caskroom/julia/0.4.5/Julia-0.4.5.app/Contents/Resources/julia/lib/julia/inference0.o /opt/homebrew-cask/Caskroom/julia/0.4.5/Julia-0.4.5.app/Contents/Resources/julia/lib/julia/inference0.ji\n",
      "\n",
      "/Users/utensil/.julia/v0.4/BuildExecutable/test/test_dir/test_executable successfully created.\n"
     ]
    },
    {
     "name": "stderr",
     "output_type": "stream",
     "text": [
      "INFO: BuildExecutable tests passed\n",
      "INFO: No packages to install, update or remove\n"
     ]
    }
   ],
   "source": [
    "Pkg.test(\"BuildExecutable\")"
   ]
  },
  {
   "cell_type": "code",
   "execution_count": 4,
   "metadata": {
    "collapsed": false
   },
   "outputs": [
    {
     "data": {
      "text/plain": [
       "main (generic function with 1 method)"
      ]
     },
     "execution_count": 4,
     "metadata": {},
     "output_type": "execute_result"
    }
   ],
   "source": [
    "include(\"hello.jl\")"
   ]
  },
  {
   "cell_type": "code",
   "execution_count": 5,
   "metadata": {
    "collapsed": false
   },
   "outputs": [
    {
     "name": "stdout",
     "output_type": "stream",
     "text": [
      "Hello Julia"
     ]
    }
   ],
   "source": [
    "main()"
   ]
  },
  {
   "cell_type": "code",
   "execution_count": 6,
   "metadata": {
    "collapsed": true
   },
   "outputs": [],
   "source": [
    "using BuildExecutable"
   ]
  },
  {
   "cell_type": "code",
   "execution_count": 7,
   "metadata": {
    "collapsed": true
   },
   "outputs": [],
   "source": [
    "mkdir(\"dist\")"
   ]
  },
  {
   "cell_type": "code",
   "execution_count": 8,
   "metadata": {
    "collapsed": false
   },
   "outputs": [
    {
     "data": {
      "text/plain": [
       "4-element Array{ByteString,1}:\n",
       " \".ipynb_checkpoints\"   \n",
       " \"BuildExecutable.ipynb\"\n",
       " \"dist\"                 \n",
       " \"hello.jl\"             "
      ]
     },
     "execution_count": 8,
     "metadata": {},
     "output_type": "execute_result"
    }
   ],
   "source": [
    "readdir(\".\")"
   ]
  },
  {
   "cell_type": "code",
   "execution_count": 18,
   "metadata": {
    "collapsed": false
   },
   "outputs": [
    {
     "name": "stdout",
     "output_type": "stream",
     "text": [
      "function main()\n",
      "  @printf \"Hello %s\" \"Julia\"\n",
      "end\n",
      "\n"
     ]
    }
   ],
   "source": [
    "println(readall(open(\"hello.jl\")))"
   ]
  },
  {
   "cell_type": "code",
   "execution_count": 9,
   "metadata": {
    "collapsed": false
   },
   "outputs": [
    {
     "name": "stdout",
     "output_type": "stream",
     "text": [
      "running: /opt/homebrew-cask/Caskroom/julia/0.4.5/Julia-0.4.5.app/Contents/Resources/julia/bin/julia /Users/utensil/.julia/v0.4/BuildExecutable/src/build_sysimg.jl /opt/homebrew-cask/Caskroom/julia/0.4.5/Julia-0.4.5.app/Contents/Resources/julia/lib/julia/libhello native /var/folders/5w/p0cqvqwd0j13vs3z4rl18t840000gn/T/tmpCED36A/userimg.jl --force\n",
      "/opt/homebrew-cask/Caskroom/julia/0.4.5/Julia-0.4.5.app/Contents/Resources/julia/bin/julia -C native --output-ji /opt/homebrew-cask/Caskroom/julia/0.4.5/Julia-0.4.5.app/Contents/Resources/julia/lib/julia/inference0.ji --output-o /opt/homebrew-cask/Caskroom/julia/0.4.5/Julia-0.4.5.app/Contents/Resources/julia/lib/julia/inference0.o coreimg.jl\n"
     ]
    },
    {
     "name": "stderr",
     "output_type": "stream",
     "text": [
      "INFO: Building inference0.o...\n"
     ]
    },
    {
     "name": "stdout",
     "output_type": "stream",
     "text": [
      "essentials.jl\n",
      "reflection.jl\n",
      "options.jl\n",
      "promotion.jl\n",
      "tuple.jl\n",
      "range.jl\n",
      "expr.jl\n",
      "error.jl\n",
      "bool.jl\n",
      "number.jl\n",
      "int.jl\n",
      "operators.jl\n",
      "pointer.jl\n",
      "abstractarray.jl\n",
      "array.jl\n",
      "hashing.jl\n",
      "nofloat_hashing.jl\n",
      "functors.jl\n",
      "reduce.jl\n",
      "intset.jl\n",
      "dict.jl\n",
      "iterator.jl\n",
      "inference.jl\n",
      "/opt/homebrew-cask/Caskroom/julia/0.4.5/Julia-0.4.5.app/Contents/Resources/julia/bin/julia -C native --output-ji /opt/homebrew-cask/Caskroom/julia/0.4.5/Julia-0.4.5.app/Contents/Resources/julia/lib/julia/inference.ji --output-o /opt/homebrew-cask/Caskroom/julia/0.4.5/Julia-0.4.5.app/Contents/Resources/julia/lib/julia/inference.o coreimg.jl\n"
     ]
    },
    {
     "name": "stderr",
     "output_type": "stream",
     "text": [
      "INFO: Building inference.o...\n"
     ]
    },
    {
     "name": "stdout",
     "output_type": "stream",
     "text": [
      "essentials.jl\n",
      "reflection.jl\n",
      "options.jl\n",
      "promotion.jl\n",
      "tuple.jl\n",
      "range.jl\n",
      "expr.jl\n",
      "error.jl\n",
      "bool.jl\n",
      "number.jl\n",
      "int.jl\n",
      "operators.jl\n",
      "pointer.jl\n",
      "abstractarray.jl\n",
      "array.jl\n",
      "hashing.jl\n",
      "nofloat_hashing.jl\n",
      "functors.jl\n",
      "reduce.jl\n",
      "intset.jl\n",
      "dict.jl\n",
      "iterator.jl\n",
      "inference.jl\n",
      "/opt/homebrew-cask/Caskroom/julia/0.4.5/Julia-0.4.5.app/Contents/Resources/julia/bin/julia -C native --output-ji /opt/homebrew-cask/Caskroom/julia/0.4.5/Julia-0.4.5.app/Contents/Resources/julia/lib/julia/libhello.ji --output-o /opt/homebrew-cask/Caskroom/julia/0.4.5/Julia-0.4.5.app/Contents/Resources/julia/lib/julia/libhello.o -J /opt/homebrew-cask/Caskroom/julia/0.4.5/Julia-0.4.5.app/Contents/Resources/julia/lib/julia/inference.ji --startup-file=no sysimg.jl\n"
     ]
    },
    {
     "name": "stderr",
     "output_type": "stream",
     "text": [
      "INFO: Building sys.o...\n"
     ]
    },
    {
     "name": "stdout",
     "output_type": "stream",
     "text": [
      "exports.jl\n",
      "essentials.jl\n",
      "docs/bootstrap.jl\n",
      "base.jl\n",
      "reflection.jl\n",
      "build_h.jl\n",
      "version_git.jl\n",
      "c.jl\n",
      "options.jl\n",
      "promotion.jl\n",
      "tuple.jl\n",
      "range.jl\n",
      "expr.jl\n",
      "error.jl\n",
      "bool.jl\n",
      "number.jl\n",
      "int.jl\n",
      "operators.jl\n",
      "pointer.jl\n",
      "refpointer.jl\n",
      "functors.jl\n",
      "abstractarray.jl\n",
      "subarray.jl\n",
      "array.jl\n",
      "hashing.jl\n",
      "rounding.jl\n",
      "float.jl\n",
      "complex.jl\n",
      "rational.jl\n",
      "abstractarraymath.jl\n",
      "arraymath.jl\n",
      "simdloop.jl\n",
      "reduce.jl\n",
      "bitarray.jl\n",
      "intset.jl\n",
      "dict.jl\n",
      "set.jl\n",
      "iterator.jl\n",
      "osutils.jl\n",
      "char.jl\n",
      "ascii.jl\n",
      "iobuffer.jl\n",
      "string.jl\n",
      "strings/types.jl\n",
      "strings/basic.jl\n",
      "strings/search.jl\n",
      "strings/util.jl\n",
      "strings/io.jl\n",
      "unicode.jl\n",
      "unicode/UnicodeError.jl\n",
      "unicode/types.jl\n",
      "unicode/checkstring.jl\n",
      "unicode/utf8.jl\n",
      "unicode/utf16.jl\n",
      "unicode/utf32.jl\n",
      "unicode/utf8proc.jl\n",
      "parse.jl\n",
      "shell.jl\n",
      "regex.jl\n",
      "pcre.jl\n",
      "base64.jl\n",
      "io.jl\n",
      "iostream.jl\n",
      "libc.jl\n",
      "libdl.jl\n",
      "env.jl\n",
      "path.jl\n",
      "intfuncs.jl\n",
      "nullable.jl\n",
      "task.jl\n",
      "lock.jl\n",
      "show.jl\n",
      "stream.jl\n",
      "uv_constants.jl\n",
      "socket.jl\n",
      "stat.jl\n",
      "fs.jl\n",
      "process.jl\n",
      "multimedia.jl\n",
      "grisu.jl\n",
      "file.jl\n",
      "methodshow.jl\n",
      "floatfuncs.jl\n",
      "math.jl\n",
      "float16.jl\n",
      "cartesian.jl\n",
      "multidimensional.jl\n",
      "primes.jl\n",
      "reducedim.jl\n",
      "ordering.jl\n",
      "collections.jl\n",
      "sort.jl\n",
      "version.jl\n",
      "gmp.jl\n",
      "mpfr.jl\n",
      "combinatorics.jl\n",
      "hashing2.jl\n",
      "dSFMT.jl\n",
      "random.jl\n",
      "printf.jl\n",
      "meta.jl\n",
      "Enums.jl\n",
      "serialize.jl\n",
      "channels.jl\n",
      "multi.jl\n",
      "managers.jl\n",
      "loading.jl\n",
      "poll.jl\n",
      "mmap.jl\n",
      "sharedarray.jl\n",
      "datafmt.jl\n",
      "deepcopy.jl\n",
      "interactiveutil.jl\n",
      "replutil.jl\n",
      "test.jl\n",
      "i18n.jl\n",
      "Terminals.jl\n",
      "LineEdit.jl\n",
      "REPLCompletions.jl\n",
      "REPL.jl\n",
      "client.jl\n",
      "util.jl\n",
      "linalg.jl\n",
      "broadcast.jl\n",
      "statistics.jl\n",
      "sparse.jl\n",
      "irrationals.jl\n",
      "dft.jl\n",
      "dsp.jl\n",
      "sysinfo.jl\n",
      "quadgk.jl\n",
      "fastmath.jl\n",
      "pkg.jl\n",
      "profile.jl\n",
      "Dates.jl\n",
      "markdown/Markdown.jl\n",
      "docs/Docs.jl\n",
      "deprecated.jl\n",
      "require.jl\n",
      "docs/helpdb.jl\n",
      "docs/basedocs.jl\n",
      "/opt/homebrew-cask/Caskroom/julia/0.4.5/Julia-0.4.5.app/Contents/Resources/julia/share/julia/base/precompile.jl\n"
     ]
    },
    {
     "name": "stderr",
     "output_type": "stream",
     "text": [
      "INFO: Linking sys.dylib\n"
     ]
    },
    {
     "name": "stdout",
     "output_type": "stream",
     "text": [
      "\n"
     ]
    },
    {
     "name": "stderr",
     "output_type": "stream",
     "text": [
      "INFO: System image successfully built at /opt/homebrew-cask/Caskroom/julia/0.4.5/Julia-0.4.5.app/Contents/Resources/julia/lib/julia/libhello.dylib\n",
      "INFO: To run Julia with this image loaded, run: julia -J /opt/homebrew-cask/Caskroom/julia/0.4.5/Julia-0.4.5.app/Contents/Resources/julia/lib/julia/libhello.dylib\n"
     ]
    },
    {
     "name": "stdout",
     "output_type": "stream",
     "text": [
      "running: gcc -g `` -I/opt/homebrew-cask/Caskroom/julia/0.4.5/Julia-0.4.5.app/Contents/Resources/julia/include/julia -I/opt/homebrew-cask/Caskroom/julia/0.4.5/Julia-0.4.5.app/Contents/Resources/src -I/opt/homebrew-cask/Caskroom/julia/0.4.5/Julia-0.4.5.app/Contents/Resources/src/support -I/opt/homebrew-cask/Caskroom/julia/0.4.5/Julia-0.4.5.app/Contents/Resources/usr/include /var/folders/5w/p0cqvqwd0j13vs3z4rl18t840000gn/T/tmpCED36A/start_func.c -o /opt/homebrew-cask/Caskroom/julia/0.4.5/Julia-0.4.5.app/Contents/Resources/julia/bin/hello -Wl,-rpath,/opt/homebrew-cask/Caskroom/julia/0.4.5/Julia-0.4.5.app/Contents/Resources/julia/lib/julia -L/opt/homebrew-cask/Caskroom/julia/0.4.5/Julia-0.4.5.app/Contents/Resources/julia/lib/julia -ljulia -lhello\n",
      "\n",
      "running: rm -rf /var/folders/5w/p0cqvqwd0j13vs3z4rl18t840000gn/T/tmpCED36A /opt/homebrew-cask/Caskroom/julia/0.4.5/Julia-0.4.5.app/Contents/Resources/julia/lib/julia/libhello.o /opt/homebrew-cask/Caskroom/julia/0.4.5/Julia-0.4.5.app/Contents/Resources/julia/lib/julia/inference.o /opt/homebrew-cask/Caskroom/julia/0.4.5/Julia-0.4.5.app/Contents/Resources/julia/lib/julia/inference.ji /opt/homebrew-cask/Caskroom/julia/0.4.5/Julia-0.4.5.app/Contents/Resources/julia/lib/julia/inference0.o /opt/homebrew-cask/Caskroom/julia/0.4.5/Julia-0.4.5.app/Contents/Resources/julia/lib/julia/inference0.ji\n",
      "\n",
      "/Users/utensil/experiments/julia-playground/BuildExecutable/dist/hello successfully created.\n"
     ]
    },
    {
     "data": {
      "text/plain": [
       "0"
      ]
     },
     "execution_count": 9,
     "metadata": {},
     "output_type": "execute_result"
    }
   ],
   "source": [
    "build_executable(\"hello\", \"hello.jl\", \"dist\", \"native\")"
   ]
  },
  {
   "cell_type": "code",
   "execution_count": 1,
   "metadata": {
    "collapsed": false
   },
   "outputs": [
    {
     "data": {
      "text/plain": [
       "51-element Array{ByteString,1}:\n",
       " \"hello\"                       \n",
       " \"libRmath-julia.dylib\"        \n",
       " \"libamd.dylib\"                \n",
       " \"libarpack.2.dylib\"           \n",
       " \"libarpack.dylib\"             \n",
       " \"libcamd.dylib\"               \n",
       " \"libccalltest.dylib\"          \n",
       " \"libccalltest.dylib.dSYM\"     \n",
       " \"libccolamd.dylib\"            \n",
       " \"libcholmod.dylib\"            \n",
       " \"libcolamd.dylib\"             \n",
       " \"libdSFMT.dylib\"              \n",
       " \"libfftw3.3.dylib\"            \n",
       " ⋮                             \n",
       " \"libopenspecfun.dylib.1.0\"    \n",
       " \"libpcre2-8.0.dylib\"          \n",
       " \"libpcre2-8.dylib\"            \n",
       " \"libpcre2-posix.0.dylib\"      \n",
       " \"libpcre2-posix.dylib\"        \n",
       " \"libquadmath.0.dylib\"         \n",
       " \"libspqr.dylib\"               \n",
       " \"libsuitesparse_wrapper.dylib\"\n",
       " \"libsuitesparseconfig.dylib\"  \n",
       " \"libumfpack.dylib\"            \n",
       " \"sys-debug.dylib\"             \n",
       " \"sys.dylib\"                   "
      ]
     },
     "execution_count": 1,
     "metadata": {},
     "output_type": "execute_result"
    }
   ],
   "source": [
    "readdir(\"dist\")"
   ]
  },
  {
   "cell_type": "code",
   "execution_count": 25,
   "metadata": {
    "collapsed": false
   },
   "outputs": [
    {
     "data": {
      "text/plain": [
       "true"
      ]
     },
     "execution_count": 25,
     "metadata": {},
     "output_type": "execute_result"
    }
   ],
   "source": [
    "isexecutable(\"./dist/hello\")"
   ]
  },
  {
   "cell_type": "code",
   "execution_count": 13,
   "metadata": {
    "collapsed": false
   },
   "outputs": [
    {
     "name": "stdout",
     "output_type": "stream",
     "text": [
      "Hello Julia"
     ]
    }
   ],
   "source": [
    "run(`./dist/hello`)"
   ]
  },
  {
   "cell_type": "code",
   "execution_count": 14,
   "metadata": {
    "collapsed": false
   },
   "outputs": [
    {
     "data": {
      "text/plain": [
       "\"Hello Julia\""
      ]
     },
     "execution_count": 14,
     "metadata": {},
     "output_type": "execute_result"
    }
   ],
   "source": [
    "str = readall(`./dist/hello`)"
   ]
  },
  {
   "cell_type": "code",
   "execution_count": 16,
   "metadata": {
    "collapsed": false
   },
   "outputs": [
    {
     "name": "stdout",
     "output_type": "stream",
     "text": [
      "Hello Julia\n"
     ]
    }
   ],
   "source": [
    "println(str)"
   ]
  },
  {
   "cell_type": "code",
   "execution_count": null,
   "metadata": {
    "collapsed": true
   },
   "outputs": [],
   "source": []
  }
 ],
 "metadata": {
  "kernelspec": {
   "display_name": "Julia 0.4.5",
   "language": "julia",
   "name": "julia-0.4"
  },
  "language_info": {
   "file_extension": ".jl",
   "mimetype": "application/julia",
   "name": "julia",
   "version": "0.4.5"
  }
 },
 "nbformat": 4,
 "nbformat_minor": 0
}
