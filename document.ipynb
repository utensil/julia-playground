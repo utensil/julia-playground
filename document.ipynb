{
 "cells": [
  {
   "cell_type": "code",
   "execution_count": 1,
   "metadata": {
    "collapsed": false
   },
   "outputs": [
    {
     "data": {
      "text/latex": [
       "\\begin{verbatim}\n",
       "filter(function, collection)\n",
       "\\end{verbatim}\n",
       "Return a copy of \\texttt{collection}, removing elements for which \\texttt{function} is \\texttt{false}. For associative collections, the function is passed two arguments (key and value).\n"
      ],
      "text/markdown": [
       "```\n",
       "filter(function, collection)\n",
       "```\n",
       "\n",
       "Return a copy of `collection`, removing elements for which `function` is `false`. For associative collections, the function is passed two arguments (key and value).\n"
      ],
      "text/plain": [
       "```\n",
       "filter(function, collection)\n",
       "```\n",
       "\n",
       "Return a copy of `collection`, removing elements for which `function` is `false`. For associative collections, the function is passed two arguments (key and value).\n"
      ]
     },
     "execution_count": 1,
     "metadata": {},
     "output_type": "execute_result"
    }
   ],
   "source": [
    "@doc filter"
   ]
  },
  {
   "cell_type": "code",
   "execution_count": 5,
   "metadata": {
    "collapsed": false
   },
   "outputs": [],
   "source": [
    "using HTTPClient.HTTPC"
   ]
  },
  {
   "cell_type": "code",
   "execution_count": 8,
   "metadata": {
    "collapsed": false
   },
   "outputs": [
    {
     "data": {
      "text/latex": [
       "No documentation found.\n",
       "\\texttt{HTTPClient.HTTPC.post} is a generic \\texttt{Function}.\n",
       "\\begin{verbatim}\n",
       "# 3 methods for generic function \"post\":\n",
       "post(url::AbstractString, data::AbstractString) at /Users/utensil/.julia/v0.4/HTTPClient/src/HTTPC.jl:542\n",
       "post(url::AbstractString, data) at /Users/utensil/.julia/v0.4/HTTPClient/src/HTTPC.jl:402\n",
       "post(url::AbstractString, data, options::HTTPClient.HTTPC.RequestOptions) at /Users/utensil/.julia/v0.4/HTTPClient/src/HTTPC.jl:402\n",
       "\\end{verbatim}\n"
      ],
      "text/markdown": [
       "No documentation found.\n",
       "\n",
       "`HTTPClient.HTTPC.post` is a generic `Function`.\n",
       "\n",
       "```julia\n",
       "# 3 methods for generic function \"post\":\n",
       "post(url::AbstractString, data::AbstractString) at /Users/utensil/.julia/v0.4/HTTPClient/src/HTTPC.jl:542\n",
       "post(url::AbstractString, data) at /Users/utensil/.julia/v0.4/HTTPClient/src/HTTPC.jl:402\n",
       "post(url::AbstractString, data, options::HTTPClient.HTTPC.RequestOptions) at /Users/utensil/.julia/v0.4/HTTPClient/src/HTTPC.jl:402\n",
       "```\n"
      ],
      "text/plain": [
       "No documentation found.\n",
       "\n",
       "`HTTPClient.HTTPC.post` is a generic `Function`.\n",
       "\n",
       "```julia\n",
       "# 3 methods for generic function \"post\":\n",
       "post(url::AbstractString, data::AbstractString) at /Users/utensil/.julia/v0.4/HTTPClient/src/HTTPC.jl:542\n",
       "post(url::AbstractString, data) at /Users/utensil/.julia/v0.4/HTTPClient/src/HTTPC.jl:402\n",
       "post(url::AbstractString, data, options::HTTPClient.HTTPC.RequestOptions) at /Users/utensil/.julia/v0.4/HTTPClient/src/HTTPC.jl:402\n",
       "```\n"
      ]
     },
     "execution_count": 8,
     "metadata": {},
     "output_type": "execute_result"
    }
   ],
   "source": [
    "@doc post"
   ]
  },
  {
   "cell_type": "code",
   "execution_count": 18,
   "metadata": {
    "collapsed": false
   },
   "outputs": [
    {
     "data": {
      "text/plain": [
       "\"/opt/homebrew-cask/Caskroom/julia/0.4.5/Julia-0.4.5.app/Contents/Resources/julia/share/doc/julia\""
      ]
     },
     "execution_count": 18,
     "metadata": {},
     "output_type": "execute_result"
    }
   ],
   "source": [
    "julia_doc_home = abspath(joinpath(JULIA_HOME, \"../share/doc/julia\"))"
   ]
  },
  {
   "cell_type": "code",
   "execution_count": 19,
   "metadata": {
    "collapsed": false
   },
   "outputs": [],
   "source": [
    "cd(julia_doc_home)"
   ]
  },
  {
   "cell_type": "code",
   "execution_count": 21,
   "metadata": {
    "collapsed": false
   },
   "outputs": [],
   "source": [
    "run(`open html/index.html`)"
   ]
  },
  {
   "cell_type": "code",
   "execution_count": null,
   "metadata": {
    "collapsed": true
   },
   "outputs": [],
   "source": []
  }
 ],
 "metadata": {
  "kernelspec": {
   "display_name": "Julia 0.4.5",
   "language": "julia",
   "name": "julia-0.4"
  },
  "language_info": {
   "file_extension": ".jl",
   "mimetype": "application/julia",
   "name": "julia",
   "version": "0.4.5"
  }
 },
 "nbformat": 4,
 "nbformat_minor": 0
}
