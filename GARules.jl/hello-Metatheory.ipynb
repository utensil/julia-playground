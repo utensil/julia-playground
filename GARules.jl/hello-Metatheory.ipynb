{
 "cells": [
  {
   "cell_type": "code",
   "execution_count": null,
   "metadata": {},
   "outputs": [],
   "source": [
    "Following https://juliasymbolics.github.io/Metatheory.jl/dev/"
   ]
  },
  {
   "cell_type": "code",
   "execution_count": 1,
   "metadata": {},
   "outputs": [
    {
     "name": "stderr",
     "output_type": "stream",
     "text": [
      "\u001b[32m\u001b[1m     Cloning\u001b[22m\u001b[39m git-repo `https://github.com/JuliaSymbolics/Metatheory.jl`\n"
     ]
    },
    {
     "name": "stderr",
     "output_type": "stream",
     "text": [
      "\u001b[32m\u001b[1m    Updating\u001b[22m\u001b[39m git-repo `https://github.com/JuliaSymbolics/Metatheory.jl`\n"
     ]
    },
    {
     "name": "stderr",
     "output_type": "stream",
     "text": [
      "\u001b[32m\u001b[1m    Updating\u001b[22m\u001b[39m registry at `~/.julia/registries/General.toml`\n"
     ]
    },
    {
     "name": "stderr",
     "output_type": "stream",
     "text": [
      "\u001b[32m\u001b[1m   Resolving\u001b[22m\u001b[39m package versions...\n"
     ]
    },
    {
     "name": "stderr",
     "output_type": "stream",
     "text": [
      "\u001b[32m\u001b[1m   Installed\u001b[22m\u001b[39m AutoHashEquals ─ v0.2.0\n",
      "\u001b[32m\u001b[1m   Installed\u001b[22m\u001b[39m TermInterface ── v0.3.3\n"
     ]
    },
    {
     "name": "stderr",
     "output_type": "stream",
     "text": [
      "\u001b[32m\u001b[1m    Updating\u001b[22m\u001b[39m `/workspaces/julia-playground/GARules.jl/Project.toml`\n",
      " \u001b[90m [e9d8d322] \u001b[39m\u001b[92m+ Metatheory v2.0.1 `https://github.com/JuliaSymbolics/Metatheory.jl#master`\u001b[39m\n",
      "\u001b[32m\u001b[1m    Updating\u001b[22m\u001b[39m `/workspaces/julia-playground/GARules.jl/Manifest.toml`\n",
      " \u001b[90m [15f4f7f2] \u001b[39m\u001b[92m+ AutoHashEquals v0.2.0\u001b[39m\n",
      " \u001b[90m [e9d8d322] \u001b[39m\u001b[92m+ Metatheory v2.0.1 `https://github.com/JuliaSymbolics/Metatheory.jl#master`\u001b[39m\n",
      " \u001b[90m [8ea1fca8] \u001b[39m\u001b[92m+ TermInterface v0.3.3\u001b[39m\n"
     ]
    },
    {
     "name": "stderr",
     "output_type": "stream",
     "text": [
      "\u001b[32m\u001b[1mPrecompiling\u001b[22m\u001b[39m project...\n"
     ]
    },
    {
     "name": "stderr",
     "output_type": "stream",
     "text": [
      "\u001b[32m  ✓ \u001b[39m\u001b[90mAutoHashEquals\u001b[39m\n",
      "\u001b[32m  ✓ \u001b[39m\u001b[90mTermInterface\u001b[39m\n"
     ]
    },
    {
     "name": "stderr",
     "output_type": "stream",
     "text": [
      "\u001b[32m  ✓ \u001b[39mMetatheory\n"
     ]
    },
    {
     "name": "stderr",
     "output_type": "stream",
     "text": [
      "\u001b[32m  ✓ \u001b[39mGARules\n",
      "  4 dependencies successfully precompiled in 4 seconds. 57 already precompiled.\n"
     ]
    }
   ],
   "source": [
    "using Pkg; Pkg.add(url=\"https://github.com/JuliaSymbolics/Metatheory.jl\")"
   ]
  },
  {
   "cell_type": "code",
   "execution_count": 55,
   "metadata": {},
   "outputs": [
    {
     "name": "stderr",
     "output_type": "stream",
     "text": [
      "\u001b[32m\u001b[1m    Updating\u001b[22m\u001b[39m registry at `~/.julia/registries/General.toml`\n",
      "\u001b[32m\u001b[1m   Resolving\u001b[22m\u001b[39m package versions...\n"
     ]
    },
    {
     "name": "stderr",
     "output_type": "stream",
     "text": [
      "\u001b[32m\u001b[1m    Updating\u001b[22m\u001b[39m `/workspaces/julia-playground/GARules.jl/Project.toml`\n",
      " \u001b[90m [e9d8d322] \u001b[39m\u001b[93m~ Metatheory v2.0.1 `https://github.com/JuliaSymbolics/Metatheory.jl#master` ⇒ v2.0.1\u001b[39m\n",
      "\u001b[32m\u001b[1m    Updating\u001b[22m\u001b[39m `/workspaces/julia-playground/GARules.jl/Manifest.toml`\n",
      " \u001b[90m [e9d8d322] \u001b[39m\u001b[93m~ Metatheory v2.0.1 `https://github.com/JuliaSymbolics/Metatheory.jl#master` ⇒ v2.0.1\u001b[39m\n"
     ]
    }
   ],
   "source": [
    "using Pkg; Pkg.add(\"Metatheory\")"
   ]
  },
  {
   "cell_type": "code",
   "execution_count": 56,
   "metadata": {},
   "outputs": [],
   "source": [
    "using Metatheory"
   ]
  },
  {
   "cell_type": "code",
   "execution_count": 57,
   "metadata": {},
   "outputs": [
    {
     "data": {
      "text/plain": [
       "sin(2 * ~x) --> (2 * sin(~x)) * cos(~x)"
      ]
     },
     "metadata": {},
     "output_type": "display_data"
    }
   ],
   "source": [
    "r1 = @rule sin(2(~x)) --> 2sin(~x)*cos(~x)"
   ]
  },
  {
   "cell_type": "code",
   "execution_count": 58,
   "metadata": {},
   "outputs": [
    {
     "data": {
      "text/plain": [
       ":(sin(2z))"
      ]
     },
     "metadata": {},
     "output_type": "display_data"
    }
   ],
   "source": [
    "expr = :(sin(2z))"
   ]
  },
  {
   "cell_type": "code",
   "execution_count": 59,
   "metadata": {},
   "outputs": [
    {
     "data": {
      "text/plain": [
       ":((2 * sin(z)) * cos(z))"
      ]
     },
     "metadata": {},
     "output_type": "display_data"
    }
   ],
   "source": [
    "r1(expr)"
   ]
  },
  {
   "cell_type": "code",
   "execution_count": 60,
   "metadata": {},
   "outputs": [
    {
     "data": {
      "text/plain": [
       "true"
      ]
     },
     "metadata": {},
     "output_type": "display_data"
    }
   ],
   "source": [
    "r1(:(sin(3z))) === nothing"
   ]
  },
  {
   "cell_type": "code",
   "execution_count": 61,
   "metadata": {},
   "outputs": [
    {
     "data": {
      "text/plain": [
       ":((2 * sin(w - z)) * cos(w - z))"
      ]
     },
     "metadata": {},
     "output_type": "display_data"
    }
   ],
   "source": [
    "r1(:(sin(2*(w-z))))"
   ]
  },
  {
   "cell_type": "code",
   "execution_count": 62,
   "metadata": {},
   "outputs": [
    {
     "data": {
      "text/plain": [
       "true"
      ]
     },
     "metadata": {},
     "output_type": "display_data"
    }
   ],
   "source": [
    "r1(:(sin(2*(w+z)*(α+β)))) === nothing"
   ]
  },
  {
   "cell_type": "code",
   "execution_count": 63,
   "metadata": {},
   "outputs": [
    {
     "data": {
      "text/plain": [
       "sin(~x + ~y) --> sin(~x) * cos(~y) + cos(~x) * sin(~y)"
      ]
     },
     "metadata": {},
     "output_type": "display_data"
    }
   ],
   "source": [
    "r2 = @rule sin(~x + ~y) --> sin(~x)*cos(~y) + cos(~x)*sin(~y)"
   ]
  },
  {
   "cell_type": "code",
   "execution_count": 64,
   "metadata": {},
   "outputs": [
    {
     "data": {
      "text/plain": [
       "3-element view(::Vector{Any}, 1:3) with eltype Any:\n",
       " :x\n",
       " :y\n",
       " :z"
      ]
     },
     "metadata": {},
     "output_type": "display_data"
    }
   ],
   "source": [
    "@rule(+(~xs...) => xs)(:(x + y + z))"
   ]
  },
  {
   "cell_type": "code",
   "execution_count": 65,
   "metadata": {},
   "outputs": [
    {
     "data": {
      "text/plain": [
       "(*)(~ys...) ^ ~x => Core._expr(:call, :*, map((y->begin\n",
       "                    Core._expr(:call, :^, y, x)\n",
       "                end), ys)...)"
      ]
     },
     "metadata": {},
     "output_type": "display_data"
    }
   ],
   "source": [
    "r3 = @rule *(~ys...)^~x => :((*)($(map(y-> :($y^$x), ys)...)))"
   ]
  },
  {
   "cell_type": "code",
   "execution_count": 66,
   "metadata": {},
   "outputs": [
    {
     "data": {
      "text/plain": [
       ":(w ^ 2 * w ^ 2 * α ^ 2 * β ^ 2)"
      ]
     },
     "metadata": {},
     "output_type": "display_data"
    }
   ],
   "source": [
    "r3(:((w*w*α*β)^2))"
   ]
  },
  {
   "cell_type": "code",
   "execution_count": 67,
   "metadata": {},
   "outputs": [],
   "source": [
    "r = @rule +(~x, ~y::(ys->iseven(length(ys)))...) => \"odd terms\";"
   ]
  },
  {
   "cell_type": "code",
   "execution_count": 68,
   "metadata": {},
   "outputs": [
    {
     "name": "stdout",
     "output_type": "stream",
     "text": [
      "r($(Expr(:quote, :(a + b + c + d)))) = nothing\n",
      "r($(Expr(:quote, :(b + c + d)))) = \"odd terms\"\n",
      "r($(Expr(:quote, :(b + c + b)))) = \"odd terms\"\n",
      "r($(Expr(:quote, :(a + b)))) = nothing\n"
     ]
    }
   ],
   "source": [
    "@show r(:(a + b + c + d))\n",
    "@show r(:(b + c + d))\n",
    "@show r(:(b + c + b))\n",
    "@show r(:(a + b))"
   ]
  },
  {
   "cell_type": "code",
   "execution_count": 69,
   "metadata": {},
   "outputs": [
    {
     "data": {
      "text/plain": [
       "sin(~x + ~y) => sin(x) * cos(y) + cos(x) * sin(y)"
      ]
     },
     "metadata": {},
     "output_type": "display_data"
    }
   ],
   "source": [
    "@slots x y @rule sin(x + y) => sin(x)*cos(y) + cos(x)*sin(y)"
   ]
  },
  {
   "cell_type": "code",
   "execution_count": 70,
   "metadata": {},
   "outputs": [],
   "source": [
    "@slots xs @rule(+(~xs...) => xs);"
   ]
  },
  {
   "cell_type": "code",
   "execution_count": 71,
   "metadata": {},
   "outputs": [
    {
     "data": {
      "text/plain": [
       "sin(~x + ~y) => sin(x) * cos(y) + cos(x) * sin(y)"
      ]
     },
     "metadata": {},
     "output_type": "display_data"
    }
   ],
   "source": [
    "@rule x y sin(x + y) => sin(x)*cos(y) + cos(x)*sin(y)"
   ]
  },
  {
   "cell_type": "code",
   "execution_count": 72,
   "metadata": {},
   "outputs": [
    {
     "data": {
      "text/plain": [
       "2-element Vector{SymbolicRule}:\n",
       " ~x * (~y + ~z) --> ~x * ~y + ~x * ~z\n",
       " ~x + ~y == ~y + ~x"
      ]
     },
     "metadata": {},
     "output_type": "display_data"
    }
   ],
   "source": [
    "t = @theory x y z begin \n",
    "    x * (y + z) --> (x * y) + (x * z)\n",
    "    x + y       ==  (y + x)\n",
    "    #...\n",
    "end"
   ]
  },
  {
   "cell_type": "code",
   "execution_count": 73,
   "metadata": {},
   "outputs": [],
   "source": [
    "using Metatheory.Library"
   ]
  },
  {
   "cell_type": "code",
   "execution_count": 183,
   "metadata": {},
   "outputs": [
    {
     "data": {
      "text/plain": [
       "9-element Vector{RewriteRule}:\n",
       " ~a * ~b --> ~b * ~a\n",
       " (~a * ~b) * ~c --> ~a * (~b * ~c)\n",
       " ~a * (~b * ~c) --> (~a * ~b) * ~c\n",
       " 1 * ~a --> ~a\n",
       " ~a + 0 --> ~a\n",
       " ~a + ~b --> ~b + ~a\n",
       " ~a + inv(~a) --> 0\n",
       " ~a + (~b + ~c) --> (~a + ~b) + ~c\n",
       " ~a * (~b + ~c) --> ~a * ~b + ~a * ~c"
      ]
     },
     "metadata": {},
     "output_type": "display_data"
    }
   ],
   "source": [
    "comm_monoid = @commutative_monoid (*) 1\n",
    "comm_group = @theory a b c begin\n",
    "    a + 0 --> a\n",
    "    a + b --> b + a\n",
    "    a + inv(a) --> 0 # inverse\n",
    "    a + (b + c) --> (a + b) + c\n",
    "end\n",
    "distrib = @theory a b c begin\n",
    "    a * (b + c) --> (a * b) + (a * c)\n",
    "end\n",
    "t = comm_monoid ∪ comm_group ∪ distrib"
   ]
  },
  {
   "cell_type": "code",
   "execution_count": 75,
   "metadata": {},
   "outputs": [
    {
     "data": {
      "text/plain": [
       "sin(2 * ~x) == (2 * sin(~x)) * cos(~x)"
      ]
     },
     "metadata": {},
     "output_type": "display_data"
    }
   ],
   "source": [
    "rsin = @rule x sin(2x) == 2sin(x)*cos(x)"
   ]
  },
  {
   "cell_type": "code",
   "execution_count": 77,
   "metadata": {},
   "outputs": [
    {
     "data": {
      "text/plain": [
       "4-element Vector{RewriteRule}:\n",
       " ~a * ~b --> ~b * ~a\n",
       " (~a * ~b) * ~c --> ~a * (~b * ~c)\n",
       " ~a * (~b * ~c) --> (~a * ~b) * ~c\n",
       " 1 * ~a --> ~a"
      ]
     },
     "metadata": {},
     "output_type": "display_data"
    }
   ],
   "source": [
    "comm_monoid"
   ]
  },
  {
   "cell_type": "code",
   "execution_count": 78,
   "metadata": {},
   "outputs": [
    {
     "data": {
      "text/plain": [
       "3-element Vector{EqualityRule}:\n",
       " ~a * ~b == ~b * ~a\n",
       " ~a * 1 == ~a\n",
       " ~a * (~b * ~c) == (~a * ~b) * ~c"
      ]
     },
     "metadata": {},
     "output_type": "display_data"
    }
   ],
   "source": [
    "t2 = @theory a b c begin\n",
    "    a * b == b * a\n",
    "    a * 1 == a\n",
    "    a * (b * c) == (a * b) * c\n",
    "end"
   ]
  },
  {
   "cell_type": "code",
   "execution_count": 152,
   "metadata": {},
   "outputs": [
    {
     "data": {
      "text/plain": [
       "CircularDeque{Tuple{Int64, Int64}}([])"
      ]
     },
     "metadata": {},
     "output_type": "display_data"
    }
   ],
   "source": [
    "Metatheory.resetbuffers!(Metatheory.DEFAULT_BUFFER_SIZE)"
   ]
  },
  {
   "cell_type": "code",
   "execution_count": 153,
   "metadata": {},
   "outputs": [
    {
     "data": {
      "text/plain": [
       "EGraph(IntDisjointSet([-1, -1, -1, -1, -1, -1, -1, -1], Base.RefValue{Bool}(true)), Dict{Int64, EClass}(5 => EClass 5 ([c], NamedTuple()), 4 => EClass 4 ([1], NamedTuple()), 6 => EClass 6 ([ENode(call, +, Expr, [2, 5])], NamedTuple()), 7 => EClass 7 ([ENode(call, *, Expr, [4, 6])], NamedTuple()), 2 => EClass 2 ([b], NamedTuple()), 8 => EClass 8 ([ENode(call, *, Expr, [3, 7])], NamedTuple()), 3 => EClass 3 ([ENode(call, *, Expr, [1, 2])], NamedTuple()), 1 => EClass 1 ([a], NamedTuple())), Dict{AbstractENode, Int64}(ENode(call, *, Expr, [4, 6]) => 7, a => 1, c => 5, ENode(call, *, Expr, [1, 2]) => 3, ENode(call, +, Expr, [2, 5]) => 6, ENode(call, *, Expr, [3, 7]) => 8, b => 2, 1 => 4), Int64[], 8, Dict{Union{Function, Symbol}, Union{Function, Symbol}}(), Dict{Any, Vector{Int64}}(:a => [1], :b => [2], :+ => [6], :c => [5], :* => [3, 7, 8], 1 => [4]), Expr, Dict{Tuple{Any, Int64}, Type}(), 8, 0)"
      ]
     },
     "metadata": {},
     "output_type": "display_data"
    }
   ],
   "source": [
    "g = EGraph(:((a * b) * (1 * (b + c))))"
   ]
  },
  {
   "cell_type": "code",
   "execution_count": 154,
   "metadata": {},
   "outputs": [
    {
     "data": {
      "text/plain": [
       "SaturationReport\n",
       "=================\n",
       "\tStop Reason: saturated\n",
       "\tIterations: 4\n",
       "\tEGraph Size: 9 eclasses, 72 nodes\n",
       "\u001b[0m\u001b[1m ────────────────────────────────────────────────────────────────────\u001b[22m\n",
       "\u001b[0m\u001b[1m                   \u001b[22m         Time                    Allocations      \n",
       "                   ───────────────────────   ────────────────────────\n",
       " Tot / % measured:     3.24ms /  95.0%            829KiB /  99.2%    \n",
       "\n",
       " Section   ncalls     time    %tot     avg     alloc    %tot      avg\n",
       " ────────────────────────────────────────────────────────────────────\n",
       " Apply          4   1.88ms   61.0%   470μs    439KiB   53.3%   110KiB\n",
       " Search         4    937μs   30.4%   234μs    325KiB   39.5%  81.2KiB\n",
       "   3            4    656μs   21.3%   164μs    208KiB   25.4%  52.1KiB\n",
       "   1            4    139μs    4.5%  34.7μs   62.9KiB    7.6%  15.7KiB\n",
       "   2            4    124μs    4.0%  31.1μs   50.1KiB    6.1%  12.5KiB\n",
       " Rebuild        4    263μs    8.6%  65.9μs   59.1KiB    7.2%  14.8KiB\n",
       "\u001b[0m\u001b[1m ────────────────────────────────────────────────────────────────────\u001b[22m\n"
      ]
     },
     "metadata": {},
     "output_type": "display_data"
    }
   ],
   "source": [
    "report = saturate!(g, t2)"
   ]
  },
  {
   "cell_type": "code",
   "execution_count": 155,
   "metadata": {},
   "outputs": [
    {
     "data": {
      "text/plain": [
       ":((b + c) * (b * a))"
      ]
     },
     "metadata": {},
     "output_type": "display_data"
    }
   ],
   "source": [
    "extract!(g, astsize)"
   ]
  },
  {
   "cell_type": "code",
   "execution_count": 156,
   "metadata": {},
   "outputs": [
    {
     "ename": "Metatheory.Rules.RuleRewriteError",
     "evalue": "Failed to apply rule sin(2 * ~x) == (2 * sin(~x)) * cos(~x) on expression :(sin(2x))",
     "output_type": "error",
     "traceback": [
      "Failed to apply rule sin(2 * ~x) == (2 * sin(~x)) * cos(~x) on expression :(sin(2x))\n",
      "\n",
      "Stacktrace:\n",
      " [1] (::EqualityRule)(x::Expr)\n",
      "   @ Metatheory.Rules ~/.julia/packages/Metatheory/gACcT/src/Rules.jl:120\n",
      " [2] top-level scope\n",
      "   @ /workspaces/julia-playground/GARules.jl/hello-Metatheory.ipynb:1"
     ]
    }
   ],
   "source": [
    "rsin(:(sin(2 * x)))"
   ]
  },
  {
   "cell_type": "code",
   "execution_count": 177,
   "metadata": {},
   "outputs": [
    {
     "data": {
      "text/plain": [
       "EGraph(IntDisjointSet([-1, -1, -1, -1, -1, -1], Base.RefValue{Bool}(true)), Dict{Int64, EClass}(5 => EClass 5 ([ENode(call, cos, Expr, [2])], NamedTuple()), 4 => EClass 4 ([ENode(call, *, Expr, [1, 3])], NamedTuple()), 6 => EClass 6 ([ENode(call, *, Expr, [4, 5])], NamedTuple()), 2 => EClass 2 ([x], NamedTuple()), 3 => EClass 3 ([ENode(call, sin, Expr, [2])], NamedTuple()), 1 => EClass 1 ([2], NamedTuple())), Dict{AbstractENode, Int64}(x => 2, 2 => 1, ENode(call, *, Expr, [1, 3]) => 4, ENode(call, cos, Expr, [2]) => 5, ENode(call, *, Expr, [4, 5]) => 6, ENode(call, sin, Expr, [2]) => 3), Int64[], 6, Dict{Union{Function, Symbol}, Union{Function, Symbol}}(), Dict{Any, Vector{Int64}}(2 => [1], :cos => [5], :* => [4, 6], :sin => [3], :x => [2]), Expr, Dict{Tuple{Any, Int64}, Type}(), 6, 0)"
      ]
     },
     "metadata": {},
     "output_type": "display_data"
    }
   ],
   "source": [
    "g = EGraph(:(2sin(x)*cos(x)))"
   ]
  },
  {
   "cell_type": "code",
   "execution_count": 178,
   "metadata": {},
   "outputs": [
    {
     "data": {
      "text/plain": [
       "SaturationReport\n",
       "=================\n",
       "\tStop Reason: saturated\n",
       "\tIterations: 2\n",
       "\tEGraph Size: 7 eclasses, 8 nodes\n",
       "\u001b[0m\u001b[1m ────────────────────────────────────────────────────────────────────\u001b[22m\n",
       "\u001b[0m\u001b[1m                   \u001b[22m         Time                    Allocations      \n",
       "                   ───────────────────────   ────────────────────────\n",
       " Tot / % measured:      397μs /  63.7%           24.6KiB /  73.0%    \n",
       "\n",
       " Section   ncalls     time    %tot     avg     alloc    %tot      avg\n",
       " ────────────────────────────────────────────────────────────────────\n",
       " Search         2    121μs   47.9%  60.6μs   11.2KiB   62.2%  5.58KiB\n",
       "   1            2    114μs   44.9%  56.8μs   10.2KiB   57.1%  5.12KiB\n",
       " Apply          2   98.7μs   39.0%  49.4μs   5.08KiB   28.3%  2.54KiB\n",
       " Rebuild        2   33.0μs   13.1%  16.5μs   1.70KiB    9.5%     872B\n",
       "\u001b[0m\u001b[1m ────────────────────────────────────────────────────────────────────\u001b[22m\n"
      ]
     },
     "metadata": {},
     "output_type": "display_data"
    }
   ],
   "source": [
    "report = saturate!(g, [rsin])"
   ]
  },
  {
   "cell_type": "code",
   "execution_count": 179,
   "metadata": {},
   "outputs": [
    {
     "data": {
      "text/plain": [
       ":(sin(2x))"
      ]
     },
     "metadata": {},
     "output_type": "display_data"
    }
   ],
   "source": [
    "extract!(g, astsize)"
   ]
  },
  {
   "cell_type": "code",
   "execution_count": 181,
   "metadata": {},
   "outputs": [
    {
     "data": {
      "text/plain": [
       "4-element Vector{RewriteRule}:\n",
       " ~a + 0 --> ~a\n",
       " ~a + ~b --> ~b + ~a\n",
       " ~a + inv(~a) --> 0\n",
       " ~a + (~b + ~c) --> (~a + ~b) + ~c"
      ]
     },
     "metadata": {},
     "output_type": "display_data"
    }
   ],
   "source": [
    "comm_group"
   ]
  },
  {
   "cell_type": "code",
   "execution_count": 157,
   "metadata": {},
   "outputs": [
    {
     "data": {
      "text/plain": [
       "false"
      ]
     },
     "metadata": {},
     "output_type": "display_data"
    }
   ],
   "source": [
    "@areequal comm_group (x+y)*(a+b) ((a*(x+y))+b*(x+y)) ((x*(a+b))+y*(a+b)) "
   ]
  },
  {
   "cell_type": "code",
   "execution_count": 184,
   "metadata": {},
   "outputs": [
    {
     "data": {
      "text/plain": [
       "9-element Vector{RewriteRule}:\n",
       " ~a * ~b --> ~b * ~a\n",
       " (~a * ~b) * ~c --> ~a * (~b * ~c)\n",
       " ~a * (~b * ~c) --> (~a * ~b) * ~c\n",
       " 1 * ~a --> ~a\n",
       " ~a + 0 --> ~a\n",
       " ~a + ~b --> ~b + ~a\n",
       " ~a + inv(~a) --> 0\n",
       " ~a + (~b + ~c) --> (~a + ~b) + ~c\n",
       " ~a * (~b + ~c) --> ~a * ~b + ~a * ~c"
      ]
     },
     "metadata": {},
     "output_type": "display_data"
    }
   ],
   "source": [
    "t"
   ]
  },
  {
   "cell_type": "code",
   "execution_count": 185,
   "metadata": {},
   "outputs": [
    {
     "data": {
      "text/plain": [
       "true"
      ]
     },
     "metadata": {},
     "output_type": "display_data"
    }
   ],
   "source": [
    "@areequal t a * b * c b * (a * c)"
   ]
  },
  {
   "cell_type": "code",
   "execution_count": 186,
   "metadata": {},
   "outputs": [
    {
     "data": {
      "text/plain": [
       "true"
      ]
     },
     "metadata": {},
     "output_type": "display_data"
    }
   ],
   "source": [
    "@areequal t (x+y)*(a+b) ((a*(x+y))+b*(x+y)) ((x*(a+b))+y*(a+b)) "
   ]
  },
  {
   "cell_type": "code",
   "execution_count": 187,
   "metadata": {},
   "outputs": [
    {
     "data": {
      "text/plain": [
       "20-element Vector{AbstractRule}:\n",
       " ~a + 0 --> ~a\n",
       " ~a + ~b --> ~b + ~a\n",
       " ~a + inv(~a) --> 0\n",
       " ~a + (~b + ~c) --> (~a + ~b) + ~c\n",
       " ~a * (~b + ~c) --> ~a * ~b + ~a * ~c\n",
       " ~a * ~b + ~a * ~c --> ~a * (~b + ~c)\n",
       " ~a * ~a --> (~a) ^ 2\n",
       " ~a --> (~a) ^ 1\n",
       " (~a) ^ ~b * (~a) ^ ~c --> (~a) ^ (~b + ~c)\n",
       " log((~a) ^ ~b) --> ~b * log(~a)\n",
       " log(~a * ~b) --> log(~a) + log(~b)\n",
       " log(1) --> 0\n",
       " log(e) --> 1\n",
       " e ^ log(~a) --> ~a\n",
       " ~(a::Number) + ~(b::Number) => a + b\n",
       " ~(a::Number) * ~(b::Number) => a * b\n",
       " ~a * ~b --> ~b * ~a\n",
       " (~a * ~b) * ~c --> ~a * (~b * ~c)\n",
       " ~a * (~b * ~c) --> (~a * ~b) * ~c\n",
       " 1 * ~a --> ~a"
      ]
     },
     "metadata": {},
     "output_type": "display_data"
    }
   ],
   "source": [
    "t3 = @theory a b c begin\n",
    "    a + 0 --> a\n",
    "    a + b --> b + a\n",
    "    a + inv(a) --> 0 # inverse\n",
    "    a + (b + c) --> (a + b) + c\n",
    "\ta * (b + c) --> (a * b) + (a * c)\n",
    "\t(a * b) + (a * c) --> a * (b + c)\n",
    "\ta * a --> a^2\n",
    "\ta --> a^1\n",
    "\ta^b * a^c --> a^(b+c)\n",
    "\tlog(a^b) --> b * log(a)\n",
    "\tlog(a * b) --> log(a) + log(b)\n",
    "\tlog(1) --> 0\n",
    "\tlog(:e) --> 1\n",
    "\t:e^(log(a)) --> a\n",
    "\ta::Number + b::Number => a + b\n",
    "\ta::Number * b::Number => a * b\n",
    "end\n",
    "t3 = t3 ∪ comm_monoid "
   ]
  },
  {
   "cell_type": "code",
   "execution_count": 188,
   "metadata": {},
   "outputs": [
    {
     "data": {
      "text/plain": [
       "true"
      ]
     },
     "metadata": {},
     "output_type": "display_data"
    }
   ],
   "source": [
    "@areequal t3 (x+y)*(a+b) ((a*(x+y))+b*(x+y)) ((x*(a+b))+y*(a+b)) "
   ]
  },
  {
   "cell_type": "code",
   "execution_count": 160,
   "metadata": {},
   "outputs": [
    {
     "data": {
      "text/plain": [
       ":((log(e) * log(e)) * log(a ^ 3 * a ^ 2))"
      ]
     },
     "metadata": {},
     "output_type": "display_data"
    }
   ],
   "source": [
    "expr = :((log(e) * log(e)) * (log(a^3 * a^2)))"
   ]
  },
  {
   "cell_type": "code",
   "execution_count": 161,
   "metadata": {},
   "outputs": [
    {
     "data": {
      "text/plain": [
       "EGraph(IntDisjointSet([-1, -1, -1, -1, -1, -1, -1, -1, -1, -1, -1], Base.RefValue{Bool}(true)), Dict{Int64, EClass}(5 => EClass 5 ([3], NamedTuple()), 8 => EClass 8 ([ENode(call, ^, Expr, [4, 7])], NamedTuple()), 1 => EClass 1 ([e], NamedTuple()), 6 => EClass 6 ([ENode(call, ^, Expr, [4, 5])], NamedTuple()), 11 => EClass 11 ([ENode(call, *, Expr, [3, 10])], NamedTuple()), 9 => EClass 9 ([ENode(call, *, Expr, [6, 8])], NamedTuple()), 3 => EClass 3 ([ENode(call, *, Expr, [2, 2])], NamedTuple()), 7 => EClass 7 ([2], NamedTuple()), 4 => EClass 4 ([a], NamedTuple()), 2 => EClass 2 ([ENode(call, log, Expr, [1])], NamedTuple())…), Dict{AbstractENode, Int64}(ENode(call, log, Expr, [9]) => 10, ENode(call, ^, Expr, [4, 5]) => 6, e => 1, 3 => 5, 2 => 7, a => 4, ENode(call, ^, Expr, [4, 7]) => 8, ENode(call, *, Expr, [6, 8]) => 9, ENode(call, *, Expr, [2, 2]) => 3, ENode(call, log, Expr, [1]) => 2…), Int64[], 11, Dict{Union{Function, Symbol}, Union{Function, Symbol}}(), Dict{Any, Vector{Int64}}(:log => [2, 10], :a => [4], :^ => [6, 8], 2 => [7], :e => [1], :* => [3, 9, 11], 3 => [5]), Expr, Dict{Tuple{Any, Int64}, Type}(), 11, 0)"
      ]
     },
     "metadata": {},
     "output_type": "display_data"
    }
   ],
   "source": [
    "g = EGraph(expr)"
   ]
  },
  {
   "cell_type": "code",
   "execution_count": 162,
   "metadata": {},
   "outputs": [
    {
     "data": {
      "text/plain": [
       "CircularDeque{Tuple{Int64, Int64}}([])"
      ]
     },
     "metadata": {},
     "output_type": "display_data"
    }
   ],
   "source": [
    "Metatheory.resetbuffers!(Metatheory.DEFAULT_BUFFER_SIZE)"
   ]
  },
  {
   "cell_type": "code",
   "execution_count": 163,
   "metadata": {},
   "outputs": [
    {
     "data": {
      "text/plain": [
       "SaturationReport\n",
       "=================\n",
       "\tStop Reason: timeout\n",
       "\tIterations: 8\n",
       "\tEGraph Size: 203 eclasses, 7229 nodes\n",
       "\u001b[0m\u001b[1m ────────────────────────────────────────────────────────────────────\u001b[22m\n",
       "\u001b[0m\u001b[1m                   \u001b[22m         Time                    Allocations      \n",
       "                   ───────────────────────   ────────────────────────\n",
       " Tot / % measured:      158ms /  99.8%           27.7MiB / 100.0%    \n",
       "\n",
       " Section   ncalls     time    %tot     avg     alloc    %tot      avg\n",
       " ────────────────────────────────────────────────────────────────────\n",
       " Apply          8   88.2ms   55.9%  11.0ms   13.4MiB   48.5%  1.68MiB\n",
       " Rebuild        8   57.5ms   36.4%  7.19ms   8.11MiB   29.3%  1.01MiB\n",
       " Search         8   12.0ms    7.6%  1.50ms   6.14MiB   22.2%   786KiB\n",
       "   9            8   2.32ms    1.5%   290μs   1.48MiB    5.3%   189KiB\n",
       "   6            8   1.69ms    1.1%   211μs   1.25MiB    4.5%   159KiB\n",
       "   4            8   1.37ms    0.9%   172μs   1.04MiB    3.8%   133KiB\n",
       "   12           8    862μs    0.5%   108μs    131KiB    0.5%  16.4KiB\n",
       "   13           8    834μs    0.5%   104μs    146KiB    0.5%  18.2KiB\n",
       "   1            8    716μs    0.5%  89.6μs    230KiB    0.8%  28.7KiB\n",
       "   3            8    645μs    0.4%  80.6μs    445KiB    1.6%  55.6KiB\n",
       "   5            8    516μs    0.3%  64.6μs    322KiB    1.1%  40.2KiB\n",
       "   2            8    444μs    0.3%  55.6μs    205KiB    0.7%  25.6KiB\n",
       "   18           8    429μs    0.3%  53.7μs    199KiB    0.7%  24.9KiB\n",
       "   19           8    357μs    0.2%  44.6μs    182KiB    0.6%  22.7KiB\n",
       "   15           8    263μs    0.2%  32.8μs   66.8KiB    0.2%  8.34KiB\n",
       "   7            8    260μs    0.2%  32.5μs    116KiB    0.4%  14.6KiB\n",
       "   14           8    226μs    0.1%  28.2μs   60.2KiB    0.2%  7.53KiB\n",
       "   20           8    213μs    0.1%  26.6μs   80.9KiB    0.3%  10.1KiB\n",
       "   17           8    201μs    0.1%  25.2μs   74.8KiB    0.3%  9.34KiB\n",
       "   10           8    194μs    0.1%  24.2μs   47.7KiB    0.2%  5.96KiB\n",
       "   16           8    189μs    0.1%  23.6μs   54.2KiB    0.2%  6.78KiB\n",
       "   11           8    164μs    0.1%  20.4μs   45.9KiB    0.2%  5.73KiB\n",
       "   8            8   34.9μs    0.0%  4.36μs   1.25KiB    0.0%     160B\n",
       "\u001b[0m\u001b[1m ────────────────────────────────────────────────────────────────────\u001b[22m\n"
      ]
     },
     "metadata": {},
     "output_type": "display_data"
    }
   ],
   "source": [
    "saturate!(g, t3)"
   ]
  },
  {
   "cell_type": "code",
   "execution_count": 164,
   "metadata": {},
   "outputs": [
    {
     "data": {
      "text/plain": [
       "5-element Vector{EqualityRule}:\n",
       " ~a * (~b * ~c) == (~a * ~b) * ~c\n",
       " ~a + (~b + ~c) == (~a + ~b) + ~c\n",
       " ~a * ~b == ~b * ~a\n",
       " ~a + ~b == ~b + ~a\n",
       " ~a * (~b + ~c) == ~a * ~b + ~a * ~c"
      ]
     },
     "metadata": {},
     "output_type": "display_data"
    }
   ],
   "source": [
    "t4  = @theory a b c begin \n",
    "    a * (b * c) == (a * b) * c\n",
    "    a + (b + c) == (a + b) + c\n",
    "    a * b == b * a\n",
    "    a + b == b + a\n",
    "    a * (b + c) == (a * b) + (a * c)\n",
    "end"
   ]
  },
  {
   "cell_type": "code",
   "execution_count": 165,
   "metadata": {},
   "outputs": [],
   "source": [
    "using Metatheory.EGraphs"
   ]
  },
  {
   "cell_type": "code",
   "execution_count": 202,
   "metadata": {},
   "outputs": [
    {
     "name": "stderr",
     "output_type": "stream",
     "text": [
      "\u001b[32m\u001b[1m   Resolving\u001b[22m\u001b[39m package versions...\n"
     ]
    },
    {
     "name": "stderr",
     "output_type": "stream",
     "text": [
      "\u001b[32m\u001b[1m    Updating\u001b[22m\u001b[39m `/workspaces/julia-playground/GARules.jl/Project.toml`\n",
      " \u001b[90m [8ea1fca8] \u001b[39m\u001b[92m+ TermInterface v0.3.3\u001b[39m\n",
      "\u001b[32m\u001b[1m  No Changes\u001b[22m\u001b[39m to `/workspaces/julia-playground/GARules.jl/Manifest.toml`\n"
     ]
    }
   ],
   "source": [
    "Pkg.add(\"TermInterface\")"
   ]
  },
  {
   "cell_type": "code",
   "execution_count": 203,
   "metadata": {},
   "outputs": [],
   "source": [
    "using TermInterface"
   ]
  },
  {
   "cell_type": "code",
   "execution_count": 210,
   "metadata": {},
   "outputs": [
    {
     "data": {
      "text/plain": [
       "exprhead (generic function with 4 methods)"
      ]
     },
     "metadata": {},
     "output_type": "display_data"
    }
   ],
   "source": [
    "exprhead"
   ]
  },
  {
   "cell_type": "code",
   "execution_count": 233,
   "metadata": {},
   "outputs": [],
   "source": [
    "function EGraphs.make(::Val{:OddEvenAnalysis}, g::EGraph, n::ENodeLiteral)\n",
    "    if n.value isa Integer\n",
    "        return iseven(n.value) ? :even : :odd\n",
    "    else \n",
    "        return nothing\n",
    "    end\n",
    "end\n",
    "\n",
    "function EGraphs.make(::Val{:OddEvenAnalysis}, g::EGraph, n::ENodeTerm)\n",
    "    println(n)\n",
    "    # Let's consider only binary function call terms.\n",
    "    if exprhead(n) == :call && arity(n) == 2\n",
    "        op = operation(n)\n",
    "        # Get the left and right child eclasses\n",
    "        child_eclasses = arguments(n)\n",
    "        l = g[child_eclasses[1]]\n",
    "        r = g[child_eclasses[2]]\n",
    "\n",
    "        # Get the corresponding OddEvenAnalysis value of the children\n",
    "        # defaulting to nothing \n",
    "        ldata = getdata(l, :OddEvenAnalysis, nothing)\n",
    "        rdata = getdata(r, :OddEvenAnalysis, nothing)\n",
    "\n",
    "        if ldata isa Symbol && rdata isa Symbol\n",
    "            if op == :*\n",
    "                if ldata == rdata\n",
    "                    ldata\n",
    "                elseif (ldata == :even || rdata == :even) \n",
    "                    :even\n",
    "                else\n",
    "                    println(\"EGraphs.make: ldata, rdata: an expression cannot be odd and even at the same time!\")\n",
    "                    nothing \n",
    "                end\n",
    "            elseif op == :+\n",
    "                (ldata == rdata) ? :even : :odd\n",
    "            end\n",
    "        elseif isnothing(ldata) && rdata isa Symbol && op == :*\n",
    "            rdata\n",
    "        elseif ldata isa Symbol && isnothing(rdata) && op == :*\n",
    "            ldata\n",
    "        end\n",
    "    end\n",
    "\n",
    "    println(\"EGraphs.make: an expression cannot be odd and even at the same time!\")\n",
    "    return nothing\n",
    "end\n",
    "\n",
    "function EGraphs.join(::Val{:OddEvenAnalysis}, a, b)\n",
    "    if a == b \n",
    "        return a \n",
    "    else\n",
    "        # an expression cannot be odd and even at the same time!\n",
    "        # this is contradictory, so we ignore the analysis value\n",
    "        println(\"EGraphs.join: an expression cannot be odd and even at the same time!\")\n",
    "        return nothing \n",
    "    end\n",
    "end"
   ]
  },
  {
   "cell_type": "code",
   "execution_count": 234,
   "metadata": {},
   "outputs": [
    {
     "data": {
      "text/plain": [
       "custom_analysis (generic function with 1 method)"
      ]
     },
     "metadata": {},
     "output_type": "display_data"
    }
   ],
   "source": [
    "function custom_analysis(expr)\n",
    "    g = EGraph(expr)\n",
    "    saturate!(g, t4)\n",
    "    analyze!(g, :OddEvenAnalysis)\n",
    "    return getdata(g[g.root], :OddEvenAnalysis)\n",
    "end"
   ]
  },
  {
   "cell_type": "code",
   "execution_count": 235,
   "metadata": {},
   "outputs": [
    {
     "name": "stdout",
     "output_type": "stream",
     "text": [
      "ENode(call, *, Expr, [2, 1])\n",
      "EGraphs.make: an expression cannot be odd and even at the same time!\n",
      "ENode(call, *, Expr, [1, 2])\n",
      "EGraphs.make: an expression cannot be odd and even at the same time!\n",
      "ENode(call, *, Expr, [2, 1])\n",
      "EGraphs.make: an expression cannot be odd and even at the same time!\n",
      "ENode(call, *, Expr, [1, 2])\n",
      "EGraphs.make: an expression cannot be odd and even at the same time!\n"
     ]
    }
   ],
   "source": [
    "custom_analysis(:(2*a)) # :even"
   ]
  }
 ],
 "metadata": {
  "kernelspec": {
   "display_name": "Julia 1.8.4",
   "language": "julia",
   "name": "julia-1.8"
  },
  "language_info": {
   "file_extension": ".jl",
   "mimetype": "application/julia",
   "name": "julia",
   "version": "1.8.4"
  },
  "orig_nbformat": 4
 },
 "nbformat": 4,
 "nbformat_minor": 2
}
