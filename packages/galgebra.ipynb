{
 "cells": [
  {
   "cell_type": "code",
   "execution_count": 9,
   "metadata": {
    "collapsed": false
   },
   "outputs": [],
   "source": [
    "using PyCall"
   ]
  },
  {
   "cell_type": "code",
   "execution_count": 19,
   "metadata": {
    "collapsed": false
   },
   "outputs": [],
   "source": [
    "cd(\"/Users/utensil/experiments/\")"
   ]
  },
  {
   "cell_type": "code",
   "execution_count": 13,
   "metadata": {
    "collapsed": false
   },
   "outputs": [
    {
     "name": "stderr",
     "output_type": "stream",
     "text": [
      "Cloning into 'galgebra'...\n"
     ]
    }
   ],
   "source": [
    "run(`git clone https://github.com/brombo/galgebra.git`)"
   ]
  },
  {
   "cell_type": "code",
   "execution_count": 20,
   "metadata": {
    "collapsed": true
   },
   "outputs": [],
   "source": [
    "cd(\"galgebra\")"
   ]
  },
  {
   "cell_type": "code",
   "execution_count": 14,
   "metadata": {
    "collapsed": false
   },
   "outputs": [
    {
     "name": "stdout",
     "output_type": "stream",
     "text": [
      "running install\n",
      "running bdist_egg\n",
      "running egg_info\n",
      "creating galgebra.egg-info\n",
      "writing requirements to galgebra.egg-info/requires.txt\n",
      "writing galgebra.egg-info/PKG-INFO\n",
      "writing top-level names to galgebra.egg-info/top_level.txt\n",
      "writing dependency_links to galgebra.egg-info/dependency_links.txt\n",
      "writing manifest file 'galgebra.egg-info/SOURCES.txt'\n",
      "reading manifest file 'galgebra.egg-info/SOURCES.txt'\n",
      "writing manifest file 'galgebra.egg-info/SOURCES.txt'\n",
      "installing library code to build/bdist.macosx-10.5-x86_64/egg\n",
      "running install_lib\n",
      "running build_py\n",
      "creating build\n",
      "creating build/lib\n",
      "creating build/lib/galgebra\n",
      "copying galgebra/__init__.py -> build/lib/galgebra\n",
      "copying galgebra/ga.py -> build/lib/galgebra\n",
      "copying galgebra/lt.py -> build/lib/galgebra\n",
      "copying galgebra/metric.py -> build/lib/galgebra\n",
      "copying galgebra/mv.py -> build/lib/galgebra\n",
      "copying galgebra/printer.py -> build/lib/galgebra\n",
      "copying galgebra/setgapth.py -> build/lib/galgebra\n",
      "creating build/lib/tests\n",
      "copying tests/__init__.py -> build/lib/tests\n",
      "copying tests/test_mv.py -> build/lib/tests\n",
      "copying tests/test_test.py -> build/lib/tests\n",
      "creating build/bdist.macosx-10.5-x86_64\n",
      "creating build/bdist.macosx-10.5-x86_64/egg\n",
      "creating build/bdist.macosx-10.5-x86_64/egg/galgebra\n",
      "copying build/lib/galgebra/__init__.py -> build/bdist.macosx-10.5-x86_64/egg/galgebra\n",
      "copying build/lib/galgebra/ga.py -> build/bdist.macosx-10.5-x86_64/egg/galgebra\n",
      "copying build/lib/galgebra/lt.py -> build/bdist.macosx-10.5-x86_64/egg/galgebra\n",
      "copying build/lib/galgebra/metric.py -> build/bdist.macosx-10.5-x86_64/egg/galgebra\n",
      "copying build/lib/galgebra/mv.py -> build/bdist.macosx-10.5-x86_64/egg/galgebra\n",
      "copying build/lib/galgebra/printer.py -> build/bdist.macosx-10.5-x86_64/egg/galgebra\n",
      "copying build/lib/galgebra/setgapth.py -> build/bdist.macosx-10.5-x86_64/egg/galgebra\n",
      "creating build/bdist.macosx-10.5-x86_64/egg/tests\n",
      "copying build/lib/tests/__init__.py -> build/bdist.macosx-10.5-x86_64/egg/tests\n",
      "copying build/lib/tests/test_mv.py -> build/bdist.macosx-10.5-x86_64/egg/tests\n",
      "copying build/lib/tests/test_test.py -> build/bdist.macosx-10.5-x86_64/egg/tests\n",
      "byte-compiling build/bdist.macosx-10.5-x86_64/egg/galgebra/__init__.py to __init__.pyc\n",
      "byte-compiling build/bdist.macosx-10.5-x86_64/egg/galgebra/ga.py to ga.pyc\n",
      "byte-compiling build/bdist.macosx-10.5-x86_64/egg/galgebra/lt.py to lt.pyc\n",
      "byte-compiling build/bdist.macosx-10.5-x86_64/egg/galgebra/metric.py to metric.pyc\n",
      "byte-compiling build/bdist.macosx-10.5-x86_64/egg/galgebra/mv.py to mv.pyc\n",
      "byte-compiling build/bdist.macosx-10.5-x86_64/egg/galgebra/printer.py to printer.pyc\n",
      "byte-compiling build/bdist.macosx-10.5-x86_64/egg/galgebra/setgapth.py to setgapth.pyc\n",
      "byte-compiling build/bdist.macosx-10.5-x86_64/egg/tests/__init__.py to __init__.pyc\n",
      "byte-compiling build/bdist.macosx-10.5-x86_64/egg/tests/test_mv.py to test_mv.pyc\n",
      "byte-compiling build/bdist.macosx-10.5-x86_64/egg/tests/test_test.py to test_test.pyc\n",
      "creating build/bdist.macosx-10.5-x86_64/egg/EGG-INFO\n",
      "copying galgebra.egg-info/PKG-INFO -> build/bdist.macosx-10.5-x86_64/egg/EGG-INFO\n",
      "copying galgebra.egg-info/SOURCES.txt -> build/bdist.macosx-10.5-x86_64/egg/EGG-INFO\n",
      "copying galgebra.egg-info/dependency_links.txt -> build/bdist.macosx-10.5-x86_64/egg/EGG-INFO\n",
      "copying galgebra.egg-info/requires.txt -> build/bdist.macosx-10.5-x86_64/egg/EGG-INFO\n",
      "copying galgebra.egg-info/top_level.txt -> build/bdist.macosx-10.5-x86_64/egg/EGG-INFO\n",
      "creating dist\n",
      "creating 'dist/galgebra-0.4.0-py2.7.egg' and adding 'build/bdist.macosx-10.5-x86_64/egg' to it\n"
     ]
    },
    {
     "name": "stderr",
     "output_type": "stream",
     "text": [
      "zip_safe flag not set; analyzing archive contents...\n",
      "galgebra.printer: module MAY be using inspect.getouterframes\n"
     ]
    },
    {
     "name": "stdout",
     "output_type": "stream",
     "text": [
      "removing 'build/bdist.macosx-10.5-x86_64/egg' (and everything under it)\n",
      "Processing galgebra-0.4.0-py2.7.egg\n",
      "creating /Users/utensil/miniconda2/lib/python2.7/site-packages/galgebra-0.4.0-py2.7.egg\n",
      "Extracting galgebra-0.4.0-py2.7.egg to /Users/utensil/miniconda2/lib/python2.7/site-packages\n",
      "Adding galgebra 0.4.0 to easy-install.pth file\n",
      "\n",
      "Installed /Users/utensil/miniconda2/lib/python2.7/site-packages/galgebra-0.4.0-py2.7.egg\n",
      "Processing dependencies for galgebra==0.4.0\n",
      "Searching for numpy==1.9.2\n",
      "Best match: numpy 1.9.2\n",
      "Adding numpy 1.9.2 to easy-install.pth file\n",
      "\n",
      "Using /Users/utensil/miniconda2/lib/python2.7/site-packages\n",
      "Searching for sympy==1.0\n",
      "Best match: sympy 1.0\n",
      "Adding sympy 1.0 to easy-install.pth file\n",
      "\n",
      "Using /Users/utensil/miniconda2/lib/python2.7/site-packages\n",
      "Finished processing dependencies for galgebra==0.4.0\n"
     ]
    }
   ],
   "source": [
    "run(`python setup.py install`)"
   ]
  },
  {
   "cell_type": "code",
   "execution_count": 21,
   "metadata": {
    "collapsed": false
   },
   "outputs": [
    {
     "name": "stdout",
     "output_type": "stream",
     "text": [
      "running test\n",
      "running egg_info\n",
      "writing requirements to galgebra.egg-info/requires.txt\n",
      "writing galgebra.egg-info/PKG-INFO\n",
      "writing top-level names to galgebra.egg-info/top_level.txt\n",
      "writing dependency_links to galgebra.egg-info/dependency_links.txt\n",
      "reading manifest file 'galgebra.egg-info/SOURCES.txt'\n",
      "writing manifest file 'galgebra.egg-info/SOURCES.txt'\n",
      "running build_ext\n"
     ]
    },
    {
     "name": "stderr",
     "output_type": "stream",
     "text": [
      "\n",
      "----------------------------------------------------------------------\n",
      "Ran 0 tests in 0.000s\n",
      "\n",
      "OK\n"
     ]
    }
   ],
   "source": [
    "run(`python setup.py test`)"
   ]
  },
  {
   "cell_type": "code",
   "execution_count": 3,
   "metadata": {
    "collapsed": false
   },
   "outputs": [
    {
     "data": {
      "text/plain": [
       "\"a0 a1 a2 n nbar\""
      ]
     },
     "execution_count": 3,
     "metadata": {},
     "output_type": "execute_result"
    }
   ],
   "source": [
    "basis = \"a0 a1 a2 n nbar\""
   ]
  },
  {
   "cell_type": "code",
   "execution_count": 4,
   "metadata": {
    "collapsed": false
   },
   "outputs": [
    {
     "data": {
      "text/plain": [
       "\"# # # 0 0, # # # 0 0, # # # 0 0, 0 0 0 0 2, 0 0 0 2 0\""
      ]
     },
     "execution_count": 4,
     "metadata": {},
     "output_type": "execute_result"
    }
   ],
   "source": [
    "metric = \"# # # 0 0, # # # 0 0, # # # 0 0, 0 0 0 0 2, 0 0 0 2 0\""
   ]
  },
  {
   "cell_type": "code",
   "execution_count": 22,
   "metadata": {
    "collapsed": false
   },
   "outputs": [],
   "source": [
    "@pyimport sympy\n",
    "@pyimport galgebra as ga"
   ]
  },
  {
   "cell_type": "code",
   "execution_count": 24,
   "metadata": {
    "collapsed": false
   },
   "outputs": [
    {
     "ename": "LoadError",
     "evalue": "LoadError: UndefVarError: Ga not defined\nwhile loading In[24], in expression starting on line 2",
     "output_type": "error",
     "traceback": [
      "LoadError: UndefVarError: Ga not defined\nwhile loading In[24], in expression starting on line 2",
      ""
     ]
    }
   ],
   "source": [
    "coords=sympy.symbols(\"x,y,z\",real=true)\n",
    "base=ga.Ga(\"e0 e1 e2\",g=[1,1,1],coords=coords)"
   ]
  },
  {
   "cell_type": "code",
   "execution_count": 25,
   "metadata": {
    "collapsed": false
   },
   "outputs": [
    {
     "data": {
      "text/plain": [
       "__anon__"
      ]
     },
     "execution_count": 25,
     "metadata": {},
     "output_type": "execute_result"
    }
   ],
   "source": [
    "ga"
   ]
  },
  {
   "cell_type": "code",
   "execution_count": 27,
   "metadata": {
    "collapsed": false
   },
   "outputs": [
    {
     "data": {
      "text/plain": [
       "false"
      ]
     },
     "execution_count": 27,
     "metadata": {},
     "output_type": "execute_result"
    }
   ],
   "source": [
    "inspect.ismodule(ga)"
   ]
  },
  {
   "cell_type": "markdown",
   "metadata": {},
   "source": [
    "See:\n",
    "* [GAlgebraPrimer.pdf](https://github.com/brombo/galgebra/raw/master/doc/GAlgebraPrimer.pdf)\n",
    "* [this issue](https://github.com/brombo/galgebra/issues/12)\n",
    "* [Geometric Algebra For Computer Science, An Object Oriented Approach to Geometry](http://www.geometricalgebra.net/index.html)"
   ]
  },
  {
   "cell_type": "code",
   "execution_count": 31,
   "metadata": {
    "collapsed": false
   },
   "outputs": [],
   "source": [
    "cd(\"/Users/utensil/experiments/\")"
   ]
  },
  {
   "cell_type": "code",
   "execution_count": 32,
   "metadata": {
    "collapsed": false
   },
   "outputs": [
    {
     "name": "stderr",
     "output_type": "stream",
     "text": [
      "Cloning into 'GeoAlg.jl'...\n"
     ]
    }
   ],
   "source": [
    "run(`git clone https://github.com/andrioni/GeoAlg.jl.git`)"
   ]
  },
  {
   "cell_type": "code",
   "execution_count": 33,
   "metadata": {
    "collapsed": true
   },
   "outputs": [],
   "source": [
    "cd(\"GeoAlg.jl\")"
   ]
  },
  {
   "cell_type": "code",
   "execution_count": 34,
   "metadata": {
    "collapsed": false
   },
   "outputs": [
    {
     "ename": "LoadError",
     "evalue": "LoadError: LoadError: TypeError: Metric: in type definition, expected Type{T}, got Tuple{DataType,DataType}\nwhile loading /Users/utensil/experiments/GeoAlg.jl/src/GeoAlg.jl, in expression starting on line 90\nwhile loading In[34], in expression starting on line 1",
     "output_type": "error",
     "traceback": [
      "LoadError: LoadError: TypeError: Metric: in type definition, expected Type{T}, got Tuple{DataType,DataType}\nwhile loading /Users/utensil/experiments/GeoAlg.jl/src/GeoAlg.jl, in expression starting on line 90\nwhile loading In[34], in expression starting on line 1",
      ""
     ]
    }
   ],
   "source": [
    "include(\"src/GeoAlg.jl\")"
   ]
  },
  {
   "cell_type": "code",
   "execution_count": 83,
   "metadata": {
    "collapsed": true
   },
   "outputs": [],
   "source": [
    "cd(\"/Users/utensil/experiments/\")"
   ]
  },
  {
   "cell_type": "code",
   "execution_count": 84,
   "metadata": {
    "collapsed": true
   },
   "outputs": [],
   "source": [
    "cd(\"galgebra/galgebra\")"
   ]
  },
  {
   "cell_type": "code",
   "execution_count": 85,
   "metadata": {
    "collapsed": false
   },
   "outputs": [
    {
     "data": {
      "text/plain": [
       "7-element Array{ByteString,1}:\n",
       " \"__init__.py\"\n",
       " \"ga.py\"      \n",
       " \"lt.py\"      \n",
       " \"metric.py\"  \n",
       " \"mv.py\"      \n",
       " \"printer.py\" \n",
       " \"setgapth.py\""
      ]
     },
     "execution_count": 85,
     "metadata": {},
     "output_type": "execute_result"
    }
   ],
   "source": [
    "filter(readdir(\".\")) do file_name\n",
    "    ismatch(r\"\\.py$\", file_name)\n",
    "end"
   ]
  },
  {
   "cell_type": "code",
   "execution_count": 86,
   "metadata": {
    "collapsed": false
   },
   "outputs": [],
   "source": [
    "@pyimport site"
   ]
  },
  {
   "cell_type": "code",
   "execution_count": 87,
   "metadata": {
    "collapsed": false
   },
   "outputs": [
    {
     "data": {
      "text/plain": [
       "\"/Users/utensil/miniconda2/lib/site-python\""
      ]
     },
     "execution_count": 87,
     "metadata": {},
     "output_type": "execute_result"
    }
   ],
   "source": [
    "dist_pkgs = site.getsitepackages()[end]"
   ]
  },
  {
   "cell_type": "code",
   "execution_count": 88,
   "metadata": {
    "collapsed": true
   },
   "outputs": [],
   "source": [
    "mkpath(dist_pkgs)"
   ]
  },
  {
   "cell_type": "code",
   "execution_count": 89,
   "metadata": {
    "collapsed": false
   },
   "outputs": [
    {
     "name": "stdout",
     "output_type": "stream",
     "text": [
      "#Path of Ga module\n",
      "/Users/utensil/experiments/galgebra/galgebraos name: posix\n",
      "site-packages directory: /Users/utensil/miniconda2/lib/site-python/Ga.pth\n",
      "Ga.pth:\n",
      "0\n",
      "\n",
      "Python pth file Ga.pth for all modules of galgebra has been created and\n",
      "placed in directory appropriate for Linux, Windows, or OSX.  Note that\n",
      "if Ga.pth already exists the old version will be deleted.\n",
      "\n"
     ]
    }
   ],
   "source": [
    "run(`python setgapth.py`)"
   ]
  },
  {
   "cell_type": "code",
   "execution_count": 96,
   "metadata": {
    "collapsed": false
   },
   "outputs": [
    {
     "data": {
      "text/plain": [
       "5-element Array{ByteString,1}:\n",
       " \"LaTeX\"     \n",
       " \"Old Format\"\n",
       " \"Terminal\"  \n",
       " \"ipython\"   \n",
       " \"macdonal\"  "
      ]
     },
     "execution_count": 96,
     "metadata": {},
     "output_type": "execute_result"
    }
   ],
   "source": [
    "cd(\"/Users/utensil/experiments/galgebra/examples\");readdir(\".\")"
   ]
  },
  {
   "cell_type": "code",
   "execution_count": 97,
   "metadata": {
    "collapsed": false
   },
   "outputs": [
    {
     "data": {
      "text/plain": [
       "11-element Array{ByteString,1}:\n",
       " \"1d_grad.py\"            \n",
       " \"ConformalConsole.py\"   \n",
       " \"coefs_test.py\"         \n",
       " \"exp_check.py\"          \n",
       " \"lt_check.py\"           \n",
       " \"lt_test.py\"            \n",
       " \"mv_setup_options.py\"   \n",
       " \"prob_not_solenoidal.py\"\n",
       " \"reciprocal.py\"         \n",
       " \"rotations.py\"          \n",
       " \"terminal_check.py\"     "
      ]
     },
     "execution_count": 97,
     "metadata": {},
     "output_type": "execute_result"
    }
   ],
   "source": [
    "cd(\"Terminal\");readdir(\".\")"
   ]
  },
  {
   "cell_type": "code",
   "execution_count": 98,
   "metadata": {
    "collapsed": false
   },
   "outputs": [
    {
     "name": "stdout",
     "output_type": "stream",
     "text": [
      "A = A + A__x\u001b[0m*\u001b[0;34me_x\u001b[0m + A__y\u001b[0m*\u001b[0;34me_y\u001b[0m + A__z\u001b[0m*\u001b[0;34me_z\u001b[0m + A__x\u001b[0my\u001b[0m*\u001b[0;34me_x\u001b[0m^\u001b[0;34me_y\u001b[0m + A__x\u001b[0mz\u001b[0m*\u001b[0;34me_x\u001b[0m^\u001b[0;34me_z\u001b[0m + A__y\u001b[0mz\u001b[0m*\u001b[0;34me_y\u001b[0m^\u001b[0;34me_z\u001b[0m + A__x\u001b[0my\u001b[0mz\u001b[0m*\u001b[0;34me_x\u001b[0m^\u001b[0;34me_y\u001b[0m^\u001b[0;34me_z\u001b[0m\n",
      "A =  A\n",
      " + A__x\u001b[0m*\u001b[0;34me_x\u001b[0m + A__y\u001b[0m*\u001b[0;34me_y\u001b[0m + A__z\u001b[0m*\u001b[0;34me_z\u001b[0m\n",
      " + A__x\u001b[0my\u001b[0m*\u001b[0;34me_x\u001b[0m^\u001b[0;34me_y\u001b[0m + A__x\u001b[0mz\u001b[0m*\u001b[0;34me_x\u001b[0m^\u001b[0;34me_z\u001b[0m + A__y\u001b[0mz\u001b[0m*\u001b[0;34me_y\u001b[0m^\u001b[0;34me_z\u001b[0m\n",
      " + A__x\u001b[0my\u001b[0mz\u001b[0m*\u001b[0;34me_x\u001b[0m^\u001b[0;34me_y\u001b[0m^\u001b[0;34me_z\u001b[0m\n",
      "A =  A\n",
      " + A__x\u001b[0m*\u001b[0;34me_x\u001b[0m\n",
      " + A__y\u001b[0m*\u001b[0;34me_y\u001b[0m\n",
      " + A__z\u001b[0m*\u001b[0;34me_z\u001b[0m\n",
      " + A__x\u001b[0my\u001b[0m*\u001b[0;34me_x\u001b[0m^\u001b[0;34me_y\u001b[0m\n",
      " + A__x\u001b[0mz\u001b[0m*\u001b[0;34me_x\u001b[0m^\u001b[0;34me_z\u001b[0m\n",
      " + A__y\u001b[0mz\u001b[0m*\u001b[0;34me_y\u001b[0m^\u001b[0;34me_z\u001b[0m\n",
      " + A__x\u001b[0my\u001b[0mz\u001b[0m*\u001b[0;34me_x\u001b[0m^\u001b[0;34me_y\u001b[0m^\u001b[0;34me_z\u001b[0m\n",
      "g_{ij} =\n",
      "Matrix([\n",
      "[(\u001b[0;34me_x\u001b[0m.\u001b[0;34me_x\u001b[0m), (\u001b[0;34me_x\u001b[0m.\u001b[0;34me_y\u001b[0m), (\u001b[0;34me_x\u001b[0m.\u001b[0;34me_z\u001b[0m)],\n",
      "[(\u001b[0;34me_x\u001b[0m.\u001b[0;34me_y\u001b[0m), (\u001b[0;34me_y\u001b[0m.\u001b[0;34me_y\u001b[0m), (\u001b[0;34me_y\u001b[0m.\u001b[0;34me_z\u001b[0m)],\n",
      "[(\u001b[0;34me_x\u001b[0m.\u001b[0;34me_z\u001b[0m), (\u001b[0;34me_y\u001b[0m.\u001b[0;34me_z\u001b[0m), (\u001b[0;34me_z\u001b[0m.\u001b[0;34me_z\u001b[0m)]])\n",
      "X = X__x\u001b[0m*\u001b[0;34me_x\u001b[0m + X__y\u001b[0m*\u001b[0;34me_y\u001b[0m + X__z\u001b[0m*\u001b[0;34me_z\u001b[0m\n",
      "Y = Y__x\u001b[0m*\u001b[0;34me_x\u001b[0m + Y__y\u001b[0m*\u001b[0;34me_y\u001b[0m + Y__z\u001b[0m*\u001b[0;34me_z\u001b[0m\n",
      "X*Y =  (\u001b[0;34me_x\u001b[0m.\u001b[0;34me_x\u001b[0m)*X__x\u001b[0m*Y__x\u001b[0m + (\u001b[0;34me_x\u001b[0m.\u001b[0;34me_y\u001b[0m)*X__x\u001b[0m*Y__y\u001b[0m + (\u001b[0;34me_x\u001b[0m.\u001b[0;34me_y\u001b[0m)*X__y\u001b[0m*Y__x\u001b[0m + (\u001b[0;34me_x\u001b[0m.\u001b[0;34me_z\u001b[0m)*X__x\u001b[0m*Y__z\u001b[0m + (\u001b[0;34me_x\u001b[0m.\u001b[0;34me_z\u001b[0m)*X__z\u001b[0m*Y__x\u001b[0m + (\u001b[0;34me_y\u001b[0m.\u001b[0;34me_y\u001b[0m)*X__y\u001b[0m*Y__y\u001b[0m + (\u001b[0;34me_y\u001b[0m.\u001b[0;34me_z\u001b[0m)*X__y\u001b[0m*Y__z\u001b[0m + (\u001b[0;34me_y\u001b[0m.\u001b[0;34me_z\u001b[0m)*X__z\u001b[0m*Y__y\u001b[0m + (\u001b[0;34me_z\u001b[0m.\u001b[0;34me_z\u001b[0m)*X__z\u001b[0m*Y__z\u001b[0m\n",
      " + (X__x\u001b[0m*Y__y\u001b[0m - X__y\u001b[0m*Y__x\u001b[0m)*\u001b[0;34me_x\u001b[0m^\u001b[0;34me_y\u001b[0m + (X__x\u001b[0m*Y__z\u001b[0m - X__z\u001b[0m*Y__x\u001b[0m)*\u001b[0;34me_x\u001b[0m^\u001b[0;34me_z\u001b[0m + (X__y\u001b[0m*Y__z\u001b[0m - X__z\u001b[0m*Y__y\u001b[0m)*\u001b[0;34me_y\u001b[0m^\u001b[0;34me_z\u001b[0m\n",
      "X^Y =  (X__x\u001b[0m*Y__y\u001b[0m - X__y\u001b[0m*Y__x\u001b[0m)*\u001b[0;34me_x\u001b[0m^\u001b[0;34me_y\u001b[0m + (X__x\u001b[0m*Y__z\u001b[0m - X__z\u001b[0m*Y__x\u001b[0m)*\u001b[0;34me_x\u001b[0m^\u001b[0;34me_z\u001b[0m + (X__y\u001b[0m*Y__z\u001b[0m - X__z\u001b[0m*Y__y\u001b[0m)*\u001b[0;34me_y\u001b[0m^\u001b[0;34me_z\u001b[0m\n",
      "X|Y = (\u001b[0;34me_x\u001b[0m.\u001b[0;34me_x\u001b[0m)*X__x\u001b[0m*Y__x\u001b[0m + (\u001b[0;34me_x\u001b[0m.\u001b[0;34me_y\u001b[0m)*X__x\u001b[0m*Y__y\u001b[0m + (\u001b[0;34me_x\u001b[0m.\u001b[0;34me_y\u001b[0m)*X__y\u001b[0m*Y__x\u001b[0m + (\u001b[0;34me_x\u001b[0m.\u001b[0;34me_z\u001b[0m)*X__x\u001b[0m*Y__z\u001b[0m + (\u001b[0;34me_x\u001b[0m.\u001b[0;34me_z\u001b[0m)*X__z\u001b[0m*Y__x\u001b[0m + (\u001b[0;34me_y\u001b[0m.\u001b[0;34me_y\u001b[0m)*X__y\u001b[0m*Y__y\u001b[0m + (\u001b[0;34me_y\u001b[0m.\u001b[0;34me_z\u001b[0m)*X__y\u001b[0m*Y__z\u001b[0m + (\u001b[0;34me_y\u001b[0m.\u001b[0;34me_z\u001b[0m)*X__z\u001b[0m*Y__y\u001b[0m + (\u001b[0;34me_z\u001b[0m.\u001b[0;34me_z\u001b[0m)*X__z\u001b[0m*Y__z\u001b[0m\n",
      "g_{ij} =\n",
      "Matrix([\n",
      "[(\u001b[0;34me_x\u001b[0m.\u001b[0;34me_x\u001b[0m), (\u001b[0;34me_x\u001b[0m.\u001b[0;34me_y\u001b[0m)],\n",
      "[(\u001b[0;34me_x\u001b[0m.\u001b[0;34me_y\u001b[0m), (\u001b[0;34me_y\u001b[0m.\u001b[0;34me_y\u001b[0m)]])\n",
      "X = X__x\u001b[0m*\u001b[0;34me_x\u001b[0m + X__y\u001b[0m*\u001b[0;34me_y\u001b[0m\n",
      "A = A + A__x\u001b[0my\u001b[0m*\u001b[0;34me_x\u001b[0m^\u001b[0;34me_y\u001b[0m\n",
      "X|A =  -A__x\u001b[0my\u001b[0m*((\u001b[0;34me_x\u001b[0m.\u001b[0;34me_y\u001b[0m)*X__x\u001b[0m + (\u001b[0;34me_y\u001b[0m.\u001b[0;34me_y\u001b[0m)*X__y\u001b[0m)*\u001b[0;34me_x\u001b[0m + A__x\u001b[0my\u001b[0m*((\u001b[0;34me_x\u001b[0m.\u001b[0;34me_x\u001b[0m)*X__x\u001b[0m + (\u001b[0;34me_x\u001b[0m.\u001b[0;34me_y\u001b[0m)*X__y\u001b[0m)*\u001b[0;34me_y\u001b[0m\n",
      "X<A =  -A__x\u001b[0my\u001b[0m*((\u001b[0;34me_x\u001b[0m.\u001b[0;34me_y\u001b[0m)*X__x\u001b[0m + (\u001b[0;34me_y\u001b[0m.\u001b[0;34me_y\u001b[0m)*X__y\u001b[0m)*\u001b[0;34me_x\u001b[0m + A__x\u001b[0my\u001b[0m*((\u001b[0;34me_x\u001b[0m.\u001b[0;34me_x\u001b[0m)*X__x\u001b[0m + (\u001b[0;34me_x\u001b[0m.\u001b[0;34me_y\u001b[0m)*X__y\u001b[0m)*\u001b[0;34me_y\u001b[0m\n",
      "A>X =  A__x\u001b[0my\u001b[0m*((\u001b[0;34me_x\u001b[0m.\u001b[0;34me_y\u001b[0m)*X__x\u001b[0m + (\u001b[0;34me_y\u001b[0m.\u001b[0;34me_y\u001b[0m)*X__y\u001b[0m)*\u001b[0;34me_x\u001b[0m - A__x\u001b[0my\u001b[0m*((\u001b[0;34me_x\u001b[0m.\u001b[0;34me_x\u001b[0m)*X__x\u001b[0m + (\u001b[0;34me_x\u001b[0m.\u001b[0;34me_y\u001b[0m)*X__y\u001b[0m)*\u001b[0;34me_y\u001b[0m\n",
      "g_{ii} =\n",
      "Matrix([\n",
      "[1, 0],\n",
      "[0, 1]])\n",
      "X = X__x\u001b[0m*\u001b[0;34me_x\u001b[0m + X__y\u001b[0m*\u001b[0;34me_y\u001b[0m\n",
      "A = A + A__x\u001b[0my\u001b[0m*\u001b[0;34me_x\u001b[0m^\u001b[0;34me_y\u001b[0m\n",
      "X*A =  (A*X__x\u001b[0m - A__x\u001b[0my\u001b[0m*X__y\u001b[0m)*\u001b[0;34me_x\u001b[0m + (A*X__y\u001b[0m + A__x\u001b[0my\u001b[0m*X__x\u001b[0m)*\u001b[0;34me_y\u001b[0m\n",
      "X|A =  -A__x\u001b[0my\u001b[0m*X__y\u001b[0m*\u001b[0;34me_x\u001b[0m + A__x\u001b[0my\u001b[0m*X__x\u001b[0m*\u001b[0;34me_y\u001b[0m\n",
      "X<A =  -A__x\u001b[0my\u001b[0m*X__y\u001b[0m*\u001b[0;34me_x\u001b[0m + A__x\u001b[0my\u001b[0m*X__x\u001b[0m*\u001b[0;34me_y\u001b[0m\n",
      "X>A =  A*X__x\u001b[0m*\u001b[0;34me_x\u001b[0m + A*X__y\u001b[0m*\u001b[0;34me_y\u001b[0m\n",
      "A*X =  (A*X__x\u001b[0m + A__x\u001b[0my\u001b[0m*X__y\u001b[0m)*\u001b[0;34me_x\u001b[0m + (A*X__y\u001b[0m - A__x\u001b[0my\u001b[0m*X__x\u001b[0m)*\u001b[0;34me_y\u001b[0m\n",
      "A|X =  A__x\u001b[0my\u001b[0m*X__y\u001b[0m*\u001b[0;34me_x\u001b[0m - A__x\u001b[0my\u001b[0m*X__x\u001b[0m*\u001b[0;34me_y\u001b[0m\n",
      "A<X =  A*X__x\u001b[0m*\u001b[0;34me_x\u001b[0m + A*X__y\u001b[0m*\u001b[0;34me_y\u001b[0m\n",
      "A>X =  A__x\u001b[0my\u001b[0m*X__y\u001b[0m*\u001b[0;34me_x\u001b[0m - A__x\u001b[0my\u001b[0m*X__x\u001b[0m*\u001b[0;34me_y\u001b[0m\n",
      "g_{ij} =\n",
      "Matrix([\n",
      "[(\u001b[0;34ma\u001b[0m.\u001b[0;34ma\u001b[0m), (\u001b[0;34ma\u001b[0m.\u001b[0;34mb\u001b[0m), (\u001b[0;34ma\u001b[0m.\u001b[0;34mc\u001b[0m), (\u001b[0;34ma\u001b[0m.\u001b[0;34md\u001b[0m), (\u001b[0;34ma\u001b[0m.\u001b[0;34me\u001b[0m)],\n",
      "[(\u001b[0;34ma\u001b[0m.\u001b[0;34mb\u001b[0m), (\u001b[0;34mb\u001b[0m.\u001b[0;34mb\u001b[0m), (\u001b[0;34mb\u001b[0m.\u001b[0;34mc\u001b[0m), (\u001b[0;34mb\u001b[0m.\u001b[0;34md\u001b[0m), (\u001b[0;34mb\u001b[0m.\u001b[0;34me\u001b[0m)],\n",
      "[(\u001b[0;34ma\u001b[0m.\u001b[0;34mc\u001b[0m), (\u001b[0;34mb\u001b[0m.\u001b[0;34mc\u001b[0m), (\u001b[0;34mc\u001b[0m.\u001b[0;34mc\u001b[0m), (\u001b[0;34mc\u001b[0m.\u001b[0;34md\u001b[0m), (\u001b[0;34mc\u001b[0m.\u001b[0;34me\u001b[0m)],\n",
      "[(\u001b[0;34ma\u001b[0m.\u001b[0;34md\u001b[0m), (\u001b[0;34mb\u001b[0m.\u001b[0;34md\u001b[0m), (\u001b[0;34mc\u001b[0m.\u001b[0;34md\u001b[0m), (\u001b[0;34md\u001b[0m.\u001b[0;34md\u001b[0m), (\u001b[0;34md\u001b[0m.\u001b[0;34me\u001b[0m)],\n",
      "[(\u001b[0;34ma\u001b[0m.\u001b[0;34me\u001b[0m), (\u001b[0;34mb\u001b[0m.\u001b[0;34me\u001b[0m), (\u001b[0;34mc\u001b[0m.\u001b[0;34me\u001b[0m), (\u001b[0;34md\u001b[0m.\u001b[0;34me\u001b[0m), (\u001b[0;34me\u001b[0m.\u001b[0;34me\u001b[0m)]])\n",
      "a|(b*c) = -(\u001b[0;34ma\u001b[0m.\u001b[0;34mc\u001b[0m)*\u001b[0;34mb\u001b[0m + (\u001b[0;34ma\u001b[0m.\u001b[0;34mb\u001b[0m)*\u001b[0;34mc\u001b[0m\n",
      "a|(b^c) = -(\u001b[0;34ma\u001b[0m.\u001b[0;34mc\u001b[0m)*\u001b[0;34mb\u001b[0m + (\u001b[0;34ma\u001b[0m.\u001b[0;34mb\u001b[0m)*\u001b[0;34mc\u001b[0m\n",
      "a|(b^c^d) = (\u001b[0;34ma\u001b[0m.\u001b[0;34md\u001b[0m)*\u001b[0;34mb\u001b[0m^\u001b[0;34mc\u001b[0m - (\u001b[0;34ma\u001b[0m.\u001b[0;34mc\u001b[0m)*\u001b[0;34mb\u001b[0m^\u001b[0;34md\u001b[0m + (\u001b[0;34ma\u001b[0m.\u001b[0;34mb\u001b[0m)*\u001b[0;34mc\u001b[0m^\u001b[0;34md\u001b[0m\n",
      "a|(b^c)+c|(a^b)+b|(c^a) = (\u001b[0;34ma\u001b[0m.\u001b[0;34mb\u001b[0m)*\u001b[0;34mc\u001b[0m - (\u001b[0;34mb\u001b[0m.\u001b[0;34mc\u001b[0m)*\u001b[0;34ma\u001b[0m - ((\u001b[0;34ma\u001b[0m.\u001b[0;34mb\u001b[0m)*\u001b[0;34mc\u001b[0m - (\u001b[0;34mb\u001b[0m.\u001b[0;34mc\u001b[0m)*\u001b[0;34ma\u001b[0m)\n",
      "a*(b^c)-b*(a^c)+c*(a^b) = 3*\u001b[0;34ma\u001b[0m^\u001b[0;34mb\u001b[0m^\u001b[0;34mc\u001b[0m\n",
      "a*(b^c^d)-b*(a^c^d)+c*(a^b^d)-d*(a^b^c) = 4*\u001b[0;34ma\u001b[0m^\u001b[0;34mb\u001b[0m^\u001b[0;34mc\u001b[0m^\u001b[0;34md\u001b[0m\n",
      "(a^b)|(c^d) = -(\u001b[0;34ma\u001b[0m.\u001b[0;34mc\u001b[0m)*(\u001b[0;34mb\u001b[0m.\u001b[0;34md\u001b[0m) + (\u001b[0;34ma\u001b[0m.\u001b[0;34md\u001b[0m)*(\u001b[0;34mb\u001b[0m.\u001b[0;34mc\u001b[0m)\n",
      "((a^b)|c)|d = -(\u001b[0;34ma\u001b[0m.\u001b[0;34mc\u001b[0m)*(\u001b[0;34mb\u001b[0m.\u001b[0;34md\u001b[0m) + (\u001b[0;34ma\u001b[0m.\u001b[0;34md\u001b[0m)*(\u001b[0;34mb\u001b[0m.\u001b[0;34mc\u001b[0m)\n",
      "(a^b)x(c^d) = -(\u001b[0;34mb\u001b[0m.\u001b[0;34md\u001b[0m)*\u001b[0;34ma\u001b[0m^\u001b[0;34mc\u001b[0m + (\u001b[0;34mb\u001b[0m.\u001b[0;34mc\u001b[0m)*\u001b[0;34ma\u001b[0m^\u001b[0;34md\u001b[0m + (\u001b[0;34ma\u001b[0m.\u001b[0;34md\u001b[0m)*\u001b[0;34mb\u001b[0m^\u001b[0;34mc\u001b[0m - (\u001b[0;34ma\u001b[0m.\u001b[0;34mc\u001b[0m)*\u001b[0;34mb\u001b[0m^\u001b[0;34md\u001b[0m\n",
      "(a|(b^c))|(d^e) = (-(\u001b[0;34ma\u001b[0m.\u001b[0;34mb\u001b[0m)*(\u001b[0;34mc\u001b[0m.\u001b[0;34me\u001b[0m) + (\u001b[0;34ma\u001b[0m.\u001b[0;34mc\u001b[0m)*(\u001b[0;34mb\u001b[0m.\u001b[0;34me\u001b[0m))*\u001b[0;34md\u001b[0m + ((\u001b[0;34ma\u001b[0m.\u001b[0;34mb\u001b[0m)*(\u001b[0;34mc\u001b[0m.\u001b[0;34md\u001b[0m) - (\u001b[0;34ma\u001b[0m.\u001b[0;34mc\u001b[0m)*(\u001b[0;34mb\u001b[0m.\u001b[0;34md\u001b[0m))*\u001b[0;34me\u001b[0m\n",
      "f = \u001b[0;31mf\u001b[0m\n",
      "A = \u001b[0;31mA__x\u001b[0m*\u001b[0;34me_x\u001b[0m + \u001b[0;31mA__y\u001b[0m*\u001b[0;34me_y\u001b[0m + \u001b[0;31mA__z\u001b[0m*\u001b[0;34me_z\u001b[0m\n",
      "B = \u001b[0;31mB__xy\u001b[0m*\u001b[0;34me_x\u001b[0m^\u001b[0;34me_y\u001b[0m + \u001b[0;31mB__xz\u001b[0m*\u001b[0;34me_x\u001b[0m^\u001b[0;34me_z\u001b[0m + \u001b[0;31mB__yz\u001b[0m*\u001b[0;34me_y\u001b[0m^\u001b[0;34me_z\u001b[0m\n",
      "C = \u001b[0;31mC\u001b[0m + \u001b[0;31mC__x\u001b[0m*\u001b[0;34me_x\u001b[0m + \u001b[0;31mC__y\u001b[0m*\u001b[0;34me_y\u001b[0m + \u001b[0;31mC__z\u001b[0m*\u001b[0;34me_z\u001b[0m + \u001b[0;31mC__xy\u001b[0m*\u001b[0;34me_x\u001b[0m^\u001b[0;34me_y\u001b[0m + \u001b[0;31mC__xz\u001b[0m*\u001b[0;34me_x\u001b[0m^\u001b[0;34me_z\u001b[0m + \u001b[0;31mC__yz\u001b[0m*\u001b[0;34me_y\u001b[0m^\u001b[0;34me_z\u001b[0m + \u001b[0;31mC__xyz\u001b[0m*\u001b[0;34me_x\u001b[0m^\u001b[0;34me_y\u001b[0m^\u001b[0;34me_z\u001b[0m\n",
      "grad*f = \u001b[0;36mD{x}\u001b[0;31mf\u001b[0m\u001b[0m*\u001b[0;34me_x\u001b[0m + \u001b[0;36mD{y}\u001b[0;31mf\u001b[0m\u001b[0m*\u001b[0;34me_y\u001b[0m + \u001b[0;36mD{z}\u001b[0;31mf\u001b[0m\u001b[0m*\u001b[0;34me_z\u001b[0m\n",
      "grad|A = \u001b[0;36mD{x}\u001b[0;31mA__x\u001b[0m\u001b[0m + \u001b[0;36mD{y}\u001b[0;31mA__y\u001b[0m\u001b[0m + \u001b[0;36mD{z}\u001b[0;31mA__z\u001b[0m\u001b[0m\n",
      "grad*A = \u001b[0;36mD{x}\u001b[0;31mA__x\u001b[0m\u001b[0m + \u001b[0;36mD{y}\u001b[0;31mA__y\u001b[0m\u001b[0m + \u001b[0;36mD{z}\u001b[0;31mA__z\u001b[0m\u001b[0m + (-\u001b[0;36mD{y}\u001b[0;31mA__x\u001b[0m\u001b[0m + \u001b[0;36mD{x}\u001b[0;31mA__y\u001b[0m\u001b[0m)*\u001b[0;34me_x\u001b[0m^\u001b[0;34me_y\u001b[0m + (-\u001b[0;36mD{z}\u001b[0;31mA__x\u001b[0m\u001b[0m + \u001b[0;36mD{x}\u001b[0;31mA__z\u001b[0m\u001b[0m)*\u001b[0;34me_x\u001b[0m^\u001b[0;34me_z\u001b[0m + (-\u001b[0;36mD{z}\u001b[0;31mA__y\u001b[0m\u001b[0m + \u001b[0;36mD{y}\u001b[0;31mA__z\u001b[0m\u001b[0m)*\u001b[0;34me_y\u001b[0m^\u001b[0;34me_z\u001b[0m\n",
      "-I*(grad^A) = (-\u001b[0;36mD{z}\u001b[0;31mA__y\u001b[0m\u001b[0m + \u001b[0;36mD{y}\u001b[0;31mA__z\u001b[0m\u001b[0m)*\u001b[0;34me_x\u001b[0m + (\u001b[0;36mD{z}\u001b[0;31mA__x\u001b[0m\u001b[0m - \u001b[0;36mD{x}\u001b[0;31mA__z\u001b[0m\u001b[0m)*\u001b[0;34me_y\u001b[0m + (-\u001b[0;36mD{y}\u001b[0;31mA__x\u001b[0m\u001b[0m + \u001b[0;36mD{x}\u001b[0;31mA__y\u001b[0m\u001b[0m)*\u001b[0;34me_z\u001b[0m\n",
      "grad*B = (-\u001b[0;36mD{y}\u001b[0;31mB__xy\u001b[0m\u001b[0m - \u001b[0;36mD{z}\u001b[0;31mB__xz\u001b[0m\u001b[0m)*\u001b[0;34me_x\u001b[0m + (\u001b[0;36mD{x}\u001b[0;31mB__xy\u001b[0m\u001b[0m - \u001b[0;36mD{z}\u001b[0;31mB__yz\u001b[0m\u001b[0m)*\u001b[0;34me_y\u001b[0m + (\u001b[0;36mD{x}\u001b[0;31mB__xz\u001b[0m\u001b[0m + \u001b[0;36mD{y}\u001b[0;31mB__yz\u001b[0m\u001b[0m)*\u001b[0;34me_z\u001b[0m + (\u001b[0;36mD{z}\u001b[0;31mB__xy\u001b[0m\u001b[0m - \u001b[0;36mD{y}\u001b[0;31mB__xz\u001b[0m\u001b[0m + \u001b[0;36mD{x}\u001b[0;31mB__yz\u001b[0m\u001b[0m)*\u001b[0;34me_x\u001b[0m^\u001b[0;34me_y\u001b[0m^\u001b[0;34me_z\u001b[0m\n",
      "grad^B = (\u001b[0;36mD{z}\u001b[0;31mB__xy\u001b[0m\u001b[0m - \u001b[0;36mD{y}\u001b[0;31mB__xz\u001b[0m\u001b[0m + \u001b[0;36mD{x}\u001b[0;31mB__yz\u001b[0m\u001b[0m)*\u001b[0;34me_x\u001b[0m^\u001b[0;34me_y\u001b[0m^\u001b[0;34me_z\u001b[0m\n",
      "grad|B = (-\u001b[0;36mD{y}\u001b[0;31mB__xy\u001b[0m\u001b[0m - \u001b[0;36mD{z}\u001b[0;31mB__xz\u001b[0m\u001b[0m)*\u001b[0;34me_x\u001b[0m + (\u001b[0;36mD{x}\u001b[0;31mB__xy\u001b[0m\u001b[0m - \u001b[0;36mD{z}\u001b[0;31mB__yz\u001b[0m\u001b[0m)*\u001b[0;34me_y\u001b[0m + (\u001b[0;36mD{x}\u001b[0;31mB__xz\u001b[0m\u001b[0m + \u001b[0;36mD{y}\u001b[0;31mB__yz\u001b[0m\u001b[0m)*\u001b[0;34me_z\u001b[0m\n",
      "grad<A = \u001b[0;36mD{x}\u001b[0;31mA__x\u001b[0m\u001b[0m + \u001b[0;36mD{y}\u001b[0;31mA__y\u001b[0m\u001b[0m + \u001b[0;36mD{z}\u001b[0;31mA__z\u001b[0m\u001b[0m\n",
      "grad>A = \u001b[0;36mD{x}\u001b[0;31mA__x\u001b[0m\u001b[0m + \u001b[0;36mD{y}\u001b[0;31mA__y\u001b[0m\u001b[0m + \u001b[0;36mD{z}\u001b[0;31mA__z\u001b[0m\u001b[0m\n",
      "grad<B = (-\u001b[0;36mD{y}\u001b[0;31mB__xy\u001b[0m\u001b[0m - \u001b[0;36mD{z}\u001b[0;31mB__xz\u001b[0m\u001b[0m)*\u001b[0;34me_x\u001b[0m + (\u001b[0;36mD{x}\u001b[0;31mB__xy\u001b[0m\u001b[0m - \u001b[0;36mD{z}\u001b[0;31mB__yz\u001b[0m\u001b[0m)*\u001b[0;34me_y\u001b[0m + (\u001b[0;36mD{x}\u001b[0;31mB__xz\u001b[0m\u001b[0m + \u001b[0;36mD{y}\u001b[0;31mB__yz\u001b[0m\u001b[0m)*\u001b[0;34me_z\u001b[0m\n",
      "grad>B = 0\n",
      "grad<C = \u001b[0;36mD{x}\u001b[0;31mC__x\u001b[0m\u001b[0m + \u001b[0;36mD{y}\u001b[0;31mC__y\u001b[0m\u001b[0m + \u001b[0;36mD{z}\u001b[0;31mC__z\u001b[0m\u001b[0m + (-\u001b[0;36mD{y}\u001b[0;31mC__xy\u001b[0m\u001b[0m - \u001b[0;36mD{z}\u001b[0;31mC__xz\u001b[0m\u001b[0m)*\u001b[0;34me_x\u001b[0m + (\u001b[0;36mD{x}\u001b[0;31mC__xy\u001b[0m\u001b[0m - \u001b[0;36mD{z}\u001b[0;31mC__yz\u001b[0m\u001b[0m)*\u001b[0;34me_y\u001b[0m + (\u001b[0;36mD{x}\u001b[0;31mC__xz\u001b[0m\u001b[0m + \u001b[0;36mD{y}\u001b[0;31mC__yz\u001b[0m\u001b[0m)*\u001b[0;34me_z\u001b[0m + \u001b[0;36mD{z}\u001b[0;31mC__xyz\u001b[0m\u001b[0m*\u001b[0;34me_x\u001b[0m^\u001b[0;34me_y\u001b[0m - \u001b[0;36mD{y}\u001b[0;31mC__xyz\u001b[0m\u001b[0m*\u001b[0;34me_x\u001b[0m^\u001b[0;34me_z\u001b[0m + \u001b[0;36mD{x}\u001b[0;31mC__xyz\u001b[0m\u001b[0m*\u001b[0;34me_y\u001b[0m^\u001b[0;34me_z\u001b[0m\n",
      "grad>C = \u001b[0;36mD{x}\u001b[0;31mC__x\u001b[0m\u001b[0m + \u001b[0;36mD{y}\u001b[0;31mC__y\u001b[0m\u001b[0m + \u001b[0;36mD{z}\u001b[0;31mC__z\u001b[0m\u001b[0m + \u001b[0;36mD{x}\u001b[0;31mC\u001b[0m\u001b[0m*\u001b[0;34me_x\u001b[0m + \u001b[0;36mD{y}\u001b[0;31mC\u001b[0m\u001b[0m*\u001b[0;34me_y\u001b[0m + \u001b[0;36mD{z}\u001b[0;31mC\u001b[0m\u001b[0m*\u001b[0;34me_z\u001b[0m\n",
      "f = \u001b[0;31mf\u001b[0m\n",
      "A = \u001b[0;31mA__r\u001b[0m*\u001b[0;34me_r\u001b[0m + \u001b[0;31mA__theta\u001b[0m*\u001b[0;34me_theta\u001b[0m + \u001b[0;31mA__phi\u001b[0m*\u001b[0;34me_phi\u001b[0m\n",
      "B = \u001b[0;31mB__rtheta\u001b[0m*\u001b[0;34me_r\u001b[0m^\u001b[0;34me_theta\u001b[0m + \u001b[0;31mB__rphi\u001b[0m*\u001b[0;34me_r\u001b[0m^\u001b[0;34me_phi\u001b[0m + \u001b[0;31mB__thetaphi\u001b[0m*\u001b[0;34me_theta\u001b[0m^\u001b[0;34me_phi\u001b[0m\n",
      "grad*f = \u001b[0;36mD{r}\u001b[0;31mf\u001b[0m\u001b[0m*\u001b[0;34me_r\u001b[0m + \u001b[0;36mD{theta}\u001b[0;31mf\u001b[0m\u001b[0m*\u001b[0;34me_theta\u001b[0m/r + \u001b[0;36mD{phi}\u001b[0;31mf\u001b[0m\u001b[0m*\u001b[0;34me_phi\u001b[0m/(r*sin(theta))\n",
      "grad|A = \u001b[0;36mD{r}\u001b[0;31mA__r\u001b[0m\u001b[0m + (\u001b[0;31mA__r\u001b[0m + \u001b[0;36mD{theta}\u001b[0;31mA__theta\u001b[0m\u001b[0m)/r + (\u001b[0;31mA__r\u001b[0m*sin(theta) + \u001b[0;31mA__theta\u001b[0m*cos(theta) + \u001b[0;36mD{phi}\u001b[0;31mA__phi\u001b[0m\u001b[0m)/(r*sin(theta))\n",
      "-I*(grad^A) = (\u001b[0;31mA__phi\u001b[0m/tan(theta) + \u001b[0;36mD{theta}\u001b[0;31mA__phi\u001b[0m\u001b[0m - \u001b[0;36mD{phi}\u001b[0;31mA__theta\u001b[0m\u001b[0m/sin(theta))*\u001b[0;34me_r\u001b[0m/r + (-r*\u001b[0;36mD{r}\u001b[0;31mA__phi\u001b[0m\u001b[0m - \u001b[0;31mA__phi\u001b[0m + \u001b[0;36mD{phi}\u001b[0;31mA__r\u001b[0m\u001b[0m/sin(theta))*\u001b[0;34me_theta\u001b[0m/r + (r*\u001b[0;36mD{r}\u001b[0;31mA__theta\u001b[0m\u001b[0m + \u001b[0;31mA__theta\u001b[0m - \u001b[0;36mD{theta}\u001b[0;31mA__r\u001b[0m\u001b[0m)*\u001b[0;34me_phi\u001b[0m/r\n",
      "grad^B = (r*\u001b[0;36mD{r}\u001b[0;31mB__thetaphi\u001b[0m\u001b[0m - \u001b[0;31mB__rphi\u001b[0m/tan(theta) + 2*\u001b[0;31mB__thetaphi\u001b[0m - \u001b[0;36mD{theta}\u001b[0;31mB__rphi\u001b[0m\u001b[0m + \u001b[0;36mD{phi}\u001b[0;31mB__rtheta\u001b[0m\u001b[0m/sin(theta))*\u001b[0;34me_r\u001b[0m^\u001b[0;34me_theta\u001b[0m^\u001b[0;34me_phi\u001b[0m/r\n",
      "X = 1.2*\u001b[0;34me_x\u001b[0m + 2.34*\u001b[0;34me_y\u001b[0m + 0.555*\u001b[0;34me_z\u001b[0m\n",
      "Nga(X,2) = 1.2*\u001b[0;34me_x\u001b[0m + 2.3*\u001b[0;34me_y\u001b[0m + 0.55*\u001b[0;34me_z\u001b[0m\n",
      "X*Y = 12.7011000000000 + 4.02078*\u001b[0;34me_x\u001b[0m^\u001b[0;34me_y\u001b[0m + 6.175185*\u001b[0;34me_x\u001b[0m^\u001b[0;34me_z\u001b[0m + 10.182*\u001b[0;34me_y\u001b[0m^\u001b[0;34me_z\u001b[0m\n",
      "Nga(X*Y,2) = 13. + 4.0*\u001b[0;34me_x\u001b[0m^\u001b[0;34me_y\u001b[0m + 6.2*\u001b[0;34me_x\u001b[0m^\u001b[0;34me_z\u001b[0m + 10.0*\u001b[0;34me_y\u001b[0m^\u001b[0;34me_z\u001b[0m\n",
      "g_{ij} = Matrix([\n",
      "[                          0, (\u001b[0;34mX\u001b[0m.\u001b[0;34mY\u001b[0m), (\u001b[0;34mX\u001b[0m.\u001b[0;34me\u001b[0m)],\n",
      "[(\u001b[0;34mX\u001b[0m.\u001b[0;34mY\u001b[0m),                           0, (\u001b[0;34mY\u001b[0m.\u001b[0;34me\u001b[0m)],\n",
      "[(\u001b[0;34mX\u001b[0m.\u001b[0;34me\u001b[0m), (\u001b[0;34mY\u001b[0m.\u001b[0;34me\u001b[0m),                           1]])\n",
      "(X^Y)**2 = (\u001b[0;34mX\u001b[0m.\u001b[0;34mY\u001b[0m)**2\n",
      "B = \u001b[0;34mX\u001b[0m^\u001b[0;34mY\u001b[0m - (\u001b[0;34mY\u001b[0m.\u001b[0;34me\u001b[0m)*\u001b[0;34mX\u001b[0m^\u001b[0;34me\u001b[0m + (\u001b[0;34mX\u001b[0m.\u001b[0;34me\u001b[0m)*\u001b[0;34mY\u001b[0m^\u001b[0;34me\u001b[0m\n",
      "B**2 = 3*(\u001b[0;34mX\u001b[0m.\u001b[0;34mY\u001b[0m)**2 - 2*(\u001b[0;34mX\u001b[0m.\u001b[0;34mY\u001b[0m)*(\u001b[0;34mX\u001b[0m.\u001b[0;34me\u001b[0m)*(\u001b[0;34mY\u001b[0m.\u001b[0;34me\u001b[0m) + 2*(\u001b[0;34mX\u001b[0m.\u001b[0;34mY\u001b[0m)*(\u001b[0;34mX\u001b[0m.\u001b[0;34me\u001b[0m)*\u001b[0;34mY\u001b[0m^\u001b[0;34me\u001b[0m - 2*(\u001b[0;34mX\u001b[0m.\u001b[0;34mY\u001b[0m)*(\u001b[0;34mX\u001b[0m.\u001b[0;34me\u001b[0m)*((\u001b[0;34mY\u001b[0m.\u001b[0;34me\u001b[0m) + \u001b[0;34mY\u001b[0m^\u001b[0;34me\u001b[0m) - 2*(\u001b[0;34mX\u001b[0m.\u001b[0;34mY\u001b[0m)*(\u001b[0;34mY\u001b[0m.\u001b[0;34me\u001b[0m)*\u001b[0;34mX\u001b[0m^\u001b[0;34me\u001b[0m + 2*(\u001b[0;34mX\u001b[0m.\u001b[0;34mY\u001b[0m)*(\u001b[0;34mY\u001b[0m.\u001b[0;34me\u001b[0m)*((\u001b[0;34mX\u001b[0m.\u001b[0;34me\u001b[0m) + \u001b[0;34mX\u001b[0m^\u001b[0;34me\u001b[0m) + 2*(\u001b[0;34mX\u001b[0m.\u001b[0;34mY\u001b[0m)*\u001b[0;34mX\u001b[0m^\u001b[0;34mY\u001b[0m - 2*(\u001b[0;34mX\u001b[0m.\u001b[0;34mY\u001b[0m)*((\u001b[0;34mX\u001b[0m.\u001b[0;34mY\u001b[0m) + \u001b[0;34mX\u001b[0m^\u001b[0;34mY\u001b[0m)\n",
      "#L = X^Y^e is a non-euclidian line\n",
      "B = L*e = \u001b[0;34mX\u001b[0m^\u001b[0;34mY\u001b[0m - (\u001b[0;34mY\u001b[0m.\u001b[0;34me\u001b[0m)*\u001b[0;34mX\u001b[0m^\u001b[0;34me\u001b[0m + (\u001b[0;34mX\u001b[0m.\u001b[0;34me\u001b[0m)*\u001b[0;34mY\u001b[0m^\u001b[0;34me\u001b[0m\n",
      "B*e*B.rev() = (\u001b[0;34mX\u001b[0m.\u001b[0;34mY\u001b[0m)*(-(\u001b[0;34mX\u001b[0m.\u001b[0;34mY\u001b[0m) + 2*(\u001b[0;34mX\u001b[0m.\u001b[0;34me\u001b[0m)*(\u001b[0;34mY\u001b[0m.\u001b[0;34me\u001b[0m))*\u001b[0;34me\u001b[0m\n",
      "B**2 = (\u001b[0;34mX\u001b[0m.\u001b[0;34mY\u001b[0m)*((\u001b[0;34mX\u001b[0m.\u001b[0;34mY\u001b[0m) - 2*(\u001b[0;34mX\u001b[0m.\u001b[0;34me\u001b[0m)*(\u001b[0;34mY\u001b[0m.\u001b[0;34me\u001b[0m))\n",
      "L**2 = (\u001b[0;34mX\u001b[0m.\u001b[0;34mY\u001b[0m)**2 - 2*(\u001b[0;34mX\u001b[0m.\u001b[0;34mY\u001b[0m)*(\u001b[0;34mX\u001b[0m.\u001b[0;34me\u001b[0m)*(\u001b[0;34mY\u001b[0m.\u001b[0;34me\u001b[0m)\n",
      "s = sinh(alpha/2) and c = cosh(alpha/2)\n",
      "exp(alpha*B/(2*|B|)) = c + (1/B)*s*\u001b[0;34mX\u001b[0m^\u001b[0;34mY\u001b[0m - (\u001b[0;34mY\u001b[0m.\u001b[0;34me\u001b[0m)*(1/B)*s*\u001b[0;34mX\u001b[0m^\u001b[0;34me\u001b[0m + (\u001b[0;34mX\u001b[0m.\u001b[0;34me\u001b[0m)*(1/B)*s*\u001b[0;34mY\u001b[0m^\u001b[0;34me\u001b[0m\n",
      "R*X*R.rev() =  ((\u001b[0;34mX\u001b[0m.\u001b[0;34mY\u001b[0m)**2*(1/B)**2*s**2 - 2*(\u001b[0;34mX\u001b[0m.\u001b[0;34mY\u001b[0m)*(\u001b[0;34mX\u001b[0m.\u001b[0;34me\u001b[0m)*(\u001b[0;34mY\u001b[0m.\u001b[0;34me\u001b[0m)*(1/B)**2*s**2 + 2*(\u001b[0;34mX\u001b[0m.\u001b[0;34mY\u001b[0m)*(1/B)*c*s - 2*(\u001b[0;34mX\u001b[0m.\u001b[0;34me\u001b[0m)*(\u001b[0;34mY\u001b[0m.\u001b[0;34me\u001b[0m)*(1/B)*c*s + c**2)*\u001b[0;34mX\u001b[0m\n",
      " + 2*(\u001b[0;34mX\u001b[0m.\u001b[0;34me\u001b[0m)**2*(1/B)*c*s*\u001b[0;34mY\u001b[0m\n",
      " + 2*(\u001b[0;34mX\u001b[0m.\u001b[0;34mY\u001b[0m)*(\u001b[0;34mX\u001b[0m.\u001b[0;34me\u001b[0m)*(1/B)*s*(-(\u001b[0;34mX\u001b[0m.\u001b[0;34mY\u001b[0m)*(1/B)*s + 2*(\u001b[0;34mX\u001b[0m.\u001b[0;34me\u001b[0m)*(\u001b[0;34mY\u001b[0m.\u001b[0;34me\u001b[0m)*(1/B)*s - c)*\u001b[0;34me\u001b[0m\n",
      "Objective is to determine value of C = cosh(alpha) such that W = 0\n",
      "Z|Y = (\u001b[0;34mX\u001b[0m.\u001b[0;34mY\u001b[0m)**3*(1/B)**2*s**2 - 4*(\u001b[0;34mX\u001b[0m.\u001b[0;34mY\u001b[0m)**2*(\u001b[0;34mX\u001b[0m.\u001b[0;34me\u001b[0m)*(\u001b[0;34mY\u001b[0m.\u001b[0;34me\u001b[0m)*(1/B)**2*s**2 + 2*(\u001b[0;34mX\u001b[0m.\u001b[0;34mY\u001b[0m)**2*(1/B)*c*s + 4*(\u001b[0;34mX\u001b[0m.\u001b[0;34mY\u001b[0m)*(\u001b[0;34mX\u001b[0m.\u001b[0;34me\u001b[0m)**2*(\u001b[0;34mY\u001b[0m.\u001b[0;34me\u001b[0m)**2*(1/B)**2*s**2 - 4*(\u001b[0;34mX\u001b[0m.\u001b[0;34mY\u001b[0m)*(\u001b[0;34mX\u001b[0m.\u001b[0;34me\u001b[0m)*(\u001b[0;34mY\u001b[0m.\u001b[0;34me\u001b[0m)*(1/B)*c*s + (\u001b[0;34mX\u001b[0m.\u001b[0;34mY\u001b[0m)*c**2\n",
      "S = sinh(alpha) and C = cosh(alpha)\n",
      "W = (\u001b[0;34mX\u001b[0m.\u001b[0;34mY\u001b[0m)*(1/B)*C*sqrt((\u001b[0;34mX\u001b[0m.\u001b[0;34mY\u001b[0m)**2 - 2*(\u001b[0;34mX\u001b[0m.\u001b[0;34mY\u001b[0m)*(\u001b[0;34mX\u001b[0m.\u001b[0;34me\u001b[0m)*(\u001b[0;34mY\u001b[0m.\u001b[0;34me\u001b[0m)) - (\u001b[0;34mX\u001b[0m.\u001b[0;34me\u001b[0m)*(\u001b[0;34mY\u001b[0m.\u001b[0;34me\u001b[0m)*(1/B)*C*sqrt((\u001b[0;34mX\u001b[0m.\u001b[0;34mY\u001b[0m)**2 - 2*(\u001b[0;34mX\u001b[0m.\u001b[0;34mY\u001b[0m)*(\u001b[0;34mX\u001b[0m.\u001b[0;34me\u001b[0m)*(\u001b[0;34mY\u001b[0m.\u001b[0;34me\u001b[0m)) + (\u001b[0;34mX\u001b[0m.\u001b[0;34me\u001b[0m)*(\u001b[0;34mY\u001b[0m.\u001b[0;34me\u001b[0m)*(1/B)*sqrt((\u001b[0;34mX\u001b[0m.\u001b[0;34mY\u001b[0m)**2 - 2*(\u001b[0;34mX\u001b[0m.\u001b[0;34mY\u001b[0m)*(\u001b[0;34mX\u001b[0m.\u001b[0;34me\u001b[0m)*(\u001b[0;34mY\u001b[0m.\u001b[0;34me\u001b[0m)) + S*sqrt((\u001b[0;34mX\u001b[0m.\u001b[0;34mY\u001b[0m)**2 - 2*(\u001b[0;34mX\u001b[0m.\u001b[0;34mY\u001b[0m)*(\u001b[0;34mX\u001b[0m.\u001b[0;34me\u001b[0m)*(\u001b[0;34mY\u001b[0m.\u001b[0;34me\u001b[0m))\n",
      "Wd = {S: sqrt((\u001b[0;34mX\u001b[0m.\u001b[0;34mY\u001b[0m)**2 - 2*(\u001b[0;34mX\u001b[0m.\u001b[0;34mY\u001b[0m)*(\u001b[0;34mX\u001b[0m.\u001b[0;34me\u001b[0m)*(\u001b[0;34mY\u001b[0m.\u001b[0;34me\u001b[0m)), C: (\u001b[0;34mX\u001b[0m.\u001b[0;34mY\u001b[0m)*(1/B)*sqrt((\u001b[0;34mX\u001b[0m.\u001b[0;34mY\u001b[0m)**2 - 2*(\u001b[0;34mX\u001b[0m.\u001b[0;34mY\u001b[0m)*(\u001b[0;34mX\u001b[0m.\u001b[0;34me\u001b[0m)*(\u001b[0;34mY\u001b[0m.\u001b[0;34me\u001b[0m)) - (\u001b[0;34mX\u001b[0m.\u001b[0;34me\u001b[0m)*(\u001b[0;34mY\u001b[0m.\u001b[0;34me\u001b[0m)*(1/B)*sqrt((\u001b[0;34mX\u001b[0m.\u001b[0;34mY\u001b[0m)**2 - 2*(\u001b[0;34mX\u001b[0m.\u001b[0;34mY\u001b[0m)*(\u001b[0;34mX\u001b[0m.\u001b[0;34me\u001b[0m)*(\u001b[0;34mY\u001b[0m.\u001b[0;34me\u001b[0m)), 1: (\u001b[0;34mX\u001b[0m.\u001b[0;34me\u001b[0m)*(\u001b[0;34mY\u001b[0m.\u001b[0;34me\u001b[0m)*(1/B)*sqrt((\u001b[0;34mX\u001b[0m.\u001b[0;34mY\u001b[0m)**2 - 2*(\u001b[0;34mX\u001b[0m.\u001b[0;34mY\u001b[0m)*(\u001b[0;34mX\u001b[0m.\u001b[0;34me\u001b[0m)*(\u001b[0;34mY\u001b[0m.\u001b[0;34me\u001b[0m))}\n",
      "Scalar Coefficient = (\u001b[0;34mX\u001b[0m.\u001b[0;34me\u001b[0m)*(\u001b[0;34mY\u001b[0m.\u001b[0;34me\u001b[0m)*(1/B)*sqrt((\u001b[0;34mX\u001b[0m.\u001b[0;34mY\u001b[0m)**2 - 2*(\u001b[0;34mX\u001b[0m.\u001b[0;34mY\u001b[0m)*(\u001b[0;34mX\u001b[0m.\u001b[0;34me\u001b[0m)*(\u001b[0;34mY\u001b[0m.\u001b[0;34me\u001b[0m))\n",
      "Cosh Coefficient = (\u001b[0;34mX\u001b[0m.\u001b[0;34mY\u001b[0m)*(1/B)*sqrt((\u001b[0;34mX\u001b[0m.\u001b[0;34mY\u001b[0m)**2 - 2*(\u001b[0;34mX\u001b[0m.\u001b[0;34mY\u001b[0m)*(\u001b[0;34mX\u001b[0m.\u001b[0;34me\u001b[0m)*(\u001b[0;34mY\u001b[0m.\u001b[0;34me\u001b[0m)) - (\u001b[0;34mX\u001b[0m.\u001b[0;34me\u001b[0m)*(\u001b[0;34mY\u001b[0m.\u001b[0;34me\u001b[0m)*(1/B)*sqrt((\u001b[0;34mX\u001b[0m.\u001b[0;34mY\u001b[0m)**2 - 2*(\u001b[0;34mX\u001b[0m.\u001b[0;34mY\u001b[0m)*(\u001b[0;34mX\u001b[0m.\u001b[0;34me\u001b[0m)*(\u001b[0;34mY\u001b[0m.\u001b[0;34me\u001b[0m))\n",
      "Sinh Coefficient = sqrt((\u001b[0;34mX\u001b[0m.\u001b[0;34mY\u001b[0m)**2 - 2*(\u001b[0;34mX\u001b[0m.\u001b[0;34mY\u001b[0m)*(\u001b[0;34mX\u001b[0m.\u001b[0;34me\u001b[0m)*(\u001b[0;34mY\u001b[0m.\u001b[0;34me\u001b[0m))\n",
      "|B| = sqrt((\u001b[0;34mX\u001b[0m.\u001b[0;34mY\u001b[0m)**2 - 2*(\u001b[0;34mX\u001b[0m.\u001b[0;34mY\u001b[0m)*(\u001b[0;34mX\u001b[0m.\u001b[0;34me\u001b[0m)*(\u001b[0;34mY\u001b[0m.\u001b[0;34me\u001b[0m))\n",
      "Require a*C**2+b*C+c = 0\n",
      "a = (\u001b[0;34mX\u001b[0m.\u001b[0;34me\u001b[0m)**2*(\u001b[0;34mY\u001b[0m.\u001b[0;34me\u001b[0m)**2\n",
      "b = 2*(\u001b[0;34mX\u001b[0m.\u001b[0;34me\u001b[0m)*(\u001b[0;34mY\u001b[0m.\u001b[0;34me\u001b[0m)*((\u001b[0;34mX\u001b[0m.\u001b[0;34mY\u001b[0m) - (\u001b[0;34mX\u001b[0m.\u001b[0;34me\u001b[0m)*(\u001b[0;34mY\u001b[0m.\u001b[0;34me\u001b[0m))\n",
      "c = (\u001b[0;34mX\u001b[0m.\u001b[0;34mY\u001b[0m)**2 - 2*(\u001b[0;34mX\u001b[0m.\u001b[0;34mY\u001b[0m)*(\u001b[0;34mX\u001b[0m.\u001b[0;34me\u001b[0m)*(\u001b[0;34mY\u001b[0m.\u001b[0;34me\u001b[0m) + (\u001b[0;34mX\u001b[0m.\u001b[0;34me\u001b[0m)**2*(\u001b[0;34mY\u001b[0m.\u001b[0;34me\u001b[0m)**2\n",
      "cosh(alpha) = C = -b/(2*a) = -(\u001b[0;34mX\u001b[0m.\u001b[0;34mY\u001b[0m)/((\u001b[0;34mX\u001b[0m.\u001b[0;34me\u001b[0m)*(\u001b[0;34mY\u001b[0m.\u001b[0;34me\u001b[0m)) + 1\n",
      "g_{ij} =\n",
      "Matrix([\n",
      "[1, 0, 0, 0, 0],\n",
      "[0, 1, 0, 0, 0],\n",
      "[0, 0, 1, 0, 0],\n",
      "[0, 0, 0, 0, 2],\n",
      "[0, 0, 0, 2, 0]])\n",
      "F(a) = \u001b[0;34me_1\u001b[0m + \u001b[0;34mn\u001b[0m/2 - \u001b[0;34mnbar\u001b[0m/2\n",
      "F(b) = \u001b[0;34me_2\u001b[0m + \u001b[0;34mn\u001b[0m/2 - \u001b[0;34mnbar\u001b[0m/2\n",
      "F(c) = -\u001b[0;34me_1\u001b[0m + \u001b[0;34mn\u001b[0m/2 - \u001b[0;34mnbar\u001b[0m/2\n",
      "F(d) = \u001b[0;34me_3\u001b[0m + \u001b[0;34mn\u001b[0m/2 - \u001b[0;34mnbar\u001b[0m/2\n",
      "F(x) = x1*\u001b[0;34me_1\u001b[0m + x2*\u001b[0;34me_2\u001b[0m + x3*\u001b[0;34me_3\u001b[0m + (x1**2/2 + x2**2/2 + x3**2/2)*\u001b[0;34mn\u001b[0m - \u001b[0;34mnbar\u001b[0m/2\n",
      "a = e1, b = e2, c = -e1, and d = e3\n",
      "A = F(a) = 1/2*(a*a*n+2*a-nbar), etc.\n",
      "Circle through a, b, and c\n",
      "Circle: A^B^C^X = 0 = -x3*\u001b[0;34me_1\u001b[0m^\u001b[0;34me_2\u001b[0m^\u001b[0;34me_3\u001b[0m^\u001b[0;34mn\u001b[0m + x3*\u001b[0;34me_1\u001b[0m^\u001b[0;34me_2\u001b[0m^\u001b[0;34me_3\u001b[0m^\u001b[0;34mnbar\u001b[0m + (x1**2/2 + x2**2/2 + x3**2/2 - 1/2)*\u001b[0;34me_1\u001b[0m^\u001b[0;34me_2\u001b[0m^\u001b[0;34mn\u001b[0m^\u001b[0;34mnbar\u001b[0m\n",
      "Line through a and b\n",
      "Line  : A^B^n^X = 0 = -x3*\u001b[0;34me_1\u001b[0m^\u001b[0;34me_2\u001b[0m^\u001b[0;34me_3\u001b[0m^\u001b[0;34mn\u001b[0m + (x1/2 + x2/2 - 1/2)*\u001b[0;34me_1\u001b[0m^\u001b[0;34me_2\u001b[0m^\u001b[0;34mn\u001b[0m^\u001b[0;34mnbar\u001b[0m + x3*\u001b[0;34me_1\u001b[0m^\u001b[0;34me_3\u001b[0m^\u001b[0;34mn\u001b[0m^\u001b[0;34mnbar\u001b[0m/2 - x3*\u001b[0;34me_2\u001b[0m^\u001b[0;34me_3\u001b[0m^\u001b[0;34mn\u001b[0m^\u001b[0;34mnbar\u001b[0m/2\n",
      "Sphere through a, b, c, and d\n",
      "Sphere: A^B^C^D^X = 0 = (-x1**2/2 - x2**2/2 - x3**2/2 + 1/2)*\u001b[0;34me_1\u001b[0m^\u001b[0;34me_2\u001b[0m^\u001b[0;34me_3\u001b[0m^\u001b[0;34mn\u001b[0m^\u001b[0;34mnbar\u001b[0m\n",
      "Plane through a, b, and d\n",
      "Plane : A^B^n^D^X = 0 = (-x1/2 - x2/2 - x3/2 + 1/2)*\u001b[0;34me_1\u001b[0m^\u001b[0;34me_2\u001b[0m^\u001b[0;34me_3\u001b[0m^\u001b[0;34mn\u001b[0m^\u001b[0;34mnbar\u001b[0m\n",
      "Hyperbolic Circle: (A^B^e)^X = 0 = =  -x3*\u001b[0;34me_1\u001b[0m^\u001b[0;34me_2\u001b[0m^\u001b[0;34me_3\u001b[0m^\u001b[0;34mn\u001b[0m\n",
      " - x3*\u001b[0;34me_1\u001b[0m^\u001b[0;34me_2\u001b[0m^\u001b[0;34me_3\u001b[0m^\u001b[0;34mnbar\u001b[0m\n",
      " + (-x1**2/2 + x1 - x2**2/2 + x2 - x3**2/2 - 1/2)*\u001b[0;34me_1\u001b[0m^\u001b[0;34me_2\u001b[0m^\u001b[0;34mn\u001b[0m^\u001b[0;34mnbar\u001b[0m\n",
      " + x3*\u001b[0;34me_1\u001b[0m^\u001b[0;34me_3\u001b[0m^\u001b[0;34mn\u001b[0m^\u001b[0;34mnbar\u001b[0m\n",
      " - x3*\u001b[0;34me_2\u001b[0m^\u001b[0;34me_3\u001b[0m^\u001b[0;34mn\u001b[0m^\u001b[0;34mnbar\u001b[0m\n",
      "g_{ij} =\n",
      "Matrix([\n",
      "[(\u001b[0;34mp1\u001b[0m.\u001b[0;34mp1\u001b[0m), (\u001b[0;34mp1\u001b[0m.\u001b[0;34mp2\u001b[0m), (\u001b[0;34mp1\u001b[0m.\u001b[0;34mp3\u001b[0m), 0, 0],\n",
      "[(\u001b[0;34mp1\u001b[0m.\u001b[0;34mp2\u001b[0m), (\u001b[0;34mp2\u001b[0m.\u001b[0;34mp2\u001b[0m), (\u001b[0;34mp2\u001b[0m.\u001b[0;34mp3\u001b[0m), 0, 0],\n",
      "[(\u001b[0;34mp1\u001b[0m.\u001b[0;34mp3\u001b[0m), (\u001b[0;34mp2\u001b[0m.\u001b[0;34mp3\u001b[0m), (\u001b[0;34mp3\u001b[0m.\u001b[0;34mp3\u001b[0m), 0, 0],\n",
      "[                            0,                             0,                             0, 0, 2],\n",
      "[                            0,                             0,                             0, 2, 0]])\n",
      "Extracting direction of line from L = P1^P2^n\n",
      "(L|n)|nbar = 2*\u001b[0;34mp1\u001b[0m - 2*\u001b[0;34mp2\u001b[0m\n",
      "Extracting plane of circle from C = P1^P2^P3\n",
      "((C^n)|n)|nbar = 2*\u001b[0;34mp1\u001b[0m^\u001b[0;34mp2\u001b[0m - 2*\u001b[0;34mp1\u001b[0m^\u001b[0;34mp3\u001b[0m + 2*\u001b[0;34mp2\u001b[0m^\u001b[0;34mp3\u001b[0m\n",
      "(p2-p1)^(p3-p1) = \u001b[0;34mp1\u001b[0m^\u001b[0;34mp2\u001b[0m - \u001b[0;34mp1\u001b[0m^\u001b[0;34mp3\u001b[0m + \u001b[0;34mp2\u001b[0m^\u001b[0;34mp3\u001b[0m\n",
      "g_{ij} =\n",
      "Matrix([\n",
      "[                           0,                           -1, (\u001b[0;34mP1\u001b[0m.\u001b[0;34ma\u001b[0m)],\n",
      "[                          -1,                            0, (\u001b[0;34mP2\u001b[0m.\u001b[0;34ma\u001b[0m)],\n",
      "[(\u001b[0;34mP1\u001b[0m.\u001b[0;34ma\u001b[0m), (\u001b[0;34mP2\u001b[0m.\u001b[0;34ma\u001b[0m),  (\u001b[0;34ma\u001b[0m.\u001b[0;34ma\u001b[0m)]])\n",
      "B**2 = 1\n",
      "a' = a-(a^B)*B = -(\u001b[0;34mP2\u001b[0m.\u001b[0;34ma\u001b[0m)*\u001b[0;34mP1\u001b[0m - (\u001b[0;34mP1\u001b[0m.\u001b[0;34ma\u001b[0m)*\u001b[0;34mP2\u001b[0m\n",
      "A+ = a'+a'*B = -2*(\u001b[0;34mP2\u001b[0m.\u001b[0;34ma\u001b[0m)*\u001b[0;34mP1\u001b[0m\n",
      "A- = a'-a'*B = -2*(\u001b[0;34mP1\u001b[0m.\u001b[0;34ma\u001b[0m)*\u001b[0;34mP2\u001b[0m\n",
      "(A+)^2 = 0\n",
      "(A-)^2 = 0\n",
      "a|B = -(\u001b[0;34mP2\u001b[0m.\u001b[0;34ma\u001b[0m)*\u001b[0;34mP1\u001b[0m + (\u001b[0;34mP1\u001b[0m.\u001b[0;34ma\u001b[0m)*\u001b[0;34mP2\u001b[0m\n",
      "g_{ij} =\n",
      "Matrix([\n",
      "[                            1, (\u001b[0;34me1\u001b[0m.\u001b[0;34me2\u001b[0m), (\u001b[0;34me1\u001b[0m.\u001b[0;34me3\u001b[0m)],\n",
      "[(\u001b[0;34me1\u001b[0m.\u001b[0;34me2\u001b[0m),                             1, (\u001b[0;34me2\u001b[0m.\u001b[0;34me3\u001b[0m)],\n",
      "[(\u001b[0;34me1\u001b[0m.\u001b[0;34me3\u001b[0m), (\u001b[0;34me2\u001b[0m.\u001b[0;34me3\u001b[0m),                             1]])\n",
      "E = \u001b[0;34me1\u001b[0m^\u001b[0;34me2\u001b[0m^\u001b[0;34me3\u001b[0m\n",
      "E**2 = (\u001b[0;34me1\u001b[0m.\u001b[0;34me2\u001b[0m)**2 - 2*(\u001b[0;34me1\u001b[0m.\u001b[0;34me2\u001b[0m)*(\u001b[0;34me1\u001b[0m.\u001b[0;34me3\u001b[0m)*(\u001b[0;34me2\u001b[0m.\u001b[0;34me3\u001b[0m) + (\u001b[0;34me1\u001b[0m.\u001b[0;34me3\u001b[0m)**2 + (\u001b[0;34me2\u001b[0m.\u001b[0;34me3\u001b[0m)**2 - 1\n",
      "E1 = (e2^e3)*E = ((\u001b[0;34me2\u001b[0m.\u001b[0;34me3\u001b[0m)**2 - 1)*\u001b[0;34me1\u001b[0m + ((\u001b[0;34me1\u001b[0m.\u001b[0;34me2\u001b[0m) - (\u001b[0;34me1\u001b[0m.\u001b[0;34me3\u001b[0m)*(\u001b[0;34me2\u001b[0m.\u001b[0;34me3\u001b[0m))*\u001b[0;34me2\u001b[0m + (-(\u001b[0;34me1\u001b[0m.\u001b[0;34me2\u001b[0m)*(\u001b[0;34me2\u001b[0m.\u001b[0;34me3\u001b[0m) + (\u001b[0;34me1\u001b[0m.\u001b[0;34me3\u001b[0m))*\u001b[0;34me3\u001b[0m\n",
      "E2 =-(e1^e3)*E = ((\u001b[0;34me1\u001b[0m.\u001b[0;34me2\u001b[0m) - (\u001b[0;34me1\u001b[0m.\u001b[0;34me3\u001b[0m)*(\u001b[0;34me2\u001b[0m.\u001b[0;34me3\u001b[0m))*\u001b[0;34me1\u001b[0m + ((\u001b[0;34me1\u001b[0m.\u001b[0;34me3\u001b[0m)**2 - 1)*\u001b[0;34me2\u001b[0m + (-(\u001b[0;34me1\u001b[0m.\u001b[0;34me2\u001b[0m)*(\u001b[0;34me1\u001b[0m.\u001b[0;34me3\u001b[0m) + (\u001b[0;34me2\u001b[0m.\u001b[0;34me3\u001b[0m))*\u001b[0;34me3\u001b[0m\n",
      "E3 = (e1^e2)*E = (-(\u001b[0;34me1\u001b[0m.\u001b[0;34me2\u001b[0m)*(\u001b[0;34me2\u001b[0m.\u001b[0;34me3\u001b[0m) + (\u001b[0;34me1\u001b[0m.\u001b[0;34me3\u001b[0m))*\u001b[0;34me1\u001b[0m + (-(\u001b[0;34me1\u001b[0m.\u001b[0;34me2\u001b[0m)*(\u001b[0;34me1\u001b[0m.\u001b[0;34me3\u001b[0m) + (\u001b[0;34me2\u001b[0m.\u001b[0;34me3\u001b[0m))*\u001b[0;34me2\u001b[0m + ((\u001b[0;34me1\u001b[0m.\u001b[0;34me2\u001b[0m)**2 - 1)*\u001b[0;34me3\u001b[0m\n",
      "E1|e2 = 0\n",
      "E1|e3 = 0\n",
      "E2|e1 = 0\n",
      "E2|e3 = 0\n",
      "E3|e1 = 0\n",
      "E3|e2 = 0\n",
      "(E1|e1)/E**2 = 1\n",
      "(E2|e2)/E**2 = 1\n",
      "(E3|e3)/E**2 = 1\n",
      "e3d.g = Matrix([\n",
      "[1, 0, 0],\n",
      "[0, 1, 0],\n",
      "[0, 0, 1]])\n",
      "Signature = (3,0) I = \u001b[0;34me1\u001b[0m^\u001b[0;34me2\u001b[0m^\u001b[0;34me3\u001b[0m  I**2 = -1\n",
      "e3d.g = Matrix([\n",
      "[2, 0, 0],\n",
      "[0, 2, 0],\n",
      "[0, 0, 2]])\n",
      "Signature = (3,0) I = sqrt(2)*\u001b[0;34me1\u001b[0m^\u001b[0;34me2\u001b[0m^\u001b[0;34me3\u001b[0m/4  I**2 = -1\n",
      "e3d.g = Matrix([\n",
      "[1,  0,  0,  0],\n",
      "[0, -1,  0,  0],\n",
      "[0,  0, -1,  0],\n",
      "[0,  0,  0, -1]])\n",
      "Signature = (1,3) I = \u001b[0;34me1\u001b[0m^\u001b[0;34me2\u001b[0m^\u001b[0;34me3\u001b[0m^\u001b[0;34me4\u001b[0m  I**2 = -1\n",
      "e3d.g = Matrix([\n",
      "[2,  0,  0,  0],\n",
      "[0, -2,  0,  0],\n",
      "[0,  0, -2,  0],\n",
      "[0,  0,  0, -2]])\n",
      "Signature = (1,3) I = \u001b[0;34me1\u001b[0m^\u001b[0;34me2\u001b[0m^\u001b[0;34me3\u001b[0m^\u001b[0;34me4\u001b[0m/4  I**2 = -1\n",
      "e4d.g = Matrix([\n",
      "[1, 0, 0, 0],\n",
      "[0, 1, 0, 0],\n",
      "[0, 0, 1, 0],\n",
      "[0, 0, 0, 1]])\n",
      "Signature = (4,0) I = \u001b[0;34me1\u001b[0m^\u001b[0;34me2\u001b[0m^\u001b[0;34me3\u001b[0m^\u001b[0;34me4\u001b[0m  I**2 = 1\n",
      "cf4d.g = Matrix([\n",
      "[1, 0, 0, 0,  0],\n",
      "[0, 1, 0, 0,  0],\n",
      "[0, 0, 1, 0,  0],\n",
      "[0, 0, 0, 1,  0],\n",
      "[0, 0, 0, 0, -1]])\n",
      "Signature = (4,1) I = \u001b[0;34me1\u001b[0m^\u001b[0;34me2\u001b[0m^\u001b[0;34me3\u001b[0m^\u001b[0;34me4\u001b[0m^\u001b[0;34me5\u001b[0m  I**2 = -1\n",
      "cf4d.g = Matrix([\n",
      "[2, 0, 0, 0,  0],\n",
      "[0, 2, 0, 0,  0],\n",
      "[0, 0, 2, 0,  0],\n",
      "[0, 0, 0, 2,  0],\n",
      "[0, 0, 0, 0, -2]])\n",
      "Signature = (4,1) I = sqrt(2)*\u001b[0;34me1\u001b[0m^\u001b[0;34me2\u001b[0m^\u001b[0;34me3\u001b[0m^\u001b[0;34me4\u001b[0m^\u001b[0;34me5\u001b[0m/8  I**2 = -1\n"
     ]
    }
   ],
   "source": [
    "run(`python terminal_check.py`)"
   ]
  },
  {
   "cell_type": "code",
   "execution_count": 50,
   "metadata": {
    "collapsed": false
   },
   "outputs": [
    {
     "name": "stderr",
     "output_type": "stream",
     "text": [
      "sys:1: SymPyDeprecationWarning: \n",
      "\n",
      "C, including its class ClassRegistry, has been deprecated since SymPy\n",
      "1.0. It will be last supported in SymPy version 1.0. Use direct\n",
      "imports from the defining module instead. See\n",
      "https://github.com/sympy/sympy/issues/9371 for more info.\n",
      "\n"
     ]
    }
   ],
   "source": [
    "using PyCall\n",
    "@pyimport sympy\n",
    "@pyimport ga"
   ]
  },
  {
   "cell_type": "code",
   "execution_count": 51,
   "metadata": {
    "collapsed": false
   },
   "outputs": [
    {
     "data": {
      "text/latex": [
       "\\begin{equation*} A = A  + A^{x} \\boldsymbol{e}_{x} + A^{y} \\boldsymbol{e}_{y} + A^{z} \\boldsymbol{e}_{z} + A^{xy} \\boldsymbol{e}_{x}\\wedge \\boldsymbol{e}_{y} + A^{xz} \\boldsymbol{e}_{x}\\wedge \\boldsymbol{e}_{z} + A^{yz} \\boldsymbol{e}_{y}\\wedge \\boldsymbol{e}_{z} + A^{xyz} \\boldsymbol{e}_{x}\\wedge \\boldsymbol{e}_{y}\\wedge \\boldsymbol{e}_{z} \\end{equation*}"
      ],
      "text/plain": [
       "PyObject A + A__x*e_x + A__y*e_y + A__z*e_z + A__xy*e_x^e_y + A__xz*e_x^e_z + A__yz*e_y^e_z + A__xyz*e_x^e_y^e_z"
      ]
     },
     "execution_count": 51,
     "metadata": {},
     "output_type": "execute_result"
    }
   ],
   "source": [
    "g3d = ga.Ga(\"e*x|y|z\")\n",
    "(ex, ey, ez) = g3d[:mv]()\n",
    "A = g3d[:mv](\"A\", \"mv\")"
   ]
  },
  {
   "cell_type": "code",
   "execution_count": 52,
   "metadata": {
    "collapsed": false
   },
   "outputs": [
    {
     "data": {
      "text/latex": [
       "\\begin{equation*}  \\boldsymbol{e}_{x} \\end{equation*}"
      ],
      "text/plain": [
       "PyObject e_x"
      ]
     },
     "metadata": {},
     "output_type": "display_data"
    },
    {
     "data": {
      "text/latex": [
       "\\begin{equation*}  \\boldsymbol{e}_{y} \\end{equation*}"
      ],
      "text/plain": [
       "PyObject e_y"
      ]
     },
     "metadata": {},
     "output_type": "display_data"
    },
    {
     "data": {
      "text/latex": [
       "\\begin{equation*}  \\boldsymbol{e}_{z} \\end{equation*}"
      ],
      "text/plain": [
       "PyObject e_z"
      ]
     },
     "metadata": {},
     "output_type": "display_data"
    },
    {
     "data": {
      "text/plain": [
       "3-element Array{Any,1}:\n",
       " nothing\n",
       " nothing\n",
       " nothing"
      ]
     },
     "execution_count": 52,
     "metadata": {},
     "output_type": "execute_result"
    }
   ],
   "source": [
    "[display(symbol) for symbol in (ex, ey, ez)]"
   ]
  },
  {
   "cell_type": "code",
   "execution_count": 53,
   "metadata": {
    "collapsed": false
   },
   "outputs": [
    {
     "data": {
      "text/latex": [
       "\\begin{equation*} X = X^{x} \\boldsymbol{e}_{x} + X^{y} \\boldsymbol{e}_{y} + X^{z} \\boldsymbol{e}_{z} \\end{equation*}"
      ],
      "text/plain": [
       "PyObject X__x*e_x + X__y*e_y + X__z*e_z"
      ]
     },
     "execution_count": 53,
     "metadata": {},
     "output_type": "execute_result"
    }
   ],
   "source": [
    "X = g3d[:mv](\"X\", \"vector\")"
   ]
  },
  {
   "cell_type": "code",
   "execution_count": 54,
   "metadata": {
    "collapsed": false
   },
   "outputs": [
    {
     "data": {
      "text/latex": [
       "\\begin{equation*} Y = Y^{x} \\boldsymbol{e}_{x} + Y^{y} \\boldsymbol{e}_{y} + Y^{z} \\boldsymbol{e}_{z} \\end{equation*}"
      ],
      "text/plain": [
       "PyObject Y__x*e_x + Y__y*e_y + Y__z*e_z"
      ]
     },
     "execution_count": 54,
     "metadata": {},
     "output_type": "execute_result"
    }
   ],
   "source": [
    "Y = g3d[:mv](\"Y\", \"vector\")"
   ]
  },
  {
   "cell_type": "code",
   "execution_count": 55,
   "metadata": {
    "collapsed": false
   },
   "outputs": [
    {
     "data": {
      "text/plain": [
       "PyObject Matrix([\n",
       "[(e_x.e_x), (e_x.e_y), (e_x.e_z)],\n",
       "[(e_x.e_y), (e_y.e_y), (e_y.e_z)],\n",
       "[(e_x.e_z), (e_y.e_z), (e_z.e_z)]])"
      ]
     },
     "execution_count": 55,
     "metadata": {},
     "output_type": "execute_result"
    }
   ],
   "source": [
    "g3d[:g]"
   ]
  },
  {
   "cell_type": "code",
   "execution_count": 56,
   "metadata": {
    "collapsed": false
   },
   "outputs": [
    {
     "data": {
      "text/latex": [
       "\\begin{equation*} \\frac{1}{\\sqrt{\\left ( e_{x}\\cdot e_{x}\\right )  \\left ( e_{y}\\cdot e_{y}\\right )  \\left ( e_{z}\\cdot e_{z}\\right )  - \\left ( e_{x}\\cdot e_{x}\\right )  \\left ( e_{y}\\cdot e_{z}\\right ) ^{2} - \\left ( e_{x}\\cdot e_{y}\\right ) ^{2} \\left ( e_{z}\\cdot e_{z}\\right )  + 2 \\left ( e_{x}\\cdot e_{y}\\right )  \\left ( e_{x}\\cdot e_{z}\\right )  \\left ( e_{y}\\cdot e_{z}\\right )  - \\left ( e_{x}\\cdot e_{z}\\right ) ^{2} \\left ( e_{y}\\cdot e_{y}\\right ) }} \\boldsymbol{e}_{x}\\wedge \\boldsymbol{e}_{y}\\wedge \\boldsymbol{e}_{z} \\end{equation*}"
      ],
      "text/plain": [
       "PyObject e_x^e_y^e_z/sqrt((e_x.e_x)*(e_y.e_y)*(e_z.e_z) - (e_x.e_x)*(e_y.e_z)**2 - (e_x.e_y)**2*(e_z.e_z) + 2*(e_x.e_y)*(e_x.e_z)*(e_y.e_z) - (e_x.e_z)**2*(e_y.e_y))"
      ]
     },
     "execution_count": 56,
     "metadata": {},
     "output_type": "execute_result"
    }
   ],
   "source": [
    "g3d[:I]()"
   ]
  },
  {
   "cell_type": "code",
   "execution_count": 57,
   "metadata": {
    "collapsed": false
   },
   "outputs": [
    {
     "data": {
      "text/latex": [
       "\\begin{equation*}  \\boldsymbol{e}_{x}\\wedge \\boldsymbol{e}_{y}\\wedge \\boldsymbol{e}_{z} \\end{equation*}"
      ],
      "text/plain": [
       "PyObject e_x^e_y^e_z"
      ]
     },
     "execution_count": 57,
     "metadata": {},
     "output_type": "execute_result"
    }
   ],
   "source": [
    "g3d[:E]()"
   ]
  },
  {
   "cell_type": "code",
   "execution_count": 58,
   "metadata": {
    "collapsed": false
   },
   "outputs": [
    {
     "name": "stderr",
     "output_type": "stream",
     "text": [
      "WARNING: imported binding for mv overwritten in module Main\n"
     ]
    },
    {
     "data": {
      "text/plain": [
       "PyObject <bound method Ga.mv of <ga.Ga object at 0x317816e90>>"
      ]
     },
     "execution_count": 58,
     "metadata": {},
     "output_type": "execute_result"
    }
   ],
   "source": [
    "mv = g3d[:mv]"
   ]
  },
  {
   "cell_type": "code",
   "execution_count": 59,
   "metadata": {
    "collapsed": false
   },
   "outputs": [
    {
     "data": {
      "text/latex": [
       "\\begin{equation*} C = C \\end{equation*}"
      ],
      "text/plain": [
       "PyObject C"
      ]
     },
     "execution_count": 59,
     "metadata": {},
     "output_type": "execute_result"
    }
   ],
   "source": [
    "C = mv(\"C\", \"scalar\")"
   ]
  },
  {
   "cell_type": "code",
   "execution_count": 60,
   "metadata": {
    "collapsed": false
   },
   "outputs": [
    {
     "data": {
      "text/latex": [
       "\\begin{equation*} B = B^{xy} \\boldsymbol{e}_{x}\\wedge \\boldsymbol{e}_{y} + B^{xz} \\boldsymbol{e}_{x}\\wedge \\boldsymbol{e}_{z} + B^{yz} \\boldsymbol{e}_{y}\\wedge \\boldsymbol{e}_{z} \\end{equation*}"
      ],
      "text/plain": [
       "PyObject B__xy*e_x^e_y + B__xz*e_x^e_z + B__yz*e_y^e_z"
      ]
     },
     "execution_count": 60,
     "metadata": {},
     "output_type": "execute_result"
    }
   ],
   "source": [
    "B = mv(\"B\", \"bivector\")"
   ]
  },
  {
   "cell_type": "code",
   "execution_count": 61,
   "metadata": {
    "collapsed": false
   },
   "outputs": [
    {
     "data": {
      "text/latex": [
       "\\begin{equation*} V3 = V^{xyz}_{3} \\boldsymbol{e}_{x}\\wedge \\boldsymbol{e}_{y}\\wedge \\boldsymbol{e}_{z} \\end{equation*}"
      ],
      "text/plain": [
       "PyObject V3__xyz*e_x^e_y^e_z"
      ]
     },
     "execution_count": 61,
     "metadata": {},
     "output_type": "execute_result"
    }
   ],
   "source": [
    "V3 = mv(\"V3\", 3)"
   ]
  },
  {
   "cell_type": "code",
   "execution_count": 62,
   "metadata": {
    "collapsed": false
   },
   "outputs": [
    {
     "data": {
      "text/latex": [
       "\\begin{equation*} V2 = V^{xy}_{2} \\boldsymbol{e}_{x}\\wedge \\boldsymbol{e}_{y} + V^{xz}_{2} \\boldsymbol{e}_{x}\\wedge \\boldsymbol{e}_{z} + V^{yz}_{2} \\boldsymbol{e}_{y}\\wedge \\boldsymbol{e}_{z} \\end{equation*}"
      ],
      "text/plain": [
       "PyObject V2__xy*e_x^e_y + V2__xz*e_x^e_z + V2__yz*e_y^e_z"
      ]
     },
     "execution_count": 62,
     "metadata": {},
     "output_type": "execute_result"
    }
   ],
   "source": [
    "V2 = mv(\"V2\", 2)"
   ]
  },
  {
   "cell_type": "code",
   "execution_count": 63,
   "metadata": {
    "collapsed": false
   },
   "outputs": [
    {
     "data": {
      "text/latex": [
       "\\begin{equation*} V1 = V^{x}_{1} \\boldsymbol{e}_{x} + V^{y}_{1} \\boldsymbol{e}_{y} + V^{z}_{1} \\boldsymbol{e}_{z} \\end{equation*}"
      ],
      "text/plain": [
       "PyObject V1__x*e_x + V1__y*e_y + V1__z*e_z"
      ]
     },
     "execution_count": 63,
     "metadata": {},
     "output_type": "execute_result"
    }
   ],
   "source": [
    "V1 = mv(\"V1\", 1)"
   ]
  },
  {
   "cell_type": "code",
   "execution_count": 64,
   "metadata": {
    "collapsed": false
   },
   "outputs": [
    {
     "data": {
      "text/latex": [
       "\\begin{equation*} V0 = V_{0} \\end{equation*}"
      ],
      "text/plain": [
       "PyObject V0"
      ]
     },
     "execution_count": 64,
     "metadata": {},
     "output_type": "execute_result"
    }
   ],
   "source": [
    "V0 = mv(\"V0\", 0)"
   ]
  },
  {
   "cell_type": "code",
   "execution_count": 65,
   "metadata": {
    "collapsed": false
   },
   "outputs": [
    {
     "data": {
      "text/latex": [
       "\\begin{equation*} S = S  + S^{xy} \\boldsymbol{e}_{x}\\wedge \\boldsymbol{e}_{y} + S^{xz} \\boldsymbol{e}_{x}\\wedge \\boldsymbol{e}_{z} + S^{yz} \\boldsymbol{e}_{y}\\wedge \\boldsymbol{e}_{z} \\end{equation*}"
      ],
      "text/plain": [
       "PyObject S + S__xy*e_x^e_y + S__xz*e_x^e_z + S__yz*e_y^e_z"
      ]
     },
     "execution_count": 65,
     "metadata": {},
     "output_type": "execute_result"
    }
   ],
   "source": [
    "S = mv(\"S\", \"spinor\")"
   ]
  },
  {
   "cell_type": "code",
   "execution_count": 66,
   "metadata": {
    "collapsed": false
   },
   "outputs": [
    {
     "data": {
      "text/latex": [
       "\\begin{equation*} I2 = I^{xyz}_{2} \\boldsymbol{e}_{x}\\wedge \\boldsymbol{e}_{y}\\wedge \\boldsymbol{e}_{z} \\end{equation*}"
      ],
      "text/plain": [
       "PyObject I2__xyz*e_x^e_y^e_z"
      ]
     },
     "execution_count": 66,
     "metadata": {},
     "output_type": "execute_result"
    }
   ],
   "source": [
    "I2 = mv(\"I2\", \"pseudo\")"
   ]
  },
  {
   "cell_type": "code",
   "execution_count": 67,
   "metadata": {
    "collapsed": false
   },
   "outputs": [
    {
     "data": {
      "text/plain": [
       "false"
      ]
     },
     "execution_count": 67,
     "metadata": {},
     "output_type": "execute_result"
    }
   ],
   "source": [
    "I2 == g3d[:I]()"
   ]
  },
  {
   "cell_type": "code",
   "execution_count": 68,
   "metadata": {
    "collapsed": false
   },
   "outputs": [],
   "source": [
    "@pyimport operator"
   ]
  },
  {
   "cell_type": "markdown",
   "metadata": {},
   "source": [
    "See https://docs.python.org/2/library/operator.html#mapping-operators-to-functions"
   ]
  },
  {
   "cell_type": "code",
   "execution_count": 69,
   "metadata": {
    "collapsed": false
   },
   "outputs": [
    {
     "data": {
      "text/latex": [
       "\\begin{equation*} \\left ( \\left ( e_{x}\\cdot e_{x}\\right )  X^{x} Y^{x} + \\left ( e_{x}\\cdot e_{y}\\right )  X^{x} Y^{y} + \\left ( e_{x}\\cdot e_{y}\\right )  X^{y} Y^{x} + \\left ( e_{x}\\cdot e_{z}\\right )  X^{x} Y^{z} + \\left ( e_{x}\\cdot e_{z}\\right )  X^{z} Y^{x} + \\left ( e_{y}\\cdot e_{y}\\right )  X^{y} Y^{y} + \\left ( e_{y}\\cdot e_{z}\\right )  X^{y} Y^{z} + \\left ( e_{y}\\cdot e_{z}\\right )  X^{z} Y^{y} + \\left ( e_{z}\\cdot e_{z}\\right )  X^{z} Y^{z}\\right )  + \\left ( X^{x} Y^{y} - X^{y} Y^{x}\\right ) \\boldsymbol{e}_{x}\\wedge \\boldsymbol{e}_{y} + \\left ( X^{x} Y^{z} - X^{z} Y^{x}\\right ) \\boldsymbol{e}_{x}\\wedge \\boldsymbol{e}_{z} + \\left ( X^{y} Y^{z} - X^{z} Y^{y}\\right ) \\boldsymbol{e}_{y}\\wedge \\boldsymbol{e}_{z} \\end{equation*}"
      ],
      "text/plain": [
       "PyObject (e_x.e_x)*X__x*Y__x + (e_x.e_y)*X__x*Y__y + (e_x.e_y)*X__y*Y__x + (e_x.e_z)*X__x*Y__z + (e_x.e_z)*X__z*Y__x + (e_y.e_y)*X__y*Y__y + (e_y.e_z)*X__y*Y__z + (e_y.e_z)*X__z*Y__y + (e_z.e_z)*X__z*Y__z + (X__x*Y__y - X__y*Y__x)*e_x^e_y + (X__x*Y__z - X__z*Y__x)*e_x^e_z + (X__y*Y__z - X__z*Y__y)*e_y^e_z"
      ]
     },
     "execution_count": 69,
     "metadata": {},
     "output_type": "execute_result"
    }
   ],
   "source": [
    "operator.mul(X, Y) # X * Y"
   ]
  },
  {
   "cell_type": "code",
   "execution_count": 70,
   "metadata": {
    "collapsed": false
   },
   "outputs": [
    {
     "data": {
      "text/latex": [
       "\\begin{equation*} \\left ( X^{x} Y^{y} - X^{y} Y^{x}\\right ) \\boldsymbol{e}_{x}\\wedge \\boldsymbol{e}_{y} + \\left ( X^{x} Y^{z} - X^{z} Y^{x}\\right ) \\boldsymbol{e}_{x}\\wedge \\boldsymbol{e}_{z} + \\left ( X^{y} Y^{z} - X^{z} Y^{y}\\right ) \\boldsymbol{e}_{y}\\wedge \\boldsymbol{e}_{z} \\end{equation*}"
      ],
      "text/plain": [
       "PyObject (X__x*Y__y - X__y*Y__x)*e_x^e_y + (X__x*Y__z - X__z*Y__x)*e_x^e_z + (X__y*Y__z - X__z*Y__y)*e_y^e_z"
      ]
     },
     "execution_count": 70,
     "metadata": {},
     "output_type": "execute_result"
    }
   ],
   "source": [
    "operator.xor(X, Y) # X ^ Y"
   ]
  },
  {
   "cell_type": "code",
   "execution_count": 71,
   "metadata": {
    "collapsed": false
   },
   "outputs": [
    {
     "data": {
      "text/latex": [
       "\\begin{equation*} \\left ( e_{x}\\cdot e_{x}\\right )  X^{x} Y^{x} + \\left ( e_{x}\\cdot e_{y}\\right )  X^{x} Y^{y} + \\left ( e_{x}\\cdot e_{y}\\right )  X^{y} Y^{x} + \\left ( e_{x}\\cdot e_{z}\\right )  X^{x} Y^{z} + \\left ( e_{x}\\cdot e_{z}\\right )  X^{z} Y^{x} + \\left ( e_{y}\\cdot e_{y}\\right )  X^{y} Y^{y} + \\left ( e_{y}\\cdot e_{z}\\right )  X^{y} Y^{z} + \\left ( e_{y}\\cdot e_{z}\\right )  X^{z} Y^{y} + \\left ( e_{z}\\cdot e_{z}\\right )  X^{z} Y^{z} \\end{equation*}"
      ],
      "text/plain": [
       "PyObject (e_x.e_x)*X__x*Y__x + (e_x.e_y)*X__x*Y__y + (e_x.e_y)*X__y*Y__x + (e_x.e_z)*X__x*Y__z + (e_x.e_z)*X__z*Y__x + (e_y.e_y)*X__y*Y__y + (e_y.e_z)*X__y*Y__z + (e_y.e_z)*X__z*Y__y + (e_z.e_z)*X__z*Y__z"
      ]
     },
     "execution_count": 71,
     "metadata": {},
     "output_type": "execute_result"
    }
   ],
   "source": [
    "operator.or_(X, Y) # X | Y"
   ]
  },
  {
   "cell_type": "code",
   "execution_count": 72,
   "metadata": {
    "collapsed": false
   },
   "outputs": [
    {
     "data": {
      "text/latex": [
       "\\begin{equation*} \\left ( e_{x}\\cdot e_{x}\\right )  X^{x} Y^{x} + \\left ( e_{x}\\cdot e_{y}\\right )  X^{x} Y^{y} + \\left ( e_{x}\\cdot e_{y}\\right )  X^{y} Y^{x} + \\left ( e_{x}\\cdot e_{z}\\right )  X^{x} Y^{z} + \\left ( e_{x}\\cdot e_{z}\\right )  X^{z} Y^{x} + \\left ( e_{y}\\cdot e_{y}\\right )  X^{y} Y^{y} + \\left ( e_{y}\\cdot e_{z}\\right )  X^{y} Y^{z} + \\left ( e_{y}\\cdot e_{z}\\right )  X^{z} Y^{y} + \\left ( e_{z}\\cdot e_{z}\\right )  X^{z} Y^{z} \\end{equation*}"
      ],
      "text/plain": [
       "PyObject (e_x.e_x)*X__x*Y__x + (e_x.e_y)*X__x*Y__y + (e_x.e_y)*X__y*Y__x + (e_x.e_z)*X__x*Y__z + (e_x.e_z)*X__z*Y__x + (e_y.e_y)*X__y*Y__y + (e_y.e_z)*X__y*Y__z + (e_y.e_z)*X__z*Y__y + (e_z.e_z)*X__z*Y__z"
      ]
     },
     "execution_count": 72,
     "metadata": {},
     "output_type": "execute_result"
    }
   ],
   "source": [
    "operator.lt(X, Y) # X < Y"
   ]
  },
  {
   "cell_type": "code",
   "execution_count": 73,
   "metadata": {
    "collapsed": false
   },
   "outputs": [
    {
     "data": {
      "text/latex": [
       "\\begin{equation*} V_{0}  + V^{x}_{1} \\boldsymbol{e}_{x} + V^{y}_{1} \\boldsymbol{e}_{y} + V^{z}_{1} \\boldsymbol{e}_{z} \\end{equation*}"
      ],
      "text/plain": [
       "PyObject V0 + V1__x*e_x + V1__y*e_y + V1__z*e_z"
      ]
     },
     "execution_count": 73,
     "metadata": {},
     "output_type": "execute_result"
    }
   ],
   "source": [
    "operator.add(V0, V1)"
   ]
  },
  {
   "cell_type": "code",
   "execution_count": 74,
   "metadata": {
    "collapsed": false
   },
   "outputs": [
    {
     "data": {
      "text/plain": [
       "false"
      ]
     },
     "execution_count": 74,
     "metadata": {},
     "output_type": "execute_result"
    }
   ],
   "source": [
    "operator.eq(I2[:norm](), g3d[:I]()[:norm]())"
   ]
  },
  {
   "cell_type": "code",
   "execution_count": 75,
   "metadata": {
    "collapsed": false
   },
   "outputs": [
    {
     "data": {
      "text/latex": [
       "\\begin{equation*} \\left|{I^{xyz}_{2}}\\right| \\sqrt{\\left|{- \\left ( e_{x}\\cdot e_{x}\\right )  \\left ( e_{y}\\cdot e_{y}\\right )  \\left ( e_{z}\\cdot e_{z}\\right )  + \\left ( e_{x}\\cdot e_{x}\\right )  \\left ( e_{y}\\cdot e_{z}\\right ) ^{2} + \\left ( e_{x}\\cdot e_{y}\\right ) ^{2} \\left ( e_{z}\\cdot e_{z}\\right )  - 2 \\left ( e_{x}\\cdot e_{y}\\right )  \\left ( e_{x}\\cdot e_{z}\\right )  \\left ( e_{y}\\cdot e_{z}\\right )  + \\left ( e_{x}\\cdot e_{z}\\right ) ^{2} \\left ( e_{y}\\cdot e_{y}\\right ) }\\right|}  - \\frac{1}{\\sqrt{\\left ( e_{x}\\cdot e_{x}\\right )  \\left ( e_{y}\\cdot e_{y}\\right )  \\left ( e_{z}\\cdot e_{z}\\right )  - \\left ( e_{x}\\cdot e_{x}\\right )  \\left ( e_{y}\\cdot e_{z}\\right ) ^{2} - \\left ( e_{x}\\cdot e_{y}\\right ) ^{2} \\left ( e_{z}\\cdot e_{z}\\right )  + 2 \\left ( e_{x}\\cdot e_{y}\\right )  \\left ( e_{x}\\cdot e_{z}\\right )  \\left ( e_{y}\\cdot e_{z}\\right )  - \\left ( e_{x}\\cdot e_{z}\\right ) ^{2} \\left ( e_{y}\\cdot e_{y}\\right ) }} \\boldsymbol{e}_{x}\\wedge \\boldsymbol{e}_{y}\\wedge \\boldsymbol{e}_{z} \\end{equation*}"
      ],
      "text/plain": [
       "PyObject Abs(I2__xyz)*sqrt(Abs(-(e_x.e_x)*(e_y.e_y)*(e_z.e_z) + (e_x.e_x)*(e_y.e_z)**2 + (e_x.e_y)**2*(e_z.e_z) - 2*(e_x.e_y)*(e_x.e_z)*(e_y.e_z) + (e_x.e_z)**2*(e_y.e_y))) - e_x^e_y^e_z/sqrt((e_x.e_x)*(e_y.e_y)*(e_z.e_z) - (e_x.e_x)*(e_y.e_z)**2 - (e_x.e_y)**2*(e_z.e_z) + 2*(e_x.e_y)*(e_x.e_z)*(e_y.e_z) - (e_x.e_z)**2*(e_y.e_y))"
      ]
     },
     "execution_count": 75,
     "metadata": {},
     "output_type": "execute_result"
    }
   ],
   "source": [
    "operator.sub(I2[:norm](), g3d[:I]())"
   ]
  },
  {
   "cell_type": "code",
   "execution_count": 76,
   "metadata": {
    "collapsed": false
   },
   "outputs": [
    {
     "data": {
      "text/plain": [
       "PyObject <ga.Ga object at 0x317810e90>"
      ]
     },
     "execution_count": 76,
     "metadata": {},
     "output_type": "execute_result"
    }
   ],
   "source": [
    "symbols=sympy.symbols\n",
    "Ga=ga.Ga\n",
    "o3d = Ga(\"e_x e_y e_z\", g=[1, 1, 1], coords=symbols(\"x y z\"))"
   ]
  },
  {
   "cell_type": "code",
   "execution_count": 77,
   "metadata": {
    "collapsed": false
   },
   "outputs": [
    {
     "data": {
      "text/plain": [
       "3-element Array{Any,1}:\n",
       " PyObject e_x\n",
       " PyObject e_y\n",
       " PyObject e_z"
      ]
     },
     "execution_count": 77,
     "metadata": {},
     "output_type": "execute_result"
    }
   ],
   "source": [
    "(ex, ey, ez) = o3d[:mv]()"
   ]
  },
  {
   "cell_type": "code",
   "execution_count": 78,
   "metadata": {
    "collapsed": false
   },
   "outputs": [
    {
     "data": {
      "text/latex": [
       "\\begin{equation*}  \\boldsymbol{e}_{x} \\end{equation*}"
      ],
      "text/plain": [
       "PyObject e_x"
      ]
     },
     "metadata": {},
     "output_type": "display_data"
    },
    {
     "data": {
      "text/latex": [
       "\\begin{equation*}  \\boldsymbol{e}_{y} \\end{equation*}"
      ],
      "text/plain": [
       "PyObject e_y"
      ]
     },
     "metadata": {},
     "output_type": "display_data"
    },
    {
     "data": {
      "text/latex": [
       "\\begin{equation*}  \\boldsymbol{e}_{z} \\end{equation*}"
      ],
      "text/plain": [
       "PyObject e_z"
      ]
     },
     "metadata": {},
     "output_type": "display_data"
    },
    {
     "data": {
      "text/plain": [
       "3-element Array{Any,1}:\n",
       " nothing\n",
       " nothing\n",
       " nothing"
      ]
     },
     "execution_count": 78,
     "metadata": {},
     "output_type": "execute_result"
    }
   ],
   "source": [
    "[display(e) for e in (ex, ey, ez)]"
   ]
  },
  {
   "cell_type": "code",
   "execution_count": 79,
   "metadata": {
    "collapsed": false
   },
   "outputs": [
    {
     "data": {
      "text/plain": [
       "PyObject <bound method Ga.mv of <ga.Ga object at 0x317810e90>>"
      ]
     },
     "execution_count": 79,
     "metadata": {},
     "output_type": "execute_result"
    }
   ],
   "source": [
    "o3dmv=o3d[:mv]"
   ]
  },
  {
   "cell_type": "code",
   "execution_count": 80,
   "metadata": {
    "collapsed": false
   },
   "outputs": [
    {
     "data": {
      "text/latex": [
       "\\begin{equation*} f = f {\\left (x,y,z \\right )} \\end{equation*}"
      ],
      "text/plain": [
       "PyObject f"
      ]
     },
     "execution_count": 80,
     "metadata": {},
     "output_type": "execute_result"
    }
   ],
   "source": [
    "f = o3dmv(\"f\", \"scalar\", f=true)"
   ]
  },
  {
   "cell_type": "code",
   "execution_count": 81,
   "metadata": {
    "collapsed": false
   },
   "outputs": [
    {
     "data": {
      "text/latex": [
       "\\begin{equation*} A = A^{x} {\\left (x,y,z \\right )} \\boldsymbol{e}_{x} + A^{y} {\\left (x,y,z \\right )} \\boldsymbol{e}_{y} + A^{z} {\\left (x,y,z \\right )} \\boldsymbol{e}_{z} \\end{equation*}"
      ],
      "text/plain": [
       "PyObject A__x*e_x + A__y*e_y + A__z*e_z"
      ]
     },
     "execution_count": 81,
     "metadata": {},
     "output_type": "execute_result"
    }
   ],
   "source": [
    "A = o3dmv(\"A\", \"vector\", f=true)"
   ]
  },
  {
   "cell_type": "code",
   "execution_count": 82,
   "metadata": {
    "collapsed": false
   },
   "outputs": [
    {
     "data": {
      "text/latex": [
       "\\begin{equation*} B = B^{xy} {\\left (x,y,z \\right )} \\boldsymbol{e}_{x}\\wedge \\boldsymbol{e}_{y} + B^{xz} {\\left (x,y,z \\right )} \\boldsymbol{e}_{x}\\wedge \\boldsymbol{e}_{z} + B^{yz} {\\left (x,y,z \\right )} \\boldsymbol{e}_{y}\\wedge \\boldsymbol{e}_{z} \\end{equation*}"
      ],
      "text/plain": [
       "PyObject B__xy*e_x^e_y + B__xz*e_x^e_z + B__yz*e_y^e_z"
      ]
     },
     "execution_count": 82,
     "metadata": {},
     "output_type": "execute_result"
    }
   ],
   "source": [
    "B = o3dmv(\"B\", \"bivector\", f=true)"
   ]
  },
  {
   "cell_type": "code",
   "execution_count": 83,
   "metadata": {
    "collapsed": false
   },
   "outputs": [
    {
     "data": {
      "text/latex": [
       "\\begin{equation*} C = C {\\left (x,y,z \\right )}  + C^{x} {\\left (x,y,z \\right )} \\boldsymbol{e}_{x} + C^{y} {\\left (x,y,z \\right )} \\boldsymbol{e}_{y} + C^{z} {\\left (x,y,z \\right )} \\boldsymbol{e}_{z} + C^{xy} {\\left (x,y,z \\right )} \\boldsymbol{e}_{x}\\wedge \\boldsymbol{e}_{y} + C^{xz} {\\left (x,y,z \\right )} \\boldsymbol{e}_{x}\\wedge \\boldsymbol{e}_{z} + C^{yz} {\\left (x,y,z \\right )} \\boldsymbol{e}_{y}\\wedge \\boldsymbol{e}_{z} + C^{xyz} {\\left (x,y,z \\right )} \\boldsymbol{e}_{x}\\wedge \\boldsymbol{e}_{y}\\wedge \\boldsymbol{e}_{z} \\end{equation*}"
      ],
      "text/plain": [
       "PyObject C + C__x*e_x + C__y*e_y + C__z*e_z + C__xy*e_x^e_y + C__xz*e_x^e_z + C__yz*e_y^e_z + C__xyz*e_x^e_y^e_z"
      ]
     },
     "execution_count": 83,
     "metadata": {},
     "output_type": "execute_result"
    }
   ],
   "source": [
    "C = o3dmv(\"C\", \"mv\", f=true)"
   ]
  },
  {
   "cell_type": "code",
   "execution_count": 84,
   "metadata": {
    "collapsed": false
   },
   "outputs": [
    {
     "data": {
      "text/latex": [
       "\\begin{equation*} e_x D{x} + e_y D{y} + e_z D{z} \\end{equation*}"
      ],
      "text/plain": [
       "PyObject e_x*D{x} + e_y*D{y} + e_z*D{z}"
      ]
     },
     "execution_count": 84,
     "metadata": {},
     "output_type": "execute_result"
    }
   ],
   "source": [
    "grad = o3d[:grad]"
   ]
  },
  {
   "cell_type": "code",
   "execution_count": 85,
   "metadata": {
    "collapsed": false
   },
   "outputs": [
    {
     "data": {
      "text/latex": [
       "\\begin{equation*} \\frac{\\partial}{\\partial x} f {\\left (x,y,z \\right )} \\boldsymbol{e}_{x} + \\frac{\\partial}{\\partial y} f {\\left (x,y,z \\right )} \\boldsymbol{e}_{y} + \\frac{\\partial}{\\partial z} f {\\left (x,y,z \\right )} \\boldsymbol{e}_{z} \\end{equation*}"
      ],
      "text/plain": [
       "PyObject D{x}f*e_x + D{y}f*e_y + D{z}f*e_z"
      ]
     },
     "execution_count": 85,
     "metadata": {},
     "output_type": "execute_result"
    }
   ],
   "source": [
    "operator.mul(grad, f)"
   ]
  },
  {
   "cell_type": "code",
   "execution_count": 86,
   "metadata": {
    "collapsed": false
   },
   "outputs": [
    {
     "data": {
      "text/latex": [
       "\\begin{equation*} \\frac{\\partial}{\\partial x} A^{x} {\\left (x,y,z \\right )} + \\frac{\\partial}{\\partial y} A^{y} {\\left (x,y,z \\right )} + \\frac{\\partial}{\\partial z} A^{z} {\\left (x,y,z \\right )} \\end{equation*}"
      ],
      "text/plain": [
       "PyObject D{x}A__x + D{y}A__y + D{z}A__z"
      ]
     },
     "execution_count": 86,
     "metadata": {},
     "output_type": "execute_result"
    }
   ],
   "source": [
    "operator.or_(grad, A)"
   ]
  },
  {
   "cell_type": "code",
   "execution_count": 87,
   "metadata": {
    "collapsed": false
   },
   "outputs": [
    {
     "data": {
      "text/latex": [
       "\\begin{equation*} \\left ( \\frac{\\partial}{\\partial x} A^{x} {\\left (x,y,z \\right )} + \\frac{\\partial}{\\partial y} A^{y} {\\left (x,y,z \\right )} + \\frac{\\partial}{\\partial z} A^{z} {\\left (x,y,z \\right )}\\right )  + \\left ( - \\frac{\\partial}{\\partial y} A^{x} {\\left (x,y,z \\right )} + \\frac{\\partial}{\\partial x} A^{y} {\\left (x,y,z \\right )}\\right ) \\boldsymbol{e}_{x}\\wedge \\boldsymbol{e}_{y} + \\left ( - \\frac{\\partial}{\\partial z} A^{x} {\\left (x,y,z \\right )} + \\frac{\\partial}{\\partial x} A^{z} {\\left (x,y,z \\right )}\\right ) \\boldsymbol{e}_{x}\\wedge \\boldsymbol{e}_{z} + \\left ( - \\frac{\\partial}{\\partial z} A^{y} {\\left (x,y,z \\right )} + \\frac{\\partial}{\\partial y} A^{z} {\\left (x,y,z \\right )}\\right ) \\boldsymbol{e}_{y}\\wedge \\boldsymbol{e}_{z} \\end{equation*}"
      ],
      "text/plain": [
       "PyObject D{x}A__x + D{y}A__y + D{z}A__z + (-D{y}A__x + D{x}A__y)*e_x^e_y + (-D{z}A__x + D{x}A__z)*e_x^e_z + (-D{z}A__y + D{y}A__z)*e_y^e_z"
      ]
     },
     "execution_count": 87,
     "metadata": {},
     "output_type": "execute_result"
    }
   ],
   "source": [
    "operator.mul(grad, A)"
   ]
  },
  {
   "cell_type": "code",
   "execution_count": 88,
   "metadata": {
    "collapsed": false
   },
   "outputs": [
    {
     "data": {
      "text/latex": [
       "\\begin{equation*}  \\boldsymbol{e}_{x}\\wedge \\boldsymbol{e}_{y}\\wedge \\boldsymbol{e}_{z} \\end{equation*}"
      ],
      "text/plain": [
       "PyObject e_x^e_y^e_z"
      ]
     },
     "execution_count": 88,
     "metadata": {},
     "output_type": "execute_result"
    }
   ],
   "source": [
    "o3d[:E]()"
   ]
  },
  {
   "cell_type": "code",
   "execution_count": 89,
   "metadata": {
    "collapsed": false
   },
   "outputs": [
    {
     "data": {
      "text/latex": [
       "\\begin{equation*}  \\boldsymbol{e}_{x}\\wedge \\boldsymbol{e}_{y}\\wedge \\boldsymbol{e}_{z} \\end{equation*}"
      ],
      "text/plain": [
       "PyObject e_x^e_y^e_z"
      ]
     },
     "execution_count": 89,
     "metadata": {},
     "output_type": "execute_result"
    }
   ],
   "source": [
    "o3d[:I]()"
   ]
  },
  {
   "cell_type": "code",
   "execution_count": 90,
   "metadata": {
    "collapsed": false
   },
   "outputs": [
    {
     "data": {
      "text/plain": [
       "true"
      ]
     },
     "execution_count": 90,
     "metadata": {},
     "output_type": "execute_result"
    }
   ],
   "source": [
    "o3d[:E]() == o3d[:I]()"
   ]
  },
  {
   "cell_type": "code",
   "execution_count": 91,
   "metadata": {
    "collapsed": false
   },
   "outputs": [
    {
     "data": {
      "text/markdown": [
       "operator.mul(grad, B)="
      ]
     },
     "metadata": {},
     "output_type": "display_data"
    },
    {
     "data": {
      "text/latex": [
       "\\begin{equation*} \\left ( - \\frac{\\partial}{\\partial y} B^{xy} {\\left (x,y,z \\right )} - \\frac{\\partial}{\\partial z} B^{xz} {\\left (x,y,z \\right )}\\right ) \\boldsymbol{e}_{x} + \\left ( \\frac{\\partial}{\\partial x} B^{xy} {\\left (x,y,z \\right )} - \\frac{\\partial}{\\partial z} B^{yz} {\\left (x,y,z \\right )}\\right ) \\boldsymbol{e}_{y} + \\left ( \\frac{\\partial}{\\partial x} B^{xz} {\\left (x,y,z \\right )} + \\frac{\\partial}{\\partial y} B^{yz} {\\left (x,y,z \\right )}\\right ) \\boldsymbol{e}_{z} + \\left ( \\frac{\\partial}{\\partial z} B^{xy} {\\left (x,y,z \\right )} - \\frac{\\partial}{\\partial y} B^{xz} {\\left (x,y,z \\right )} + \\frac{\\partial}{\\partial x} B^{yz} {\\left (x,y,z \\right )}\\right ) \\boldsymbol{e}_{x}\\wedge \\boldsymbol{e}_{y}\\wedge \\boldsymbol{e}_{z} \\end{equation*}"
      ],
      "text/plain": [
       "PyObject (-D{y}B__xy - D{z}B__xz)*e_x + (D{x}B__xy - D{z}B__yz)*e_y + (D{x}B__xz + D{y}B__yz)*e_z + (D{z}B__xy - D{y}B__xz + D{x}B__yz)*e_x^e_y^e_z"
      ]
     },
     "metadata": {},
     "output_type": "display_data"
    },
    {
     "data": {
      "text/markdown": [
       "operator.xor(grad, B)="
      ]
     },
     "metadata": {},
     "output_type": "display_data"
    },
    {
     "data": {
      "text/latex": [
       "\\begin{equation*} \\left ( \\frac{\\partial}{\\partial z} B^{xy} {\\left (x,y,z \\right )} - \\frac{\\partial}{\\partial y} B^{xz} {\\left (x,y,z \\right )} + \\frac{\\partial}{\\partial x} B^{yz} {\\left (x,y,z \\right )}\\right ) \\boldsymbol{e}_{x}\\wedge \\boldsymbol{e}_{y}\\wedge \\boldsymbol{e}_{z} \\end{equation*}"
      ],
      "text/plain": [
       "PyObject (D{z}B__xy - D{y}B__xz + D{x}B__yz)*e_x^e_y^e_z"
      ]
     },
     "metadata": {},
     "output_type": "display_data"
    },
    {
     "data": {
      "text/markdown": [
       "operator.or_(grad, B)="
      ]
     },
     "metadata": {},
     "output_type": "display_data"
    },
    {
     "data": {
      "text/latex": [
       "\\begin{equation*} \\left ( - \\frac{\\partial}{\\partial y} B^{xy} {\\left (x,y,z \\right )} - \\frac{\\partial}{\\partial z} B^{xz} {\\left (x,y,z \\right )}\\right ) \\boldsymbol{e}_{x} + \\left ( \\frac{\\partial}{\\partial x} B^{xy} {\\left (x,y,z \\right )} - \\frac{\\partial}{\\partial z} B^{yz} {\\left (x,y,z \\right )}\\right ) \\boldsymbol{e}_{y} + \\left ( \\frac{\\partial}{\\partial x} B^{xz} {\\left (x,y,z \\right )} + \\frac{\\partial}{\\partial y} B^{yz} {\\left (x,y,z \\right )}\\right ) \\boldsymbol{e}_{z} \\end{equation*}"
      ],
      "text/plain": [
       "PyObject (-D{y}B__xy - D{z}B__xz)*e_x + (D{x}B__xy - D{z}B__yz)*e_y + (D{x}B__xz + D{y}B__yz)*e_z"
      ]
     },
     "metadata": {},
     "output_type": "display_data"
    }
   ],
   "source": [
    "for op in [operator.mul, operator.xor, operator.or_]\n",
    "    op_name = op[:__name__]\n",
    "    display(IJulia.text_markdown,\"operator.$op_name(grad, B)=\")\n",
    "    display(op(grad, B))\n",
    "end"
   ]
  },
  {
   "cell_type": "code",
   "execution_count": 92,
   "metadata": {
    "collapsed": false
   },
   "outputs": [
    {
     "data": {
      "text/plain": [
       "PyObject <ga.Ga object at 0x3180677d0>"
      ]
     },
     "execution_count": 92,
     "metadata": {},
     "output_type": "execute_result"
    }
   ],
   "source": [
    "using PyCall\n",
    "@pyimport ga\n",
    "@pyimport printer\n",
    "\n",
    "pyeval(\"\"\"\n",
    "Ga('e*x|y|z')\n",
    "\"\"\", Ga=ga.Ga)"
   ]
  },
  {
   "cell_type": "code",
   "execution_count": 93,
   "metadata": {
    "collapsed": false
   },
   "outputs": [
    {
     "data": {
      "text/latex": [
       "\\begin{equation*} \\left ( - A^{y} {\\left (x,y,z \\right )} B^{xy} {\\left (x,y,z \\right )} - A^{z} {\\left (x,y,z \\right )} B^{xz} {\\left (x,y,z \\right )}\\right ) \\boldsymbol{e}_{x} + \\left ( A^{x} {\\left (x,y,z \\right )} B^{xy} {\\left (x,y,z \\right )} - A^{z} {\\left (x,y,z \\right )} B^{yz} {\\left (x,y,z \\right )}\\right ) \\boldsymbol{e}_{y} + \\left ( A^{x} {\\left (x,y,z \\right )} B^{xz} {\\left (x,y,z \\right )} + A^{y} {\\left (x,y,z \\right )} B^{yz} {\\left (x,y,z \\right )}\\right ) \\boldsymbol{e}_{z} \\end{equation*}"
      ],
      "text/plain": [
       "PyObject (-A__y*B__xy - A__z*B__xz)*e_x + (A__x*B__xy - A__z*B__yz)*e_y + (A__x*B__xz + A__y*B__yz)*e_z"
      ]
     },
     "execution_count": 93,
     "metadata": {},
     "output_type": "execute_result"
    }
   ],
   "source": [
    "pyeval(\"\"\"\n",
    "A|B\n",
    "\"\"\", A=A, B=B)"
   ]
  },
  {
   "cell_type": "code",
   "execution_count": 94,
   "metadata": {
    "collapsed": false
   },
   "outputs": [
    {
     "data": {
      "text/latex": [
       "\\begin{equation*} e_x D{x} + e_y D{y} + e_z D{z} \\end{equation*}"
      ],
      "text/plain": [
       "PyObject e_x*D{x} + e_y*D{y} + e_z*D{z}"
      ]
     },
     "metadata": {},
     "output_type": "display_data"
    },
    {
     "data": {
      "text/latex": [
       "\\begin{equation*} f = f {\\left (x,y,z \\right )} \\end{equation*}"
      ],
      "text/plain": [
       "PyObject f"
      ]
     },
     "metadata": {},
     "output_type": "display_data"
    },
    {
     "data": {
      "text/latex": [
       "\\begin{equation*} A = A^{x} {\\left (x,y,z \\right )} \\boldsymbol{e}_{x} + A^{y} {\\left (x,y,z \\right )} \\boldsymbol{e}_{y} + A^{z} {\\left (x,y,z \\right )} \\boldsymbol{e}_{z} \\end{equation*}"
      ],
      "text/plain": [
       "PyObject A__x*e_x + A__y*e_y + A__z*e_z"
      ]
     },
     "metadata": {},
     "output_type": "display_data"
    },
    {
     "data": {
      "text/latex": [
       "\\begin{equation*} B = B^{xy} {\\left (x,y,z \\right )} \\boldsymbol{e}_{x}\\wedge \\boldsymbol{e}_{y} + B^{xz} {\\left (x,y,z \\right )} \\boldsymbol{e}_{x}\\wedge \\boldsymbol{e}_{z} + B^{yz} {\\left (x,y,z \\right )} \\boldsymbol{e}_{y}\\wedge \\boldsymbol{e}_{z} \\end{equation*}"
      ],
      "text/plain": [
       "PyObject B__xy*e_x^e_y + B__xz*e_x^e_z + B__yz*e_y^e_z"
      ]
     },
     "metadata": {},
     "output_type": "display_data"
    },
    {
     "data": {
      "text/latex": [
       "\\begin{equation*} C = C {\\left (x,y,z \\right )}  + C^{x} {\\left (x,y,z \\right )} \\boldsymbol{e}_{x} + C^{y} {\\left (x,y,z \\right )} \\boldsymbol{e}_{y} + C^{z} {\\left (x,y,z \\right )} \\boldsymbol{e}_{z} + C^{xy} {\\left (x,y,z \\right )} \\boldsymbol{e}_{x}\\wedge \\boldsymbol{e}_{y} + C^{xz} {\\left (x,y,z \\right )} \\boldsymbol{e}_{x}\\wedge \\boldsymbol{e}_{z} + C^{yz} {\\left (x,y,z \\right )} \\boldsymbol{e}_{y}\\wedge \\boldsymbol{e}_{z} + C^{xyz} {\\left (x,y,z \\right )} \\boldsymbol{e}_{x}\\wedge \\boldsymbol{e}_{y}\\wedge \\boldsymbol{e}_{z} \\end{equation*}"
      ],
      "text/plain": [
       "PyObject C + C__x*e_x + C__y*e_y + C__z*e_z + C__xy*e_x^e_y + C__xz*e_x^e_z + C__yz*e_y^e_z + C__xyz*e_x^e_y^e_z"
      ]
     },
     "metadata": {},
     "output_type": "display_data"
    },
    {
     "data": {
      "text/plain": [
       "5-element Array{Any,1}:\n",
       " nothing\n",
       " nothing\n",
       " nothing\n",
       " nothing\n",
       " nothing"
      ]
     },
     "execution_count": 94,
     "metadata": {},
     "output_type": "execute_result"
    }
   ],
   "source": [
    "[display(v) for v in [grad, f, A, B, C]]"
   ]
  },
  {
   "cell_type": "code",
   "execution_count": 101,
   "metadata": {
    "collapsed": false
   },
   "outputs": [
    {
     "data": {
      "text/markdown": [
       "`grad * f` = "
      ]
     },
     "metadata": {},
     "output_type": "display_data"
    },
    {
     "data": {
      "text/latex": [
       "\\begin{equation*} \\frac{\\partial}{\\partial x} f {\\left (x,y,z \\right )} \\boldsymbol{e}_{x} + \\frac{\\partial}{\\partial y} f {\\left (x,y,z \\right )} \\boldsymbol{e}_{y} + \\frac{\\partial}{\\partial z} f {\\left (x,y,z \\right )} \\boldsymbol{e}_{z} \\end{equation*}"
      ],
      "text/plain": [
       "PyObject D{x}f*e_x + D{y}f*e_y + D{z}f*e_z"
      ]
     },
     "metadata": {},
     "output_type": "display_data"
    },
    {
     "data": {
      "text/markdown": [
       "`grad | A` = "
      ]
     },
     "metadata": {},
     "output_type": "display_data"
    },
    {
     "data": {
      "text/latex": [
       "\\begin{equation*} \\frac{\\partial}{\\partial x} A^{x} {\\left (x,y,z \\right )} + \\frac{\\partial}{\\partial y} A^{y} {\\left (x,y,z \\right )} + \\frac{\\partial}{\\partial z} A^{z} {\\left (x,y,z \\right )} \\end{equation*}"
      ],
      "text/plain": [
       "PyObject D{x}A__x + D{y}A__y + D{z}A__z"
      ]
     },
     "metadata": {},
     "output_type": "display_data"
    },
    {
     "data": {
      "text/markdown": [
       "`grad * A` = "
      ]
     },
     "metadata": {},
     "output_type": "display_data"
    },
    {
     "data": {
      "text/latex": [
       "\\begin{equation*} \\left ( \\frac{\\partial}{\\partial x} A^{x} {\\left (x,y,z \\right )} + \\frac{\\partial}{\\partial y} A^{y} {\\left (x,y,z \\right )} + \\frac{\\partial}{\\partial z} A^{z} {\\left (x,y,z \\right )}\\right )  + \\left ( - \\frac{\\partial}{\\partial y} A^{x} {\\left (x,y,z \\right )} + \\frac{\\partial}{\\partial x} A^{y} {\\left (x,y,z \\right )}\\right ) \\boldsymbol{e}_{x}\\wedge \\boldsymbol{e}_{y} + \\left ( - \\frac{\\partial}{\\partial z} A^{x} {\\left (x,y,z \\right )} + \\frac{\\partial}{\\partial x} A^{z} {\\left (x,y,z \\right )}\\right ) \\boldsymbol{e}_{x}\\wedge \\boldsymbol{e}_{z} + \\left ( - \\frac{\\partial}{\\partial z} A^{y} {\\left (x,y,z \\right )} + \\frac{\\partial}{\\partial y} A^{z} {\\left (x,y,z \\right )}\\right ) \\boldsymbol{e}_{y}\\wedge \\boldsymbol{e}_{z} \\end{equation*}"
      ],
      "text/plain": [
       "PyObject D{x}A__x + D{y}A__y + D{z}A__z + (-D{y}A__x + D{x}A__y)*e_x^e_y + (-D{z}A__x + D{x}A__z)*e_x^e_z + (-D{z}A__y + D{y}A__z)*e_y^e_z"
      ]
     },
     "metadata": {},
     "output_type": "display_data"
    },
    {
     "data": {
      "text/markdown": [
       "`-o3d.E() * (grad ^ A)` = "
      ]
     },
     "metadata": {},
     "output_type": "display_data"
    },
    {
     "data": {
      "text/latex": [
       "\\begin{equation*} \\left ( - \\frac{\\partial}{\\partial z} A^{y} {\\left (x,y,z \\right )} + \\frac{\\partial}{\\partial y} A^{z} {\\left (x,y,z \\right )}\\right ) \\boldsymbol{e}_{x} + \\left ( \\frac{\\partial}{\\partial z} A^{x} {\\left (x,y,z \\right )} - \\frac{\\partial}{\\partial x} A^{z} {\\left (x,y,z \\right )}\\right ) \\boldsymbol{e}_{y} + \\left ( - \\frac{\\partial}{\\partial y} A^{x} {\\left (x,y,z \\right )} + \\frac{\\partial}{\\partial x} A^{y} {\\left (x,y,z \\right )}\\right ) \\boldsymbol{e}_{z} \\end{equation*}"
      ],
      "text/plain": [
       "PyObject (-D{z}A__y + D{y}A__z)*e_x + (D{z}A__x - D{x}A__z)*e_y + (-D{y}A__x + D{x}A__y)*e_z"
      ]
     },
     "metadata": {},
     "output_type": "display_data"
    },
    {
     "data": {
      "text/markdown": [
       "`grad * B` = "
      ]
     },
     "metadata": {},
     "output_type": "display_data"
    },
    {
     "data": {
      "text/latex": [
       "\\begin{equation*} \\left ( - \\frac{\\partial}{\\partial y} B^{xy} {\\left (x,y,z \\right )} - \\frac{\\partial}{\\partial z} B^{xz} {\\left (x,y,z \\right )}\\right ) \\boldsymbol{e}_{x} + \\left ( \\frac{\\partial}{\\partial x} B^{xy} {\\left (x,y,z \\right )} - \\frac{\\partial}{\\partial z} B^{yz} {\\left (x,y,z \\right )}\\right ) \\boldsymbol{e}_{y} + \\left ( \\frac{\\partial}{\\partial x} B^{xz} {\\left (x,y,z \\right )} + \\frac{\\partial}{\\partial y} B^{yz} {\\left (x,y,z \\right )}\\right ) \\boldsymbol{e}_{z} + \\left ( \\frac{\\partial}{\\partial z} B^{xy} {\\left (x,y,z \\right )} - \\frac{\\partial}{\\partial y} B^{xz} {\\left (x,y,z \\right )} + \\frac{\\partial}{\\partial x} B^{yz} {\\left (x,y,z \\right )}\\right ) \\boldsymbol{e}_{x}\\wedge \\boldsymbol{e}_{y}\\wedge \\boldsymbol{e}_{z} \\end{equation*}"
      ],
      "text/plain": [
       "PyObject (-D{y}B__xy - D{z}B__xz)*e_x + (D{x}B__xy - D{z}B__yz)*e_y + (D{x}B__xz + D{y}B__yz)*e_z + (D{z}B__xy - D{y}B__xz + D{x}B__yz)*e_x^e_y^e_z"
      ]
     },
     "metadata": {},
     "output_type": "display_data"
    },
    {
     "data": {
      "text/markdown": [
       "`grad ^ B` = "
      ]
     },
     "metadata": {},
     "output_type": "display_data"
    },
    {
     "data": {
      "text/latex": [
       "\\begin{equation*} \\left ( \\frac{\\partial}{\\partial z} B^{xy} {\\left (x,y,z \\right )} - \\frac{\\partial}{\\partial y} B^{xz} {\\left (x,y,z \\right )} + \\frac{\\partial}{\\partial x} B^{yz} {\\left (x,y,z \\right )}\\right ) \\boldsymbol{e}_{x}\\wedge \\boldsymbol{e}_{y}\\wedge \\boldsymbol{e}_{z} \\end{equation*}"
      ],
      "text/plain": [
       "PyObject (D{z}B__xy - D{y}B__xz + D{x}B__yz)*e_x^e_y^e_z"
      ]
     },
     "metadata": {},
     "output_type": "display_data"
    },
    {
     "data": {
      "text/markdown": [
       "`grad | B` = "
      ]
     },
     "metadata": {},
     "output_type": "display_data"
    },
    {
     "data": {
      "text/latex": [
       "\\begin{equation*} \\left ( - \\frac{\\partial}{\\partial y} B^{xy} {\\left (x,y,z \\right )} - \\frac{\\partial}{\\partial z} B^{xz} {\\left (x,y,z \\right )}\\right ) \\boldsymbol{e}_{x} + \\left ( \\frac{\\partial}{\\partial x} B^{xy} {\\left (x,y,z \\right )} - \\frac{\\partial}{\\partial z} B^{yz} {\\left (x,y,z \\right )}\\right ) \\boldsymbol{e}_{y} + \\left ( \\frac{\\partial}{\\partial x} B^{xz} {\\left (x,y,z \\right )} + \\frac{\\partial}{\\partial y} B^{yz} {\\left (x,y,z \\right )}\\right ) \\boldsymbol{e}_{z} \\end{equation*}"
      ],
      "text/plain": [
       "PyObject (-D{y}B__xy - D{z}B__xz)*e_x + (D{x}B__xy - D{z}B__yz)*e_y + (D{x}B__xz + D{y}B__yz)*e_z"
      ]
     },
     "metadata": {},
     "output_type": "display_data"
    },
    {
     "data": {
      "text/markdown": [
       "`grad < A` = "
      ]
     },
     "metadata": {},
     "output_type": "display_data"
    },
    {
     "data": {
      "text/latex": [
       "\\begin{equation*} \\frac{\\partial}{\\partial x} A^{x} {\\left (x,y,z \\right )} + \\frac{\\partial}{\\partial y} A^{y} {\\left (x,y,z \\right )} + \\frac{\\partial}{\\partial z} A^{z} {\\left (x,y,z \\right )} \\end{equation*}"
      ],
      "text/plain": [
       "PyObject D{x}A__x + D{y}A__y + D{z}A__z"
      ]
     },
     "metadata": {},
     "output_type": "display_data"
    },
    {
     "data": {
      "text/markdown": [
       "`grad > A` = "
      ]
     },
     "metadata": {},
     "output_type": "display_data"
    },
    {
     "data": {
      "text/latex": [
       "\\begin{equation*} \\frac{\\partial}{\\partial x} A^{x} {\\left (x,y,z \\right )} + \\frac{\\partial}{\\partial y} A^{y} {\\left (x,y,z \\right )} + \\frac{\\partial}{\\partial z} A^{z} {\\left (x,y,z \\right )} \\end{equation*}"
      ],
      "text/plain": [
       "PyObject D{x}A__x + D{y}A__y + D{z}A__z"
      ]
     },
     "metadata": {},
     "output_type": "display_data"
    },
    {
     "data": {
      "text/markdown": [
       "`grad < B` = "
      ]
     },
     "metadata": {},
     "output_type": "display_data"
    },
    {
     "data": {
      "text/latex": [
       "\\begin{equation*} \\left ( - \\frac{\\partial}{\\partial y} B^{xy} {\\left (x,y,z \\right )} - \\frac{\\partial}{\\partial z} B^{xz} {\\left (x,y,z \\right )}\\right ) \\boldsymbol{e}_{x} + \\left ( \\frac{\\partial}{\\partial x} B^{xy} {\\left (x,y,z \\right )} - \\frac{\\partial}{\\partial z} B^{yz} {\\left (x,y,z \\right )}\\right ) \\boldsymbol{e}_{y} + \\left ( \\frac{\\partial}{\\partial x} B^{xz} {\\left (x,y,z \\right )} + \\frac{\\partial}{\\partial y} B^{yz} {\\left (x,y,z \\right )}\\right ) \\boldsymbol{e}_{z} \\end{equation*}"
      ],
      "text/plain": [
       "PyObject (-D{y}B__xy - D{z}B__xz)*e_x + (D{x}B__xy - D{z}B__yz)*e_y + (D{x}B__xz + D{y}B__yz)*e_z"
      ]
     },
     "metadata": {},
     "output_type": "display_data"
    },
    {
     "data": {
      "text/markdown": [
       "`grad > B` = "
      ]
     },
     "metadata": {},
     "output_type": "display_data"
    },
    {
     "data": {
      "text/latex": [
       "\\begin{equation*} 0 \n",
       " \\end{equation*}"
      ],
      "text/plain": [
       "PyObject 0"
      ]
     },
     "metadata": {},
     "output_type": "display_data"
    },
    {
     "data": {
      "text/markdown": [
       "`grad < C` = "
      ]
     },
     "metadata": {},
     "output_type": "display_data"
    },
    {
     "data": {
      "text/latex": [
       "\\begin{equation*} \\left ( \\frac{\\partial}{\\partial x} C^{x} {\\left (x,y,z \\right )} + \\frac{\\partial}{\\partial y} C^{y} {\\left (x,y,z \\right )} + \\frac{\\partial}{\\partial z} C^{z} {\\left (x,y,z \\right )}\\right )  + \\left ( - \\frac{\\partial}{\\partial y} C^{xy} {\\left (x,y,z \\right )} - \\frac{\\partial}{\\partial z} C^{xz} {\\left (x,y,z \\right )}\\right ) \\boldsymbol{e}_{x} + \\left ( \\frac{\\partial}{\\partial x} C^{xy} {\\left (x,y,z \\right )} - \\frac{\\partial}{\\partial z} C^{yz} {\\left (x,y,z \\right )}\\right ) \\boldsymbol{e}_{y} + \\left ( \\frac{\\partial}{\\partial x} C^{xz} {\\left (x,y,z \\right )} + \\frac{\\partial}{\\partial y} C^{yz} {\\left (x,y,z \\right )}\\right ) \\boldsymbol{e}_{z} + \\frac{\\partial}{\\partial z} C^{xyz} {\\left (x,y,z \\right )} \\boldsymbol{e}_{x}\\wedge \\boldsymbol{e}_{y} - \\frac{\\partial}{\\partial y} C^{xyz} {\\left (x,y,z \\right )} \\boldsymbol{e}_{x}\\wedge \\boldsymbol{e}_{z} + \\frac{\\partial}{\\partial x} C^{xyz} {\\left (x,y,z \\right )} \\boldsymbol{e}_{y}\\wedge \\boldsymbol{e}_{z} \\end{equation*}"
      ],
      "text/plain": [
       "PyObject D{x}C__x + D{y}C__y + D{z}C__z + (-D{y}C__xy - D{z}C__xz)*e_x + (D{x}C__xy - D{z}C__yz)*e_y + (D{x}C__xz + D{y}C__yz)*e_z + D{z}C__xyz*e_x^e_y - D{y}C__xyz*e_x^e_z + D{x}C__xyz*e_y^e_z"
      ]
     },
     "metadata": {},
     "output_type": "display_data"
    },
    {
     "data": {
      "text/markdown": [
       "`grad > C` = "
      ]
     },
     "metadata": {},
     "output_type": "display_data"
    },
    {
     "data": {
      "text/latex": [
       "\\begin{equation*} \\left ( \\frac{\\partial}{\\partial x} C^{x} {\\left (x,y,z \\right )} + \\frac{\\partial}{\\partial y} C^{y} {\\left (x,y,z \\right )} + \\frac{\\partial}{\\partial z} C^{z} {\\left (x,y,z \\right )}\\right )  + \\frac{\\partial}{\\partial x} C {\\left (x,y,z \\right )} \\boldsymbol{e}_{x} + \\frac{\\partial}{\\partial y} C {\\left (x,y,z \\right )} \\boldsymbol{e}_{y} + \\frac{\\partial}{\\partial z} C {\\left (x,y,z \\right )} \\boldsymbol{e}_{z} \\end{equation*}"
      ],
      "text/plain": [
       "PyObject D{x}C__x + D{y}C__y + D{z}C__z + D{x}C*e_x + D{y}C*e_y + D{z}C*e_z"
      ]
     },
     "metadata": {},
     "output_type": "display_data"
    }
   ],
   "source": [
    "for expr in [\"grad * f\",\n",
    "\"grad | A\",\n",
    "\"grad * A\",\n",
    "\"-o3d.E() * (grad ^ A)\",\n",
    "\"grad * B\",\n",
    "\"grad ^ B\",\n",
    "\"grad | B\",\n",
    "\"grad < A\",\n",
    "\"grad > A\",\n",
    "\"grad < B\",\n",
    "\"grad > B\",\n",
    "\"grad < C\",\n",
    "\"grad > C\"]\n",
    "    display(IJulia.text_markdown, \"`$expr` = \")\n",
    "    display(pyeval(expr, grad=grad, A=A, B=B, C=C, f=f, o3d=o3d))\n",
    "end"
   ]
  },
  {
   "cell_type": "code",
   "execution_count": 118,
   "metadata": {
    "collapsed": false
   },
   "outputs": [
    {
     "data": {
      "text/markdown": [
       "`grad * f` = "
      ]
     },
     "metadata": {},
     "output_type": "display_data"
    },
    {
     "data": {
      "text/latex": [
       "\\begin{equation*} \\frac{\\partial}{\\partial x} f {\\left (x,y,z \\right )} \\boldsymbol{e}_{x} + \\frac{\\partial}{\\partial y} f {\\left (x,y,z \\right )} \\boldsymbol{e}_{y} + \\frac{\\partial}{\\partial z} f {\\left (x,y,z \\right )} \\boldsymbol{e}_{z} \\end{equation*}"
      ],
      "text/plain": [
       "PyObject D{x}f*e_x + D{y}f*e_y + D{z}f*e_z"
      ]
     },
     "metadata": {},
     "output_type": "display_data"
    }
   ],
   "source": [
    "locals = PyDict(Dict(:grad=>grad, :f=>f))\n",
    "for expr in [\"grad * f\"]\n",
    "    display(IJulia.text_markdown, \"`$expr` = \")\n",
    "    display(PyCall.pyeval_(expr, locals, PyCall.Py_eval_input))\n",
    "end"
   ]
  },
  {
   "cell_type": "code",
   "execution_count": 119,
   "metadata": {
    "collapsed": false
   },
   "outputs": [
    {
     "data": {
      "text/markdown": [
       "`grad * f` = "
      ]
     },
     "metadata": {},
     "output_type": "display_data"
    },
    {
     "data": {
      "text/plain": [
       "PyObject None"
      ]
     },
     "metadata": {},
     "output_type": "display_data"
    },
    {
     "name": "stdout",
     "output_type": "stream",
     "text": [
      "D{x}f*e_x + D{y}f*e_y + D{z}f*e_z\n"
     ]
    }
   ],
   "source": [
    "locals = PyDict(Dict(:grad=>grad, :f=>f))\n",
    "for expr in [\"grad * f\"]\n",
    "    display(IJulia.text_markdown, \"`$expr` = \")\n",
    "    display(PyCall.pyeval_(expr, locals, PyCall.Py_single_input))\n",
    "end"
   ]
  },
  {
   "cell_type": "code",
   "execution_count": 120,
   "metadata": {
    "collapsed": false
   },
   "outputs": [
    {
     "data": {
      "text/markdown": [
       "`grad * f` = "
      ]
     },
     "metadata": {},
     "output_type": "display_data"
    },
    {
     "data": {
      "text/plain": [
       "PyObject None"
      ]
     },
     "metadata": {},
     "output_type": "display_data"
    }
   ],
   "source": [
    "locals = PyDict(Dict(:grad=>grad, :f=>f))\n",
    "for expr in [\"grad * f\"]\n",
    "    display(IJulia.text_markdown, \"`$expr` = \")\n",
    "    display(PyCall.pyeval_(expr, locals, PyCall.Py_file_input))\n",
    "end"
   ]
  },
  {
   "cell_type": "code",
   "execution_count": 122,
   "metadata": {
    "collapsed": false
   },
   "outputs": [
    {
     "name": "stdout",
     "output_type": "stream",
     "text": [
      "3\n"
     ]
    },
    {
     "data": {
      "text/plain": [
       "PyObject None"
      ]
     },
     "execution_count": 122,
     "metadata": {},
     "output_type": "execute_result"
    }
   ],
   "source": [
    "vara = 1;varb = 2;\n",
    "local_vars = PyDict(Dict(:vara=>vara, :varb=>varb))\n",
    "PyCall.pyeval_(\"vara + varb\", local_vars, PyCall.Py_single_input)"
   ]
  },
  {
   "cell_type": "code",
   "execution_count": 123,
   "metadata": {
    "collapsed": false
   },
   "outputs": [
    {
     "data": {
      "text/plain": [
       "PyObject 3"
      ]
     },
     "execution_count": 123,
     "metadata": {},
     "output_type": "execute_result"
    }
   ],
   "source": [
    "vara = 1;varb = 2;\n",
    "local_vars = PyDict(Dict(:vara=>vara, :varb=>varb))\n",
    "PyCall.pyeval_(\"vara + varb\", local_vars, PyCall.Py_eval_input)"
   ]
  },
  {
   "cell_type": "code",
   "execution_count": 124,
   "metadata": {
    "collapsed": false
   },
   "outputs": [
    {
     "data": {
      "text/plain": [
       "PyObject None"
      ]
     },
     "execution_count": 124,
     "metadata": {},
     "output_type": "execute_result"
    }
   ],
   "source": [
    "vara = 1;varb = 2;\n",
    "local_vars = PyDict(Dict(:vara=>vara, :varb=>varb))\n",
    "PyCall.pyeval_(\"vara + varb\", local_vars, PyCall.Py_file_input)"
   ]
  },
  {
   "cell_type": "code",
   "execution_count": null,
   "metadata": {
    "collapsed": true
   },
   "outputs": [],
   "source": []
  }
 ],
 "metadata": {
  "kernelspec": {
   "display_name": "Julia 0.4.5",
   "language": "julia",
   "name": "julia-0.4"
  },
  "language_info": {
   "file_extension": ".jl",
   "mimetype": "application/julia",
   "name": "julia",
   "version": "0.4.5"
  }
 },
 "nbformat": 4,
 "nbformat_minor": 0
}
