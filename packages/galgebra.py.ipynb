{
 "cells": [
  {
   "cell_type": "code",
   "execution_count": 1,
   "metadata": {
    "collapsed": true
   },
   "outputs": [],
   "source": [
    "import unittest\n",
    "\n",
    "import sys\n",
    "\n",
    "from sympy import symbols, sin, cos, Rational, expand, collect, simplify, Symbol\n",
    "from printer import Format, Eprint, Get_Program\n",
    "from ga import Ga, one, zero\n",
    "from mv import Mv, Nga, com\n",
    "\n",
    "def F(x):\n",
    "    global n, nbar\n",
    "    Fx =  ((x * x) * n + 2 * x - nbar) / 2\n",
    "    return(Fx)\n",
    "\n",
    "def make_vector(a, n=3, ga=None):\n",
    "    if isinstance(a,str):\n",
    "        v = zero\n",
    "        for i in range(n):\n",
    "            a_i = Symbol(a+str(i+1))\n",
    "            v += a_i*ga.basis[i]\n",
    "        v = ga.mv(v)\n",
    "        return(F(v))\n",
    "    else:\n",
    "        return(F(a))"
   ]
  },
  {
   "cell_type": "markdown",
   "metadata": {},
   "source": [
    "From `test_noneuclidian_distance_calculation`:"
   ]
  },
  {
   "cell_type": "code",
   "execution_count": 2,
   "metadata": {
    "collapsed": true
   },
   "outputs": [],
   "source": [
    "from sympy import solve,sqrt\n",
    "\n",
    "g = '0 # #,# 0 #,# # 1'\n",
    "necl = Ga('X Y e',g=g)\n",
    "(X,Y,e) = necl.mv()"
   ]
  },
  {
   "cell_type": "code",
   "execution_count": 3,
   "metadata": {
    "collapsed": false
   },
   "outputs": [
    {
     "data": {
      "text/latex": [
       "\\begin{equation*}  \\boldsymbol{X} \\end{equation*}"
      ],
      "text/plain": [
       "X"
      ]
     },
     "execution_count": 3,
     "metadata": {},
     "output_type": "execute_result"
    }
   ],
   "source": [
    "X"
   ]
  },
  {
   "cell_type": "code",
   "execution_count": 4,
   "metadata": {
    "collapsed": false
   },
   "outputs": [
    {
     "data": {
      "text/latex": [
       "\\begin{equation*}  \\boldsymbol{Y} \\end{equation*}"
      ],
      "text/plain": [
       "Y"
      ]
     },
     "execution_count": 4,
     "metadata": {},
     "output_type": "execute_result"
    }
   ],
   "source": [
    "Y"
   ]
  },
  {
   "cell_type": "code",
   "execution_count": 5,
   "metadata": {
    "collapsed": false
   },
   "outputs": [
    {
     "data": {
      "text/latex": [
       "\\begin{equation*}  \\boldsymbol{e} \\end{equation*}"
      ],
      "text/plain": [
       "e"
      ]
     },
     "execution_count": 5,
     "metadata": {},
     "output_type": "execute_result"
    }
   ],
   "source": [
    "e"
   ]
  },
  {
   "cell_type": "code",
   "execution_count": 6,
   "metadata": {
    "collapsed": false
   },
   "outputs": [
    {
     "data": {
      "text/latex": [
       "\\begin{equation*} \\left ( X\\cdot Y\\right ) ^{2} \\end{equation*}"
      ],
      "text/plain": [
       "(X.Y)**2"
      ]
     },
     "execution_count": 6,
     "metadata": {},
     "output_type": "execute_result"
    }
   ],
   "source": [
    "(X^Y)*(X^Y)"
   ]
  },
  {
   "cell_type": "code",
   "execution_count": 7,
   "metadata": {
    "collapsed": false
   },
   "outputs": [
    {
     "data": {
      "text/latex": [
       "\\begin{equation*}  \\boldsymbol{X}\\wedge \\boldsymbol{Y}\\wedge \\boldsymbol{e} \\end{equation*}"
      ],
      "text/plain": [
       "X^Y^e"
      ]
     },
     "execution_count": 7,
     "metadata": {},
     "output_type": "execute_result"
    }
   ],
   "source": [
    "L = X^Y^e\n",
    "L"
   ]
  },
  {
   "cell_type": "code",
   "execution_count": 8,
   "metadata": {
    "collapsed": false
   },
   "outputs": [
    {
     "data": {
      "text/latex": [
       "\\begin{equation*}  \\boldsymbol{X}\\wedge \\boldsymbol{Y} - \\left ( Y\\cdot e\\right )  \\boldsymbol{X}\\wedge \\boldsymbol{e} + \\left ( X\\cdot e\\right )  \\boldsymbol{Y}\\wedge \\boldsymbol{e} \\end{equation*}"
      ],
      "text/plain": [
       "X^Y - (Y.e)*X^e + (X.e)*Y^e"
      ]
     },
     "execution_count": 8,
     "metadata": {},
     "output_type": "execute_result"
    }
   ],
   "source": [
    "B = (L*e).expand().blade_rep()\n",
    "B"
   ]
  },
  {
   "cell_type": "code",
   "execution_count": 9,
   "metadata": {
    "collapsed": false
   },
   "outputs": [
    {
     "data": {
      "text/latex": [
       "\\begin{equation*} \\left ( X\\cdot Y\\right )  \\left(\\left ( X\\cdot Y\\right )  - 2 \\left ( X\\cdot e\\right )  \\left ( Y\\cdot e\\right ) \\right) \\end{equation*}"
      ],
      "text/plain": [
       "(X.Y)*((X.Y) - 2*(X.e)*(Y.e))"
      ]
     },
     "execution_count": 9,
     "metadata": {},
     "output_type": "execute_result"
    }
   ],
   "source": [
    "Bsq = B*B\n",
    "Bsq"
   ]
  },
  {
   "cell_type": "code",
   "execution_count": 10,
   "metadata": {
    "collapsed": false
   },
   "outputs": [
    {
     "data": {
      "text/plain": [
       "(X.Y)**2 - 2*(X.Y)*(X.e)*(Y.e)"
      ]
     },
     "execution_count": 10,
     "metadata": {},
     "output_type": "execute_result"
    }
   ],
   "source": [
    "BsqScalar = Bsq.scalar()\n",
    "BsqScalar"
   ]
  },
  {
   "cell_type": "code",
   "execution_count": 11,
   "metadata": {
    "collapsed": false
   },
   "outputs": [
    {
     "data": {
      "text/plain": [
       "True"
      ]
     },
     "execution_count": 11,
     "metadata": {},
     "output_type": "execute_result"
    }
   ],
   "source": [
    "(Bsq - BsqScalar).simplify() == 0"
   ]
  },
  {
   "cell_type": "code",
   "execution_count": 12,
   "metadata": {
    "collapsed": false
   },
   "outputs": [
    {
     "data": {
      "text/latex": [
       "\\begin{equation*} \\left ( X\\cdot Y\\right )  \\left(- \\left ( X\\cdot Y\\right )  + 2 \\left ( X\\cdot e\\right )  \\left ( Y\\cdot e\\right ) \\right) \\boldsymbol{e} \\end{equation*}"
      ],
      "text/plain": [
       "(X.Y)*(-(X.Y) + 2*(X.e)*(Y.e))*e"
      ]
     },
     "execution_count": 12,
     "metadata": {},
     "output_type": "execute_result"
    }
   ],
   "source": [
    "BeBr = B*e*B.rev()\n",
    "BeBr"
   ]
  },
  {
   "cell_type": "code",
   "execution_count": 13,
   "metadata": {
    "collapsed": false
   },
   "outputs": [
    {
     "data": {
      "text/latex": [
       "\\begin{equation*} \\left ( X\\cdot Y\\right )  \\left(\\left ( X\\cdot Y\\right )  - 2 \\left ( X\\cdot e\\right )  \\left ( Y\\cdot e\\right ) \\right) \\end{equation*}"
      ],
      "text/plain": [
       "(X.Y)*((X.Y) - 2*(X.e)*(Y.e))"
      ]
     },
     "execution_count": 13,
     "metadata": {},
     "output_type": "execute_result"
    }
   ],
   "source": [
    "B*B"
   ]
  },
  {
   "cell_type": "code",
   "execution_count": 14,
   "metadata": {
    "collapsed": false
   },
   "outputs": [
    {
     "data": {
      "text/latex": [
       "\\begin{equation*} \\left ( X\\cdot Y\\right )  \\left(\\left ( X\\cdot Y\\right )  - 2 \\left ( X\\cdot e\\right )  \\left ( Y\\cdot e\\right ) \\right) \\end{equation*}"
      ],
      "text/plain": [
       "(X.Y)**2 - 2*(X.Y)*(X.e)*(Y.e)"
      ]
     },
     "execution_count": 14,
     "metadata": {},
     "output_type": "execute_result"
    }
   ],
   "source": [
    "L*L"
   ]
  },
  {
   "cell_type": "code",
   "execution_count": 15,
   "metadata": {
    "collapsed": true
   },
   "outputs": [],
   "source": [
    "(s,c,Binv,M,S,C,alpha) = symbols('s c (1/B) M S C alpha')"
   ]
  },
  {
   "cell_type": "code",
   "execution_count": 16,
   "metadata": {
    "collapsed": true
   },
   "outputs": [],
   "source": [
    "XdotY = necl.g[0,1]\n",
    "Xdote = necl.g[0,2]\n",
    "Ydote = necl.g[1,2]"
   ]
  },
  {
   "cell_type": "code",
   "execution_count": 17,
   "metadata": {
    "collapsed": false
   },
   "outputs": [
    {
     "data": {
      "text/plain": [
       "(X.Y)"
      ]
     },
     "execution_count": 17,
     "metadata": {},
     "output_type": "execute_result"
    }
   ],
   "source": [
    "XdotY"
   ]
  },
  {
   "cell_type": "code",
   "execution_count": 18,
   "metadata": {
    "collapsed": false
   },
   "outputs": [
    {
     "data": {
      "text/plain": [
       "(X.e)"
      ]
     },
     "execution_count": 18,
     "metadata": {},
     "output_type": "execute_result"
    }
   ],
   "source": [
    "Xdote"
   ]
  },
  {
   "cell_type": "code",
   "execution_count": 19,
   "metadata": {
    "collapsed": false
   },
   "outputs": [
    {
     "data": {
      "text/plain": [
       "(Y.e)"
      ]
     },
     "execution_count": 19,
     "metadata": {},
     "output_type": "execute_result"
    }
   ],
   "source": [
    "Ydote"
   ]
  },
  {
   "cell_type": "code",
   "execution_count": 20,
   "metadata": {
    "collapsed": false
   },
   "outputs": [
    {
     "data": {
      "text/latex": [
       "\\begin{equation*} (1/B) \\boldsymbol{X}\\wedge \\boldsymbol{Y} - (1/B) \\left ( Y\\cdot e\\right )  \\boldsymbol{X}\\wedge \\boldsymbol{e} + (1/B) \\left ( X\\cdot e\\right )  \\boldsymbol{Y}\\wedge \\boldsymbol{e} \\end{equation*}"
      ],
      "text/plain": [
       "(1/B)*X^Y - (1/B)*(Y.e)*X^e + (1/B)*(X.e)*Y^e"
      ]
     },
     "execution_count": 20,
     "metadata": {},
     "output_type": "execute_result"
    }
   ],
   "source": [
    "Bhat = Binv*B\n",
    "Bhat"
   ]
  },
  {
   "cell_type": "code",
   "execution_count": 21,
   "metadata": {
    "collapsed": false
   },
   "outputs": [
    {
     "data": {
      "text/latex": [
       "\\begin{equation*} c  + (1/B) s \\boldsymbol{X}\\wedge \\boldsymbol{Y} - (1/B) \\left ( Y\\cdot e\\right )  s \\boldsymbol{X}\\wedge \\boldsymbol{e} + (1/B) \\left ( X\\cdot e\\right )  s \\boldsymbol{Y}\\wedge \\boldsymbol{e} \\end{equation*}"
      ],
      "text/plain": [
       "c + (1/B)*s*X^Y - (1/B)*(Y.e)*s*X^e + (1/B)*(X.e)*s*Y^e"
      ]
     },
     "execution_count": 21,
     "metadata": {},
     "output_type": "execute_result"
    }
   ],
   "source": [
    "R = c+s*Bhat # Rotor R = exp(alpha*Bhat/2)\n",
    "R"
   ]
  },
  {
   "cell_type": "code",
   "execution_count": 22,
   "metadata": {
    "collapsed": false
   },
   "outputs": [
    {
     "data": {
      "text/latex": [
       "\\begin{equation*} \\left ( (1/B)^{2} \\left ( X\\cdot Y\\right ) ^{2} s^{2} - 2 (1/B)^{2} \\left ( X\\cdot Y\\right )  \\left ( X\\cdot e\\right )  \\left ( Y\\cdot e\\right )  s^{2} + 2 (1/B) \\left ( X\\cdot Y\\right )  c s - 2 (1/B) \\left ( X\\cdot e\\right )  \\left ( Y\\cdot e\\right )  c s + c^{2}\\right ) \\boldsymbol{X} + 2 (1/B) \\left ( X\\cdot e\\right ) ^{2} c s \\boldsymbol{Y} + 2 (1/B) \\left ( X\\cdot Y\\right )  \\left ( X\\cdot e\\right )  s \\left(- (1/B) \\left ( X\\cdot Y\\right )  s + 2 (1/B) \\left ( X\\cdot e\\right )  \\left ( Y\\cdot e\\right )  s - c\\right) \\boldsymbol{e} \\end{equation*}"
      ],
      "text/plain": [
       "((1/B)**2*(X.Y)**2*s**2 - 2*(1/B)**2*(X.Y)*(X.e)*(Y.e)*s**2 + 2*(1/B)*(X.Y)*c*s - 2*(1/B)*(X.e)*(Y.e)*c*s + c**2)*X + 2*(1/B)*(X.e)**2*c*s*Y + 2*(1/B)*(X.Y)*(X.e)*s*(-(1/B)*(X.Y)*s + 2*(1/B)*(X.e)*(Y.e)*s - c)*e"
      ]
     },
     "execution_count": 22,
     "metadata": {},
     "output_type": "execute_result"
    }
   ],
   "source": [
    "Z = R*X*R.rev()\n",
    "Z"
   ]
  },
  {
   "cell_type": "code",
   "execution_count": 23,
   "metadata": {
    "collapsed": false
   },
   "outputs": [
    {
     "data": {
      "text/plain": [
       "2*(1/B)*(X.Y)*(X.e)*s*(-(1/B)*(X.Y)*s + 2*(1/B)*(X.e)*(Y.e)*s - c)*e + 2*(1/B)*(X.e)**2*c*s*Y + ((1/B)**2*(X.Y)**2*s**2 - 2*(1/B)**2*(X.Y)*(X.e)*(Y.e)*s**2 + 2*(1/B)*(X.Y)*c*s - 2*(1/B)*(X.e)*(Y.e)*c*s + c**2)*X"
      ]
     },
     "execution_count": 23,
     "metadata": {},
     "output_type": "execute_result"
    }
   ],
   "source": [
    "Z.obj"
   ]
  },
  {
   "cell_type": "code",
   "execution_count": 24,
   "metadata": {
    "collapsed": false
   },
   "outputs": [
    {
     "data": {
      "text/plain": [
       "-2*(1/B)**2*(X.Y)**2*(X.e)*s**2*e + (1/B)**2*(X.Y)**2*s**2*X + 4*(1/B)**2*(X.Y)*(X.e)**2*(Y.e)*s**2*e - 2*(1/B)**2*(X.Y)*(X.e)*(Y.e)*s**2*X - 2*(1/B)*(X.Y)*(X.e)*c*s*e + 2*(1/B)*(X.Y)*c*s*X + 2*(1/B)*(X.e)**2*c*s*Y - 2*(1/B)*(X.e)*(Y.e)*c*s*X + c**2*X"
      ]
     },
     "execution_count": 24,
     "metadata": {},
     "output_type": "execute_result"
    }
   ],
   "source": [
    "Z.obj = expand(Z.obj)\n",
    "Z.obj"
   ]
  },
  {
   "cell_type": "code",
   "execution_count": 25,
   "metadata": {
    "collapsed": false
   },
   "outputs": [
    {
     "data": {
      "text/plain": [
       "(1/B)**2*(-2*(X.Y)**2*(X.e)*s**2*e + (X.Y)**2*s**2*X + 4*(X.Y)*(X.e)**2*(Y.e)*s**2*e - 2*(X.Y)*(X.e)*(Y.e)*s**2*X) + (1/B)*(-2*(X.Y)*(X.e)*c*s*e + 2*(X.Y)*c*s*X + 2*(X.e)**2*c*s*Y - 2*(X.e)*(Y.e)*c*s*X) + c**2*X"
      ]
     },
     "execution_count": 25,
     "metadata": {},
     "output_type": "execute_result"
    }
   ],
   "source": [
    "Z.obj = Z.obj.collect([Binv,s,c,XdotY])\n",
    "Z.obj"
   ]
  },
  {
   "cell_type": "code",
   "execution_count": 26,
   "metadata": {
    "collapsed": false
   },
   "outputs": [
    {
     "data": {
      "text/latex": [
       "\\begin{equation*} \\left ( (1/B)^{2} \\left ( X\\cdot Y\\right ) ^{2} s^{2} - 2 (1/B)^{2} \\left ( X\\cdot Y\\right )  \\left ( X\\cdot e\\right )  \\left ( Y\\cdot e\\right )  s^{2} + 2 (1/B) \\left ( X\\cdot Y\\right )  c s - 2 (1/B) \\left ( X\\cdot e\\right )  \\left ( Y\\cdot e\\right )  c s + c^{2}\\right ) \\boldsymbol{X} + 2 (1/B) \\left ( X\\cdot e\\right ) ^{2} c s \\boldsymbol{Y} + 2 (1/B) \\left ( X\\cdot Y\\right )  \\left ( X\\cdot e\\right )  s \\left(- (1/B) \\left ( X\\cdot Y\\right )  s + 2 (1/B) \\left ( X\\cdot e\\right )  \\left ( Y\\cdot e\\right )  s - c\\right) \\boldsymbol{e} \\end{equation*}"
      ],
      "text/plain": [
       "((1/B)**2*(X.Y)**2*s**2 - 2*(1/B)**2*(X.Y)*(X.e)*(Y.e)*s**2 + 2*(1/B)*(X.Y)*c*s - 2*(1/B)*(X.e)*(Y.e)*c*s + c**2)*X + 2*(1/B)*(X.e)**2*c*s*Y + 2*(1/B)*(X.Y)*(X.e)*s*(-(1/B)*(X.Y)*s + 2*(1/B)*(X.e)*(Y.e)*s - c)*e"
      ]
     },
     "execution_count": 26,
     "metadata": {},
     "output_type": "execute_result"
    }
   ],
   "source": [
    "Z"
   ]
  },
  {
   "cell_type": "code",
   "execution_count": 27,
   "metadata": {
    "collapsed": false
   },
   "outputs": [
    {
     "data": {
      "text/latex": [
       "\\begin{equation*} \\left ( X\\cdot Y\\right )  \\left((1/B)^{2} \\left ( X\\cdot Y\\right ) ^{2} s^{2} - 4 (1/B)^{2} \\left ( X\\cdot Y\\right )  \\left ( X\\cdot e\\right )  \\left ( Y\\cdot e\\right )  s^{2} + 4 (1/B)^{2} \\left ( X\\cdot e\\right ) ^{2} \\left ( Y\\cdot e\\right ) ^{2} s^{2} + 2 (1/B) \\left ( X\\cdot Y\\right )  c s - 4 (1/B) \\left ( X\\cdot e\\right )  \\left ( Y\\cdot e\\right )  c s + c^{2}\\right) \\end{equation*}"
      ],
      "text/plain": [
       "(X.Y)*((1/B)**2*(X.Y)**2*s**2 - 2*(1/B)**2*(X.Y)*(X.e)*(Y.e)*s**2 + 2*(1/B)*(X.Y)*c*s - 2*(1/B)*(X.e)*(Y.e)*c*s + c**2) + (Y.e)*(-2*(1/B)**2*(X.Y)**2*(X.e)*s**2 + 4*(1/B)**2*(X.Y)*(X.e)**2*(Y.e)*s**2 - 2*(1/B)*(X.Y)*(X.e)*c*s)"
      ]
     },
     "execution_count": 27,
     "metadata": {},
     "output_type": "execute_result"
    }
   ],
   "source": [
    "W = Z|Y\n",
    "W"
   ]
  },
  {
   "cell_type": "code",
   "execution_count": 28,
   "metadata": {
    "collapsed": false
   },
   "outputs": [
    {
     "data": {
      "text/plain": [
       "(1/B)**2*(X.Y)**3*s**2 - 4*(1/B)**2*(X.Y)**2*(X.e)*(Y.e)*s**2 + 4*(1/B)**2*(X.Y)*(X.e)**2*(Y.e)**2*s**2 + 2*(1/B)*(X.Y)**2*c*s - 4*(1/B)*(X.Y)*(X.e)*(Y.e)*c*s + (X.Y)*c**2"
      ]
     },
     "execution_count": 28,
     "metadata": {},
     "output_type": "execute_result"
    }
   ],
   "source": [
    "W.scalar()"
   ]
  },
  {
   "cell_type": "code",
   "execution_count": 29,
   "metadata": {
    "collapsed": false
   },
   "outputs": [
    {
     "data": {
      "text/plain": [
       "(X.Y)*((1/B)**2*s**2*((X.Y)**2 - 4*(X.Y)*(X.e)*(Y.e) + 4*(X.e)**2*(Y.e)**2) + (1/B)*s*(2*(X.Y)*c - 4*(X.e)*(Y.e)*c) + c**2)"
      ]
     },
     "execution_count": 29,
     "metadata": {},
     "output_type": "execute_result"
    }
   ],
   "source": [
    "W = W.scalar()\n",
    "W = expand(W)\n",
    "W = simplify(W)\n",
    "W = W.collect([s*Binv])\n",
    "W"
   ]
  },
  {
   "cell_type": "code",
   "execution_count": 30,
   "metadata": {
    "collapsed": false
   },
   "outputs": [
    {
     "data": {
      "text/plain": [
       "1/((X.Y)**2 - 2*(X.Y)*(X.e)*(Y.e))"
      ]
     },
     "execution_count": 30,
     "metadata": {},
     "output_type": "execute_result"
    }
   ],
   "source": [
    "Bsq = Bsq.scalar()\n",
    "M = 1/Bsq\n",
    "M"
   ]
  },
  {
   "cell_type": "code",
   "execution_count": 31,
   "metadata": {
    "collapsed": false
   },
   "outputs": [
    {
     "data": {
      "text/plain": [
       "(X.Y)*((1/B)*s*(2*(X.Y)*c - 4*(X.e)*(Y.e)*c) + c**2 + s**2*((X.Y)**2 - 4*(X.Y)*(X.e)*(Y.e) + 4*(X.e)**2*(Y.e)**2)/((X.Y)**2 - 2*(X.Y)*(X.e)*(Y.e)))"
      ]
     },
     "execution_count": 31,
     "metadata": {},
     "output_type": "execute_result"
    }
   ],
   "source": [
    "W = W.subs(Binv**2,M)\n",
    "W"
   ]
  },
  {
   "cell_type": "code",
   "execution_count": 32,
   "metadata": {
    "collapsed": false
   },
   "outputs": [
    {
     "data": {
      "text/plain": [
       "2*(1/B)*(X.Y)**2*c*s - 4*(1/B)*(X.Y)*(X.e)*(Y.e)*c*s + (X.Y)*c**2 + (X.Y)*s**2 - 2*(X.e)*(Y.e)*s**2"
      ]
     },
     "execution_count": 32,
     "metadata": {},
     "output_type": "execute_result"
    }
   ],
   "source": [
    "W = simplify(W)\n",
    "W"
   ]
  },
  {
   "cell_type": "code",
   "execution_count": 33,
   "metadata": {
    "collapsed": false
   },
   "outputs": [
    {
     "data": {
      "text/plain": [
       "sqrt((X.Y)**2 - 2*(X.Y)*(X.e)*(Y.e))"
      ]
     },
     "execution_count": 33,
     "metadata": {},
     "output_type": "execute_result"
    }
   ],
   "source": [
    "Bmag = sqrt(XdotY**2-2*XdotY*Xdote*Ydote)\n",
    "Bmag"
   ]
  },
  {
   "cell_type": "code",
   "execution_count": 34,
   "metadata": {
    "collapsed": false
   },
   "outputs": [
    {
     "data": {
      "text/plain": [
       "(1/B)*c*s*(2*(X.Y)**2 - 4*(X.Y)*(X.e)*(Y.e)) + (X.Y)*(c**2 + s**2) - 2*(X.e)*(Y.e)*s**2"
      ]
     },
     "execution_count": 34,
     "metadata": {},
     "output_type": "execute_result"
    }
   ],
   "source": [
    "W = W.collect([Binv*c*s,XdotY])\n",
    "W"
   ]
  },
  {
   "cell_type": "code",
   "execution_count": 35,
   "metadata": {
    "collapsed": false
   },
   "outputs": [
    {
     "data": {
      "text/plain": [
       "(1/B)*(X.Y)*C*sqrt((X.Y)**2 - 2*(X.Y)*(X.e)*(Y.e)) - (1/B)*(X.e)*(Y.e)*C*sqrt((X.Y)**2 - 2*(X.Y)*(X.e)*(Y.e)) + (1/B)*(X.e)*(Y.e)*sqrt((X.Y)**2 - 2*(X.Y)*(X.e)*(Y.e)) + S*sqrt((X.Y)**2 - 2*(X.Y)*(X.e)*(Y.e))"
      ]
     },
     "execution_count": 35,
     "metadata": {},
     "output_type": "execute_result"
    }
   ],
   "source": [
    "W = W.subs(2*XdotY**2-4*XdotY*Xdote*Ydote,2/(Binv**2))\n",
    "W = W.subs(2*c*s,S)\n",
    "W = W.subs(c**2,(C+1)/2)\n",
    "W = W.subs(s**2,(C-1)/2)\n",
    "W = simplify(W)\n",
    "W = W.subs(1/Binv,Bmag)\n",
    "W = expand(W)\n",
    "W"
   ]
  },
  {
   "cell_type": "code",
   "execution_count": 36,
   "metadata": {
    "collapsed": false
   },
   "outputs": [
    {
     "data": {
      "text/plain": [
       "sqrt((X.Y)*((X.Y) - 2*(X.e)*(Y.e)))*((1/B)*(X.Y)*C - (1/B)*(X.e)*(Y.e)*C + (1/B)*(X.e)*(Y.e) + S)"
      ]
     },
     "execution_count": 36,
     "metadata": {},
     "output_type": "execute_result"
    }
   ],
   "source": [
    "# FIXME assert str(W.simplify()) == '(X.Y)*C - (X.e)*(Y.e)*C + (X.e)*(Y.e) + S*sqrt((X.Y)**2 - 2*(X.Y)*(X.e)*(Y.e))'\n",
    "W.simplify()"
   ]
  },
  {
   "cell_type": "code",
   "execution_count": 37,
   "metadata": {
    "collapsed": true
   },
   "outputs": [],
   "source": [
    "Wd = collect(W,[C,S],exact=True,evaluate=False)\n",
    "\n",
    "Wd_1 = Wd[one]\n",
    "Wd_C = Wd[C]\n",
    "Wd_S = Wd[S]"
   ]
  },
  {
   "cell_type": "code",
   "execution_count": 38,
   "metadata": {
    "collapsed": false
   },
   "outputs": [
    {
     "data": {
      "text/plain": [
       "{S: sqrt((X.Y)**2 - 2*(X.Y)*(X.e)*(Y.e)),\n",
       " C: (1/B)*(X.Y)*sqrt((X.Y)**2 - 2*(X.Y)*(X.e)*(Y.e)) - (1/B)*(X.e)*(Y.e)*sqrt((X.Y)**2 - 2*(X.Y)*(X.e)*(Y.e)),\n",
       " 1: (1/B)*(X.e)*(Y.e)*sqrt((X.Y)**2 - 2*(X.Y)*(X.e)*(Y.e))}"
      ]
     },
     "execution_count": 38,
     "metadata": {},
     "output_type": "execute_result"
    }
   ],
   "source": [
    "Wd"
   ]
  },
  {
   "cell_type": "code",
   "execution_count": 39,
   "metadata": {
    "collapsed": false
   },
   "outputs": [
    {
     "data": {
      "text/plain": [
       "(1/B)*(X.e)*(Y.e)*sqrt((X.Y)**2 - 2*(X.Y)*(X.e)*(Y.e))"
      ]
     },
     "execution_count": 39,
     "metadata": {},
     "output_type": "execute_result"
    }
   ],
   "source": [
    "# FIXME assert str(Wd_1) == '(X.e)*(Y.e)'\n",
    "Wd_1"
   ]
  },
  {
   "cell_type": "code",
   "execution_count": 40,
   "metadata": {
    "collapsed": false
   },
   "outputs": [
    {
     "data": {
      "text/plain": [
       "(1/B)*(X.e)*(Y.e)*sqrt((X.Y)*((X.Y) - 2*(X.e)*(Y.e)))"
      ]
     },
     "execution_count": 40,
     "metadata": {},
     "output_type": "execute_result"
    }
   ],
   "source": [
    "Wd_1.simplify()"
   ]
  },
  {
   "cell_type": "code",
   "execution_count": 41,
   "metadata": {
    "collapsed": false
   },
   "outputs": [
    {
     "data": {
      "text/plain": [
       "(1/B)*(X.Y)*sqrt((X.Y)**2 - 2*(X.Y)*(X.e)*(Y.e)) - (1/B)*(X.e)*(Y.e)*sqrt((X.Y)**2 - 2*(X.Y)*(X.e)*(Y.e))"
      ]
     },
     "execution_count": 41,
     "metadata": {},
     "output_type": "execute_result"
    }
   ],
   "source": [
    "# FIXME assert str(Wd_C) == '(X.Y) - (X.e)*(Y.e)'\n",
    "Wd_C"
   ]
  },
  {
   "cell_type": "code",
   "execution_count": 42,
   "metadata": {
    "collapsed": false
   },
   "outputs": [
    {
     "data": {
      "text/plain": [
       "(1/B)*sqrt((X.Y)*((X.Y) - 2*(X.e)*(Y.e)))*((X.Y) - (X.e)*(Y.e))"
      ]
     },
     "execution_count": 42,
     "metadata": {},
     "output_type": "execute_result"
    }
   ],
   "source": [
    "Wd_C.simplify()"
   ]
  },
  {
   "cell_type": "code",
   "execution_count": 43,
   "metadata": {
    "collapsed": false
   },
   "outputs": [
    {
     "data": {
      "text/plain": [
       "sqrt((X.Y)**2 - 2*(X.Y)*(X.e)*(Y.e))"
      ]
     },
     "execution_count": 43,
     "metadata": {},
     "output_type": "execute_result"
    }
   ],
   "source": [
    "Wd_S"
   ]
  },
  {
   "cell_type": "code",
   "execution_count": null,
   "metadata": {
    "collapsed": true
   },
   "outputs": [],
   "source": []
  }
 ],
 "metadata": {
  "kernelspec": {
   "display_name": "Python 2",
   "language": "python",
   "name": "python2"
  },
  "language_info": {
   "codemirror_mode": {
    "name": "ipython",
    "version": 2
   },
   "file_extension": ".py",
   "mimetype": "text/x-python",
   "name": "python",
   "nbconvert_exporter": "python",
   "pygments_lexer": "ipython2",
   "version": "2.7.11"
  }
 },
 "nbformat": 4,
 "nbformat_minor": 0
}
