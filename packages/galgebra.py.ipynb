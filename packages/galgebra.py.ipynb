{
 "cells": [
  {
   "cell_type": "code",
   "execution_count": 1,
   "metadata": {
    "collapsed": true
   },
   "outputs": [],
   "source": [
    "import unittest\n",
    "\n",
    "import sys\n",
    "\n",
    "from sympy import symbols, sin, cos, Rational, expand, collect, simplify, Symbol\n",
    "from printer import Format, Eprint, Get_Program\n",
    "from ga import Ga, one, zero\n",
    "from mv import Mv, Nga, com\n",
    "\n",
    "def F(x):\n",
    "    global n, nbar\n",
    "    Fx =  ((x * x) * n + 2 * x - nbar) / 2\n",
    "    return(Fx)\n",
    "\n",
    "def make_vector(a, n=3, ga=None):\n",
    "    if isinstance(a,str):\n",
    "        v = zero\n",
    "        for i in range(n):\n",
    "            a_i = Symbol(a+str(i+1))\n",
    "            v += a_i*ga.basis[i]\n",
    "        v = ga.mv(v)\n",
    "        return(F(v))\n",
    "    else:\n",
    "        return(F(a))"
   ]
  },
  {
   "cell_type": "markdown",
   "metadata": {},
   "source": [
    "## `test_noneuclidian_distance_calculation`"
   ]
  },
  {
   "cell_type": "code",
   "execution_count": 2,
   "metadata": {
    "collapsed": true
   },
   "outputs": [],
   "source": [
    "from sympy import solve,sqrt\n",
    "\n",
    "g = '0 # #,# 0 #,# # 1'\n",
    "necl = Ga('X Y e',g=g)\n",
    "(X,Y,e) = necl.mv()"
   ]
  },
  {
   "cell_type": "code",
   "execution_count": 3,
   "metadata": {
    "collapsed": false
   },
   "outputs": [
    {
     "data": {
      "text/latex": [
       "\\begin{equation*}  \\boldsymbol{X} \\end{equation*}"
      ],
      "text/plain": [
       "X"
      ]
     },
     "execution_count": 3,
     "metadata": {},
     "output_type": "execute_result"
    }
   ],
   "source": [
    "X"
   ]
  },
  {
   "cell_type": "code",
   "execution_count": 4,
   "metadata": {
    "collapsed": false
   },
   "outputs": [
    {
     "data": {
      "text/latex": [
       "\\begin{equation*}  \\boldsymbol{Y} \\end{equation*}"
      ],
      "text/plain": [
       "Y"
      ]
     },
     "execution_count": 4,
     "metadata": {},
     "output_type": "execute_result"
    }
   ],
   "source": [
    "Y"
   ]
  },
  {
   "cell_type": "code",
   "execution_count": 5,
   "metadata": {
    "collapsed": false
   },
   "outputs": [
    {
     "data": {
      "text/latex": [
       "\\begin{equation*}  \\boldsymbol{e} \\end{equation*}"
      ],
      "text/plain": [
       "e"
      ]
     },
     "execution_count": 5,
     "metadata": {},
     "output_type": "execute_result"
    }
   ],
   "source": [
    "e"
   ]
  },
  {
   "cell_type": "code",
   "execution_count": 6,
   "metadata": {
    "collapsed": false
   },
   "outputs": [
    {
     "data": {
      "text/latex": [
       "\\begin{equation*} \\left ( X\\cdot Y\\right ) ^{2} \\end{equation*}"
      ],
      "text/plain": [
       "(X.Y)**2"
      ]
     },
     "execution_count": 6,
     "metadata": {},
     "output_type": "execute_result"
    }
   ],
   "source": [
    "(X^Y)*(X^Y)"
   ]
  },
  {
   "cell_type": "code",
   "execution_count": 7,
   "metadata": {
    "collapsed": false
   },
   "outputs": [
    {
     "data": {
      "text/latex": [
       "\\begin{equation*}  \\boldsymbol{X}\\wedge \\boldsymbol{Y}\\wedge \\boldsymbol{e} \\end{equation*}"
      ],
      "text/plain": [
       "X^Y^e"
      ]
     },
     "execution_count": 7,
     "metadata": {},
     "output_type": "execute_result"
    }
   ],
   "source": [
    "L = X^Y^e\n",
    "L"
   ]
  },
  {
   "cell_type": "code",
   "execution_count": 8,
   "metadata": {
    "collapsed": false
   },
   "outputs": [
    {
     "data": {
      "text/latex": [
       "\\begin{equation*}  \\boldsymbol{X}\\wedge \\boldsymbol{Y} - \\left ( Y\\cdot e\\right )  \\boldsymbol{X}\\wedge \\boldsymbol{e} + \\left ( X\\cdot e\\right )  \\boldsymbol{Y}\\wedge \\boldsymbol{e} \\end{equation*}"
      ],
      "text/plain": [
       "X^Y - (Y.e)*X^e + (X.e)*Y^e"
      ]
     },
     "execution_count": 8,
     "metadata": {},
     "output_type": "execute_result"
    }
   ],
   "source": [
    "B = (L*e).expand().blade_rep()\n",
    "B"
   ]
  },
  {
   "cell_type": "code",
   "execution_count": 9,
   "metadata": {
    "collapsed": false
   },
   "outputs": [
    {
     "data": {
      "text/latex": [
       "\\begin{equation*} \\left ( X\\cdot Y\\right )  \\left(\\left ( X\\cdot Y\\right )  - 2 \\left ( X\\cdot e\\right )  \\left ( Y\\cdot e\\right ) \\right) \\end{equation*}"
      ],
      "text/plain": [
       "(X.Y)*((X.Y) - 2*(X.e)*(Y.e))"
      ]
     },
     "execution_count": 9,
     "metadata": {},
     "output_type": "execute_result"
    }
   ],
   "source": [
    "Bsq = B*B\n",
    "Bsq"
   ]
  },
  {
   "cell_type": "code",
   "execution_count": 10,
   "metadata": {
    "collapsed": false
   },
   "outputs": [
    {
     "data": {
      "text/plain": [
       "(X.Y)**2 - 2*(X.Y)*(X.e)*(Y.e)"
      ]
     },
     "execution_count": 10,
     "metadata": {},
     "output_type": "execute_result"
    }
   ],
   "source": [
    "BsqScalar = Bsq.scalar()\n",
    "BsqScalar"
   ]
  },
  {
   "cell_type": "code",
   "execution_count": 11,
   "metadata": {
    "collapsed": false
   },
   "outputs": [
    {
     "data": {
      "text/plain": [
       "True"
      ]
     },
     "execution_count": 11,
     "metadata": {},
     "output_type": "execute_result"
    }
   ],
   "source": [
    "(Bsq - BsqScalar).simplify() == 0"
   ]
  },
  {
   "cell_type": "code",
   "execution_count": 12,
   "metadata": {
    "collapsed": false
   },
   "outputs": [
    {
     "data": {
      "text/latex": [
       "\\begin{equation*} \\left ( X\\cdot Y\\right )  \\left(- \\left ( X\\cdot Y\\right )  + 2 \\left ( X\\cdot e\\right )  \\left ( Y\\cdot e\\right ) \\right) \\boldsymbol{e} \\end{equation*}"
      ],
      "text/plain": [
       "(X.Y)*(-(X.Y) + 2*(X.e)*(Y.e))*e"
      ]
     },
     "execution_count": 12,
     "metadata": {},
     "output_type": "execute_result"
    }
   ],
   "source": [
    "BeBr = B*e*B.rev()\n",
    "BeBr"
   ]
  },
  {
   "cell_type": "code",
   "execution_count": 13,
   "metadata": {
    "collapsed": false
   },
   "outputs": [
    {
     "data": {
      "text/latex": [
       "\\begin{equation*} \\left ( X\\cdot Y\\right )  \\left(\\left ( X\\cdot Y\\right )  - 2 \\left ( X\\cdot e\\right )  \\left ( Y\\cdot e\\right ) \\right) \\end{equation*}"
      ],
      "text/plain": [
       "(X.Y)*((X.Y) - 2*(X.e)*(Y.e))"
      ]
     },
     "execution_count": 13,
     "metadata": {},
     "output_type": "execute_result"
    }
   ],
   "source": [
    "B*B"
   ]
  },
  {
   "cell_type": "code",
   "execution_count": 14,
   "metadata": {
    "collapsed": false
   },
   "outputs": [
    {
     "data": {
      "text/latex": [
       "\\begin{equation*} \\left ( X\\cdot Y\\right )  \\left(\\left ( X\\cdot Y\\right )  - 2 \\left ( X\\cdot e\\right )  \\left ( Y\\cdot e\\right ) \\right) \\end{equation*}"
      ],
      "text/plain": [
       "(X.Y)**2 - 2*(X.Y)*(X.e)*(Y.e)"
      ]
     },
     "execution_count": 14,
     "metadata": {},
     "output_type": "execute_result"
    }
   ],
   "source": [
    "L*L"
   ]
  },
  {
   "cell_type": "code",
   "execution_count": 15,
   "metadata": {
    "collapsed": true
   },
   "outputs": [],
   "source": [
    "(s,c,Binv,M,S,C,alpha) = symbols('s c (1/B) M S C alpha')"
   ]
  },
  {
   "cell_type": "code",
   "execution_count": 16,
   "metadata": {
    "collapsed": true
   },
   "outputs": [],
   "source": [
    "XdotY = necl.g[0,1]\n",
    "Xdote = necl.g[0,2]\n",
    "Ydote = necl.g[1,2]"
   ]
  },
  {
   "cell_type": "code",
   "execution_count": 17,
   "metadata": {
    "collapsed": false
   },
   "outputs": [
    {
     "data": {
      "text/plain": [
       "(X.Y)"
      ]
     },
     "execution_count": 17,
     "metadata": {},
     "output_type": "execute_result"
    }
   ],
   "source": [
    "XdotY"
   ]
  },
  {
   "cell_type": "code",
   "execution_count": 18,
   "metadata": {
    "collapsed": false
   },
   "outputs": [
    {
     "data": {
      "text/plain": [
       "(X.e)"
      ]
     },
     "execution_count": 18,
     "metadata": {},
     "output_type": "execute_result"
    }
   ],
   "source": [
    "Xdote"
   ]
  },
  {
   "cell_type": "code",
   "execution_count": 19,
   "metadata": {
    "collapsed": false
   },
   "outputs": [
    {
     "data": {
      "text/plain": [
       "(Y.e)"
      ]
     },
     "execution_count": 19,
     "metadata": {},
     "output_type": "execute_result"
    }
   ],
   "source": [
    "Ydote"
   ]
  },
  {
   "cell_type": "code",
   "execution_count": 20,
   "metadata": {
    "collapsed": false
   },
   "outputs": [
    {
     "data": {
      "text/latex": [
       "\\begin{equation*} (1/B) \\boldsymbol{X}\\wedge \\boldsymbol{Y} - (1/B) \\left ( Y\\cdot e\\right )  \\boldsymbol{X}\\wedge \\boldsymbol{e} + (1/B) \\left ( X\\cdot e\\right )  \\boldsymbol{Y}\\wedge \\boldsymbol{e} \\end{equation*}"
      ],
      "text/plain": [
       "(1/B)*X^Y - (1/B)*(Y.e)*X^e + (1/B)*(X.e)*Y^e"
      ]
     },
     "execution_count": 20,
     "metadata": {},
     "output_type": "execute_result"
    }
   ],
   "source": [
    "Bhat = Binv*B\n",
    "Bhat"
   ]
  },
  {
   "cell_type": "code",
   "execution_count": 21,
   "metadata": {
    "collapsed": false
   },
   "outputs": [
    {
     "data": {
      "text/latex": [
       "\\begin{equation*} c  + (1/B) s \\boldsymbol{X}\\wedge \\boldsymbol{Y} - (1/B) \\left ( Y\\cdot e\\right )  s \\boldsymbol{X}\\wedge \\boldsymbol{e} + (1/B) \\left ( X\\cdot e\\right )  s \\boldsymbol{Y}\\wedge \\boldsymbol{e} \\end{equation*}"
      ],
      "text/plain": [
       "c + (1/B)*s*X^Y - (1/B)*(Y.e)*s*X^e + (1/B)*(X.e)*s*Y^e"
      ]
     },
     "execution_count": 21,
     "metadata": {},
     "output_type": "execute_result"
    }
   ],
   "source": [
    "R = c+s*Bhat # Rotor R = exp(alpha*Bhat/2)\n",
    "R"
   ]
  },
  {
   "cell_type": "code",
   "execution_count": 22,
   "metadata": {
    "collapsed": false
   },
   "outputs": [
    {
     "data": {
      "text/latex": [
       "\\begin{equation*} \\left ( (1/B)^{2} \\left ( X\\cdot Y\\right ) ^{2} s^{2} - 2 (1/B)^{2} \\left ( X\\cdot Y\\right )  \\left ( X\\cdot e\\right )  \\left ( Y\\cdot e\\right )  s^{2} + 2 (1/B) \\left ( X\\cdot Y\\right )  c s - 2 (1/B) \\left ( X\\cdot e\\right )  \\left ( Y\\cdot e\\right )  c s + c^{2}\\right ) \\boldsymbol{X} + 2 (1/B) \\left ( X\\cdot e\\right ) ^{2} c s \\boldsymbol{Y} + 2 (1/B) \\left ( X\\cdot Y\\right )  \\left ( X\\cdot e\\right )  s \\left(- (1/B) \\left ( X\\cdot Y\\right )  s + 2 (1/B) \\left ( X\\cdot e\\right )  \\left ( Y\\cdot e\\right )  s - c\\right) \\boldsymbol{e} \\end{equation*}"
      ],
      "text/plain": [
       "((1/B)**2*(X.Y)**2*s**2 - 2*(1/B)**2*(X.Y)*(X.e)*(Y.e)*s**2 + 2*(1/B)*(X.Y)*c*s - 2*(1/B)*(X.e)*(Y.e)*c*s + c**2)*X + 2*(1/B)*(X.e)**2*c*s*Y + 2*(1/B)*(X.Y)*(X.e)*s*(-(1/B)*(X.Y)*s + 2*(1/B)*(X.e)*(Y.e)*s - c)*e"
      ]
     },
     "execution_count": 22,
     "metadata": {},
     "output_type": "execute_result"
    }
   ],
   "source": [
    "Z = R*X*R.rev()\n",
    "Z"
   ]
  },
  {
   "cell_type": "code",
   "execution_count": 23,
   "metadata": {
    "collapsed": false
   },
   "outputs": [
    {
     "data": {
      "text/plain": [
       "2*(1/B)*(X.Y)*(X.e)*s*(-(1/B)*(X.Y)*s + 2*(1/B)*(X.e)*(Y.e)*s - c)*e + 2*(1/B)*(X.e)**2*c*s*Y + ((1/B)**2*(X.Y)**2*s**2 - 2*(1/B)**2*(X.Y)*(X.e)*(Y.e)*s**2 + 2*(1/B)*(X.Y)*c*s - 2*(1/B)*(X.e)*(Y.e)*c*s + c**2)*X"
      ]
     },
     "execution_count": 23,
     "metadata": {},
     "output_type": "execute_result"
    }
   ],
   "source": [
    "Z.obj"
   ]
  },
  {
   "cell_type": "code",
   "execution_count": 24,
   "metadata": {
    "collapsed": false
   },
   "outputs": [
    {
     "data": {
      "text/plain": [
       "-2*(1/B)**2*(X.Y)**2*(X.e)*s**2*e + (1/B)**2*(X.Y)**2*s**2*X + 4*(1/B)**2*(X.Y)*(X.e)**2*(Y.e)*s**2*e - 2*(1/B)**2*(X.Y)*(X.e)*(Y.e)*s**2*X - 2*(1/B)*(X.Y)*(X.e)*c*s*e + 2*(1/B)*(X.Y)*c*s*X + 2*(1/B)*(X.e)**2*c*s*Y - 2*(1/B)*(X.e)*(Y.e)*c*s*X + c**2*X"
      ]
     },
     "execution_count": 24,
     "metadata": {},
     "output_type": "execute_result"
    }
   ],
   "source": [
    "Z.obj = expand(Z.obj)\n",
    "Z.obj"
   ]
  },
  {
   "cell_type": "code",
   "execution_count": 25,
   "metadata": {
    "collapsed": false
   },
   "outputs": [
    {
     "data": {
      "text/plain": [
       "(1/B)**2*(-2*(X.Y)**2*(X.e)*s**2*e + (X.Y)**2*s**2*X + 4*(X.Y)*(X.e)**2*(Y.e)*s**2*e - 2*(X.Y)*(X.e)*(Y.e)*s**2*X) + (1/B)*(-2*(X.Y)*(X.e)*c*s*e + 2*(X.Y)*c*s*X + 2*(X.e)**2*c*s*Y - 2*(X.e)*(Y.e)*c*s*X) + c**2*X"
      ]
     },
     "execution_count": 25,
     "metadata": {},
     "output_type": "execute_result"
    }
   ],
   "source": [
    "Z.obj = Z.obj.collect([Binv,s,c,XdotY])\n",
    "Z.obj"
   ]
  },
  {
   "cell_type": "code",
   "execution_count": 26,
   "metadata": {
    "collapsed": false
   },
   "outputs": [
    {
     "data": {
      "text/latex": [
       "\\begin{equation*} \\left ( (1/B)^{2} \\left ( X\\cdot Y\\right ) ^{2} s^{2} - 2 (1/B)^{2} \\left ( X\\cdot Y\\right )  \\left ( X\\cdot e\\right )  \\left ( Y\\cdot e\\right )  s^{2} + 2 (1/B) \\left ( X\\cdot Y\\right )  c s - 2 (1/B) \\left ( X\\cdot e\\right )  \\left ( Y\\cdot e\\right )  c s + c^{2}\\right ) \\boldsymbol{X} + 2 (1/B) \\left ( X\\cdot e\\right ) ^{2} c s \\boldsymbol{Y} + 2 (1/B) \\left ( X\\cdot Y\\right )  \\left ( X\\cdot e\\right )  s \\left(- (1/B) \\left ( X\\cdot Y\\right )  s + 2 (1/B) \\left ( X\\cdot e\\right )  \\left ( Y\\cdot e\\right )  s - c\\right) \\boldsymbol{e} \\end{equation*}"
      ],
      "text/plain": [
       "((1/B)**2*(X.Y)**2*s**2 - 2*(1/B)**2*(X.Y)*(X.e)*(Y.e)*s**2 + 2*(1/B)*(X.Y)*c*s - 2*(1/B)*(X.e)*(Y.e)*c*s + c**2)*X + 2*(1/B)*(X.e)**2*c*s*Y + 2*(1/B)*(X.Y)*(X.e)*s*(-(1/B)*(X.Y)*s + 2*(1/B)*(X.e)*(Y.e)*s - c)*e"
      ]
     },
     "execution_count": 26,
     "metadata": {},
     "output_type": "execute_result"
    }
   ],
   "source": [
    "Z"
   ]
  },
  {
   "cell_type": "code",
   "execution_count": 27,
   "metadata": {
    "collapsed": false
   },
   "outputs": [
    {
     "data": {
      "text/latex": [
       "\\begin{equation*} \\left ( X\\cdot Y\\right )  \\left((1/B)^{2} \\left ( X\\cdot Y\\right ) ^{2} s^{2} - 4 (1/B)^{2} \\left ( X\\cdot Y\\right )  \\left ( X\\cdot e\\right )  \\left ( Y\\cdot e\\right )  s^{2} + 4 (1/B)^{2} \\left ( X\\cdot e\\right ) ^{2} \\left ( Y\\cdot e\\right ) ^{2} s^{2} + 2 (1/B) \\left ( X\\cdot Y\\right )  c s - 4 (1/B) \\left ( X\\cdot e\\right )  \\left ( Y\\cdot e\\right )  c s + c^{2}\\right) \\end{equation*}"
      ],
      "text/plain": [
       "(X.Y)*((1/B)**2*(X.Y)**2*s**2 - 2*(1/B)**2*(X.Y)*(X.e)*(Y.e)*s**2 + 2*(1/B)*(X.Y)*c*s - 2*(1/B)*(X.e)*(Y.e)*c*s + c**2) + (Y.e)*(-2*(1/B)**2*(X.Y)**2*(X.e)*s**2 + 4*(1/B)**2*(X.Y)*(X.e)**2*(Y.e)*s**2 - 2*(1/B)*(X.Y)*(X.e)*c*s)"
      ]
     },
     "execution_count": 27,
     "metadata": {},
     "output_type": "execute_result"
    }
   ],
   "source": [
    "W = Z|Y\n",
    "W"
   ]
  },
  {
   "cell_type": "code",
   "execution_count": 28,
   "metadata": {
    "collapsed": false
   },
   "outputs": [
    {
     "data": {
      "text/plain": [
       "(1/B)**2*(X.Y)**3*s**2 - 4*(1/B)**2*(X.Y)**2*(X.e)*(Y.e)*s**2 + 4*(1/B)**2*(X.Y)*(X.e)**2*(Y.e)**2*s**2 + 2*(1/B)*(X.Y)**2*c*s - 4*(1/B)*(X.Y)*(X.e)*(Y.e)*c*s + (X.Y)*c**2"
      ]
     },
     "execution_count": 28,
     "metadata": {},
     "output_type": "execute_result"
    }
   ],
   "source": [
    "W.scalar()"
   ]
  },
  {
   "cell_type": "code",
   "execution_count": 29,
   "metadata": {
    "collapsed": false
   },
   "outputs": [
    {
     "data": {
      "text/plain": [
       "(X.Y)*((1/B)**2*s**2*((X.Y)**2 - 4*(X.Y)*(X.e)*(Y.e) + 4*(X.e)**2*(Y.e)**2) + (1/B)*s*(2*(X.Y)*c - 4*(X.e)*(Y.e)*c) + c**2)"
      ]
     },
     "execution_count": 29,
     "metadata": {},
     "output_type": "execute_result"
    }
   ],
   "source": [
    "W = W.scalar()\n",
    "W = expand(W)\n",
    "W = simplify(W)\n",
    "W = W.collect([s*Binv])\n",
    "W"
   ]
  },
  {
   "cell_type": "code",
   "execution_count": 30,
   "metadata": {
    "collapsed": false
   },
   "outputs": [
    {
     "data": {
      "text/plain": [
       "1/((X.Y)**2 - 2*(X.Y)*(X.e)*(Y.e))"
      ]
     },
     "execution_count": 30,
     "metadata": {},
     "output_type": "execute_result"
    }
   ],
   "source": [
    "Bsq = Bsq.scalar()\n",
    "M = 1/Bsq\n",
    "M"
   ]
  },
  {
   "cell_type": "code",
   "execution_count": 31,
   "metadata": {
    "collapsed": false
   },
   "outputs": [
    {
     "data": {
      "text/plain": [
       "(X.Y)*((1/B)*s*(2*(X.Y)*c - 4*(X.e)*(Y.e)*c) + c**2 + s**2*((X.Y)**2 - 4*(X.Y)*(X.e)*(Y.e) + 4*(X.e)**2*(Y.e)**2)/((X.Y)**2 - 2*(X.Y)*(X.e)*(Y.e)))"
      ]
     },
     "execution_count": 31,
     "metadata": {},
     "output_type": "execute_result"
    }
   ],
   "source": [
    "W = W.subs(Binv**2,M)\n",
    "W"
   ]
  },
  {
   "cell_type": "code",
   "execution_count": 32,
   "metadata": {
    "collapsed": false
   },
   "outputs": [
    {
     "data": {
      "text/plain": [
       "2*(1/B)*(X.Y)**2*c*s - 4*(1/B)*(X.Y)*(X.e)*(Y.e)*c*s + (X.Y)*c**2 + (X.Y)*s**2 - 2*(X.e)*(Y.e)*s**2"
      ]
     },
     "execution_count": 32,
     "metadata": {},
     "output_type": "execute_result"
    }
   ],
   "source": [
    "W = simplify(W)\n",
    "W"
   ]
  },
  {
   "cell_type": "code",
   "execution_count": 33,
   "metadata": {
    "collapsed": false
   },
   "outputs": [
    {
     "data": {
      "text/plain": [
       "sqrt((X.Y)**2 - 2*(X.Y)*(X.e)*(Y.e))"
      ]
     },
     "execution_count": 33,
     "metadata": {},
     "output_type": "execute_result"
    }
   ],
   "source": [
    "Bmag = sqrt(XdotY**2-2*XdotY*Xdote*Ydote)\n",
    "Bmag"
   ]
  },
  {
   "cell_type": "code",
   "execution_count": 34,
   "metadata": {
    "collapsed": false
   },
   "outputs": [
    {
     "data": {
      "text/plain": [
       "(1/B)*c*s*(2*(X.Y)**2 - 4*(X.Y)*(X.e)*(Y.e)) + (X.Y)*(c**2 + s**2) - 2*(X.e)*(Y.e)*s**2"
      ]
     },
     "execution_count": 34,
     "metadata": {},
     "output_type": "execute_result"
    }
   ],
   "source": [
    "W = W.collect([Binv*c*s,XdotY])\n",
    "W"
   ]
  },
  {
   "cell_type": "code",
   "execution_count": 35,
   "metadata": {
    "collapsed": false
   },
   "outputs": [
    {
     "data": {
      "text/plain": [
       "(1/B)*(X.Y)*C*sqrt((X.Y)**2 - 2*(X.Y)*(X.e)*(Y.e)) - (1/B)*(X.e)*(Y.e)*C*sqrt((X.Y)**2 - 2*(X.Y)*(X.e)*(Y.e)) + (1/B)*(X.e)*(Y.e)*sqrt((X.Y)**2 - 2*(X.Y)*(X.e)*(Y.e)) + S*sqrt((X.Y)**2 - 2*(X.Y)*(X.e)*(Y.e))"
      ]
     },
     "execution_count": 35,
     "metadata": {},
     "output_type": "execute_result"
    }
   ],
   "source": [
    "W = W.subs(2*XdotY**2-4*XdotY*Xdote*Ydote,2/(Binv**2))\n",
    "W = W.subs(2*c*s,S)\n",
    "W = W.subs(c**2,(C+1)/2)\n",
    "W = W.subs(s**2,(C-1)/2)\n",
    "W = simplify(W)\n",
    "W = W.subs(1/Binv,Bmag)\n",
    "W = expand(W)\n",
    "W"
   ]
  },
  {
   "cell_type": "code",
   "execution_count": 36,
   "metadata": {
    "collapsed": false
   },
   "outputs": [
    {
     "data": {
      "text/plain": [
       "sqrt((X.Y)*((X.Y) - 2*(X.e)*(Y.e)))*((1/B)*(X.Y)*C - (1/B)*(X.e)*(Y.e)*C + (1/B)*(X.e)*(Y.e) + S)"
      ]
     },
     "execution_count": 36,
     "metadata": {},
     "output_type": "execute_result"
    }
   ],
   "source": [
    "# FIXME assert str(W.simplify()) == '(X.Y)*C - (X.e)*(Y.e)*C + (X.e)*(Y.e) + S*sqrt((X.Y)**2 - 2*(X.Y)*(X.e)*(Y.e))'\n",
    "W.simplify()"
   ]
  },
  {
   "cell_type": "code",
   "execution_count": 37,
   "metadata": {
    "collapsed": true
   },
   "outputs": [],
   "source": [
    "Wd = collect(W,[C,S],exact=True,evaluate=False)\n",
    "\n",
    "Wd_1 = Wd[one]\n",
    "Wd_C = Wd[C]\n",
    "Wd_S = Wd[S]"
   ]
  },
  {
   "cell_type": "code",
   "execution_count": 38,
   "metadata": {
    "collapsed": false
   },
   "outputs": [
    {
     "data": {
      "text/plain": [
       "{S: sqrt((X.Y)**2 - 2*(X.Y)*(X.e)*(Y.e)),\n",
       " C: (1/B)*(X.Y)*sqrt((X.Y)**2 - 2*(X.Y)*(X.e)*(Y.e)) - (1/B)*(X.e)*(Y.e)*sqrt((X.Y)**2 - 2*(X.Y)*(X.e)*(Y.e)),\n",
       " 1: (1/B)*(X.e)*(Y.e)*sqrt((X.Y)**2 - 2*(X.Y)*(X.e)*(Y.e))}"
      ]
     },
     "execution_count": 38,
     "metadata": {},
     "output_type": "execute_result"
    }
   ],
   "source": [
    "Wd"
   ]
  },
  {
   "cell_type": "code",
   "execution_count": 39,
   "metadata": {
    "collapsed": false
   },
   "outputs": [
    {
     "data": {
      "text/plain": [
       "(1/B)*(X.e)*(Y.e)*sqrt((X.Y)**2 - 2*(X.Y)*(X.e)*(Y.e))"
      ]
     },
     "execution_count": 39,
     "metadata": {},
     "output_type": "execute_result"
    }
   ],
   "source": [
    "# FIXME assert str(Wd_1) == '(X.e)*(Y.e)'\n",
    "Wd_1"
   ]
  },
  {
   "cell_type": "code",
   "execution_count": 40,
   "metadata": {
    "collapsed": false
   },
   "outputs": [
    {
     "data": {
      "text/plain": [
       "(1/B)*(X.e)*(Y.e)*sqrt((X.Y)*((X.Y) - 2*(X.e)*(Y.e)))"
      ]
     },
     "execution_count": 40,
     "metadata": {},
     "output_type": "execute_result"
    }
   ],
   "source": [
    "Wd_1.simplify()"
   ]
  },
  {
   "cell_type": "code",
   "execution_count": 41,
   "metadata": {
    "collapsed": false
   },
   "outputs": [
    {
     "data": {
      "text/plain": [
       "(1/B)*(X.Y)*sqrt((X.Y)**2 - 2*(X.Y)*(X.e)*(Y.e)) - (1/B)*(X.e)*(Y.e)*sqrt((X.Y)**2 - 2*(X.Y)*(X.e)*(Y.e))"
      ]
     },
     "execution_count": 41,
     "metadata": {},
     "output_type": "execute_result"
    }
   ],
   "source": [
    "# FIXME assert str(Wd_C) == '(X.Y) - (X.e)*(Y.e)'\n",
    "Wd_C"
   ]
  },
  {
   "cell_type": "code",
   "execution_count": 42,
   "metadata": {
    "collapsed": false
   },
   "outputs": [
    {
     "data": {
      "text/plain": [
       "(1/B)*sqrt((X.Y)*((X.Y) - 2*(X.e)*(Y.e)))*((X.Y) - (X.e)*(Y.e))"
      ]
     },
     "execution_count": 42,
     "metadata": {},
     "output_type": "execute_result"
    }
   ],
   "source": [
    "Wd_C.simplify()"
   ]
  },
  {
   "cell_type": "code",
   "execution_count": 43,
   "metadata": {
    "collapsed": false
   },
   "outputs": [
    {
     "data": {
      "text/plain": [
       "sqrt((X.Y)**2 - 2*(X.Y)*(X.e)*(Y.e))"
      ]
     },
     "execution_count": 43,
     "metadata": {},
     "output_type": "execute_result"
    }
   ],
   "source": [
    "Wd_S"
   ]
  },
  {
   "cell_type": "markdown",
   "metadata": {},
   "source": [
    "## `test_derivatives_in_spherical_coordinates`"
   ]
  },
  {
   "cell_type": "code",
   "execution_count": 44,
   "metadata": {
    "collapsed": true
   },
   "outputs": [],
   "source": [
    "X = (r, th, phi) = symbols('r theta phi')\n",
    "s3d = Ga('e_r e_theta e_phi', g=[1, r ** 2, r ** 2 * sin(th) ** 2], coords=X, norm=True)\n",
    "(er, eth, ephi) = s3d.mv()\n",
    "grad = s3d.grad\n",
    "\n",
    "f = s3d.mv('f', 'scalar', f=True)\n",
    "A = s3d.mv('A', 'vector', f=True)\n",
    "B = s3d.mv('B', 'bivector', f=True)"
   ]
  },
  {
   "cell_type": "code",
   "execution_count": 45,
   "metadata": {
    "collapsed": false
   },
   "outputs": [
    {
     "data": {
      "text/plain": [
       "r"
      ]
     },
     "execution_count": 45,
     "metadata": {},
     "output_type": "execute_result"
    }
   ],
   "source": [
    "r"
   ]
  },
  {
   "cell_type": "code",
   "execution_count": 46,
   "metadata": {
    "collapsed": false
   },
   "outputs": [
    {
     "data": {
      "text/plain": [
       "theta"
      ]
     },
     "execution_count": 46,
     "metadata": {},
     "output_type": "execute_result"
    }
   ],
   "source": [
    "th"
   ]
  },
  {
   "cell_type": "code",
   "execution_count": 47,
   "metadata": {
    "collapsed": false
   },
   "outputs": [
    {
     "data": {
      "text/plain": [
       "phi"
      ]
     },
     "execution_count": 47,
     "metadata": {},
     "output_type": "execute_result"
    }
   ],
   "source": [
    "phi"
   ]
  },
  {
   "cell_type": "code",
   "execution_count": 48,
   "metadata": {
    "collapsed": false
   },
   "outputs": [
    {
     "data": {
      "text/latex": [
       "\\begin{equation*}  \\boldsymbol{e}_{r} \\end{equation*}"
      ],
      "text/plain": [
       "e_r"
      ]
     },
     "execution_count": 48,
     "metadata": {},
     "output_type": "execute_result"
    }
   ],
   "source": [
    "er"
   ]
  },
  {
   "cell_type": "code",
   "execution_count": 49,
   "metadata": {
    "collapsed": false
   },
   "outputs": [
    {
     "data": {
      "text/latex": [
       "\\begin{equation*}  \\boldsymbol{e}_{\\theta } \\end{equation*}"
      ],
      "text/plain": [
       "e_theta"
      ]
     },
     "execution_count": 49,
     "metadata": {},
     "output_type": "execute_result"
    }
   ],
   "source": [
    "eth"
   ]
  },
  {
   "cell_type": "code",
   "execution_count": 50,
   "metadata": {
    "collapsed": false
   },
   "outputs": [
    {
     "data": {
      "text/latex": [
       "\\begin{equation*}  \\boldsymbol{e}_{\\phi } \\end{equation*}"
      ],
      "text/plain": [
       "e_phi"
      ]
     },
     "execution_count": 50,
     "metadata": {},
     "output_type": "execute_result"
    }
   ],
   "source": [
    "ephi"
   ]
  },
  {
   "cell_type": "code",
   "execution_count": 51,
   "metadata": {
    "collapsed": false
   },
   "outputs": [
    {
     "data": {
      "text/latex": [
       "\\begin{equation*} e_r D{r} + e_theta 1/r*D{theta} + e_phi 1/(r*sin(theta))*D{phi} \\end{equation*}"
      ],
      "text/plain": [
       "e_r*D{r} + e_theta*1/r*D{theta} + e_phi*1/(r*sin(theta))*D{phi}"
      ]
     },
     "execution_count": 51,
     "metadata": {},
     "output_type": "execute_result"
    }
   ],
   "source": [
    "grad"
   ]
  },
  {
   "cell_type": "code",
   "execution_count": 52,
   "metadata": {
    "collapsed": false
   },
   "outputs": [
    {
     "data": {
      "text/latex": [
       "\\begin{equation*} f = f {\\left (r,\\theta ,\\phi  \\right )} \\end{equation*}"
      ],
      "text/plain": [
       "f"
      ]
     },
     "execution_count": 52,
     "metadata": {},
     "output_type": "execute_result"
    }
   ],
   "source": [
    "f"
   ]
  },
  {
   "cell_type": "code",
   "execution_count": 53,
   "metadata": {
    "collapsed": false
   },
   "outputs": [
    {
     "data": {
      "text/latex": [
       "\\begin{equation*} A = A^{r} {\\left (r,\\theta ,\\phi  \\right )} \\boldsymbol{e}_{r} + A^{\\theta } {\\left (r,\\theta ,\\phi  \\right )} \\boldsymbol{e}_{\\theta } + A^{\\phi } {\\left (r,\\theta ,\\phi  \\right )} \\boldsymbol{e}_{\\phi } \\end{equation*}"
      ],
      "text/plain": [
       "A__r*e_r + A__theta*e_theta + A__phi*e_phi"
      ]
     },
     "execution_count": 53,
     "metadata": {},
     "output_type": "execute_result"
    }
   ],
   "source": [
    "A"
   ]
  },
  {
   "cell_type": "code",
   "execution_count": 54,
   "metadata": {
    "collapsed": false
   },
   "outputs": [
    {
     "data": {
      "text/latex": [
       "\\begin{equation*} B = B^{r\\theta } {\\left (r,\\theta ,\\phi  \\right )} \\boldsymbol{e}_{r}\\wedge \\boldsymbol{e}_{\\theta } + B^{r\\phi } {\\left (r,\\theta ,\\phi  \\right )} \\boldsymbol{e}_{r}\\wedge \\boldsymbol{e}_{\\phi } + B^{\\phi \\phi } {\\left (r,\\theta ,\\phi  \\right )} \\boldsymbol{e}_{\\theta }\\wedge \\boldsymbol{e}_{\\phi } \\end{equation*}"
      ],
      "text/plain": [
       "B__rtheta*e_r^e_theta + B__rphi*e_r^e_phi + B__thetaphi*e_theta^e_phi"
      ]
     },
     "execution_count": 54,
     "metadata": {},
     "output_type": "execute_result"
    }
   ],
   "source": [
    "B"
   ]
  },
  {
   "cell_type": "code",
   "execution_count": 55,
   "metadata": {
    "collapsed": false
   },
   "outputs": [
    {
     "data": {
      "text/latex": [
       "\\begin{equation*} \\frac{\\partial}{\\partial r} f {\\left (r,\\theta ,\\phi  \\right )} \\boldsymbol{e}_{r} + \\frac{1}{r} \\frac{\\partial}{\\partial \\theta } f {\\left (r,\\theta ,\\phi  \\right )} \\boldsymbol{e}_{\\theta } + \\frac{\\frac{\\partial}{\\partial \\phi } f {\\left (r,\\theta ,\\phi  \\right )}}{r \\sin{\\left (\\theta  \\right )}} \\boldsymbol{e}_{\\phi } \\end{equation*}"
      ],
      "text/plain": [
       "D{r}f*e_r + D{theta}f*e_theta/r + D{phi}f*e_phi/(r*sin(theta))"
      ]
     },
     "execution_count": 55,
     "metadata": {},
     "output_type": "execute_result"
    }
   ],
   "source": [
    "grad*f"
   ]
  },
  {
   "cell_type": "code",
   "execution_count": 56,
   "metadata": {
    "collapsed": false
   },
   "outputs": [
    {
     "data": {
      "text/latex": [
       "\\begin{equation*} \\frac{1}{r} \\left(r \\frac{\\partial}{\\partial r} A^{r} {\\left (r,\\theta ,\\phi  \\right )} + 2 A^{r} {\\left (r,\\theta ,\\phi  \\right )} + \\frac{A^{\\theta } {\\left (r,\\theta ,\\phi  \\right )}}{\\tan{\\left (\\theta  \\right )}} + \\frac{\\partial}{\\partial \\theta } A^{\\theta } {\\left (r,\\theta ,\\phi  \\right )} + \\frac{1}{\\sin{\\left (\\theta  \\right )}} \\frac{\\partial}{\\partial \\phi } A^{\\phi } {\\left (r,\\theta ,\\phi  \\right )}\\right) \\end{equation*}"
      ],
      "text/plain": [
       "(r*D{r}A__r + 2*A__r + A__theta/tan(theta) + D{theta}A__theta + D{phi}A__phi/sin(theta))/r"
      ]
     },
     "execution_count": 56,
     "metadata": {},
     "output_type": "execute_result"
    }
   ],
   "source": [
    "(grad|A).simplify()"
   ]
  },
  {
   "cell_type": "code",
   "execution_count": 57,
   "metadata": {
    "collapsed": false
   },
   "outputs": [
    {
     "data": {
      "text/latex": [
       "\\begin{equation*} \\frac{1}{r} \\left(\\frac{A^{\\phi } {\\left (r,\\theta ,\\phi  \\right )}}{\\tan{\\left (\\theta  \\right )}} + \\frac{\\partial}{\\partial \\theta } A^{\\phi } {\\left (r,\\theta ,\\phi  \\right )} - \\frac{1}{\\sin{\\left (\\theta  \\right )}} \\frac{\\partial}{\\partial \\phi } A^{\\theta } {\\left (r,\\theta ,\\phi  \\right )}\\right) \\boldsymbol{e}_{r} + \\frac{1}{r} \\left(- r \\frac{\\partial}{\\partial r} A^{\\phi } {\\left (r,\\theta ,\\phi  \\right )} - A^{\\phi } {\\left (r,\\theta ,\\phi  \\right )} + \\frac{1}{\\sin{\\left (\\theta  \\right )}} \\frac{\\partial}{\\partial \\phi } A^{r} {\\left (r,\\theta ,\\phi  \\right )}\\right) \\boldsymbol{e}_{\\theta } + \\frac{1}{r} \\left(r \\frac{\\partial}{\\partial r} A^{\\theta } {\\left (r,\\theta ,\\phi  \\right )} + A^{\\theta } {\\left (r,\\theta ,\\phi  \\right )} - \\frac{\\partial}{\\partial \\theta } A^{r} {\\left (r,\\theta ,\\phi  \\right )}\\right) \\boldsymbol{e}_{\\phi } \\end{equation*}"
      ],
      "text/plain": [
       "(A__phi/tan(theta) + D{theta}A__phi - D{phi}A__theta/sin(theta))*e_r/r + (-r*D{r}A__phi - A__phi + D{phi}A__r/sin(theta))*e_theta/r + (r*D{r}A__theta + A__theta - D{theta}A__r)*e_phi/r"
      ]
     },
     "execution_count": 57,
     "metadata": {},
     "output_type": "execute_result"
    }
   ],
   "source": [
    "-s3d.I()*(grad^A)"
   ]
  },
  {
   "cell_type": "code",
   "execution_count": 58,
   "metadata": {
    "collapsed": false
   },
   "outputs": [
    {
     "data": {
      "text/latex": [
       "\\begin{equation*} - B^{\\phi \\phi } {\\left (r,\\theta ,\\phi  \\right )} \\end{equation*}"
      ],
      "text/plain": [
       "-B__thetaphi"
      ]
     },
     "execution_count": 58,
     "metadata": {},
     "output_type": "execute_result"
    }
   ],
   "source": [
    "B|(eth^ephi)"
   ]
  },
  {
   "cell_type": "code",
   "execution_count": 59,
   "metadata": {
    "collapsed": true
   },
   "outputs": [],
   "source": [
    "btp = B|(eth^ephi)"
   ]
  },
  {
   "cell_type": "code",
   "execution_count": 60,
   "metadata": {
    "collapsed": false
   },
   "outputs": [
    {
     "data": {
      "text/plain": [
       "'-B__thetaphi'"
      ]
     },
     "execution_count": 60,
     "metadata": {},
     "output_type": "execute_result"
    }
   ],
   "source": [
    "str(btp)"
   ]
  },
  {
   "cell_type": "code",
   "execution_count": 62,
   "metadata": {
    "collapsed": false
   },
   "outputs": [
    {
     "name": "stdout",
     "output_type": "stream",
     "text": [
      "- B^{\\phi \\phi } {\\left (r,\\theta ,\\phi  \\right )}\n"
     ]
    }
   ],
   "source": [
    "from printer import print_latex\n",
    "print_latex(btp)"
   ]
  },
  {
   "cell_type": "code",
   "execution_count": 63,
   "metadata": {
    "collapsed": true
   },
   "outputs": [],
   "source": [
    "import printer"
   ]
  },
  {
   "cell_type": "markdown",
   "metadata": {},
   "source": [
    "```py\n",
    "def latex(expr, **settings):\n",
    "    return GaLatexPrinter(settings).doprint(expr)\n",
    "\n",
    "\n",
    "def print_latex(expr, **settings):\n",
    "    \"\"\"Prints LaTeX representation of the given expression.\"\"\"\n",
    "    print latex(expr, **settings)\n",
    "```"
   ]
  },
  {
   "cell_type": "code",
   "execution_count": 81,
   "metadata": {
    "collapsed": true
   },
   "outputs": [],
   "source": [
    "gp = printer.GaLatexPrinter({})"
   ]
  },
  {
   "cell_type": "code",
   "execution_count": 82,
   "metadata": {
    "collapsed": false
   },
   "outputs": [
    {
     "data": {
      "text/plain": [
       "'- B^{\\\\phi \\\\phi } {\\\\left (r,\\\\theta ,\\\\phi  \\\\right )}'"
      ]
     },
     "execution_count": 82,
     "metadata": {},
     "output_type": "execute_result"
    }
   ],
   "source": [
    "gp.doprint(btp)"
   ]
  },
  {
   "cell_type": "code",
   "execution_count": 83,
   "metadata": {
    "collapsed": false
   },
   "outputs": [
    {
     "data": {
      "text/plain": [
       "('*', ['-B'], [['thetaphi']], [[]])"
      ]
     },
     "execution_count": 83,
     "metadata": {},
     "output_type": "execute_result"
    }
   ],
   "source": [
    "printer.GaLatexPrinter.split_super_sub(str(btp))"
   ]
  },
  {
   "cell_type": "code",
   "execution_count": 84,
   "metadata": {
    "collapsed": false
   },
   "outputs": [
    {
     "data": {
      "text/plain": [
       "'- B^{\\\\phi \\\\phi } {\\\\left (r,\\\\theta ,\\\\phi  \\\\right )}'"
      ]
     },
     "execution_count": 84,
     "metadata": {},
     "output_type": "execute_result"
    }
   ],
   "source": [
    "gp._print_Mv(btp)"
   ]
  },
  {
   "cell_type": "code",
   "execution_count": 72,
   "metadata": {
    "collapsed": false
   },
   "outputs": [
    {
     "data": {
      "text/plain": [
       "'- B^{\\\\phi \\\\phi } {\\\\left (r,\\\\theta ,\\\\phi  \\\\right )}'"
      ]
     },
     "execution_count": 72,
     "metadata": {},
     "output_type": "execute_result"
    }
   ],
   "source": [
    "btp.Mv_latex_str()"
   ]
  },
  {
   "cell_type": "code",
   "execution_count": 80,
   "metadata": {
    "collapsed": false
   },
   "outputs": [
    {
     "data": {
      "text/plain": [
       "[-B__thetaphi]"
      ]
     },
     "execution_count": 80,
     "metadata": {},
     "output_type": "execute_result"
    }
   ],
   "source": [
    "btp.components()"
   ]
  },
  {
   "cell_type": "code",
   "execution_count": 87,
   "metadata": {
    "collapsed": false
   },
   "outputs": [
    {
     "data": {
      "text/plain": [
       "'-B__thetaphi'"
      ]
     },
     "execution_count": 87,
     "metadata": {},
     "output_type": "execute_result"
    }
   ],
   "source": [
    "str(btp.components()[0])"
   ]
  },
  {
   "cell_type": "code",
   "execution_count": 90,
   "metadata": {
    "collapsed": false
   },
   "outputs": [
    {
     "data": {
      "text/plain": [
       "[e_r, e_theta, e_phi, e_r^e_theta, e_r^e_phi, e_theta^e_phi, e_r^e_theta^e_phi]"
      ]
     },
     "execution_count": 90,
     "metadata": {},
     "output_type": "execute_result"
    }
   ],
   "source": [
    "btp.Ga.blades_lst"
   ]
  },
  {
   "cell_type": "code",
   "execution_count": 91,
   "metadata": {
    "collapsed": false
   },
   "outputs": [
    {
     "data": {
      "text/plain": [
       "{e_r^e_theta^e_phi: 3,\n",
       " e_r^e_phi: 2,\n",
       " e_r: 1,\n",
       " e_r^e_theta: 2,\n",
       " e_theta: 1,\n",
       " e_theta^e_phi: 2,\n",
       " e_phi: 1}"
      ]
     },
     "execution_count": 91,
     "metadata": {},
     "output_type": "execute_result"
    }
   ],
   "source": [
    "btp.Ga.blades_to_grades_dict"
   ]
  },
  {
   "cell_type": "code",
   "execution_count": 93,
   "metadata": {
    "collapsed": false
   },
   "outputs": [
    {
     "data": {
      "text/plain": [
       "'-B__thetaphi'"
      ]
     },
     "execution_count": 93,
     "metadata": {},
     "output_type": "execute_result"
    }
   ],
   "source": [
    "printer.ostr(btp)"
   ]
  },
  {
   "cell_type": "code",
   "execution_count": 108,
   "metadata": {
    "collapsed": false
   },
   "outputs": [
    {
     "data": {
      "text/plain": [
       "'-B__thetaphi'"
      ]
     },
     "execution_count": 108,
     "metadata": {},
     "output_type": "execute_result"
    }
   ],
   "source": [
    "btp.Mv_str()"
   ]
  },
  {
   "cell_type": "code",
   "execution_count": 111,
   "metadata": {
    "collapsed": false
   },
   "outputs": [
    {
     "data": {
      "text/plain": [
       "'-B__thetaphi'"
      ]
     },
     "execution_count": 111,
     "metadata": {},
     "output_type": "execute_result"
    }
   ],
   "source": [
    "str(btp.base_rep())"
   ]
  },
  {
   "cell_type": "code",
   "execution_count": 112,
   "metadata": {
    "collapsed": false
   },
   "outputs": [
    {
     "data": {
      "text/plain": [
       "[-B__thetaphi(r, theta, phi), 0, 0, 0, 0, 0, 0, 0]"
      ]
     },
     "execution_count": 112,
     "metadata": {},
     "output_type": "execute_result"
    }
   ],
   "source": [
    "btp.blade_coefs()"
   ]
  },
  {
   "cell_type": "code",
   "execution_count": 113,
   "metadata": {
    "collapsed": false
   },
   "outputs": [
    {
     "data": {
      "text/plain": [
       "-B__thetaphi(r, theta, phi)"
      ]
     },
     "execution_count": 113,
     "metadata": {},
     "output_type": "execute_result"
    }
   ],
   "source": [
    "btp.blade_coefs()[0]"
   ]
  },
  {
   "cell_type": "code",
   "execution_count": 114,
   "metadata": {
    "collapsed": false
   },
   "outputs": [
    {
     "data": {
      "text/plain": [
       "'- B^{\\\\phi \\\\phi } {\\\\left (r,\\\\theta ,\\\\phi  \\\\right )}'"
      ]
     },
     "execution_count": 114,
     "metadata": {},
     "output_type": "execute_result"
    }
   ],
   "source": [
    "gp.latex(btp.blade_coefs()[0])"
   ]
  },
  {
   "cell_type": "code",
   "execution_count": 120,
   "metadata": {
    "collapsed": false
   },
   "outputs": [
    {
     "data": {
      "text/plain": [
       "'-B__thetaphi'"
      ]
     },
     "execution_count": 120,
     "metadata": {},
     "output_type": "execute_result"
    }
   ],
   "source": [
    "str(btp.blade_rep())"
   ]
  },
  {
   "cell_type": "code",
   "execution_count": 125,
   "metadata": {
    "collapsed": false
   },
   "outputs": [
    {
     "data": {
      "text/plain": [
       "[r, theta, phi]"
      ]
     },
     "execution_count": 125,
     "metadata": {},
     "output_type": "execute_result"
    }
   ],
   "source": [
    "btp.coords"
   ]
  },
  {
   "cell_type": "code",
   "execution_count": 126,
   "metadata": {
    "collapsed": false
   },
   "outputs": [
    {
     "data": {
      "text/plain": [
       "['+I', 'I+', '+Iinv', 'Iinv+', '-I', 'I-', '-Iinv', 'Iinv-']"
      ]
     },
     "execution_count": 126,
     "metadata": {},
     "output_type": "execute_result"
    }
   ],
   "source": [
    "btp.dual_mode_lst"
   ]
  },
  {
   "cell_type": "code",
   "execution_count": 136,
   "metadata": {
    "collapsed": false
   },
   "outputs": [
    {
     "data": {
      "text/plain": [
       "[0]"
      ]
     },
     "execution_count": 136,
     "metadata": {},
     "output_type": "execute_result"
    }
   ],
   "source": [
    "btp.grades"
   ]
  },
  {
   "cell_type": "code",
   "execution_count": 143,
   "metadata": {
    "collapsed": false
   },
   "outputs": [],
   "source": [
    "(mode, name_lst, supers_lst, subs_lst) = printer.GaLatexPrinter.split_super_sub(str(btp))"
   ]
  },
  {
   "cell_type": "code",
   "execution_count": 144,
   "metadata": {
    "collapsed": false
   },
   "outputs": [
    {
     "data": {
      "text/plain": [
       "'*'"
      ]
     },
     "execution_count": 144,
     "metadata": {},
     "output_type": "execute_result"
    }
   ],
   "source": [
    "mode"
   ]
  },
  {
   "cell_type": "code",
   "execution_count": 145,
   "metadata": {
    "collapsed": false
   },
   "outputs": [
    {
     "data": {
      "text/plain": [
       "['-B']"
      ]
     },
     "execution_count": 145,
     "metadata": {},
     "output_type": "execute_result"
    }
   ],
   "source": [
    "name_lst"
   ]
  },
  {
   "cell_type": "code",
   "execution_count": 146,
   "metadata": {
    "collapsed": false
   },
   "outputs": [
    {
     "data": {
      "text/plain": [
       "[['thetaphi']]"
      ]
     },
     "execution_count": 146,
     "metadata": {},
     "output_type": "execute_result"
    }
   ],
   "source": [
    "supers_lst"
   ]
  },
  {
   "cell_type": "code",
   "execution_count": 153,
   "metadata": {
    "collapsed": true
   },
   "outputs": [],
   "source": [
    "GaLatexPrinter = printer.GaLatexPrinter\n",
    "def translate(s):\n",
    "    tmp = s\n",
    "\n",
    "    parse_dict = {}\n",
    "    i_sub = 1\n",
    "\n",
    "    for glyph in GaLatexPrinter.special_alphabet:\n",
    "        if glyph in tmp:\n",
    "            parse_sym = '????' + str(i_sub)\n",
    "            parse_dict[parse_sym] = '\\\\' + glyph + ' '\n",
    "            tmp = tmp.replace(glyph, parse_sym)\n",
    "            print tmp\n",
    "\n",
    "    for parse_sym in parse_dict:\n",
    "        tmp = tmp.replace(parse_sym, parse_dict[parse_sym])\n",
    "\n",
    "    for glyph in GaLatexPrinter.greek_translated:\n",
    "        if glyph in tmp:\n",
    "            tmp = tmp.replace(glyph, GaLatexPrinter.greek_translated[glyph])\n",
    "\n",
    "    return tmp"
   ]
  },
  {
   "cell_type": "code",
   "execution_count": 154,
   "metadata": {
    "collapsed": false
   },
   "outputs": [
    {
     "name": "stdout",
     "output_type": "stream",
     "text": [
      "????1phi\n",
      "????1????1\n"
     ]
    },
    {
     "data": {
      "text/plain": [
       "'\\\\phi \\\\phi '"
      ]
     },
     "execution_count": 154,
     "metadata": {},
     "output_type": "execute_result"
    }
   ],
   "source": [
    "translate('thetaphi')"
   ]
  },
  {
   "cell_type": "code",
   "execution_count": 157,
   "metadata": {
    "collapsed": true
   },
   "outputs": [],
   "source": [
    "def translate_corrected(s):\n",
    "    tmp = s\n",
    "\n",
    "    parse_dict = {}\n",
    "    i_sub = 1\n",
    "\n",
    "    for glyph in printer.GaLatexPrinter.special_alphabet:\n",
    "        if glyph in tmp:\n",
    "            parse_sym = '????' + str(i_sub)\n",
    "            i_sub += 1\n",
    "            parse_dict[parse_sym] = '\\\\' + glyph + ' '\n",
    "            tmp = tmp.replace(glyph, parse_sym)\n",
    "            print tmp\n",
    "\n",
    "    for parse_sym in parse_dict:\n",
    "        tmp = tmp.replace(parse_sym, parse_dict[parse_sym])\n",
    "\n",
    "    for glyph in GaLatexPrinter.greek_translated:\n",
    "        if glyph in tmp:\n",
    "            tmp = tmp.replace(glyph, GaLatexPrinter.greek_translated[glyph])\n",
    "\n",
    "    return tmp"
   ]
  },
  {
   "cell_type": "code",
   "execution_count": 158,
   "metadata": {
    "collapsed": false
   },
   "outputs": [
    {
     "name": "stdout",
     "output_type": "stream",
     "text": [
      "????1phi\n",
      "????1????2\n"
     ]
    },
    {
     "data": {
      "text/plain": [
       "'\\\\theta \\\\phi '"
      ]
     },
     "execution_count": 158,
     "metadata": {},
     "output_type": "execute_result"
    }
   ],
   "source": [
    "translate_corrected('thetaphi')"
   ]
  },
  {
   "cell_type": "code",
   "execution_count": 159,
   "metadata": {
    "collapsed": false
   },
   "outputs": [
    {
     "data": {
      "text/latex": [
       "\\begin{equation*} e_r D{r} + e_theta 1/r*D{theta} + e_phi 1/(r*sin(theta))*D{phi} \\end{equation*}"
      ],
      "text/plain": [
       "e_r*D{r} + e_theta*1/r*D{theta} + e_phi*1/(r*sin(theta))*D{phi}"
      ]
     },
     "execution_count": 159,
     "metadata": {},
     "output_type": "execute_result"
    }
   ],
   "source": [
    "grad"
   ]
  },
  {
   "cell_type": "code",
   "execution_count": 160,
   "metadata": {
    "collapsed": false
   },
   "outputs": [
    {
     "data": {
      "text/plain": [
       "'e_r*D{r} + e_theta*1/r*D{theta} + e_phi*1/(r*sin(theta))*D{phi}'"
      ]
     },
     "execution_count": 160,
     "metadata": {},
     "output_type": "execute_result"
    }
   ],
   "source": [
    "str(grad)"
   ]
  },
  {
   "cell_type": "code",
   "execution_count": 161,
   "metadata": {
    "collapsed": false
   },
   "outputs": [
    {
     "data": {
      "text/plain": [
       "('*',\n",
       " ['e', 'D{r} + e', '1/r', 'D{theta} + e', '1/(r', 'sin(theta))', 'D{phi}'],\n",
       " [[], [], [], [], [], [], []],\n",
       " [['r'], ['theta'], [], ['phi'], [], [], []])"
      ]
     },
     "execution_count": 161,
     "metadata": {},
     "output_type": "execute_result"
    }
   ],
   "source": [
    "printer.GaLatexPrinter.split_super_sub(str(grad))"
   ]
  },
  {
   "cell_type": "code",
   "execution_count": 166,
   "metadata": {
    "collapsed": false
   },
   "outputs": [
    {
     "name": "stdout",
     "output_type": "stream",
     "text": [
      "e_????1*1/r*D{????1}\n"
     ]
    },
    {
     "data": {
      "text/plain": [
       "'e_\\\\theta *1/r*D{\\\\theta }'"
      ]
     },
     "execution_count": 166,
     "metadata": {},
     "output_type": "execute_result"
    }
   ],
   "source": [
    "translate_corrected('e_theta*1/r*D{theta}')"
   ]
  },
  {
   "cell_type": "code",
   "execution_count": 167,
   "metadata": {
    "collapsed": false
   },
   "outputs": [
    {
     "name": "stdout",
     "output_type": "stream",
     "text": [
      "e_????1*1/r*D{????1}\n"
     ]
    },
    {
     "data": {
      "text/plain": [
       "'e_\\\\theta *1/r*D{\\\\theta }'"
      ]
     },
     "execution_count": 167,
     "metadata": {},
     "output_type": "execute_result"
    }
   ],
   "source": [
    "translate('e_theta*1/r*D{theta}')"
   ]
  },
  {
   "cell_type": "code",
   "execution_count": 194,
   "metadata": {
    "collapsed": false
   },
   "outputs": [
    {
     "name": "stdout",
     "output_type": "stream",
     "text": [
      "e_r*D{r} + e_????1*1/r*D{????1} + e_phi*1/(r*sin(????1))*D{phi}\n",
      "e_r*D{r} + e_????1*1/r*D{????1} + e_????1*1/(r*sin(????1))*D{????1}\n",
      "e_r*D{r} + e_\\phi *1/r*D{\\phi } + e_\\phi *1/(r*sin(\\phi ))*D{\\phi }\n"
     ]
    }
   ],
   "source": [
    "print translate(str(grad))"
   ]
  },
  {
   "cell_type": "markdown",
   "metadata": {},
   "source": [
    "$$ e_r*D{r} + e_\\phi *1/r*D{\\phi } + e_\\phi *1/(r*sin(\\phi ))*D{\\phi } $$"
   ]
  },
  {
   "cell_type": "code",
   "execution_count": 201,
   "metadata": {
    "collapsed": false
   },
   "outputs": [
    {
     "data": {
      "text/plain": [
       "(e_r*D{r}, e_theta*1/r*D{theta}, e_phi*1/(r*sin(theta))*D{phi})"
      ]
     },
     "execution_count": 201,
     "metadata": {},
     "output_type": "execute_result"
    }
   ],
   "source": [
    "cpns = (gr, gt, gph) = grad.components()\n",
    "cpns"
   ]
  },
  {
   "cell_type": "code",
   "execution_count": 206,
   "metadata": {
    "collapsed": false
   },
   "outputs": [
    {
     "data": {
      "text/plain": [
       "'e_theta 1/r*D{theta}'"
      ]
     },
     "execution_count": 206,
     "metadata": {},
     "output_type": "execute_result"
    }
   ],
   "source": [
    "gp._print_Dop(gt)"
   ]
  },
  {
   "cell_type": "code",
   "execution_count": 207,
   "metadata": {
    "collapsed": false
   },
   "outputs": [
    {
     "data": {
      "text/plain": [
       "'e_theta 1/r*D{theta}'"
      ]
     },
     "execution_count": 207,
     "metadata": {},
     "output_type": "execute_result"
    }
   ],
   "source": [
    "gt.Dop_latex_str()"
   ]
  },
  {
   "cell_type": "code",
   "execution_count": 211,
   "metadata": {
    "collapsed": false
   },
   "outputs": [
    {
     "data": {
      "text/plain": [
       "[(e_theta/r, D{theta})]"
      ]
     },
     "execution_count": 211,
     "metadata": {},
     "output_type": "execute_result"
    }
   ],
   "source": [
    "gt.terms"
   ]
  },
  {
   "cell_type": "code",
   "execution_count": 217,
   "metadata": {
    "collapsed": true
   },
   "outputs": [],
   "source": [
    "def Dop_latex_str(self):\n",
    "    if len(self.terms) == 0:\n",
    "        return ' 0 '\n",
    "\n",
    "    self.consolidate_coefs()\n",
    "\n",
    "    mv_terms = self.Dop_mv_expand(modes=simplify)\n",
    "    s = ''\n",
    "\n",
    "    for (sdop, base) in mv_terms:\n",
    "        str_sdop = str(sdop)\n",
    "        if base == S(1):\n",
    "            s += str_sdop\n",
    "        else:\n",
    "            if str_sdop == '1':\n",
    "                s += str(base)\n",
    "            if str_sdop == '-1':\n",
    "                s += '-' + str(base)\n",
    "                if str_sdop[1:] != '1':\n",
    "                    s += ' ' + str_sdop[1:]\n",
    "            else:\n",
    "                if len(sdop.terms) > 1:\n",
    "                    if self.cmpflg:\n",
    "                        s += r'\\left ( ' + str_sdop + r'\\right ) ' + str(base)\n",
    "                    else:\n",
    "                        s += str(base) + ' ' + r'\\left ( ' + str_sdop + r'\\right ) '\n",
    "                else:\n",
    "                    if str_sdop[0] == '-' and not isinstance(sdop.terms[0][0], Add):\n",
    "                        if self.cmpflg:\n",
    "                            s += str_sdop + str(base)\n",
    "                        else:\n",
    "                            s += '-' + str(base) + ' ' + str_sdop[1:]\n",
    "                    else:\n",
    "                        if self.cmpflg:\n",
    "                            s += str_sdop + ' ' + str(base)\n",
    "                        else:\n",
    "                            s += str(base) + ' ' + str_sdop\n",
    "        s += ' + '\n",
    "\n",
    "    s = s.replace('+ -','-')\n",
    "    # Sdop.str_mode = False\n",
    "    return s[:-3]"
   ]
  },
  {
   "cell_type": "code",
   "execution_count": 218,
   "metadata": {
    "collapsed": false
   },
   "outputs": [
    {
     "data": {
      "text/plain": [
       "'e_theta 1/r*D{theta}'"
      ]
     },
     "execution_count": 218,
     "metadata": {},
     "output_type": "execute_result"
    }
   ],
   "source": [
    "Dop_latex_str(gt)"
   ]
  },
  {
   "cell_type": "code",
   "execution_count": 220,
   "metadata": {
    "collapsed": false
   },
   "outputs": [
    {
     "data": {
      "text/plain": [
       "[(1/r*D{theta}, e_theta)]"
      ]
     },
     "execution_count": 220,
     "metadata": {},
     "output_type": "execute_result"
    }
   ],
   "source": [
    "terms = gt.Dop_mv_expand(modes=simplify)\n",
    "terms"
   ]
  },
  {
   "cell_type": "code",
   "execution_count": 231,
   "metadata": {
    "collapsed": true
   },
   "outputs": [],
   "source": [
    "def Dop_latex_str_corrected(self):\n",
    "    if len(self.terms) == 0:\n",
    "        return ' 0 '\n",
    "\n",
    "    self.consolidate_coefs()\n",
    "\n",
    "    mv_terms = self.Dop_mv_expand(modes=simplify)\n",
    "    s = ''\n",
    "\n",
    "    for (sdop, base) in mv_terms:\n",
    "        str_base = printer.latex(base)\n",
    "        str_sdop = printer.latex(sdop)\n",
    "        \n",
    "        print str_base\n",
    "        print str_sdop\n",
    "        \n",
    "        if base == S(1):\n",
    "            s += str_sdop\n",
    "        else:\n",
    "            if str_sdop == '1':\n",
    "                s += str_base\n",
    "            if str_sdop == '-1':\n",
    "                s += '-' + str_base\n",
    "                if str_sdop[1:] != '1':\n",
    "                    s += ' ' + str_sdop[1:]\n",
    "            else:\n",
    "                if len(sdop.terms) > 1:\n",
    "                    if self.cmpflg:\n",
    "                        s += r'\\left ( ' + str_sdop + r'\\right ) ' + str_base\n",
    "                    else:\n",
    "                        s += str_base + ' ' + r'\\left ( ' + str_sdop + r'\\right ) '\n",
    "                else:\n",
    "                    if str_sdop[0] == '-' and not isinstance(sdop.terms[0][0], Add):\n",
    "                        if self.cmpflg:\n",
    "                            s += str_sdop + str_base\n",
    "                        else:\n",
    "                            s += '-' + str_base + ' ' + str_sdop[1:]\n",
    "                    else:\n",
    "                        if self.cmpflg:\n",
    "                            s += str_sdop + ' ' + str_base\n",
    "                        else:\n",
    "                            s += str_base + ' ' + str_sdop\n",
    "        s += ' + '\n",
    "\n",
    "    s = s.replace('+ -','-')\n",
    "    # Sdop.str_mode = False\n",
    "    return s[:-3]"
   ]
  },
  {
   "cell_type": "code",
   "execution_count": 232,
   "metadata": {
    "collapsed": false
   },
   "outputs": [
    {
     "name": "stdout",
     "output_type": "stream",
     "text": [
      "\\boldsymbol{e}_{\\theta }\n",
      "1/r D{theta}\n",
      "\\boldsymbol{e}_{\\theta } 1/r D{theta}\n"
     ]
    }
   ],
   "source": [
    "print Dop_latex_str_corrected(gt)"
   ]
  },
  {
   "cell_type": "markdown",
   "metadata": {},
   "source": [
    "$$ \\boldsymbol{e}_{\\theta } 1/r D{theta} $$"
   ]
  },
  {
   "cell_type": "code",
   "execution_count": 233,
   "metadata": {
    "collapsed": false
   },
   "outputs": [
    {
     "name": "stdout",
     "output_type": "stream",
     "text": [
      "e_r*D{r} + e_????1*1/r*D{????1} + e_phi*1/(r*sin(????1))*D{phi}\n",
      "e_r*D{r} + e_????1*1/r*D{????1} + e_????2*1/(r*sin(????1))*D{????2}\n",
      "e_r*D{r} + e_\\theta *1/r*D{\\theta } + e_\\phi *1/(r*sin(\\theta ))*D{\\phi }\n"
     ]
    }
   ],
   "source": [
    "print translate_corrected(str(grad))"
   ]
  },
  {
   "cell_type": "markdown",
   "metadata": {},
   "source": [
    "$$ e_r*D{r} + e_\\theta *1/r*D{\\theta } + e_\\phi *1/(r*sin(\\theta ))*D{\\phi } $$"
   ]
  },
  {
   "cell_type": "code",
   "execution_count": 229,
   "metadata": {
    "collapsed": false
   },
   "outputs": [
    {
     "data": {
      "text/latex": [
       " 1/r D{theta} "
      ],
      "text/plain": [
       "1/r*D{theta}"
      ]
     },
     "execution_count": 229,
     "metadata": {},
     "output_type": "execute_result"
    }
   ],
   "source": [
    "(gt0, gt1) = terms[0]\n",
    "gt0"
   ]
  },
  {
   "cell_type": "code",
   "execution_count": 234,
   "metadata": {
    "collapsed": false
   },
   "outputs": [
    {
     "name": "stdout",
     "output_type": "stream",
     "text": [
      "1/r*D{????1}\n",
      "1/r*D{\\theta }\n"
     ]
    }
   ],
   "source": [
    "print translate_corrected(str(gt0))"
   ]
  },
  {
   "cell_type": "code",
   "execution_count": 236,
   "metadata": {
    "collapsed": false
   },
   "outputs": [
    {
     "data": {
      "text/plain": [
       "'1/r D{theta}'"
      ]
     },
     "execution_count": 236,
     "metadata": {},
     "output_type": "execute_result"
    }
   ],
   "source": [
    "gp._print_Sdop(gt0)"
   ]
  },
  {
   "cell_type": "markdown",
   "metadata": {
    "collapsed": true
   },
   "source": [
    "$ \\boldsymbol{e}_{r} D{r} + \\boldsymbol{e}_{\\theta } 1/r D{theta} + \\boldsymbol{e}_{\\phi } 1/(r*sin(theta)) D{phi} $\n",
    "\n",
    "$ \\boldsymbol{e}_{r} D{r} + \\boldsymbol{e}_{\\theta } 1/r D{\\theta} + \\boldsymbol{e}_{\\phi } 1/(r*sin(\\theta)) D{\\phi} $\n",
    "\n",
    "$ \\boldsymbol{e}_{r} \\frac{\\partial}{\\partial r} + \\boldsymbol{e}_{\\theta } \\frac{1}{r} \\frac{\\partial}{\\partial theta} + \\boldsymbol{e}_{\\phi } \\frac{1}{r \\sin{\\left (\\theta  \\right )}} \\frac{\\partial}{\\partial phi} $\n",
    "\n",
    "$ \\boldsymbol{e}_{r} \\frac{\\partial}{\\partial r} + \\boldsymbol{e}_{\\theta } \\frac{1}{r} \\frac{\\partial}{\\partial \\theta } + \\boldsymbol{e}_{\\phi } \\frac{1}{r \\sin{\\left (\\theta  \\right )}} \\frac{\\partial}{\\partial \\phi } $\n",
    "\n",
    "$ - B^{\\theta \\phi } {\\left (r,\\theta ,\\phi  \\right )} $"
   ]
  },
  {
   "cell_type": "code",
   "execution_count": null,
   "metadata": {
    "collapsed": true
   },
   "outputs": [],
   "source": []
  }
 ],
 "metadata": {
  "kernelspec": {
   "display_name": "Python 2",
   "language": "python",
   "name": "python2"
  },
  "language_info": {
   "codemirror_mode": {
    "name": "ipython",
    "version": 2
   },
   "file_extension": ".py",
   "mimetype": "text/x-python",
   "name": "python",
   "nbconvert_exporter": "python",
   "pygments_lexer": "ipython2",
   "version": "2.7.11"
  }
 },
 "nbformat": 4,
 "nbformat_minor": 0
}
