{
 "cells": [
  {
   "cell_type": "code",
   "execution_count": 3,
   "metadata": {
    "collapsed": false
   },
   "outputs": [
    {
     "name": "stdout",
     "output_type": "stream",
     "text": [
      "Requirement already up-to-date: sympy in /Users/utensil/miniconda2/lib/python2.7/site-packages\n",
      "Requirement already up-to-date: mpmath in /Users/utensil/miniconda2/lib/python2.7/site-packages\n"
     ]
    }
   ],
   "source": [
    "run(`pip install --upgrade sympy mpmath`)"
   ]
  },
  {
   "cell_type": "code",
   "execution_count": 19,
   "metadata": {
    "collapsed": false
   },
   "outputs": [
    {
     "data": {
      "text/plain": [
       "__anon__"
      ]
     },
     "execution_count": 19,
     "metadata": {},
     "output_type": "execute_result"
    }
   ],
   "source": [
    "using PyCall\n",
    "@pyimport sympy\n",
    "@pyimport mpmath\n",
    "@pyimport sys\n",
    "sys.modules[\"sympy.mpmath\"] = mpmath"
   ]
  },
  {
   "cell_type": "markdown",
   "metadata": {},
   "source": [
    "* http://docs.sympy.org/latest/tutorial/index.html\n",
    "* http://www.scipy-lectures.org/index.html\n",
    "* http://nbviewer.jupyter.org/github/jverzani/SymPy.jl/blob/master/examples/tutorial.ipynb"
   ]
  },
  {
   "cell_type": "code",
   "execution_count": 34,
   "metadata": {
    "collapsed": false
   },
   "outputs": [
    {
     "data": {
      "text/plain": [
       "PyObject Integral(exp(x)*cos(x), x)"
      ]
     },
     "execution_count": 34,
     "metadata": {},
     "output_type": "execute_result"
    }
   ],
   "source": [
    "locals = PyDict(Dict(\n",
    "    :x => sympy.symbols(\"x\"),\n",
    "    :Integral => sympy.Integral,\n",
    ":cos => sympy.cos,\n",
    ":exp => sympy.exp\n",
    "))\n",
    "PyCall.pyeval_(\"\"\"\n",
    "Integral(cos(x)*exp(x), x)\n",
    "\"\"\", locals, PyCall.Py_eval_input)"
   ]
  },
  {
   "cell_type": "code",
   "execution_count": 38,
   "metadata": {
    "collapsed": false
   },
   "outputs": [
    {
     "name": "stderr",
     "output_type": "stream",
     "text": [
      "INFO: Removing SymPy v0.2.40\n",
      "INFO: Package database updated\n",
      "INFO: Installing SymPy v0.2.40\n",
      "INFO: Building PyCall\n",
      "INFO: PyCall is using /Users/utensil/miniconda2/bin/python (Python 2.7.11) at /Users/utensil/miniconda2/bin/python, libpython = /Users/utensil/miniconda2/lib/libpython2.7.dylib\n",
      "INFO: Package database updated\n",
      "INFO: Building PyCall\n",
      "INFO: PyCall is using /Users/utensil/miniconda2/bin/python (Python 2.7.11) at /Users/utensil/miniconda2/bin/python, libpython = /Users/utensil/miniconda2/lib/libpython2.7.dylib\n"
     ]
    }
   ],
   "source": [
    "Pkg.rm(\"SymPy\")\n",
    "Pkg.add(\"SymPy\")\n",
    "Pkg.build(\"SymPy\")"
   ]
  },
  {
   "cell_type": "code",
   "execution_count": 39,
   "metadata": {
    "collapsed": false
   },
   "outputs": [
    {
     "name": "stderr",
     "output_type": "stream",
     "text": [
      "INFO: Recompiling stale cache file /Users/utensil/.julia/lib/v0.4/SymPy.ji for module SymPy.\n",
      "INFO: Recompiling stale cache file /Users/utensil/.julia/lib/v0.4/PyCall.ji for module PyCall.\n",
      "WARNING: Module Compat uuid did not match cache file\n",
      "  This is likely because module Compat does not support  precompilation but is imported by a module that does.\n",
      "WARNING: deserialization checks failed while attempting to load cache from /Users/utensil/.julia/lib/v0.4/SymPy.ji\n",
      "INFO: Precompiling module SymPy...\n",
      "INFO: Recompiling stale cache file /Users/utensil/.julia/lib/v0.4/SymPy.ji for module SymPy.\n",
      "WARNING: Module Plots uuid did not match cache file\n",
      "  This is likely because module Plots does not support  precompilation but is imported by a module that does.\n"
     ]
    },
    {
     "ename": "LoadError",
     "evalue": "LoadError: __precompile__(true) but require failed to create a precompiled cache file\nwhile loading In[39], in expression starting on line 1",
     "output_type": "error",
     "traceback": [
      "LoadError: __precompile__(true) but require failed to create a precompiled cache file\nwhile loading In[39], in expression starting on line 1",
      ""
     ]
    }
   ],
   "source": [
    "using SymPy"
   ]
  },
  {
   "cell_type": "code",
   "execution_count": null,
   "metadata": {
    "collapsed": true
   },
   "outputs": [],
   "source": []
  }
 ],
 "metadata": {
  "kernelspec": {
   "display_name": "Julia 0.4.5",
   "language": "julia",
   "name": "julia-0.4"
  },
  "language_info": {
   "file_extension": ".jl",
   "mimetype": "application/julia",
   "name": "julia",
   "version": "0.4.5"
  }
 },
 "nbformat": 4,
 "nbformat_minor": 0
}
