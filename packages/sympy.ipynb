{
 "cells": [
  {
   "cell_type": "markdown",
   "metadata": {},
   "source": [
    "* http://docs.sympy.org/latest/tutorial/index.html\n",
    "* http://www.scipy-lectures.org/index.html\n",
    "* http://nbviewer.jupyter.org/github/jverzani/SymPy.jl/blob/master/examples/tutorial.ipynb"
   ]
  },
  {
   "cell_type": "code",
   "execution_count": 2,
   "metadata": {},
   "outputs": [],
   "source": [
    "using Pkg"
   ]
  },
  {
   "cell_type": "code",
   "execution_count": 3,
   "metadata": {},
   "outputs": [
    {
     "name": "stdout",
     "output_type": "stream",
     "text": [
      "\u001b[32m\u001b[1m  Updating\u001b[22m\u001b[39m registry at `~/.julia/registries/General`\n",
      "\u001b[32m\u001b[1m  Updating\u001b[22m\u001b[39m git-repo `https://github.com/JuliaRegistries/General.git`\n",
      "\u001b[2K\u001b[?25h[1mFetching:\u001b[22m\u001b[39m [========================================>]  100.0 %.0 %\u001b[32m\u001b[1m Resolving\u001b[22m\u001b[39m package versions...\n",
      "\u001b[32m\u001b[1m Installed\u001b[22m\u001b[39m RecipesBase ────── v0.6.0\n",
      "\u001b[32m\u001b[1m Installed\u001b[22m\u001b[39m URIParser ──────── v0.4.0\n",
      "\u001b[32m\u001b[1m Installed\u001b[22m\u001b[39m BinDeps ────────── v0.8.10\n",
      "\u001b[32m\u001b[1m Installed\u001b[22m\u001b[39m SpecialFunctions ─ v0.7.2\n",
      "\u001b[32m\u001b[1m Installed\u001b[22m\u001b[39m SymPy ──────────── v0.9.0\n",
      "\u001b[32m\u001b[1m  Updating\u001b[22m\u001b[39m `~/.julia/environments/v1.1/Project.toml`\n",
      " \u001b[90m [24249f21]\u001b[39m\u001b[92m + SymPy v0.9.0\u001b[39m\n",
      "\u001b[32m\u001b[1m  Updating\u001b[22m\u001b[39m `~/.julia/environments/v1.1/Manifest.toml`\n",
      " \u001b[90m [9e28174c]\u001b[39m\u001b[92m + BinDeps v0.8.10\u001b[39m\n",
      " \u001b[90m [3cdcf5f2]\u001b[39m\u001b[92m + RecipesBase v0.6.0\u001b[39m\n",
      " \u001b[90m [276daf66]\u001b[39m\u001b[92m + SpecialFunctions v0.7.2\u001b[39m\n",
      " \u001b[90m [24249f21]\u001b[39m\u001b[92m + SymPy v0.9.0\u001b[39m\n",
      " \u001b[90m [30578b45]\u001b[39m\u001b[92m + URIParser v0.4.0\u001b[39m\n",
      "\u001b[32m\u001b[1m  Building\u001b[22m\u001b[39m SpecialFunctions → `~/.julia/packages/SpecialFunctions/fvheQ/deps/build.log`\n",
      "\u001b[32m\u001b[1m  Building\u001b[22m\u001b[39m SpecialFunctions → `~/.julia/packages/SpecialFunctions/fvheQ/deps/build.log`\n",
      "\u001b[32m\u001b[1m  Building\u001b[22m\u001b[39m Conda ───────────→ `~/.julia/packages/Conda/CpuvI/deps/build.log`\n",
      "\u001b[32m\u001b[1m  Building\u001b[22m\u001b[39m PyCall ──────────→ `~/.julia/packages/PyCall/RQjD7/deps/build.log`\n"
     ]
    }
   ],
   "source": [
    "Pkg.add(\"SymPy\")\n",
    "Pkg.build(\"SymPy\")"
   ]
  },
  {
   "cell_type": "code",
   "execution_count": 4,
   "metadata": {},
   "outputs": [
    {
     "name": "stderr",
     "output_type": "stream",
     "text": [
      "┌ Info: Precompiling SymPy [24249f21-da20-56a4-8eb1-6a02cf4ae2e6]\n",
      "└ @ Base loading.jl:1186\n",
      "┌ Info: Installing sympy via the Conda sympy package...\n",
      "└ @ PyCall ~/.julia/packages/PyCall/RQjD7/src/PyCall.jl:698\n",
      "┌ Info: Running `conda install -y sympy` in root environment\n",
      "└ @ Conda ~/.julia/packages/Conda/CpuvI/src/Conda.jl:112\n"
     ]
    },
    {
     "name": "stdout",
     "output_type": "stream",
     "text": [
      "Collecting package metadata: ...working... done\n",
      "Solving environment: ...working... done\n",
      "\n",
      "## Package Plan ##\n",
      "\n",
      "  environment location: ~/.julia/conda/3\n",
      "\n",
      "  added / updated specs:\n",
      "    - sympy\n",
      "\n",
      "\n",
      "The following packages will be downloaded:\n",
      "\n",
      "    package                    |            build\n",
      "    ---------------------------|-----------------\n",
      "    fastcache-1.0.2            |   py37h1de35cc_2          28 KB\n",
      "    gmp-6.1.2                  |       hb37e062_1         734 KB\n",
      "    gmpy2-2.0.8                |   py37h6ef4df4_2         162 KB\n",
      "    mpc-1.1.0                  |       h6ef4df4_1          90 KB\n",
      "    mpfr-4.0.1                 |       h3018a27_3         526 KB\n",
      "    mpmath-1.1.0               |           py37_0         957 KB\n",
      "    sympy-1.3                  |           py37_0         9.5 MB\n",
      "    ------------------------------------------------------------\n",
      "                                           Total:        11.9 MB\n",
      "\n",
      "The following NEW packages will be INSTALLED:\n",
      "\n",
      "  fastcache          pkgs/main/osx-64::fastcache-1.0.2-py37h1de35cc_2\n",
      "  gmp                pkgs/main/osx-64::gmp-6.1.2-hb37e062_1\n",
      "  gmpy2              pkgs/main/osx-64::gmpy2-2.0.8-py37h6ef4df4_2\n",
      "  mpc                pkgs/main/osx-64::mpc-1.1.0-h6ef4df4_1\n",
      "  mpfr               pkgs/main/osx-64::mpfr-4.0.1-h3018a27_3\n",
      "  mpmath             pkgs/main/osx-64::mpmath-1.1.0-py37_0\n",
      "  sympy              pkgs/main/osx-64::sympy-1.3-py37_0\n",
      "\n",
      "\n",
      "\n",
      "Downloading and Extracting Packages\n",
      "mpc-1.1.0            | 90 KB     | ########## | 100% \n",
      "sympy-1.3            | 9.5 MB    | ########## | 100% \n",
      "fastcache-1.0.2      | 28 KB     | ########## | 100% \n",
      "mpfr-4.0.1           | 526 KB    | ########## | 100% \n",
      "gmpy2-2.0.8          | 162 KB    | ########## | 100% \n",
      "mpmath-1.1.0         | 957 KB    | ########## | 100% \n",
      "gmp-6.1.2            | 734 KB    | ########## | 100% \n",
      "Preparing transaction: ...working... done\n",
      "Verifying transaction: ...working... done\n",
      "Executing transaction: ...working... done\n"
     ]
    }
   ],
   "source": [
    "using SymPy"
   ]
  },
  {
   "cell_type": "code",
   "execution_count": 1,
   "metadata": {},
   "outputs": [],
   "source": [
    "using SymPy"
   ]
  },
  {
   "cell_type": "code",
   "execution_count": 2,
   "metadata": {},
   "outputs": [
    {
     "data": {
      "text/plain": [
       "(a, b, c)"
      ]
     },
     "execution_count": 2,
     "metadata": {},
     "output_type": "execute_result"
    }
   ],
   "source": [
    "@syms a b c\n",
    "a,b,c = Sym(\"a,b,c\")"
   ]
  },
  {
   "cell_type": "code",
   "execution_count": 3,
   "metadata": {},
   "outputs": [
    {
     "data": {
      "text/latex": [
       "\\begin{equation*}\\alpha\\end{equation*}"
      ],
      "text/plain": [
       "α"
      ]
     },
     "execution_count": 3,
     "metadata": {},
     "output_type": "execute_result"
    }
   ],
   "source": [
    "u = symbols(\"u\")\n",
    "x = symbols(\"x\", real=true)\n",
    "y1, y2 = symbols(\"y1, y2\", positive=true)\n",
    "alpha = symbols(\"alpha\", integer=true, positive=true)"
   ]
  },
  {
   "cell_type": "code",
   "execution_count": 4,
   "metadata": {},
   "outputs": [
    {
     "data": {
      "text/latex": [
       "\\begin{equation*}z + 1 + \\pi\\end{equation*}"
      ],
      "text/plain": [
       "z + 1 + π"
      ]
     },
     "execution_count": 4,
     "metadata": {},
     "output_type": "execute_result"
    }
   ],
   "source": [
    "x,y,z = symbols(\"x,y,z\")\n",
    "ex = x + y + z\n",
    "subs(ex, (x,1), (y,pi))"
   ]
  },
  {
   "cell_type": "code",
   "execution_count": 5,
   "metadata": {},
   "outputs": [
    {
     "data": {
      "text/latex": [
       "\\begin{equation*}z + 1 + \\pi\\end{equation*}"
      ],
      "text/plain": [
       "z + 1 + π"
      ]
     },
     "execution_count": 5,
     "metadata": {},
     "output_type": "execute_result"
    }
   ],
   "source": [
    "ex |> subs(x, 1) |> subs(y, π)"
   ]
  },
  {
   "cell_type": "code",
   "execution_count": 6,
   "metadata": {},
   "outputs": [
    {
     "data": {
      "text/plain": [
       "3.1415926535897932384626433832795028841971693993751058209749445923078164062862089986280348253421170678"
      ]
     },
     "execution_count": 6,
     "metadata": {},
     "output_type": "execute_result"
    }
   ],
   "source": [
    "N(PI, 100)"
   ]
  },
  {
   "cell_type": "code",
   "execution_count": 7,
   "metadata": {},
   "outputs": [
    {
     "ename": "MethodError",
     "evalue": "MethodError: no method matching N(::Irrational{:π}, ::Int64)\nClosest candidates are:\n  N(!Matched::Sym, ::Int64) at ~/.julia/packages/SymPy/4aR3F/src/subs.jl:186\n  N(::Number) at ~/.julia/packages/SymPy/4aR3F/src/subs.jl:176",
     "output_type": "error",
     "traceback": [
      "MethodError: no method matching N(::Irrational{:π}, ::Int64)\nClosest candidates are:\n  N(!Matched::Sym, ::Int64) at ~/.julia/packages/SymPy/4aR3F/src/subs.jl:186\n  N(::Number) at ~/.julia/packages/SymPy/4aR3F/src/subs.jl:176",
      "",
      "Stacktrace:",
      " [1] top-level scope at In[7]:1"
     ]
    }
   ],
   "source": [
    "N(π, 100)"
   ]
  },
  {
   "cell_type": "code",
   "execution_count": 8,
   "metadata": {},
   "outputs": [
    {
     "data": {
      "text/plain": [
       "true"
      ]
     },
     "execution_count": 8,
     "metadata": {},
     "output_type": "execute_result"
    }
   ],
   "source": [
    "π == PI"
   ]
  },
  {
   "cell_type": "code",
   "execution_count": 9,
   "metadata": {},
   "outputs": [
    {
     "data": {
      "text/latex": [
       "\\[ \\left[ \\begin{array}{r}- \\frac{3 \\pi}{4}\\\\\\frac{\\pi}{4}\\end{array} \\right] \\]"
      ],
      "text/plain": [
       "2-element Array{Sym,1}:\n",
       " -3*pi/4\n",
       "    pi/4"
      ]
     },
     "execution_count": 9,
     "metadata": {},
     "output_type": "execute_result"
    }
   ],
   "source": [
    "solve(cos(x) - sin(x))"
   ]
  },
  {
   "cell_type": "code",
   "execution_count": 10,
   "metadata": {},
   "outputs": [
    {
     "data": {
      "text/latex": [
       "\\begin{equation*}e^{x} \\sin{\\left (x \\right )} + e^{x} \\cos{\\left (x \\right )}\\end{equation*}"
      ],
      "text/plain": [
       " x           x       \n",
       "ℯ ⋅sin(x) + ℯ ⋅cos(x)"
      ]
     },
     "execution_count": 10,
     "metadata": {},
     "output_type": "execute_result"
    }
   ],
   "source": [
    "x, h = symbols(\"x,h\")\n",
    "f(x) = exp(x)*sin(x)\n",
    "limit((f(x+h) - f(x)) / h, h, 0)"
   ]
  },
  {
   "cell_type": "code",
   "execution_count": 11,
   "metadata": {},
   "outputs": [
    {
     "data": {
      "text/latex": [
       "\\begin{equation*}e^{x} \\sin{\\left (x \\right )} + e^{x} \\cos{\\left (x \\right )}\\end{equation*}"
      ],
      "text/plain": [
       " x           x       \n",
       "ℯ ⋅sin(x) + ℯ ⋅cos(x)"
      ]
     },
     "execution_count": 11,
     "metadata": {},
     "output_type": "execute_result"
    }
   ],
   "source": [
    "diff(f(x), x)"
   ]
  },
  {
   "cell_type": "code",
   "execution_count": 12,
   "metadata": {
    "scrolled": true
   },
   "outputs": [],
   "source": [
    "# using PyCall\n",
    "# @pyimport sympy\n",
    "# @pyimport mpmath\n",
    "# @pyimport sys\n",
    "# sys.modules[\"sympy.mpmath\"] = mpmath"
   ]
  },
  {
   "cell_type": "code",
   "execution_count": 13,
   "metadata": {},
   "outputs": [],
   "source": [
    "# locals = PyDict(Dict(\n",
    "#     :x => sympy.symbols(\"x\"),\n",
    "#     :Integral => sympy.Integral,\n",
    "# :cos => sympy.cos,\n",
    "# :exp => sympy.exp\n",
    "# ))\n",
    "# PyCall.pyeval_(\"\"\"\n",
    "# Integral(cos(x)*exp(x), x)\n",
    "# \"\"\", locals, PyCall.Py_eval_input)"
   ]
  },
  {
   "cell_type": "code",
   "execution_count": null,
   "metadata": {},
   "outputs": [],
   "source": []
  }
 ],
 "metadata": {
  "kernelspec": {
   "display_name": "Julia 1.1.0",
   "language": "julia",
   "name": "julia-1.1"
  },
  "language_info": {
   "file_extension": ".jl",
   "mimetype": "application/julia",
   "name": "julia",
   "version": "1.1.0"
  }
 },
 "nbformat": 4,
 "nbformat_minor": 1
}
