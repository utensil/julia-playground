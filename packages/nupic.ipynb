{
 "cells": [
  {
   "cell_type": "code",
   "execution_count": 5,
   "metadata": {
    "collapsed": false
   },
   "outputs": [
    {
     "name": "stdout",
     "output_type": "stream",
     "text": [
      "Collecting nupic\n",
      "  Using cached nupic-0.5.2-py2-none-any.whl\n",
      "Collecting pytest-cov==1.6 (from nupic)\n",
      "Collecting numpy==1.9.2 (from nupic)\n",
      "  Using cached numpy-1.9.2-cp27-none-macosx_10_6_intel.macosx_10_9_intel.macosx_10_9_x86_64.macosx_10_10_intel.macosx_10_10_x86_64.whl\n",
      "Collecting coverage==3.7.1 (from nupic)\n",
      "Collecting pytest==2.5.1 (from nupic)\n",
      "Collecting psutil==1.0.1 (from nupic)\n",
      "Collecting prettytable==0.7.2 (from nupic)\n",
      "Collecting nupic.bindings==0.4.2 (from nupic)\n",
      "  Using cached nupic.bindings-0.4.2-cp27-none-macosx_10_9_intel.whl\n",
      "Collecting pyproj==1.9.3 (from nupic)\n",
      "Collecting validictory==0.9.1 (from nupic)\n",
      "Collecting unittest2==0.5.1 (from nupic)\n",
      "Collecting python-dateutil==2.1 (from nupic)\n",
      "Collecting pytest-xdist==1.8 (from nupic)\n",
      "Collecting DBUtils==1.1 (from nupic)\n",
      "Collecting PyYAML==3.10 (from nupic)\n",
      "Collecting asteval==0.9.1 (from nupic)\n",
      "Collecting mock==1.0.1 (from nupic)\n",
      "Collecting ordereddict==1.1 (from nupic)\n",
      "Collecting PyMySQL==0.6.2 (from nupic)\n",
      "  Using cached PyMySQL-0.6.2-py2.py3-none-any.whl\n",
      "Collecting cov-core>=1.6 (from pytest-cov==1.6->nupic)\n",
      "Collecting py>=1.4.19 (from pytest==2.5.1->nupic)\n",
      "  Using cached py-1.4.31-py2.py3-none-any.whl\n",
      "Collecting six (from python-dateutil==2.1->nupic)\n",
      "  Using cached six-1.10.0-py2.py3-none-any.whl\n",
      "Collecting execnet>=1.0.8 (from pytest-xdist==1.8->nupic)\n",
      "  Using cached execnet-1.4.1-py2.py3-none-any.whl\n",
      "Collecting apipkg>=1.4 (from execnet>=1.0.8->pytest-xdist==1.8->nupic)\n",
      "  Using cached apipkg-1.4-py2.py3-none-any.whl\n",
      "Installing collected packages: py, pytest, coverage, cov-core, pytest-cov, numpy, psutil, prettytable, apipkg, execnet, pytest-xdist, nupic.bindings, pyproj, validictory, unittest2, six, python-dateutil, DBUtils, PyYAML, asteval, mock, ordereddict, PyMySQL, nupic\n",
      "  Found existing installation: py 1.4.31\n",
      "    Uninstalling py-1.4.31:\n",
      "      Successfully uninstalled py-1.4.31\n",
      "  Found existing installation: pytest 2.5.1\n",
      "    Uninstalling pytest-2.5.1:\n",
      "      Successfully uninstalled pytest-2.5.1\n",
      "  Found existing installation: coverage 3.7.1\n",
      "    Uninstalling coverage-3.7.1:\n",
      "      Successfully uninstalled coverage-3.7.1\n",
      "  Found existing installation: cov-core 1.15.0\n",
      "    Uninstalling cov-core-1.15.0:\n",
      "      Successfully uninstalled cov-core-1.15.0\n",
      "  Found existing installation: pytest-cov 1.6\n",
      "    Uninstalling pytest-cov-1.6:\n",
      "      Successfully uninstalled pytest-cov-1.6\n",
      "  Found existing installation: numpy 1.9.2\n",
      "    Uninstalling numpy-1.9.2:\n",
      "      Successfully uninstalled numpy-1.9.2\n",
      "  Found existing installation: psutil 1.0.1\n",
      "    Uninstalling psutil-1.0.1:\n",
      "      Successfully uninstalled psutil-1.0.1\n",
      "  Found existing installation: prettytable 0.7.2\n",
      "    Uninstalling prettytable-0.7.2:\n",
      "      Successfully uninstalled prettytable-0.7.2\n",
      "  Found existing installation: apipkg 1.4\n",
      "    Uninstalling apipkg-1.4:\n",
      "      Successfully uninstalled apipkg-1.4\n",
      "  Found existing installation: execnet 1.4.1\n",
      "    Uninstalling execnet-1.4.1:\n",
      "      Successfully uninstalled execnet-1.4.1\n",
      "  Found existing installation: pytest-xdist 1.8\n",
      "    Uninstalling pytest-xdist-1.8:\n",
      "      Successfully uninstalled pytest-xdist-1.8\n",
      "  Found existing installation: nupic.bindings 0.4.2\n",
      "    Uninstalling nupic.bindings-0.4.2:\n",
      "      Successfully uninstalled nupic.bindings-0.4.2\n",
      "  Found existing installation: pyproj 1.9.3\n",
      "    Uninstalling pyproj-1.9.3:\n",
      "      Successfully uninstalled pyproj-1.9.3\n",
      "  Found existing installation: validictory 0.9.1\n",
      "    Uninstalling validictory-0.9.1:\n",
      "      Successfully uninstalled validictory-0.9.1\n",
      "  Found existing installation: unittest2 0.5.1\n",
      "    Uninstalling unittest2-0.5.1:\n",
      "      Successfully uninstalled unittest2-0.5.1\n",
      "  Found existing installation: six 1.10.0\n",
      "    Uninstalling six-1.10.0:\n",
      "      Successfully uninstalled six-1.10.0\n",
      "  Found existing installation: python-dateutil 2.1\n",
      "    Uninstalling python-dateutil-2.1:\n",
      "      Successfully uninstalled python-dateutil-2.1\n",
      "  Found existing installation: DBUtils 1.1\n",
      "    Uninstalling DBUtils-1.1:\n",
      "      Successfully uninstalled DBUtils-1.1\n",
      "  Found existing installation: PyYAML 3.10\n",
      "    Uninstalling PyYAML-3.10:\n",
      "      Successfully uninstalled PyYAML-3.10\n",
      "  Found existing installation: asteval 0.9.1\n",
      "    Uninstalling asteval-0.9.1:\n",
      "      Successfully uninstalled asteval-0.9.1\n",
      "  Found existing installation: mock 1.0.1\n",
      "    Uninstalling mock-1.0.1:\n",
      "      Successfully uninstalled mock-1.0.1\n",
      "  Found existing installation: ordereddict 1.1\n",
      "    Uninstalling ordereddict-1.1:\n",
      "      Successfully uninstalled ordereddict-1.1\n",
      "  Found existing installation: PyMySQL 0.6.2\n",
      "    Uninstalling PyMySQL-0.6.2:\n",
      "      Successfully uninstalled PyMySQL-0.6.2\n",
      "  Found existing installation: nupic 0.5.2\n",
      "    Uninstalling nupic-0.5.2:\n",
      "      Successfully uninstalled nupic-0.5.2\n",
      "Successfully installed DBUtils-1.1 PyMySQL-0.6.2 PyYAML-3.10 apipkg-1.4 asteval-0.9.1 cov-core-1.15.0 coverage-3.7.1 execnet-1.4.1 mock-1.0.1 numpy-1.9.2 nupic-0.5.2 nupic.bindings-0.4.2 ordereddict-1.1 prettytable-0.7.2 psutil-1.0.1 py-1.4.31 pyproj-1.9.3 pytest-2.5.1 pytest-cov-1.6 pytest-xdist-1.8 python-dateutil-2.1 six-1.10.0 unittest2-0.5.1 validictory-0.9.1\n"
     ]
    }
   ],
   "source": [
    "run(`pip install nupic --upgrade --force-reinstall`)"
   ]
  },
  {
   "cell_type": "code",
   "execution_count": 6,
   "metadata": {
    "collapsed": false
   },
   "outputs": [],
   "source": [
    "using PyCall\n",
    "@pyimport numpy\n",
    "@pyimport nupic"
   ]
  },
  {
   "cell_type": "code",
   "execution_count": 7,
   "metadata": {
    "collapsed": false
   },
   "outputs": [
    {
     "data": {
      "text/plain": [
       "Module"
      ]
     },
     "execution_count": 7,
     "metadata": {},
     "output_type": "execute_result"
    }
   ],
   "source": [
    "typeof(nupic)"
   ]
  },
  {
   "cell_type": "code",
   "execution_count": 8,
   "metadata": {
    "collapsed": false
   },
   "outputs": [
    {
     "name": "stderr",
     "output_type": "stream",
     "text": [
      "Fatal Python error: PyThreadState_Get: no current thread\n"
     ]
    },
    {
     "ename": "LoadError",
     "evalue": "LoadError: failed process: Process(`python -c 'import nupic.bindings.math'`, ProcessSignaled(6)) [0]\nwhile loading In[8], in expression starting on line 1",
     "output_type": "error",
     "traceback": [
      "LoadError: failed process: Process(`python -c 'import nupic.bindings.math'`, ProcessSignaled(6)) [0]\nwhile loading In[8], in expression starting on line 1",
      ""
     ]
    }
   ],
   "source": [
    "run(`python -c \"import nupic.bindings.math\"`)"
   ]
  },
  {
   "cell_type": "markdown",
   "metadata": {
    "collapsed": true
   },
   "source": [
    "https://github.com/numenta/nupic/issues/1813"
   ]
  },
  {
   "cell_type": "code",
   "execution_count": 9,
   "metadata": {
    "collapsed": false
   },
   "outputs": [
    {
     "name": "stdout",
     "output_type": "stream",
     "text": [
      "-lpython2.7 -ldl -framework CoreFoundation -u _PyMac_Error\n"
     ]
    }
   ],
   "source": [
    "run(`python-config --ldflags`)"
   ]
  },
  {
   "cell_type": "code",
   "execution_count": 10,
   "metadata": {
    "collapsed": true
   },
   "outputs": [],
   "source": [
    "@pyimport site"
   ]
  },
  {
   "cell_type": "code",
   "execution_count": 11,
   "metadata": {
    "collapsed": false
   },
   "outputs": [
    {
     "data": {
      "text/plain": [
       "2-element Array{Any,1}:\n",
       " \"/Users/utensil/miniconda2/lib/python2.7/site-packages\"\n",
       " \"/Users/utensil/miniconda2/lib/site-python\"            "
      ]
     },
     "execution_count": 11,
     "metadata": {},
     "output_type": "execute_result"
    }
   ],
   "source": [
    "site.getsitepackages()"
   ]
  },
  {
   "cell_type": "code",
   "execution_count": null,
   "metadata": {
    "collapsed": true
   },
   "outputs": [],
   "source": []
  }
 ],
 "metadata": {
  "kernelspec": {
   "display_name": "Julia 0.4.5",
   "language": "julia",
   "name": "julia-0.4"
  },
  "language_info": {
   "file_extension": ".jl",
   "mimetype": "application/julia",
   "name": "julia",
   "version": "0.4.5"
  }
 },
 "nbformat": 4,
 "nbformat_minor": 0
}
