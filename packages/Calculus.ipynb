{
 "cells": [
  {
   "cell_type": "markdown",
   "metadata": {},
   "source": [
    "Modified from http://www.johnmyleswhite.com/notebook/2013/01/07/symbolic-differentiation-in-julia/"
   ]
  },
  {
   "cell_type": "code",
   "execution_count": 1,
   "metadata": {
    "collapsed": false
   },
   "outputs": [
    {
     "data": {
      "text/plain": [
       ":(x + 1)"
      ]
     },
     "execution_count": 1,
     "metadata": {},
     "output_type": "execute_result"
    }
   ],
   "source": [
    "expr = :(x + 1)"
   ]
  },
  {
   "cell_type": "code",
   "execution_count": 2,
   "metadata": {
    "collapsed": false
   },
   "outputs": [
    {
     "data": {
      "text/plain": [
       "Expr"
      ]
     },
     "execution_count": 2,
     "metadata": {},
     "output_type": "execute_result"
    }
   ],
   "source": [
    "typeof(expr)"
   ]
  },
  {
   "cell_type": "code",
   "execution_count": 3,
   "metadata": {
    "collapsed": false
   },
   "outputs": [
    {
     "name": "stdout",
     "output_type": "stream",
     "text": [
      "Expr \n",
      "  head: Symbol call\n",
      "  args: Array(Any,(3,))\n",
      "    1: Symbol +\n",
      "    2: Symbol x\n",
      "    3: Int64 1\n",
      "  typ: Any\n"
     ]
    }
   ],
   "source": [
    "expr |> dump"
   ]
  },
  {
   "cell_type": "code",
   "execution_count": 4,
   "metadata": {
    "collapsed": false
   },
   "outputs": [
    {
     "data": {
      "text/latex": [
       "No documentation found.\n",
       "\\textbf{Summary:}\n",
       "\\begin{verbatim}\n",
       "type Expr <: Any\n",
       "\\end{verbatim}\n",
       "\\textbf{Fields:}\n",
       "\\begin{verbatim}\n",
       "head :: Symbol\n",
       "args :: Array{Any,1}\n",
       "typ  :: Any\n",
       "\\end{verbatim}\n"
      ],
      "text/markdown": [
       "No documentation found.\n",
       "\n",
       "**Summary:**\n",
       "\n",
       "```julia\n",
       "type Expr <: Any\n",
       "```\n",
       "\n",
       "**Fields:**\n",
       "\n",
       "```julia\n",
       "head :: Symbol\n",
       "args :: Array{Any,1}\n",
       "typ  :: Any\n",
       "```\n"
      ],
      "text/plain": [
       "No documentation found.\n",
       "\n",
       "**Summary:**\n",
       "\n",
       "```julia\n",
       "type Expr <: Any\n",
       "```\n",
       "\n",
       "**Fields:**\n",
       "\n",
       "```julia\n",
       "head :: Symbol\n",
       "args :: Array{Any,1}\n",
       "typ  :: Any\n",
       "```\n"
      ]
     },
     "execution_count": 4,
     "metadata": {},
     "output_type": "execute_result"
    }
   ],
   "source": [
    "@doc Expr"
   ]
  },
  {
   "cell_type": "code",
   "execution_count": 5,
   "metadata": {
    "collapsed": false
   },
   "outputs": [
    {
     "data": {
      "text/plain": [
       ":(1 + 1)"
      ]
     },
     "execution_count": 5,
     "metadata": {},
     "output_type": "execute_result"
    }
   ],
   "source": [
    "expr2 = Expr(:call, :+, 1, 1)"
   ]
  },
  {
   "cell_type": "code",
   "execution_count": 6,
   "metadata": {
    "collapsed": false
   },
   "outputs": [
    {
     "data": {
      "text/plain": [
       "2"
      ]
     },
     "execution_count": 6,
     "metadata": {},
     "output_type": "execute_result"
    }
   ],
   "source": [
    "expr2 |> eval"
   ]
  },
  {
   "cell_type": "code",
   "execution_count": 7,
   "metadata": {
    "collapsed": false
   },
   "outputs": [
    {
     "data": {
      "text/plain": [
       "differentiate (generic function with 1 method)"
      ]
     },
     "execution_count": 7,
     "metadata": {},
     "output_type": "execute_result"
    }
   ],
   "source": [
    "# Constant\n",
    "differentiate(x::Number, target::Symbol) = 0"
   ]
  },
  {
   "cell_type": "code",
   "execution_count": 8,
   "metadata": {
    "collapsed": false
   },
   "outputs": [
    {
     "data": {
      "text/plain": [
       "0"
      ]
     },
     "execution_count": 8,
     "metadata": {},
     "output_type": "execute_result"
    }
   ],
   "source": [
    "differentiate(5, :x)"
   ]
  },
  {
   "cell_type": "code",
   "execution_count": 9,
   "metadata": {
    "collapsed": false
   },
   "outputs": [
    {
     "data": {
      "text/plain": [
       "differentiate (generic function with 2 methods)"
      ]
     },
     "execution_count": 9,
     "metadata": {},
     "output_type": "execute_result"
    }
   ],
   "source": [
    "# Just one symbol\n",
    "function differentiate(s::Symbol, target::Symbol)\n",
    "    if s == target\n",
    "        return 1\n",
    "    else\n",
    "        return 0\n",
    "    end\n",
    "end"
   ]
  },
  {
   "cell_type": "code",
   "execution_count": 10,
   "metadata": {
    "collapsed": false
   },
   "outputs": [
    {
     "data": {
      "text/plain": [
       "1"
      ]
     },
     "execution_count": 10,
     "metadata": {},
     "output_type": "execute_result"
    }
   ],
   "source": [
    "differentiate(:x, :x)"
   ]
  },
  {
   "cell_type": "code",
   "execution_count": 11,
   "metadata": {
    "collapsed": false,
    "scrolled": true
   },
   "outputs": [
    {
     "data": {
      "text/plain": [
       "0"
      ]
     },
     "execution_count": 11,
     "metadata": {},
     "output_type": "execute_result"
    }
   ],
   "source": [
    "differentiate(:y, :x)"
   ]
  },
  {
   "cell_type": "code",
   "execution_count": 12,
   "metadata": {
    "collapsed": false
   },
   "outputs": [
    {
     "data": {
      "text/plain": [
       "differentiate_sum (generic function with 1 method)"
      ]
     },
     "execution_count": 12,
     "metadata": {},
     "output_type": "execute_result"
    }
   ],
   "source": [
    "# Sum\n",
    "function differentiate_sum(ex::Expr, target::Symbol)\n",
    "    #@printf \"diff[+]: %s\\n\" ex\n",
    "    n = length(ex.args)\n",
    "    new_args = Array(Any, n)\n",
    "    new_args[1] = :+\n",
    "    for i in 2:n\n",
    "        # @printf \"diff: %s\\n\" ex.args[i]\n",
    "        new_args[i] = differentiate(ex.args[i], target)\n",
    "    end\n",
    "    return Expr(:call, new_args...)\n",
    "end"
   ]
  },
  {
   "cell_type": "code",
   "execution_count": 13,
   "metadata": {
    "collapsed": false
   },
   "outputs": [
    {
     "data": {
      "text/plain": [
       ":(1 + 0)"
      ]
     },
     "execution_count": 13,
     "metadata": {},
     "output_type": "execute_result"
    }
   ],
   "source": [
    "differentiate_sum(:(x + y), :x)"
   ]
  },
  {
   "cell_type": "code",
   "execution_count": 14,
   "metadata": {
    "collapsed": false
   },
   "outputs": [
    {
     "data": {
      "text/plain": [
       "differentiate_subtraction (generic function with 1 method)"
      ]
     },
     "execution_count": 14,
     "metadata": {},
     "output_type": "execute_result"
    }
   ],
   "source": [
    "function differentiate_subtraction(ex::Expr, target::Symbol)\n",
    "    #@printf \"diff[-]: %s\\n\" ex\n",
    "    n = length(ex.args)\n",
    "    new_args = Array(Any, n)\n",
    "    new_args[1] = :-\n",
    "    for i in 2:n\n",
    "        new_args[i] = differentiate(ex.args[i], target)\n",
    "    end\n",
    "    return Expr(:call, new_args...)\n",
    "end"
   ]
  },
  {
   "cell_type": "code",
   "execution_count": 15,
   "metadata": {
    "collapsed": false
   },
   "outputs": [
    {
     "data": {
      "text/plain": [
       ":(1 - 0)"
      ]
     },
     "execution_count": 15,
     "metadata": {},
     "output_type": "execute_result"
    }
   ],
   "source": [
    "differentiate_subtraction(:(x - y), :x)"
   ]
  },
  {
   "cell_type": "code",
   "execution_count": 16,
   "metadata": {
    "collapsed": false
   },
   "outputs": [
    {
     "data": {
      "text/plain": [
       "differentiate_product (generic function with 1 method)"
      ]
     },
     "execution_count": 16,
     "metadata": {},
     "output_type": "execute_result"
    }
   ],
   "source": [
    "function differentiate_product(ex::Expr, target::Symbol)\n",
    "    #@printf \"diff[*]: %s\\n\" ex\n",
    "    n = length(ex.args)\n",
    "    res_args = Array(Any, n)\n",
    "    res_args[1] = :+\n",
    "    for i in 2:n\n",
    "       new_args = Array(Any, n)\n",
    "       new_args[1] = :*\n",
    "       for j in 2:n\n",
    "           if j == i\n",
    "               new_args[j] = differentiate(ex.args[j], target)\n",
    "           else\n",
    "               new_args[j] = ex.args[j]\n",
    "           end\n",
    "       end\n",
    "    # @printf \"*: %s\" new_args\n",
    "       res_args[i] = Expr(:call, new_args...)\n",
    "    end\n",
    "    return Expr(:call, res_args...)\n",
    "end"
   ]
  },
  {
   "cell_type": "code",
   "execution_count": 17,
   "metadata": {
    "collapsed": false
   },
   "outputs": [
    {
     "data": {
      "text/plain": [
       ":(1x + x * 1)"
      ]
     },
     "execution_count": 17,
     "metadata": {},
     "output_type": "execute_result"
    }
   ],
   "source": [
    "differentiate_product(:(x * x), :x)"
   ]
  },
  {
   "cell_type": "code",
   "execution_count": 18,
   "metadata": {
    "collapsed": false
   },
   "outputs": [
    {
     "data": {
      "text/plain": [
       "differentiate_quotient (generic function with 1 method)"
      ]
     },
     "execution_count": 18,
     "metadata": {},
     "output_type": "execute_result"
    }
   ],
   "source": [
    "function differentiate_quotient(ex::Expr, target::Symbol)\n",
    "    #@printf \"diff[/]: %s\\n\" ex\n",
    "    return Expr(:call,\n",
    "                :/,\n",
    "                Expr(:call,\n",
    "                    :-,\n",
    "                    Expr(:call,\n",
    "                        :*,\n",
    "                        differentiate(ex.args[2], target),\n",
    "                        ex.args[3]\n",
    "                    ),\n",
    "                    Expr(:call,\n",
    "                        :*,\n",
    "                        ex.args[2],\n",
    "                        differentiate(ex.args[3], target)\n",
    "                    )\n",
    "                ),\n",
    "                Expr(:call,\n",
    "                    :^,\n",
    "                    ex.args[3],\n",
    "                    2\n",
    "                )\n",
    "            )\n",
    "end"
   ]
  },
  {
   "cell_type": "code",
   "execution_count": 19,
   "metadata": {
    "collapsed": false
   },
   "outputs": [
    {
     "data": {
      "text/plain": [
       ":((0y - x * 1) / y ^ 2)"
      ]
     },
     "execution_count": 19,
     "metadata": {},
     "output_type": "execute_result"
    }
   ],
   "source": [
    "differentiate_quotient(:(x / y), :y)"
   ]
  },
  {
   "cell_type": "code",
   "execution_count": 20,
   "metadata": {
    "collapsed": false
   },
   "outputs": [
    {
     "data": {
      "text/plain": [
       "Dict{Symbol,Function} with 4 entries:\n",
       "  :/ => differentiate_quotient\n",
       "  :+ => differentiate_sum\n",
       "  :* => differentiate_product\n",
       "  :- => differentiate_subtraction"
      ]
     },
     "execution_count": 20,
     "metadata": {},
     "output_type": "execute_result"
    }
   ],
   "source": [
    "differentiate_lookup = Dict(\n",
    "  :+ => differentiate_sum,\n",
    "  :- => differentiate_subtraction,\n",
    "  :* => differentiate_product,\n",
    "  :/ => differentiate_quotient\n",
    ")"
   ]
  },
  {
   "cell_type": "code",
   "execution_count": 21,
   "metadata": {
    "collapsed": false
   },
   "outputs": [
    {
     "data": {
      "text/plain": [
       "differentiate (generic function with 3 methods)"
      ]
     },
     "execution_count": 21,
     "metadata": {},
     "output_type": "execute_result"
    }
   ],
   "source": [
    "function differentiate(ex::Expr, target::Symbol)\n",
    "    # @printf \"differentiate(%s):\\n\" ex\n",
    "    # dump(ex)\n",
    "    if ex.head == :call\n",
    "        if haskey(differentiate_lookup, ex.args[1])\n",
    "            f = differentiate_lookup[ex.args[1]]\n",
    "            @printf \"%s(%s, %s)\\n\" f ex target\n",
    "            ret = f(ex, target)\n",
    "            @printf \"=> %s\\n\" ret\n",
    "            return ret\n",
    "        else\n",
    "            error(\"Don't know how to differentiate $(ex.args[1])\")\n",
    "        end\n",
    "    else\n",
    "        error(\"ex.head != :call\")\n",
    "        # return differentiate(ex.head)\n",
    "    end\n",
    "end"
   ]
  },
  {
   "cell_type": "code",
   "execution_count": 22,
   "metadata": {
    "collapsed": false
   },
   "outputs": [
    {
     "name": "stdout",
     "output_type": "stream",
     "text": [
      "differentiate_product(x * x, x)\n",
      "=> 1x + x * 1\n"
     ]
    },
    {
     "data": {
      "text/plain": [
       ":(1x + x * 1)"
      ]
     },
     "execution_count": 22,
     "metadata": {},
     "output_type": "execute_result"
    }
   ],
   "source": [
    "differentiate(:(x * x), :x)"
   ]
  },
  {
   "cell_type": "code",
   "execution_count": 23,
   "metadata": {
    "collapsed": false
   },
   "outputs": [
    {
     "name": "stdout",
     "output_type": "stream",
     "text": [
      "differentiate_product((x + x) * x, x)\n",
      "differentiate_sum(x + x, x)\n",
      "=> 1 + 1\n",
      "=> 13090930648x + (x + x) * 1\n"
     ]
    },
    {
     "data": {
      "text/plain": [
       ":(13090930648x + (x + x) * 1)"
      ]
     },
     "execution_count": 23,
     "metadata": {},
     "output_type": "execute_result"
    }
   ],
   "source": [
    "differentiate(:((x + x) * x), :x)"
   ]
  },
  {
   "cell_type": "code",
   "execution_count": 24,
   "metadata": {
    "collapsed": false
   },
   "outputs": [
    {
     "name": "stdout",
     "output_type": "stream",
     "text": [
      "differentiate_sum(1 + x + x * x, x)\n",
      "differentiate_product(x * x, x)\n",
      "=> 1x + x * 1\n",
      "=> 0 + 1 + 13090930648\n"
     ]
    },
    {
     "data": {
      "text/plain": [
       ":(0 + 1 + 13090930648)"
      ]
     },
     "execution_count": 24,
     "metadata": {},
     "output_type": "execute_result"
    }
   ],
   "source": [
    "differentiate(:(1 + x + x * x), :x)"
   ]
  },
  {
   "cell_type": "code",
   "execution_count": 25,
   "metadata": {
    "collapsed": false
   },
   "outputs": [
    {
     "name": "stdout",
     "output_type": "stream",
     "text": [
      "differentiate_sum(1 + z + x * z + x * z * z, z)\n",
      "differentiate_product(x * z, z)\n",
      "=> 0z + x * 1\n",
      "differentiate_product(x * z * z, z)\n",
      "=> 0 * z * z + x * 1 * z + x * z * 1\n",
      "=> 0 + 1 + 13090930648 + 13090930648\n"
     ]
    },
    {
     "data": {
      "text/plain": [
       ":(0 + 1 + 13090930648 + 13090930648)"
      ]
     },
     "execution_count": 25,
     "metadata": {},
     "output_type": "execute_result"
    }
   ],
   "source": [
    "differentiate(:(1 + z + x * z + x * z * z), :z)"
   ]
  },
  {
   "cell_type": "code",
   "execution_count": 26,
   "metadata": {
    "collapsed": false
   },
   "outputs": [
    {
     "name": "stdout",
     "output_type": "stream",
     "text": [
      "differentiate_sum(1 + x + 1 / x + x * x, x)\n",
      "differentiate_quotient(1 / x, x)\n",
      "=> (0x - 1 * 1) / x ^ 2\n",
      "differentiate_product(x * x, x)\n",
      "=> 1x + x * 1\n",
      "=> 0 + 1 + 13090930648 + 13090930648\n"
     ]
    },
    {
     "data": {
      "text/plain": [
       ":(0 + 1 + 13090930648 + 13090930648)"
      ]
     },
     "execution_count": 26,
     "metadata": {},
     "output_type": "execute_result"
    }
   ],
   "source": [
    "differentiate(:(1 + x + 1 / x + x * x), :x)"
   ]
  },
  {
   "cell_type": "code",
   "execution_count": 27,
   "metadata": {
    "collapsed": false
   },
   "outputs": [],
   "source": [
    "# Pkg.add(\"Calculus\")"
   ]
  },
  {
   "cell_type": "code",
   "execution_count": 28,
   "metadata": {
    "collapsed": false
   },
   "outputs": [],
   "source": [
    "# import Calculus"
   ]
  },
  {
   "cell_type": "code",
   "execution_count": 29,
   "metadata": {
    "collapsed": false
   },
   "outputs": [
    {
     "data": {
      "text/plain": [
       "\"_____\""
      ]
     },
     "execution_count": 29,
     "metadata": {},
     "output_type": "execute_result"
    }
   ],
   "source": [
    "repeat(\"_\", 5)"
   ]
  },
  {
   "cell_type": "code",
   "execution_count": 36,
   "metadata": {
    "collapsed": false
   },
   "outputs": [
    {
     "data": {
      "text/plain": [
       ":($(Expr(:call)))"
      ]
     },
     "execution_count": 36,
     "metadata": {},
     "output_type": "execute_result"
    }
   ],
   "source": [
    "ex = Expr(:call)"
   ]
  },
  {
   "cell_type": "code",
   "execution_count": 37,
   "metadata": {
    "collapsed": false
   },
   "outputs": [
    {
     "data": {
      "text/plain": [
       "3-element Array{Any,1}:\n",
       "  :+\n",
       " 1  \n",
       " 1  "
      ]
     },
     "execution_count": 37,
     "metadata": {},
     "output_type": "execute_result"
    }
   ],
   "source": [
    "ex.args = [:+, 1, 1]"
   ]
  },
  {
   "cell_type": "code",
   "execution_count": 38,
   "metadata": {
    "collapsed": false
   },
   "outputs": [
    {
     "data": {
      "text/plain": [
       "Any"
      ]
     },
     "execution_count": 38,
     "metadata": {},
     "output_type": "execute_result"
    }
   ],
   "source": [
    "ex.typ = Any"
   ]
  },
  {
   "cell_type": "code",
   "execution_count": 39,
   "metadata": {
    "collapsed": false
   },
   "outputs": [
    {
     "name": "stdout",
     "output_type": "stream",
     "text": [
      "Expr \n",
      "  head: Symbol call\n",
      "  args: Array(Any,(3,))\n",
      "    1: Symbol +\n",
      "    2: Int64 1\n",
      "    3: Int64 1\n",
      "  typ: Any\n"
     ]
    }
   ],
   "source": [
    "ex |> dump"
   ]
  },
  {
   "cell_type": "code",
   "execution_count": 51,
   "metadata": {
    "collapsed": false
   },
   "outputs": [
    {
     "name": "stdout",
     "output_type": "stream",
     "text": [
      "differentiate_sum(x + x, x)\n",
      "=> 1 + 1\n",
      "differentiate_subtraction(x - x, x)\n",
      "=> 1 - 1\n",
      "differentiate_product(x * x, x)\n",
      "=> 1x + x * 1\n",
      "differentiate_quotient(x / x, x)\n",
      "=> (1x - x * 1) / x ^ 2\n"
     ]
    },
    {
     "data": {
      "text/plain": [
       ":((1 + 1) + ((1 - 1) + ((1x + x * 1) + ((1x - x * 1) / x ^ 2 + 5))))"
      ]
     },
     "execution_count": 51,
     "metadata": {},
     "output_type": "execute_result"
    }
   ],
   "source": [
    "arr1 = [:+, differentiate(:(x + x), :x)]\n",
    "arr2 = [:+, differentiate(:(x - x), :x)]\n",
    "arr3 = [:+, differentiate(:(x * x), :x)]\n",
    "arr4 = [:+, differentiate(:(x / x), :x)]\n",
    "ex5 = Expr(:call, arr1..., Expr(:call, arr2..., Expr(:call, arr3..., Expr(:call, arr4..., 5))))"
   ]
  },
  {
   "cell_type": "code",
   "execution_count": 52,
   "metadata": {
    "collapsed": false
   },
   "outputs": [
    {
     "name": "stdout",
     "output_type": "stream",
     "text": [
      "differentiate_sum((1 + 1) + ((1 - 1) + ((1x + x * 1) + ((1x - x * 1) / x ^ 2 + 5))), x)\n",
      "differentiate_sum(1 + 1, x)\n",
      "=> 0 + 0\n",
      "differentiate_sum((1 - 1) + ((1x + x * 1) + ((1x - x * 1) / x ^ 2 + 5)), x)\n",
      "differentiate_subtraction(1 - 1, x)\n",
      "=> 0 - 0\n",
      "differentiate_sum((1x + x * 1) + ((1x - x * 1) / x ^ 2 + 5), x)\n",
      "differentiate_sum(1x + x * 1, x)\n",
      "differentiate_product(1x, x)\n",
      "=> 0x + 1 * 1\n",
      "differentiate_product(x * 1, x)\n",
      "=> 1 * 1 + x * 0\n",
      "=> 13090930648 + 13090930648\n",
      "differentiate_sum((1x - x * 1) / x ^ 2 + 5, x)\n",
      "differentiate_quotient((1x - x * 1) / x ^ 2, x)\n",
      "differentiate_subtraction(1x - x * 1, x)\n",
      "differentiate_product(1x, x)\n",
      "=> 0x + 1 * 1\n",
      "differentiate_product(x * 1, x)\n",
      "=> 1 * 1 + x * 0\n",
      "=> 13090930648 - 13090930648\n"
     ]
    },
    {
     "ename": "LoadError",
     "evalue": "LoadError: Don't know how to differentiate ^\nwhile loading In[52], in expression starting on line 1",
     "output_type": "error",
     "traceback": [
      "LoadError: Don't know how to differentiate ^\nwhile loading In[52], in expression starting on line 1",
      "",
      " in error at /opt/homebrew-cask/Caskroom/julia/0.4.5/Julia-0.4.5.app/Contents/Resources/julia/lib/julia/sys.dylib",
      " in differentiate at In[21]:12",
      " in differentiate_quotient at In[18]:3",
      " in differentiate at In[21]:8",
      " in differentiate_sum at In[12]:9",
      " in differentiate at In[21]:8",
      " in differentiate_sum at In[12]:9",
      " in differentiate at In[21]:8",
      " in differentiate_sum at In[12]:9",
      " in differentiate at In[21]:8",
      " in differentiate_sum at In[12]:9",
      " in differentiate at In[21]:8"
     ]
    }
   ],
   "source": [
    "differentiate(ex5, :x)"
   ]
  },
  {
   "cell_type": "code",
   "execution_count": null,
   "metadata": {
    "collapsed": true
   },
   "outputs": [],
   "source": []
  }
 ],
 "metadata": {
  "kernelspec": {
   "display_name": "Julia 0.4.5",
   "language": "julia",
   "name": "julia-0.4"
  },
  "language_info": {
   "file_extension": ".jl",
   "mimetype": "application/julia",
   "name": "julia",
   "version": "0.4.5"
  }
 },
 "nbformat": 4,
 "nbformat_minor": 0
}
