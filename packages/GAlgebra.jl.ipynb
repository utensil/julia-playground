{
 "cells": [
  {
   "cell_type": "code",
   "execution_count": 1,
   "metadata": {},
   "outputs": [],
   "source": [
    "using SymPy"
   ]
  },
  {
   "cell_type": "code",
   "execution_count": 2,
   "metadata": {},
   "outputs": [
    {
     "data": {
      "text/plain": [
       "\"1.3\""
      ]
     },
     "execution_count": 2,
     "metadata": {},
     "output_type": "execute_result"
    }
   ],
   "source": [
    "SymPy.sympy.__version__"
   ]
  },
  {
   "cell_type": "code",
   "execution_count": 3,
   "metadata": {},
   "outputs": [],
   "source": [
    "using PyCall"
   ]
  },
  {
   "cell_type": "code",
   "execution_count": 4,
   "metadata": {},
   "outputs": [
    {
     "data": {
      "text/plain": [
       "PyObject <module 'galgebra.ga' from '/Users/utensil/projects/galgebra/galgebra/ga.py'>"
      ]
     },
     "execution_count": 4,
     "metadata": {},
     "output_type": "execute_result"
    }
   ],
   "source": [
    "const ga = PyCall.PyNULL()\n",
    "copy!(ga, PyCall.pyimport_conda(\"galgebra.ga\", \"galgebra\"))\n",
    "const mv = PyCall.PyNULL()\n",
    "copy!(mv, PyCall.pyimport_conda(\"galgebra.mv\", \"galgebra\"))\n",
    "const printer = PyCall.PyNULL()\n",
    "copy!(printer, PyCall.pyimport_conda(\"galgebra.printer\", \"galgebra\"))\n",
    "ga"
   ]
  },
  {
   "cell_type": "code",
   "execution_count": 5,
   "metadata": {},
   "outputs": [],
   "source": [
    "printer.Format()"
   ]
  },
  {
   "cell_type": "code",
   "execution_count": 6,
   "metadata": {},
   "outputs": [
    {
     "data": {
      "text/plain": [
       "9-element Array{Tuple{PyObject,Type},1}:\n",
       " (PyObject <class 'sympy.combinatorics.permutations.Permutation'>, SymPermutation)         \n",
       " (PyObject <class 'sympy.combinatorics.perm_groups.PermutationGroup'>, SymPermutationGroup)\n",
       " (PyObject <class 'sympy.polys.polytools.Poly'>, Sym)                                      \n",
       " (PyObject <class 'sympy.matrices.dense.MutableDenseMatrix'>, Array{Sym,N} where N)        \n",
       " (PyObject <class 'sympy.matrices.matrices.MatrixBase'>, Array{Sym,N} where N)             \n",
       " (PyObject <class 'sympy.core.basic.Basic'>, Sym)                                          \n",
       " (PyObject <class 'mpmath.ctx_mp_python.mpf'>, BigFloat)                                   \n",
       " (PyObject <class 'mpmath.ctx_mp_python.mpc'>, Complex{BigFloat})                          \n",
       " (PyObject <class 'galgebra.mv.Mv'>, Mv)                                                   "
      ]
     },
     "execution_count": 6,
     "metadata": {},
     "output_type": "execute_result"
    }
   ],
   "source": [
    "mutable struct Mv\n",
    "    o::PyCall.PyObject\n",
    "end\n",
    "\n",
    "Base.convert(::Type{Mv}, o::PyCall.PyObject) = Mv(o)\n",
    "\n",
    "pytype_mapping(mv.Mv, Mv)"
   ]
  },
  {
   "cell_type": "code",
   "execution_count": 7,
   "metadata": {},
   "outputs": [
    {
     "data": {
      "text/plain": [
       "@define_op (macro with 1 method)"
      ]
     },
     "execution_count": 7,
     "metadata": {},
     "output_type": "execute_result"
    }
   ],
   "source": [
    "macro define_op(type, op, method)\n",
    "    @eval begin\n",
    "        $op(x::$type, y::$type) = x.o.$method(y.o)\n",
    "    end\n",
    "end"
   ]
  },
  {
   "cell_type": "code",
   "execution_count": 8,
   "metadata": {},
   "outputs": [
    {
     "data": {
      "text/plain": [
       "@define_rop (macro with 1 method)"
      ]
     },
     "execution_count": 8,
     "metadata": {},
     "output_type": "execute_result"
    }
   ],
   "source": [
    "macro define_lop(type, rtype, op, lmethod)\n",
    "    @eval begin\n",
    "        $op(x::$type, y::$rtype) = x.o.$lmethod(y)\n",
    "    end\n",
    "end\n",
    "                \n",
    "macro define_rop(type, ltype, op, rmethod)\n",
    "    @eval begin\n",
    "        $op(x::$ltype, y::$type) = y.o.$rmethod(x)\n",
    "    end\n",
    "end"
   ]
  },
  {
   "cell_type": "code",
   "execution_count": 9,
   "metadata": {},
   "outputs": [
    {
     "data": {
      "text/plain": [
       "⊢ (generic function with 1 method)"
      ]
     },
     "execution_count": 9,
     "metadata": {},
     "output_type": "execute_result"
    }
   ],
   "source": [
    "import Base: +,-,*,/,^,==\n",
    "@define_op(Mv, +, __add__)\n",
    "@define_op(Mv, -, __sub__)\n",
    "# Geometric product: *\n",
    "@define_op(Mv, *, __mul__)\n",
    "@define_op(Mv, /, __div__)\n",
    "@define_op(Mv, ^, __pow__)\n",
    "@define_op(Mv, ==, __eq__)\n",
    "\n",
    "# Wedge product: \\wedge\n",
    "@define_op(Mv, ∧, __xor__)\n",
    "# Hestene's inner product: \\cdot\n",
    "@define_op(Mv, ⋅, __or__)\n",
    "# Left contraction: \\rfloor\n",
    "@define_op(Mv, <<, __lt__)\n",
    "@define_op(Mv, ⊣, __lt__)\n",
    "# Right contraction: \\lfloor\n",
    "@define_op(Mv, >>, __rt__)\n",
    "@define_op(Mv, ⊢, __rt__)"
   ]
  },
  {
   "cell_type": "code",
   "execution_count": 10,
   "metadata": {},
   "outputs": [
    {
     "data": {
      "text/plain": [
       "/ (generic function with 112 methods)"
      ]
     },
     "execution_count": 10,
     "metadata": {},
     "output_type": "execute_result"
    }
   ],
   "source": [
    "@define_lop(Mv, Sym, +, __add__)\n",
    "@define_rop(Mv, Sym, +, __radd__)\n",
    "@define_lop(Mv, Sym, -, __sub__)\n",
    "@define_rop(Mv, Sym, -, __rsub__)\n",
    "@define_lop(Mv, Sym, *, __mul__)\n",
    "@define_rop(Mv, Sym, *, __rmul__)\n",
    "@define_lop(Mv, Sym, /, __div__)\n",
    "@define_rop(Mv, Sym, /, __rdiv__)\n",
    "\n",
    "@define_lop(Mv, Number, +, __add__)\n",
    "@define_rop(Mv, Number, +, __radd__)\n",
    "@define_lop(Mv, Number, -, __sub__)\n",
    "@define_rop(Mv, Number, -, __rsub__)\n",
    "@define_lop(Mv, Number, *, __mul__)\n",
    "@define_rop(Mv, Number, *, __rmul__)\n",
    "@define_lop(Mv, Number, /, __div__)\n",
    "@define_rop(Mv, Number, /, __rdiv__)"
   ]
  },
  {
   "cell_type": "code",
   "execution_count": 11,
   "metadata": {},
   "outputs": [
    {
     "data": {
      "text/plain": [
       "- (generic function with 188 methods)"
      ]
     },
     "execution_count": 11,
     "metadata": {},
     "output_type": "execute_result"
    }
   ],
   "source": [
    "-(x::Mv) = x.o.__neg__()"
   ]
  },
  {
   "cell_type": "code",
   "execution_count": 12,
   "metadata": {},
   "outputs": [
    {
     "data": {
      "text/plain": [
       "PyObject <function vector at 0x134460840>"
      ]
     },
     "execution_count": 12,
     "metadata": {},
     "output_type": "execute_result"
    }
   ],
   "source": [
    "py\"\"\"\n",
    "def vector(ga, components):\n",
    "    bases = ga.mv()\n",
    "    return sum([components[i] * e for i, e in enumerate(bases)])\n",
    "\"\"\"\n",
    "const vector = py\"vector\""
   ]
  },
  {
   "cell_type": "code",
   "execution_count": 13,
   "metadata": {},
   "outputs": [
    {
     "data": {
      "text/plain": [
       "@define_show (macro with 1 method)"
      ]
     },
     "execution_count": 13,
     "metadata": {},
     "output_type": "execute_result"
    }
   ],
   "source": [
    "macro define_show(type)\n",
    "    @eval begin\n",
    "        Base.show(io::IO, x::$type) = print(io, pystr(x.o))\n",
    "        Base.show(io::IO, ::MIME\"text/plain\", x::$type) = print(io, pystr(x.o))\n",
    "        Base.show(io::IO, ::MIME\"text/latex\", x::$type) = print(io, \"\\\\begin{align*}\" * printer.latex(x.o) * \"\\\\end{align*}\")\n",
    "    end\n",
    "end"
   ]
  },
  {
   "cell_type": "code",
   "execution_count": 14,
   "metadata": {},
   "outputs": [],
   "source": [
    "@define_show(Mv)"
   ]
  },
  {
   "cell_type": "code",
   "execution_count": 15,
   "metadata": {},
   "outputs": [
    {
     "data": {
      "text/plain": [
       "(x, y, z)"
      ]
     },
     "execution_count": 15,
     "metadata": {},
     "output_type": "execute_result"
    }
   ],
   "source": [
    "(x, y, z) = xyz = symbols(\"x,y,z\",real=true)"
   ]
  },
  {
   "cell_type": "code",
   "execution_count": 16,
   "metadata": {},
   "outputs": [
    {
     "data": {
      "text/plain": [
       "(PyObject <galgebra.ga.Ga object at 0x1256866a0>,  \\boldsymbol{e}_{x},  \\boldsymbol{e}_{y},  \\boldsymbol{e}_{z})"
      ]
     },
     "execution_count": 16,
     "metadata": {},
     "output_type": "execute_result"
    }
   ],
   "source": [
    "(o3d, ex, ey, ez) = ga.Ga.build(\"e_x e_y e_z\", g=[1, 1, 1], coords=xyz)"
   ]
  },
  {
   "cell_type": "code",
   "execution_count": 17,
   "metadata": {
    "scrolled": true
   },
   "outputs": [
    {
     "data": {
      "text/latex": [
       "\\begin{align*} \\boldsymbol{e}_{x}\\end{align*}"
      ],
      "text/plain": [
       " \\boldsymbol{e}_{x}"
      ]
     },
     "execution_count": 17,
     "metadata": {},
     "output_type": "execute_result"
    }
   ],
   "source": [
    "ex"
   ]
  },
  {
   "cell_type": "code",
   "execution_count": 18,
   "metadata": {},
   "outputs": [
    {
     "data": {
      "text/latex": [
       "\\begin{align*} \\boldsymbol{e}_{y}\\end{align*}"
      ],
      "text/plain": [
       " \\boldsymbol{e}_{y}"
      ]
     },
     "execution_count": 18,
     "metadata": {},
     "output_type": "execute_result"
    }
   ],
   "source": [
    "ey"
   ]
  },
  {
   "cell_type": "code",
   "execution_count": 19,
   "metadata": {},
   "outputs": [
    {
     "data": {
      "text/latex": [
       "\\begin{align*} \\boldsymbol{e}_{z}\\end{align*}"
      ],
      "text/plain": [
       " \\boldsymbol{e}_{z}"
      ]
     },
     "execution_count": 19,
     "metadata": {},
     "output_type": "execute_result"
    }
   ],
   "source": [
    "ez"
   ]
  },
  {
   "cell_type": "code",
   "execution_count": 20,
   "metadata": {},
   "outputs": [
    {
     "data": {
      "text/plain": [
       "PyObject <galgebra.ga.Ga object at 0x1256866a0>"
      ]
     },
     "execution_count": 20,
     "metadata": {},
     "output_type": "execute_result"
    }
   ],
   "source": [
    "const V = o3d"
   ]
  },
  {
   "cell_type": "code",
   "execution_count": 21,
   "metadata": {},
   "outputs": [
    {
     "data": {
      "text/latex": [
       "\\begin{align*}w^{x} \\boldsymbol{e}_{x} + w^{y} \\boldsymbol{e}_{y} + w^{z} \\boldsymbol{e}_{z}\\end{align*}"
      ],
      "text/plain": [
       "w^{x} \\boldsymbol{e}_{x} + w^{y} \\boldsymbol{e}_{y} + w^{z} \\boldsymbol{e}_{z}"
      ]
     },
     "execution_count": 21,
     "metadata": {},
     "output_type": "execute_result"
    }
   ],
   "source": [
    "a = V.mv(\"a\", \"scalar\")\n",
    "b = V.mv(\"b\", \"scalar\")\n",
    "c = V.mv(\"c\", \"scalar\")\n",
    "d = V.mv(\"d\", \"scalar\")\n",
    "u = V.mv(\"u\", \"vector\")\n",
    "v = V.mv(\"v\", \"vector\")\n",
    "w = V.mv(\"w\", \"vector\")"
   ]
  },
  {
   "cell_type": "code",
   "execution_count": 22,
   "metadata": {},
   "outputs": [
    {
     "data": {
      "text/plain": [
       "true"
      ]
     },
     "execution_count": 22,
     "metadata": {},
     "output_type": "execute_result"
    }
   ],
   "source": [
    "v + w == w + v"
   ]
  },
  {
   "cell_type": "code",
   "execution_count": 23,
   "metadata": {},
   "outputs": [
    {
     "data": {
      "text/plain": [
       "true"
      ]
     },
     "execution_count": 23,
     "metadata": {},
     "output_type": "execute_result"
    }
   ],
   "source": [
    "(u + v) + w == u + (v + w)"
   ]
  },
  {
   "cell_type": "code",
   "execution_count": 24,
   "metadata": {},
   "outputs": [
    {
     "data": {
      "text/plain": [
       "true"
      ]
     },
     "execution_count": 24,
     "metadata": {},
     "output_type": "execute_result"
    }
   ],
   "source": [
    "v + Sym(0) == v"
   ]
  },
  {
   "cell_type": "code",
   "execution_count": 25,
   "metadata": {},
   "outputs": [
    {
     "data": {
      "text/latex": [
       "\\begin{align*} 0 \\end{align*}"
      ],
      "text/plain": [
       " 0 "
      ]
     },
     "execution_count": 25,
     "metadata": {},
     "output_type": "execute_result"
    }
   ],
   "source": [
    "# TODO Why can't == work?\n",
    "Sym(0) * v - Sym(0)"
   ]
  },
  {
   "cell_type": "code",
   "execution_count": 26,
   "metadata": {},
   "outputs": [
    {
     "data": {
      "text/plain": [
       "true"
      ]
     },
     "execution_count": 26,
     "metadata": {},
     "output_type": "execute_result"
    }
   ],
   "source": [
    "Sym(1) * v == v"
   ]
  },
  {
   "cell_type": "code",
   "execution_count": 27,
   "metadata": {},
   "outputs": [
    {
     "data": {
      "text/plain": [
       "true"
      ]
     },
     "execution_count": 27,
     "metadata": {},
     "output_type": "execute_result"
    }
   ],
   "source": [
    "a * (b * v) == (a * b) * v"
   ]
  },
  {
   "cell_type": "code",
   "execution_count": 28,
   "metadata": {},
   "outputs": [
    {
     "data": {
      "text/plain": [
       "true"
      ]
     },
     "execution_count": 28,
     "metadata": {},
     "output_type": "execute_result"
    }
   ],
   "source": [
    "a * (v + w) == a * v + a * w"
   ]
  },
  {
   "cell_type": "code",
   "execution_count": 29,
   "metadata": {},
   "outputs": [
    {
     "data": {
      "text/plain": [
       "true"
      ]
     },
     "execution_count": 29,
     "metadata": {},
     "output_type": "execute_result"
    }
   ],
   "source": [
    "(a + b) * v ==  a * v + b * v"
   ]
  },
  {
   "cell_type": "code",
   "execution_count": 30,
   "metadata": {},
   "outputs": [
    {
     "data": {
      "text/latex": [
       "\\begin{align*}5 \\boldsymbol{e}_{x} + 6 \\boldsymbol{e}_{y} + 7 \\boldsymbol{e}_{z}\\end{align*}"
      ],
      "text/plain": [
       "5 \\boldsymbol{e}_{x} + 6 \\boldsymbol{e}_{y} + 7 \\boldsymbol{e}_{z}"
      ]
     },
     "execution_count": 30,
     "metadata": {},
     "output_type": "execute_result"
    }
   ],
   "source": [
    "uu = vector(V, [1, 2, 3])\n",
    "vv = vector(V, [4, 5, 6])\n",
    "ww = vector(V, [5, 6, 7])"
   ]
  },
  {
   "cell_type": "code",
   "execution_count": 31,
   "metadata": {},
   "outputs": [
    {
     "data": {
      "text/latex": [
       "\\begin{align*}5 \\boldsymbol{e}_{x} + 7 \\boldsymbol{e}_{y} + 9 \\boldsymbol{e}_{z}\\end{align*}"
      ],
      "text/plain": [
       "5 \\boldsymbol{e}_{x} + 7 \\boldsymbol{e}_{y} + 9 \\boldsymbol{e}_{z}"
      ]
     },
     "execution_count": 31,
     "metadata": {},
     "output_type": "execute_result"
    }
   ],
   "source": [
    "uu + vv"
   ]
  },
  {
   "cell_type": "code",
   "execution_count": 32,
   "metadata": {},
   "outputs": [
    {
     "data": {
      "text/latex": [
       "\\begin{align*}17 \\boldsymbol{e}_{x} + 26 \\boldsymbol{e}_{y} + 35 \\boldsymbol{e}_{z}\\end{align*}"
      ],
      "text/plain": [
       "17 \\boldsymbol{e}_{x} + 26 \\boldsymbol{e}_{y} + 35 \\boldsymbol{e}_{z}"
      ]
     },
     "execution_count": 32,
     "metadata": {},
     "output_type": "execute_result"
    }
   ],
   "source": [
    "7 * uu + 2 * ww"
   ]
  },
  {
   "cell_type": "code",
   "execution_count": 33,
   "metadata": {},
   "outputs": [
    {
     "data": {
      "text/latex": [
       "\\begin{align*}-3 \\boldsymbol{e}_{x} + 2 \\boldsymbol{e}_{y} + 7 \\boldsymbol{e}_{z}\\end{align*}"
      ],
      "text/plain": [
       "-3 \\boldsymbol{e}_{x} + 2 \\boldsymbol{e}_{y} + 7 \\boldsymbol{e}_{z}"
      ]
     },
     "execution_count": 33,
     "metadata": {},
     "output_type": "execute_result"
    }
   ],
   "source": [
    "7 * uu - 2 * ww"
   ]
  },
  {
   "cell_type": "code",
   "execution_count": 34,
   "metadata": {},
   "outputs": [
    {
     "data": {
      "text/latex": [
       "\\begin{align*}16 \\boldsymbol{e}_{x} + 22 \\boldsymbol{e}_{y} + 28 \\boldsymbol{e}_{z}\\end{align*}"
      ],
      "text/plain": [
       "16 \\boldsymbol{e}_{x} + 22 \\boldsymbol{e}_{y} + 28 \\boldsymbol{e}_{z}"
      ]
     },
     "execution_count": 34,
     "metadata": {},
     "output_type": "execute_result"
    }
   ],
   "source": [
    "3 * uu + 2 * vv + ww"
   ]
  },
  {
   "cell_type": "code",
   "execution_count": 35,
   "metadata": {},
   "outputs": [
    {
     "data": {
      "text/latex": [
       "\\begin{align*} 0 \\end{align*}"
      ],
      "text/plain": [
       " 0 "
      ]
     },
     "execution_count": 35,
     "metadata": {},
     "output_type": "execute_result"
    }
   ],
   "source": [
    "v + ga.S(-1) * v"
   ]
  },
  {
   "cell_type": "code",
   "execution_count": 36,
   "metadata": {},
   "outputs": [
    {
     "data": {
      "text/latex": [
       "\\begin{align*} 0 \\end{align*}"
      ],
      "text/plain": [
       " 0 "
      ]
     },
     "execution_count": 36,
     "metadata": {},
     "output_type": "execute_result"
    }
   ],
   "source": [
    "v0 = vector(V, [0, 0, 0])"
   ]
  },
  {
   "cell_type": "code",
   "execution_count": 37,
   "metadata": {},
   "outputs": [
    {
     "data": {
      "text/plain": [
       "true"
      ]
     },
     "execution_count": 37,
     "metadata": {},
     "output_type": "execute_result"
    }
   ],
   "source": [
    "a * v0 == v0"
   ]
  },
  {
   "cell_type": "code",
   "execution_count": 38,
   "metadata": {},
   "outputs": [
    {
     "data": {
      "text/plain": [
       "true"
      ]
     },
     "execution_count": 38,
     "metadata": {},
     "output_type": "execute_result"
    }
   ],
   "source": [
    "(-a) * v == a * (-v)"
   ]
  },
  {
   "cell_type": "code",
   "execution_count": 39,
   "metadata": {},
   "outputs": [
    {
     "data": {
      "text/plain": [
       "true"
      ]
     },
     "execution_count": 39,
     "metadata": {},
     "output_type": "execute_result"
    }
   ],
   "source": [
    "(-a) * v == - a * v"
   ]
  },
  {
   "cell_type": "code",
   "execution_count": 40,
   "metadata": {},
   "outputs": [
    {
     "data": {
      "text/plain": [
       "1.4142135623730951"
      ]
     },
     "execution_count": 40,
     "metadata": {},
     "output_type": "execute_result"
    }
   ],
   "source": [
    "SymPy.sqrt(2)"
   ]
  },
  {
   "cell_type": "code",
   "execution_count": 41,
   "metadata": {},
   "outputs": [
    {
     "data": {
      "text/latex": [
       "\\begin{equation*}\\sqrt{2}\\end{equation*}"
      ],
      "text/plain": [
       "√2"
      ]
     },
     "execution_count": 41,
     "metadata": {},
     "output_type": "execute_result"
    }
   ],
   "source": [
    "SymPy.sqrt(Sym(2))"
   ]
  },
  {
   "cell_type": "code",
   "execution_count": 42,
   "metadata": {},
   "outputs": [
    {
     "data": {
      "text/plain": [
       "2//3"
      ]
     },
     "execution_count": 42,
     "metadata": {},
     "output_type": "execute_result"
    }
   ],
   "source": [
    "SymPy.Rational(2, 3)"
   ]
  },
  {
   "cell_type": "code",
   "execution_count": 43,
   "metadata": {},
   "outputs": [
    {
     "data": {
      "text/latex": [
       "\\begin{equation*}\\frac{2}{3}\\end{equation*}"
      ],
      "text/plain": [
       "\\frac{2}{3}"
      ]
     },
     "execution_count": 43,
     "metadata": {},
     "output_type": "execute_result"
    }
   ],
   "source": [
    "Sym(SymPy.Rational(2, 3))"
   ]
  },
  {
   "cell_type": "code",
   "execution_count": 44,
   "metadata": {},
   "outputs": [
    {
     "data": {
      "text/latex": [
       "\\begin{align*}\\left ( 1.4142135623731 u^{x} + 0.666666666666667 v^{x}\\right ) \\boldsymbol{e}_{x} + \\left ( 1.4142135623731 u^{y} + 0.666666666666667 v^{y}\\right ) \\boldsymbol{e}_{y} + \\left ( 1.4142135623731 u^{z} + 0.666666666666667 v^{z}\\right ) \\boldsymbol{e}_{z}\\end{align*}"
      ],
      "text/plain": [
       "\\left ( 1.4142135623731 u^{x} + 0.666666666666667 v^{x}\\right ) \\boldsymbol{e}_{x} + \\left ( 1.4142135623731 u^{y} + 0.666666666666667 v^{y}\\right ) \\boldsymbol{e}_{y} + \\left ( 1.4142135623731 u^{z} + 0.666666666666667 v^{z}\\right ) \\boldsymbol{e}_{z}"
      ]
     },
     "execution_count": 44,
     "metadata": {},
     "output_type": "execute_result"
    }
   ],
   "source": [
    "SymPy.sqrt(2) * u + SymPy.Rational(2, 3) * v"
   ]
  },
  {
   "cell_type": "code",
   "execution_count": 45,
   "metadata": {},
   "outputs": [
    {
     "data": {
      "text/latex": [
       "\\begin{align*}\\left ( \\sqrt{2} u^{x} + \\frac{2 v^{x}}{3}\\right ) \\boldsymbol{e}_{x} + \\left ( \\sqrt{2} u^{y} + \\frac{2 v^{y}}{3}\\right ) \\boldsymbol{e}_{y} + \\left ( \\sqrt{2} u^{z} + \\frac{2 v^{z}}{3}\\right ) \\boldsymbol{e}_{z}\\end{align*}"
      ],
      "text/plain": [
       "\\left ( \\sqrt{2} u^{x} + \\frac{2 v^{x}}{3}\\right ) \\boldsymbol{e}_{x} + \\left ( \\sqrt{2} u^{y} + \\frac{2 v^{y}}{3}\\right ) \\boldsymbol{e}_{y} + \\left ( \\sqrt{2} u^{z} + \\frac{2 v^{z}}{3}\\right ) \\boldsymbol{e}_{z}"
      ]
     },
     "execution_count": 45,
     "metadata": {},
     "output_type": "execute_result"
    }
   ],
   "source": [
    "SymPy.sqrt(Sym(2)) * u + Sym(SymPy.Rational(2, 3)) * v"
   ]
  },
  {
   "cell_type": "code",
   "execution_count": null,
   "metadata": {},
   "outputs": [],
   "source": []
  }
 ],
 "metadata": {
  "kernelspec": {
   "display_name": "Julia 1.1.0",
   "language": "julia",
   "name": "julia-1.1"
  },
  "language_info": {
   "file_extension": ".jl",
   "mimetype": "application/julia",
   "name": "julia",
   "version": "1.1.0"
  }
 },
 "nbformat": 4,
 "nbformat_minor": 2
}
