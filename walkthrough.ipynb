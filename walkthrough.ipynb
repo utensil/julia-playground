{
 "cells": [
  {
   "cell_type": "code",
   "execution_count": 1,
   "metadata": {
    "collapsed": false
   },
   "outputs": [
    {
     "name": "stdout",
     "output_type": "stream",
     "text": [
      "/Users/utensil/Library/Jupyter/runtime/kernel-28d6ca25-a548-4761-a6ed-7b0076c765b8.json\n"
     ]
    }
   ],
   "source": [
    "for x in ARGS; println(x); end"
   ]
  },
  {
   "cell_type": "code",
   "execution_count": 2,
   "metadata": {
    "collapsed": false
   },
   "outputs": [
    {
     "name": "stdout",
     "output_type": "stream",
     "text": [
      "Greetings! 你好! 안녕하세요?\n"
     ]
    }
   ],
   "source": [
    "println(\"Greetings! 你好! 안녕하세요?\")"
   ]
  },
  {
   "cell_type": "code",
   "execution_count": 3,
   "metadata": {
    "collapsed": false
   },
   "outputs": [
    {
     "name": "stdout",
     "output_type": "stream",
     "text": [
      "julia [switches] -- [programfile] [args...]\n",
      " -v, --version             Display version information\n",
      " -h, --help                Print this message\n",
      "\n",
      " -J, --sysimage <file>     Start up with the given system image file\n",
      " --precompiled={yes|no}    Use precompiled code from system image if available\n",
      " -H, --home <dir>          Set location of julia executable\n",
      " --startup-file={yes|no}   Load ~/.juliarc.jl\n",
      " -f, --no-startup          Don't load ~/.juliarc (deprecated, use --startup-file=no)\n",
      " -F                        Load ~/.juliarc (deprecated, use --startup-file=yes)\n",
      " --handle-signals={yes|no} Enable or disable Julia's default signal handlers\n",
      "\n",
      " -e, --eval <expr>         Evaluate <expr>\n",
      " -E, --print <expr>        Evaluate and show <expr>\n",
      " -P, --post-boot <expr>    Evaluate <expr>, but don't disable interactive mode (deprecated, use -i -e instead)\n",
      " -L, --load <file>         Load <file> immediately on all processors\n",
      "\n",
      " -p, --procs {N|auto}      Integer value N launches N additional local worker processes\n",
      "                           \"auto\" launches as many workers as the number of local cores\n",
      " --machinefile <file>      Run processes on hosts listed in <file>\n",
      "\n",
      " -i                        Interactive mode; REPL runs and isinteractive() is true\n",
      " -q, --quiet               Quiet startup (no banner)\n",
      " --color={yes|no}          Enable or disable color text\n",
      " --history-file={yes|no}   Load or save history\n",
      " --no-history-file         Don't load history file (deprecated, use --history-file=no)\n",
      "\n",
      " --compile={yes|no|all}    Enable or disable compiler, or request exhaustive compilation\n",
      " -C, --cpu-target <target> Limit usage of cpu features up to <target>\n",
      " -O, --optimize            Run time-intensive code optimizations\n",
      " --inline={yes|no}         Control whether inlining is permitted (overrides functions declared as @inline)\n",
      " --check-bounds={yes|no}   Emit bounds checks always or never (ignoring declarations)\n",
      " --math-mode={ieee,fast}   Disallow or enable unsafe floating point optimizations (overrides @fastmath declaration)\n",
      "\n",
      " --depwarn={yes|no|error}  Enable or disable syntax and method deprecation warnings (\"error\" turns warnings into errors)\n",
      "\n",
      " --output-o name           Generate an object file (including system image data)\n",
      " --output-ji name          Generate a system image data file (.ji)\n",
      " --output-bc name          Generate LLVM bitcode (.bc)\n",
      "\n",
      " --output-incremental=no   Generate an incremental output file (rather than complete)\n",
      "\n",
      " --code-coverage={none|user|all}, --code-coverage\n",
      "                           Count executions of source lines (omitting setting is equivalent to \"user\")\n",
      " --track-allocation={none|user|all}, --track-allocation\n",
      "                           Count bytes allocated by each source line\n"
     ]
    }
   ],
   "source": [
    "run(`julia --help`)"
   ]
  },
  {
   "cell_type": "code",
   "execution_count": 4,
   "metadata": {
    "collapsed": false
   },
   "outputs": [
    {
     "data": {
      "text/plain": [
       "\"idea\""
      ]
     },
     "execution_count": 4,
     "metadata": {},
     "output_type": "execute_result"
    }
   ],
   "source": [
    "理念=\"idea\""
   ]
  },
  {
   "cell_type": "code",
   "execution_count": 6,
   "metadata": {
    "collapsed": false
   },
   "outputs": [
    {
     "name": "stdout",
     "output_type": "stream",
     "text": [
      "idea\n"
     ]
    }
   ],
   "source": [
    "println(\"$理念\")"
   ]
  },
  {
   "cell_type": "code",
   "execution_count": 7,
   "metadata": {
    "collapsed": false
   },
   "outputs": [
    {
     "data": {
      "text/plain": [
       "π = 3.1415926535897..."
      ]
     },
     "execution_count": 7,
     "metadata": {},
     "output_type": "execute_result"
    }
   ],
   "source": [
    "π"
   ]
  },
  {
   "cell_type": "markdown",
   "metadata": {},
   "source": [
    "From __Variables: Stylistic Conventions__\n",
    "\n",
    "While Julia imposes few restrictions on valid names, it has become useful to adopt the following conventions:\n",
    "\n",
    "* Names of variables are in lower case.\n",
    "* Word separation can be indicated by underscores (`'_'`), but use of underscores is discouraged unless the name would be hard to read otherwise.\n",
    "* Names of `Type`s and `Module`s begin with a capital letter and word separation is shown with upper camel case instead of underscores.\n",
    "* Names of `function`s and `macro`s are in lower case, without underscores.\n",
    "* Functions that write to their arguments have names that end in `!`. These are sometimes called “mutating” or “in-place” functions because they are intended to produce changes in their arguments after the function is called, not just return a value."
   ]
  },
  {
   "cell_type": "code",
   "execution_count": 9,
   "metadata": {
    "collapsed": false
   },
   "outputs": [
    {
     "data": {
      "text/plain": [
       "64"
      ]
     },
     "execution_count": 9,
     "metadata": {},
     "output_type": "execute_result"
    }
   ],
   "source": [
    "WORD_SIZE"
   ]
  },
  {
   "cell_type": "code",
   "execution_count": 10,
   "metadata": {
    "collapsed": false
   },
   "outputs": [
    {
     "data": {
      "text/plain": [
       "UInt64"
      ]
     },
     "execution_count": 10,
     "metadata": {},
     "output_type": "execute_result"
    }
   ],
   "source": [
    "UInt"
   ]
  },
  {
   "cell_type": "code",
   "execution_count": 11,
   "metadata": {
    "collapsed": false
   },
   "outputs": [
    {
     "data": {
      "text/plain": [
       "Int64"
      ]
     },
     "execution_count": 11,
     "metadata": {},
     "output_type": "execute_result"
    }
   ],
   "source": [
    "typeof(WORD_SIZE)"
   ]
  },
  {
   "cell_type": "code",
   "execution_count": 12,
   "metadata": {
    "collapsed": false
   },
   "outputs": [
    {
     "data": {
      "text/plain": [
       "Irrational{:π}"
      ]
     },
     "execution_count": 12,
     "metadata": {},
     "output_type": "execute_result"
    }
   ],
   "source": [
    "typeof(π)"
   ]
  },
  {
   "cell_type": "code",
   "execution_count": 13,
   "metadata": {
    "collapsed": false
   },
   "outputs": [
    {
     "data": {
      "text/plain": [
       "0x02"
      ]
     },
     "execution_count": 13,
     "metadata": {},
     "output_type": "execute_result"
    }
   ],
   "source": [
    "0b10"
   ]
  },
  {
   "cell_type": "code",
   "execution_count": 14,
   "metadata": {
    "collapsed": false
   },
   "outputs": [
    {
     "data": {
      "text/plain": [
       "0x08"
      ]
     },
     "execution_count": 14,
     "metadata": {},
     "output_type": "execute_result"
    }
   ],
   "source": [
    "0o10"
   ]
  },
  {
   "cell_type": "code",
   "execution_count": 15,
   "metadata": {
    "collapsed": false
   },
   "outputs": [
    {
     "name": "stdout",
     "output_type": "stream",
     "text": [
      "   Int8: [-128,127]\n",
      "  Int16: [-32768,32767]\n",
      "  Int32: [-2147483648,2147483647]\n",
      "  Int64: [-9223372036854775808,9223372036854775807]\n",
      " Int128: [-170141183460469231731687303715884105728,170141183460469231731687303715884105727]\n",
      "  UInt8: [0,255]\n",
      " UInt16: [0,65535]\n",
      " UInt32: [0,4294967295]\n",
      " UInt64: [0,18446744073709551615]\n",
      "UInt128: [0,340282366920938463463374607431768211455]\n"
     ]
    }
   ],
   "source": [
    "for T in [Int8,Int16,Int32,Int64,Int128,UInt8,UInt16,UInt32,UInt64,UInt128]\n",
    "    println(\"$(lpad(T,7)): [$(typemin(T)),$(typemax(T))]\")\n",
    "end"
   ]
  },
  {
   "cell_type": "code",
   "execution_count": 17,
   "metadata": {
    "collapsed": false
   },
   "outputs": [
    {
     "data": {
      "text/plain": [
       "true"
      ]
     },
     "execution_count": 17,
     "metadata": {},
     "output_type": "execute_result"
    }
   ],
   "source": [
    "typemax(Int64) + 1 == typemin(Int64)"
   ]
  },
  {
   "cell_type": "code",
   "execution_count": 18,
   "metadata": {
    "collapsed": false
   },
   "outputs": [
    {
     "data": {
      "text/plain": [
       "true"
      ]
     },
     "execution_count": 18,
     "metadata": {},
     "output_type": "execute_result"
    }
   ],
   "source": [
    "typemax(UInt64) + 1 == typemin(UInt64)"
   ]
  },
  {
   "cell_type": "code",
   "execution_count": 19,
   "metadata": {
    "collapsed": false
   },
   "outputs": [
    {
     "ename": "LoadError",
     "evalue": "LoadError: DivideError: integer division error\nwhile loading In[19], in expression starting on line 1",
     "output_type": "error",
     "traceback": [
      "LoadError: DivideError: integer division error\nwhile loading In[19], in expression starting on line 1",
      "",
      " in div at /opt/homebrew-cask/Caskroom/julia/0.4.5/Julia-0.4.5.app/Contents/Resources/julia/lib/julia/sys.dylib"
     ]
    }
   ],
   "source": [
    "div(typemax(Int64), 0)"
   ]
  },
  {
   "cell_type": "code",
   "execution_count": 21,
   "metadata": {
    "collapsed": false
   },
   "outputs": [
    {
     "name": "stdout",
     "output_type": "stream",
     "text": [
      "-9223372036854775808"
     ]
    },
    {
     "ename": "LoadError",
     "evalue": "LoadError: DivideError: integer division error\nwhile loading In[21], in expression starting on line 2",
     "output_type": "error",
     "traceback": [
      "LoadError: DivideError: integer division error\nwhile loading In[21], in expression starting on line 2",
      "",
      " in div at /opt/homebrew-cask/Caskroom/julia/0.4.5/Julia-0.4.5.app/Contents/Resources/julia/lib/julia/sys.dylib"
     ]
    }
   ],
   "source": [
    "@printf \"%ld\" typemin(Int64)\n",
    "div(typemin(Int64), -1)"
   ]
  },
  {
   "cell_type": "code",
   "execution_count": 37,
   "metadata": {
    "collapsed": false
   },
   "outputs": [
    {
     "data": {
      "text/plain": [
       "true"
      ]
     },
     "execution_count": 37,
     "metadata": {},
     "output_type": "execute_result"
    }
   ],
   "source": [
    "0x.1p0 == (1.0/16.0)"
   ]
  },
  {
   "cell_type": "code",
   "execution_count": 43,
   "metadata": {
    "collapsed": false
   },
   "outputs": [
    {
     "data": {
      "text/plain": [
       "true"
      ]
     },
     "execution_count": 43,
     "metadata": {},
     "output_type": "execute_result"
    }
   ],
   "source": [
    "0x.1p1 == (1.0/16.0) * 2^1"
   ]
  },
  {
   "cell_type": "code",
   "execution_count": 44,
   "metadata": {
    "collapsed": false
   },
   "outputs": [
    {
     "data": {
      "text/plain": [
       "8"
      ]
     },
     "execution_count": 44,
     "metadata": {},
     "output_type": "execute_result"
    }
   ],
   "source": [
    "sizeof(0x.1p0)"
   ]
  },
  {
   "cell_type": "code",
   "execution_count": 45,
   "metadata": {
    "collapsed": false
   },
   "outputs": [
    {
     "data": {
      "text/plain": [
       "0.0"
      ]
     },
     "execution_count": 45,
     "metadata": {},
     "output_type": "execute_result"
    }
   ],
   "source": [
    "1/Inf"
   ]
  },
  {
   "cell_type": "code",
   "execution_count": 46,
   "metadata": {
    "collapsed": false
   },
   "outputs": [
    {
     "data": {
      "text/plain": [
       "8"
      ]
     },
     "execution_count": 46,
     "metadata": {},
     "output_type": "execute_result"
    }
   ],
   "source": [
    "sizeof(Inf)"
   ]
  },
  {
   "cell_type": "code",
   "execution_count": 47,
   "metadata": {
    "collapsed": false
   },
   "outputs": [
    {
     "data": {
      "text/plain": [
       "NaN"
      ]
     },
     "execution_count": 47,
     "metadata": {},
     "output_type": "execute_result"
    }
   ],
   "source": [
    "0/0"
   ]
  },
  {
   "cell_type": "code",
   "execution_count": 48,
   "metadata": {
    "collapsed": false
   },
   "outputs": [
    {
     "data": {
      "text/plain": [
       "Inf"
      ]
     },
     "execution_count": 48,
     "metadata": {},
     "output_type": "execute_result"
    }
   ],
   "source": [
    "2 * Inf"
   ]
  },
  {
   "cell_type": "code",
   "execution_count": 49,
   "metadata": {
    "collapsed": false
   },
   "outputs": [
    {
     "data": {
      "text/plain": [
       "Inf"
      ]
     },
     "execution_count": 49,
     "metadata": {},
     "output_type": "execute_result"
    }
   ],
   "source": [
    "Inf^Inf"
   ]
  },
  {
   "cell_type": "code",
   "execution_count": 51,
   "metadata": {
    "collapsed": false
   },
   "outputs": [
    {
     "data": {
      "text/plain": [
       "NaN"
      ]
     },
     "execution_count": 51,
     "metadata": {},
     "output_type": "execute_result"
    }
   ],
   "source": [
    "Inf / Inf"
   ]
  },
  {
   "cell_type": "code",
   "execution_count": 52,
   "metadata": {
    "collapsed": false
   },
   "outputs": [
    {
     "data": {
      "text/plain": [
       "NaN"
      ]
     },
     "execution_count": 52,
     "metadata": {},
     "output_type": "execute_result"
    }
   ],
   "source": [
    "0 * Inf"
   ]
  },
  {
   "cell_type": "code",
   "execution_count": 53,
   "metadata": {
    "collapsed": false
   },
   "outputs": [
    {
     "data": {
      "text/plain": [
       "(-Inf,Inf)"
      ]
     },
     "execution_count": 53,
     "metadata": {},
     "output_type": "execute_result"
    }
   ],
   "source": [
    "(typemin(Float64),typemax(Float64))"
   ]
  },
  {
   "cell_type": "code",
   "execution_count": 56,
   "metadata": {
    "collapsed": false
   },
   "outputs": [
    {
     "data": {
      "text/plain": [
       "(1.1920929f-7,2.220446049250313e-16,5.36870912e8)"
      ]
     },
     "execution_count": 56,
     "metadata": {},
     "output_type": "execute_result"
    }
   ],
   "source": [
    "eps(Float32),eps(Float64), eps(Float32) / eps(Float64)"
   ]
  },
  {
   "cell_type": "code",
   "execution_count": 57,
   "metadata": {
    "collapsed": false
   },
   "outputs": [
    {
     "ename": "LoadError",
     "evalue": "LoadError: MethodError: `nextfloat` has no method matching nextfloat(::Irrational{:π})\nwhile loading In[57], in expression starting on line 1",
     "output_type": "error",
     "traceback": [
      "LoadError: MethodError: `nextfloat` has no method matching nextfloat(::Irrational{:π})\nwhile loading In[57], in expression starting on line 1",
      ""
     ]
    }
   ],
   "source": [
    "nextfloat(π)"
   ]
  },
  {
   "cell_type": "code",
   "execution_count": 58,
   "metadata": {
    "collapsed": false
   },
   "outputs": [
    {
     "data": {
      "text/plain": [
       "3.1415926530000005"
      ]
     },
     "execution_count": 58,
     "metadata": {},
     "output_type": "execute_result"
    }
   ],
   "source": [
    "nextfloat(3.141592653)"
   ]
  },
  {
   "cell_type": "code",
   "execution_count": 59,
   "metadata": {
    "collapsed": false
   },
   "outputs": [
    {
     "data": {
      "text/plain": [
       "1.2000000000000002"
      ]
     },
     "execution_count": 59,
     "metadata": {},
     "output_type": "execute_result"
    }
   ],
   "source": [
    "1.1 + 0.1"
   ]
  },
  {
   "cell_type": "code",
   "execution_count": 60,
   "metadata": {
    "collapsed": false
   },
   "outputs": [
    {
     "data": {
      "text/plain": [
       "1.2"
      ]
     },
     "execution_count": 60,
     "metadata": {},
     "output_type": "execute_result"
    }
   ],
   "source": [
    "with_rounding(Float64,RoundDown) do\n",
    "    1.1 + 0.1\n",
    "end"
   ]
  },
  {
   "cell_type": "code",
   "execution_count": 61,
   "metadata": {
    "collapsed": false
   },
   "outputs": [
    {
     "data": {
      "text/plain": [
       "false"
      ]
     },
     "execution_count": 61,
     "metadata": {},
     "output_type": "execute_result"
    }
   ],
   "source": [
    "1.1 + 0.1 == with_rounding(Float64,RoundDown) do\n",
    "    1.1 + 0.1\n",
    "end"
   ]
  },
  {
   "cell_type": "code",
   "execution_count": 1,
   "metadata": {
    "collapsed": false
   },
   "outputs": [
    {
     "data": {
      "text/plain": [
       "113868781241213194875412146"
      ]
     },
     "execution_count": 1,
     "metadata": {},
     "output_type": "execute_result"
    }
   ],
   "source": [
    "BigInt(typemax(Int64))*BigInt(12345678)"
   ]
  },
  {
   "cell_type": "code",
   "execution_count": 2,
   "metadata": {
    "collapsed": false
   },
   "outputs": [
    {
     "data": {
      "text/plain": [
       "1.234567890123456789010000000000000000000000000000000000000000000000000000000004"
      ]
     },
     "execution_count": 2,
     "metadata": {},
     "output_type": "execute_result"
    }
   ],
   "source": [
    "parse(BigFloat, \"1.23456789012345678901\")"
   ]
  },
  {
   "cell_type": "code",
   "execution_count": 3,
   "metadata": {
    "collapsed": false
   },
   "outputs": [
    {
     "data": {
      "text/plain": [
       "3.141592653589793238462643383279502884197169399375105820974944592307816406286198"
      ]
     },
     "execution_count": 3,
     "metadata": {},
     "output_type": "execute_result"
    }
   ],
   "source": [
    "BigFloat(π)"
   ]
  },
  {
   "cell_type": "code",
   "execution_count": 7,
   "metadata": {
    "collapsed": false
   },
   "outputs": [
    {
     "data": {
      "text/plain": [
       "815915283247897734345611269596115894272000000000"
      ]
     },
     "execution_count": 7,
     "metadata": {},
     "output_type": "execute_result"
    }
   ],
   "source": [
    "factorial(BigInt(40))"
   ]
  },
  {
   "cell_type": "code",
   "execution_count": 8,
   "metadata": {
    "collapsed": false
   },
   "outputs": [
    {
     "data": {
      "text/latex": [
       "\\begin{verbatim}\n",
       "..  factorial(n,k)\n",
       "\n",
       "Compute ``factorial(n)/factorial(k)``\n",
       "\\end{verbatim}\n",
       "\\begin{verbatim}\n",
       "..  factorial(n)\n",
       "\n",
       "Factorial of ``n``.  If ``n`` is an :obj:`Integer`, the factorial\n",
       "is computed as an integer (promoted to at least 64 bits).  Note\n",
       "that this may overflow if ``n`` is not small, but you can use\n",
       "``factorial(big(n))`` to compute the result exactly in arbitrary\n",
       "precision.  If ``n`` is not an ``Integer``, ``factorial(n)`` is\n",
       "equivalent to :func:`gamma(n+1) <gamma>`.\n",
       "\\end{verbatim}\n"
      ],
      "text/markdown": [
       "```rst\n",
       "..  factorial(n,k)\n",
       "\n",
       "Compute ``factorial(n)/factorial(k)``\n",
       "```\n",
       "\n",
       "```rst\n",
       "..  factorial(n)\n",
       "\n",
       "Factorial of ``n``.  If ``n`` is an :obj:`Integer`, the factorial\n",
       "is computed as an integer (promoted to at least 64 bits).  Note\n",
       "that this may overflow if ``n`` is not small, but you can use\n",
       "``factorial(big(n))`` to compute the result exactly in arbitrary\n",
       "precision.  If ``n`` is not an ``Integer``, ``factorial(n)`` is\n",
       "equivalent to :func:`gamma(n+1) <gamma>`.\n",
       "```\n"
      ],
      "text/plain": [
       "```rst\n",
       "..  factorial(n,k)\n",
       "\n",
       "Compute ``factorial(n)/factorial(k)``\n",
       "```\n",
       "\n",
       "```rst\n",
       "..  factorial(n)\n",
       "\n",
       "Factorial of ``n``.  If ``n`` is an :obj:`Integer`, the factorial\n",
       "is computed as an integer (promoted to at least 64 bits).  Note\n",
       "that this may overflow if ``n`` is not small, but you can use\n",
       "``factorial(big(n))`` to compute the result exactly in arbitrary\n",
       "precision.  If ``n`` is not an ``Integer``, ``factorial(n)`` is\n",
       "equivalent to :func:`gamma(n+1) <gamma>`.\n",
       "```\n"
      ]
     },
     "execution_count": 8,
     "metadata": {},
     "output_type": "execute_result"
    }
   ],
   "source": [
    "@doc factorial"
   ]
  },
  {
   "cell_type": "code",
   "execution_count": 9,
   "metadata": {
    "collapsed": false
   },
   "outputs": [
    {
     "data": {
      "text/plain": [
       "3"
      ]
     },
     "execution_count": 9,
     "metadata": {},
     "output_type": "execute_result"
    }
   ],
   "source": [
    "x = 3"
   ]
  },
  {
   "cell_type": "code",
   "execution_count": 10,
   "metadata": {
    "collapsed": false
   },
   "outputs": [
    {
     "data": {
      "text/plain": [
       "10"
      ]
     },
     "execution_count": 10,
     "metadata": {},
     "output_type": "execute_result"
    }
   ],
   "source": [
    "2x^2 - 3x + 1"
   ]
  },
  {
   "cell_type": "code",
   "execution_count": 11,
   "metadata": {
    "collapsed": false
   },
   "outputs": [
    {
     "data": {
      "text/plain": [
       "13.0"
      ]
     },
     "execution_count": 11,
     "metadata": {},
     "output_type": "execute_result"
    }
   ],
   "source": [
    "1.5x^2 - .5x + 1"
   ]
  },
  {
   "cell_type": "code",
   "execution_count": 12,
   "metadata": {
    "collapsed": false
   },
   "outputs": [
    {
     "data": {
      "text/plain": [
       "64"
      ]
     },
     "execution_count": 12,
     "metadata": {},
     "output_type": "execute_result"
    }
   ],
   "source": [
    "2^2x"
   ]
  },
  {
   "cell_type": "code",
   "execution_count": 13,
   "metadata": {
    "collapsed": false
   },
   "outputs": [
    {
     "data": {
      "text/plain": [
       "12"
      ]
     },
     "execution_count": 13,
     "metadata": {},
     "output_type": "execute_result"
    }
   ],
   "source": [
    "(2^2)x"
   ]
  },
  {
   "cell_type": "code",
   "execution_count": 47,
   "metadata": {
    "collapsed": false
   },
   "outputs": [
    {
     "name": "stdout",
     "output_type": "stream",
     "text": [
      "Int8:\n",
      "\tzero:               \t0\n",
      "\tone:                \t1\n",
      "\ttypemin:            \t-128\n",
      "\ttypemax:            \t127\n",
      "Int16:\n",
      "\tzero:               \t0\n",
      "\tone:                \t1\n",
      "\ttypemin:            \t-32768\n",
      "\ttypemax:            \t32767\n",
      "Int32:\n",
      "\tzero:               \t0\n",
      "\tone:                \t1\n",
      "\ttypemin:            \t-2147483648\n",
      "\ttypemax:            \t2147483647\n",
      "Int64:\n",
      "\tzero:               \t0\n",
      "\tone:                \t1\n",
      "\ttypemin:            \t-9223372036854775808\n",
      "\ttypemax:            \t9223372036854775807\n",
      "Int128:\n",
      "\tzero:               \t0\n",
      "\tone:                \t1\n",
      "\ttypemin:            \t-170141183460469231731687303715884105728\n",
      "\ttypemax:            \t170141183460469231731687303715884105727\n",
      "UInt8:\n",
      "\tzero:               \t0\n",
      "\tone:                \t1\n",
      "\ttypemin:            \t0\n",
      "\ttypemax:            \t255\n",
      "UInt16:\n",
      "\tzero:               \t0\n",
      "\tone:                \t1\n",
      "\ttypemin:            \t0\n",
      "\ttypemax:            \t65535\n",
      "UInt32:\n",
      "\tzero:               \t0\n",
      "\tone:                \t1\n",
      "\ttypemin:            \t0\n",
      "\ttypemax:            \t4294967295\n",
      "UInt64:\n",
      "\tzero:               \t0\n",
      "\tone:                \t1\n",
      "\ttypemin:            \t0\n",
      "\ttypemax:            \t18446744073709551615\n",
      "UInt128:\n",
      "\tzero:               \t0\n",
      "\tone:                \t1\n",
      "\ttypemin:            \t0\n",
      "\ttypemax:            \t340282366920938463463374607431768211455\n",
      "BigInt:\n",
      "\tzero:               \t0\n",
      "\tone:                \t1\n",
      "Float16:\n",
      "\tzero:               \t0.0\n",
      "\tone:                \t1.0\n",
      "\ttypemin:            \t-Inf\n",
      "\ttypemax:            \tInf\n",
      "Float32:\n",
      "\tzero:               \t0.0\n",
      "\tone:                \t1.0\n",
      "\ttypemin:            \t-Inf\n",
      "\ttypemax:            \tInf\n",
      "Float64:\n",
      "\tzero:               \t0.0\n",
      "\tone:                \t1.0\n",
      "\ttypemin:            \t-Inf\n",
      "\ttypemax:            \tInf\n",
      "BigFloat:\n",
      "\tzero:               \t0.000000000000000000000000000000000000000000000000000000000000000000000000000000\n",
      "\tone:                \t1.000000000000000000000000000000000000000000000000000000000000000000000000000000\n",
      "\ttypemin:            \t-inf\n",
      "\ttypemax:            \tinf\n"
     ]
    }
   ],
   "source": [
    "print_type_info(T) = begin\n",
    "    const COLUME_WIDTH = 20\n",
    "    # TODO %s can't preserve literal\n",
    "    @printf \"%s:\\n\" T\n",
    "    @printf \"\\t%s\\t%s\\n\" rpad(\"zero:\",COLUME_WIDTH) zero(T)\n",
    "    @printf \"\\t%s\\t%s\\n\" rpad(\"one:\",COLUME_WIDTH) one(T)\n",
    "    try\n",
    "        @printf \"\\t%s\\t%s\\n\" rpad(\"typemin:\",COLUME_WIDTH) typemin(T)\n",
    "        @printf \"\\t%s\\t%s\\n\" rpad(\"typemax:\",COLUME_WIDTH) typemax(T)\n",
    "    catch e\n",
    "        # do nothing\n",
    "    end\n",
    "end\n",
    "    \n",
    "for t in [Int8,Int16,Int32,Int64,Int128,UInt8,UInt16,UInt32,UInt64,UInt128,BigInt]\n",
    "    print_type_info(t)\n",
    "end\n",
    "for t in [Float16,Float32,Float64,BigFloat]\n",
    "    print_type_info(t)\n",
    "end"
   ]
  },
  {
   "cell_type": "code",
   "execution_count": 48,
   "metadata": {
    "collapsed": false
   },
   "outputs": [
    {
     "data": {
      "text/plain": [
       "1.0f0"
      ]
     },
     "execution_count": 48,
     "metadata": {},
     "output_type": "execute_result"
    }
   ],
   "source": [
    "one(Float32)"
   ]
  },
  {
   "cell_type": "code",
   "execution_count": 50,
   "metadata": {
    "collapsed": false
   },
   "outputs": [
    {
     "data": {
      "text/plain": [
       "1.0"
      ]
     },
     "execution_count": 50,
     "metadata": {},
     "output_type": "execute_result"
    }
   ],
   "source": [
    "one(Float64)"
   ]
  },
  {
   "cell_type": "code",
   "execution_count": 51,
   "metadata": {
    "collapsed": false
   },
   "outputs": [
    {
     "data": {
      "text/plain": [
       "0.5"
      ]
     },
     "execution_count": 51,
     "metadata": {},
     "output_type": "execute_result"
    }
   ],
   "source": [
    "1 / 2"
   ]
  },
  {
   "cell_type": "code",
   "execution_count": 52,
   "metadata": {
    "collapsed": false
   },
   "outputs": [
    {
     "data": {
      "text/plain": [
       "Float64"
      ]
     },
     "execution_count": 52,
     "metadata": {},
     "output_type": "execute_result"
    }
   ],
   "source": [
    "typeof(1 / 2)"
   ]
  },
  {
   "cell_type": "code",
   "execution_count": 53,
   "metadata": {
    "collapsed": false
   },
   "outputs": [
    {
     "data": {
      "text/plain": [
       "0.5"
      ]
     },
     "execution_count": 53,
     "metadata": {},
     "output_type": "execute_result"
    }
   ],
   "source": [
    "2 \\ 1"
   ]
  },
  {
   "cell_type": "code",
   "execution_count": 54,
   "metadata": {
    "collapsed": false
   },
   "outputs": [
    {
     "data": {
      "text/plain": [
       "1"
      ]
     },
     "execution_count": 54,
     "metadata": {},
     "output_type": "execute_result"
    }
   ],
   "source": [
    "100 % 33"
   ]
  },
  {
   "cell_type": "code",
   "execution_count": 58,
   "metadata": {
    "collapsed": false
   },
   "outputs": [
    {
     "data": {
      "text/plain": [
       "\"0101010101010101\""
      ]
     },
     "execution_count": 58,
     "metadata": {},
     "output_type": "execute_result"
    }
   ],
   "source": [
    "bits(~0b1010101010101010)"
   ]
  },
  {
   "cell_type": "code",
   "execution_count": 59,
   "metadata": {
    "collapsed": false
   },
   "outputs": [
    {
     "data": {
      "text/plain": [
       "\"00000010\""
      ]
     },
     "execution_count": 59,
     "metadata": {},
     "output_type": "execute_result"
    }
   ],
   "source": [
    "bits(0b11 & 0b10)"
   ]
  },
  {
   "cell_type": "code",
   "execution_count": 60,
   "metadata": {
    "collapsed": false
   },
   "outputs": [
    {
     "data": {
      "text/plain": [
       "\"00000011\""
      ]
     },
     "execution_count": 60,
     "metadata": {},
     "output_type": "execute_result"
    }
   ],
   "source": [
    "bits(0b11 | 0b10)"
   ]
  },
  {
   "cell_type": "code",
   "execution_count": 63,
   "metadata": {
    "collapsed": false
   },
   "outputs": [
    {
     "data": {
      "text/plain": [
       "\"00000110\""
      ]
     },
     "execution_count": 63,
     "metadata": {},
     "output_type": "execute_result"
    }
   ],
   "source": [
    "bits(0b1010 $ 0b1100) # xor"
   ]
  },
  {
   "cell_type": "code",
   "execution_count": 65,
   "metadata": {
    "collapsed": false
   },
   "outputs": [
    {
     "data": {
      "text/plain": [
       "true"
      ]
     },
     "execution_count": 65,
     "metadata": {},
     "output_type": "execute_result"
    }
   ],
   "source": [
    "1 >> 2 == 1 >>> 2 # TODO what's the difference?"
   ]
  },
  {
   "cell_type": "code",
   "execution_count": 66,
   "metadata": {
    "collapsed": false
   },
   "outputs": [
    {
     "data": {
      "text/plain": [
       "true"
      ]
     },
     "execution_count": 66,
     "metadata": {},
     "output_type": "execute_result"
    }
   ],
   "source": [
    "isequal(1 >> 2, 1 >>> 2)"
   ]
  },
  {
   "cell_type": "code",
   "execution_count": 67,
   "metadata": {
    "collapsed": false
   },
   "outputs": [
    {
     "data": {
      "text/plain": [
       "true"
      ]
     },
     "execution_count": 67,
     "metadata": {},
     "output_type": "execute_result"
    }
   ],
   "source": [
    "1 < 2 <= 2 < 3 == 3 > 2 >= 1 == 1 < 3 != 5"
   ]
  },
  {
   "cell_type": "code",
   "execution_count": 68,
   "metadata": {
    "collapsed": false
   },
   "outputs": [
    {
     "data": {
      "text/plain": [
       "3.1415927f0"
      ]
     },
     "execution_count": 68,
     "metadata": {},
     "output_type": "execute_result"
    }
   ],
   "source": [
    "Float32(π)"
   ]
  },
  {
   "cell_type": "code",
   "execution_count": 69,
   "metadata": {
    "collapsed": false
   },
   "outputs": [
    {
     "data": {
      "text/plain": [
       "3.141592653589793"
      ]
     },
     "execution_count": 69,
     "metadata": {},
     "output_type": "execute_result"
    }
   ],
   "source": [
    "Float64(π)"
   ]
  },
  {
   "cell_type": "code",
   "execution_count": 71,
   "metadata": {
    "collapsed": false
   },
   "outputs": [
    {
     "data": {
      "text/plain": [
       "true"
      ]
     },
     "execution_count": 71,
     "metadata": {},
     "output_type": "execute_result"
    }
   ],
   "source": [
    "cos(1 + 2im) == cos(complex(1, 2))"
   ]
  },
  {
   "cell_type": "code",
   "execution_count": 72,
   "metadata": {
    "collapsed": false
   },
   "outputs": [
    {
     "data": {
      "text/plain": [
       "Inf + NaN*im"
      ]
     },
     "execution_count": 72,
     "metadata": {},
     "output_type": "execute_result"
    }
   ],
   "source": [
    "complex(Inf, NaN)"
   ]
  },
  {
   "cell_type": "code",
   "execution_count": 73,
   "metadata": {
    "collapsed": false
   },
   "outputs": [
    {
     "data": {
      "text/plain": [
       "Rational{Int64}"
      ]
     },
     "execution_count": 73,
     "metadata": {},
     "output_type": "execute_result"
    }
   ],
   "source": [
    "typeof(2//3)"
   ]
  },
  {
   "cell_type": "code",
   "execution_count": 74,
   "metadata": {
    "collapsed": false
   },
   "outputs": [
    {
     "data": {
      "text/plain": [
       "true"
      ]
     },
     "execution_count": 74,
     "metadata": {},
     "output_type": "execute_result"
    }
   ],
   "source": [
    "0.33 < 1//3"
   ]
  },
  {
   "cell_type": "code",
   "execution_count": 75,
   "metadata": {
    "collapsed": false
   },
   "outputs": [
    {
     "data": {
      "text/plain": [
       "\"Hello, world.\\n\""
      ]
     },
     "execution_count": 75,
     "metadata": {},
     "output_type": "execute_result"
    }
   ],
   "source": [
    "str = \"Hello, world.\\n\""
   ]
  },
  {
   "cell_type": "code",
   "execution_count": 76,
   "metadata": {
    "collapsed": false
   },
   "outputs": [
    {
     "data": {
      "text/plain": [
       "'\\n'"
      ]
     },
     "execution_count": 76,
     "metadata": {},
     "output_type": "execute_result"
    }
   ],
   "source": [
    "str[end]"
   ]
  },
  {
   "cell_type": "code",
   "execution_count": 77,
   "metadata": {
    "collapsed": false
   },
   "outputs": [
    {
     "data": {
      "text/plain": [
       "' '"
      ]
     },
     "execution_count": 77,
     "metadata": {},
     "output_type": "execute_result"
    }
   ],
   "source": [
    "str[end÷2]"
   ]
  },
  {
   "cell_type": "code",
   "execution_count": 78,
   "metadata": {
    "collapsed": false
   },
   "outputs": [
    {
     "data": {
      "text/plain": [
       "'l'"
      ]
     },
     "execution_count": 78,
     "metadata": {},
     "output_type": "execute_result"
    }
   ],
   "source": [
    "str[end÷3]"
   ]
  },
  {
   "cell_type": "code",
   "execution_count": 79,
   "metadata": {
    "collapsed": false
   },
   "outputs": [
    {
     "data": {
      "text/plain": [
       "\"lo, \""
      ]
     },
     "execution_count": 79,
     "metadata": {},
     "output_type": "execute_result"
    }
   ],
   "source": [
    "str[end÷3:end÷2]"
   ]
  },
  {
   "cell_type": "code",
   "execution_count": 80,
   "metadata": {
    "collapsed": false
   },
   "outputs": [
    {
     "data": {
      "text/plain": [
       "\"∀ x ∃ y\""
      ]
     },
     "execution_count": 80,
     "metadata": {},
     "output_type": "execute_result"
    }
   ],
   "source": [
    "s = \"\\u2200 x \\u2203 y\""
   ]
  },
  {
   "cell_type": "code",
   "execution_count": 81,
   "metadata": {
    "collapsed": false
   },
   "outputs": [
    {
     "name": "stdout",
     "output_type": "stream",
     "text": [
      "∀\n",
      " \n",
      "x\n",
      " \n",
      "∃\n",
      " \n",
      "y\n"
     ]
    }
   ],
   "source": [
    "for i = 1:endof(s)\n",
    "    try\n",
    "        println(s[i])\n",
    "    catch\n",
    "        # ignore the index error\n",
    "    end\n",
    "end"
   ]
  },
  {
   "cell_type": "code",
   "execution_count": 82,
   "metadata": {
    "collapsed": false
   },
   "outputs": [
    {
     "name": "stdout",
     "output_type": "stream",
     "text": [
      "∀\n",
      " \n",
      "x\n",
      " \n",
      "∃\n",
      " \n",
      "y\n"
     ]
    }
   ],
   "source": [
    "for c in s\n",
    "    println(c)\n",
    "end"
   ]
  },
  {
   "cell_type": "code",
   "execution_count": 85,
   "metadata": {
    "collapsed": false
   },
   "outputs": [
    {
     "data": {
      "text/plain": [
       "true"
      ]
     },
     "execution_count": 85,
     "metadata": {},
     "output_type": "execute_result"
    }
   ],
   "source": [
    "language=\"Julia\"\n",
    "\"Hello $language\\!\" == string(\"Hello \", language, \"!\")"
   ]
  },
  {
   "cell_type": "code",
   "execution_count": 86,
   "metadata": {
    "collapsed": false
   },
   "outputs": [
    {
     "data": {
      "text/plain": [
       "\"1 + 2 = 3\""
      ]
     },
     "execution_count": 86,
     "metadata": {},
     "output_type": "execute_result"
    }
   ],
   "source": [
    "\"1 + 2 = $(1 + 2)\""
   ]
  },
  {
   "cell_type": "code",
   "execution_count": 88,
   "metadata": {
    "collapsed": false
   },
   "outputs": [
    {
     "data": {
      "text/plain": [
       "\"  Hello,\\n  Julia.\\n\""
      ]
     },
     "execution_count": 88,
     "metadata": {},
     "output_type": "execute_result"
    }
   ],
   "source": [
    "str = \"\"\"\n",
    "   Hello,\n",
    "   $language.\n",
    " \"\"\""
   ]
  },
  {
   "cell_type": "code",
   "execution_count": 1,
   "metadata": {
    "collapsed": false
   },
   "outputs": [
    {
     "name": "stdout",
     "output_type": "stream",
     "text": [
      "4\n",
      "7\n",
      "0\n"
     ]
    }
   ],
   "source": [
    "last_index = -1\n",
    "while last_index != 0\n",
    "    last_index = last_index < 0 ? search(\"xylophone\", 'o') : search(\"xylophone\", 'o', last_index + 1)\n",
    "    @printf \"%d\\n\" last_index\n",
    "end"
   ]
  },
  {
   "cell_type": "code",
   "execution_count": 2,
   "metadata": {
    "collapsed": false
   },
   "outputs": [
    {
     "data": {
      "text/plain": [
       "\".:Z:..:Z:..:Z:..:Z:..:Z:..:Z:..:Z:..:Z:..:Z:..:Z:.\""
      ]
     },
     "execution_count": 2,
     "metadata": {},
     "output_type": "execute_result"
    }
   ],
   "source": [
    "repeat(\".:Z:.\", 10)"
   ]
  },
  {
   "cell_type": "code",
   "execution_count": 4,
   "metadata": {
    "collapsed": false
   },
   "outputs": [
    {
     "data": {
      "text/plain": [
       "\"apples, bananas, pear and pineapples\""
      ]
     },
     "execution_count": 4,
     "metadata": {},
     "output_type": "execute_result"
    }
   ],
   "source": [
    "join([\"apples\", \"bananas\", \"pear\", \"pineapples\"], \", \", \" and \")"
   ]
  },
  {
   "cell_type": "code",
   "execution_count": 8,
   "metadata": {
    "collapsed": false
   },
   "outputs": [
    {
     "data": {
      "text/plain": [
       "r\"^\\s*(?:#|$)\""
      ]
     },
     "execution_count": 8,
     "metadata": {},
     "output_type": "execute_result"
    }
   ],
   "source": [
    "regex = r\"^\\s*(?:#|$)\""
   ]
  },
  {
   "cell_type": "code",
   "execution_count": 9,
   "metadata": {
    "collapsed": false
   },
   "outputs": [
    {
     "data": {
      "text/plain": [
       "false"
      ]
     },
     "execution_count": 9,
     "metadata": {},
     "output_type": "execute_result"
    }
   ],
   "source": [
    "ismatch(regex, \"not a comment\")"
   ]
  },
  {
   "cell_type": "code",
   "execution_count": 10,
   "metadata": {
    "collapsed": false
   },
   "outputs": [
    {
     "data": {
      "text/plain": [
       "true"
      ]
     },
     "execution_count": 10,
     "metadata": {},
     "output_type": "execute_result"
    }
   ],
   "source": [
    "ismatch(regex, \"# a comment\")"
   ]
  },
  {
   "cell_type": "code",
   "execution_count": 11,
   "metadata": {
    "collapsed": false
   },
   "outputs": [
    {
     "data": {
      "text/plain": [
       "Regex"
      ]
     },
     "execution_count": 11,
     "metadata": {},
     "output_type": "execute_result"
    }
   ],
   "source": [
    "typeof(regex)"
   ]
  },
  {
   "cell_type": "code",
   "execution_count": 14,
   "metadata": {
    "collapsed": false
   },
   "outputs": [
    {
     "data": {
      "text/plain": [
       "RegexMatch(\"# a comment\", 1=\"a comment\")"
      ]
     },
     "execution_count": 14,
     "metadata": {},
     "output_type": "execute_result"
    }
   ],
   "source": [
    "m = match(r\"^\\s*(?:#\\s*(.*?)\\s*$|$)\", \"# a comment\")"
   ]
  },
  {
   "cell_type": "code",
   "execution_count": 15,
   "metadata": {
    "collapsed": false
   },
   "outputs": [
    {
     "data": {
      "text/plain": [
       "\"a comment\""
      ]
     },
     "execution_count": 15,
     "metadata": {},
     "output_type": "execute_result"
    }
   ],
   "source": [
    "m[1]"
   ]
  },
  {
   "cell_type": "code",
   "execution_count": 16,
   "metadata": {
    "collapsed": false
   },
   "outputs": [
    {
     "data": {
      "text/plain": [
       "\"# a comment\""
      ]
     },
     "execution_count": 16,
     "metadata": {},
     "output_type": "execute_result"
    }
   ],
   "source": [
    "m.match"
   ]
  },
  {
   "cell_type": "code",
   "execution_count": 17,
   "metadata": {
    "collapsed": false
   },
   "outputs": [
    {
     "data": {
      "text/plain": [
       "1-element Array{Union{SubString{UTF8String},Void},1}:\n",
       " \"a comment\""
      ]
     },
     "execution_count": 17,
     "metadata": {},
     "output_type": "execute_result"
    }
   ],
   "source": [
    "m.captures"
   ]
  },
  {
   "cell_type": "code",
   "execution_count": 18,
   "metadata": {
    "collapsed": false
   },
   "outputs": [
    {
     "data": {
      "text/plain": [
       "1-element Array{Int64,1}:\n",
       " 3"
      ]
     },
     "execution_count": 18,
     "metadata": {},
     "output_type": "execute_result"
    }
   ],
   "source": [
    "m.offsets"
   ]
  },
  {
   "cell_type": "code",
   "execution_count": 27,
   "metadata": {
    "collapsed": false
   },
   "outputs": [
    {
     "data": {
      "text/plain": [
       "\"second first third\""
      ]
     },
     "execution_count": 27,
     "metadata": {},
     "output_type": "execute_result"
    }
   ],
   "source": [
    "replace(\"first second third\", r\"^(\\w+) (?P<agroup>\\w+)\", s\"\\g<agroup> \\1\")"
   ]
  },
  {
   "cell_type": "code",
   "execution_count": 28,
   "metadata": {
    "collapsed": false
   },
   "outputs": [
    {
     "data": {
      "text/plain": [
       "\"first third second\""
      ]
     },
     "execution_count": 28,
     "metadata": {},
     "output_type": "execute_result"
    }
   ],
   "source": [
    "replace(\"first second third\", r\"(\\w+) (?P<agroup>\\w+)$\", s\"\\g<agroup> \\1\")"
   ]
  },
  {
   "cell_type": "code",
   "execution_count": 29,
   "metadata": {
    "collapsed": false
   },
   "outputs": [
    {
     "data": {
      "text/plain": [
       "8-element Array{UInt8,1}:\n",
       " 0x44\n",
       " 0x41\n",
       " 0x54\n",
       " 0x41\n",
       " 0xff\n",
       " 0xe2\n",
       " 0x88\n",
       " 0x80"
      ]
     },
     "execution_count": 29,
     "metadata": {},
     "output_type": "execute_result"
    }
   ],
   "source": [
    "b\"DATA\\xff\\u2200\""
   ]
  },
  {
   "cell_type": "code",
   "execution_count": 31,
   "metadata": {
    "collapsed": false
   },
   "outputs": [
    {
     "data": {
      "text/plain": [
       "\"00000000000000000010001000000000\""
      ]
     },
     "execution_count": 31,
     "metadata": {},
     "output_type": "execute_result"
    }
   ],
   "source": [
    "bits('\\u2200')"
   ]
  },
  {
   "cell_type": "code",
   "execution_count": 33,
   "metadata": {
    "collapsed": false
   },
   "outputs": [
    {
     "data": {
      "text/plain": [
       "\"00000000000000000010001000000000\""
      ]
     },
     "execution_count": 33,
     "metadata": {},
     "output_type": "execute_result"
    }
   ],
   "source": [
    "bits('\\xe2\\x88\\x80')"
   ]
  },
  {
   "cell_type": "code",
   "execution_count": 38,
   "metadata": {
    "collapsed": false
   },
   "outputs": [
    {
     "data": {
      "text/plain": [
       "f (generic function with 1 method)"
      ]
     },
     "execution_count": 38,
     "metadata": {},
     "output_type": "execute_result"
    }
   ],
   "source": [
    "function f(x,y)\n",
    "  x + y\n",
    "end\n",
    " ∑ = f"
   ]
  },
  {
   "cell_type": "code",
   "execution_count": 39,
   "metadata": {
    "collapsed": false
   },
   "outputs": [
    {
     "data": {
      "text/plain": [
       "true"
      ]
     },
     "execution_count": 39,
     "metadata": {},
     "output_type": "execute_result"
    }
   ],
   "source": [
    "f(2, 3) ==  ∑(2, 3)"
   ]
  },
  {
   "cell_type": "code",
   "execution_count": 40,
   "metadata": {
    "collapsed": false
   },
   "outputs": [
    {
     "data": {
      "text/plain": [
       "hypot (generic function with 1 method)"
      ]
     },
     "execution_count": 40,
     "metadata": {},
     "output_type": "execute_result"
    }
   ],
   "source": [
    "function hypot(x,y)\n",
    "  x = abs(x)\n",
    "  y = abs(y)\n",
    "  if x > y\n",
    "    r = y/x\n",
    "    return x*sqrt(1+r*r)\n",
    "  end\n",
    "  if y == 0\n",
    "    return zero(x)\n",
    "  end\n",
    "  r = x/y\n",
    "  return y*sqrt(1+r*r)\n",
    "end"
   ]
  },
  {
   "cell_type": "code",
   "execution_count": 41,
   "metadata": {
    "collapsed": false
   },
   "outputs": [
    {
     "data": {
      "text/plain": [
       "5.0"
      ]
     },
     "execution_count": 41,
     "metadata": {},
     "output_type": "execute_result"
    }
   ],
   "source": [
    "hypot(3, 4)"
   ]
  },
  {
   "cell_type": "code",
   "execution_count": 42,
   "metadata": {
    "collapsed": false
   },
   "outputs": [
    {
     "data": {
      "text/plain": [
       "6"
      ]
     },
     "execution_count": 42,
     "metadata": {},
     "output_type": "execute_result"
    }
   ],
   "source": [
    "+(1,2,3)"
   ]
  },
  {
   "cell_type": "code",
   "execution_count": 43,
   "metadata": {
    "collapsed": false
   },
   "outputs": [
    {
     "data": {
      "text/plain": [
       "6"
      ]
     },
     "execution_count": 43,
     "metadata": {},
     "output_type": "execute_result"
    }
   ],
   "source": [
    "fadd = +\n",
    "fadd(1, 2, 3)"
   ]
  },
  {
   "cell_type": "code",
   "execution_count": 45,
   "metadata": {
    "collapsed": false
   },
   "outputs": [
    {
     "data": {
      "text/plain": [
       "1x3 Array{Int64,2}:\n",
       " 1  2  3"
      ]
     },
     "execution_count": 45,
     "metadata": {},
     "output_type": "execute_result"
    }
   ],
   "source": [
    "[1 2 3]"
   ]
  },
  {
   "cell_type": "code",
   "execution_count": 46,
   "metadata": {
    "collapsed": false
   },
   "outputs": [
    {
     "data": {
      "text/plain": [
       "3-element Array{Int64,1}:\n",
       " 1\n",
       " 2\n",
       " 3"
      ]
     },
     "execution_count": 46,
     "metadata": {},
     "output_type": "execute_result"
    }
   ],
   "source": [
    "[1, 2, 3]"
   ]
  },
  {
   "cell_type": "code",
   "execution_count": 47,
   "metadata": {
    "collapsed": false
   },
   "outputs": [
    {
     "data": {
      "text/plain": [
       "3x2 Array{Int64,2}:\n",
       " 1  2\n",
       " 3  4\n",
       " 5  6"
      ]
     },
     "execution_count": 47,
     "metadata": {},
     "output_type": "execute_result"
    }
   ],
   "source": [
    "[1 2; 3 4; 5 6]"
   ]
  },
  {
   "cell_type": "code",
   "execution_count": 48,
   "metadata": {
    "collapsed": false
   },
   "outputs": [
    {
     "data": {
      "text/plain": [
       "true"
      ]
     },
     "execution_count": 48,
     "metadata": {},
     "output_type": "execute_result"
    }
   ],
   "source": [
    "hcat(1, 2, 3) == [1 2 3]"
   ]
  },
  {
   "cell_type": "code",
   "execution_count": 49,
   "metadata": {
    "collapsed": false
   },
   "outputs": [
    {
     "data": {
      "text/plain": [
       "true"
      ]
     },
     "execution_count": 49,
     "metadata": {},
     "output_type": "execute_result"
    }
   ],
   "source": [
    "vcat(1, 2, 3) == [1, 2, 3]"
   ]
  },
  {
   "cell_type": "code",
   "execution_count": 58,
   "metadata": {
    "collapsed": false
   },
   "outputs": [
    {
     "data": {
      "text/plain": [
       "true"
      ]
     },
     "execution_count": 58,
     "metadata": {},
     "output_type": "execute_result"
    }
   ],
   "source": [
    "hvcat( (2, 2, 2) , 1, 2, 3, 4, 5, 6) == [1 2; 3 4; 5 6]"
   ]
  },
  {
   "cell_type": "code",
   "execution_count": 66,
   "metadata": {
    "collapsed": false
   },
   "outputs": [
    {
     "data": {
      "text/plain": [
       "true"
      ]
     },
     "execution_count": 66,
     "metadata": {},
     "output_type": "execute_result"
    }
   ],
   "source": [
    "hvcat(2, 1, 2, 3, 4, 5, 6) == [1 2; 3 4; 5 6]"
   ]
  },
  {
   "cell_type": "code",
   "execution_count": 71,
   "metadata": {
    "collapsed": false
   },
   "outputs": [
    {
     "data": {
      "text/plain": [
       "3x2 Array{Complex{Int64},2}:\n",
       " 1+0im  0+2im\n",
       " 0+3im  4+0im\n",
       " 5+0im  0+6im"
      ]
     },
     "execution_count": 71,
     "metadata": {},
     "output_type": "execute_result"
    }
   ],
   "source": [
    "mx = [1 2im; 3im 4; 5 6im]"
   ]
  },
  {
   "cell_type": "code",
   "execution_count": 72,
   "metadata": {
    "collapsed": false
   },
   "outputs": [
    {
     "data": {
      "text/plain": [
       "2x3 Array{Complex{Int64},2}:\n",
       " 1+0im  0-3im  5+0im\n",
       " 0-2im  4+0im  0-6im"
      ]
     },
     "execution_count": 72,
     "metadata": {},
     "output_type": "execute_result"
    }
   ],
   "source": [
    "mx'"
   ]
  },
  {
   "cell_type": "code",
   "execution_count": 73,
   "metadata": {
    "collapsed": false
   },
   "outputs": [
    {
     "data": {
      "text/plain": [
       "2x3 Array{Complex{Int64},2}:\n",
       " 1+0im  0+3im  5+0im\n",
       " 0+2im  4+0im  0+6im"
      ]
     },
     "execution_count": 73,
     "metadata": {},
     "output_type": "execute_result"
    }
   ],
   "source": [
    "mx.'"
   ]
  },
  {
   "cell_type": "code",
   "execution_count": 75,
   "metadata": {
    "collapsed": false
   },
   "outputs": [
    {
     "data": {
      "text/plain": [
       "true"
      ]
     },
     "execution_count": 75,
     "metadata": {},
     "output_type": "execute_result"
    }
   ],
   "source": [
    "1:100 == colon(1, 100)"
   ]
  },
  {
   "cell_type": "code",
   "execution_count": 76,
   "metadata": {
    "collapsed": true
   },
   "outputs": [],
   "source": [
    "# See Functions: Operators With Special Names"
   ]
  },
  {
   "cell_type": "code",
   "execution_count": 77,
   "metadata": {
    "collapsed": false
   },
   "outputs": [
    {
     "data": {
      "text/plain": [
       "(anonymous function)"
      ]
     },
     "execution_count": 77,
     "metadata": {},
     "output_type": "execute_result"
    }
   ],
   "source": [
    "x -> x^2 + 2x - 1"
   ]
  },
  {
   "cell_type": "code",
   "execution_count": 78,
   "metadata": {
    "collapsed": false
   },
   "outputs": [
    {
     "data": {
      "text/plain": [
       "(anonymous function)"
      ]
     },
     "execution_count": 78,
     "metadata": {},
     "output_type": "execute_result"
    }
   ],
   "source": [
    "function (x)\n",
    "   x^2 + 2x - 1\n",
    "end"
   ]
  },
  {
   "cell_type": "code",
   "execution_count": 79,
   "metadata": {
    "collapsed": false
   },
   "outputs": [
    {
     "data": {
      "text/plain": [
       "3-element Array{Int64,1}:\n",
       "  2\n",
       " 14\n",
       " -2"
      ]
     },
     "execution_count": 79,
     "metadata": {},
     "output_type": "execute_result"
    }
   ],
   "source": [
    "map(x -> x^2 + 2x - 1, [1,3,-1])"
   ]
  },
  {
   "cell_type": "code",
   "execution_count": 80,
   "metadata": {
    "collapsed": false
   },
   "outputs": [
    {
     "data": {
      "text/plain": [
       "(5,6)"
      ]
     },
     "execution_count": 80,
     "metadata": {},
     "output_type": "execute_result"
    }
   ],
   "source": [
    "function foo(a,b)\n",
    "    a+b, a*b\n",
    "end\n",
    "foo(2, 3)"
   ]
  },
  {
   "cell_type": "code",
   "execution_count": 81,
   "metadata": {
    "collapsed": false
   },
   "outputs": [
    {
     "data": {
      "text/plain": [
       "(1,2,(3,4,5,6))"
      ]
     },
     "execution_count": 81,
     "metadata": {},
     "output_type": "execute_result"
    }
   ],
   "source": [
    "bar(a,b,x...) = (a,b,x)\n",
    "bar(1,2,3,4,5,6)"
   ]
  },
  {
   "cell_type": "code",
   "execution_count": 82,
   "metadata": {
    "collapsed": false
   },
   "outputs": [
    {
     "data": {
      "text/plain": [
       "3"
      ]
     },
     "execution_count": 82,
     "metadata": {},
     "output_type": "execute_result"
    }
   ],
   "source": [
    "baz(a,b) = a + b\n",
    "args = [1,2]\n",
    "baz(args...)"
   ]
  },
  {
   "cell_type": "code",
   "execution_count": 86,
   "metadata": {
    "collapsed": false
   },
   "outputs": [
    {
     "data": {
      "text/plain": [
       "true"
      ]
     },
     "execution_count": 86,
     "metadata": {},
     "output_type": "execute_result"
    }
   ],
   "source": [
    "function bonus_add(a, b, c=5)\n",
    "    a + b + c\n",
    "end\n",
    "bonus_add(2, 3) == bonus_add(2, 3, 5)"
   ]
  },
  {
   "cell_type": "code",
   "execution_count": 91,
   "metadata": {
    "collapsed": false
   },
   "outputs": [
    {
     "data": {
      "text/plain": [
       "true"
      ]
     },
     "execution_count": 91,
     "metadata": {},
     "output_type": "execute_result"
    }
   ],
   "source": [
    "function extra_add(a; b=3, c=5)\n",
    "    a + b + c\n",
    "end\n",
    "extra_add(2, b=4, c=4) == extra_add(0, b=5) == extra_add(2)"
   ]
  },
  {
   "cell_type": "code",
   "execution_count": 95,
   "metadata": {
    "collapsed": false
   },
   "outputs": [
    {
     "data": {
      "text/plain": [
       "true"
      ]
     },
     "execution_count": 95,
     "metadata": {},
     "output_type": "execute_result"
    }
   ],
   "source": [
    "map(x->begin\n",
    "           if x < 0 && iseven(x)\n",
    "               return 0\n",
    "           elseif x == 0\n",
    "               return 1\n",
    "           else\n",
    "               return x\n",
    "           end\n",
    "       end,\n",
    "[1, 2, 3]) == map([1, 2, 3]) do x # Am I writing ruby? ^_^\n",
    "    if x < 0 && iseven(x)\n",
    "        return 0\n",
    "    elseif x == 0\n",
    "        return 1\n",
    "    else\n",
    "        return x\n",
    "    end\n",
    "end # The do x syntax creates an anonymous function with argument x and passes it as the first argument"
   ]
  },
  {
   "cell_type": "code",
   "execution_count": 101,
   "metadata": {
    "collapsed": false
   },
   "outputs": [
    {
     "data": {
      "text/plain": [
       "true"
      ]
     },
     "execution_count": 101,
     "metadata": {},
     "output_type": "execute_result"
    }
   ],
   "source": [
    "begin\n",
    "    x = 1\n",
    "    y = 2\n",
    "    x + y\n",
    "end == (x = 1; y = 2; x + y)"
   ]
  },
  {
   "cell_type": "code",
   "execution_count": 102,
   "metadata": {
    "collapsed": false
   },
   "outputs": [
    {
     "data": {
      "text/plain": [
       "true"
      ]
     },
     "execution_count": 102,
     "metadata": {},
     "output_type": "execute_result"
    }
   ],
   "source": [
    "# Although it is typical, there is no requirement that begin blocks be multiline or that (;) chains be single-line\n",
    "begin x = 1; y = 2; x + y end == (x = 1;\n",
    "        y = 2;\n",
    "        x + y)"
   ]
  },
  {
   "cell_type": "code",
   "execution_count": 105,
   "metadata": {
    "collapsed": false
   },
   "outputs": [
    {
     "data": {
      "text/plain": [
       "test_order (generic function with 1 method)"
      ]
     },
     "execution_count": 105,
     "metadata": {},
     "output_type": "execute_result"
    }
   ],
   "source": [
    "function test_order(x, y)\n",
    " if x < y\n",
    "   println(\"$x is less than $y\")\n",
    " elseif x > y\n",
    "   println(\"$x is greater than $y\")\n",
    " else\n",
    "   println(\"$x is equal to $y\")\n",
    " end\n",
    "end"
   ]
  },
  {
   "cell_type": "code",
   "execution_count": 106,
   "metadata": {
    "collapsed": false
   },
   "outputs": [
    {
     "name": "stdout",
     "output_type": "stream",
     "text": [
      "1 is less than 3\n"
     ]
    }
   ],
   "source": [
    "test_order(1, 3)"
   ]
  },
  {
   "cell_type": "markdown",
   "metadata": {},
   "source": [
    "`if` blocks are “leaky”, i.e. they do not introduce a local scope. This means that new variables defined inside the `ìf` clauses can be used after the `if` block, even if they weren’t defined before. "
   ]
  },
  {
   "cell_type": "code",
   "execution_count": 107,
   "metadata": {
    "collapsed": false
   },
   "outputs": [
    {
     "data": {
      "text/plain": [
       "test_order_leaky (generic function with 1 method)"
      ]
     },
     "execution_count": 107,
     "metadata": {},
     "output_type": "execute_result"
    }
   ],
   "source": [
    "function test_order_leaky(x,y)\n",
    " if x < y\n",
    "   relation = \"less than\"\n",
    " elseif x == y\n",
    "   relation = \"equal to\"\n",
    " end\n",
    " println(\"$x is \", relation, \" $y.\")\n",
    "end"
   ]
  },
  {
   "cell_type": "code",
   "execution_count": 110,
   "metadata": {
    "collapsed": false
   },
   "outputs": [
    {
     "name": "stdout",
     "output_type": "stream",
     "text": [
      "1 is less than 3.\n"
     ]
    }
   ],
   "source": [
    "test_order_leaky(1, 3)"
   ]
  },
  {
   "cell_type": "code",
   "execution_count": 111,
   "metadata": {
    "collapsed": false
   },
   "outputs": [
    {
     "ename": "LoadError",
     "evalue": "LoadError: UndefVarError: relation not defined\nwhile loading In[111], in expression starting on line 1",
     "output_type": "error",
     "traceback": [
      "LoadError: UndefVarError: relation not defined\nwhile loading In[111], in expression starting on line 1",
      "",
      " in test_order_leaky at In[107]:7"
     ]
    }
   ],
   "source": [
    "test_order_leaky(11, 3)"
   ]
  },
  {
   "cell_type": "code",
   "execution_count": 112,
   "metadata": {
    "collapsed": false
   },
   "outputs": [
    {
     "name": "stdout",
     "output_type": "stream",
     "text": [
      "5 > 1\n"
     ]
    }
   ],
   "source": [
    "5 > 1 && println(\"5 > 1\")"
   ]
  },
  {
   "cell_type": "code",
   "execution_count": 113,
   "metadata": {
    "collapsed": false
   },
   "outputs": [
    {
     "name": "stdout",
     "output_type": "stream",
     "text": [
      "false\n"
     ]
    }
   ],
   "source": [
    "4 < 1 || println(\"false\")"
   ]
  },
  {
   "cell_type": "code",
   "execution_count": 114,
   "metadata": {
    "collapsed": false
   },
   "outputs": [
    {
     "name": "stdout",
     "output_type": "stream",
     "text": [
      "1\n",
      "2\n",
      "3\n",
      "4\n",
      "5\n"
     ]
    }
   ],
   "source": [
    "i = 1\n",
    "while i <= 5\n",
    " println(i)\n",
    " i += 1\n",
    "end"
   ]
  },
  {
   "cell_type": "code",
   "execution_count": 116,
   "metadata": {
    "collapsed": false
   },
   "outputs": [
    {
     "name": "stdout",
     "output_type": "stream",
     "text": [
      "1\n",
      "2\n",
      "3\n",
      "4\n",
      "5\n"
     ]
    }
   ],
   "source": [
    "for j=1:5; println(j); end"
   ]
  },
  {
   "cell_type": "code",
   "execution_count": 117,
   "metadata": {
    "collapsed": false
   },
   "outputs": [
    {
     "name": "stdout",
     "output_type": "stream",
     "text": [
      "foo\n",
      "bar\n",
      "baz\n"
     ]
    }
   ],
   "source": [
    "for s in [\"foo\",\"bar\",\"baz\"]\n",
    " println(s)\n",
    "end"
   ]
  },
  {
   "cell_type": "code",
   "execution_count": 119,
   "metadata": {
    "collapsed": false
   },
   "outputs": [
    {
     "name": "stdout",
     "output_type": "stream",
     "text": [
      "(1,\"apple\")\n",
      "(1,\"banana\")\n",
      "(1,\"pear\")\n",
      "(2,\"apple\")\n",
      "(2,\"banana\")\n",
      "(2,\"pear\")\n"
     ]
    }
   ],
   "source": [
    "# OH! This is AWESOME!\n",
    "for i = 1:2, j in [\"apple\", \"banana\", \"pear\"]\n",
    " println((i, j))\n",
    "end"
   ]
  },
  {
   "cell_type": "code",
   "execution_count": 120,
   "metadata": {
    "collapsed": false
   },
   "outputs": [
    {
     "data": {
      "text/plain": [
       "positive_exp (generic function with 1 method)"
      ]
     },
     "execution_count": 120,
     "metadata": {},
     "output_type": "execute_result"
    }
   ],
   "source": [
    "positive_exp(x) = x>=0 ? exp(-x) : throw(DomainError())"
   ]
  },
  {
   "cell_type": "code",
   "execution_count": 121,
   "metadata": {
    "collapsed": false
   },
   "outputs": [
    {
     "data": {
      "text/plain": [
       "0.36787944117144233"
      ]
     },
     "execution_count": 121,
     "metadata": {},
     "output_type": "execute_result"
    }
   ],
   "source": [
    "positive_exp(1)"
   ]
  },
  {
   "cell_type": "code",
   "execution_count": 122,
   "metadata": {
    "collapsed": false
   },
   "outputs": [
    {
     "ename": "LoadError",
     "evalue": "LoadError: DomainError:\nwhile loading In[122], in expression starting on line 1",
     "output_type": "error",
     "traceback": [
      "LoadError: DomainError:\nwhile loading In[122], in expression starting on line 1",
      "",
      " in positive_exp at In[120]:1"
     ]
    }
   ],
   "source": [
    "positive_exp(-100)"
   ]
  },
  {
   "cell_type": "code",
   "execution_count": 123,
   "metadata": {
    "collapsed": false
   },
   "outputs": [
    {
     "data": {
      "text/plain": [
       "true"
      ]
     },
     "execution_count": 123,
     "metadata": {},
     "output_type": "execute_result"
    }
   ],
   "source": [
    "typeof(DomainError()) <: Exception"
   ]
  },
  {
   "cell_type": "code",
   "execution_count": 125,
   "metadata": {
    "collapsed": false
   },
   "outputs": [
    {
     "ename": "LoadError",
     "evalue": "LoadError: UndefVarError: a_missing_variable not defined\nwhile loading In[125], in expression starting on line 1",
     "output_type": "error",
     "traceback": [
      "LoadError: UndefVarError: a_missing_variable not defined\nwhile loading In[125], in expression starting on line 1",
      ""
     ]
    }
   ],
   "source": [
    "throw(UndefVarError(:a_missing_variable))"
   ]
  },
  {
   "cell_type": "code",
   "execution_count": 126,
   "metadata": {
    "collapsed": false
   },
   "outputs": [
    {
     "data": {
      "text/plain": [
       "fussy_sqrt (generic function with 1 method)"
      ]
     },
     "execution_count": 126,
     "metadata": {},
     "output_type": "execute_result"
    }
   ],
   "source": [
    "fussy_sqrt(x) = x >= 0 ? sqrt(x) : error(\"negative x not allowed\")"
   ]
  },
  {
   "cell_type": "code",
   "execution_count": 127,
   "metadata": {
    "collapsed": false
   },
   "outputs": [
    {
     "data": {
      "text/plain": [
       "10.0"
      ]
     },
     "execution_count": 127,
     "metadata": {},
     "output_type": "execute_result"
    }
   ],
   "source": [
    "fussy_sqrt(100)"
   ]
  },
  {
   "cell_type": "code",
   "execution_count": 128,
   "metadata": {
    "collapsed": false
   },
   "outputs": [
    {
     "ename": "LoadError",
     "evalue": "LoadError: negative x not allowed\nwhile loading In[128], in expression starting on line 1",
     "output_type": "error",
     "traceback": [
      "LoadError: negative x not allowed\nwhile loading In[128], in expression starting on line 1",
      "",
      " in fussy_sqrt at In[126]:1"
     ]
    }
   ],
   "source": [
    "fussy_sqrt(-250)"
   ]
  },
  {
   "cell_type": "code",
   "execution_count": 129,
   "metadata": {
    "collapsed": false
   },
   "outputs": [
    {
     "data": {
      "text/plain": [
       "verbose_fussy_sqrt (generic function with 1 method)"
      ]
     },
     "execution_count": 129,
     "metadata": {},
     "output_type": "execute_result"
    }
   ],
   "source": [
    "function verbose_fussy_sqrt(x)\n",
    " println(\"before fussy_sqrt\")\n",
    " r = fussy_sqrt(x)\n",
    " println(\"after fussy_sqrt\")\n",
    " return r\n",
    "end"
   ]
  },
  {
   "cell_type": "code",
   "execution_count": 130,
   "metadata": {
    "collapsed": false
   },
   "outputs": [
    {
     "name": "stdout",
     "output_type": "stream",
     "text": [
      "before fussy_sqrt\n"
     ]
    },
    {
     "ename": "LoadError",
     "evalue": "LoadError: negative x not allowed\nwhile loading In[130], in expression starting on line 1",
     "output_type": "error",
     "traceback": [
      "LoadError: negative x not allowed\nwhile loading In[130], in expression starting on line 1",
      "",
      " in verbose_fussy_sqrt at In[129]:3"
     ]
    }
   ],
   "source": [
    "verbose_fussy_sqrt(-1)"
   ]
  },
  {
   "cell_type": "code",
   "execution_count": 131,
   "metadata": {
    "collapsed": false
   },
   "outputs": [
    {
     "name": "stderr",
     "output_type": "stream",
     "text": [
      "INFO: Hi\n",
      "WARNING: Hi\n"
     ]
    },
    {
     "ename": "LoadError",
     "evalue": "LoadError: Hi\nwhile loading In[131], in expression starting on line 3",
     "output_type": "error",
     "traceback": [
      "LoadError: Hi\nwhile loading In[131], in expression starting on line 3",
      ""
     ]
    }
   ],
   "source": [
    "info(\"Hi\"); 1+1\n",
    "warn(\"Hi\"); 1+1\n",
    "error(\"Hi\"); 1+1"
   ]
  },
  {
   "cell_type": "code",
   "execution_count": 132,
   "metadata": {
    "collapsed": true
   },
   "outputs": [],
   "source": [
    " try error() end #Returns nothing"
   ]
  },
  {
   "cell_type": "code",
   "execution_count": 133,
   "metadata": {
    "collapsed": false
   },
   "outputs": [
    {
     "name": "stdout",
     "output_type": "stream",
     "text": [
      "step 1 ok\n",
      "ErrorException(\"step 2 failed\")\n",
      "step 4 is ensured\n"
     ]
    }
   ],
   "source": [
    "try\n",
    "    println(\"step 1 ok\")\n",
    "    error(\"step 2 failed\")\n",
    "    println(\"step 3 was never reached\")\n",
    "catch e\n",
    "    if isa(e, DomainError)\n",
    "        # Obviously, it's not\n",
    "    else\n",
    "        println(e)\n",
    "    end\n",
    "finally\n",
    "    println(\"step 4 is ensured\")\n",
    "end\n",
    "    "
   ]
  },
  {
   "cell_type": "code",
   "execution_count": 134,
   "metadata": {
    "collapsed": false
   },
   "outputs": [
    {
     "name": "stdout",
     "output_type": "stream",
     "text": [
      "Collecting jupyter-themer\n",
      "  Downloading jupyter-themer-0.1.2.tar.gz\n",
      "Requirement already satisfied (use --upgrade to upgrade): jupyter in /Users/utensil/miniconda2/lib/python2.7/site-packages (from jupyter-themer)\n",
      "Requirement already satisfied (use --upgrade to upgrade): notebook in /Users/utensil/miniconda2/lib/python2.7/site-packages (from jupyter-themer)\n",
      "Building wheels for collected packages: jupyter-themer\n",
      "  Running setup.py bdist_wheel for jupyter-themer: started\n",
      "  Running setup.py bdist_wheel for jupyter-themer: finished with status 'done'\n",
      "  Stored in directory: /Users/utensil/Library/Caches/pip/wheels/de/60/66/02ff107061ba3f1122bc30954652709197d6cd66c0ccdcdfb0\n",
      "Successfully built jupyter-themer\n",
      "Installing collected packages: jupyter-themer\n",
      "Successfully installed jupyter-themer-0.1.2\n"
     ]
    }
   ],
   "source": [
    "# https://github.com/transcranial/jupyter-themer\n",
    "run(`pip install jupyter-themer`)"
   ]
  },
  {
   "cell_type": "code",
   "execution_count": 148,
   "metadata": {
    "collapsed": false
   },
   "outputs": [
    {
     "name": "stdout",
     "output_type": "stream",
     "text": [
      "Custom jupyter notebook theme created - refresh any open jupyter notebooks to apply theme.\n"
     ]
    }
   ],
   "source": [
    "run(`jupyter-themer -c tomorrow-night-eighties`)"
   ]
  },
  {
   "cell_type": "code",
   "execution_count": 149,
   "metadata": {
    "collapsed": false
   },
   "outputs": [
    {
     "name": "stdout",
     "output_type": "stream",
     "text": [
      "Jupyter notebook reverted to default style.\n"
     ]
    }
   ],
   "source": [
    "run(`jupyter-themer`)"
   ]
  },
  {
   "cell_type": "code",
   "execution_count": 150,
   "metadata": {
    "collapsed": false
   },
   "outputs": [
    {
     "data": {
      "text/plain": [
       "producer (generic function with 1 method)"
      ]
     },
     "execution_count": 150,
     "metadata": {},
     "output_type": "execute_result"
    }
   ],
   "source": [
    "function producer()\n",
    "    produce(\"start\")\n",
    "    for n=1:4\n",
    "        produce(2n)\n",
    "    end\n",
    "    produce(\"stop\")\n",
    "end"
   ]
  },
  {
   "cell_type": "code",
   "execution_count": 155,
   "metadata": {
    "collapsed": false
   },
   "outputs": [
    {
     "data": {
      "text/plain": [
       "Task (runnable) @0x000000010d322620"
      ]
     },
     "execution_count": 155,
     "metadata": {},
     "output_type": "execute_result"
    }
   ],
   "source": [
    "p = Task(producer)"
   ]
  },
  {
   "cell_type": "code",
   "execution_count": 156,
   "metadata": {
    "collapsed": false
   },
   "outputs": [
    {
     "name": "stdout",
     "output_type": "stream",
     "text": [
      "ASCIIString: start\n",
      "Int64: 2\n",
      "Int64: 4\n",
      "Int64: 6\n",
      "Int64: 8\n",
      "ASCIIString: stop\n",
      "Tuple{}: ()\n"
     ]
    }
   ],
   "source": [
    "for i=0:6\n",
    "    got = consume(p)\n",
    "    println(\"$(typeof(got)): $got\")\n",
    "end"
   ]
  },
  {
   "cell_type": "code",
   "execution_count": 157,
   "metadata": {
    "collapsed": false
   },
   "outputs": [
    {
     "name": "stdout",
     "output_type": "stream",
     "text": [
      "ASCIIString: start\n",
      "Int64: 2\n",
      "Int64: 4\n",
      "Int64: 6\n",
      "Int64: 8\n",
      "ASCIIString: stop\n"
     ]
    }
   ],
   "source": [
    "for got in Task(producer)\n",
    "    println(\"$(typeof(got)): $got\")\n",
    "end"
   ]
  },
  {
   "cell_type": "code",
   "execution_count": 158,
   "metadata": {
    "collapsed": false
   },
   "outputs": [
    {
     "data": {
      "text/plain": [
       ":done"
      ]
     },
     "execution_count": 158,
     "metadata": {},
     "output_type": "execute_result"
    }
   ],
   "source": [
    "p.state"
   ]
  },
  {
   "cell_type": "markdown",
   "metadata": {},
   "source": [
    "<div class=\"wy-table-responsive\"><table border=\"1\" class=\"docutils\" id=\"man-scope-table\">\n",
    "<colgroup>\n",
    "<col width=\"28%\">\n",
    "<col width=\"27%\">\n",
    "<col width=\"45%\">\n",
    "</colgroup>\n",
    "<thead valign=\"bottom\">\n",
    "<tr class=\"row-odd\"><th class=\"head\">Scope name</th>\n",
    "<th class=\"head\" colspan=\"2\">block/construct introducing this kind of scope</th>\n",
    "</tr>\n",
    "</thead>\n",
    "<tbody valign=\"top\">\n",
    "<tr class=\"row-even\"><td><a class=\"reference internal\" href=\"#man-global\"><span>global</span></a></td>\n",
    "<td colspan=\"2\"><div class=\"first last line-block\">\n",
    "<div class=\"line\">module, baremodule, at interactive prompt (REPL)</div>\n",
    "</div>\n",
    "</td>\n",
    "</tr>\n",
    "<tr class=\"row-odd\"><td rowspan=\"2\"><a class=\"reference internal\" href=\"#man-local-scope\"><span>local</span></a></td>\n",
    "<td><a class=\"reference internal\" href=\"#man-soft-scope\"><span>soft</span></a></td>\n",
    "<td><div class=\"first last line-block\">\n",
    "<div class=\"line\">for, while, list-comprehensions,\n",
    "try-catch-finally, let</div>\n",
    "</div>\n",
    "</td>\n",
    "</tr>\n",
    "<tr class=\"row-even\"><td><a class=\"reference internal\" href=\"#man-hard-scope\"><span>hard</span></a></td>\n",
    "<td><div class=\"first last line-block\">\n",
    "<div class=\"line\">functions (either syntax, anonymous &amp; do-blocks)</div>\n",
    "<div class=\"line\">type, immutable, macro</div>\n",
    "</div>\n",
    "</td>\n",
    "</tr>\n",
    "</tbody>\n",
    "</table></div>"
   ]
  },
  {
   "cell_type": "code",
   "execution_count": 162,
   "metadata": {
    "collapsed": false
   },
   "outputs": [
    {
     "name": "stdout",
     "output_type": "stream",
     "text": [
      "local_let\n",
      "local_let_2\n"
     ]
    },
    {
     "data": {
      "text/plain": [
       "\"global\""
      ]
     },
     "execution_count": 162,
     "metadata": {},
     "output_type": "execute_result"
    }
   ],
   "source": [
    "let\n",
    "    global x = \"global\"\n",
    "    # a new scope\n",
    "    let\n",
    "        local x = \"local_let\"\n",
    "        # not a new scope\n",
    "        begin\n",
    "            # not a new scope\n",
    "            if x == \"local_let\"\n",
    "                println(x)\n",
    "            end\n",
    "        end\n",
    "        let\n",
    "            local x = \"local_let_2\"\n",
    "            println(x)\n",
    "        end\n",
    "    end\n",
    "end\n",
    "x"
   ]
  },
  {
   "cell_type": "markdown",
   "metadata": {},
   "source": [
    "`for` loops and comprehensions have the following behavior: any new variables introduced in their body scopes are freshly allocated for each loop iteration. This is in contrast to `while` loops which reuse the variables for all iterations. Therefore these constructs are similar to `while` loops with `let` blocks inside"
   ]
  },
  {
   "cell_type": "code",
   "execution_count": 163,
   "metadata": {
    "collapsed": false
   },
   "outputs": [
    {
     "data": {
      "text/plain": [
       "3"
      ]
     },
     "execution_count": 163,
     "metadata": {},
     "output_type": "execute_result"
    }
   ],
   "source": [
    "i = 0\n",
    "for i = 1:3\n",
    "end\n",
    "i  # here equal to 3"
   ]
  },
  {
   "cell_type": "code",
   "execution_count": 164,
   "metadata": {
    "collapsed": false
   },
   "outputs": [
    {
     "data": {
      "text/plain": [
       "0"
      ]
     },
     "execution_count": 164,
     "metadata": {},
     "output_type": "execute_result"
    }
   ],
   "source": [
    "x = 0\n",
    "[ x for x=1:3 ]\n",
    "x  # here still equal to 0"
   ]
  },
  {
   "cell_type": "code",
   "execution_count": 3,
   "metadata": {
    "collapsed": false,
    "scrolled": false
   },
   "outputs": [
    {
     "name": "stdout",
     "output_type": "stream",
     "text": [
      "(0,3)\n",
      "(0,2)\n",
      "(0,1)\n"
     ]
    },
    {
     "data": {
      "text/plain": [
       "(0,0)"
      ]
     },
     "execution_count": 3,
     "metadata": {},
     "output_type": "execute_result"
    }
   ],
   "source": [
    "i = 0\n",
    "j = 3\n",
    "while j > i\n",
    "    println((i, j))\n",
    "    j -= 1\n",
    "end\n",
    "(i, j)"
   ]
  },
  {
   "cell_type": "code",
   "execution_count": 4,
   "metadata": {
    "collapsed": false
   },
   "outputs": [
    {
     "data": {
      "text/plain": [
       "e = 2.7182818284590..."
      ]
     },
     "execution_count": 4,
     "metadata": {},
     "output_type": "execute_result"
    }
   ],
   "source": [
    "e"
   ]
  },
  {
   "cell_type": "code",
   "execution_count": 5,
   "metadata": {
    "collapsed": false
   },
   "outputs": [
    {
     "data": {
      "text/plain": [
       "8.539734222673566"
      ]
     },
     "execution_count": 5,
     "metadata": {},
     "output_type": "execute_result"
    }
   ],
   "source": [
    "const K = e * π"
   ]
  },
  {
   "cell_type": "code",
   "execution_count": 6,
   "metadata": {
    "collapsed": false
   },
   "outputs": [
    {
     "data": {
      "text/plain": [
       "3"
      ]
     },
     "execution_count": 6,
     "metadata": {},
     "output_type": "execute_result"
    }
   ],
   "source": [
    "(1+2)::Int"
   ]
  },
  {
   "cell_type": "code",
   "execution_count": 12,
   "metadata": {
    "collapsed": false
   },
   "outputs": [
    {
     "data": {
      "text/plain": [
       "foo (generic function with 1 method)"
      ]
     },
     "execution_count": 12,
     "metadata": {},
     "output_type": "execute_result"
    }
   ],
   "source": [
    "function foo()\n",
    " x::Int8 = 100\n",
    " x\n",
    "end"
   ]
  },
  {
   "cell_type": "code",
   "execution_count": 13,
   "metadata": {
    "collapsed": false
   },
   "outputs": [
    {
     "data": {
      "text/plain": [
       "Int8"
      ]
     },
     "execution_count": 13,
     "metadata": {},
     "output_type": "execute_result"
    }
   ],
   "source": [
    "typeof(foo())"
   ]
  },
  {
   "cell_type": "code",
   "execution_count": 20,
   "metadata": {
    "collapsed": false
   },
   "outputs": [
    {
     "data": {
      "text/plain": [
       "10"
      ]
     },
     "execution_count": 20,
     "metadata": {},
     "output_type": "execute_result"
    }
   ],
   "source": [
    "local y::Int8 = 10"
   ]
  },
  {
   "cell_type": "code",
   "execution_count": 21,
   "metadata": {
    "collapsed": false
   },
   "outputs": [
    {
     "data": {
      "text/plain": [
       "200"
      ]
     },
     "execution_count": 21,
     "metadata": {},
     "output_type": "execute_result"
    }
   ],
   "source": [
    "y = 200"
   ]
  },
  {
   "cell_type": "code",
   "execution_count": 22,
   "metadata": {
    "collapsed": false
   },
   "outputs": [
    {
     "data": {
      "text/plain": [
       "200"
      ]
     },
     "execution_count": 22,
     "metadata": {},
     "output_type": "execute_result"
    }
   ],
   "source": [
    "y"
   ]
  },
  {
   "cell_type": "code",
   "execution_count": 23,
   "metadata": {
    "collapsed": false
   },
   "outputs": [
    {
     "data": {
      "text/plain": [
       "Int64"
      ]
     },
     "execution_count": 23,
     "metadata": {},
     "output_type": "execute_result"
    }
   ],
   "source": [
    "typeof(y)"
   ]
  },
  {
   "cell_type": "code",
   "execution_count": 24,
   "metadata": {
    "collapsed": false
   },
   "outputs": [
    {
     "ename": "LoadError",
     "evalue": "LoadError: InexactError()\nwhile loading In[24], in expression starting on line 1",
     "output_type": "error",
     "traceback": [
      "LoadError: InexactError()\nwhile loading In[24], in expression starting on line 1",
      "",
      " in convert at int.jl:172"
     ]
    }
   ],
   "source": [
    "local y::Int8=200"
   ]
  },
  {
   "cell_type": "markdown",
   "metadata": {},
   "source": [
    "```julia\n",
    "abstract Number\n",
    "abstract Real     <: Number\n",
    "abstract AbstractFloat <: Real\n",
    "abstract Integer  <: Real\n",
    "abstract Signed   <: Integer\n",
    "abstract Unsigned <: Integer\n",
    "```"
   ]
  },
  {
   "cell_type": "code",
   "execution_count": 25,
   "metadata": {
    "collapsed": false
   },
   "outputs": [
    {
     "data": {
      "text/plain": [
       "true"
      ]
     },
     "execution_count": 25,
     "metadata": {},
     "output_type": "execute_result"
    }
   ],
   "source": [
    "Integer <: Number"
   ]
  },
  {
   "cell_type": "code",
   "execution_count": 26,
   "metadata": {
    "collapsed": false
   },
   "outputs": [
    {
     "data": {
      "text/plain": [
       "false"
      ]
     },
     "execution_count": 26,
     "metadata": {},
     "output_type": "execute_result"
    }
   ],
   "source": [
    "Integer <: AbstractFloat"
   ]
  },
  {
   "cell_type": "code",
   "execution_count": 27,
   "metadata": {
    "collapsed": false
   },
   "outputs": [
    {
     "ename": "LoadError",
     "evalue": "LoadError: invalid number of bits in type sevenbit\nwhile loading In[27], in expression starting on line 1",
     "output_type": "error",
     "traceback": [
      "LoadError: invalid number of bits in type sevenbit\nwhile loading In[27], in expression starting on line 1",
      ""
     ]
    }
   ],
   "source": [
    "bitstype 7 sevenbit"
   ]
  },
  {
   "cell_type": "code",
   "execution_count": 28,
   "metadata": {
    "collapsed": true
   },
   "outputs": [],
   "source": [
    "bitstype 128 onetwoeightbits"
   ]
  },
  {
   "cell_type": "code",
   "execution_count": 29,
   "metadata": {
    "collapsed": true
   },
   "outputs": [],
   "source": [
    "bitstype 128 ∰"
   ]
  },
  {
   "cell_type": "code",
   "execution_count": 30,
   "metadata": {
    "collapsed": false
   },
   "outputs": [
    {
     "data": {
      "text/plain": [
       "16"
      ]
     },
     "execution_count": 30,
     "metadata": {},
     "output_type": "execute_result"
    }
   ],
   "source": [
    "sizeof(∰)"
   ]
  },
  {
   "cell_type": "code",
   "execution_count": 32,
   "metadata": {
    "collapsed": false
   },
   "outputs": [],
   "source": [
    "type footype\n",
    "     bar\n",
    "     baz::Int\n",
    "     qux::Float64\n",
    "end"
   ]
  },
  {
   "cell_type": "code",
   "execution_count": 36,
   "metadata": {
    "collapsed": false
   },
   "outputs": [
    {
     "data": {
      "text/plain": [
       "footype(\"bar\",8,12.9)"
      ]
     },
     "execution_count": 36,
     "metadata": {},
     "output_type": "execute_result"
    }
   ],
   "source": [
    "ft = footype(\"bar\", 8, 12.9)"
   ]
  },
  {
   "cell_type": "code",
   "execution_count": 37,
   "metadata": {
    "collapsed": false
   },
   "outputs": [
    {
     "data": {
      "text/plain": [
       "footype(\"bar\",8,12.0)"
      ]
     },
     "execution_count": 37,
     "metadata": {},
     "output_type": "execute_result"
    }
   ],
   "source": [
    "footype(\"bar\", 8, 12)"
   ]
  },
  {
   "cell_type": "code",
   "execution_count": 38,
   "metadata": {
    "collapsed": false
   },
   "outputs": [
    {
     "ename": "LoadError",
     "evalue": "LoadError: MethodError: `convert` has no method matching convert(::Type{Float64}, ::ASCIIString)\nThis may have arisen from a call to the constructor Float64(...),\nsince type constructors fall back to convert methods.\nClosest candidates are:\n  call{T}(::Type{T}, ::Any)\n  convert(::Type{Float64}, !Matched::Int8)\n  convert(::Type{Float64}, !Matched::Int16)\n  ...\nwhile loading In[38], in expression starting on line 1",
     "output_type": "error",
     "traceback": [
      "LoadError: MethodError: `convert` has no method matching convert(::Type{Float64}, ::ASCIIString)\nThis may have arisen from a call to the constructor Float64(...),\nsince type constructors fall back to convert methods.\nClosest candidates are:\n  call{T}(::Type{T}, ::Any)\n  convert(::Type{Float64}, !Matched::Int8)\n  convert(::Type{Float64}, !Matched::Int16)\n  ...\nwhile loading In[38], in expression starting on line 1",
      "",
      " in call at In[32]:2"
     ]
    }
   ],
   "source": [
    "footype(\"bar\", 8, \"12.9\")"
   ]
  },
  {
   "cell_type": "code",
   "execution_count": 39,
   "metadata": {
    "collapsed": false
   },
   "outputs": [
    {
     "data": {
      "text/plain": [
       "footype"
      ]
     },
     "execution_count": 39,
     "metadata": {},
     "output_type": "execute_result"
    }
   ],
   "source": [
    "typeof(ft)"
   ]
  },
  {
   "cell_type": "code",
   "execution_count": 40,
   "metadata": {
    "collapsed": false
   },
   "outputs": [
    {
     "data": {
      "text/plain": [
       "3-element Array{Symbol,1}:\n",
       " :bar\n",
       " :baz\n",
       " :qux"
      ]
     },
     "execution_count": 40,
     "metadata": {},
     "output_type": "execute_result"
    }
   ],
   "source": [
    "fieldnames(ft)"
   ]
  },
  {
   "cell_type": "code",
   "execution_count": 41,
   "metadata": {
    "collapsed": false
   },
   "outputs": [
    {
     "data": {
      "text/plain": [
       "3-element Array{Symbol,1}:\n",
       " :bar\n",
       " :baz\n",
       " :qux"
      ]
     },
     "execution_count": 41,
     "metadata": {},
     "output_type": "execute_result"
    }
   ],
   "source": [
    "fieldnames(footype)"
   ]
  },
  {
   "cell_type": "code",
   "execution_count": 42,
   "metadata": {
    "collapsed": false
   },
   "outputs": [
    {
     "data": {
      "text/plain": [
       "1//2"
      ]
     },
     "execution_count": 42,
     "metadata": {},
     "output_type": "execute_result"
    }
   ],
   "source": [
    "ft.bar = 1//2"
   ]
  },
  {
   "cell_type": "markdown",
   "metadata": {},
   "source": [
    "Composite types with no fields are singletons; there can be only one instance of such types:"
   ]
  },
  {
   "cell_type": "code",
   "execution_count": 43,
   "metadata": {
    "collapsed": true
   },
   "outputs": [],
   "source": [
    "type NoFields\n",
    "end"
   ]
  },
  {
   "cell_type": "code",
   "execution_count": 44,
   "metadata": {
    "collapsed": false
   },
   "outputs": [
    {
     "data": {
      "text/plain": [
       "true"
      ]
     },
     "execution_count": 44,
     "metadata": {},
     "output_type": "execute_result"
    }
   ],
   "source": [
    "is(NoFields(), NoFields())"
   ]
  },
  {
   "cell_type": "code",
   "execution_count": 45,
   "metadata": {
    "collapsed": true
   },
   "outputs": [],
   "source": [
    "immutable MyComplex\n",
    "  real::Float64\n",
    "  imag::Float64\n",
    "end"
   ]
  },
  {
   "cell_type": "code",
   "execution_count": 46,
   "metadata": {
    "collapsed": false
   },
   "outputs": [
    {
     "data": {
      "text/plain": [
       "MyComplex(12.0,34.0)"
      ]
     },
     "execution_count": 46,
     "metadata": {},
     "output_type": "execute_result"
    }
   ],
   "source": [
    "c = MyComplex(12, 34)"
   ]
  },
  {
   "cell_type": "code",
   "execution_count": 47,
   "metadata": {
    "collapsed": false
   },
   "outputs": [
    {
     "data": {
      "text/plain": [
       "12.0"
      ]
     },
     "execution_count": 47,
     "metadata": {},
     "output_type": "execute_result"
    }
   ],
   "source": [
    "c.real"
   ]
  },
  {
   "cell_type": "code",
   "execution_count": 48,
   "metadata": {
    "collapsed": false
   },
   "outputs": [
    {
     "ename": "LoadError",
     "evalue": "LoadError: type MyComplex is immutable\nwhile loading In[48], in expression starting on line 1",
     "output_type": "error",
     "traceback": [
      "LoadError: type MyComplex is immutable\nwhile loading In[48], in expression starting on line 1",
      ""
     ]
    }
   ],
   "source": [
    "c.real = 13"
   ]
  },
  {
   "cell_type": "code",
   "execution_count": 49,
   "metadata": {
    "collapsed": false
   },
   "outputs": [
    {
     "data": {
      "text/plain": [
       "Union{AbstractString,Int64}"
      ]
     },
     "execution_count": 49,
     "metadata": {},
     "output_type": "execute_result"
    }
   ],
   "source": [
    "IntOrString = Union{Int,AbstractString}"
   ]
  },
  {
   "cell_type": "code",
   "execution_count": 50,
   "metadata": {
    "collapsed": false
   },
   "outputs": [
    {
     "data": {
      "text/plain": [
       "1"
      ]
     },
     "execution_count": 50,
     "metadata": {},
     "output_type": "execute_result"
    }
   ],
   "source": [
    "1 :: IntOrString"
   ]
  },
  {
   "cell_type": "code",
   "execution_count": 51,
   "metadata": {
    "collapsed": false
   },
   "outputs": [
    {
     "data": {
      "text/plain": [
       "\"1\""
      ]
     },
     "execution_count": 51,
     "metadata": {},
     "output_type": "execute_result"
    }
   ],
   "source": [
    "\"1\" :: IntOrString"
   ]
  },
  {
   "cell_type": "code",
   "execution_count": 52,
   "metadata": {
    "collapsed": false
   },
   "outputs": [
    {
     "ename": "LoadError",
     "evalue": "LoadError: TypeError: typeassert: expected Union{AbstractString,Int64}, got Float64\nwhile loading In[52], in expression starting on line 1",
     "output_type": "error",
     "traceback": [
      "LoadError: TypeError: typeassert: expected Union{AbstractString,Int64}, got Float64\nwhile loading In[52], in expression starting on line 1",
      ""
     ]
    }
   ],
   "source": [
    "1.0 :: IntOrString"
   ]
  },
  {
   "cell_type": "code",
   "execution_count": 53,
   "metadata": {
    "collapsed": true
   },
   "outputs": [],
   "source": [
    "type MyPoint{T}\n",
    "  x::T\n",
    "  y::T\n",
    "end"
   ]
  },
  {
   "cell_type": "code",
   "execution_count": 54,
   "metadata": {
    "collapsed": false
   },
   "outputs": [
    {
     "data": {
      "text/plain": [
       "MyPoint{Int64}(1,2)"
      ]
     },
     "execution_count": 54,
     "metadata": {},
     "output_type": "execute_result"
    }
   ],
   "source": [
    "mp = MyPoint(1, 2)"
   ]
  },
  {
   "cell_type": "code",
   "execution_count": 55,
   "metadata": {
    "collapsed": false
   },
   "outputs": [
    {
     "ename": "LoadError",
     "evalue": "LoadError: MethodError: `convert` has no method matching convert(::Type{MyPoint{T}}, ::Int64, ::ASCIIString)\nThis may have arisen from a call to the constructor MyPoint{T}(...),\nsince type constructors fall back to convert methods.\nClosest candidates are:\n  MyPoint{T}(::T, !Matched::T)\n  call{T}(::Type{T}, ::Any)\n  convert{T}(::Type{T}, !Matched::T)\nwhile loading In[55], in expression starting on line 1",
     "output_type": "error",
     "traceback": [
      "LoadError: MethodError: `convert` has no method matching convert(::Type{MyPoint{T}}, ::Int64, ::ASCIIString)\nThis may have arisen from a call to the constructor MyPoint{T}(...),\nsince type constructors fall back to convert methods.\nClosest candidates are:\n  MyPoint{T}(::T, !Matched::T)\n  call{T}(::Type{T}, ::Any)\n  convert{T}(::Type{T}, !Matched::T)\nwhile loading In[55], in expression starting on line 1",
      "",
      " in call at essentials.jl:57"
     ]
    }
   ],
   "source": [
    "mp = MyPoint(1, \"2\")"
   ]
  },
  {
   "cell_type": "code",
   "execution_count": 57,
   "metadata": {
    "collapsed": false
   },
   "outputs": [
    {
     "data": {
      "text/plain": [
       "true"
      ]
     },
     "execution_count": 57,
     "metadata": {},
     "output_type": "execute_result"
    }
   ],
   "source": [
    "MyPoint{Float64} <: MyPoint"
   ]
  },
  {
   "cell_type": "code",
   "execution_count": 58,
   "metadata": {
    "collapsed": false
   },
   "outputs": [
    {
     "data": {
      "text/plain": [
       "true"
      ]
     },
     "execution_count": 58,
     "metadata": {},
     "output_type": "execute_result"
    }
   ],
   "source": [
    "Float64 <: Real"
   ]
  },
  {
   "cell_type": "code",
   "execution_count": 59,
   "metadata": {
    "collapsed": false
   },
   "outputs": [
    {
     "data": {
      "text/plain": [
       "false"
      ]
     },
     "execution_count": 59,
     "metadata": {},
     "output_type": "execute_result"
    }
   ],
   "source": [
    "MyPoint{Float64} <: MyPoint{Real}"
   ]
  },
  {
   "cell_type": "code",
   "execution_count": 60,
   "metadata": {
    "collapsed": true
   },
   "outputs": [],
   "source": [
    "abstract Pointly{T}"
   ]
  },
  {
   "cell_type": "code",
   "execution_count": 61,
   "metadata": {
    "collapsed": false
   },
   "outputs": [
    {
     "data": {
      "text/plain": [
       "true"
      ]
     },
     "execution_count": 61,
     "metadata": {},
     "output_type": "execute_result"
    }
   ],
   "source": [
    "Pointly{Int} <: Pointly"
   ]
  },
  {
   "cell_type": "code",
   "execution_count": 63,
   "metadata": {
    "collapsed": false
   },
   "outputs": [],
   "source": [
    "type SpecificPoint{T} <: Pointly{T}\n",
    "  x::T\n",
    "  y::T\n",
    "end"
   ]
  },
  {
   "cell_type": "code",
   "execution_count": 65,
   "metadata": {
    "collapsed": false
   },
   "outputs": [
    {
     "data": {
      "text/plain": [
       "true"
      ]
     },
     "execution_count": 65,
     "metadata": {},
     "output_type": "execute_result"
    }
   ],
   "source": [
    "SpecificPoint{AbstractString} <: Pointly"
   ]
  },
  {
   "cell_type": "code",
   "execution_count": 66,
   "metadata": {
    "collapsed": false
   },
   "outputs": [
    {
     "data": {
      "text/plain": [
       "SpecificPoint{ASCIIString}(\"a\",\"b\")"
      ]
     },
     "execution_count": 66,
     "metadata": {},
     "output_type": "execute_result"
    }
   ],
   "source": [
    "SpecificPoint(\"a\", \"b\")"
   ]
  },
  {
   "cell_type": "code",
   "execution_count": 67,
   "metadata": {
    "collapsed": true
   },
   "outputs": [],
   "source": [
    "abstract RealPoint{T<:Real}"
   ]
  },
  {
   "cell_type": "code",
   "execution_count": 72,
   "metadata": {
    "collapsed": false
   },
   "outputs": [
    {
     "data": {
      "text/plain": [
       "true"
      ]
     },
     "execution_count": 72,
     "metadata": {},
     "output_type": "execute_result"
    }
   ],
   "source": [
    "RealPoint{Float32} <: RealPoint"
   ]
  },
  {
   "cell_type": "code",
   "execution_count": 73,
   "metadata": {
    "collapsed": false
   },
   "outputs": [
    {
     "data": {
      "text/plain": [
       "true"
      ]
     },
     "execution_count": 73,
     "metadata": {},
     "output_type": "execute_result"
    }
   ],
   "source": [
    "Tuple{Int,AbstractString} <: Tuple{Real,Any}"
   ]
  },
  {
   "cell_type": "code",
   "execution_count": 74,
   "metadata": {
    "collapsed": false
   },
   "outputs": [
    {
     "data": {
      "text/plain": [
       "false"
      ]
     },
     "execution_count": 74,
     "metadata": {},
     "output_type": "execute_result"
    }
   ],
   "source": [
    "Tuple{Int,AbstractString} <: Tuple{Real,}"
   ]
  },
  {
   "cell_type": "code",
   "execution_count": 77,
   "metadata": {
    "collapsed": false
   },
   "outputs": [
    {
     "data": {
      "text/plain": [
       "(1.0,1.0)"
      ]
     },
     "execution_count": 77,
     "metadata": {},
     "output_type": "execute_result"
    }
   ],
   "source": [
    "(1.0, 1.0) :: Tuple{Vararg{Real}}"
   ]
  },
  {
   "cell_type": "code",
   "execution_count": 78,
   "metadata": {
    "collapsed": false
   },
   "outputs": [
    {
     "data": {
      "text/plain": [
       "true"
      ]
     },
     "execution_count": 78,
     "metadata": {},
     "output_type": "execute_result"
    }
   ],
   "source": [
    "isa((\"1\",1,2), Tuple{AbstractString,Vararg{Int}})"
   ]
  },
  {
   "cell_type": "code",
   "execution_count": 79,
   "metadata": {
    "collapsed": false
   },
   "outputs": [
    {
     "data": {
      "text/plain": [
       "false"
      ]
     },
     "execution_count": 79,
     "metadata": {},
     "output_type": "execute_result"
    }
   ],
   "source": [
    "isa((\"1\",1,2,3.0), Tuple{AbstractString,Vararg{Int}})"
   ]
  },
  {
   "cell_type": "code",
   "execution_count": 81,
   "metadata": {
    "collapsed": false
   },
   "outputs": [
    {
     "data": {
      "text/plain": [
       "true"
      ]
     },
     "execution_count": 81,
     "metadata": {},
     "output_type": "execute_result"
    }
   ],
   "source": [
    "isa(Float64, Type{Float64})"
   ]
  },
  {
   "cell_type": "code",
   "execution_count": 82,
   "metadata": {
    "collapsed": false
   },
   "outputs": [
    {
     "data": {
      "text/plain": [
       "false"
      ]
     },
     "execution_count": 82,
     "metadata": {},
     "output_type": "execute_result"
    }
   ],
   "source": [
    "isa(Float64, Type{Real})"
   ]
  },
  {
   "cell_type": "code",
   "execution_count": 83,
   "metadata": {
    "collapsed": true
   },
   "outputs": [],
   "source": [
    "bitstype 64 MyPtr{T}"
   ]
  },
  {
   "cell_type": "code",
   "execution_count": 84,
   "metadata": {
    "collapsed": false
   },
   "outputs": [
    {
     "data": {
      "text/plain": [
       "false"
      ]
     },
     "execution_count": 84,
     "metadata": {},
     "output_type": "execute_result"
    }
   ],
   "source": [
    "MyPtr{Float64} <: MyPtr{Real}"
   ]
  },
  {
   "cell_type": "code",
   "execution_count": 85,
   "metadata": {
    "collapsed": false
   },
   "outputs": [
    {
     "data": {
      "text/plain": [
       "true"
      ]
     },
     "execution_count": 85,
     "metadata": {},
     "output_type": "execute_result"
    }
   ],
   "source": [
    "MyPtr{Float64} <: MyPtr"
   ]
  },
  {
   "cell_type": "code",
   "execution_count": 86,
   "metadata": {
    "collapsed": false
   },
   "outputs": [
    {
     "data": {
      "text/plain": [
       "MyPtr{onetwoeightbits}"
      ]
     },
     "execution_count": 86,
     "metadata": {},
     "output_type": "execute_result"
    }
   ],
   "source": [
    "MyPtr{onetwoeightbits}"
   ]
  },
  {
   "cell_type": "code",
   "execution_count": 88,
   "metadata": {
    "collapsed": false
   },
   "outputs": [
    {
     "data": {
      "text/plain": [
       "MyPtr{T}"
      ]
     },
     "execution_count": 88,
     "metadata": {},
     "output_type": "execute_result"
    }
   ],
   "source": [
    "typealias MyAliasPtr MyPtr"
   ]
  },
  {
   "cell_type": "code",
   "execution_count": 89,
   "metadata": {
    "collapsed": false
   },
   "outputs": [
    {
     "data": {
      "text/plain": [
       "true"
      ]
     },
     "execution_count": 89,
     "metadata": {},
     "output_type": "execute_result"
    }
   ],
   "source": [
    "MyAliasPtr <: MyPtr"
   ]
  },
  {
   "cell_type": "code",
   "execution_count": 90,
   "metadata": {
    "collapsed": false
   },
   "outputs": [
    {
     "data": {
      "text/plain": [
       "true"
      ]
     },
     "execution_count": 90,
     "metadata": {},
     "output_type": "execute_result"
    }
   ],
   "source": [
    "MyPtr <: MyPtr"
   ]
  },
  {
   "cell_type": "code",
   "execution_count": 91,
   "metadata": {
    "collapsed": false
   },
   "outputs": [
    {
     "data": {
      "text/plain": [
       "true"
      ]
     },
     "execution_count": 91,
     "metadata": {},
     "output_type": "execute_result"
    }
   ],
   "source": [
    "Array{Float64,1} <: Array{Float64} <: Array"
   ]
  },
  {
   "cell_type": "code",
   "execution_count": 92,
   "metadata": {
    "collapsed": false
   },
   "outputs": [
    {
     "data": {
      "text/plain": [
       "Array{T,2}"
      ]
     },
     "execution_count": 92,
     "metadata": {},
     "output_type": "execute_result"
    }
   ],
   "source": [
    "typealias MyVector{T} Array{T,1}\n",
    "typealias MyMatrix{T} Array{T,2}"
   ]
  },
  {
   "cell_type": "code",
   "execution_count": 93,
   "metadata": {
    "collapsed": false
   },
   "outputs": [
    {
     "data": {
      "text/plain": [
       "AbstractFloat"
      ]
     },
     "execution_count": 93,
     "metadata": {},
     "output_type": "execute_result"
    }
   ],
   "source": [
    "super(Float64)"
   ]
  },
  {
   "cell_type": "code",
   "execution_count": 94,
   "metadata": {
    "collapsed": false
   },
   "outputs": [
    {
     "data": {
      "text/plain": [
       "Real"
      ]
     },
     "execution_count": 94,
     "metadata": {},
     "output_type": "execute_result"
    }
   ],
   "source": [
    "super(ans)"
   ]
  },
  {
   "cell_type": "code",
   "execution_count": 95,
   "metadata": {
    "collapsed": false
   },
   "outputs": [
    {
     "data": {
      "text/plain": [
       "Number"
      ]
     },
     "execution_count": 95,
     "metadata": {},
     "output_type": "execute_result"
    }
   ],
   "source": [
    "super(ans)"
   ]
  },
  {
   "cell_type": "code",
   "execution_count": 96,
   "metadata": {
    "collapsed": false
   },
   "outputs": [
    {
     "data": {
      "text/plain": [
       "Any"
      ]
     },
     "execution_count": 96,
     "metadata": {},
     "output_type": "execute_result"
    }
   ],
   "source": [
    "super(ans)"
   ]
  },
  {
   "cell_type": "code",
   "execution_count": 97,
   "metadata": {
    "collapsed": false
   },
   "outputs": [
    {
     "name": "stdout",
     "output_type": "stream",
     "text": [
      "First\n"
     ]
    }
   ],
   "source": [
    "function firstlast(b::Bool)\n",
    "    return b ? \"First\" : \"Last\"\n",
    "end\n",
    "\n",
    "println(firstlast(true))"
   ]
  },
  {
   "cell_type": "code",
   "execution_count": 98,
   "metadata": {
    "collapsed": false
   },
   "outputs": [
    {
     "data": {
      "text/plain": [
       "firstlast (generic function with 3 methods)"
      ]
     },
     "execution_count": 98,
     "metadata": {},
     "output_type": "execute_result"
    }
   ],
   "source": [
    "firstlast(::Type{Val{true}}) = \"First\"\n",
    "firstlast(::Type{Val{false}}) = \"Last\""
   ]
  },
  {
   "cell_type": "code",
   "execution_count": 99,
   "metadata": {
    "collapsed": false
   },
   "outputs": [
    {
     "data": {
      "text/latex": [
       "No documentation found.\n",
       "\\texttt{firstlast} is a generic \\texttt{Function}.\n",
       "\\begin{verbatim}\n",
       "# 3 methods for generic function \"firstlast\":\n",
       "firstlast(b::Bool) at In[97]:2\n",
       "firstlast(::Type{Val{true}}) at In[98]:1\n",
       "firstlast(::Type{Val{false}}) at In[98]:2\n",
       "\\end{verbatim}\n"
      ],
      "text/markdown": [
       "No documentation found.\n",
       "\n",
       "`firstlast` is a generic `Function`.\n",
       "\n",
       "```julia\n",
       "# 3 methods for generic function \"firstlast\":\n",
       "firstlast(b::Bool) at In[97]:2\n",
       "firstlast(::Type{Val{true}}) at In[98]:1\n",
       "firstlast(::Type{Val{false}}) at In[98]:2\n",
       "```\n"
      ],
      "text/plain": [
       "No documentation found.\n",
       "\n",
       "`firstlast` is a generic `Function`.\n",
       "\n",
       "```julia\n",
       "# 3 methods for generic function \"firstlast\":\n",
       "firstlast(b::Bool) at In[97]:2\n",
       "firstlast(::Type{Val{true}}) at In[98]:1\n",
       "firstlast(::Type{Val{false}}) at In[98]:2\n",
       "```\n"
      ]
     },
     "execution_count": 99,
     "metadata": {},
     "output_type": "execute_result"
    }
   ],
   "source": [
    "@doc firstlast"
   ]
  },
  {
   "cell_type": "code",
   "execution_count": 106,
   "metadata": {
    "collapsed": false
   },
   "outputs": [
    {
     "data": {
      "text/plain": [
       "\"First\""
      ]
     },
     "execution_count": 106,
     "metadata": {},
     "output_type": "execute_result"
    }
   ],
   "source": [
    "firstlast(Val{true})"
   ]
  },
  {
   "cell_type": "code",
   "execution_count": 107,
   "metadata": {
    "collapsed": false
   },
   "outputs": [
    {
     "data": {
      "text/plain": [
       "firstlast (generic function with 4 methods)"
      ]
     },
     "execution_count": 107,
     "metadata": {},
     "output_type": "execute_result"
    }
   ],
   "source": [
    "firstlast(::Type{Val{3}}) = \"3\""
   ]
  },
  {
   "cell_type": "code",
   "execution_count": 108,
   "metadata": {
    "collapsed": false
   },
   "outputs": [
    {
     "data": {
      "text/plain": [
       "\"3\""
      ]
     },
     "execution_count": 108,
     "metadata": {},
     "output_type": "execute_result"
    }
   ],
   "source": [
    "firstlast(Val{3})"
   ]
  },
  {
   "cell_type": "code",
   "execution_count": 109,
   "metadata": {
    "collapsed": false
   },
   "outputs": [
    {
     "ename": "LoadError",
     "evalue": "LoadError: MethodError: `firstlast` has no method matching firstlast(::Int64)\nwhile loading In[109], in expression starting on line 1",
     "output_type": "error",
     "traceback": [
      "LoadError: MethodError: `firstlast` has no method matching firstlast(::Int64)\nwhile loading In[109], in expression starting on line 1",
      ""
     ]
    }
   ],
   "source": [
    "firstlast(3)"
   ]
  },
  {
   "cell_type": "code",
   "execution_count": 110,
   "metadata": {
    "collapsed": false
   },
   "outputs": [
    {
     "ename": "LoadError",
     "evalue": "LoadError: MethodError: `isnull` has no method matching isnull(::Int64)\nwhile loading In[110], in expression starting on line 1",
     "output_type": "error",
     "traceback": [
      "LoadError: MethodError: `isnull` has no method matching isnull(::Int64)\nwhile loading In[110], in expression starting on line 1",
      ""
     ]
    }
   ],
   "source": [
    "isnull(3)"
   ]
  },
  {
   "cell_type": "code",
   "execution_count": 111,
   "metadata": {
    "collapsed": false
   },
   "outputs": [
    {
     "data": {
      "text/plain": [
       "false"
      ]
     },
     "execution_count": 111,
     "metadata": {},
     "output_type": "execute_result"
    }
   ],
   "source": [
    "isnull(Nullable(3))"
   ]
  },
  {
   "cell_type": "code",
   "execution_count": 112,
   "metadata": {
    "collapsed": false
   },
   "outputs": [
    {
     "ename": "LoadError",
     "evalue": "LoadError: NullException()\nwhile loading In[112], in expression starting on line 1",
     "output_type": "error",
     "traceback": [
      "LoadError: NullException()\nwhile loading In[112], in expression starting on line 1",
      "",
      " in get at nullable.jl:30"
     ]
    }
   ],
   "source": [
    "get(Nullable{Float64}())"
   ]
  },
  {
   "cell_type": "code",
   "execution_count": 113,
   "metadata": {
    "collapsed": false
   },
   "outputs": [
    {
     "data": {
      "text/html": [
       "20 methods for generic function <b>display</b>:<ul><li> display() at <a href=\"https://github.com/JuliaLang/IJulia.jl/tree/a675ac5c5b08bf75a2f4d2f3b80035252a4af3c1/src/inline.jl#L53\" target=\"_blank\">/Users/utensil/.julia/v0.4/IJulia/src/inline.jl:53</a><li> display(d::<b>Display</b>, mime::<b>AbstractString</b>, x) at <a href=\"https://github.com/JuliaLang/julia/tree/2ac304dfba75fad148d4070ef4f8a2e400c305bb/base/multimedia.jl#L110\" target=\"_blank\">multimedia.jl:110</a><li> display(mime::<b>AbstractString</b>, x) at <a href=\"https://github.com/JuliaLang/julia/tree/2ac304dfba75fad148d4070ef4f8a2e400c305bb/base/multimedia.jl#L111\" target=\"_blank\">multimedia.jl:111</a><li> display(d::<b>TextDisplay</b>, M::<b>MIME{symbol(\"text/plain\")}</b>, x) at <a href=\"https://github.com/JuliaLang/julia/tree/2ac304dfba75fad148d4070ef4f8a2e400c305bb/base/multimedia.jl#L119\" target=\"_blank\">multimedia.jl:119</a><li> display(d::<b>TextDisplay</b>, x) at <a href=\"https://github.com/JuliaLang/julia/tree/2ac304dfba75fad148d4070ef4f8a2e400c305bb/base/multimedia.jl#L120\" target=\"_blank\">multimedia.jl:120</a><li> display(m::<b>MIME{mime}</b>, x) at <a href=\"https://github.com/JuliaLang/julia/tree/2ac304dfba75fad148d4070ef4f8a2e400c305bb/base/multimedia.jl#L170\" target=\"_blank\">multimedia.jl:170</a><li> display(d::<b>Base.REPL.REPLDisplay{R<:Base.REPL.AbstractREPL}</b>, ::<b>MIME{symbol(\"text/plain\")}</b>, x) at <a href=\"https://github.com/JuliaLang/julia/tree/2ac304dfba75fad148d4070ef4f8a2e400c305bb/base/REPL.jl#L112\" target=\"_blank\">REPL.jl:112</a><li> display(d::<b>Base.REPL.REPLDisplay{R<:Base.REPL.AbstractREPL}</b>, md::<b>Base.Markdown.MD</b>) at <a href=\"https://github.com/JuliaLang/julia/tree/2ac304dfba75fad148d4070ef4f8a2e400c305bb/base/markdown/render/terminal/render.jl#L126\" target=\"_blank\">markdown/render/terminal/render.jl:126</a><li> display(d::<b>Base.REPL.REPLDisplay{R<:Base.REPL.AbstractREPL}</b>, md::<b>Array{Base.Markdown.MD,1}</b>) at <a href=\"https://github.com/JuliaLang/julia/tree/2ac304dfba75fad148d4070ef4f8a2e400c305bb/base/markdown/Markdown.jl#L61\" target=\"_blank\">markdown/Markdown.jl:61</a><li> display(d::<b>Base.REPL.REPLDisplay{R<:Base.REPL.AbstractREPL}</b>, x) at <a href=\"https://github.com/JuliaLang/julia/tree/2ac304dfba75fad148d4070ef4f8a2e400c305bb/base/REPL.jl#L117\" target=\"_blank\">REPL.jl:117</a><li> display(d::<b>IPythonDisplay.InlineDisplay</b>, ::<b>MIME{symbol(\"text/html\")}</b>, x) at <a href=\"https://github.com/JuliaLang/IJulia.jl/tree/a675ac5c5b08bf75a2f4d2f3b80035252a4af3c1/src/inline.jl#L19\" target=\"_blank\">/Users/utensil/.julia/v0.4/IJulia/src/inline.jl:19</a><li> display(d::<b>IPythonDisplay.InlineDisplay</b>, ::<b>MIME{symbol(\"text/latex\")}</b>, x) at <a href=\"https://github.com/JuliaLang/IJulia.jl/tree/a675ac5c5b08bf75a2f4d2f3b80035252a4af3c1/src/inline.jl#L19\" target=\"_blank\">/Users/utensil/.julia/v0.4/IJulia/src/inline.jl:19</a><li> display(d::<b>IPythonDisplay.InlineDisplay</b>, ::<b>MIME{symbol(\"image/svg+xml\")}</b>, x) at <a href=\"https://github.com/JuliaLang/IJulia.jl/tree/a675ac5c5b08bf75a2f4d2f3b80035252a4af3c1/src/inline.jl#L19\" target=\"_blank\">/Users/utensil/.julia/v0.4/IJulia/src/inline.jl:19</a><li> display(d::<b>IPythonDisplay.InlineDisplay</b>, ::<b>MIME{symbol(\"image/png\")}</b>, x) at <a href=\"https://github.com/JuliaLang/IJulia.jl/tree/a675ac5c5b08bf75a2f4d2f3b80035252a4af3c1/src/inline.jl#L19\" target=\"_blank\">/Users/utensil/.julia/v0.4/IJulia/src/inline.jl:19</a><li> display(d::<b>IPythonDisplay.InlineDisplay</b>, ::<b>MIME{symbol(\"image/jpeg\")}</b>, x) at <a href=\"https://github.com/JuliaLang/IJulia.jl/tree/a675ac5c5b08bf75a2f4d2f3b80035252a4af3c1/src/inline.jl#L19\" target=\"_blank\">/Users/utensil/.julia/v0.4/IJulia/src/inline.jl:19</a><li> display(d::<b>IPythonDisplay.InlineDisplay</b>, ::<b>MIME{symbol(\"text/plain\")}</b>, x) at <a href=\"https://github.com/JuliaLang/IJulia.jl/tree/a675ac5c5b08bf75a2f4d2f3b80035252a4af3c1/src/inline.jl#L19\" target=\"_blank\">/Users/utensil/.julia/v0.4/IJulia/src/inline.jl:19</a><li> display(d::<b>IPythonDisplay.InlineDisplay</b>, ::<b>MIME{symbol(\"text/markdown\")}</b>, x) at <a href=\"https://github.com/JuliaLang/IJulia.jl/tree/a675ac5c5b08bf75a2f4d2f3b80035252a4af3c1/src/inline.jl#L19\" target=\"_blank\">/Users/utensil/.julia/v0.4/IJulia/src/inline.jl:19</a><li> display(d::<b>IPythonDisplay.InlineDisplay</b>, m::<b>MIME{symbol(\"application/x-latex\")}</b>, x) at <a href=\"https://github.com/JuliaLang/IJulia.jl/tree/a675ac5c5b08bf75a2f4d2f3b80035252a4af3c1/src/inline.jl#L29\" target=\"_blank\">/Users/utensil/.julia/v0.4/IJulia/src/inline.jl:29</a><li> display(d::<b>IPythonDisplay.InlineDisplay</b>, x) at <a href=\"https://github.com/JuliaLang/IJulia.jl/tree/a675ac5c5b08bf75a2f4d2f3b80035252a4af3c1/src/inline.jl#L34\" target=\"_blank\">/Users/utensil/.julia/v0.4/IJulia/src/inline.jl:34</a><li> display(x) at <a href=\"https://github.com/JuliaLang/julia/tree/2ac304dfba75fad148d4070ef4f8a2e400c305bb/base/multimedia.jl#L162\" target=\"_blank\">multimedia.jl:162</a></ul>"
      ],
      "text/plain": [
       "# 20 methods for generic function \"display\":\n",
       "display() at /Users/utensil/.julia/v0.4/IJulia/src/inline.jl:53\n",
       "display(d::Display, mime::AbstractString, x) at multimedia.jl:110\n",
       "display(mime::AbstractString, x) at multimedia.jl:111\n",
       "display(d::TextDisplay, M::MIME{symbol(\"text/plain\")}, x) at multimedia.jl:119\n",
       "display(d::TextDisplay, x) at multimedia.jl:120\n",
       "display(m::MIME{mime}, x) at multimedia.jl:170\n",
       "display(d::Base.REPL.REPLDisplay{R<:Base.REPL.AbstractREPL}, ::MIME{symbol(\"text/plain\")}, x) at REPL.jl:112\n",
       "display(d::Base.REPL.REPLDisplay{R<:Base.REPL.AbstractREPL}, md::Base.Markdown.MD) at markdown/render/terminal/render.jl:126\n",
       "display(d::Base.REPL.REPLDisplay{R<:Base.REPL.AbstractREPL}, md::Array{Base.Markdown.MD,1}) at markdown/Markdown.jl:61\n",
       "display(d::Base.REPL.REPLDisplay{R<:Base.REPL.AbstractREPL}, x) at REPL.jl:117\n",
       "display(d::IPythonDisplay.InlineDisplay, ::MIME{symbol(\"text/html\")}, x) at /Users/utensil/.julia/v0.4/IJulia/src/inline.jl:19\n",
       "display(d::IPythonDisplay.InlineDisplay, ::MIME{symbol(\"text/latex\")}, x) at /Users/utensil/.julia/v0.4/IJulia/src/inline.jl:19\n",
       "display(d::IPythonDisplay.InlineDisplay, ::MIME{symbol(\"image/svg+xml\")}, x) at /Users/utensil/.julia/v0.4/IJulia/src/inline.jl:19\n",
       "display(d::IPythonDisplay.InlineDisplay, ::MIME{symbol(\"image/png\")}, x) at /Users/utensil/.julia/v0.4/IJulia/src/inline.jl:19\n",
       "display(d::IPythonDisplay.InlineDisplay, ::MIME{symbol(\"image/jpeg\")}, x) at /Users/utensil/.julia/v0.4/IJulia/src/inline.jl:19\n",
       "display(d::IPythonDisplay.InlineDisplay, ::MIME{symbol(\"text/plain\")}, x) at /Users/utensil/.julia/v0.4/IJulia/src/inline.jl:19\n",
       "display(d::IPythonDisplay.InlineDisplay, ::MIME{symbol(\"text/markdown\")}, x) at /Users/utensil/.julia/v0.4/IJulia/src/inline.jl:19\n",
       "display(d::IPythonDisplay.InlineDisplay, m::MIME{symbol(\"application/x-latex\")}, x) at /Users/utensil/.julia/v0.4/IJulia/src/inline.jl:29\n",
       "display(d::IPythonDisplay.InlineDisplay, x) at /Users/utensil/.julia/v0.4/IJulia/src/inline.jl:34\n",
       "display(x) at multimedia.jl:162"
      ]
     },
     "execution_count": 113,
     "metadata": {},
     "output_type": "execute_result"
    }
   ],
   "source": [
    "methods(display)"
   ]
  },
  {
   "cell_type": "code",
   "execution_count": 115,
   "metadata": {
    "collapsed": false
   },
   "outputs": [
    {
     "data": {
      "text/plain": [
       "optional_function (generic function with 3 methods)"
      ]
     },
     "execution_count": 115,
     "metadata": {},
     "output_type": "execute_result"
    }
   ],
   "source": [
    "optional_function(a=1, b=2) = a + b"
   ]
  },
  {
   "cell_type": "code",
   "execution_count": 116,
   "metadata": {
    "collapsed": false
   },
   "outputs": [
    {
     "data": {
      "text/html": [
       "3 methods for generic function <b>optional_function</b>:<ul><li> optional_function() at In[115]:1<li> optional_function(a) at In[115]:1<li> optional_function(a, b) at In[115]:1</ul>"
      ],
      "text/plain": [
       "# 3 methods for generic function \"optional_function\":\n",
       "optional_function() at In[115]:1\n",
       "optional_function(a) at In[115]:1\n",
       "optional_function(a, b) at In[115]:1"
      ]
     },
     "execution_count": 116,
     "metadata": {},
     "output_type": "execute_result"
    }
   ],
   "source": [
    "methods(optional_function)"
   ]
  },
  {
   "cell_type": "code",
   "execution_count": 119,
   "metadata": {
    "collapsed": false
   },
   "outputs": [
    {
     "name": "stdout",
     "output_type": "stream",
     "text": [
      "abc￹abc￻abc\n"
     ]
    }
   ],
   "source": [
    "println(\"abc\\ufff9abc\\ufffbabc\")"
   ]
  },
  {
   "cell_type": "code",
   "execution_count": 122,
   "metadata": {
    "collapsed": false
   },
   "outputs": [
    {
     "name": "stdout",
     "output_type": "stream",
     "text": [
      "abc￺abc￻abc\n"
     ]
    }
   ],
   "source": [
    "println(\"abc\\ufffaabc\\ufffbabc\")"
   ]
  },
  {
   "cell_type": "code",
   "execution_count": 123,
   "metadata": {
    "collapsed": false
   },
   "outputs": [
    {
     "name": "stdout",
     "output_type": "stream",
     "text": [
      "‮ABCDE‭XYZ\n"
     ]
    }
   ],
   "source": [
    "println(\"\\u202eABCDE\\u202dXYZ\")"
   ]
  },
  {
   "cell_type": "code",
   "execution_count": 124,
   "metadata": {
    "collapsed": false
   },
   "outputs": [
    {
     "name": "stdout",
     "output_type": "stream",
     "text": [
      "大字‍小字\n"
     ]
    }
   ],
   "source": [
    "println(\"大字\\u200d小字\")"
   ]
  },
  {
   "cell_type": "code",
   "execution_count": 125,
   "metadata": {
    "collapsed": false
   },
   "outputs": [
    {
     "data": {
      "text/plain": [
       "call (generic function with 1094 methods)"
      ]
     },
     "execution_count": 125,
     "metadata": {},
     "output_type": "execute_result"
    }
   ],
   "source": [
    "Base.call(x::Number, arg) = x * arg"
   ]
  },
  {
   "cell_type": "code",
   "execution_count": 126,
   "metadata": {
    "collapsed": false
   },
   "outputs": [
    {
     "data": {
      "text/plain": [
       "10"
      ]
     },
     "execution_count": 126,
     "metadata": {},
     "output_type": "execute_result"
    }
   ],
   "source": [
    "a_number=10"
   ]
  },
  {
   "cell_type": "code",
   "execution_count": 127,
   "metadata": {
    "collapsed": false
   },
   "outputs": [
    {
     "data": {
      "text/plain": [
       "200"
      ]
     },
     "execution_count": 127,
     "metadata": {},
     "output_type": "execute_result"
    }
   ],
   "source": [
    "10(20)"
   ]
  },
  {
   "cell_type": "code",
   "execution_count": 128,
   "metadata": {
    "collapsed": false
   },
   "outputs": [
    {
     "data": {
      "text/plain": [
       "emptyfunc (generic function with 0 methods)"
      ]
     },
     "execution_count": 128,
     "metadata": {},
     "output_type": "execute_result"
    }
   ],
   "source": [
    "function emptyfunc\n",
    "end"
   ]
  },
  {
   "cell_type": "code",
   "execution_count": 1,
   "metadata": {
    "collapsed": true
   },
   "outputs": [],
   "source": [
    "type OrderedPair\n",
    "  x::Real\n",
    "  y::Real\n",
    "\n",
    "  OrderedPair(x,y) = x > y ? error(\"out of order\") : new(x,y)\n",
    "end"
   ]
  },
  {
   "cell_type": "code",
   "execution_count": 2,
   "metadata": {
    "collapsed": false
   },
   "outputs": [
    {
     "data": {
      "text/plain": [
       "OrderedPair(1,2)"
      ]
     },
     "execution_count": 2,
     "metadata": {},
     "output_type": "execute_result"
    }
   ],
   "source": [
    "OrderedPair(1, 2)"
   ]
  },
  {
   "cell_type": "code",
   "execution_count": 3,
   "metadata": {
    "collapsed": false
   },
   "outputs": [
    {
     "ename": "LoadError",
     "evalue": "LoadError: out of order\nwhile loading In[3], in expression starting on line 1",
     "output_type": "error",
     "traceback": [
      "LoadError: out of order\nwhile loading In[3], in expression starting on line 1",
      "",
      " in call at In[1]:5"
     ]
    }
   ],
   "source": [
    "OrderedPair(2, 1)"
   ]
  },
  {
   "cell_type": "code",
   "execution_count": 4,
   "metadata": {
    "collapsed": true
   },
   "outputs": [],
   "source": [
    "type Foo\n",
    "  bar\n",
    "  baz\n",
    "\n",
    "  Foo(bar,baz) = new(bar,baz)\n",
    "end"
   ]
  },
  {
   "cell_type": "code",
   "execution_count": 1,
   "metadata": {
    "collapsed": false
   },
   "outputs": [],
   "source": [
    "type SelfReferential\n",
    "  obj::SelfReferential\n",
    "end"
   ]
  },
  {
   "cell_type": "code",
   "execution_count": 2,
   "metadata": {
    "collapsed": false
   },
   "outputs": [],
   "source": [
    "type BetterSelfReferential\n",
    "  obj::BetterSelfReferential\n",
    "\n",
    "  BetterSelfReferential() = (x = new(); x.obj = x)\n",
    "end"
   ]
  },
  {
   "cell_type": "code",
   "execution_count": 4,
   "metadata": {
    "collapsed": false
   },
   "outputs": [
    {
     "ename": "LoadError",
     "evalue": "LoadError: MethodError: `convert` has no method matching convert(::Type{SelfReferential})\nThis may have arisen from a call to the constructor SelfReferential(...),\nsince type constructors fall back to convert methods.\nClosest candidates are:\n  convert{T}(::Type{T}, !Matched::T)\n  SelfReferential(, !Matched::SelfReferential)\n  SelfReferential(, !Matched::Any)\n  ...\nwhile loading In[4], in expression starting on line 1",
     "output_type": "error",
     "traceback": [
      "LoadError: MethodError: `convert` has no method matching convert(::Type{SelfReferential})\nThis may have arisen from a call to the constructor SelfReferential(...),\nsince type constructors fall back to convert methods.\nClosest candidates are:\n  convert{T}(::Type{T}, !Matched::T)\n  SelfReferential(, !Matched::SelfReferential)\n  SelfReferential(, !Matched::Any)\n  ...\nwhile loading In[4], in expression starting on line 1",
      "",
      " in call at essentials.jl:57"
     ]
    }
   ],
   "source": [
    "sr = SelfReferential()"
   ]
  },
  {
   "cell_type": "code",
   "execution_count": 5,
   "metadata": {
    "collapsed": false
   },
   "outputs": [
    {
     "data": {
      "text/plain": [
       "BetterSelfReferential(BetterSelfReferential(#= circular reference =#))"
      ]
     },
     "execution_count": 5,
     "metadata": {},
     "output_type": "execute_result"
    }
   ],
   "source": [
    "bsr = BetterSelfReferential()"
   ]
  },
  {
   "cell_type": "code",
   "execution_count": 6,
   "metadata": {
    "collapsed": false
   },
   "outputs": [
    {
     "data": {
      "text/plain": [
       "true"
      ]
     },
     "execution_count": 6,
     "metadata": {},
     "output_type": "execute_result"
    }
   ],
   "source": [
    "is(bsr, bsr.obj.obj)"
   ]
  },
  {
   "cell_type": "markdown",
   "metadata": {},
   "source": [
    "In some cases you could consider adding methods to Base.convert instead of defining a constructor, because defining a convert() method automatically defines a corresponding constructor, while the reverse is not true. That is, defining Base.convert(::Type{T}, args...) = ... automatically defines a constructor T(args...) = ....\n",
    "\n"
   ]
  },
  {
   "cell_type": "code",
   "execution_count": 7,
   "metadata": {
    "collapsed": true
   },
   "outputs": [],
   "source": [
    "type SummedArray{T<:Number,S<:Number}\n",
    "    data::Vector{T}\n",
    "    sum::S\n",
    "\n",
    "    function call{T}(::Type{SummedArray}, a::Vector{T})\n",
    "        S = widen(T)\n",
    "        new{T,S}(a, sum(S, a))\n",
    "    end\n",
    "end"
   ]
  },
  {
   "cell_type": "code",
   "execution_count": 11,
   "metadata": {
    "collapsed": false
   },
   "outputs": [
    {
     "data": {
      "text/plain": [
       "SummedArray{Int32,Int64}(Int32[1,2,3],6)"
      ]
     },
     "execution_count": 11,
     "metadata": {},
     "output_type": "execute_result"
    }
   ],
   "source": [
    "sa = SummedArray(Vector{Int32}([1, 2, 3]))"
   ]
  },
  {
   "cell_type": "code",
   "execution_count": 12,
   "metadata": {
    "collapsed": false
   },
   "outputs": [
    {
     "data": {
      "text/plain": [
       "6"
      ]
     },
     "execution_count": 12,
     "metadata": {},
     "output_type": "execute_result"
    }
   ],
   "source": [
    "sa.sum"
   ]
  },
  {
   "cell_type": "markdown",
   "metadata": {},
   "source": [
    "```\n",
    "promote_rule(::Type{UInt8}, ::Type{Int8}) = Int\n",
    "promote_rule(::Type{BigInt}, ::Type{Int8}) = BigInt\n",
    "```"
   ]
  },
  {
   "cell_type": "code",
   "execution_count": 13,
   "metadata": {
    "collapsed": false
   },
   "outputs": [
    {
     "data": {
      "text/plain": [
       "Int64"
      ]
     },
     "execution_count": 13,
     "metadata": {},
     "output_type": "execute_result"
    }
   ],
   "source": [
    "promote_type(Int8, UInt16)"
   ]
  },
  {
   "cell_type": "markdown",
   "metadata": {},
   "source": [
    "```julia\n",
    "promote_rule{T<:Integer}(::Type{Rational{T}}, ::Type{T}) = Rational{T}\n",
    "promote_rule{T<:Integer,S<:Integer}(::Type{Rational{T}}, ::Type{S}) = Rational{promote_type(T,S)}\n",
    "promote_rule{T<:Integer,S<:Integer}(::Type{Rational{T}}, ::Type{Rational{S}}) = Rational{promote_type(T,S)}\n",
    "promote_rule{T<:Integer,S<:AbstractFloat}(::Type{Rational{T}}, ::Type{S}) = promote_type(T,S)\n",
    "```"
   ]
  },
  {
   "cell_type": "code",
   "execution_count": 14,
   "metadata": {
    "collapsed": true
   },
   "outputs": [],
   "source": [
    "immutable Squares\n",
    "   count::Int\n",
    "end\n",
    "Base.start(::Squares) = 1\n",
    "Base.next(S::Squares, state) = (state*state, state+1)\n",
    "Base.done(S::Squares, s) = s > S.count;\n",
    "Base.eltype(::Type{Squares}) = Int # Note that this is defined for the type\n",
    "Base.length(S::Squares) = S.count;"
   ]
  },
  {
   "cell_type": "code",
   "execution_count": 15,
   "metadata": {
    "collapsed": false
   },
   "outputs": [
    {
     "name": "stdout",
     "output_type": "stream",
     "text": [
      "1\n",
      "4\n",
      "9\n",
      "16\n",
      "25\n",
      "36\n",
      "49\n"
     ]
    }
   ],
   "source": [
    "for i in Squares(7)\n",
    "   println(i)\n",
    "end"
   ]
  },
  {
   "cell_type": "code",
   "execution_count": 16,
   "metadata": {
    "collapsed": false
   },
   "outputs": [
    {
     "data": {
      "text/plain": [
       "true"
      ]
     },
     "execution_count": 16,
     "metadata": {},
     "output_type": "execute_result"
    }
   ],
   "source": [
    "length(Squares(100)) == 100"
   ]
  },
  {
   "cell_type": "code",
   "execution_count": 17,
   "metadata": {
    "collapsed": false
   },
   "outputs": [
    {
     "data": {
      "text/plain": [
       "true"
      ]
     },
     "execution_count": 17,
     "metadata": {},
     "output_type": "execute_result"
    }
   ],
   "source": [
    "25 in Squares(10)"
   ]
  },
  {
   "cell_type": "code",
   "execution_count": 18,
   "metadata": {
    "collapsed": false
   },
   "outputs": [
    {
     "data": {
      "text/plain": [
       "(3383.5,3024.355854282583)"
      ]
     },
     "execution_count": 18,
     "metadata": {},
     "output_type": "execute_result"
    }
   ],
   "source": [
    "mean(Squares(100)), std(Squares(100))"
   ]
  },
  {
   "cell_type": "code",
   "execution_count": 19,
   "metadata": {
    "collapsed": false
   },
   "outputs": [
    {
     "data": {
      "text/plain": [
       "1x100 Array{Int64,2}:\n",
       " 1  4  9  16  25  36  49  64  81  100  …  9025  9216  9409  9604  9801  10000"
      ]
     },
     "execution_count": 19,
     "metadata": {},
     "output_type": "execute_result"
    }
   ],
   "source": [
    " collect(Squares(100))'"
   ]
  },
  {
   "cell_type": "code",
   "execution_count": 21,
   "metadata": {
    "collapsed": false
   },
   "outputs": [
    {
     "data": {
      "text/plain": [
       "1955361914"
      ]
     },
     "execution_count": 21,
     "metadata": {},
     "output_type": "execute_result"
    }
   ],
   "source": [
    "Base.sum(S::Squares) = (n = S.count; return n*(n+1)*(2n+1)÷6)\n",
    "       sum(Squares(1803))"
   ]
  },
  {
   "cell_type": "code",
   "execution_count": 23,
   "metadata": {
    "collapsed": false
   },
   "outputs": [
    {
     "data": {
      "text/plain": [
       "true"
      ]
     },
     "execution_count": 23,
     "metadata": {},
     "output_type": "execute_result"
    }
   ],
   "source": [
    "1 + 2 | 3 == (1 + 2) | 3"
   ]
  },
  {
   "cell_type": "code",
   "execution_count": 24,
   "metadata": {
    "collapsed": false
   },
   "outputs": [
    {
     "data": {
      "text/plain": [
       "2"
      ]
     },
     "execution_count": 24,
     "metadata": {},
     "output_type": "execute_result"
    }
   ],
   "source": [
    "1 .* 2"
   ]
  },
  {
   "cell_type": "markdown",
   "metadata": {},
   "source": [
    "```julia\n",
    "module MyModule\n",
    "using Lib\n",
    "\n",
    "using BigLib: thing1, thing2\n",
    "\n",
    "import Base.show\n",
    "\n",
    "importall OtherLib\n",
    "\n",
    "export MyType, foo\n",
    "\n",
    "type MyType\n",
    "    x\n",
    "end\n",
    "\n",
    "bar(x) = 2x\n",
    "foo(a::MyType) = bar(a.x) + 1\n",
    "\n",
    "show(io, a::MyType) = print(io, \"MyType $(a.x)\")\n",
    "end\n",
    "```"
   ]
  },
  {
   "cell_type": "markdown",
   "metadata": {},
   "source": [
    "```julia\n",
    "module Parent\n",
    "\n",
    "module Utils\n",
    "...\n",
    "end\n",
    "\n",
    "using .Utils\n",
    "\n",
    "...\n",
    "end\n",
    "```"
   ]
  },
  {
   "cell_type": "code",
   "execution_count": 25,
   "metadata": {
    "collapsed": false
   },
   "outputs": [
    {
     "data": {
      "text/latex": [
       "\\begin{verbatim}\n",
       "@time\n",
       "\\end{verbatim}\n",
       "A macro to execute an expression, printing the time it took to execute, the number of allocations, and the total number of bytes its execution caused to be allocated, before returning the value of the expression.\n"
      ],
      "text/markdown": [
       "```\n",
       "@time\n",
       "```\n",
       "\n",
       "A macro to execute an expression, printing the time it took to execute, the number of allocations, and the total number of bytes its execution caused to be allocated, before returning the value of the expression.\n"
      ],
      "text/plain": [
       "```\n",
       "@time\n",
       "```\n",
       "\n",
       "A macro to execute an expression, printing the time it took to execute, the number of allocations, and the total number of bytes its execution caused to be allocated, before returning the value of the expression.\n"
      ]
     },
     "execution_count": 25,
     "metadata": {},
     "output_type": "execute_result"
    }
   ],
   "source": [
    "?@time"
   ]
  },
  {
   "cell_type": "code",
   "execution_count": 35,
   "metadata": {
    "collapsed": false
   },
   "outputs": [
    {
     "name": "stdout",
     "output_type": "stream",
     "text": [
      "  4.591638 seconds (10 allocations: 4.470 GB, 4.91% gc time)\n"
     ]
    },
    {
     "data": {
      "text/plain": [
       "1x300000000 Array{Int64,2}:\n",
       " 1  4  9  16  25  36  49  64  81  100  121  144  169  …  90000000000000000"
      ]
     },
     "execution_count": 35,
     "metadata": {},
     "output_type": "execute_result"
    }
   ],
   "source": [
    "@time collect(Squares(300000000))'"
   ]
  },
  {
   "cell_type": "markdown",
   "metadata": {},
   "source": [
    "to re-use documentation between different versions of a function:\n",
    "\n",
    "```\n",
    "@doc \"...\" foo!\n",
    "@doc (@doc foo!) foo\n",
    "    ```"
   ]
  },
  {
   "cell_type": "code",
   "execution_count": 36,
   "metadata": {
    "collapsed": false
   },
   "outputs": [
    {
     "data": {
      "text/plain": [
       "(anonymous function)"
      ]
     },
     "execution_count": 36,
     "metadata": {},
     "output_type": "execute_result"
    }
   ],
   "source": [
    "foo = (x) -> 0"
   ]
  },
  {
   "cell_type": "code",
   "execution_count": 37,
   "metadata": {
    "collapsed": true
   },
   "outputs": [],
   "source": [
    "@doc \"fooing\" foo"
   ]
  },
  {
   "cell_type": "code",
   "execution_count": 38,
   "metadata": {
    "collapsed": false
   },
   "outputs": [
    {
     "data": {
      "text/latex": [
       "fooing\n"
      ],
      "text/markdown": [
       "fooing\n"
      ],
      "text/plain": [
       "fooing\n"
      ]
     },
     "execution_count": 38,
     "metadata": {},
     "output_type": "execute_result"
    }
   ],
   "source": [
    "@doc foo"
   ]
  },
  {
   "cell_type": "code",
   "execution_count": 39,
   "metadata": {
    "collapsed": false
   },
   "outputs": [
    {
     "data": {
      "text/latex": [
       "\\texttt{abc} is just \\_ABC\\_ as we know\n"
      ],
      "text/markdown": [
       "`abc` is just _ABC_ as we know\n"
      ],
      "text/plain": [
       "`abc` is just _ABC_ as we know\n"
      ]
     },
     "execution_count": 39,
     "metadata": {},
     "output_type": "execute_result"
    }
   ],
   "source": [
    "\"`abc` is just _ABC_ as we know\"\n",
    "abc = \"abc\""
   ]
  },
  {
   "cell_type": "code",
   "execution_count": 40,
   "metadata": {
    "collapsed": false
   },
   "outputs": [
    {
     "data": {
      "text/latex": [
       "\\texttt{abc} is just \\_ABC\\_ as we know\n"
      ],
      "text/markdown": [
       "`abc` is just _ABC_ as we know\n"
      ],
      "text/plain": [
       "`abc` is just _ABC_ as we know\n"
      ]
     },
     "execution_count": 40,
     "metadata": {},
     "output_type": "execute_result"
    }
   ],
   "source": [
    "@doc abc"
   ]
  },
  {
   "cell_type": "code",
   "execution_count": null,
   "metadata": {
    "collapsed": true
   },
   "outputs": [],
   "source": []
  }
 ],
 "metadata": {
  "kernelspec": {
   "display_name": "Julia 0.4.5",
   "language": "julia",
   "name": "julia-0.4"
  },
  "language_info": {
   "file_extension": ".jl",
   "mimetype": "application/julia",
   "name": "julia",
   "version": "0.4.5"
  }
 },
 "nbformat": 4,
 "nbformat_minor": 0
}
