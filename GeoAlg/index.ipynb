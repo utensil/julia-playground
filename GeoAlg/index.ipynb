{
 "cells": [
  {
   "cell_type": "code",
   "execution_count": 9,
   "metadata": {
    "collapsed": false
   },
   "outputs": [],
   "source": [
    "using PyCall"
   ]
  },
  {
   "cell_type": "code",
   "execution_count": 19,
   "metadata": {
    "collapsed": false
   },
   "outputs": [],
   "source": [
    "cd(\"/Users/utensil/experiments/\")"
   ]
  },
  {
   "cell_type": "code",
   "execution_count": 13,
   "metadata": {
    "collapsed": false
   },
   "outputs": [
    {
     "name": "stderr",
     "output_type": "stream",
     "text": [
      "Cloning into 'galgebra'...\n"
     ]
    }
   ],
   "source": [
    "run(`git clone https://github.com/brombo/galgebra.git`)"
   ]
  },
  {
   "cell_type": "code",
   "execution_count": 20,
   "metadata": {
    "collapsed": true
   },
   "outputs": [],
   "source": [
    "cd(\"galgebra\")"
   ]
  },
  {
   "cell_type": "code",
   "execution_count": 14,
   "metadata": {
    "collapsed": false
   },
   "outputs": [
    {
     "name": "stdout",
     "output_type": "stream",
     "text": [
      "running install\n",
      "running bdist_egg\n",
      "running egg_info\n",
      "creating galgebra.egg-info\n",
      "writing requirements to galgebra.egg-info/requires.txt\n",
      "writing galgebra.egg-info/PKG-INFO\n",
      "writing top-level names to galgebra.egg-info/top_level.txt\n",
      "writing dependency_links to galgebra.egg-info/dependency_links.txt\n",
      "writing manifest file 'galgebra.egg-info/SOURCES.txt'\n",
      "reading manifest file 'galgebra.egg-info/SOURCES.txt'\n",
      "writing manifest file 'galgebra.egg-info/SOURCES.txt'\n",
      "installing library code to build/bdist.macosx-10.5-x86_64/egg\n",
      "running install_lib\n",
      "running build_py\n",
      "creating build\n",
      "creating build/lib\n",
      "creating build/lib/galgebra\n",
      "copying galgebra/__init__.py -> build/lib/galgebra\n",
      "copying galgebra/ga.py -> build/lib/galgebra\n",
      "copying galgebra/lt.py -> build/lib/galgebra\n",
      "copying galgebra/metric.py -> build/lib/galgebra\n",
      "copying galgebra/mv.py -> build/lib/galgebra\n",
      "copying galgebra/printer.py -> build/lib/galgebra\n",
      "copying galgebra/setgapth.py -> build/lib/galgebra\n",
      "creating build/lib/tests\n",
      "copying tests/__init__.py -> build/lib/tests\n",
      "copying tests/test_mv.py -> build/lib/tests\n",
      "copying tests/test_test.py -> build/lib/tests\n",
      "creating build/bdist.macosx-10.5-x86_64\n",
      "creating build/bdist.macosx-10.5-x86_64/egg\n",
      "creating build/bdist.macosx-10.5-x86_64/egg/galgebra\n",
      "copying build/lib/galgebra/__init__.py -> build/bdist.macosx-10.5-x86_64/egg/galgebra\n",
      "copying build/lib/galgebra/ga.py -> build/bdist.macosx-10.5-x86_64/egg/galgebra\n",
      "copying build/lib/galgebra/lt.py -> build/bdist.macosx-10.5-x86_64/egg/galgebra\n",
      "copying build/lib/galgebra/metric.py -> build/bdist.macosx-10.5-x86_64/egg/galgebra\n",
      "copying build/lib/galgebra/mv.py -> build/bdist.macosx-10.5-x86_64/egg/galgebra\n",
      "copying build/lib/galgebra/printer.py -> build/bdist.macosx-10.5-x86_64/egg/galgebra\n",
      "copying build/lib/galgebra/setgapth.py -> build/bdist.macosx-10.5-x86_64/egg/galgebra\n",
      "creating build/bdist.macosx-10.5-x86_64/egg/tests\n",
      "copying build/lib/tests/__init__.py -> build/bdist.macosx-10.5-x86_64/egg/tests\n",
      "copying build/lib/tests/test_mv.py -> build/bdist.macosx-10.5-x86_64/egg/tests\n",
      "copying build/lib/tests/test_test.py -> build/bdist.macosx-10.5-x86_64/egg/tests\n",
      "byte-compiling build/bdist.macosx-10.5-x86_64/egg/galgebra/__init__.py to __init__.pyc\n",
      "byte-compiling build/bdist.macosx-10.5-x86_64/egg/galgebra/ga.py to ga.pyc\n",
      "byte-compiling build/bdist.macosx-10.5-x86_64/egg/galgebra/lt.py to lt.pyc\n",
      "byte-compiling build/bdist.macosx-10.5-x86_64/egg/galgebra/metric.py to metric.pyc\n",
      "byte-compiling build/bdist.macosx-10.5-x86_64/egg/galgebra/mv.py to mv.pyc\n",
      "byte-compiling build/bdist.macosx-10.5-x86_64/egg/galgebra/printer.py to printer.pyc\n",
      "byte-compiling build/bdist.macosx-10.5-x86_64/egg/galgebra/setgapth.py to setgapth.pyc\n",
      "byte-compiling build/bdist.macosx-10.5-x86_64/egg/tests/__init__.py to __init__.pyc\n",
      "byte-compiling build/bdist.macosx-10.5-x86_64/egg/tests/test_mv.py to test_mv.pyc\n",
      "byte-compiling build/bdist.macosx-10.5-x86_64/egg/tests/test_test.py to test_test.pyc\n",
      "creating build/bdist.macosx-10.5-x86_64/egg/EGG-INFO\n",
      "copying galgebra.egg-info/PKG-INFO -> build/bdist.macosx-10.5-x86_64/egg/EGG-INFO\n",
      "copying galgebra.egg-info/SOURCES.txt -> build/bdist.macosx-10.5-x86_64/egg/EGG-INFO\n",
      "copying galgebra.egg-info/dependency_links.txt -> build/bdist.macosx-10.5-x86_64/egg/EGG-INFO\n",
      "copying galgebra.egg-info/requires.txt -> build/bdist.macosx-10.5-x86_64/egg/EGG-INFO\n",
      "copying galgebra.egg-info/top_level.txt -> build/bdist.macosx-10.5-x86_64/egg/EGG-INFO\n",
      "creating dist\n",
      "creating 'dist/galgebra-0.4.0-py2.7.egg' and adding 'build/bdist.macosx-10.5-x86_64/egg' to it\n"
     ]
    },
    {
     "name": "stderr",
     "output_type": "stream",
     "text": [
      "zip_safe flag not set; analyzing archive contents...\n",
      "galgebra.printer: module MAY be using inspect.getouterframes\n"
     ]
    },
    {
     "name": "stdout",
     "output_type": "stream",
     "text": [
      "removing 'build/bdist.macosx-10.5-x86_64/egg' (and everything under it)\n",
      "Processing galgebra-0.4.0-py2.7.egg\n",
      "creating /Users/utensil/miniconda2/lib/python2.7/site-packages/galgebra-0.4.0-py2.7.egg\n",
      "Extracting galgebra-0.4.0-py2.7.egg to /Users/utensil/miniconda2/lib/python2.7/site-packages\n",
      "Adding galgebra 0.4.0 to easy-install.pth file\n",
      "\n",
      "Installed /Users/utensil/miniconda2/lib/python2.7/site-packages/galgebra-0.4.0-py2.7.egg\n",
      "Processing dependencies for galgebra==0.4.0\n",
      "Searching for numpy==1.9.2\n",
      "Best match: numpy 1.9.2\n",
      "Adding numpy 1.9.2 to easy-install.pth file\n",
      "\n",
      "Using /Users/utensil/miniconda2/lib/python2.7/site-packages\n",
      "Searching for sympy==1.0\n",
      "Best match: sympy 1.0\n",
      "Adding sympy 1.0 to easy-install.pth file\n",
      "\n",
      "Using /Users/utensil/miniconda2/lib/python2.7/site-packages\n",
      "Finished processing dependencies for galgebra==0.4.0\n"
     ]
    }
   ],
   "source": [
    "run(`python setup.py install`)"
   ]
  },
  {
   "cell_type": "code",
   "execution_count": 21,
   "metadata": {
    "collapsed": false
   },
   "outputs": [
    {
     "name": "stdout",
     "output_type": "stream",
     "text": [
      "running test\n",
      "running egg_info\n",
      "writing requirements to galgebra.egg-info/requires.txt\n",
      "writing galgebra.egg-info/PKG-INFO\n",
      "writing top-level names to galgebra.egg-info/top_level.txt\n",
      "writing dependency_links to galgebra.egg-info/dependency_links.txt\n",
      "reading manifest file 'galgebra.egg-info/SOURCES.txt'\n",
      "writing manifest file 'galgebra.egg-info/SOURCES.txt'\n",
      "running build_ext\n"
     ]
    },
    {
     "name": "stderr",
     "output_type": "stream",
     "text": [
      "\n",
      "----------------------------------------------------------------------\n",
      "Ran 0 tests in 0.000s\n",
      "\n",
      "OK\n"
     ]
    }
   ],
   "source": [
    "run(`python setup.py test`)"
   ]
  },
  {
   "cell_type": "code",
   "execution_count": 3,
   "metadata": {
    "collapsed": false
   },
   "outputs": [
    {
     "data": {
      "text/plain": [
       "\"a0 a1 a2 n nbar\""
      ]
     },
     "execution_count": 3,
     "metadata": {},
     "output_type": "execute_result"
    }
   ],
   "source": [
    "basis = \"a0 a1 a2 n nbar\""
   ]
  },
  {
   "cell_type": "code",
   "execution_count": 4,
   "metadata": {
    "collapsed": false
   },
   "outputs": [
    {
     "data": {
      "text/plain": [
       "\"# # # 0 0, # # # 0 0, # # # 0 0, 0 0 0 0 2, 0 0 0 2 0\""
      ]
     },
     "execution_count": 4,
     "metadata": {},
     "output_type": "execute_result"
    }
   ],
   "source": [
    "metric = \"# # # 0 0, # # # 0 0, # # # 0 0, 0 0 0 0 2, 0 0 0 2 0\""
   ]
  },
  {
   "cell_type": "code",
   "execution_count": 22,
   "metadata": {
    "collapsed": false
   },
   "outputs": [],
   "source": [
    "@pyimport sympy\n",
    "@pyimport galgebra as ga"
   ]
  },
  {
   "cell_type": "code",
   "execution_count": 24,
   "metadata": {
    "collapsed": false
   },
   "outputs": [
    {
     "ename": "LoadError",
     "evalue": "LoadError: UndefVarError: Ga not defined\nwhile loading In[24], in expression starting on line 2",
     "output_type": "error",
     "traceback": [
      "LoadError: UndefVarError: Ga not defined\nwhile loading In[24], in expression starting on line 2",
      ""
     ]
    }
   ],
   "source": [
    "coords=sympy.symbols(\"x,y,z\",real=true)\n",
    "base=ga.Ga(\"e0 e1 e2\",g=[1,1,1],coords=coords)"
   ]
  },
  {
   "cell_type": "code",
   "execution_count": 25,
   "metadata": {
    "collapsed": false
   },
   "outputs": [
    {
     "data": {
      "text/plain": [
       "__anon__"
      ]
     },
     "execution_count": 25,
     "metadata": {},
     "output_type": "execute_result"
    }
   ],
   "source": [
    "ga"
   ]
  },
  {
   "cell_type": "code",
   "execution_count": 27,
   "metadata": {
    "collapsed": false
   },
   "outputs": [
    {
     "data": {
      "text/plain": [
       "false"
      ]
     },
     "execution_count": 27,
     "metadata": {},
     "output_type": "execute_result"
    }
   ],
   "source": [
    "inspect.ismodule(ga)"
   ]
  },
  {
   "cell_type": "markdown",
   "metadata": {},
   "source": [
    "See:\n",
    "* [GAlgebraPrimer.pdf](https://github.com/brombo/galgebra/raw/master/doc/GAlgebraPrimer.pdf)\n",
    "* [this issue](https://github.com/brombo/galgebra/issues/12)\n",
    "* [Geometric Algebra For Computer Science, An Object Oriented Approach to Geometry](http://www.geometricalgebra.net/index.html)"
   ]
  },
  {
   "cell_type": "code",
   "execution_count": 31,
   "metadata": {
    "collapsed": false
   },
   "outputs": [],
   "source": [
    "cd(\"/Users/utensil/experiments/\")"
   ]
  },
  {
   "cell_type": "code",
   "execution_count": 32,
   "metadata": {
    "collapsed": false
   },
   "outputs": [
    {
     "name": "stderr",
     "output_type": "stream",
     "text": [
      "Cloning into 'GeoAlg.jl'...\n"
     ]
    }
   ],
   "source": [
    "run(`git clone https://github.com/andrioni/GeoAlg.jl.git`)"
   ]
  },
  {
   "cell_type": "code",
   "execution_count": 33,
   "metadata": {
    "collapsed": true
   },
   "outputs": [],
   "source": [
    "cd(\"GeoAlg.jl\")"
   ]
  },
  {
   "cell_type": "code",
   "execution_count": 34,
   "metadata": {
    "collapsed": false
   },
   "outputs": [
    {
     "ename": "LoadError",
     "evalue": "LoadError: LoadError: TypeError: Metric: in type definition, expected Type{T}, got Tuple{DataType,DataType}\nwhile loading /Users/utensil/experiments/GeoAlg.jl/src/GeoAlg.jl, in expression starting on line 90\nwhile loading In[34], in expression starting on line 1",
     "output_type": "error",
     "traceback": [
      "LoadError: LoadError: TypeError: Metric: in type definition, expected Type{T}, got Tuple{DataType,DataType}\nwhile loading /Users/utensil/experiments/GeoAlg.jl/src/GeoAlg.jl, in expression starting on line 90\nwhile loading In[34], in expression starting on line 1",
      ""
     ]
    }
   ],
   "source": [
    "include(\"src/GeoAlg.jl\")"
   ]
  },
  {
   "cell_type": "code",
   "execution_count": 1,
   "metadata": {
    "collapsed": true
   },
   "outputs": [],
   "source": [
    "cd(\"/Users/utensil/experiments/\")"
   ]
  },
  {
   "cell_type": "code",
   "execution_count": 2,
   "metadata": {
    "collapsed": true
   },
   "outputs": [],
   "source": [
    "cd(\"galgebra/galgebra\")"
   ]
  },
  {
   "cell_type": "code",
   "execution_count": 5,
   "metadata": {
    "collapsed": false
   },
   "outputs": [
    {
     "data": {
      "text/plain": [
       "7-element Array{ByteString,1}:\n",
       " \"__init__.py\"\n",
       " \"ga.py\"      \n",
       " \"lt.py\"      \n",
       " \"metric.py\"  \n",
       " \"mv.py\"      \n",
       " \"printer.py\" \n",
       " \"setgapth.py\""
      ]
     },
     "execution_count": 5,
     "metadata": {},
     "output_type": "execute_result"
    }
   ],
   "source": [
    "filter(readdir(\".\")) do file_name\n",
    "    ismatch(r\"\\.py$\", file_name)\n",
    "end"
   ]
  },
  {
   "cell_type": "code",
   "execution_count": 10,
   "metadata": {
    "collapsed": false
   },
   "outputs": [],
   "source": [
    "@pyimport site"
   ]
  },
  {
   "cell_type": "code",
   "execution_count": 12,
   "metadata": {
    "collapsed": false
   },
   "outputs": [
    {
     "data": {
      "text/plain": [
       "\"/Users/utensil/miniconda2/lib/site-python\""
      ]
     },
     "execution_count": 12,
     "metadata": {},
     "output_type": "execute_result"
    }
   ],
   "source": [
    "dist_pkgs = site.getsitepackages()[end]"
   ]
  },
  {
   "cell_type": "code",
   "execution_count": 13,
   "metadata": {
    "collapsed": true
   },
   "outputs": [],
   "source": [
    "mkpath(dist_pkgs)"
   ]
  },
  {
   "cell_type": "code",
   "execution_count": 14,
   "metadata": {
    "collapsed": false
   },
   "outputs": [
    {
     "name": "stdout",
     "output_type": "stream",
     "text": [
      "#Path of Ga module\n",
      "/Users/utensil/experiments/galgebra/galgebraos name: posix\n",
      "site-packages directory: /Users/utensil/miniconda2/lib/site-python/Ga.pth\n",
      "Ga.pth:\n",
      "0\n",
      "\n",
      "Python pth file Ga.pth for all modules of galgebra has been created and\n",
      "placed in directory appropriate for Linux, Windows, or OSX.  Note that\n",
      "if Ga.pth already exists the old version will be deleted.\n",
      "\n"
     ]
    }
   ],
   "source": [
    "run(`python setgapth.py`)"
   ]
  },
  {
   "cell_type": "code",
   "execution_count": 25,
   "metadata": {
    "collapsed": false
   },
   "outputs": [],
   "source": [
    "@pyimport sympy\n",
    "@pyimport ga"
   ]
  },
  {
   "cell_type": "code",
   "execution_count": 65,
   "metadata": {
    "collapsed": false
   },
   "outputs": [
    {
     "data": {
      "text/latex": [
       "\\begin{equation*} A = A  + A^{x} \\boldsymbol{e}_{x} + A^{y} \\boldsymbol{e}_{y} + A^{z} \\boldsymbol{e}_{z} + A^{xy} \\boldsymbol{e}_{x}\\wedge \\boldsymbol{e}_{y} + A^{xz} \\boldsymbol{e}_{x}\\wedge \\boldsymbol{e}_{z} + A^{yz} \\boldsymbol{e}_{y}\\wedge \\boldsymbol{e}_{z} + A^{xyz} \\boldsymbol{e}_{x}\\wedge \\boldsymbol{e}_{y}\\wedge \\boldsymbol{e}_{z} \\end{equation*}"
      ],
      "text/plain": [
       "PyObject A + A__x*e_x + A__y*e_y + A__z*e_z + A__xy*e_x^e_y + A__xz*e_x^e_z + A__yz*e_y^e_z + A__xyz*e_x^e_y^e_z"
      ]
     },
     "execution_count": 65,
     "metadata": {},
     "output_type": "execute_result"
    }
   ],
   "source": [
    "g3d = ga.Ga(\"e*x|y|z\")\n",
    "(ex, ey, ez) = g3d[:mv]()\n",
    "A = g3d[:mv](\"A\", \"mv\")"
   ]
  },
  {
   "cell_type": "code",
   "execution_count": 66,
   "metadata": {
    "collapsed": false
   },
   "outputs": [
    {
     "data": {
      "text/latex": [
       "\\begin{equation*}  \\boldsymbol{e}_{x} \\end{equation*}"
      ],
      "text/plain": [
       "PyObject e_x"
      ]
     },
     "metadata": {},
     "output_type": "display_data"
    },
    {
     "data": {
      "text/latex": [
       "\\begin{equation*}  \\boldsymbol{e}_{y} \\end{equation*}"
      ],
      "text/plain": [
       "PyObject e_y"
      ]
     },
     "metadata": {},
     "output_type": "display_data"
    },
    {
     "data": {
      "text/latex": [
       "\\begin{equation*}  \\boldsymbol{e}_{z} \\end{equation*}"
      ],
      "text/plain": [
       "PyObject e_z"
      ]
     },
     "metadata": {},
     "output_type": "display_data"
    },
    {
     "data": {
      "text/plain": [
       "3-element Array{Any,1}:\n",
       " nothing\n",
       " nothing\n",
       " nothing"
      ]
     },
     "execution_count": 66,
     "metadata": {},
     "output_type": "execute_result"
    }
   ],
   "source": [
    "[display(symbol) for symbol in (ex, ey, ez)]"
   ]
  },
  {
   "cell_type": "code",
   "execution_count": 63,
   "metadata": {
    "collapsed": false
   },
   "outputs": [
    {
     "data": {
      "text/latex": [
       "\\begin{equation*} X = X^{x} \\boldsymbol{e}_{x} + X^{y} \\boldsymbol{e}_{y} + X^{z} \\boldsymbol{e}_{z} \\end{equation*}"
      ],
      "text/plain": [
       "PyObject X__x*e_x + X__y*e_y + X__z*e_z"
      ]
     },
     "execution_count": 63,
     "metadata": {},
     "output_type": "execute_result"
    }
   ],
   "source": [
    "X = g3d[:mv](\"X\", \"vector\")"
   ]
  },
  {
   "cell_type": "code",
   "execution_count": 64,
   "metadata": {
    "collapsed": false
   },
   "outputs": [
    {
     "data": {
      "text/latex": [
       "\\begin{equation*} Y = Y^{x} \\boldsymbol{e}_{x} + Y^{y} \\boldsymbol{e}_{y} + Y^{z} \\boldsymbol{e}_{z} \\end{equation*}"
      ],
      "text/plain": [
       "PyObject Y__x*e_x + Y__y*e_y + Y__z*e_z"
      ]
     },
     "execution_count": 64,
     "metadata": {},
     "output_type": "execute_result"
    }
   ],
   "source": [
    "Y = g3d[:mv](\"Y\", \"vector\")"
   ]
  },
  {
   "cell_type": "code",
   "execution_count": 79,
   "metadata": {
    "collapsed": false
   },
   "outputs": [
    {
     "data": {
      "text/plain": [
       "PyObject Matrix([\n",
       "[(e_x.e_x), (e_x.e_y), (e_x.e_z)],\n",
       "[(e_x.e_y), (e_y.e_y), (e_y.e_z)],\n",
       "[(e_x.e_z), (e_y.e_z), (e_z.e_z)]])"
      ]
     },
     "execution_count": 79,
     "metadata": {},
     "output_type": "execute_result"
    }
   ],
   "source": [
    "g3d[:g]"
   ]
  },
  {
   "cell_type": "code",
   "execution_count": 70,
   "metadata": {
    "collapsed": false
   },
   "outputs": [
    {
     "data": {
      "text/latex": [
       "\\begin{equation*} \\frac{1}{\\sqrt{\\left ( e_{x}\\cdot e_{x}\\right )  \\left ( e_{y}\\cdot e_{y}\\right )  \\left ( e_{z}\\cdot e_{z}\\right )  - \\left ( e_{x}\\cdot e_{x}\\right )  \\left ( e_{y}\\cdot e_{z}\\right ) ^{2} - \\left ( e_{x}\\cdot e_{y}\\right ) ^{2} \\left ( e_{z}\\cdot e_{z}\\right )  + 2 \\left ( e_{x}\\cdot e_{y}\\right )  \\left ( e_{x}\\cdot e_{z}\\right )  \\left ( e_{y}\\cdot e_{z}\\right )  - \\left ( e_{x}\\cdot e_{z}\\right ) ^{2} \\left ( e_{y}\\cdot e_{y}\\right ) }} \\boldsymbol{e}_{x}\\wedge \\boldsymbol{e}_{y}\\wedge \\boldsymbol{e}_{z} \\end{equation*}"
      ],
      "text/plain": [
       "PyObject e_x^e_y^e_z/sqrt((e_x.e_x)*(e_y.e_y)*(e_z.e_z) - (e_x.e_x)*(e_y.e_z)**2 - (e_x.e_y)**2*(e_z.e_z) + 2*(e_x.e_y)*(e_x.e_z)*(e_y.e_z) - (e_x.e_z)**2*(e_y.e_y))"
      ]
     },
     "execution_count": 70,
     "metadata": {},
     "output_type": "execute_result"
    }
   ],
   "source": [
    "g3d[:I]()"
   ]
  },
  {
   "cell_type": "code",
   "execution_count": 73,
   "metadata": {
    "collapsed": false
   },
   "outputs": [
    {
     "data": {
      "text/latex": [
       "\\begin{equation*}  \\boldsymbol{e}_{x}\\wedge \\boldsymbol{e}_{y}\\wedge \\boldsymbol{e}_{z} \\end{equation*}"
      ],
      "text/plain": [
       "PyObject e_x^e_y^e_z"
      ]
     },
     "execution_count": 73,
     "metadata": {},
     "output_type": "execute_result"
    }
   ],
   "source": [
    "g3d[:E]()"
   ]
  },
  {
   "cell_type": "code",
   "execution_count": 89,
   "metadata": {
    "collapsed": false
   },
   "outputs": [
    {
     "data": {
      "text/plain": [
       "PyObject <bound method Ga.mv of <ga.Ga object at 0x3198c3c50>>"
      ]
     },
     "execution_count": 89,
     "metadata": {},
     "output_type": "execute_result"
    }
   ],
   "source": [
    "mv = g3d[:mv]"
   ]
  },
  {
   "cell_type": "code",
   "execution_count": 116,
   "metadata": {
    "collapsed": false
   },
   "outputs": [
    {
     "data": {
      "text/latex": [
       "\\begin{equation*} C = C \\end{equation*}"
      ],
      "text/plain": [
       "PyObject C"
      ]
     },
     "execution_count": 116,
     "metadata": {},
     "output_type": "execute_result"
    }
   ],
   "source": [
    "C = mv(\"C\", \"scalar\")"
   ]
  },
  {
   "cell_type": "code",
   "execution_count": 117,
   "metadata": {
    "collapsed": false
   },
   "outputs": [
    {
     "data": {
      "text/latex": [
       "\\begin{equation*} B = B^{xy} \\boldsymbol{e}_{x}\\wedge \\boldsymbol{e}_{y} + B^{xz} \\boldsymbol{e}_{x}\\wedge \\boldsymbol{e}_{z} + B^{yz} \\boldsymbol{e}_{y}\\wedge \\boldsymbol{e}_{z} \\end{equation*}"
      ],
      "text/plain": [
       "PyObject B__xy*e_x^e_y + B__xz*e_x^e_z + B__yz*e_y^e_z"
      ]
     },
     "execution_count": 117,
     "metadata": {},
     "output_type": "execute_result"
    }
   ],
   "source": [
    "B = mv(\"B\", \"bivector\")"
   ]
  },
  {
   "cell_type": "code",
   "execution_count": 118,
   "metadata": {
    "collapsed": false
   },
   "outputs": [
    {
     "data": {
      "text/latex": [
       "\\begin{equation*} V3 = V^{xyz}_{3} \\boldsymbol{e}_{x}\\wedge \\boldsymbol{e}_{y}\\wedge \\boldsymbol{e}_{z} \\end{equation*}"
      ],
      "text/plain": [
       "PyObject V3__xyz*e_x^e_y^e_z"
      ]
     },
     "execution_count": 118,
     "metadata": {},
     "output_type": "execute_result"
    }
   ],
   "source": [
    "V3 = mv(\"V3\", 3)"
   ]
  },
  {
   "cell_type": "code",
   "execution_count": 119,
   "metadata": {
    "collapsed": false
   },
   "outputs": [
    {
     "data": {
      "text/latex": [
       "\\begin{equation*} V2 = V^{xy}_{2} \\boldsymbol{e}_{x}\\wedge \\boldsymbol{e}_{y} + V^{xz}_{2} \\boldsymbol{e}_{x}\\wedge \\boldsymbol{e}_{z} + V^{yz}_{2} \\boldsymbol{e}_{y}\\wedge \\boldsymbol{e}_{z} \\end{equation*}"
      ],
      "text/plain": [
       "PyObject V2__xy*e_x^e_y + V2__xz*e_x^e_z + V2__yz*e_y^e_z"
      ]
     },
     "execution_count": 119,
     "metadata": {},
     "output_type": "execute_result"
    }
   ],
   "source": [
    "V2 = mv(\"V2\", 2)"
   ]
  },
  {
   "cell_type": "code",
   "execution_count": 120,
   "metadata": {
    "collapsed": false
   },
   "outputs": [
    {
     "data": {
      "text/latex": [
       "\\begin{equation*} V1 = V^{x}_{1} \\boldsymbol{e}_{x} + V^{y}_{1} \\boldsymbol{e}_{y} + V^{z}_{1} \\boldsymbol{e}_{z} \\end{equation*}"
      ],
      "text/plain": [
       "PyObject V1__x*e_x + V1__y*e_y + V1__z*e_z"
      ]
     },
     "execution_count": 120,
     "metadata": {},
     "output_type": "execute_result"
    }
   ],
   "source": [
    "V1 = mv(\"V1\", 1)"
   ]
  },
  {
   "cell_type": "code",
   "execution_count": 121,
   "metadata": {
    "collapsed": false
   },
   "outputs": [
    {
     "data": {
      "text/latex": [
       "\\begin{equation*} V0 = V_{0} \\end{equation*}"
      ],
      "text/plain": [
       "PyObject V0"
      ]
     },
     "execution_count": 121,
     "metadata": {},
     "output_type": "execute_result"
    }
   ],
   "source": [
    "V0 = mv(\"V0\", 0)"
   ]
  },
  {
   "cell_type": "code",
   "execution_count": 122,
   "metadata": {
    "collapsed": false
   },
   "outputs": [
    {
     "data": {
      "text/latex": [
       "\\begin{equation*} S = S  + S^{xy} \\boldsymbol{e}_{x}\\wedge \\boldsymbol{e}_{y} + S^{xz} \\boldsymbol{e}_{x}\\wedge \\boldsymbol{e}_{z} + S^{yz} \\boldsymbol{e}_{y}\\wedge \\boldsymbol{e}_{z} \\end{equation*}"
      ],
      "text/plain": [
       "PyObject S + S__xy*e_x^e_y + S__xz*e_x^e_z + S__yz*e_y^e_z"
      ]
     },
     "execution_count": 122,
     "metadata": {},
     "output_type": "execute_result"
    }
   ],
   "source": [
    "S = mv(\"S\", \"spinor\")"
   ]
  },
  {
   "cell_type": "code",
   "execution_count": 123,
   "metadata": {
    "collapsed": false
   },
   "outputs": [
    {
     "data": {
      "text/latex": [
       "\\begin{equation*} I2 = I^{xyz}_{2} \\boldsymbol{e}_{x}\\wedge \\boldsymbol{e}_{y}\\wedge \\boldsymbol{e}_{z} \\end{equation*}"
      ],
      "text/plain": [
       "PyObject I2__xyz*e_x^e_y^e_z"
      ]
     },
     "execution_count": 123,
     "metadata": {},
     "output_type": "execute_result"
    }
   ],
   "source": [
    "I2 = mv(\"I2\", \"pseudo\")"
   ]
  },
  {
   "cell_type": "code",
   "execution_count": 124,
   "metadata": {
    "collapsed": false
   },
   "outputs": [
    {
     "data": {
      "text/plain": [
       "false"
      ]
     },
     "execution_count": 124,
     "metadata": {},
     "output_type": "execute_result"
    }
   ],
   "source": [
    "I2 == g3d[:I]()"
   ]
  },
  {
   "cell_type": "code",
   "execution_count": 104,
   "metadata": {
    "collapsed": true
   },
   "outputs": [],
   "source": [
    "@pyimport operator"
   ]
  },
  {
   "cell_type": "markdown",
   "metadata": {},
   "source": [
    "See https://docs.python.org/2/library/operator.html#mapping-operators-to-functions"
   ]
  },
  {
   "cell_type": "code",
   "execution_count": 109,
   "metadata": {
    "collapsed": false
   },
   "outputs": [
    {
     "data": {
      "text/latex": [
       "\\begin{equation*} \\left ( \\left ( e_{x}\\cdot e_{x}\\right )  X^{x} Y^{x} + \\left ( e_{x}\\cdot e_{y}\\right )  X^{x} Y^{y} + \\left ( e_{x}\\cdot e_{y}\\right )  X^{y} Y^{x} + \\left ( e_{x}\\cdot e_{z}\\right )  X^{x} Y^{z} + \\left ( e_{x}\\cdot e_{z}\\right )  X^{z} Y^{x} + \\left ( e_{y}\\cdot e_{y}\\right )  X^{y} Y^{y} + \\left ( e_{y}\\cdot e_{z}\\right )  X^{y} Y^{z} + \\left ( e_{y}\\cdot e_{z}\\right )  X^{z} Y^{y} + \\left ( e_{z}\\cdot e_{z}\\right )  X^{z} Y^{z}\\right )  + \\left ( X^{x} Y^{y} - X^{y} Y^{x}\\right ) \\boldsymbol{e}_{x}\\wedge \\boldsymbol{e}_{y} + \\left ( X^{x} Y^{z} - X^{z} Y^{x}\\right ) \\boldsymbol{e}_{x}\\wedge \\boldsymbol{e}_{z} + \\left ( X^{y} Y^{z} - X^{z} Y^{y}\\right ) \\boldsymbol{e}_{y}\\wedge \\boldsymbol{e}_{z} \\end{equation*}"
      ],
      "text/plain": [
       "PyObject (e_x.e_x)*X__x*Y__x + (e_x.e_y)*X__x*Y__y + (e_x.e_y)*X__y*Y__x + (e_x.e_z)*X__x*Y__z + (e_x.e_z)*X__z*Y__x + (e_y.e_y)*X__y*Y__y + (e_y.e_z)*X__y*Y__z + (e_y.e_z)*X__z*Y__y + (e_z.e_z)*X__z*Y__z + (X__x*Y__y - X__y*Y__x)*e_x^e_y + (X__x*Y__z - X__z*Y__x)*e_x^e_z + (X__y*Y__z - X__z*Y__y)*e_y^e_z"
      ]
     },
     "execution_count": 109,
     "metadata": {},
     "output_type": "execute_result"
    }
   ],
   "source": [
    "operator.mul(X, Y) # X * Y"
   ]
  },
  {
   "cell_type": "code",
   "execution_count": 110,
   "metadata": {
    "collapsed": false
   },
   "outputs": [
    {
     "data": {
      "text/latex": [
       "\\begin{equation*} \\left ( X^{x} Y^{y} - X^{y} Y^{x}\\right ) \\boldsymbol{e}_{x}\\wedge \\boldsymbol{e}_{y} + \\left ( X^{x} Y^{z} - X^{z} Y^{x}\\right ) \\boldsymbol{e}_{x}\\wedge \\boldsymbol{e}_{z} + \\left ( X^{y} Y^{z} - X^{z} Y^{y}\\right ) \\boldsymbol{e}_{y}\\wedge \\boldsymbol{e}_{z} \\end{equation*}"
      ],
      "text/plain": [
       "PyObject (X__x*Y__y - X__y*Y__x)*e_x^e_y + (X__x*Y__z - X__z*Y__x)*e_x^e_z + (X__y*Y__z - X__z*Y__y)*e_y^e_z"
      ]
     },
     "execution_count": 110,
     "metadata": {},
     "output_type": "execute_result"
    }
   ],
   "source": [
    "operator.xor(X, Y) # X ^ Y"
   ]
  },
  {
   "cell_type": "code",
   "execution_count": 111,
   "metadata": {
    "collapsed": false
   },
   "outputs": [
    {
     "data": {
      "text/latex": [
       "\\begin{equation*} \\left ( e_{x}\\cdot e_{x}\\right )  X^{x} Y^{x} + \\left ( e_{x}\\cdot e_{y}\\right )  X^{x} Y^{y} + \\left ( e_{x}\\cdot e_{y}\\right )  X^{y} Y^{x} + \\left ( e_{x}\\cdot e_{z}\\right )  X^{x} Y^{z} + \\left ( e_{x}\\cdot e_{z}\\right )  X^{z} Y^{x} + \\left ( e_{y}\\cdot e_{y}\\right )  X^{y} Y^{y} + \\left ( e_{y}\\cdot e_{z}\\right )  X^{y} Y^{z} + \\left ( e_{y}\\cdot e_{z}\\right )  X^{z} Y^{y} + \\left ( e_{z}\\cdot e_{z}\\right )  X^{z} Y^{z} \\end{equation*}"
      ],
      "text/plain": [
       "PyObject (e_x.e_x)*X__x*Y__x + (e_x.e_y)*X__x*Y__y + (e_x.e_y)*X__y*Y__x + (e_x.e_z)*X__x*Y__z + (e_x.e_z)*X__z*Y__x + (e_y.e_y)*X__y*Y__y + (e_y.e_z)*X__y*Y__z + (e_y.e_z)*X__z*Y__y + (e_z.e_z)*X__z*Y__z"
      ]
     },
     "execution_count": 111,
     "metadata": {},
     "output_type": "execute_result"
    }
   ],
   "source": [
    "operator.or_(X, Y) # X | Y"
   ]
  },
  {
   "cell_type": "code",
   "execution_count": 114,
   "metadata": {
    "collapsed": false
   },
   "outputs": [
    {
     "data": {
      "text/latex": [
       "\\begin{equation*} \\left ( e_{x}\\cdot e_{x}\\right )  X^{x} Y^{x} + \\left ( e_{x}\\cdot e_{y}\\right )  X^{x} Y^{y} + \\left ( e_{x}\\cdot e_{y}\\right )  X^{y} Y^{x} + \\left ( e_{x}\\cdot e_{z}\\right )  X^{x} Y^{z} + \\left ( e_{x}\\cdot e_{z}\\right )  X^{z} Y^{x} + \\left ( e_{y}\\cdot e_{y}\\right )  X^{y} Y^{y} + \\left ( e_{y}\\cdot e_{z}\\right )  X^{y} Y^{z} + \\left ( e_{y}\\cdot e_{z}\\right )  X^{z} Y^{y} + \\left ( e_{z}\\cdot e_{z}\\right )  X^{z} Y^{z} \\end{equation*}"
      ],
      "text/plain": [
       "PyObject (e_x.e_x)*X__x*Y__x + (e_x.e_y)*X__x*Y__y + (e_x.e_y)*X__y*Y__x + (e_x.e_z)*X__x*Y__z + (e_x.e_z)*X__z*Y__x + (e_y.e_y)*X__y*Y__y + (e_y.e_z)*X__y*Y__z + (e_y.e_z)*X__z*Y__y + (e_z.e_z)*X__z*Y__z"
      ]
     },
     "execution_count": 114,
     "metadata": {},
     "output_type": "execute_result"
    }
   ],
   "source": [
    "operator.lt(X, Y) # X < Y"
   ]
  },
  {
   "cell_type": "code",
   "execution_count": 128,
   "metadata": {
    "collapsed": false
   },
   "outputs": [
    {
     "data": {
      "text/latex": [
       "\\begin{equation*} V_{0}  + V^{x}_{1} \\boldsymbol{e}_{x} + V^{y}_{1} \\boldsymbol{e}_{y} + V^{z}_{1} \\boldsymbol{e}_{z} \\end{equation*}"
      ],
      "text/plain": [
       "PyObject V0 + V1__x*e_x + V1__y*e_y + V1__z*e_z"
      ]
     },
     "execution_count": 128,
     "metadata": {},
     "output_type": "execute_result"
    }
   ],
   "source": [
    "operator.add(V0, V1)"
   ]
  },
  {
   "cell_type": "code",
   "execution_count": 130,
   "metadata": {
    "collapsed": false
   },
   "outputs": [
    {
     "data": {
      "text/plain": [
       "false"
      ]
     },
     "execution_count": 130,
     "metadata": {},
     "output_type": "execute_result"
    }
   ],
   "source": [
    "operator.eq(I2[:norm](), g3d[:I]()[:norm]())"
   ]
  },
  {
   "cell_type": "code",
   "execution_count": 131,
   "metadata": {
    "collapsed": false
   },
   "outputs": [
    {
     "data": {
      "text/latex": [
       "\\begin{equation*} \\left|{I^{xyz}_{2}}\\right| \\sqrt{\\left|{- \\left ( e_{x}\\cdot e_{x}\\right )  \\left ( e_{y}\\cdot e_{y}\\right )  \\left ( e_{z}\\cdot e_{z}\\right )  + \\left ( e_{x}\\cdot e_{x}\\right )  \\left ( e_{y}\\cdot e_{z}\\right ) ^{2} + \\left ( e_{x}\\cdot e_{y}\\right ) ^{2} \\left ( e_{z}\\cdot e_{z}\\right )  - 2 \\left ( e_{x}\\cdot e_{y}\\right )  \\left ( e_{x}\\cdot e_{z}\\right )  \\left ( e_{y}\\cdot e_{z}\\right )  + \\left ( e_{x}\\cdot e_{z}\\right ) ^{2} \\left ( e_{y}\\cdot e_{y}\\right ) }\\right|}  - \\frac{1}{\\sqrt{\\left ( e_{x}\\cdot e_{x}\\right )  \\left ( e_{y}\\cdot e_{y}\\right )  \\left ( e_{z}\\cdot e_{z}\\right )  - \\left ( e_{x}\\cdot e_{x}\\right )  \\left ( e_{y}\\cdot e_{z}\\right ) ^{2} - \\left ( e_{x}\\cdot e_{y}\\right ) ^{2} \\left ( e_{z}\\cdot e_{z}\\right )  + 2 \\left ( e_{x}\\cdot e_{y}\\right )  \\left ( e_{x}\\cdot e_{z}\\right )  \\left ( e_{y}\\cdot e_{z}\\right )  - \\left ( e_{x}\\cdot e_{z}\\right ) ^{2} \\left ( e_{y}\\cdot e_{y}\\right ) }} \\boldsymbol{e}_{x}\\wedge \\boldsymbol{e}_{y}\\wedge \\boldsymbol{e}_{z} \\end{equation*}"
      ],
      "text/plain": [
       "PyObject Abs(I2__xyz)*sqrt(Abs(-(e_x.e_x)*(e_y.e_y)*(e_z.e_z) + (e_x.e_x)*(e_y.e_z)**2 + (e_x.e_y)**2*(e_z.e_z) - 2*(e_x.e_y)*(e_x.e_z)*(e_y.e_z) + (e_x.e_z)**2*(e_y.e_y))) - e_x^e_y^e_z/sqrt((e_x.e_x)*(e_y.e_y)*(e_z.e_z) - (e_x.e_x)*(e_y.e_z)**2 - (e_x.e_y)**2*(e_z.e_z) + 2*(e_x.e_y)*(e_x.e_z)*(e_y.e_z) - (e_x.e_z)**2*(e_y.e_y))"
      ]
     },
     "execution_count": 131,
     "metadata": {},
     "output_type": "execute_result"
    }
   ],
   "source": [
    "operator.sub(I2[:norm](), g3d[:I]())"
   ]
  },
  {
   "cell_type": "code",
   "execution_count": 137,
   "metadata": {
    "collapsed": false
   },
   "outputs": [
    {
     "data": {
      "text/plain": [
       "PyObject <ga.Ga object at 0x319b9d250>"
      ]
     },
     "execution_count": 137,
     "metadata": {},
     "output_type": "execute_result"
    }
   ],
   "source": [
    "symbols=sympy.symbols\n",
    "o3d = Ga(\"e_x e_y e_z\", g=[1, 1, 1], coords=symbols(\"x y z\"))"
   ]
  },
  {
   "cell_type": "code",
   "execution_count": 140,
   "metadata": {
    "collapsed": false
   },
   "outputs": [
    {
     "data": {
      "text/plain": [
       "3-element Array{Any,1}:\n",
       " PyObject e_x\n",
       " PyObject e_y\n",
       " PyObject e_z"
      ]
     },
     "execution_count": 140,
     "metadata": {},
     "output_type": "execute_result"
    }
   ],
   "source": [
    "(ex, ey, ez) = o3d[:mv]()"
   ]
  },
  {
   "cell_type": "code",
   "execution_count": 141,
   "metadata": {
    "collapsed": false
   },
   "outputs": [
    {
     "data": {
      "text/latex": [
       "\\begin{equation*}  \\boldsymbol{e}_{x} \\end{equation*}"
      ],
      "text/plain": [
       "PyObject e_x"
      ]
     },
     "metadata": {},
     "output_type": "display_data"
    },
    {
     "data": {
      "text/latex": [
       "\\begin{equation*}  \\boldsymbol{e}_{y} \\end{equation*}"
      ],
      "text/plain": [
       "PyObject e_y"
      ]
     },
     "metadata": {},
     "output_type": "display_data"
    },
    {
     "data": {
      "text/latex": [
       "\\begin{equation*}  \\boldsymbol{e}_{z} \\end{equation*}"
      ],
      "text/plain": [
       "PyObject e_z"
      ]
     },
     "metadata": {},
     "output_type": "display_data"
    },
    {
     "data": {
      "text/plain": [
       "3-element Array{Any,1}:\n",
       " nothing\n",
       " nothing\n",
       " nothing"
      ]
     },
     "execution_count": 141,
     "metadata": {},
     "output_type": "execute_result"
    }
   ],
   "source": [
    "[display(e) for e in (ex, ey, ez)]"
   ]
  },
  {
   "cell_type": "code",
   "execution_count": 143,
   "metadata": {
    "collapsed": false
   },
   "outputs": [
    {
     "data": {
      "text/plain": [
       "PyObject <bound method Ga.mv of <ga.Ga object at 0x319b9d250>>"
      ]
     },
     "execution_count": 143,
     "metadata": {},
     "output_type": "execute_result"
    }
   ],
   "source": [
    "o3dmv=o3d[:mv]"
   ]
  },
  {
   "cell_type": "code",
   "execution_count": 144,
   "metadata": {
    "collapsed": false
   },
   "outputs": [
    {
     "data": {
      "text/latex": [
       "\\begin{equation*} f = f {\\left (x,y,z \\right )} \\end{equation*}"
      ],
      "text/plain": [
       "PyObject f"
      ]
     },
     "execution_count": 144,
     "metadata": {},
     "output_type": "execute_result"
    }
   ],
   "source": [
    "f = o3dmv(\"f\", \"scalar\", f=true)"
   ]
  },
  {
   "cell_type": "code",
   "execution_count": 146,
   "metadata": {
    "collapsed": false
   },
   "outputs": [
    {
     "data": {
      "text/latex": [
       "\\begin{equation*} A = A^{x} {\\left (x,y,z \\right )} \\boldsymbol{e}_{x} + A^{y} {\\left (x,y,z \\right )} \\boldsymbol{e}_{y} + A^{z} {\\left (x,y,z \\right )} \\boldsymbol{e}_{z} \\end{equation*}"
      ],
      "text/plain": [
       "PyObject A__x*e_x + A__y*e_y + A__z*e_z"
      ]
     },
     "execution_count": 146,
     "metadata": {},
     "output_type": "execute_result"
    }
   ],
   "source": [
    "A = o3dmv(\"A\", \"vector\", f=true)"
   ]
  },
  {
   "cell_type": "code",
   "execution_count": 147,
   "metadata": {
    "collapsed": false
   },
   "outputs": [
    {
     "data": {
      "text/latex": [
       "\\begin{equation*} B = B^{xy} {\\left (x,y,z \\right )} \\boldsymbol{e}_{x}\\wedge \\boldsymbol{e}_{y} + B^{xz} {\\left (x,y,z \\right )} \\boldsymbol{e}_{x}\\wedge \\boldsymbol{e}_{z} + B^{yz} {\\left (x,y,z \\right )} \\boldsymbol{e}_{y}\\wedge \\boldsymbol{e}_{z} \\end{equation*}"
      ],
      "text/plain": [
       "PyObject B__xy*e_x^e_y + B__xz*e_x^e_z + B__yz*e_y^e_z"
      ]
     },
     "execution_count": 147,
     "metadata": {},
     "output_type": "execute_result"
    }
   ],
   "source": [
    "B = o3dmv(\"B\", \"bivector\", f=true)"
   ]
  },
  {
   "cell_type": "code",
   "execution_count": 148,
   "metadata": {
    "collapsed": false
   },
   "outputs": [
    {
     "data": {
      "text/latex": [
       "\\begin{equation*} C = C {\\left (x,y,z \\right )}  + C^{x} {\\left (x,y,z \\right )} \\boldsymbol{e}_{x} + C^{y} {\\left (x,y,z \\right )} \\boldsymbol{e}_{y} + C^{z} {\\left (x,y,z \\right )} \\boldsymbol{e}_{z} + C^{xy} {\\left (x,y,z \\right )} \\boldsymbol{e}_{x}\\wedge \\boldsymbol{e}_{y} + C^{xz} {\\left (x,y,z \\right )} \\boldsymbol{e}_{x}\\wedge \\boldsymbol{e}_{z} + C^{yz} {\\left (x,y,z \\right )} \\boldsymbol{e}_{y}\\wedge \\boldsymbol{e}_{z} + C^{xyz} {\\left (x,y,z \\right )} \\boldsymbol{e}_{x}\\wedge \\boldsymbol{e}_{y}\\wedge \\boldsymbol{e}_{z} \\end{equation*}"
      ],
      "text/plain": [
       "PyObject C + C__x*e_x + C__y*e_y + C__z*e_z + C__xy*e_x^e_y + C__xz*e_x^e_z + C__yz*e_y^e_z + C__xyz*e_x^e_y^e_z"
      ]
     },
     "execution_count": 148,
     "metadata": {},
     "output_type": "execute_result"
    }
   ],
   "source": [
    "C = o3dmv(\"C\", \"mv\", f=true)"
   ]
  },
  {
   "cell_type": "code",
   "execution_count": 150,
   "metadata": {
    "collapsed": false
   },
   "outputs": [
    {
     "data": {
      "text/latex": [
       "\\begin{equation*} e_x D{x} + e_y D{y} + e_z D{z} \\end{equation*}"
      ],
      "text/plain": [
       "PyObject e_x*D{x} + e_y*D{y} + e_z*D{z}"
      ]
     },
     "execution_count": 150,
     "metadata": {},
     "output_type": "execute_result"
    }
   ],
   "source": [
    "grad = o3d[:grad]"
   ]
  },
  {
   "cell_type": "code",
   "execution_count": 152,
   "metadata": {
    "collapsed": false
   },
   "outputs": [
    {
     "data": {
      "text/latex": [
       "\\begin{equation*} \\frac{\\partial}{\\partial x} f {\\left (x,y,z \\right )} \\boldsymbol{e}_{x} + \\frac{\\partial}{\\partial y} f {\\left (x,y,z \\right )} \\boldsymbol{e}_{y} + \\frac{\\partial}{\\partial z} f {\\left (x,y,z \\right )} \\boldsymbol{e}_{z} \\end{equation*}"
      ],
      "text/plain": [
       "PyObject D{x}f*e_x + D{y}f*e_y + D{z}f*e_z"
      ]
     },
     "execution_count": 152,
     "metadata": {},
     "output_type": "execute_result"
    }
   ],
   "source": [
    "operator.mul(grad, f)"
   ]
  },
  {
   "cell_type": "code",
   "execution_count": 154,
   "metadata": {
    "collapsed": false
   },
   "outputs": [
    {
     "data": {
      "text/latex": [
       "\\begin{equation*} \\frac{\\partial}{\\partial x} A^{x} {\\left (x,y,z \\right )} + \\frac{\\partial}{\\partial y} A^{y} {\\left (x,y,z \\right )} + \\frac{\\partial}{\\partial z} A^{z} {\\left (x,y,z \\right )} \\end{equation*}"
      ],
      "text/plain": [
       "PyObject D{x}A__x + D{y}A__y + D{z}A__z"
      ]
     },
     "execution_count": 154,
     "metadata": {},
     "output_type": "execute_result"
    }
   ],
   "source": [
    "operator.or_(grad, A)"
   ]
  },
  {
   "cell_type": "code",
   "execution_count": 155,
   "metadata": {
    "collapsed": false
   },
   "outputs": [
    {
     "data": {
      "text/latex": [
       "\\begin{equation*} \\left ( \\frac{\\partial}{\\partial x} A^{x} {\\left (x,y,z \\right )} + \\frac{\\partial}{\\partial y} A^{y} {\\left (x,y,z \\right )} + \\frac{\\partial}{\\partial z} A^{z} {\\left (x,y,z \\right )}\\right )  + \\left ( - \\frac{\\partial}{\\partial y} A^{x} {\\left (x,y,z \\right )} + \\frac{\\partial}{\\partial x} A^{y} {\\left (x,y,z \\right )}\\right ) \\boldsymbol{e}_{x}\\wedge \\boldsymbol{e}_{y} + \\left ( - \\frac{\\partial}{\\partial z} A^{x} {\\left (x,y,z \\right )} + \\frac{\\partial}{\\partial x} A^{z} {\\left (x,y,z \\right )}\\right ) \\boldsymbol{e}_{x}\\wedge \\boldsymbol{e}_{z} + \\left ( - \\frac{\\partial}{\\partial z} A^{y} {\\left (x,y,z \\right )} + \\frac{\\partial}{\\partial y} A^{z} {\\left (x,y,z \\right )}\\right ) \\boldsymbol{e}_{y}\\wedge \\boldsymbol{e}_{z} \\end{equation*}"
      ],
      "text/plain": [
       "PyObject D{x}A__x + D{y}A__y + D{z}A__z + (-D{y}A__x + D{x}A__y)*e_x^e_y + (-D{z}A__x + D{x}A__z)*e_x^e_z + (-D{z}A__y + D{y}A__z)*e_y^e_z"
      ]
     },
     "execution_count": 155,
     "metadata": {},
     "output_type": "execute_result"
    }
   ],
   "source": [
    "operator.mul(grad, A)"
   ]
  },
  {
   "cell_type": "code",
   "execution_count": 156,
   "metadata": {
    "collapsed": false
   },
   "outputs": [
    {
     "data": {
      "text/latex": [
       "\\begin{equation*}  \\boldsymbol{e}_{x}\\wedge \\boldsymbol{e}_{y}\\wedge \\boldsymbol{e}_{z} \\end{equation*}"
      ],
      "text/plain": [
       "PyObject e_x^e_y^e_z"
      ]
     },
     "execution_count": 156,
     "metadata": {},
     "output_type": "execute_result"
    }
   ],
   "source": [
    "o3d[:E]()"
   ]
  },
  {
   "cell_type": "code",
   "execution_count": 157,
   "metadata": {
    "collapsed": false
   },
   "outputs": [
    {
     "data": {
      "text/latex": [
       "\\begin{equation*}  \\boldsymbol{e}_{x}\\wedge \\boldsymbol{e}_{y}\\wedge \\boldsymbol{e}_{z} \\end{equation*}"
      ],
      "text/plain": [
       "PyObject e_x^e_y^e_z"
      ]
     },
     "execution_count": 157,
     "metadata": {},
     "output_type": "execute_result"
    }
   ],
   "source": [
    "o3d[:I]()"
   ]
  },
  {
   "cell_type": "code",
   "execution_count": 158,
   "metadata": {
    "collapsed": false
   },
   "outputs": [
    {
     "data": {
      "text/plain": [
       "true"
      ]
     },
     "execution_count": 158,
     "metadata": {},
     "output_type": "execute_result"
    }
   ],
   "source": [
    "o3d[:E]() == o3d[:I]()"
   ]
  },
  {
   "cell_type": "code",
   "execution_count": 226,
   "metadata": {
    "collapsed": false
   },
   "outputs": [
    {
     "data": {
      "text/markdown": [
       "operator.mul(grad, B)="
      ]
     },
     "metadata": {},
     "output_type": "display_data"
    },
    {
     "data": {
      "text/latex": [
       "\\begin{equation*} \\left ( - \\frac{\\partial}{\\partial y} B^{xy} {\\left (x,y,z \\right )} - \\frac{\\partial}{\\partial z} B^{xz} {\\left (x,y,z \\right )}\\right ) \\boldsymbol{e}_{x} + \\left ( \\frac{\\partial}{\\partial x} B^{xy} {\\left (x,y,z \\right )} - \\frac{\\partial}{\\partial z} B^{yz} {\\left (x,y,z \\right )}\\right ) \\boldsymbol{e}_{y} + \\left ( \\frac{\\partial}{\\partial x} B^{xz} {\\left (x,y,z \\right )} + \\frac{\\partial}{\\partial y} B^{yz} {\\left (x,y,z \\right )}\\right ) \\boldsymbol{e}_{z} + \\left ( \\frac{\\partial}{\\partial z} B^{xy} {\\left (x,y,z \\right )} - \\frac{\\partial}{\\partial y} B^{xz} {\\left (x,y,z \\right )} + \\frac{\\partial}{\\partial x} B^{yz} {\\left (x,y,z \\right )}\\right ) \\boldsymbol{e}_{x}\\wedge \\boldsymbol{e}_{y}\\wedge \\boldsymbol{e}_{z} \\end{equation*}"
      ],
      "text/plain": [
       "PyObject (-D{y}B__xy - D{z}B__xz)*e_x + (D{x}B__xy - D{z}B__yz)*e_y + (D{x}B__xz + D{y}B__yz)*e_z + (D{z}B__xy - D{y}B__xz + D{x}B__yz)*e_x^e_y^e_z"
      ]
     },
     "metadata": {},
     "output_type": "display_data"
    },
    {
     "data": {
      "text/markdown": [
       "operator.xor(grad, B)="
      ]
     },
     "metadata": {},
     "output_type": "display_data"
    },
    {
     "data": {
      "text/latex": [
       "\\begin{equation*} \\left ( \\frac{\\partial}{\\partial z} B^{xy} {\\left (x,y,z \\right )} - \\frac{\\partial}{\\partial y} B^{xz} {\\left (x,y,z \\right )} + \\frac{\\partial}{\\partial x} B^{yz} {\\left (x,y,z \\right )}\\right ) \\boldsymbol{e}_{x}\\wedge \\boldsymbol{e}_{y}\\wedge \\boldsymbol{e}_{z} \\end{equation*}"
      ],
      "text/plain": [
       "PyObject (D{z}B__xy - D{y}B__xz + D{x}B__yz)*e_x^e_y^e_z"
      ]
     },
     "metadata": {},
     "output_type": "display_data"
    },
    {
     "data": {
      "text/markdown": [
       "operator.or_(grad, B)="
      ]
     },
     "metadata": {},
     "output_type": "display_data"
    },
    {
     "data": {
      "text/latex": [
       "\\begin{equation*} \\left ( - \\frac{\\partial}{\\partial y} B^{xy} {\\left (x,y,z \\right )} - \\frac{\\partial}{\\partial z} B^{xz} {\\left (x,y,z \\right )}\\right ) \\boldsymbol{e}_{x} + \\left ( \\frac{\\partial}{\\partial x} B^{xy} {\\left (x,y,z \\right )} - \\frac{\\partial}{\\partial z} B^{yz} {\\left (x,y,z \\right )}\\right ) \\boldsymbol{e}_{y} + \\left ( \\frac{\\partial}{\\partial x} B^{xz} {\\left (x,y,z \\right )} + \\frac{\\partial}{\\partial y} B^{yz} {\\left (x,y,z \\right )}\\right ) \\boldsymbol{e}_{z} \\end{equation*}"
      ],
      "text/plain": [
       "PyObject (-D{y}B__xy - D{z}B__xz)*e_x + (D{x}B__xy - D{z}B__yz)*e_y + (D{x}B__xz + D{y}B__yz)*e_z"
      ]
     },
     "metadata": {},
     "output_type": "display_data"
    }
   ],
   "source": [
    "for op in [operator.mul, operator.xor, operator.or_]\n",
    "    op_name = op[:__name__]\n",
    "    display(IJulia.text_markdown,\"operator.$op_name(grad, B)=\")\n",
    "    display(op(grad, B))\n",
    "end"
   ]
  },
  {
   "cell_type": "code",
   "execution_count": 177,
   "metadata": {
    "collapsed": false,
    "scrolled": true
   },
   "outputs": [
    {
     "data": {
      "text/plain": [
       "true"
      ]
     },
     "execution_count": 177,
     "metadata": {},
     "output_type": "execute_result"
    }
   ],
   "source": [
    "IPythonDisplay.display == display"
   ]
  },
  {
   "cell_type": "code",
   "execution_count": 221,
   "metadata": {
    "collapsed": false
   },
   "outputs": [
    {
     "data": {
      "text/markdown": [
       "* a\n",
       "* b\n",
       "\n",
       "https://ipython.org/ipython-doc/dev/api/generated/IPython.display.html\n",
       "\n"
      ]
     },
     "metadata": {},
     "output_type": "display_data"
    }
   ],
   "source": [
    "IPythonDisplay.display(IJulia.text_markdown, \"\"\"\n",
    "* a\n",
    "* b\n",
    "\n",
    "https://ipython.org/ipython-doc/dev/api/generated/IPython.display.html\n",
    "\n",
    "\"\"\")"
   ]
  },
  {
   "cell_type": "code",
   "execution_count": 214,
   "metadata": {
    "collapsed": false
   },
   "outputs": [
    {
     "data": {
      "image/svg+xml": [
       "<svg version=\"1.1\" id=\"Layer_1\" xmlns=\"http://www.w3.org/2000/svg\" xmlns:xlink=\"http://www.w3.org/1999/xlink\" x=\"0px\" y=\"0px\" width=\"210px\" height=\"142px\" viewBox=\"0 0 310 216\" enable-background=\"new 0 0 310 216\" xml:space=\"preserve\">\n",
       "\n",
       "<!-- blue dot -->\n",
       "<circle fill=\"#6b85dd\" stroke=\"#4266d5\" stroke-width=\"3\" cx=\"50.5\" cy=\"60\" r=\"16.5\"></circle>\n",
       "<!-- red dot -->\n",
       "<circle fill=\"#d66661\" stroke=\"#c93d39\" stroke-width=\"3\" cx=\"212.459\" cy=\"60\" r=\"16.5\"></circle>\n",
       "<!-- green dot -->\n",
       "<circle fill=\"#6bab5b\" stroke=\"#3b972e\" stroke-width=\"3\" cx=\"233.834\" cy=\"23.874\" r=\"16.5\"></circle>\n",
       "<!-- purple dot -->\n",
       "<circle fill=\"#aa7dc0\" stroke=\"#945bb0\" stroke-width=\"3\" cx=\"255.209\" cy=\"60\" r=\"16.5\"></circle>\n",
       "\n",
       "<!-- \"j\" -->\n",
       "<path fill=\"#252525\" d=\"M37.216,138.427c0-15.839,0.006-31.679-0.018-47.517c-0.001-0.827,0.169-1.234,1.043-1.47\n",
       "\tc7.876-2.127,15.739-4.308,23.606-6.47c1.33-0.366,1.333-0.36,1.333,1.019c0,25.758,0.015,51.517-0.012,77.274\n",
       "\tc-0.006,5.514,0.245,11.032-0.272,16.543c-0.628,6.69-2.15,13.092-6.438,18.506c-3.781,4.771-8.898,7.25-14.767,8.338\n",
       "\tc-6.599,1.222-13.251,1.552-19.934,0.938c-4.616-0.423-9.045-1.486-12.844-4.363c-2.863-2.168-4.454-4.935-3.745-8.603\n",
       "\tc0.736-3.806,3.348-5.978,6.861-7.127c2.262-0.74,4.628-0.872,6.994-0.53c1.823,0.264,3.42,1.023,4.779,2.288\n",
       "\tc1.38,1.284,2.641,2.674,3.778,4.177c0.872,1.15,1.793,2.256,2.991,3.086c2.055,1.426,4,0.965,5.213-1.216\n",
       "\tc0.819-1.473,0.997-3.106,1.173-4.731c0.255-2.348,0.255-4.707,0.256-7.062C37.218,167.145,37.216,152.786,37.216,138.427z\"></path>\n",
       "\n",
       "<!-- \"u\" -->\n",
       "<path fill=\"#252525\" d=\"M125.536,162.479c-2.908,2.385-5.783,4.312-8.88,5.904c-10.348,5.323-20.514,4.521-30.324-1.253\n",
       "\tc-6.71-3.95-11.012-9.849-12.52-17.606c-0.236-1.213-0.363-2.438-0.363-3.688c0.01-19.797,0.017-39.593-0.02-59.39\n",
       "\tc-0.002-1.102,0.285-1.357,1.363-1.351c7.798,0.049,15.597,0.044,23.396,0.003c0.95-0.005,1.177,0.25,1.175,1.183\n",
       "\tc-0.027,19.356-0.025,38.713-0.018,58.07c0.002,6.34,3.599,10.934,9.672,12.42c2.13,0.521,4.19,0.396,6.173-0.6\n",
       "\tc4.26-2.139,7.457-5.427,10.116-9.307c0.333-0.487,0.224-1,0.224-1.51c0.007-19.635,0.016-39.271-0.02-58.904\n",
       "\tc-0.002-1.083,0.255-1.369,1.353-1.361c7.838,0.052,15.677,0.045,23.515,0.004c0.916-0.005,1.103,0.244,1.102,1.124\n",
       "\tc-0.025,27.677-0.026,55.353,0.002,83.024c0.001,0.938-0.278,1.099-1.139,1.095c-7.918-0.028-15.837-0.028-23.756-0.001\n",
       "\tc-0.815,0.003-1.1-0.166-1.073-1.037C125.581,167.117,125.536,164.928,125.536,162.479z\"></path>\n",
       "\n",
       "<!-- \"l\" -->\n",
       "<path fill=\"#252525\" d=\"M187.423,107.08c0,20.637-0.011,41.273,0.026,61.91c0.003,1.119-0.309,1.361-1.381,1.355\n",
       "\tc-7.799-0.052-15.598-0.047-23.396-0.008c-0.898,0.008-1.117-0.222-1.115-1.115c0.021-39.074,0.021-78.147,0-117.226\n",
       "\tc0-0.811,0.189-1.169,1.006-1.392c7.871-2.149,15.73-4.327,23.584-6.545c1.045-0.295,1.308-0.17,1.306,0.985\n",
       "\tC187.412,65.727,187.423,86.403,187.423,107.08z\"></path>\n",
       "\n",
       "<!-- \"i\" -->\n",
       "<path fill=\"#252525\" d=\"M223.46,126.477c0,14.155-0.011,28.312,0.021,42.467c0.002,1.027-0.164,1.418-1.332,1.408\n",
       "\tc-7.838-0.061-15.676-0.047-23.516-0.01c-0.881,0.004-1.121-0.189-1.119-1.104c0.026-26.153,0.025-52.307,0-78.458\n",
       "\tc0-0.776,0.203-1.101,0.941-1.302c7.984-2.172,15.972-4.35,23.938-6.596c1.049-0.296,1.08,0.031,1.078,0.886\n",
       "\tC223.454,98.004,223.46,112.239,223.46,126.477z\"></path>\n",
       "\n",
       "<!-- \"a\" -->\n",
       "<path fill=\"#252525\" d=\"M277.695,163.6c-0.786,0.646-1.404,1.125-2,1.635c-4.375,3.746-9.42,5.898-15.16,6.42\n",
       "\tc-5.792,0.527-11.479,0.244-16.934-2.047c-12.08-5.071-15.554-17.188-11.938-27.448c1.799-5.111,5.472-8.868,9.831-11.94\n",
       "\tc5.681-4.003,12.009-6.732,18.504-9.074c5.576-2.014,11.186-3.939,16.955-5.347c0.445-0.104,0.773-0.243,0.757-0.854\n",
       "\tc-0.136-4.389,0.261-8.79-0.479-13.165c-1.225-7.209-6.617-10.013-12.895-9.348c-0.516,0.055-1.029,0.129-1.536,0.241\n",
       "\tc-4.877,1.081-7.312,4.413-7.374,10.127c-0.02,1.729-0.229,3.418-0.693,5.084c-0.906,3.229-2.969,5.354-6.168,6.266\n",
       "\tc-3.422,0.979-6.893,0.998-10.23-0.305c-6.529-2.543-8.877-10.164-5.12-16.512c2.249-3.799,5.606-6.4,9.461-8.405\n",
       "\tc6.238-3.246,12.914-4.974,19.896-5.537c7.565-0.61,15.096-0.366,22.49,1.507c4.285,1.085,8.312,2.776,11.744,5.657\n",
       "\tc4.473,3.749,6.776,8.647,6.812,14.374c0.139,21.477,0.096,42.951,0.143,64.428c0.002,0.799-0.248,0.983-1.021,0.98\n",
       "\tc-8.035-0.025-16.074-0.023-24.113-0.001c-0.716,0.002-0.973-0.146-0.941-0.915C277.736,167.562,277.695,165.698,277.695,163.6z\n",
       "\t M277.695,126.393c-4.793,2.104-9.25,4.373-13.287,7.408c-2.151,1.618-4.033,3.483-5.732,5.581\n",
       "\tc-4.229,5.226-1.988,13.343,1.693,16.599c1.592,1.406,3.359,1.906,5.419,1.521c1.621-0.307,3.149-0.857,4.549-1.734\n",
       "\tc1.521-0.951,2.949-2.072,4.539-2.887c2.31-1.18,2.97-2.861,2.894-5.445C277.561,140.484,277.695,133.527,277.695,126.393z\"></path>\n",
       "\n",
       "</svg>\n"
      ]
     },
     "metadata": {},
     "output_type": "display_data"
    }
   ],
   "source": [
    "IPythonDisplay.display(IJulia.image_svg, \"\"\"\n",
    "<svg version=\"1.1\" id=\"Layer_1\" xmlns=\"http://www.w3.org/2000/svg\" xmlns:xlink=\"http://www.w3.org/1999/xlink\" x=\"0px\" y=\"0px\" width=\"210px\" height=\"142px\" viewBox=\"0 0 310 216\" enable-background=\"new 0 0 310 216\" xml:space=\"preserve\">\n",
    "\n",
    "<!-- blue dot -->\n",
    "<circle fill=\"#6b85dd\" stroke=\"#4266d5\" stroke-width=\"3\" cx=\"50.5\" cy=\"60\" r=\"16.5\"></circle>\n",
    "<!-- red dot -->\n",
    "<circle fill=\"#d66661\" stroke=\"#c93d39\" stroke-width=\"3\" cx=\"212.459\" cy=\"60\" r=\"16.5\"></circle>\n",
    "<!-- green dot -->\n",
    "<circle fill=\"#6bab5b\" stroke=\"#3b972e\" stroke-width=\"3\" cx=\"233.834\" cy=\"23.874\" r=\"16.5\"></circle>\n",
    "<!-- purple dot -->\n",
    "<circle fill=\"#aa7dc0\" stroke=\"#945bb0\" stroke-width=\"3\" cx=\"255.209\" cy=\"60\" r=\"16.5\"></circle>\n",
    "\n",
    "<!-- \"j\" -->\n",
    "<path fill=\"#252525\" d=\"M37.216,138.427c0-15.839,0.006-31.679-0.018-47.517c-0.001-0.827,0.169-1.234,1.043-1.47\n",
    "\tc7.876-2.127,15.739-4.308,23.606-6.47c1.33-0.366,1.333-0.36,1.333,1.019c0,25.758,0.015,51.517-0.012,77.274\n",
    "\tc-0.006,5.514,0.245,11.032-0.272,16.543c-0.628,6.69-2.15,13.092-6.438,18.506c-3.781,4.771-8.898,7.25-14.767,8.338\n",
    "\tc-6.599,1.222-13.251,1.552-19.934,0.938c-4.616-0.423-9.045-1.486-12.844-4.363c-2.863-2.168-4.454-4.935-3.745-8.603\n",
    "\tc0.736-3.806,3.348-5.978,6.861-7.127c2.262-0.74,4.628-0.872,6.994-0.53c1.823,0.264,3.42,1.023,4.779,2.288\n",
    "\tc1.38,1.284,2.641,2.674,3.778,4.177c0.872,1.15,1.793,2.256,2.991,3.086c2.055,1.426,4,0.965,5.213-1.216\n",
    "\tc0.819-1.473,0.997-3.106,1.173-4.731c0.255-2.348,0.255-4.707,0.256-7.062C37.218,167.145,37.216,152.786,37.216,138.427z\"></path>\n",
    "\n",
    "<!-- \"u\" -->\n",
    "<path fill=\"#252525\" d=\"M125.536,162.479c-2.908,2.385-5.783,4.312-8.88,5.904c-10.348,5.323-20.514,4.521-30.324-1.253\n",
    "\tc-6.71-3.95-11.012-9.849-12.52-17.606c-0.236-1.213-0.363-2.438-0.363-3.688c0.01-19.797,0.017-39.593-0.02-59.39\n",
    "\tc-0.002-1.102,0.285-1.357,1.363-1.351c7.798,0.049,15.597,0.044,23.396,0.003c0.95-0.005,1.177,0.25,1.175,1.183\n",
    "\tc-0.027,19.356-0.025,38.713-0.018,58.07c0.002,6.34,3.599,10.934,9.672,12.42c2.13,0.521,4.19,0.396,6.173-0.6\n",
    "\tc4.26-2.139,7.457-5.427,10.116-9.307c0.333-0.487,0.224-1,0.224-1.51c0.007-19.635,0.016-39.271-0.02-58.904\n",
    "\tc-0.002-1.083,0.255-1.369,1.353-1.361c7.838,0.052,15.677,0.045,23.515,0.004c0.916-0.005,1.103,0.244,1.102,1.124\n",
    "\tc-0.025,27.677-0.026,55.353,0.002,83.024c0.001,0.938-0.278,1.099-1.139,1.095c-7.918-0.028-15.837-0.028-23.756-0.001\n",
    "\tc-0.815,0.003-1.1-0.166-1.073-1.037C125.581,167.117,125.536,164.928,125.536,162.479z\"></path>\n",
    "\n",
    "<!-- \"l\" -->\n",
    "<path fill=\"#252525\" d=\"M187.423,107.08c0,20.637-0.011,41.273,0.026,61.91c0.003,1.119-0.309,1.361-1.381,1.355\n",
    "\tc-7.799-0.052-15.598-0.047-23.396-0.008c-0.898,0.008-1.117-0.222-1.115-1.115c0.021-39.074,0.021-78.147,0-117.226\n",
    "\tc0-0.811,0.189-1.169,1.006-1.392c7.871-2.149,15.73-4.327,23.584-6.545c1.045-0.295,1.308-0.17,1.306,0.985\n",
    "\tC187.412,65.727,187.423,86.403,187.423,107.08z\"></path>\n",
    "\n",
    "<!-- \"i\" -->\n",
    "<path fill=\"#252525\" d=\"M223.46,126.477c0,14.155-0.011,28.312,0.021,42.467c0.002,1.027-0.164,1.418-1.332,1.408\n",
    "\tc-7.838-0.061-15.676-0.047-23.516-0.01c-0.881,0.004-1.121-0.189-1.119-1.104c0.026-26.153,0.025-52.307,0-78.458\n",
    "\tc0-0.776,0.203-1.101,0.941-1.302c7.984-2.172,15.972-4.35,23.938-6.596c1.049-0.296,1.08,0.031,1.078,0.886\n",
    "\tC223.454,98.004,223.46,112.239,223.46,126.477z\"></path>\n",
    "\n",
    "<!-- \"a\" -->\n",
    "<path fill=\"#252525\" d=\"M277.695,163.6c-0.786,0.646-1.404,1.125-2,1.635c-4.375,3.746-9.42,5.898-15.16,6.42\n",
    "\tc-5.792,0.527-11.479,0.244-16.934-2.047c-12.08-5.071-15.554-17.188-11.938-27.448c1.799-5.111,5.472-8.868,9.831-11.94\n",
    "\tc5.681-4.003,12.009-6.732,18.504-9.074c5.576-2.014,11.186-3.939,16.955-5.347c0.445-0.104,0.773-0.243,0.757-0.854\n",
    "\tc-0.136-4.389,0.261-8.79-0.479-13.165c-1.225-7.209-6.617-10.013-12.895-9.348c-0.516,0.055-1.029,0.129-1.536,0.241\n",
    "\tc-4.877,1.081-7.312,4.413-7.374,10.127c-0.02,1.729-0.229,3.418-0.693,5.084c-0.906,3.229-2.969,5.354-6.168,6.266\n",
    "\tc-3.422,0.979-6.893,0.998-10.23-0.305c-6.529-2.543-8.877-10.164-5.12-16.512c2.249-3.799,5.606-6.4,9.461-8.405\n",
    "\tc6.238-3.246,12.914-4.974,19.896-5.537c7.565-0.61,15.096-0.366,22.49,1.507c4.285,1.085,8.312,2.776,11.744,5.657\n",
    "\tc4.473,3.749,6.776,8.647,6.812,14.374c0.139,21.477,0.096,42.951,0.143,64.428c0.002,0.799-0.248,0.983-1.021,0.98\n",
    "\tc-8.035-0.025-16.074-0.023-24.113-0.001c-0.716,0.002-0.973-0.146-0.941-0.915C277.736,167.562,277.695,165.698,277.695,163.6z\n",
    "\t M277.695,126.393c-4.793,2.104-9.25,4.373-13.287,7.408c-2.151,1.618-4.033,3.483-5.732,5.581\n",
    "\tc-4.229,5.226-1.988,13.343,1.693,16.599c1.592,1.406,3.359,1.906,5.419,1.521c1.621-0.307,3.149-0.857,4.549-1.734\n",
    "\tc1.521-0.951,2.949-2.072,4.539-2.887c2.31-1.18,2.97-2.861,2.894-5.445C277.561,140.484,277.695,133.527,277.695,126.393z\"></path>\n",
    "\n",
    "</svg>\n",
    "\"\"\")"
   ]
  },
  {
   "cell_type": "markdown",
   "metadata": {},
   "source": [
    "![](http://julialang.org/images/ijulia.png \"IJulia\")"
   ]
  },
  {
   "cell_type": "code",
   "execution_count": 217,
   "metadata": {
    "collapsed": false
   },
   "outputs": [
    {
     "data": {
      "text/plain": [
       "MIME type image/png"
      ]
     },
     "execution_count": 217,
     "metadata": {},
     "output_type": "execute_result"
    }
   ],
   "source": [
    "IJulia.image_png"
   ]
  },
  {
   "cell_type": "markdown",
   "metadata": {},
   "source": [
    "This expression $\\sqrt{3x-1}+(1+x)^2$ is an example of a TeX inline equation in a [Markdown-formatted](http://daringfireball.net/projects/markdown/) sentence."
   ]
  },
  {
   "cell_type": "markdown",
   "metadata": {},
   "source": [
    "https://jupyter-notebook.readthedocs.io/en/latest/examples/Notebook/Typesetting%20Equations.html\n",
    "\n",
    "\\begin{equation*}\n",
    "\\mathbf{V}_1 \\times \\mathbf{V}_2 =  \\begin{vmatrix}\n",
    "\\mathbf{i} & \\mathbf{j} & \\mathbf{k} \\\\\n",
    "\\frac{\\partial X}{\\partial u} &  \\frac{\\partial Y}{\\partial u} & 0 \\\\\n",
    "\\frac{\\partial X}{\\partial v} &  \\frac{\\partial Y}{\\partial v} & 0\n",
    "\\end{vmatrix}\n",
    "\\end{equation*} "
   ]
  },
  {
   "cell_type": "code",
   "execution_count": 250,
   "metadata": {
    "collapsed": false
   },
   "outputs": [
    {
     "data": {
      "text/plain": [
       "(\"/Users/utensil/.julia/v0.4/IJulia/src/inline.jl\",53)"
      ]
     },
     "execution_count": 250,
     "metadata": {},
     "output_type": "execute_result"
    }
   ],
   "source": [
    "(src, loc) = functionloc(display, ())"
   ]
  },
  {
   "cell_type": "code",
   "execution_count": 269,
   "metadata": {
    "collapsed": false
   },
   "outputs": [
    {
     "name": "stdout",
     "output_type": "stream",
     "text": [
      "module IPythonDisplay\n",
      "\n",
      "using IJulia, Compat\n",
      "import IJulia: send_ipython, publish, msg_pub, execute_msg,\n",
      "               metadata, display_dict, displayqueue, undisplay\n",
      "\n",
      "import Base: display, redisplay\n",
      "export display, redisplay, InlineDisplay, undisplay\n",
      "\n",
      "immutable InlineDisplay <: Display end\n",
      "\n",
      "# supported MIME types for inline display in IPython, in descending order\n",
      "# of preference (descending \"richness\")\n",
      "const ipy_mime = [ \"text/html\", \"text/latex\", \"image/svg+xml\", \"image/png\", \"image/jpeg\", \"text/plain\", \"text/markdown\" ]\n",
      "\n",
      "for mime in ipy_mime\n",
      "    @eval begin\n",
      "        function display(d::InlineDisplay, ::MIME{symbol($mime)}, x)\n",
      "            send_ipython(publish, \n",
      "                         msg_pub(execute_msg, \"display_data\",\n",
      "                                 @compat Dict(\"source\" => \"julia\", # optional\n",
      "                                  \"metadata\" => metadata(x), # optional\n",
      "                                  \"data\" => @compat Dict($mime => stringmime(MIME($mime), x)))))\n",
      "        end\n",
      "    end\n",
      "end\n",
      "\n",
      "# deal with annoying application/x-latex == text/latex synonyms\n",
      "display(d::InlineDisplay, m::MIME\"application/x-latex\", x) = display(d, MIME(\"text/latex\"), stringmime(m, x))\n",
      "\n",
      "# override display to send IPython a dictionary of all supported\n",
      "# output types, so that IPython can choose what to display.\n",
      "function display(d::InlineDisplay, x)\n",
      "    undisplay(x) # dequeue previous redisplay(x)\n",
      "    send_ipython(publish, \n",
      "                 msg_pub(execute_msg, \"display_data\",\n",
      "                         @compat Dict(\"source\" => \"julia\", # optional\n",
      "                                      \"metadata\" => metadata(x), # optional\n",
      "                                      \"data\" => display_dict(x))))\n",
      "end\n",
      "\n",
      "# we overload redisplay(d, x) to add x to a queue of objects to display,\n",
      "# with the actual display occuring when display() is called or when\n",
      "# an input cell has finished executing.\n",
      "\n",
      "function redisplay(d::InlineDisplay, x)\n",
      "    if !in(x,displayqueue)\n",
      "        push!(displayqueue, x)\n",
      "    end\n",
      "end\n",
      "\n",
      "function display()\n",
      "    q = copy(displayqueue)\n",
      "    empty!(displayqueue) # so that undisplay in display(x) is no-op\n",
      "    for x in q\n",
      "        display(x)\n",
      "    end\n",
      "end\n",
      "\n",
      "end # module\n"
     ]
    }
   ],
   "source": [
    "less(display, ())"
   ]
  },
  {
   "cell_type": "code",
   "execution_count": 280,
   "metadata": {
    "collapsed": false
   },
   "outputs": [
    {
     "data": {
      "text/plain": [
       "PyObject <ga.Ga object at 0x3196cbb10>"
      ]
     },
     "execution_count": 280,
     "metadata": {},
     "output_type": "execute_result"
    }
   ],
   "source": [
    "using PyCall\n",
    "@pyimport ga\n",
    "@pyimport printer\n",
    "\n",
    "pyeval(\"\"\"\n",
    "Ga('e*x|y|z')\n",
    "\"\"\", Ga=ga.Ga)"
   ]
  },
  {
   "cell_type": "code",
   "execution_count": 285,
   "metadata": {
    "collapsed": false
   },
   "outputs": [
    {
     "data": {
      "text/latex": [
       "\\begin{equation*} \\left ( - A^{y} {\\left (x,y,z \\right )} B^{xy} {\\left (x,y,z \\right )} - A^{z} {\\left (x,y,z \\right )} B^{xz} {\\left (x,y,z \\right )}\\right ) \\boldsymbol{e}_{x} + \\left ( A^{x} {\\left (x,y,z \\right )} B^{xy} {\\left (x,y,z \\right )} - A^{z} {\\left (x,y,z \\right )} B^{yz} {\\left (x,y,z \\right )}\\right ) \\boldsymbol{e}_{y} + \\left ( A^{x} {\\left (x,y,z \\right )} B^{xz} {\\left (x,y,z \\right )} + A^{y} {\\left (x,y,z \\right )} B^{yz} {\\left (x,y,z \\right )}\\right ) \\boldsymbol{e}_{z} \\end{equation*}"
      ],
      "text/plain": [
       "PyObject (-A__y*B__xy - A__z*B__xz)*e_x + (A__x*B__xy - A__z*B__yz)*e_y + (A__x*B__xz + A__y*B__yz)*e_z"
      ]
     },
     "execution_count": 285,
     "metadata": {},
     "output_type": "execute_result"
    }
   ],
   "source": [
    "pyeval(\"\"\"\n",
    "A|B\n",
    "\"\"\", A=A, B=B)"
   ]
  },
  {
   "cell_type": "code",
   "execution_count": 287,
   "metadata": {
    "collapsed": false
   },
   "outputs": [
    {
     "data": {
      "text/latex": [
       "\\begin{equation*} e_x D{x} + e_y D{y} + e_z D{z} \\end{equation*}"
      ],
      "text/plain": [
       "PyObject e_x*D{x} + e_y*D{y} + e_z*D{z}"
      ]
     },
     "metadata": {},
     "output_type": "display_data"
    },
    {
     "data": {
      "text/latex": [
       "\\begin{equation*} f = f {\\left (x,y,z \\right )} \\end{equation*}"
      ],
      "text/plain": [
       "PyObject f"
      ]
     },
     "metadata": {},
     "output_type": "display_data"
    },
    {
     "data": {
      "text/latex": [
       "\\begin{equation*} A = A^{x} {\\left (x,y,z \\right )} \\boldsymbol{e}_{x} + A^{y} {\\left (x,y,z \\right )} \\boldsymbol{e}_{y} + A^{z} {\\left (x,y,z \\right )} \\boldsymbol{e}_{z} \\end{equation*}"
      ],
      "text/plain": [
       "PyObject A__x*e_x + A__y*e_y + A__z*e_z"
      ]
     },
     "metadata": {},
     "output_type": "display_data"
    },
    {
     "data": {
      "text/latex": [
       "\\begin{equation*} B = B^{xy} {\\left (x,y,z \\right )} \\boldsymbol{e}_{x}\\wedge \\boldsymbol{e}_{y} + B^{xz} {\\left (x,y,z \\right )} \\boldsymbol{e}_{x}\\wedge \\boldsymbol{e}_{z} + B^{yz} {\\left (x,y,z \\right )} \\boldsymbol{e}_{y}\\wedge \\boldsymbol{e}_{z} \\end{equation*}"
      ],
      "text/plain": [
       "PyObject B__xy*e_x^e_y + B__xz*e_x^e_z + B__yz*e_y^e_z"
      ]
     },
     "metadata": {},
     "output_type": "display_data"
    },
    {
     "data": {
      "text/latex": [
       "\\begin{equation*} C = C {\\left (x,y,z \\right )}  + C^{x} {\\left (x,y,z \\right )} \\boldsymbol{e}_{x} + C^{y} {\\left (x,y,z \\right )} \\boldsymbol{e}_{y} + C^{z} {\\left (x,y,z \\right )} \\boldsymbol{e}_{z} + C^{xy} {\\left (x,y,z \\right )} \\boldsymbol{e}_{x}\\wedge \\boldsymbol{e}_{y} + C^{xz} {\\left (x,y,z \\right )} \\boldsymbol{e}_{x}\\wedge \\boldsymbol{e}_{z} + C^{yz} {\\left (x,y,z \\right )} \\boldsymbol{e}_{y}\\wedge \\boldsymbol{e}_{z} + C^{xyz} {\\left (x,y,z \\right )} \\boldsymbol{e}_{x}\\wedge \\boldsymbol{e}_{y}\\wedge \\boldsymbol{e}_{z} \\end{equation*}"
      ],
      "text/plain": [
       "PyObject C + C__x*e_x + C__y*e_y + C__z*e_z + C__xy*e_x^e_y + C__xz*e_x^e_z + C__yz*e_y^e_z + C__xyz*e_x^e_y^e_z"
      ]
     },
     "metadata": {},
     "output_type": "display_data"
    },
    {
     "data": {
      "text/plain": [
       "5-element Array{Any,1}:\n",
       " nothing\n",
       " nothing\n",
       " nothing\n",
       " nothing\n",
       " nothing"
      ]
     },
     "execution_count": 287,
     "metadata": {},
     "output_type": "execute_result"
    }
   ],
   "source": [
    "[display(v) for v in [grad, f, A, B, C]]"
   ]
  },
  {
   "cell_type": "code",
   "execution_count": 294,
   "metadata": {
    "collapsed": false
   },
   "outputs": [
    {
     "data": {
      "text/markdown": [
       "`grad * f` = "
      ]
     },
     "metadata": {},
     "output_type": "display_data"
    },
    {
     "data": {
      "text/latex": [
       "\\begin{equation*} \\frac{\\partial}{\\partial x} f {\\left (x,y,z \\right )} \\boldsymbol{e}_{x} + \\frac{\\partial}{\\partial y} f {\\left (x,y,z \\right )} \\boldsymbol{e}_{y} + \\frac{\\partial}{\\partial z} f {\\left (x,y,z \\right )} \\boldsymbol{e}_{z} \\end{equation*}"
      ],
      "text/plain": [
       "PyObject D{x}f*e_x + D{y}f*e_y + D{z}f*e_z"
      ]
     },
     "metadata": {},
     "output_type": "display_data"
    },
    {
     "data": {
      "text/markdown": [
       "`grad | A` = "
      ]
     },
     "metadata": {},
     "output_type": "display_data"
    },
    {
     "data": {
      "text/latex": [
       "\\begin{equation*} \\frac{\\partial}{\\partial x} A^{x} {\\left (x,y,z \\right )} + \\frac{\\partial}{\\partial y} A^{y} {\\left (x,y,z \\right )} + \\frac{\\partial}{\\partial z} A^{z} {\\left (x,y,z \\right )} \\end{equation*}"
      ],
      "text/plain": [
       "PyObject D{x}A__x + D{y}A__y + D{z}A__z"
      ]
     },
     "metadata": {},
     "output_type": "display_data"
    },
    {
     "data": {
      "text/markdown": [
       "`grad * A` = "
      ]
     },
     "metadata": {},
     "output_type": "display_data"
    },
    {
     "data": {
      "text/latex": [
       "\\begin{equation*} \\left ( \\frac{\\partial}{\\partial x} A^{x} {\\left (x,y,z \\right )} + \\frac{\\partial}{\\partial y} A^{y} {\\left (x,y,z \\right )} + \\frac{\\partial}{\\partial z} A^{z} {\\left (x,y,z \\right )}\\right )  + \\left ( - \\frac{\\partial}{\\partial y} A^{x} {\\left (x,y,z \\right )} + \\frac{\\partial}{\\partial x} A^{y} {\\left (x,y,z \\right )}\\right ) \\boldsymbol{e}_{x}\\wedge \\boldsymbol{e}_{y} + \\left ( - \\frac{\\partial}{\\partial z} A^{x} {\\left (x,y,z \\right )} + \\frac{\\partial}{\\partial x} A^{z} {\\left (x,y,z \\right )}\\right ) \\boldsymbol{e}_{x}\\wedge \\boldsymbol{e}_{z} + \\left ( - \\frac{\\partial}{\\partial z} A^{y} {\\left (x,y,z \\right )} + \\frac{\\partial}{\\partial y} A^{z} {\\left (x,y,z \\right )}\\right ) \\boldsymbol{e}_{y}\\wedge \\boldsymbol{e}_{z} \\end{equation*}"
      ],
      "text/plain": [
       "PyObject D{x}A__x + D{y}A__y + D{z}A__z + (-D{y}A__x + D{x}A__y)*e_x^e_y + (-D{z}A__x + D{x}A__z)*e_x^e_z + (-D{z}A__y + D{y}A__z)*e_y^e_z"
      ]
     },
     "metadata": {},
     "output_type": "display_data"
    },
    {
     "data": {
      "text/markdown": [
       "`-o3d.E() * (grad ^ A)` = "
      ]
     },
     "metadata": {},
     "output_type": "display_data"
    },
    {
     "data": {
      "text/latex": [
       "\\begin{equation*} \\left ( - \\frac{\\partial}{\\partial z} A^{y} {\\left (x,y,z \\right )} + \\frac{\\partial}{\\partial y} A^{z} {\\left (x,y,z \\right )}\\right ) \\boldsymbol{e}_{x} + \\left ( \\frac{\\partial}{\\partial z} A^{x} {\\left (x,y,z \\right )} - \\frac{\\partial}{\\partial x} A^{z} {\\left (x,y,z \\right )}\\right ) \\boldsymbol{e}_{y} + \\left ( - \\frac{\\partial}{\\partial y} A^{x} {\\left (x,y,z \\right )} + \\frac{\\partial}{\\partial x} A^{y} {\\left (x,y,z \\right )}\\right ) \\boldsymbol{e}_{z} \\end{equation*}"
      ],
      "text/plain": [
       "PyObject (-D{z}A__y + D{y}A__z)*e_x + (D{z}A__x - D{x}A__z)*e_y + (-D{y}A__x + D{x}A__y)*e_z"
      ]
     },
     "metadata": {},
     "output_type": "display_data"
    },
    {
     "data": {
      "text/markdown": [
       "`grad * B` = "
      ]
     },
     "metadata": {},
     "output_type": "display_data"
    },
    {
     "data": {
      "text/latex": [
       "\\begin{equation*} \\left ( - \\frac{\\partial}{\\partial y} B^{xy} {\\left (x,y,z \\right )} - \\frac{\\partial}{\\partial z} B^{xz} {\\left (x,y,z \\right )}\\right ) \\boldsymbol{e}_{x} + \\left ( \\frac{\\partial}{\\partial x} B^{xy} {\\left (x,y,z \\right )} - \\frac{\\partial}{\\partial z} B^{yz} {\\left (x,y,z \\right )}\\right ) \\boldsymbol{e}_{y} + \\left ( \\frac{\\partial}{\\partial x} B^{xz} {\\left (x,y,z \\right )} + \\frac{\\partial}{\\partial y} B^{yz} {\\left (x,y,z \\right )}\\right ) \\boldsymbol{e}_{z} + \\left ( \\frac{\\partial}{\\partial z} B^{xy} {\\left (x,y,z \\right )} - \\frac{\\partial}{\\partial y} B^{xz} {\\left (x,y,z \\right )} + \\frac{\\partial}{\\partial x} B^{yz} {\\left (x,y,z \\right )}\\right ) \\boldsymbol{e}_{x}\\wedge \\boldsymbol{e}_{y}\\wedge \\boldsymbol{e}_{z} \\end{equation*}"
      ],
      "text/plain": [
       "PyObject (-D{y}B__xy - D{z}B__xz)*e_x + (D{x}B__xy - D{z}B__yz)*e_y + (D{x}B__xz + D{y}B__yz)*e_z + (D{z}B__xy - D{y}B__xz + D{x}B__yz)*e_x^e_y^e_z"
      ]
     },
     "metadata": {},
     "output_type": "display_data"
    },
    {
     "data": {
      "text/markdown": [
       "`grad ^ B` = "
      ]
     },
     "metadata": {},
     "output_type": "display_data"
    },
    {
     "data": {
      "text/latex": [
       "\\begin{equation*} \\left ( \\frac{\\partial}{\\partial z} B^{xy} {\\left (x,y,z \\right )} - \\frac{\\partial}{\\partial y} B^{xz} {\\left (x,y,z \\right )} + \\frac{\\partial}{\\partial x} B^{yz} {\\left (x,y,z \\right )}\\right ) \\boldsymbol{e}_{x}\\wedge \\boldsymbol{e}_{y}\\wedge \\boldsymbol{e}_{z} \\end{equation*}"
      ],
      "text/plain": [
       "PyObject (D{z}B__xy - D{y}B__xz + D{x}B__yz)*e_x^e_y^e_z"
      ]
     },
     "metadata": {},
     "output_type": "display_data"
    },
    {
     "data": {
      "text/markdown": [
       "`grad | B` = "
      ]
     },
     "metadata": {},
     "output_type": "display_data"
    },
    {
     "data": {
      "text/latex": [
       "\\begin{equation*} \\left ( - \\frac{\\partial}{\\partial y} B^{xy} {\\left (x,y,z \\right )} - \\frac{\\partial}{\\partial z} B^{xz} {\\left (x,y,z \\right )}\\right ) \\boldsymbol{e}_{x} + \\left ( \\frac{\\partial}{\\partial x} B^{xy} {\\left (x,y,z \\right )} - \\frac{\\partial}{\\partial z} B^{yz} {\\left (x,y,z \\right )}\\right ) \\boldsymbol{e}_{y} + \\left ( \\frac{\\partial}{\\partial x} B^{xz} {\\left (x,y,z \\right )} + \\frac{\\partial}{\\partial y} B^{yz} {\\left (x,y,z \\right )}\\right ) \\boldsymbol{e}_{z} \\end{equation*}"
      ],
      "text/plain": [
       "PyObject (-D{y}B__xy - D{z}B__xz)*e_x + (D{x}B__xy - D{z}B__yz)*e_y + (D{x}B__xz + D{y}B__yz)*e_z"
      ]
     },
     "metadata": {},
     "output_type": "display_data"
    },
    {
     "data": {
      "text/markdown": [
       "`grad < A` = "
      ]
     },
     "metadata": {},
     "output_type": "display_data"
    },
    {
     "data": {
      "text/latex": [
       "\\begin{equation*} \\frac{\\partial}{\\partial x} A^{x} {\\left (x,y,z \\right )} + \\frac{\\partial}{\\partial y} A^{y} {\\left (x,y,z \\right )} + \\frac{\\partial}{\\partial z} A^{z} {\\left (x,y,z \\right )} \\end{equation*}"
      ],
      "text/plain": [
       "PyObject D{x}A__x + D{y}A__y + D{z}A__z"
      ]
     },
     "metadata": {},
     "output_type": "display_data"
    },
    {
     "data": {
      "text/markdown": [
       "`grad > A` = "
      ]
     },
     "metadata": {},
     "output_type": "display_data"
    },
    {
     "data": {
      "text/latex": [
       "\\begin{equation*} \\frac{\\partial}{\\partial x} A^{x} {\\left (x,y,z \\right )} + \\frac{\\partial}{\\partial y} A^{y} {\\left (x,y,z \\right )} + \\frac{\\partial}{\\partial z} A^{z} {\\left (x,y,z \\right )} \\end{equation*}"
      ],
      "text/plain": [
       "PyObject D{x}A__x + D{y}A__y + D{z}A__z"
      ]
     },
     "metadata": {},
     "output_type": "display_data"
    },
    {
     "data": {
      "text/markdown": [
       "`grad < B` = "
      ]
     },
     "metadata": {},
     "output_type": "display_data"
    },
    {
     "data": {
      "text/latex": [
       "\\begin{equation*} \\left ( - \\frac{\\partial}{\\partial y} B^{xy} {\\left (x,y,z \\right )} - \\frac{\\partial}{\\partial z} B^{xz} {\\left (x,y,z \\right )}\\right ) \\boldsymbol{e}_{x} + \\left ( \\frac{\\partial}{\\partial x} B^{xy} {\\left (x,y,z \\right )} - \\frac{\\partial}{\\partial z} B^{yz} {\\left (x,y,z \\right )}\\right ) \\boldsymbol{e}_{y} + \\left ( \\frac{\\partial}{\\partial x} B^{xz} {\\left (x,y,z \\right )} + \\frac{\\partial}{\\partial y} B^{yz} {\\left (x,y,z \\right )}\\right ) \\boldsymbol{e}_{z} \\end{equation*}"
      ],
      "text/plain": [
       "PyObject (-D{y}B__xy - D{z}B__xz)*e_x + (D{x}B__xy - D{z}B__yz)*e_y + (D{x}B__xz + D{y}B__yz)*e_z"
      ]
     },
     "metadata": {},
     "output_type": "display_data"
    },
    {
     "data": {
      "text/markdown": [
       "`grad > B` = "
      ]
     },
     "metadata": {},
     "output_type": "display_data"
    },
    {
     "data": {
      "text/latex": [
       "\\begin{equation*} 0 \n",
       " \\end{equation*}"
      ],
      "text/plain": [
       "PyObject 0"
      ]
     },
     "metadata": {},
     "output_type": "display_data"
    },
    {
     "data": {
      "text/markdown": [
       "`grad < C` = "
      ]
     },
     "metadata": {},
     "output_type": "display_data"
    },
    {
     "data": {
      "text/latex": [
       "\\begin{equation*} \\left ( \\frac{\\partial}{\\partial x} C^{x} {\\left (x,y,z \\right )} + \\frac{\\partial}{\\partial y} C^{y} {\\left (x,y,z \\right )} + \\frac{\\partial}{\\partial z} C^{z} {\\left (x,y,z \\right )}\\right )  + \\left ( - \\frac{\\partial}{\\partial y} C^{xy} {\\left (x,y,z \\right )} - \\frac{\\partial}{\\partial z} C^{xz} {\\left (x,y,z \\right )}\\right ) \\boldsymbol{e}_{x} + \\left ( \\frac{\\partial}{\\partial x} C^{xy} {\\left (x,y,z \\right )} - \\frac{\\partial}{\\partial z} C^{yz} {\\left (x,y,z \\right )}\\right ) \\boldsymbol{e}_{y} + \\left ( \\frac{\\partial}{\\partial x} C^{xz} {\\left (x,y,z \\right )} + \\frac{\\partial}{\\partial y} C^{yz} {\\left (x,y,z \\right )}\\right ) \\boldsymbol{e}_{z} + \\frac{\\partial}{\\partial z} C^{xyz} {\\left (x,y,z \\right )} \\boldsymbol{e}_{x}\\wedge \\boldsymbol{e}_{y} - \\frac{\\partial}{\\partial y} C^{xyz} {\\left (x,y,z \\right )} \\boldsymbol{e}_{x}\\wedge \\boldsymbol{e}_{z} + \\frac{\\partial}{\\partial x} C^{xyz} {\\left (x,y,z \\right )} \\boldsymbol{e}_{y}\\wedge \\boldsymbol{e}_{z} \\end{equation*}"
      ],
      "text/plain": [
       "PyObject D{x}C__x + D{y}C__y + D{z}C__z + (-D{y}C__xy - D{z}C__xz)*e_x + (D{x}C__xy - D{z}C__yz)*e_y + (D{x}C__xz + D{y}C__yz)*e_z + D{z}C__xyz*e_x^e_y - D{y}C__xyz*e_x^e_z + D{x}C__xyz*e_y^e_z"
      ]
     },
     "metadata": {},
     "output_type": "display_data"
    },
    {
     "data": {
      "text/markdown": [
       "`grad > C` = "
      ]
     },
     "metadata": {},
     "output_type": "display_data"
    },
    {
     "data": {
      "text/latex": [
       "\\begin{equation*} \\left ( \\frac{\\partial}{\\partial x} C^{x} {\\left (x,y,z \\right )} + \\frac{\\partial}{\\partial y} C^{y} {\\left (x,y,z \\right )} + \\frac{\\partial}{\\partial z} C^{z} {\\left (x,y,z \\right )}\\right )  + \\frac{\\partial}{\\partial x} C {\\left (x,y,z \\right )} \\boldsymbol{e}_{x} + \\frac{\\partial}{\\partial y} C {\\left (x,y,z \\right )} \\boldsymbol{e}_{y} + \\frac{\\partial}{\\partial z} C {\\left (x,y,z \\right )} \\boldsymbol{e}_{z} \\end{equation*}"
      ],
      "text/plain": [
       "PyObject D{x}C__x + D{y}C__y + D{z}C__z + D{x}C*e_x + D{y}C*e_y + D{z}C*e_z"
      ]
     },
     "metadata": {},
     "output_type": "display_data"
    }
   ],
   "source": [
    "for expr in [\"grad * f\",\n",
    "\"grad | A\",\n",
    "\"grad * A\",\n",
    "\"-o3d.E() * (grad ^ A)\",\n",
    "\"grad * B\",\n",
    "\"grad ^ B\",\n",
    "\"grad | B\",\n",
    "\"grad < A\",\n",
    "\"grad > A\",\n",
    "\"grad < B\",\n",
    "\"grad > B\",\n",
    "\"grad < C\",\n",
    "\"grad > C\"]\n",
    "    display(IJulia.text_markdown, \"`$expr` = \")\n",
    "    display(pyeval(expr, grad=grad, A=A, B=B, C=C, f=f, o3d=o3d))\n",
    "end"
   ]
  },
  {
   "cell_type": "code",
   "execution_count": null,
   "metadata": {
    "collapsed": true
   },
   "outputs": [],
   "source": []
  }
 ],
 "metadata": {
  "kernelspec": {
   "display_name": "Julia 0.4.5",
   "language": "julia",
   "name": "julia-0.4"
  },
  "language_info": {
   "file_extension": ".jl",
   "mimetype": "application/julia",
   "name": "julia",
   "version": "0.4.5"
  }
 },
 "nbformat": 4,
 "nbformat_minor": 0
}
