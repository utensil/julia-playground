{
 "cells": [
  {
   "cell_type": "code",
   "execution_count": 9,
   "metadata": {
    "collapsed": false
   },
   "outputs": [],
   "source": [
    "using PyCall"
   ]
  },
  {
   "cell_type": "code",
   "execution_count": 19,
   "metadata": {
    "collapsed": false
   },
   "outputs": [],
   "source": [
    "cd(\"/Users/utensil/experiments/\")"
   ]
  },
  {
   "cell_type": "code",
   "execution_count": 13,
   "metadata": {
    "collapsed": false
   },
   "outputs": [
    {
     "name": "stderr",
     "output_type": "stream",
     "text": [
      "Cloning into 'galgebra'...\n"
     ]
    }
   ],
   "source": [
    "run(`git clone https://github.com/brombo/galgebra.git`)"
   ]
  },
  {
   "cell_type": "code",
   "execution_count": 20,
   "metadata": {
    "collapsed": true
   },
   "outputs": [],
   "source": [
    "cd(\"galgebra\")"
   ]
  },
  {
   "cell_type": "code",
   "execution_count": 14,
   "metadata": {
    "collapsed": false
   },
   "outputs": [
    {
     "name": "stdout",
     "output_type": "stream",
     "text": [
      "running install\n",
      "running bdist_egg\n",
      "running egg_info\n",
      "creating galgebra.egg-info\n",
      "writing requirements to galgebra.egg-info/requires.txt\n",
      "writing galgebra.egg-info/PKG-INFO\n",
      "writing top-level names to galgebra.egg-info/top_level.txt\n",
      "writing dependency_links to galgebra.egg-info/dependency_links.txt\n",
      "writing manifest file 'galgebra.egg-info/SOURCES.txt'\n",
      "reading manifest file 'galgebra.egg-info/SOURCES.txt'\n",
      "writing manifest file 'galgebra.egg-info/SOURCES.txt'\n",
      "installing library code to build/bdist.macosx-10.5-x86_64/egg\n",
      "running install_lib\n",
      "running build_py\n",
      "creating build\n",
      "creating build/lib\n",
      "creating build/lib/galgebra\n",
      "copying galgebra/__init__.py -> build/lib/galgebra\n",
      "copying galgebra/ga.py -> build/lib/galgebra\n",
      "copying galgebra/lt.py -> build/lib/galgebra\n",
      "copying galgebra/metric.py -> build/lib/galgebra\n",
      "copying galgebra/mv.py -> build/lib/galgebra\n",
      "copying galgebra/printer.py -> build/lib/galgebra\n",
      "copying galgebra/setgapth.py -> build/lib/galgebra\n",
      "creating build/lib/tests\n",
      "copying tests/__init__.py -> build/lib/tests\n",
      "copying tests/test_mv.py -> build/lib/tests\n",
      "copying tests/test_test.py -> build/lib/tests\n",
      "creating build/bdist.macosx-10.5-x86_64\n",
      "creating build/bdist.macosx-10.5-x86_64/egg\n",
      "creating build/bdist.macosx-10.5-x86_64/egg/galgebra\n",
      "copying build/lib/galgebra/__init__.py -> build/bdist.macosx-10.5-x86_64/egg/galgebra\n",
      "copying build/lib/galgebra/ga.py -> build/bdist.macosx-10.5-x86_64/egg/galgebra\n",
      "copying build/lib/galgebra/lt.py -> build/bdist.macosx-10.5-x86_64/egg/galgebra\n",
      "copying build/lib/galgebra/metric.py -> build/bdist.macosx-10.5-x86_64/egg/galgebra\n",
      "copying build/lib/galgebra/mv.py -> build/bdist.macosx-10.5-x86_64/egg/galgebra\n",
      "copying build/lib/galgebra/printer.py -> build/bdist.macosx-10.5-x86_64/egg/galgebra\n",
      "copying build/lib/galgebra/setgapth.py -> build/bdist.macosx-10.5-x86_64/egg/galgebra\n",
      "creating build/bdist.macosx-10.5-x86_64/egg/tests\n",
      "copying build/lib/tests/__init__.py -> build/bdist.macosx-10.5-x86_64/egg/tests\n",
      "copying build/lib/tests/test_mv.py -> build/bdist.macosx-10.5-x86_64/egg/tests\n",
      "copying build/lib/tests/test_test.py -> build/bdist.macosx-10.5-x86_64/egg/tests\n",
      "byte-compiling build/bdist.macosx-10.5-x86_64/egg/galgebra/__init__.py to __init__.pyc\n",
      "byte-compiling build/bdist.macosx-10.5-x86_64/egg/galgebra/ga.py to ga.pyc\n",
      "byte-compiling build/bdist.macosx-10.5-x86_64/egg/galgebra/lt.py to lt.pyc\n",
      "byte-compiling build/bdist.macosx-10.5-x86_64/egg/galgebra/metric.py to metric.pyc\n",
      "byte-compiling build/bdist.macosx-10.5-x86_64/egg/galgebra/mv.py to mv.pyc\n",
      "byte-compiling build/bdist.macosx-10.5-x86_64/egg/galgebra/printer.py to printer.pyc\n",
      "byte-compiling build/bdist.macosx-10.5-x86_64/egg/galgebra/setgapth.py to setgapth.pyc\n",
      "byte-compiling build/bdist.macosx-10.5-x86_64/egg/tests/__init__.py to __init__.pyc\n",
      "byte-compiling build/bdist.macosx-10.5-x86_64/egg/tests/test_mv.py to test_mv.pyc\n",
      "byte-compiling build/bdist.macosx-10.5-x86_64/egg/tests/test_test.py to test_test.pyc\n",
      "creating build/bdist.macosx-10.5-x86_64/egg/EGG-INFO\n",
      "copying galgebra.egg-info/PKG-INFO -> build/bdist.macosx-10.5-x86_64/egg/EGG-INFO\n",
      "copying galgebra.egg-info/SOURCES.txt -> build/bdist.macosx-10.5-x86_64/egg/EGG-INFO\n",
      "copying galgebra.egg-info/dependency_links.txt -> build/bdist.macosx-10.5-x86_64/egg/EGG-INFO\n",
      "copying galgebra.egg-info/requires.txt -> build/bdist.macosx-10.5-x86_64/egg/EGG-INFO\n",
      "copying galgebra.egg-info/top_level.txt -> build/bdist.macosx-10.5-x86_64/egg/EGG-INFO\n",
      "creating dist\n",
      "creating 'dist/galgebra-0.4.0-py2.7.egg' and adding 'build/bdist.macosx-10.5-x86_64/egg' to it\n"
     ]
    },
    {
     "name": "stderr",
     "output_type": "stream",
     "text": [
      "zip_safe flag not set; analyzing archive contents...\n",
      "galgebra.printer: module MAY be using inspect.getouterframes\n"
     ]
    },
    {
     "name": "stdout",
     "output_type": "stream",
     "text": [
      "removing 'build/bdist.macosx-10.5-x86_64/egg' (and everything under it)\n",
      "Processing galgebra-0.4.0-py2.7.egg\n",
      "creating /Users/utensil/miniconda2/lib/python2.7/site-packages/galgebra-0.4.0-py2.7.egg\n",
      "Extracting galgebra-0.4.0-py2.7.egg to /Users/utensil/miniconda2/lib/python2.7/site-packages\n",
      "Adding galgebra 0.4.0 to easy-install.pth file\n",
      "\n",
      "Installed /Users/utensil/miniconda2/lib/python2.7/site-packages/galgebra-0.4.0-py2.7.egg\n",
      "Processing dependencies for galgebra==0.4.0\n",
      "Searching for numpy==1.9.2\n",
      "Best match: numpy 1.9.2\n",
      "Adding numpy 1.9.2 to easy-install.pth file\n",
      "\n",
      "Using /Users/utensil/miniconda2/lib/python2.7/site-packages\n",
      "Searching for sympy==1.0\n",
      "Best match: sympy 1.0\n",
      "Adding sympy 1.0 to easy-install.pth file\n",
      "\n",
      "Using /Users/utensil/miniconda2/lib/python2.7/site-packages\n",
      "Finished processing dependencies for galgebra==0.4.0\n"
     ]
    }
   ],
   "source": [
    "run(`python setup.py install`)"
   ]
  },
  {
   "cell_type": "code",
   "execution_count": 21,
   "metadata": {
    "collapsed": false
   },
   "outputs": [
    {
     "name": "stdout",
     "output_type": "stream",
     "text": [
      "running test\n",
      "running egg_info\n",
      "writing requirements to galgebra.egg-info/requires.txt\n",
      "writing galgebra.egg-info/PKG-INFO\n",
      "writing top-level names to galgebra.egg-info/top_level.txt\n",
      "writing dependency_links to galgebra.egg-info/dependency_links.txt\n",
      "reading manifest file 'galgebra.egg-info/SOURCES.txt'\n",
      "writing manifest file 'galgebra.egg-info/SOURCES.txt'\n",
      "running build_ext\n"
     ]
    },
    {
     "name": "stderr",
     "output_type": "stream",
     "text": [
      "\n",
      "----------------------------------------------------------------------\n",
      "Ran 0 tests in 0.000s\n",
      "\n",
      "OK\n"
     ]
    }
   ],
   "source": [
    "run(`python setup.py test`)"
   ]
  },
  {
   "cell_type": "code",
   "execution_count": 3,
   "metadata": {
    "collapsed": false
   },
   "outputs": [
    {
     "data": {
      "text/plain": [
       "\"a0 a1 a2 n nbar\""
      ]
     },
     "execution_count": 3,
     "metadata": {},
     "output_type": "execute_result"
    }
   ],
   "source": [
    "basis = \"a0 a1 a2 n nbar\""
   ]
  },
  {
   "cell_type": "code",
   "execution_count": 4,
   "metadata": {
    "collapsed": false
   },
   "outputs": [
    {
     "data": {
      "text/plain": [
       "\"# # # 0 0, # # # 0 0, # # # 0 0, 0 0 0 0 2, 0 0 0 2 0\""
      ]
     },
     "execution_count": 4,
     "metadata": {},
     "output_type": "execute_result"
    }
   ],
   "source": [
    "metric = \"# # # 0 0, # # # 0 0, # # # 0 0, 0 0 0 0 2, 0 0 0 2 0\""
   ]
  },
  {
   "cell_type": "code",
   "execution_count": 22,
   "metadata": {
    "collapsed": false
   },
   "outputs": [],
   "source": [
    "@pyimport sympy\n",
    "@pyimport galgebra as ga"
   ]
  },
  {
   "cell_type": "code",
   "execution_count": 24,
   "metadata": {
    "collapsed": false
   },
   "outputs": [
    {
     "ename": "LoadError",
     "evalue": "LoadError: UndefVarError: Ga not defined\nwhile loading In[24], in expression starting on line 2",
     "output_type": "error",
     "traceback": [
      "LoadError: UndefVarError: Ga not defined\nwhile loading In[24], in expression starting on line 2",
      ""
     ]
    }
   ],
   "source": [
    "coords=sympy.symbols(\"x,y,z\",real=true)\n",
    "base=ga.Ga(\"e0 e1 e2\",g=[1,1,1],coords=coords)"
   ]
  },
  {
   "cell_type": "code",
   "execution_count": 25,
   "metadata": {
    "collapsed": false
   },
   "outputs": [
    {
     "data": {
      "text/plain": [
       "__anon__"
      ]
     },
     "execution_count": 25,
     "metadata": {},
     "output_type": "execute_result"
    }
   ],
   "source": [
    "ga"
   ]
  },
  {
   "cell_type": "code",
   "execution_count": 27,
   "metadata": {
    "collapsed": false
   },
   "outputs": [
    {
     "data": {
      "text/plain": [
       "false"
      ]
     },
     "execution_count": 27,
     "metadata": {},
     "output_type": "execute_result"
    }
   ],
   "source": [
    "inspect.ismodule(ga)"
   ]
  },
  {
   "cell_type": "markdown",
   "metadata": {},
   "source": [
    "See:\n",
    "* [GAlgebraPrimer.pdf](https://github.com/brombo/galgebra/raw/master/doc/GAlgebraPrimer.pdf)\n",
    "* [this issue](https://github.com/brombo/galgebra/issues/12)\n",
    "* [Geometric Algebra For Computer Science, An Object Oriented Approach to Geometry](http://www.geometricalgebra.net/index.html)"
   ]
  },
  {
   "cell_type": "code",
   "execution_count": 31,
   "metadata": {
    "collapsed": false
   },
   "outputs": [],
   "source": [
    "cd(\"/Users/utensil/experiments/\")"
   ]
  },
  {
   "cell_type": "code",
   "execution_count": 32,
   "metadata": {
    "collapsed": false
   },
   "outputs": [
    {
     "name": "stderr",
     "output_type": "stream",
     "text": [
      "Cloning into 'GeoAlg.jl'...\n"
     ]
    }
   ],
   "source": [
    "run(`git clone https://github.com/andrioni/GeoAlg.jl.git`)"
   ]
  },
  {
   "cell_type": "code",
   "execution_count": 33,
   "metadata": {
    "collapsed": true
   },
   "outputs": [],
   "source": [
    "cd(\"GeoAlg.jl\")"
   ]
  },
  {
   "cell_type": "code",
   "execution_count": 34,
   "metadata": {
    "collapsed": false
   },
   "outputs": [
    {
     "ename": "LoadError",
     "evalue": "LoadError: LoadError: TypeError: Metric: in type definition, expected Type{T}, got Tuple{DataType,DataType}\nwhile loading /Users/utensil/experiments/GeoAlg.jl/src/GeoAlg.jl, in expression starting on line 90\nwhile loading In[34], in expression starting on line 1",
     "output_type": "error",
     "traceback": [
      "LoadError: LoadError: TypeError: Metric: in type definition, expected Type{T}, got Tuple{DataType,DataType}\nwhile loading /Users/utensil/experiments/GeoAlg.jl/src/GeoAlg.jl, in expression starting on line 90\nwhile loading In[34], in expression starting on line 1",
      ""
     ]
    }
   ],
   "source": [
    "include(\"src/GeoAlg.jl\")"
   ]
  },
  {
   "cell_type": "code",
   "execution_count": 1,
   "metadata": {
    "collapsed": true
   },
   "outputs": [],
   "source": [
    "cd(\"/Users/utensil/experiments/\")"
   ]
  },
  {
   "cell_type": "code",
   "execution_count": 2,
   "metadata": {
    "collapsed": true
   },
   "outputs": [],
   "source": [
    "cd(\"galgebra/galgebra\")"
   ]
  },
  {
   "cell_type": "code",
   "execution_count": 5,
   "metadata": {
    "collapsed": false
   },
   "outputs": [
    {
     "data": {
      "text/plain": [
       "7-element Array{ByteString,1}:\n",
       " \"__init__.py\"\n",
       " \"ga.py\"      \n",
       " \"lt.py\"      \n",
       " \"metric.py\"  \n",
       " \"mv.py\"      \n",
       " \"printer.py\" \n",
       " \"setgapth.py\""
      ]
     },
     "execution_count": 5,
     "metadata": {},
     "output_type": "execute_result"
    }
   ],
   "source": [
    "filter(readdir(\".\")) do file_name\n",
    "    ismatch(r\"\\.py$\", file_name)\n",
    "end"
   ]
  },
  {
   "cell_type": "code",
   "execution_count": 10,
   "metadata": {
    "collapsed": false
   },
   "outputs": [],
   "source": [
    "@pyimport site"
   ]
  },
  {
   "cell_type": "code",
   "execution_count": 12,
   "metadata": {
    "collapsed": false
   },
   "outputs": [
    {
     "data": {
      "text/plain": [
       "\"/Users/utensil/miniconda2/lib/site-python\""
      ]
     },
     "execution_count": 12,
     "metadata": {},
     "output_type": "execute_result"
    }
   ],
   "source": [
    "dist_pkgs = site.getsitepackages()[end]"
   ]
  },
  {
   "cell_type": "code",
   "execution_count": 13,
   "metadata": {
    "collapsed": true
   },
   "outputs": [],
   "source": [
    "mkpath(dist_pkgs)"
   ]
  },
  {
   "cell_type": "code",
   "execution_count": 14,
   "metadata": {
    "collapsed": false
   },
   "outputs": [
    {
     "name": "stdout",
     "output_type": "stream",
     "text": [
      "#Path of Ga module\n",
      "/Users/utensil/experiments/galgebra/galgebraos name: posix\n",
      "site-packages directory: /Users/utensil/miniconda2/lib/site-python/Ga.pth\n",
      "Ga.pth:\n",
      "0\n",
      "\n",
      "Python pth file Ga.pth for all modules of galgebra has been created and\n",
      "placed in directory appropriate for Linux, Windows, or OSX.  Note that\n",
      "if Ga.pth already exists the old version will be deleted.\n",
      "\n"
     ]
    }
   ],
   "source": [
    "run(`python setgapth.py`)"
   ]
  },
  {
   "cell_type": "code",
   "execution_count": 31,
   "metadata": {
    "collapsed": false
   },
   "outputs": [
    {
     "name": "stderr",
     "output_type": "stream",
     "text": [
      "sys:1: SymPyDeprecationWarning: \n",
      "\n",
      "C, including its class ClassRegistry, has been deprecated since SymPy\n",
      "1.0. It will be last supported in SymPy version 1.0. Use direct\n",
      "imports from the defining module instead. See\n",
      "https://github.com/sympy/sympy/issues/9371 for more info.\n",
      "\n"
     ]
    }
   ],
   "source": [
    "@pyimport sympy\n",
    "@pyimport ga"
   ]
  },
  {
   "cell_type": "code",
   "execution_count": 32,
   "metadata": {
    "collapsed": false
   },
   "outputs": [
    {
     "data": {
      "text/latex": [
       "\\begin{equation*} A = A  + A^{x} \\boldsymbol{e}_{x} + A^{y} \\boldsymbol{e}_{y} + A^{z} \\boldsymbol{e}_{z} + A^{xy} \\boldsymbol{e}_{x}\\wedge \\boldsymbol{e}_{y} + A^{xz} \\boldsymbol{e}_{x}\\wedge \\boldsymbol{e}_{z} + A^{yz} \\boldsymbol{e}_{y}\\wedge \\boldsymbol{e}_{z} + A^{xyz} \\boldsymbol{e}_{x}\\wedge \\boldsymbol{e}_{y}\\wedge \\boldsymbol{e}_{z} \\end{equation*}"
      ],
      "text/plain": [
       "PyObject A + A__x*e_x + A__y*e_y + A__z*e_z + A__xy*e_x^e_y + A__xz*e_x^e_z + A__yz*e_y^e_z + A__xyz*e_x^e_y^e_z"
      ]
     },
     "execution_count": 32,
     "metadata": {},
     "output_type": "execute_result"
    }
   ],
   "source": [
    "g3d = ga.Ga(\"e*x|y|z\")\n",
    "(ex, ey, ez) = g3d[:mv]()\n",
    "A = g3d[:mv](\"A\", \"mv\")"
   ]
  },
  {
   "cell_type": "code",
   "execution_count": 33,
   "metadata": {
    "collapsed": false
   },
   "outputs": [
    {
     "data": {
      "text/latex": [
       "\\begin{equation*}  \\boldsymbol{e}_{x} \\end{equation*}"
      ],
      "text/plain": [
       "PyObject e_x"
      ]
     },
     "metadata": {},
     "output_type": "display_data"
    },
    {
     "data": {
      "text/latex": [
       "\\begin{equation*}  \\boldsymbol{e}_{y} \\end{equation*}"
      ],
      "text/plain": [
       "PyObject e_y"
      ]
     },
     "metadata": {},
     "output_type": "display_data"
    },
    {
     "data": {
      "text/latex": [
       "\\begin{equation*}  \\boldsymbol{e}_{z} \\end{equation*}"
      ],
      "text/plain": [
       "PyObject e_z"
      ]
     },
     "metadata": {},
     "output_type": "display_data"
    },
    {
     "data": {
      "text/plain": [
       "3-element Array{Any,1}:\n",
       " nothing\n",
       " nothing\n",
       " nothing"
      ]
     },
     "execution_count": 33,
     "metadata": {},
     "output_type": "execute_result"
    }
   ],
   "source": [
    "[display(symbol) for symbol in (ex, ey, ez)]"
   ]
  },
  {
   "cell_type": "code",
   "execution_count": 34,
   "metadata": {
    "collapsed": false
   },
   "outputs": [
    {
     "data": {
      "text/latex": [
       "\\begin{equation*} X = X^{x} \\boldsymbol{e}_{x} + X^{y} \\boldsymbol{e}_{y} + X^{z} \\boldsymbol{e}_{z} \\end{equation*}"
      ],
      "text/plain": [
       "PyObject X__x*e_x + X__y*e_y + X__z*e_z"
      ]
     },
     "execution_count": 34,
     "metadata": {},
     "output_type": "execute_result"
    }
   ],
   "source": [
    "X = g3d[:mv](\"X\", \"vector\")"
   ]
  },
  {
   "cell_type": "code",
   "execution_count": 35,
   "metadata": {
    "collapsed": false
   },
   "outputs": [
    {
     "data": {
      "text/latex": [
       "\\begin{equation*} Y = Y^{x} \\boldsymbol{e}_{x} + Y^{y} \\boldsymbol{e}_{y} + Y^{z} \\boldsymbol{e}_{z} \\end{equation*}"
      ],
      "text/plain": [
       "PyObject Y__x*e_x + Y__y*e_y + Y__z*e_z"
      ]
     },
     "execution_count": 35,
     "metadata": {},
     "output_type": "execute_result"
    }
   ],
   "source": [
    "Y = g3d[:mv](\"Y\", \"vector\")"
   ]
  },
  {
   "cell_type": "code",
   "execution_count": 36,
   "metadata": {
    "collapsed": false
   },
   "outputs": [
    {
     "data": {
      "text/plain": [
       "PyObject Matrix([\n",
       "[(e_x.e_x), (e_x.e_y), (e_x.e_z)],\n",
       "[(e_x.e_y), (e_y.e_y), (e_y.e_z)],\n",
       "[(e_x.e_z), (e_y.e_z), (e_z.e_z)]])"
      ]
     },
     "execution_count": 36,
     "metadata": {},
     "output_type": "execute_result"
    }
   ],
   "source": [
    "g3d[:g]"
   ]
  },
  {
   "cell_type": "code",
   "execution_count": 37,
   "metadata": {
    "collapsed": false
   },
   "outputs": [
    {
     "data": {
      "text/latex": [
       "\\begin{equation*} \\frac{1}{\\sqrt{\\left ( e_{x}\\cdot e_{x}\\right )  \\left ( e_{y}\\cdot e_{y}\\right )  \\left ( e_{z}\\cdot e_{z}\\right )  - \\left ( e_{x}\\cdot e_{x}\\right )  \\left ( e_{y}\\cdot e_{z}\\right ) ^{2} - \\left ( e_{x}\\cdot e_{y}\\right ) ^{2} \\left ( e_{z}\\cdot e_{z}\\right )  + 2 \\left ( e_{x}\\cdot e_{y}\\right )  \\left ( e_{x}\\cdot e_{z}\\right )  \\left ( e_{y}\\cdot e_{z}\\right )  - \\left ( e_{x}\\cdot e_{z}\\right ) ^{2} \\left ( e_{y}\\cdot e_{y}\\right ) }} \\boldsymbol{e}_{x}\\wedge \\boldsymbol{e}_{y}\\wedge \\boldsymbol{e}_{z} \\end{equation*}"
      ],
      "text/plain": [
       "PyObject e_x^e_y^e_z/sqrt((e_x.e_x)*(e_y.e_y)*(e_z.e_z) - (e_x.e_x)*(e_y.e_z)**2 - (e_x.e_y)**2*(e_z.e_z) + 2*(e_x.e_y)*(e_x.e_z)*(e_y.e_z) - (e_x.e_z)**2*(e_y.e_y))"
      ]
     },
     "execution_count": 37,
     "metadata": {},
     "output_type": "execute_result"
    }
   ],
   "source": [
    "g3d[:I]()"
   ]
  },
  {
   "cell_type": "code",
   "execution_count": 38,
   "metadata": {
    "collapsed": false
   },
   "outputs": [
    {
     "data": {
      "text/latex": [
       "\\begin{equation*}  \\boldsymbol{e}_{x}\\wedge \\boldsymbol{e}_{y}\\wedge \\boldsymbol{e}_{z} \\end{equation*}"
      ],
      "text/plain": [
       "PyObject e_x^e_y^e_z"
      ]
     },
     "execution_count": 38,
     "metadata": {},
     "output_type": "execute_result"
    }
   ],
   "source": [
    "g3d[:E]()"
   ]
  },
  {
   "cell_type": "code",
   "execution_count": 39,
   "metadata": {
    "collapsed": false
   },
   "outputs": [
    {
     "data": {
      "text/plain": [
       "PyObject <bound method Ga.mv of <ga.Ga object at 0x30d72ae90>>"
      ]
     },
     "execution_count": 39,
     "metadata": {},
     "output_type": "execute_result"
    }
   ],
   "source": [
    "mv = g3d[:mv]"
   ]
  },
  {
   "cell_type": "code",
   "execution_count": 40,
   "metadata": {
    "collapsed": false
   },
   "outputs": [
    {
     "data": {
      "text/latex": [
       "\\begin{equation*} C = C \\end{equation*}"
      ],
      "text/plain": [
       "PyObject C"
      ]
     },
     "execution_count": 40,
     "metadata": {},
     "output_type": "execute_result"
    }
   ],
   "source": [
    "C = mv(\"C\", \"scalar\")"
   ]
  },
  {
   "cell_type": "code",
   "execution_count": 41,
   "metadata": {
    "collapsed": false
   },
   "outputs": [
    {
     "data": {
      "text/latex": [
       "\\begin{equation*} B = B^{xy} \\boldsymbol{e}_{x}\\wedge \\boldsymbol{e}_{y} + B^{xz} \\boldsymbol{e}_{x}\\wedge \\boldsymbol{e}_{z} + B^{yz} \\boldsymbol{e}_{y}\\wedge \\boldsymbol{e}_{z} \\end{equation*}"
      ],
      "text/plain": [
       "PyObject B__xy*e_x^e_y + B__xz*e_x^e_z + B__yz*e_y^e_z"
      ]
     },
     "execution_count": 41,
     "metadata": {},
     "output_type": "execute_result"
    }
   ],
   "source": [
    "B = mv(\"B\", \"bivector\")"
   ]
  },
  {
   "cell_type": "code",
   "execution_count": 42,
   "metadata": {
    "collapsed": false
   },
   "outputs": [
    {
     "data": {
      "text/latex": [
       "\\begin{equation*} V3 = V^{xyz}_{3} \\boldsymbol{e}_{x}\\wedge \\boldsymbol{e}_{y}\\wedge \\boldsymbol{e}_{z} \\end{equation*}"
      ],
      "text/plain": [
       "PyObject V3__xyz*e_x^e_y^e_z"
      ]
     },
     "execution_count": 42,
     "metadata": {},
     "output_type": "execute_result"
    }
   ],
   "source": [
    "V3 = mv(\"V3\", 3)"
   ]
  },
  {
   "cell_type": "code",
   "execution_count": 43,
   "metadata": {
    "collapsed": false
   },
   "outputs": [
    {
     "data": {
      "text/latex": [
       "\\begin{equation*} V2 = V^{xy}_{2} \\boldsymbol{e}_{x}\\wedge \\boldsymbol{e}_{y} + V^{xz}_{2} \\boldsymbol{e}_{x}\\wedge \\boldsymbol{e}_{z} + V^{yz}_{2} \\boldsymbol{e}_{y}\\wedge \\boldsymbol{e}_{z} \\end{equation*}"
      ],
      "text/plain": [
       "PyObject V2__xy*e_x^e_y + V2__xz*e_x^e_z + V2__yz*e_y^e_z"
      ]
     },
     "execution_count": 43,
     "metadata": {},
     "output_type": "execute_result"
    }
   ],
   "source": [
    "V2 = mv(\"V2\", 2)"
   ]
  },
  {
   "cell_type": "code",
   "execution_count": 44,
   "metadata": {
    "collapsed": false
   },
   "outputs": [
    {
     "data": {
      "text/latex": [
       "\\begin{equation*} V1 = V^{x}_{1} \\boldsymbol{e}_{x} + V^{y}_{1} \\boldsymbol{e}_{y} + V^{z}_{1} \\boldsymbol{e}_{z} \\end{equation*}"
      ],
      "text/plain": [
       "PyObject V1__x*e_x + V1__y*e_y + V1__z*e_z"
      ]
     },
     "execution_count": 44,
     "metadata": {},
     "output_type": "execute_result"
    }
   ],
   "source": [
    "V1 = mv(\"V1\", 1)"
   ]
  },
  {
   "cell_type": "code",
   "execution_count": 45,
   "metadata": {
    "collapsed": false
   },
   "outputs": [
    {
     "data": {
      "text/latex": [
       "\\begin{equation*} V0 = V_{0} \\end{equation*}"
      ],
      "text/plain": [
       "PyObject V0"
      ]
     },
     "execution_count": 45,
     "metadata": {},
     "output_type": "execute_result"
    }
   ],
   "source": [
    "V0 = mv(\"V0\", 0)"
   ]
  },
  {
   "cell_type": "code",
   "execution_count": 46,
   "metadata": {
    "collapsed": false
   },
   "outputs": [
    {
     "data": {
      "text/latex": [
       "\\begin{equation*} S = S  + S^{xy} \\boldsymbol{e}_{x}\\wedge \\boldsymbol{e}_{y} + S^{xz} \\boldsymbol{e}_{x}\\wedge \\boldsymbol{e}_{z} + S^{yz} \\boldsymbol{e}_{y}\\wedge \\boldsymbol{e}_{z} \\end{equation*}"
      ],
      "text/plain": [
       "PyObject S + S__xy*e_x^e_y + S__xz*e_x^e_z + S__yz*e_y^e_z"
      ]
     },
     "execution_count": 46,
     "metadata": {},
     "output_type": "execute_result"
    }
   ],
   "source": [
    "S = mv(\"S\", \"spinor\")"
   ]
  },
  {
   "cell_type": "code",
   "execution_count": 47,
   "metadata": {
    "collapsed": false
   },
   "outputs": [
    {
     "data": {
      "text/latex": [
       "\\begin{equation*} I2 = I^{xyz}_{2} \\boldsymbol{e}_{x}\\wedge \\boldsymbol{e}_{y}\\wedge \\boldsymbol{e}_{z} \\end{equation*}"
      ],
      "text/plain": [
       "PyObject I2__xyz*e_x^e_y^e_z"
      ]
     },
     "execution_count": 47,
     "metadata": {},
     "output_type": "execute_result"
    }
   ],
   "source": [
    "I2 = mv(\"I2\", \"pseudo\")"
   ]
  },
  {
   "cell_type": "code",
   "execution_count": 48,
   "metadata": {
    "collapsed": false
   },
   "outputs": [
    {
     "data": {
      "text/plain": [
       "false"
      ]
     },
     "execution_count": 48,
     "metadata": {},
     "output_type": "execute_result"
    }
   ],
   "source": [
    "I2 == g3d[:I]()"
   ]
  },
  {
   "cell_type": "code",
   "execution_count": 49,
   "metadata": {
    "collapsed": true
   },
   "outputs": [],
   "source": [
    "@pyimport operator"
   ]
  },
  {
   "cell_type": "markdown",
   "metadata": {},
   "source": [
    "See https://docs.python.org/2/library/operator.html#mapping-operators-to-functions"
   ]
  },
  {
   "cell_type": "code",
   "execution_count": 50,
   "metadata": {
    "collapsed": false
   },
   "outputs": [
    {
     "data": {
      "text/latex": [
       "\\begin{equation*} \\left ( \\left ( e_{x}\\cdot e_{x}\\right )  X^{x} Y^{x} + \\left ( e_{x}\\cdot e_{y}\\right )  X^{x} Y^{y} + \\left ( e_{x}\\cdot e_{y}\\right )  X^{y} Y^{x} + \\left ( e_{x}\\cdot e_{z}\\right )  X^{x} Y^{z} + \\left ( e_{x}\\cdot e_{z}\\right )  X^{z} Y^{x} + \\left ( e_{y}\\cdot e_{y}\\right )  X^{y} Y^{y} + \\left ( e_{y}\\cdot e_{z}\\right )  X^{y} Y^{z} + \\left ( e_{y}\\cdot e_{z}\\right )  X^{z} Y^{y} + \\left ( e_{z}\\cdot e_{z}\\right )  X^{z} Y^{z}\\right )  + \\left ( X^{x} Y^{y} - X^{y} Y^{x}\\right ) \\boldsymbol{e}_{x}\\wedge \\boldsymbol{e}_{y} + \\left ( X^{x} Y^{z} - X^{z} Y^{x}\\right ) \\boldsymbol{e}_{x}\\wedge \\boldsymbol{e}_{z} + \\left ( X^{y} Y^{z} - X^{z} Y^{y}\\right ) \\boldsymbol{e}_{y}\\wedge \\boldsymbol{e}_{z} \\end{equation*}"
      ],
      "text/plain": [
       "PyObject (e_x.e_x)*X__x*Y__x + (e_x.e_y)*X__x*Y__y + (e_x.e_y)*X__y*Y__x + (e_x.e_z)*X__x*Y__z + (e_x.e_z)*X__z*Y__x + (e_y.e_y)*X__y*Y__y + (e_y.e_z)*X__y*Y__z + (e_y.e_z)*X__z*Y__y + (e_z.e_z)*X__z*Y__z + (X__x*Y__y - X__y*Y__x)*e_x^e_y + (X__x*Y__z - X__z*Y__x)*e_x^e_z + (X__y*Y__z - X__z*Y__y)*e_y^e_z"
      ]
     },
     "execution_count": 50,
     "metadata": {},
     "output_type": "execute_result"
    }
   ],
   "source": [
    "operator.mul(X, Y) # X * Y"
   ]
  },
  {
   "cell_type": "code",
   "execution_count": 51,
   "metadata": {
    "collapsed": false
   },
   "outputs": [
    {
     "data": {
      "text/latex": [
       "\\begin{equation*} \\left ( X^{x} Y^{y} - X^{y} Y^{x}\\right ) \\boldsymbol{e}_{x}\\wedge \\boldsymbol{e}_{y} + \\left ( X^{x} Y^{z} - X^{z} Y^{x}\\right ) \\boldsymbol{e}_{x}\\wedge \\boldsymbol{e}_{z} + \\left ( X^{y} Y^{z} - X^{z} Y^{y}\\right ) \\boldsymbol{e}_{y}\\wedge \\boldsymbol{e}_{z} \\end{equation*}"
      ],
      "text/plain": [
       "PyObject (X__x*Y__y - X__y*Y__x)*e_x^e_y + (X__x*Y__z - X__z*Y__x)*e_x^e_z + (X__y*Y__z - X__z*Y__y)*e_y^e_z"
      ]
     },
     "execution_count": 51,
     "metadata": {},
     "output_type": "execute_result"
    }
   ],
   "source": [
    "operator.xor(X, Y) # X ^ Y"
   ]
  },
  {
   "cell_type": "code",
   "execution_count": 52,
   "metadata": {
    "collapsed": false
   },
   "outputs": [
    {
     "data": {
      "text/latex": [
       "\\begin{equation*} \\left ( e_{x}\\cdot e_{x}\\right )  X^{x} Y^{x} + \\left ( e_{x}\\cdot e_{y}\\right )  X^{x} Y^{y} + \\left ( e_{x}\\cdot e_{y}\\right )  X^{y} Y^{x} + \\left ( e_{x}\\cdot e_{z}\\right )  X^{x} Y^{z} + \\left ( e_{x}\\cdot e_{z}\\right )  X^{z} Y^{x} + \\left ( e_{y}\\cdot e_{y}\\right )  X^{y} Y^{y} + \\left ( e_{y}\\cdot e_{z}\\right )  X^{y} Y^{z} + \\left ( e_{y}\\cdot e_{z}\\right )  X^{z} Y^{y} + \\left ( e_{z}\\cdot e_{z}\\right )  X^{z} Y^{z} \\end{equation*}"
      ],
      "text/plain": [
       "PyObject (e_x.e_x)*X__x*Y__x + (e_x.e_y)*X__x*Y__y + (e_x.e_y)*X__y*Y__x + (e_x.e_z)*X__x*Y__z + (e_x.e_z)*X__z*Y__x + (e_y.e_y)*X__y*Y__y + (e_y.e_z)*X__y*Y__z + (e_y.e_z)*X__z*Y__y + (e_z.e_z)*X__z*Y__z"
      ]
     },
     "execution_count": 52,
     "metadata": {},
     "output_type": "execute_result"
    }
   ],
   "source": [
    "operator.or_(X, Y) # X | Y"
   ]
  },
  {
   "cell_type": "code",
   "execution_count": 53,
   "metadata": {
    "collapsed": false
   },
   "outputs": [
    {
     "data": {
      "text/latex": [
       "\\begin{equation*} \\left ( e_{x}\\cdot e_{x}\\right )  X^{x} Y^{x} + \\left ( e_{x}\\cdot e_{y}\\right )  X^{x} Y^{y} + \\left ( e_{x}\\cdot e_{y}\\right )  X^{y} Y^{x} + \\left ( e_{x}\\cdot e_{z}\\right )  X^{x} Y^{z} + \\left ( e_{x}\\cdot e_{z}\\right )  X^{z} Y^{x} + \\left ( e_{y}\\cdot e_{y}\\right )  X^{y} Y^{y} + \\left ( e_{y}\\cdot e_{z}\\right )  X^{y} Y^{z} + \\left ( e_{y}\\cdot e_{z}\\right )  X^{z} Y^{y} + \\left ( e_{z}\\cdot e_{z}\\right )  X^{z} Y^{z} \\end{equation*}"
      ],
      "text/plain": [
       "PyObject (e_x.e_x)*X__x*Y__x + (e_x.e_y)*X__x*Y__y + (e_x.e_y)*X__y*Y__x + (e_x.e_z)*X__x*Y__z + (e_x.e_z)*X__z*Y__x + (e_y.e_y)*X__y*Y__y + (e_y.e_z)*X__y*Y__z + (e_y.e_z)*X__z*Y__y + (e_z.e_z)*X__z*Y__z"
      ]
     },
     "execution_count": 53,
     "metadata": {},
     "output_type": "execute_result"
    }
   ],
   "source": [
    "operator.lt(X, Y) # X < Y"
   ]
  },
  {
   "cell_type": "code",
   "execution_count": 54,
   "metadata": {
    "collapsed": false
   },
   "outputs": [
    {
     "data": {
      "text/latex": [
       "\\begin{equation*} V_{0}  + V^{x}_{1} \\boldsymbol{e}_{x} + V^{y}_{1} \\boldsymbol{e}_{y} + V^{z}_{1} \\boldsymbol{e}_{z} \\end{equation*}"
      ],
      "text/plain": [
       "PyObject V0 + V1__x*e_x + V1__y*e_y + V1__z*e_z"
      ]
     },
     "execution_count": 54,
     "metadata": {},
     "output_type": "execute_result"
    }
   ],
   "source": [
    "operator.add(V0, V1)"
   ]
  },
  {
   "cell_type": "code",
   "execution_count": 55,
   "metadata": {
    "collapsed": false
   },
   "outputs": [
    {
     "data": {
      "text/plain": [
       "false"
      ]
     },
     "execution_count": 55,
     "metadata": {},
     "output_type": "execute_result"
    }
   ],
   "source": [
    "operator.eq(I2[:norm](), g3d[:I]()[:norm]())"
   ]
  },
  {
   "cell_type": "code",
   "execution_count": 56,
   "metadata": {
    "collapsed": false
   },
   "outputs": [
    {
     "data": {
      "text/latex": [
       "\\begin{equation*} \\left|{I^{xyz}_{2}}\\right| \\sqrt{\\left|{- \\left ( e_{x}\\cdot e_{x}\\right )  \\left ( e_{y}\\cdot e_{y}\\right )  \\left ( e_{z}\\cdot e_{z}\\right )  + \\left ( e_{x}\\cdot e_{x}\\right )  \\left ( e_{y}\\cdot e_{z}\\right ) ^{2} + \\left ( e_{x}\\cdot e_{y}\\right ) ^{2} \\left ( e_{z}\\cdot e_{z}\\right )  - 2 \\left ( e_{x}\\cdot e_{y}\\right )  \\left ( e_{x}\\cdot e_{z}\\right )  \\left ( e_{y}\\cdot e_{z}\\right )  + \\left ( e_{x}\\cdot e_{z}\\right ) ^{2} \\left ( e_{y}\\cdot e_{y}\\right ) }\\right|}  - \\frac{1}{\\sqrt{\\left ( e_{x}\\cdot e_{x}\\right )  \\left ( e_{y}\\cdot e_{y}\\right )  \\left ( e_{z}\\cdot e_{z}\\right )  - \\left ( e_{x}\\cdot e_{x}\\right )  \\left ( e_{y}\\cdot e_{z}\\right ) ^{2} - \\left ( e_{x}\\cdot e_{y}\\right ) ^{2} \\left ( e_{z}\\cdot e_{z}\\right )  + 2 \\left ( e_{x}\\cdot e_{y}\\right )  \\left ( e_{x}\\cdot e_{z}\\right )  \\left ( e_{y}\\cdot e_{z}\\right )  - \\left ( e_{x}\\cdot e_{z}\\right ) ^{2} \\left ( e_{y}\\cdot e_{y}\\right ) }} \\boldsymbol{e}_{x}\\wedge \\boldsymbol{e}_{y}\\wedge \\boldsymbol{e}_{z} \\end{equation*}"
      ],
      "text/plain": [
       "PyObject Abs(I2__xyz)*sqrt(Abs(-(e_x.e_x)*(e_y.e_y)*(e_z.e_z) + (e_x.e_x)*(e_y.e_z)**2 + (e_x.e_y)**2*(e_z.e_z) - 2*(e_x.e_y)*(e_x.e_z)*(e_y.e_z) + (e_x.e_z)**2*(e_y.e_y))) - e_x^e_y^e_z/sqrt((e_x.e_x)*(e_y.e_y)*(e_z.e_z) - (e_x.e_x)*(e_y.e_z)**2 - (e_x.e_y)**2*(e_z.e_z) + 2*(e_x.e_y)*(e_x.e_z)*(e_y.e_z) - (e_x.e_z)**2*(e_y.e_y))"
      ]
     },
     "execution_count": 56,
     "metadata": {},
     "output_type": "execute_result"
    }
   ],
   "source": [
    "operator.sub(I2[:norm](), g3d[:I]())"
   ]
  },
  {
   "cell_type": "code",
   "execution_count": 57,
   "metadata": {
    "collapsed": false
   },
   "outputs": [
    {
     "ename": "LoadError",
     "evalue": "LoadError: UndefVarError: Ga not defined\nwhile loading In[57], in expression starting on line 2",
     "output_type": "error",
     "traceback": [
      "LoadError: UndefVarError: Ga not defined\nwhile loading In[57], in expression starting on line 2",
      ""
     ]
    }
   ],
   "source": [
    "symbols=sympy.symbols\n",
    "o3d = Ga(\"e_x e_y e_z\", g=[1, 1, 1], coords=symbols(\"x y z\"))"
   ]
  },
  {
   "cell_type": "code",
   "execution_count": 58,
   "metadata": {
    "collapsed": false
   },
   "outputs": [
    {
     "ename": "LoadError",
     "evalue": "LoadError: UndefVarError: o3d not defined\nwhile loading In[58], in expression starting on line 1",
     "output_type": "error",
     "traceback": [
      "LoadError: UndefVarError: o3d not defined\nwhile loading In[58], in expression starting on line 1",
      ""
     ]
    }
   ],
   "source": [
    "(ex, ey, ez) = o3d[:mv]()"
   ]
  },
  {
   "cell_type": "code",
   "execution_count": 59,
   "metadata": {
    "collapsed": false
   },
   "outputs": [
    {
     "data": {
      "text/latex": [
       "\\begin{equation*}  \\boldsymbol{e}_{x} \\end{equation*}"
      ],
      "text/plain": [
       "PyObject e_x"
      ]
     },
     "metadata": {},
     "output_type": "display_data"
    },
    {
     "data": {
      "text/latex": [
       "\\begin{equation*}  \\boldsymbol{e}_{y} \\end{equation*}"
      ],
      "text/plain": [
       "PyObject e_y"
      ]
     },
     "metadata": {},
     "output_type": "display_data"
    },
    {
     "data": {
      "text/latex": [
       "\\begin{equation*}  \\boldsymbol{e}_{z} \\end{equation*}"
      ],
      "text/plain": [
       "PyObject e_z"
      ]
     },
     "metadata": {},
     "output_type": "display_data"
    },
    {
     "data": {
      "text/plain": [
       "3-element Array{Any,1}:\n",
       " nothing\n",
       " nothing\n",
       " nothing"
      ]
     },
     "execution_count": 59,
     "metadata": {},
     "output_type": "execute_result"
    }
   ],
   "source": [
    "[display(e) for e in (ex, ey, ez)]"
   ]
  },
  {
   "cell_type": "code",
   "execution_count": 60,
   "metadata": {
    "collapsed": false
   },
   "outputs": [
    {
     "ename": "LoadError",
     "evalue": "LoadError: UndefVarError: o3d not defined\nwhile loading In[60], in expression starting on line 1",
     "output_type": "error",
     "traceback": [
      "LoadError: UndefVarError: o3d not defined\nwhile loading In[60], in expression starting on line 1",
      ""
     ]
    }
   ],
   "source": [
    "o3dmv=o3d[:mv]"
   ]
  },
  {
   "cell_type": "code",
   "execution_count": 61,
   "metadata": {
    "collapsed": false
   },
   "outputs": [
    {
     "ename": "LoadError",
     "evalue": "LoadError: UndefVarError: o3dmv not defined\nwhile loading In[61], in expression starting on line 1",
     "output_type": "error",
     "traceback": [
      "LoadError: UndefVarError: o3dmv not defined\nwhile loading In[61], in expression starting on line 1",
      ""
     ]
    }
   ],
   "source": [
    "f = o3dmv(\"f\", \"scalar\", f=true)"
   ]
  },
  {
   "cell_type": "code",
   "execution_count": 62,
   "metadata": {
    "collapsed": false
   },
   "outputs": [
    {
     "ename": "LoadError",
     "evalue": "LoadError: UndefVarError: o3dmv not defined\nwhile loading In[62], in expression starting on line 1",
     "output_type": "error",
     "traceback": [
      "LoadError: UndefVarError: o3dmv not defined\nwhile loading In[62], in expression starting on line 1",
      ""
     ]
    }
   ],
   "source": [
    "A = o3dmv(\"A\", \"vector\", f=true)"
   ]
  },
  {
   "cell_type": "code",
   "execution_count": 63,
   "metadata": {
    "collapsed": false
   },
   "outputs": [
    {
     "ename": "LoadError",
     "evalue": "LoadError: UndefVarError: o3dmv not defined\nwhile loading In[63], in expression starting on line 1",
     "output_type": "error",
     "traceback": [
      "LoadError: UndefVarError: o3dmv not defined\nwhile loading In[63], in expression starting on line 1",
      ""
     ]
    }
   ],
   "source": [
    "B = o3dmv(\"B\", \"bivector\", f=true)"
   ]
  },
  {
   "cell_type": "code",
   "execution_count": 64,
   "metadata": {
    "collapsed": false
   },
   "outputs": [
    {
     "ename": "LoadError",
     "evalue": "LoadError: UndefVarError: o3dmv not defined\nwhile loading In[64], in expression starting on line 1",
     "output_type": "error",
     "traceback": [
      "LoadError: UndefVarError: o3dmv not defined\nwhile loading In[64], in expression starting on line 1",
      ""
     ]
    }
   ],
   "source": [
    "C = o3dmv(\"C\", \"mv\", f=true)"
   ]
  },
  {
   "cell_type": "code",
   "execution_count": 65,
   "metadata": {
    "collapsed": false
   },
   "outputs": [
    {
     "ename": "LoadError",
     "evalue": "LoadError: UndefVarError: o3d not defined\nwhile loading In[65], in expression starting on line 1",
     "output_type": "error",
     "traceback": [
      "LoadError: UndefVarError: o3d not defined\nwhile loading In[65], in expression starting on line 1",
      ""
     ]
    }
   ],
   "source": [
    "grad = o3d[:grad]"
   ]
  },
  {
   "cell_type": "code",
   "execution_count": 66,
   "metadata": {
    "collapsed": false
   },
   "outputs": [
    {
     "ename": "LoadError",
     "evalue": "LoadError: UndefVarError: grad not defined\nwhile loading In[66], in expression starting on line 1",
     "output_type": "error",
     "traceback": [
      "LoadError: UndefVarError: grad not defined\nwhile loading In[66], in expression starting on line 1",
      ""
     ]
    }
   ],
   "source": [
    "operator.mul(grad, f)"
   ]
  },
  {
   "cell_type": "code",
   "execution_count": 67,
   "metadata": {
    "collapsed": false
   },
   "outputs": [
    {
     "ename": "LoadError",
     "evalue": "LoadError: UndefVarError: grad not defined\nwhile loading In[67], in expression starting on line 1",
     "output_type": "error",
     "traceback": [
      "LoadError: UndefVarError: grad not defined\nwhile loading In[67], in expression starting on line 1",
      ""
     ]
    }
   ],
   "source": [
    "operator.or_(grad, A)"
   ]
  },
  {
   "cell_type": "code",
   "execution_count": 68,
   "metadata": {
    "collapsed": false
   },
   "outputs": [
    {
     "ename": "LoadError",
     "evalue": "LoadError: UndefVarError: grad not defined\nwhile loading In[68], in expression starting on line 1",
     "output_type": "error",
     "traceback": [
      "LoadError: UndefVarError: grad not defined\nwhile loading In[68], in expression starting on line 1",
      ""
     ]
    }
   ],
   "source": [
    "operator.mul(grad, A)"
   ]
  },
  {
   "cell_type": "code",
   "execution_count": 69,
   "metadata": {
    "collapsed": false
   },
   "outputs": [
    {
     "ename": "LoadError",
     "evalue": "LoadError: UndefVarError: o3d not defined\nwhile loading In[69], in expression starting on line 1",
     "output_type": "error",
     "traceback": [
      "LoadError: UndefVarError: o3d not defined\nwhile loading In[69], in expression starting on line 1",
      ""
     ]
    }
   ],
   "source": [
    "o3d[:E]()"
   ]
  },
  {
   "cell_type": "code",
   "execution_count": 70,
   "metadata": {
    "collapsed": false
   },
   "outputs": [
    {
     "ename": "LoadError",
     "evalue": "LoadError: UndefVarError: o3d not defined\nwhile loading In[70], in expression starting on line 1",
     "output_type": "error",
     "traceback": [
      "LoadError: UndefVarError: o3d not defined\nwhile loading In[70], in expression starting on line 1",
      ""
     ]
    }
   ],
   "source": [
    "o3d[:I]()"
   ]
  },
  {
   "cell_type": "code",
   "execution_count": 71,
   "metadata": {
    "collapsed": false
   },
   "outputs": [
    {
     "ename": "LoadError",
     "evalue": "LoadError: UndefVarError: o3d not defined\nwhile loading In[71], in expression starting on line 1",
     "output_type": "error",
     "traceback": [
      "LoadError: UndefVarError: o3d not defined\nwhile loading In[71], in expression starting on line 1",
      ""
     ]
    }
   ],
   "source": [
    "o3d[:E]() == o3d[:I]()"
   ]
  },
  {
   "cell_type": "code",
   "execution_count": 72,
   "metadata": {
    "collapsed": false
   },
   "outputs": [
    {
     "data": {
      "text/markdown": [
       "operator.mul(grad, B)="
      ]
     },
     "metadata": {},
     "output_type": "display_data"
    },
    {
     "ename": "LoadError",
     "evalue": "LoadError: UndefVarError: grad not defined\nwhile loading In[72], in expression starting on line 1",
     "output_type": "error",
     "traceback": [
      "LoadError: UndefVarError: grad not defined\nwhile loading In[72], in expression starting on line 1",
      ""
     ]
    }
   ],
   "source": [
    "for op in [operator.mul, operator.xor, operator.or_]\n",
    "    op_name = op[:__name__]\n",
    "    display(IJulia.text_markdown,\"operator.$op_name(grad, B)=\")\n",
    "    display(op(grad, B))\n",
    "end"
   ]
  },
  {
   "cell_type": "code",
   "execution_count": 79,
   "metadata": {
    "collapsed": false
   },
   "outputs": [
    {
     "data": {
      "text/plain": [
       "PyObject <ga.Ga object at 0x30d80a350>"
      ]
     },
     "execution_count": 79,
     "metadata": {},
     "output_type": "execute_result"
    }
   ],
   "source": [
    "using PyCall\n",
    "@pyimport ga\n",
    "@pyimport printer\n",
    "\n",
    "pyeval(\"\"\"\n",
    "Ga('e*x|y|z')\n",
    "\"\"\", Ga=ga.Ga)"
   ]
  },
  {
   "cell_type": "code",
   "execution_count": 80,
   "metadata": {
    "collapsed": false
   },
   "outputs": [
    {
     "data": {
      "text/latex": [
       "\\begin{equation*} \\left ( - \\left ( e_{x}\\cdot e_{x}\\right )  \\left ( e_{y}\\cdot e_{y}\\right )  A^{xy} B^{xy} - \\left ( e_{x}\\cdot e_{x}\\right )  \\left ( e_{y}\\cdot e_{z}\\right )  A^{xy} B^{xz} - \\left ( e_{x}\\cdot e_{x}\\right )  \\left ( e_{y}\\cdot e_{z}\\right )  A^{xz} B^{xy} - \\left ( e_{x}\\cdot e_{x}\\right )  \\left ( e_{z}\\cdot e_{z}\\right )  A^{xz} B^{xz} + \\left ( e_{x}\\cdot e_{y}\\right ) ^{2} A^{xy} B^{xy} + \\left ( e_{x}\\cdot e_{y}\\right )  \\left ( e_{x}\\cdot e_{z}\\right )  A^{xy} B^{xz} + \\left ( e_{x}\\cdot e_{y}\\right )  \\left ( e_{x}\\cdot e_{z}\\right )  A^{xz} B^{xy} - \\left ( e_{x}\\cdot e_{y}\\right )  \\left ( e_{y}\\cdot e_{z}\\right )  A^{xy} B^{yz} - \\left ( e_{x}\\cdot e_{y}\\right )  \\left ( e_{y}\\cdot e_{z}\\right )  A^{yz} B^{xy} - \\left ( e_{x}\\cdot e_{y}\\right )  \\left ( e_{z}\\cdot e_{z}\\right )  A^{xz} B^{yz} - \\left ( e_{x}\\cdot e_{y}\\right )  \\left ( e_{z}\\cdot e_{z}\\right )  A^{yz} B^{xz} + \\left ( e_{x}\\cdot e_{z}\\right ) ^{2} A^{xz} B^{xz} + \\left ( e_{x}\\cdot e_{z}\\right )  \\left ( e_{y}\\cdot e_{y}\\right )  A^{xy} B^{yz} + \\left ( e_{x}\\cdot e_{z}\\right )  \\left ( e_{y}\\cdot e_{y}\\right )  A^{yz} B^{xy} + \\left ( e_{x}\\cdot e_{z}\\right )  \\left ( e_{y}\\cdot e_{z}\\right )  A^{xz} B^{yz} + \\left ( e_{x}\\cdot e_{z}\\right )  \\left ( e_{y}\\cdot e_{z}\\right )  A^{yz} B^{xz} - \\left ( e_{y}\\cdot e_{y}\\right )  \\left ( e_{z}\\cdot e_{z}\\right )  A^{yz} B^{yz} + \\left ( e_{y}\\cdot e_{z}\\right ) ^{2} A^{yz} B^{yz}\\right )  + \\left ( - \\left ( e_{x}\\cdot e_{y}\\right )  \\left ( e_{y}\\cdot e_{z}\\right )  A^{xyz} B^{xy} - \\left ( e_{x}\\cdot e_{y}\\right )  \\left ( e_{z}\\cdot e_{z}\\right )  A^{xyz} B^{xz} - \\left ( e_{x}\\cdot e_{y}\\right )  A^{x} B^{xy} + \\left ( e_{x}\\cdot e_{z}\\right )  \\left ( e_{y}\\cdot e_{y}\\right )  A^{xyz} B^{xy} + \\left ( e_{x}\\cdot e_{z}\\right )  \\left ( e_{y}\\cdot e_{z}\\right )  A^{xyz} B^{xz} - \\left ( e_{x}\\cdot e_{z}\\right )  A^{x} B^{xz} - \\left ( e_{y}\\cdot e_{y}\\right )  \\left ( e_{z}\\cdot e_{z}\\right )  A^{xyz} B^{yz} - \\left ( e_{y}\\cdot e_{y}\\right )  A^{y} B^{xy} + \\left ( e_{y}\\cdot e_{z}\\right ) ^{2} A^{xyz} B^{yz} - \\left ( e_{y}\\cdot e_{z}\\right )  A^{y} B^{xz} - \\left ( e_{y}\\cdot e_{z}\\right )  A^{z} B^{xy} - \\left ( e_{z}\\cdot e_{z}\\right )  A^{z} B^{xz}\\right ) \\boldsymbol{e}_{x} + \\left ( \\left ( e_{x}\\cdot e_{x}\\right )  \\left ( e_{y}\\cdot e_{z}\\right )  A^{xyz} B^{xy} + \\left ( e_{x}\\cdot e_{x}\\right )  \\left ( e_{z}\\cdot e_{z}\\right )  A^{xyz} B^{xz} + \\left ( e_{x}\\cdot e_{x}\\right )  A^{x} B^{xy} - \\left ( e_{x}\\cdot e_{y}\\right )  \\left ( e_{x}\\cdot e_{z}\\right )  A^{xyz} B^{xy} + \\left ( e_{x}\\cdot e_{y}\\right )  \\left ( e_{z}\\cdot e_{z}\\right )  A^{xyz} B^{yz} + \\left ( e_{x}\\cdot e_{y}\\right )  A^{y} B^{xy} - \\left ( e_{x}\\cdot e_{z}\\right ) ^{2} A^{xyz} B^{xz} - \\left ( e_{x}\\cdot e_{z}\\right )  \\left ( e_{y}\\cdot e_{z}\\right )  A^{xyz} B^{yz} - \\left ( e_{x}\\cdot e_{z}\\right )  A^{x} B^{yz} + \\left ( e_{x}\\cdot e_{z}\\right )  A^{z} B^{xy} - \\left ( e_{y}\\cdot e_{z}\\right )  A^{y} B^{yz} - \\left ( e_{z}\\cdot e_{z}\\right )  A^{z} B^{yz}\\right ) \\boldsymbol{e}_{y} + \\left ( - \\left ( e_{x}\\cdot e_{x}\\right )  \\left ( e_{y}\\cdot e_{y}\\right )  A^{xyz} B^{xy} - \\left ( e_{x}\\cdot e_{x}\\right )  \\left ( e_{y}\\cdot e_{z}\\right )  A^{xyz} B^{xz} + \\left ( e_{x}\\cdot e_{x}\\right )  A^{x} B^{xz} + \\left ( e_{x}\\cdot e_{y}\\right ) ^{2} A^{xyz} B^{xy} + \\left ( e_{x}\\cdot e_{y}\\right )  \\left ( e_{x}\\cdot e_{z}\\right )  A^{xyz} B^{xz} - \\left ( e_{x}\\cdot e_{y}\\right )  \\left ( e_{y}\\cdot e_{z}\\right )  A^{xyz} B^{yz} + \\left ( e_{x}\\cdot e_{y}\\right )  A^{x} B^{yz} + \\left ( e_{x}\\cdot e_{y}\\right )  A^{y} B^{xz} + \\left ( e_{x}\\cdot e_{z}\\right )  \\left ( e_{y}\\cdot e_{y}\\right )  A^{xyz} B^{yz} + \\left ( e_{x}\\cdot e_{z}\\right )  A^{z} B^{xz} + \\left ( e_{y}\\cdot e_{y}\\right )  A^{y} B^{yz} + \\left ( e_{y}\\cdot e_{z}\\right )  A^{z} B^{yz}\\right ) \\boldsymbol{e}_{z} \\end{equation*}"
      ],
      "text/plain": [
       "PyObject -(e_x.e_x)*(e_y.e_y)*A__xy*B__xy - (e_x.e_x)*(e_y.e_z)*A__xy*B__xz - (e_x.e_x)*(e_y.e_z)*A__xz*B__xy - (e_x.e_x)*(e_z.e_z)*A__xz*B__xz + (e_x.e_y)**2*A__xy*B__xy + (e_x.e_y)*(e_x.e_z)*A__xy*B__xz + (e_x.e_y)*(e_x.e_z)*A__xz*B__xy - (e_x.e_y)*(e_y.e_z)*A__xy*B__yz - (e_x.e_y)*(e_y.e_z)*A__yz*B__xy - (e_x.e_y)*(e_z.e_z)*A__xz*B__yz - (e_x.e_y)*(e_z.e_z)*A__yz*B__xz + (e_x.e_z)**2*A__xz*B__xz + (e_x.e_z)*(e_y.e_y)*A__xy*B__yz + (e_x.e_z)*(e_y.e_y)*A__yz*B__xy + (e_x.e_z)*(e_y.e_z)*A__xz*B__yz + (e_x.e_z)*(e_y.e_z)*A__yz*B__xz - (e_y.e_y)*(e_z.e_z)*A__yz*B__yz + (e_y.e_z)**2*A__yz*B__yz + (-(e_x.e_y)*(e_y.e_z)*A__xyz*B__xy - (e_x.e_y)*(e_z.e_z)*A__xyz*B__xz - (e_x.e_y)*A__x*B__xy + (e_x.e_z)*(e_y.e_y)*A__xyz*B__xy + (e_x.e_z)*(e_y.e_z)*A__xyz*B__xz - (e_x.e_z)*A__x*B__xz - (e_y.e_y)*(e_z.e_z)*A__xyz*B__yz - (e_y.e_y)*A__y*B__xy + (e_y.e_z)**2*A__xyz*B__yz - (e_y.e_z)*A__y*B__xz - (e_y.e_z)*A__z*B__xy - (e_z.e_z)*A__z*B__xz)*e_x + ((e_x.e_x)*(e_y.e_z)*A__xyz*B__xy + (e_x.e_x)*(e_z.e_z)*A__xyz*B__xz + (e_x.e_x)*A__x*B__xy - (e_x.e_y)*(e_x.e_z)*A__xyz*B__xy + (e_x.e_y)*(e_z.e_z)*A__xyz*B__yz + (e_x.e_y)*A__y*B__xy - (e_x.e_z)**2*A__xyz*B__xz - (e_x.e_z)*(e_y.e_z)*A__xyz*B__yz - (e_x.e_z)*A__x*B__yz + (e_x.e_z)*A__z*B__xy - (e_y.e_z)*A__y*B__yz - (e_z.e_z)*A__z*B__yz)*e_y + (-(e_x.e_x)*(e_y.e_y)*A__xyz*B__xy - (e_x.e_x)*(e_y.e_z)*A__xyz*B__xz + (e_x.e_x)*A__x*B__xz + (e_x.e_y)**2*A__xyz*B__xy + (e_x.e_y)*(e_x.e_z)*A__xyz*B__xz - (e_x.e_y)*(e_y.e_z)*A__xyz*B__yz + (e_x.e_y)*A__x*B__yz + (e_x.e_y)*A__y*B__xz + (e_x.e_z)*(e_y.e_y)*A__xyz*B__yz + (e_x.e_z)*A__z*B__xz + (e_y.e_y)*A__y*B__yz + (e_y.e_z)*A__z*B__yz)*e_z"
      ]
     },
     "execution_count": 80,
     "metadata": {},
     "output_type": "execute_result"
    }
   ],
   "source": [
    "pyeval(\"\"\"\n",
    "A|B\n",
    "\"\"\", A=A, B=B)"
   ]
  },
  {
   "cell_type": "code",
   "execution_count": 81,
   "metadata": {
    "collapsed": false
   },
   "outputs": [
    {
     "ename": "LoadError",
     "evalue": "LoadError: UndefVarError: grad not defined\nwhile loading In[81], in expression starting on line 1",
     "output_type": "error",
     "traceback": [
      "LoadError: UndefVarError: grad not defined\nwhile loading In[81], in expression starting on line 1",
      ""
     ]
    }
   ],
   "source": [
    "[display(v) for v in [grad, f, A, B, C]]"
   ]
  },
  {
   "cell_type": "code",
   "execution_count": 82,
   "metadata": {
    "collapsed": false
   },
   "outputs": [
    {
     "data": {
      "text/markdown": [
       "`grad * f` = "
      ]
     },
     "metadata": {},
     "output_type": "display_data"
    },
    {
     "ename": "LoadError",
     "evalue": "LoadError: UndefVarError: grad not defined\nwhile loading In[82], in expression starting on line 1",
     "output_type": "error",
     "traceback": [
      "LoadError: UndefVarError: grad not defined\nwhile loading In[82], in expression starting on line 1",
      "",
      " [inlined code] from In[82]:15",
      " in anonymous at no file:0"
     ]
    }
   ],
   "source": [
    "for expr in [\"grad * f\",\n",
    "\"grad | A\",\n",
    "\"grad * A\",\n",
    "\"-o3d.E() * (grad ^ A)\",\n",
    "\"grad * B\",\n",
    "\"grad ^ B\",\n",
    "\"grad | B\",\n",
    "\"grad < A\",\n",
    "\"grad > A\",\n",
    "\"grad < B\",\n",
    "\"grad > B\",\n",
    "\"grad < C\",\n",
    "\"grad > C\"]\n",
    "    display(IJulia.text_markdown, \"`$expr` = \")\n",
    "    display(pyeval(expr, grad=grad, A=A, B=B, C=C, f=f, o3d=o3d))\n",
    "end"
   ]
  },
  {
   "cell_type": "code",
   "execution_count": null,
   "metadata": {
    "collapsed": true
   },
   "outputs": [],
   "source": []
  }
 ],
 "metadata": {
  "kernelspec": {
   "display_name": "Julia 0.4.5",
   "language": "julia",
   "name": "julia-0.4"
  },
  "language_info": {
   "file_extension": ".jl",
   "mimetype": "application/julia",
   "name": "julia",
   "version": "0.4.5"
  }
 },
 "nbformat": 4,
 "nbformat_minor": 0
}
