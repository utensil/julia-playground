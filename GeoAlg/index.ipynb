{
 "cells": [
  {
   "cell_type": "code",
   "execution_count": 1,
   "metadata": {
    "collapsed": false
   },
   "outputs": [],
   "source": [
    "using PyCall"
   ]
  },
  {
   "cell_type": "code",
   "execution_count": 19,
   "metadata": {
    "collapsed": false
   },
   "outputs": [],
   "source": [
    "cd(\"/Users/utensil/experiments/\")"
   ]
  },
  {
   "cell_type": "code",
   "execution_count": 13,
   "metadata": {
    "collapsed": false
   },
   "outputs": [
    {
     "name": "stderr",
     "output_type": "stream",
     "text": [
      "Cloning into 'galgebra'...\n"
     ]
    }
   ],
   "source": [
    "run(`git clone https://github.com/brombo/galgebra.git`)"
   ]
  },
  {
   "cell_type": "code",
   "execution_count": 20,
   "metadata": {
    "collapsed": true
   },
   "outputs": [],
   "source": [
    "cd(\"galgebra\")"
   ]
  },
  {
   "cell_type": "code",
   "execution_count": 14,
   "metadata": {
    "collapsed": false
   },
   "outputs": [
    {
     "name": "stdout",
     "output_type": "stream",
     "text": [
      "running install\n",
      "running bdist_egg\n",
      "running egg_info\n",
      "creating galgebra.egg-info\n",
      "writing requirements to galgebra.egg-info/requires.txt\n",
      "writing galgebra.egg-info/PKG-INFO\n",
      "writing top-level names to galgebra.egg-info/top_level.txt\n",
      "writing dependency_links to galgebra.egg-info/dependency_links.txt\n",
      "writing manifest file 'galgebra.egg-info/SOURCES.txt'\n",
      "reading manifest file 'galgebra.egg-info/SOURCES.txt'\n",
      "writing manifest file 'galgebra.egg-info/SOURCES.txt'\n",
      "installing library code to build/bdist.macosx-10.5-x86_64/egg\n",
      "running install_lib\n",
      "running build_py\n",
      "creating build\n",
      "creating build/lib\n",
      "creating build/lib/galgebra\n",
      "copying galgebra/__init__.py -> build/lib/galgebra\n",
      "copying galgebra/ga.py -> build/lib/galgebra\n",
      "copying galgebra/lt.py -> build/lib/galgebra\n",
      "copying galgebra/metric.py -> build/lib/galgebra\n",
      "copying galgebra/mv.py -> build/lib/galgebra\n",
      "copying galgebra/printer.py -> build/lib/galgebra\n",
      "copying galgebra/setgapth.py -> build/lib/galgebra\n",
      "creating build/lib/tests\n",
      "copying tests/__init__.py -> build/lib/tests\n",
      "copying tests/test_mv.py -> build/lib/tests\n",
      "copying tests/test_test.py -> build/lib/tests\n",
      "creating build/bdist.macosx-10.5-x86_64\n",
      "creating build/bdist.macosx-10.5-x86_64/egg\n",
      "creating build/bdist.macosx-10.5-x86_64/egg/galgebra\n",
      "copying build/lib/galgebra/__init__.py -> build/bdist.macosx-10.5-x86_64/egg/galgebra\n",
      "copying build/lib/galgebra/ga.py -> build/bdist.macosx-10.5-x86_64/egg/galgebra\n",
      "copying build/lib/galgebra/lt.py -> build/bdist.macosx-10.5-x86_64/egg/galgebra\n",
      "copying build/lib/galgebra/metric.py -> build/bdist.macosx-10.5-x86_64/egg/galgebra\n",
      "copying build/lib/galgebra/mv.py -> build/bdist.macosx-10.5-x86_64/egg/galgebra\n",
      "copying build/lib/galgebra/printer.py -> build/bdist.macosx-10.5-x86_64/egg/galgebra\n",
      "copying build/lib/galgebra/setgapth.py -> build/bdist.macosx-10.5-x86_64/egg/galgebra\n",
      "creating build/bdist.macosx-10.5-x86_64/egg/tests\n",
      "copying build/lib/tests/__init__.py -> build/bdist.macosx-10.5-x86_64/egg/tests\n",
      "copying build/lib/tests/test_mv.py -> build/bdist.macosx-10.5-x86_64/egg/tests\n",
      "copying build/lib/tests/test_test.py -> build/bdist.macosx-10.5-x86_64/egg/tests\n",
      "byte-compiling build/bdist.macosx-10.5-x86_64/egg/galgebra/__init__.py to __init__.pyc\n",
      "byte-compiling build/bdist.macosx-10.5-x86_64/egg/galgebra/ga.py to ga.pyc\n",
      "byte-compiling build/bdist.macosx-10.5-x86_64/egg/galgebra/lt.py to lt.pyc\n",
      "byte-compiling build/bdist.macosx-10.5-x86_64/egg/galgebra/metric.py to metric.pyc\n",
      "byte-compiling build/bdist.macosx-10.5-x86_64/egg/galgebra/mv.py to mv.pyc\n",
      "byte-compiling build/bdist.macosx-10.5-x86_64/egg/galgebra/printer.py to printer.pyc\n",
      "byte-compiling build/bdist.macosx-10.5-x86_64/egg/galgebra/setgapth.py to setgapth.pyc\n",
      "byte-compiling build/bdist.macosx-10.5-x86_64/egg/tests/__init__.py to __init__.pyc\n",
      "byte-compiling build/bdist.macosx-10.5-x86_64/egg/tests/test_mv.py to test_mv.pyc\n",
      "byte-compiling build/bdist.macosx-10.5-x86_64/egg/tests/test_test.py to test_test.pyc\n",
      "creating build/bdist.macosx-10.5-x86_64/egg/EGG-INFO\n",
      "copying galgebra.egg-info/PKG-INFO -> build/bdist.macosx-10.5-x86_64/egg/EGG-INFO\n",
      "copying galgebra.egg-info/SOURCES.txt -> build/bdist.macosx-10.5-x86_64/egg/EGG-INFO\n",
      "copying galgebra.egg-info/dependency_links.txt -> build/bdist.macosx-10.5-x86_64/egg/EGG-INFO\n",
      "copying galgebra.egg-info/requires.txt -> build/bdist.macosx-10.5-x86_64/egg/EGG-INFO\n",
      "copying galgebra.egg-info/top_level.txt -> build/bdist.macosx-10.5-x86_64/egg/EGG-INFO\n",
      "creating dist\n",
      "creating 'dist/galgebra-0.4.0-py2.7.egg' and adding 'build/bdist.macosx-10.5-x86_64/egg' to it\n"
     ]
    },
    {
     "name": "stderr",
     "output_type": "stream",
     "text": [
      "zip_safe flag not set; analyzing archive contents...\n",
      "galgebra.printer: module MAY be using inspect.getouterframes\n"
     ]
    },
    {
     "name": "stdout",
     "output_type": "stream",
     "text": [
      "removing 'build/bdist.macosx-10.5-x86_64/egg' (and everything under it)\n",
      "Processing galgebra-0.4.0-py2.7.egg\n",
      "creating /Users/utensil/miniconda2/lib/python2.7/site-packages/galgebra-0.4.0-py2.7.egg\n",
      "Extracting galgebra-0.4.0-py2.7.egg to /Users/utensil/miniconda2/lib/python2.7/site-packages\n",
      "Adding galgebra 0.4.0 to easy-install.pth file\n",
      "\n",
      "Installed /Users/utensil/miniconda2/lib/python2.7/site-packages/galgebra-0.4.0-py2.7.egg\n",
      "Processing dependencies for galgebra==0.4.0\n",
      "Searching for numpy==1.9.2\n",
      "Best match: numpy 1.9.2\n",
      "Adding numpy 1.9.2 to easy-install.pth file\n",
      "\n",
      "Using /Users/utensil/miniconda2/lib/python2.7/site-packages\n",
      "Searching for sympy==1.0\n",
      "Best match: sympy 1.0\n",
      "Adding sympy 1.0 to easy-install.pth file\n",
      "\n",
      "Using /Users/utensil/miniconda2/lib/python2.7/site-packages\n",
      "Finished processing dependencies for galgebra==0.4.0\n"
     ]
    }
   ],
   "source": [
    "run(`python setup.py install`)"
   ]
  },
  {
   "cell_type": "code",
   "execution_count": 21,
   "metadata": {
    "collapsed": false
   },
   "outputs": [
    {
     "name": "stdout",
     "output_type": "stream",
     "text": [
      "running test\n",
      "running egg_info\n",
      "writing requirements to galgebra.egg-info/requires.txt\n",
      "writing galgebra.egg-info/PKG-INFO\n",
      "writing top-level names to galgebra.egg-info/top_level.txt\n",
      "writing dependency_links to galgebra.egg-info/dependency_links.txt\n",
      "reading manifest file 'galgebra.egg-info/SOURCES.txt'\n",
      "writing manifest file 'galgebra.egg-info/SOURCES.txt'\n",
      "running build_ext\n"
     ]
    },
    {
     "name": "stderr",
     "output_type": "stream",
     "text": [
      "\n",
      "----------------------------------------------------------------------\n",
      "Ran 0 tests in 0.000s\n",
      "\n",
      "OK\n"
     ]
    }
   ],
   "source": [
    "run(`python setup.py test`)"
   ]
  },
  {
   "cell_type": "code",
   "execution_count": 3,
   "metadata": {
    "collapsed": false
   },
   "outputs": [
    {
     "data": {
      "text/plain": [
       "\"a0 a1 a2 n nbar\""
      ]
     },
     "execution_count": 3,
     "metadata": {},
     "output_type": "execute_result"
    }
   ],
   "source": [
    "basis = \"a0 a1 a2 n nbar\""
   ]
  },
  {
   "cell_type": "code",
   "execution_count": 4,
   "metadata": {
    "collapsed": false
   },
   "outputs": [
    {
     "data": {
      "text/plain": [
       "\"# # # 0 0, # # # 0 0, # # # 0 0, 0 0 0 0 2, 0 0 0 2 0\""
      ]
     },
     "execution_count": 4,
     "metadata": {},
     "output_type": "execute_result"
    }
   ],
   "source": [
    "metric = \"# # # 0 0, # # # 0 0, # # # 0 0, 0 0 0 0 2, 0 0 0 2 0\""
   ]
  },
  {
   "cell_type": "code",
   "execution_count": 22,
   "metadata": {
    "collapsed": false
   },
   "outputs": [],
   "source": [
    "@pyimport sympy\n",
    "@pyimport galgebra as ga"
   ]
  },
  {
   "cell_type": "code",
   "execution_count": 24,
   "metadata": {
    "collapsed": false
   },
   "outputs": [
    {
     "ename": "LoadError",
     "evalue": "LoadError: UndefVarError: Ga not defined\nwhile loading In[24], in expression starting on line 2",
     "output_type": "error",
     "traceback": [
      "LoadError: UndefVarError: Ga not defined\nwhile loading In[24], in expression starting on line 2",
      ""
     ]
    }
   ],
   "source": [
    "coords=sympy.symbols(\"x,y,z\",real=true)\n",
    "base=ga.Ga(\"e0 e1 e2\",g=[1,1,1],coords=coords)"
   ]
  },
  {
   "cell_type": "code",
   "execution_count": 25,
   "metadata": {
    "collapsed": false
   },
   "outputs": [
    {
     "data": {
      "text/plain": [
       "__anon__"
      ]
     },
     "execution_count": 25,
     "metadata": {},
     "output_type": "execute_result"
    }
   ],
   "source": [
    "ga"
   ]
  },
  {
   "cell_type": "code",
   "execution_count": 27,
   "metadata": {
    "collapsed": false
   },
   "outputs": [
    {
     "data": {
      "text/plain": [
       "false"
      ]
     },
     "execution_count": 27,
     "metadata": {},
     "output_type": "execute_result"
    }
   ],
   "source": [
    "inspect.ismodule(ga)"
   ]
  },
  {
   "cell_type": "markdown",
   "metadata": {},
   "source": [
    "See:\n",
    "* [GAlgebraPrimer.pdf](https://github.com/brombo/galgebra/raw/master/doc/GAlgebraPrimer.pdf)\n",
    "* [this issue](https://github.com/brombo/galgebra/issues/12)\n",
    "* [Geometric Algebra For Computer Science, An Object Oriented Approach to Geometry](http://www.geometricalgebra.net/index.html)"
   ]
  },
  {
   "cell_type": "code",
   "execution_count": 31,
   "metadata": {
    "collapsed": false
   },
   "outputs": [],
   "source": [
    "cd(\"/Users/utensil/experiments/\")"
   ]
  },
  {
   "cell_type": "code",
   "execution_count": 32,
   "metadata": {
    "collapsed": false
   },
   "outputs": [
    {
     "name": "stderr",
     "output_type": "stream",
     "text": [
      "Cloning into 'GeoAlg.jl'...\n"
     ]
    }
   ],
   "source": [
    "run(`git clone https://github.com/andrioni/GeoAlg.jl.git`)"
   ]
  },
  {
   "cell_type": "code",
   "execution_count": 33,
   "metadata": {
    "collapsed": true
   },
   "outputs": [],
   "source": [
    "cd(\"GeoAlg.jl\")"
   ]
  },
  {
   "cell_type": "code",
   "execution_count": 34,
   "metadata": {
    "collapsed": false
   },
   "outputs": [
    {
     "ename": "LoadError",
     "evalue": "LoadError: LoadError: TypeError: Metric: in type definition, expected Type{T}, got Tuple{DataType,DataType}\nwhile loading /Users/utensil/experiments/GeoAlg.jl/src/GeoAlg.jl, in expression starting on line 90\nwhile loading In[34], in expression starting on line 1",
     "output_type": "error",
     "traceback": [
      "LoadError: LoadError: TypeError: Metric: in type definition, expected Type{T}, got Tuple{DataType,DataType}\nwhile loading /Users/utensil/experiments/GeoAlg.jl/src/GeoAlg.jl, in expression starting on line 90\nwhile loading In[34], in expression starting on line 1",
      ""
     ]
    }
   ],
   "source": [
    "include(\"src/GeoAlg.jl\")"
   ]
  },
  {
   "cell_type": "code",
   "execution_count": null,
   "metadata": {
    "collapsed": true
   },
   "outputs": [],
   "source": []
  }
 ],
 "metadata": {
  "kernelspec": {
   "display_name": "Julia 0.4.5",
   "language": "julia",
   "name": "julia-0.4"
  },
  "language_info": {
   "file_extension": ".jl",
   "mimetype": "application/julia",
   "name": "julia",
   "version": "0.4.5"
  }
 },
 "nbformat": 4,
 "nbformat_minor": 0
}
