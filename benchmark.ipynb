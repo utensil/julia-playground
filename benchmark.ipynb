{
 "cells": [
  {
   "cell_type": "code",
   "execution_count": 25,
   "metadata": {
    "collapsed": false
   },
   "outputs": [
    {
     "name": "stderr",
     "output_type": "stream",
     "text": [
      "INFO: Nothing to be done\n",
      "INFO: METADATA is out-of-date — you may not have the latest version of DataFrames\n",
      "INFO: Use `Pkg.update()` to get the latest versions of your packages\n",
      "INFO: Nothing to be done\n",
      "INFO: METADATA is out-of-date — you may not have the latest version of Gadfly\n",
      "INFO: Use `Pkg.update()` to get the latest versions of your packages\n"
     ]
    }
   ],
   "source": [
    "Pkg.add(\"DataFrames\")\n",
    "Pkg.add(\"Gadfly\")"
   ]
  },
  {
   "cell_type": "code",
   "execution_count": 2,
   "metadata": {
    "collapsed": false
   },
   "outputs": [],
   "source": [
    "cd(\"/Users/utensil/experiments\")"
   ]
  },
  {
   "cell_type": "code",
   "execution_count": 4,
   "metadata": {
    "collapsed": false
   },
   "outputs": [
    {
     "name": "stderr",
     "output_type": "stream",
     "text": [
      "Cloning into 'julia'...\n"
     ]
    }
   ],
   "source": [
    "run(`git clone https://github.com/JuliaLang/julia.git`)"
   ]
  },
  {
   "cell_type": "code",
   "execution_count": 3,
   "metadata": {
    "collapsed": true
   },
   "outputs": [],
   "source": [
    "cd(\"julia/test/perf/micro\")"
   ]
  },
  {
   "cell_type": "code",
   "execution_count": 4,
   "metadata": {
    "collapsed": false
   },
   "outputs": [],
   "source": [
    "run(pipeline(`python perf.py`, stdout=\"py.csv\"))"
   ]
  },
  {
   "cell_type": "code",
   "execution_count": 5,
   "metadata": {
    "collapsed": false
   },
   "outputs": [],
   "source": [
    "run(pipeline(`julia perf.jl`, stdout=\"jl.csv\"))"
   ]
  },
  {
   "cell_type": "code",
   "execution_count": 6,
   "metadata": {
    "collapsed": false
   },
   "outputs": [
    {
     "name": "stderr",
     "output_type": "stream",
     "text": [
      "载入需要的程辑包：compiler\n"
     ]
    }
   ],
   "source": [
    "run(pipeline(`r --vanilla --slave -f perf.R`, stdout=\"r.csv\"))"
   ]
  },
  {
   "cell_type": "code",
   "execution_count": 7,
   "metadata": {
    "collapsed": false
   },
   "outputs": [],
   "source": [
    "run(pipeline(`cat py.csv r.csv`, stdout=\"benchmarks.csv\"))"
   ]
  },
  {
   "cell_type": "code",
   "execution_count": 8,
   "metadata": {
    "collapsed": true
   },
   "outputs": [],
   "source": [
    "using DataFrames\n",
    "using Gadfly"
   ]
  },
  {
   "cell_type": "code",
   "execution_count": 10,
   "metadata": {
    "collapsed": false
   },
   "outputs": [
    {
     "data": {
      "text/html": [
       "<table class=\"data-frame\"><tr><th></th><th>language</th><th>benchmark</th><th>min</th><th>max</th><th>mean_time</th><th>std</th></tr><tr><th>1</th><td>julia</td><td>fib</td><td>0.056615</td><td>12.929825</td><td>0.06721</td><td>0.095576</td></tr><tr><th>2</th><td>julia</td><td>parse_int</td><td>0.184276</td><td>14.152507</td><td>0.240393</td><td>0.233401</td></tr><tr><th>3</th><td>julia</td><td>mandel</td><td>0.207146</td><td>15.422047</td><td>0.254343</td><td>0.232392</td></tr><tr><th>4</th><td>julia</td><td>quicksort</td><td>0.37266</td><td>4.646582</td><td>0.442788</td><td>0.085605</td></tr><tr><th>5</th><td>julia</td><td>pi_sum</td><td>23.337202</td><td>40.237361</td><td>26.38479</td><td>2.331499</td></tr><tr><th>6</th><td>julia</td><td>rand_mat_stat</td><td>20.954935</td><td>58.0542</td><td>24.982474</td><td>5.086046</td></tr><tr><th>7</th><td>julia</td><td>rand_mat_mul</td><td>36.421051</td><td>49.189161</td><td>39.883087</td><td>3.066839</td></tr><tr><th>8</th><td>julia</td><td>printfd</td><td>25.061242</td><td>34.104159</td><td>27.590273</td><td>1.608627</td></tr></table>"
      ],
      "text/plain": [
       "8x6 DataFrames.DataFrame\n",
       "│ Row │ language │ benchmark       │ min      │ max     │ mean_time │ std      │\n",
       "┝━━━━━┿━━━━━━━━━━┿━━━━━━━━━━━━━━━━━┿━━━━━━━━━━┿━━━━━━━━━┿━━━━━━━━━━━┿━━━━━━━━━━┥\n",
       "│ 1   │ \"julia\"  │ \"fib\"           │ 0.056615 │ 12.9298 │ 0.06721   │ 0.095576 │\n",
       "│ 2   │ \"julia\"  │ \"parse_int\"     │ 0.184276 │ 14.1525 │ 0.240393  │ 0.233401 │\n",
       "│ 3   │ \"julia\"  │ \"mandel\"        │ 0.207146 │ 15.422  │ 0.254343  │ 0.232392 │\n",
       "│ 4   │ \"julia\"  │ \"quicksort\"     │ 0.37266  │ 4.64658 │ 0.442788  │ 0.085605 │\n",
       "│ 5   │ \"julia\"  │ \"pi_sum\"        │ 23.3372  │ 40.2374 │ 26.3848   │ 2.3315   │\n",
       "│ 6   │ \"julia\"  │ \"rand_mat_stat\" │ 20.9549  │ 58.0542 │ 24.9825   │ 5.08605  │\n",
       "│ 7   │ \"julia\"  │ \"rand_mat_mul\"  │ 36.4211  │ 49.1892 │ 39.8831   │ 3.06684  │\n",
       "│ 8   │ \"julia\"  │ \"printfd\"       │ 25.0612  │ 34.1042 │ 27.5903   │ 1.60863  │"
      ]
     },
     "execution_count": 10,
     "metadata": {},
     "output_type": "execute_result"
    }
   ],
   "source": [
    "jl_data = readtable(\"jl.csv\", header=false, names=[:language, :benchmark, :min, :max, :mean_time, :std])"
   ]
  },
  {
   "cell_type": "code",
   "execution_count": 18,
   "metadata": {
    "collapsed": false
   },
   "outputs": [
    {
     "data": {
      "text/html": [
       "<table class=\"data-frame\"><tr><th></th><th>language</th><th>benchmark</th><th>mean_time</th></tr><tr><th>1</th><td>python</td><td>fib</td><td>2.87795066833</td></tr><tr><th>2</th><td>python</td><td>parse_int</td><td>2.0809173584</td></tr><tr><th>3</th><td>python</td><td>mandel</td><td>3.95393371582</td></tr><tr><th>4</th><td>python</td><td>quicksort</td><td>14.358997345</td></tr><tr><th>5</th><td>python</td><td>pi_sum</td><td>652.050018311</td></tr><tr><th>6</th><td>python</td><td>rand_mat_stat</td><td>125.365018845</td></tr><tr><th>7</th><td>python</td><td>rand_mat_mul</td><td>66.064119339</td></tr><tr><th>8</th><td>r</td><td>fib</td><td>16.0</td></tr><tr><th>9</th><td>r</td><td>parse_int</td><td>4.0</td></tr><tr><th>10</th><td>r</td><td>quicksort</td><td>93.0</td></tr><tr><th>11</th><td>r</td><td>mandel</td><td>12.0</td></tr><tr><th>12</th><td>r</td><td>pi_sum</td><td>332.0</td></tr><tr><th>13</th><td>r</td><td>rand_mat_stat</td><td>86.0</td></tr><tr><th>14</th><td>r</td><td>rand_mat_mul</td><td>137.0</td></tr></table>"
      ],
      "text/plain": [
       "14x3 DataFrames.DataFrame\n",
       "│ Row │ language │ benchmark       │ mean_time │\n",
       "┝━━━━━┿━━━━━━━━━━┿━━━━━━━━━━━━━━━━━┿━━━━━━━━━━━┥\n",
       "│ 1   │ \"python\" │ \"fib\"           │ 2.87795   │\n",
       "│ 2   │ \"python\" │ \"parse_int\"     │ 2.08092   │\n",
       "│ 3   │ \"python\" │ \"mandel\"        │ 3.95393   │\n",
       "│ 4   │ \"python\" │ \"quicksort\"     │ 14.359    │\n",
       "│ 5   │ \"python\" │ \"pi_sum\"        │ 652.05    │\n",
       "│ 6   │ \"python\" │ \"rand_mat_stat\" │ 125.365   │\n",
       "│ 7   │ \"python\" │ \"rand_mat_mul\"  │ 66.0641   │\n",
       "│ 8   │ \"r\"      │ \"fib\"           │ 16.0      │\n",
       "│ 9   │ \"r\"      │ \"parse_int\"     │ 4.0       │\n",
       "│ 10  │ \"r\"      │ \"quicksort\"     │ 93.0      │\n",
       "│ 11  │ \"r\"      │ \"mandel\"        │ 12.0      │\n",
       "│ 12  │ \"r\"      │ \"pi_sum\"        │ 332.0     │\n",
       "│ 13  │ \"r\"      │ \"rand_mat_stat\" │ 86.0      │\n",
       "│ 14  │ \"r\"      │ \"rand_mat_mul\"  │ 137.0     │"
      ]
     },
     "execution_count": 18,
     "metadata": {},
     "output_type": "execute_result"
    }
   ],
   "source": [
    "benchmarks = readtable(\"benchmarks.csv\", header=false, names=[:language, :benchmark, :mean_time])"
   ]
  },
  {
   "cell_type": "code",
   "execution_count": 19,
   "metadata": {
    "collapsed": false
   },
   "outputs": [
    {
     "data": {
      "text/html": [
       "<table class=\"data-frame\"><tr><th></th><th>language</th><th>benchmark</th><th>mean_time</th></tr><tr><th>1</th><td>julia</td><td>fib</td><td>0.06721</td></tr><tr><th>2</th><td>julia</td><td>parse_int</td><td>0.240393</td></tr><tr><th>3</th><td>julia</td><td>mandel</td><td>0.254343</td></tr><tr><th>4</th><td>julia</td><td>quicksort</td><td>0.442788</td></tr><tr><th>5</th><td>julia</td><td>pi_sum</td><td>26.38479</td></tr><tr><th>6</th><td>julia</td><td>rand_mat_stat</td><td>24.982474</td></tr><tr><th>7</th><td>julia</td><td>rand_mat_mul</td><td>39.883087</td></tr><tr><th>8</th><td>julia</td><td>printfd</td><td>27.590273</td></tr></table>"
      ],
      "text/plain": [
       "8x3 DataFrames.DataFrame\n",
       "│ Row │ language │ benchmark       │ mean_time │\n",
       "┝━━━━━┿━━━━━━━━━━┿━━━━━━━━━━━━━━━━━┿━━━━━━━━━━━┥\n",
       "│ 1   │ \"julia\"  │ \"fib\"           │ 0.06721   │\n",
       "│ 2   │ \"julia\"  │ \"parse_int\"     │ 0.240393  │\n",
       "│ 3   │ \"julia\"  │ \"mandel\"        │ 0.254343  │\n",
       "│ 4   │ \"julia\"  │ \"quicksort\"     │ 0.442788  │\n",
       "│ 5   │ \"julia\"  │ \"pi_sum\"        │ 26.3848   │\n",
       "│ 6   │ \"julia\"  │ \"rand_mat_stat\" │ 24.9825   │\n",
       "│ 7   │ \"julia\"  │ \"rand_mat_mul\"  │ 39.8831   │\n",
       "│ 8   │ \"julia\"  │ \"printfd\"       │ 27.5903   │"
      ]
     },
     "execution_count": 19,
     "metadata": {},
     "output_type": "execute_result"
    }
   ],
   "source": [
    "jl_benchmarks = jl_data[:, [:language, :benchmark, :mean_time]]"
   ]
  },
  {
   "cell_type": "code",
   "execution_count": 20,
   "metadata": {
    "collapsed": false
   },
   "outputs": [
    {
     "data": {
      "text/html": [
       "<table class=\"data-frame\"><tr><th></th><th>language</th><th>benchmark</th><th>mean_time</th></tr><tr><th>1</th><td>python</td><td>fib</td><td>2.87795066833</td></tr><tr><th>2</th><td>python</td><td>parse_int</td><td>2.0809173584</td></tr><tr><th>3</th><td>python</td><td>mandel</td><td>3.95393371582</td></tr><tr><th>4</th><td>python</td><td>quicksort</td><td>14.358997345</td></tr><tr><th>5</th><td>python</td><td>pi_sum</td><td>652.050018311</td></tr><tr><th>6</th><td>python</td><td>rand_mat_stat</td><td>125.365018845</td></tr><tr><th>7</th><td>python</td><td>rand_mat_mul</td><td>66.064119339</td></tr><tr><th>8</th><td>r</td><td>fib</td><td>16.0</td></tr><tr><th>9</th><td>r</td><td>parse_int</td><td>4.0</td></tr><tr><th>10</th><td>r</td><td>quicksort</td><td>93.0</td></tr><tr><th>11</th><td>r</td><td>mandel</td><td>12.0</td></tr><tr><th>12</th><td>r</td><td>pi_sum</td><td>332.0</td></tr><tr><th>13</th><td>r</td><td>rand_mat_stat</td><td>86.0</td></tr><tr><th>14</th><td>r</td><td>rand_mat_mul</td><td>137.0</td></tr><tr><th>15</th><td>julia</td><td>fib</td><td>0.06721</td></tr><tr><th>16</th><td>julia</td><td>parse_int</td><td>0.240393</td></tr><tr><th>17</th><td>julia</td><td>mandel</td><td>0.254343</td></tr><tr><th>18</th><td>julia</td><td>quicksort</td><td>0.442788</td></tr><tr><th>19</th><td>julia</td><td>pi_sum</td><td>26.38479</td></tr><tr><th>20</th><td>julia</td><td>rand_mat_stat</td><td>24.982474</td></tr><tr><th>21</th><td>julia</td><td>rand_mat_mul</td><td>39.883087</td></tr><tr><th>22</th><td>julia</td><td>printfd</td><td>27.590273</td></tr></table>"
      ],
      "text/plain": [
       "22x3 DataFrames.DataFrame\n",
       "│ Row │ language │ benchmark       │ mean_time │\n",
       "┝━━━━━┿━━━━━━━━━━┿━━━━━━━━━━━━━━━━━┿━━━━━━━━━━━┥\n",
       "│ 1   │ \"python\" │ \"fib\"           │ 2.87795   │\n",
       "│ 2   │ \"python\" │ \"parse_int\"     │ 2.08092   │\n",
       "│ 3   │ \"python\" │ \"mandel\"        │ 3.95393   │\n",
       "│ 4   │ \"python\" │ \"quicksort\"     │ 14.359    │\n",
       "│ 5   │ \"python\" │ \"pi_sum\"        │ 652.05    │\n",
       "│ 6   │ \"python\" │ \"rand_mat_stat\" │ 125.365   │\n",
       "│ 7   │ \"python\" │ \"rand_mat_mul\"  │ 66.0641   │\n",
       "│ 8   │ \"r\"      │ \"fib\"           │ 16.0      │\n",
       "│ 9   │ \"r\"      │ \"parse_int\"     │ 4.0       │\n",
       "│ 10  │ \"r\"      │ \"quicksort\"     │ 93.0      │\n",
       "│ 11  │ \"r\"      │ \"mandel\"        │ 12.0      │\n",
       "│ 12  │ \"r\"      │ \"pi_sum\"        │ 332.0     │\n",
       "│ 13  │ \"r\"      │ \"rand_mat_stat\" │ 86.0      │\n",
       "│ 14  │ \"r\"      │ \"rand_mat_mul\"  │ 137.0     │\n",
       "│ 15  │ \"julia\"  │ \"fib\"           │ 0.06721   │\n",
       "│ 16  │ \"julia\"  │ \"parse_int\"     │ 0.240393  │\n",
       "│ 17  │ \"julia\"  │ \"mandel\"        │ 0.254343  │\n",
       "│ 18  │ \"julia\"  │ \"quicksort\"     │ 0.442788  │\n",
       "│ 19  │ \"julia\"  │ \"pi_sum\"        │ 26.3848   │\n",
       "│ 20  │ \"julia\"  │ \"rand_mat_stat\" │ 24.9825   │\n",
       "│ 21  │ \"julia\"  │ \"rand_mat_mul\"  │ 39.8831   │\n",
       "│ 22  │ \"julia\"  │ \"printfd\"       │ 27.5903   │"
      ]
     },
     "execution_count": 20,
     "metadata": {},
     "output_type": "execute_result"
    }
   ],
   "source": [
    "benchmarks = [benchmarks; jl_benchmarks]"
   ]
  },
  {
   "cell_type": "code",
   "execution_count": 21,
   "metadata": {
    "collapsed": false
   },
   "outputs": [
    {
     "data": {
      "image/svg+xml": [
       "<?xml version=\"1.0\" encoding=\"UTF-8\"?>\n",
       "<svg xmlns=\"http://www.w3.org/2000/svg\"\n",
       "     xmlns:xlink=\"http://www.w3.org/1999/xlink\"\n",
       "     xmlns:gadfly=\"http://www.gadflyjl.org/ns\"\n",
       "     version=\"1.2\"\n",
       "     width=\"203.2mm\" height=\"125.58mm\" viewBox=\"0 0 203.2 125.58\"\n",
       "     stroke=\"none\"\n",
       "     fill=\"#000000\"\n",
       "     stroke-width=\"0.3\"\n",
       "     font-size=\"3.88\"\n",
       ">\n",
       "<g class=\"plotroot yscalable\" id=\"img-a54b6a80-1\">\n",
       "  <g class=\"guide xlabels\" font-size=\"2.82\" font-family=\"Georgia\" fill=\"#6C606B\" id=\"img-a54b6a80-2\">\n",
       "    <text x=\"40.09\" y=\"116.95\" text-anchor=\"middle\" dy=\"0.6em\">python</text>\n",
       "    <text x=\"95\" y=\"116.95\" text-anchor=\"middle\" dy=\"0.6em\">r</text>\n",
       "    <text x=\"149.91\" y=\"116.95\" text-anchor=\"middle\" dy=\"0.6em\">julia</text>\n",
       "  </g>\n",
       "  <g class=\"guide colorkey\" id=\"img-a54b6a80-3\">\n",
       "    <g fill=\"#4C404B\" font-size=\"2.82\" font-family=\"'PT Sans','Helvetica Neue','Helvetica',sans-serif\" id=\"img-a54b6a80-4\">\n",
       "      <text x=\"181.18\" y=\"49.6\" dy=\"0.35em\" id=\"img-a54b6a80-5\" class=\"color_fib\">fib</text>\n",
       "      <text x=\"181.18\" y=\"53.22\" dy=\"0.35em\" id=\"img-a54b6a80-6\" class=\"color_parse_int\">parse_int</text>\n",
       "      <text x=\"181.18\" y=\"56.85\" dy=\"0.35em\" id=\"img-a54b6a80-7\" class=\"color_mandel\">mandel</text>\n",
       "      <text x=\"181.18\" y=\"60.48\" dy=\"0.35em\" id=\"img-a54b6a80-8\" class=\"color_quicksort\">quicksort</text>\n",
       "      <text x=\"181.18\" y=\"64.1\" dy=\"0.35em\" id=\"img-a54b6a80-9\" class=\"color_pi_sum\">pi_sum</text>\n",
       "      <text x=\"181.18\" y=\"67.73\" dy=\"0.35em\" id=\"img-a54b6a80-10\" class=\"color_rand_mat_stat\">rand_mat_stat</text>\n",
       "      <text x=\"181.18\" y=\"71.36\" dy=\"0.35em\" id=\"img-a54b6a80-11\" class=\"color_rand_mat_mul\">rand_mat_mul</text>\n",
       "      <text x=\"181.18\" y=\"74.98\" dy=\"0.35em\" id=\"img-a54b6a80-12\" class=\"color_printfd\">printfd</text>\n",
       "    </g>\n",
       "    <g stroke=\"#000000\" stroke-opacity=\"0.000\" id=\"img-a54b6a80-13\">\n",
       "      <use xlink:href=\"#img-a54b6a80-14\" x=\"179.18\" y=\"49.6\" id=\"img-a54b6a80-15\" class=\"color_fib\" fill=\"#00BFFF\"/>\n",
       "      <use xlink:href=\"#img-a54b6a80-14\" x=\"179.18\" y=\"53.22\" id=\"img-a54b6a80-16\" class=\"color_parse_int\" fill=\"#D4CA3A\"/>\n",
       "      <use xlink:href=\"#img-a54b6a80-14\" x=\"179.18\" y=\"56.85\" id=\"img-a54b6a80-17\" class=\"color_mandel\" fill=\"#FF6DAE\"/>\n",
       "      <use xlink:href=\"#img-a54b6a80-14\" x=\"179.18\" y=\"60.48\" id=\"img-a54b6a80-18\" class=\"color_quicksort\" fill=\"#00B78D\"/>\n",
       "      <use xlink:href=\"#img-a54b6a80-14\" x=\"179.18\" y=\"64.1\" id=\"img-a54b6a80-19\" class=\"color_pi_sum\" fill=\"#BEA9FF\"/>\n",
       "      <use xlink:href=\"#img-a54b6a80-14\" x=\"179.18\" y=\"67.73\" id=\"img-a54b6a80-20\" class=\"color_rand_mat_stat\" fill=\"#FF6765\"/>\n",
       "      <use xlink:href=\"#img-a54b6a80-14\" x=\"179.18\" y=\"71.36\" id=\"img-a54b6a80-21\" class=\"color_rand_mat_mul\" fill=\"#C6C6C6\"/>\n",
       "      <use xlink:href=\"#img-a54b6a80-14\" x=\"179.18\" y=\"74.98\" id=\"img-a54b6a80-22\" class=\"color_printfd\" fill=\"#63DF75\"/>\n",
       "    </g>\n",
       "    <g fill=\"#362A35\" font-size=\"3.88\" font-family=\"'PT Sans','Helvetica Neue','Helvetica',sans-serif\" stroke=\"#000000\" stroke-opacity=\"0.000\" id=\"img-a54b6a80-23\">\n",
       "      <text x=\"178.37\" y=\"45.77\" id=\"img-a54b6a80-24\">benchmark</text>\n",
       "    </g>\n",
       "  </g>\n",
       "<g clip-path=\"url(#img-a54b6a80-25)\">\n",
       "  <g id=\"img-a54b6a80-26\">\n",
       "    <g pointer-events=\"visible\" opacity=\"1\" fill=\"#000000\" fill-opacity=\"0.000\" stroke=\"#000000\" stroke-opacity=\"0.000\" class=\"guide background\" id=\"img-a54b6a80-27\">\n",
       "      <rect x=\"12.64\" y=\"5\" width=\"164.73\" height=\"110.95\" id=\"img-a54b6a80-28\"/>\n",
       "    </g>\n",
       "    <g class=\"guide ygridlines xfixed\" stroke-dasharray=\"0.5,0.5\" stroke-width=\"0.2\" stroke=\"#D0D0E0\" id=\"img-a54b6a80-29\">\n",
       "      <path fill=\"none\" d=\"M12.64,113.95 L 177.37 113.95\" id=\"img-a54b6a80-30\"/>\n",
       "      <path fill=\"none\" d=\"M12.64,92.56 L 177.37 92.56\" id=\"img-a54b6a80-31\"/>\n",
       "      <path fill=\"none\" d=\"M12.64,71.17 L 177.37 71.17\" id=\"img-a54b6a80-32\"/>\n",
       "      <path fill=\"none\" d=\"M12.64,49.78 L 177.37 49.78\" id=\"img-a54b6a80-33\"/>\n",
       "      <path fill=\"none\" d=\"M12.64,28.39 L 177.37 28.39\" id=\"img-a54b6a80-34\"/>\n",
       "      <path fill=\"none\" d=\"M12.64,7 L 177.37 7\" id=\"img-a54b6a80-35\"/>\n",
       "    </g>\n",
       "    <g class=\"guide xgridlines yfixed\" stroke-dasharray=\"0.5,0.5\" stroke-width=\"0.2\" stroke=\"#D0D0E0\" id=\"img-a54b6a80-36\">\n",
       "      <path fill=\"none\" d=\"M67.55,5 L 67.55 115.95\" id=\"img-a54b6a80-37\"/>\n",
       "      <path fill=\"none\" d=\"M122.46,5 L 122.46 115.95\" id=\"img-a54b6a80-38\"/>\n",
       "    </g>\n",
       "    <g class=\"plotpanel\" id=\"img-a54b6a80-39\">\n",
       "      <g class=\"geometry\" id=\"img-a54b6a80-40\">\n",
       "        <g stroke-width=\"0.3\" id=\"img-a54b6a80-41\">\n",
       "          <use xlink:href=\"#img-a54b6a80-42\" x=\"40.09\" y=\"61.35\" id=\"img-a54b6a80-43\" class=\"color_fib\" stroke=\"#FFFFFF\" fill=\"#00BFFF\"/>\n",
       "          <use xlink:href=\"#img-a54b6a80-42\" x=\"40.09\" y=\"64.36\" id=\"img-a54b6a80-44\" class=\"color_parse_int\" stroke=\"#FFFFFF\" fill=\"#D4CA3A\"/>\n",
       "          <use xlink:href=\"#img-a54b6a80-42\" x=\"40.09\" y=\"58.4\" id=\"img-a54b6a80-45\" class=\"color_mandel\" stroke=\"#FFFFFF\" fill=\"#FF6DAE\"/>\n",
       "          <use xlink:href=\"#img-a54b6a80-42\" x=\"40.09\" y=\"46.42\" id=\"img-a54b6a80-46\" class=\"color_quicksort\" stroke=\"#FFFFFF\" fill=\"#00B78D\"/>\n",
       "          <use xlink:href=\"#img-a54b6a80-42\" x=\"40.09\" y=\"10.97\" id=\"img-a54b6a80-47\" class=\"color_pi_sum\" stroke=\"#FFFFFF\" fill=\"#BEA9FF\"/>\n",
       "          <use xlink:href=\"#img-a54b6a80-42\" x=\"40.09\" y=\"26.29\" id=\"img-a54b6a80-48\" class=\"color_rand_mat_stat\" stroke=\"#FFFFFF\" fill=\"#FF6765\"/>\n",
       "          <use xlink:href=\"#img-a54b6a80-42\" x=\"40.09\" y=\"32.24\" id=\"img-a54b6a80-49\" class=\"color_rand_mat_mul\" stroke=\"#FFFFFF\" fill=\"#C6C6C6\"/>\n",
       "          <use xlink:href=\"#img-a54b6a80-42\" x=\"95\" y=\"45.41\" id=\"img-a54b6a80-50\" class=\"color_fib\" stroke=\"#FFFFFF\" fill=\"#00BFFF\"/>\n",
       "          <use xlink:href=\"#img-a54b6a80-42\" x=\"95\" y=\"58.29\" id=\"img-a54b6a80-51\" class=\"color_parse_int\" stroke=\"#FFFFFF\" fill=\"#D4CA3A\"/>\n",
       "          <use xlink:href=\"#img-a54b6a80-42\" x=\"95\" y=\"29.06\" id=\"img-a54b6a80-52\" class=\"color_quicksort\" stroke=\"#FFFFFF\" fill=\"#00B78D\"/>\n",
       "          <use xlink:href=\"#img-a54b6a80-42\" x=\"95\" y=\"48.09\" id=\"img-a54b6a80-53\" class=\"color_mandel\" stroke=\"#FFFFFF\" fill=\"#FF6DAE\"/>\n",
       "          <use xlink:href=\"#img-a54b6a80-42\" x=\"95\" y=\"17.24\" id=\"img-a54b6a80-54\" class=\"color_pi_sum\" stroke=\"#FFFFFF\" fill=\"#BEA9FF\"/>\n",
       "          <use xlink:href=\"#img-a54b6a80-42\" x=\"95\" y=\"29.79\" id=\"img-a54b6a80-55\" class=\"color_rand_mat_stat\" stroke=\"#FFFFFF\" fill=\"#FF6765\"/>\n",
       "          <use xlink:href=\"#img-a54b6a80-42\" x=\"95\" y=\"25.47\" id=\"img-a54b6a80-56\" class=\"color_rand_mat_mul\" stroke=\"#FFFFFF\" fill=\"#C6C6C6\"/>\n",
       "          <use xlink:href=\"#img-a54b6a80-42\" x=\"149.91\" y=\"96.25\" id=\"img-a54b6a80-57\" class=\"color_fib\" stroke=\"#FFFFFF\" fill=\"#00BFFF\"/>\n",
       "          <use xlink:href=\"#img-a54b6a80-42\" x=\"149.91\" y=\"84.41\" id=\"img-a54b6a80-58\" class=\"color_parse_int\" stroke=\"#FFFFFF\" fill=\"#D4CA3A\"/>\n",
       "          <use xlink:href=\"#img-a54b6a80-42\" x=\"149.91\" y=\"83.89\" id=\"img-a54b6a80-59\" class=\"color_mandel\" stroke=\"#FFFFFF\" fill=\"#FF6DAE\"/>\n",
       "          <use xlink:href=\"#img-a54b6a80-42\" x=\"149.91\" y=\"78.74\" id=\"img-a54b6a80-60\" class=\"color_quicksort\" stroke=\"#FFFFFF\" fill=\"#00B78D\"/>\n",
       "          <use xlink:href=\"#img-a54b6a80-42\" x=\"149.91\" y=\"40.77\" id=\"img-a54b6a80-61\" class=\"color_pi_sum\" stroke=\"#FFFFFF\" fill=\"#BEA9FF\"/>\n",
       "          <use xlink:href=\"#img-a54b6a80-42\" x=\"149.91\" y=\"41.27\" id=\"img-a54b6a80-62\" class=\"color_rand_mat_stat\" stroke=\"#FFFFFF\" fill=\"#FF6765\"/>\n",
       "          <use xlink:href=\"#img-a54b6a80-42\" x=\"149.91\" y=\"36.93\" id=\"img-a54b6a80-63\" class=\"color_rand_mat_mul\" stroke=\"#FFFFFF\" fill=\"#C6C6C6\"/>\n",
       "          <use xlink:href=\"#img-a54b6a80-42\" x=\"149.91\" y=\"40.35\" id=\"img-a54b6a80-64\" class=\"color_printfd\" stroke=\"#FFFFFF\" fill=\"#63DF75\"/>\n",
       "        </g>\n",
       "      </g>\n",
       "    </g>\n",
       "  </g>\n",
       "</g>\n",
       "  <g class=\"guide ylabels\" font-size=\"2.82\" font-family=\"Georgia\" fill=\"#6C606B\" id=\"img-a54b6a80-65\">\n",
       "    <text x=\"11.64\" y=\"113.95\" text-anchor=\"end\" dy=\"0.35em\" id=\"img-a54b6a80-66\">10<tspan style=\"dominant-baseline:inherit\" dy=\"-0.6em\" font-size=\"83%\">-2</tspan><tspan dy=\"0.498000em\"></tspan></text>\n",
       "    <text x=\"11.64\" y=\"92.56\" text-anchor=\"end\" dy=\"0.35em\" id=\"img-a54b6a80-67\">10<tspan style=\"dominant-baseline:inherit\" dy=\"-0.6em\" font-size=\"83%\">-1</tspan><tspan dy=\"0.498000em\"></tspan></text>\n",
       "    <text x=\"11.64\" y=\"71.17\" text-anchor=\"end\" dy=\"0.35em\" id=\"img-a54b6a80-68\">10<tspan style=\"dominant-baseline:inherit\" dy=\"-0.6em\" font-size=\"83%\">0</tspan><tspan dy=\"0.498000em\"></tspan></text>\n",
       "    <text x=\"11.64\" y=\"49.78\" text-anchor=\"end\" dy=\"0.35em\" id=\"img-a54b6a80-69\">10<tspan style=\"dominant-baseline:inherit\" dy=\"-0.6em\" font-size=\"83%\">1</tspan><tspan dy=\"0.498000em\"></tspan></text>\n",
       "    <text x=\"11.64\" y=\"28.39\" text-anchor=\"end\" dy=\"0.35em\" id=\"img-a54b6a80-70\">10<tspan style=\"dominant-baseline:inherit\" dy=\"-0.6em\" font-size=\"83%\">2</tspan><tspan dy=\"0.498000em\"></tspan></text>\n",
       "    <text x=\"11.64\" y=\"7\" text-anchor=\"end\" dy=\"0.35em\" id=\"img-a54b6a80-71\">10<tspan style=\"dominant-baseline:inherit\" dy=\"-0.6em\" font-size=\"83%\">3</tspan><tspan dy=\"0.498000em\"></tspan></text>\n",
       "  </g>\n",
       "</g>\n",
       "<defs>\n",
       "  <clipPath id=\"img-a54b6a80-25\">\n",
       "  <path d=\"M12.64,5 L 177.37 5 177.37 115.95 12.64 115.95\" />\n",
       "</clipPath>\n",
       "  <g id=\"img-a54b6a80-14\">\n",
       "    <circle cx=\"0\" cy=\"0\" r=\"0.91\" id=\"img-a54b6a80-72\"/>\n",
       "  </g>\n",
       "  <g id=\"img-a54b6a80-42\">\n",
       "    <circle cx=\"0\" cy=\"0\" r=\"1\" id=\"img-a54b6a80-73\"/>\n",
       "  </g>\n",
       "</defs>\n",
       "</svg>\n"
      ],
      "text/html": [
       "<?xml version=\"1.0\" encoding=\"UTF-8\"?>\n",
       "<svg xmlns=\"http://www.w3.org/2000/svg\"\n",
       "     xmlns:xlink=\"http://www.w3.org/1999/xlink\"\n",
       "     xmlns:gadfly=\"http://www.gadflyjl.org/ns\"\n",
       "     version=\"1.2\"\n",
       "     width=\"203.2mm\" height=\"125.58mm\" viewBox=\"0 0 203.2 125.58\"\n",
       "     stroke=\"none\"\n",
       "     fill=\"#000000\"\n",
       "     stroke-width=\"0.3\"\n",
       "     font-size=\"3.88\"\n",
       ">\n",
       "<g class=\"plotroot yscalable\" id=\"img-a54b6a80-1\">\n",
       "  <g class=\"guide xlabels\" font-size=\"2.82\" font-family=\"Georgia\" fill=\"#6C606B\" id=\"img-a54b6a80-2\">\n",
       "    <text x=\"40.09\" y=\"116.95\" text-anchor=\"middle\" dy=\"0.6em\">python</text>\n",
       "    <text x=\"95\" y=\"116.95\" text-anchor=\"middle\" dy=\"0.6em\">r</text>\n",
       "    <text x=\"149.91\" y=\"116.95\" text-anchor=\"middle\" dy=\"0.6em\">julia</text>\n",
       "  </g>\n",
       "  <g class=\"guide colorkey\" id=\"img-a54b6a80-3\">\n",
       "    <g fill=\"#4C404B\" font-size=\"2.82\" font-family=\"'PT Sans','Helvetica Neue','Helvetica',sans-serif\" id=\"img-a54b6a80-4\">\n",
       "      <text x=\"181.18\" y=\"49.6\" dy=\"0.35em\" id=\"img-a54b6a80-5\" class=\"color_fib\">fib</text>\n",
       "      <text x=\"181.18\" y=\"53.22\" dy=\"0.35em\" id=\"img-a54b6a80-6\" class=\"color_parse_int\">parse_int</text>\n",
       "      <text x=\"181.18\" y=\"56.85\" dy=\"0.35em\" id=\"img-a54b6a80-7\" class=\"color_mandel\">mandel</text>\n",
       "      <text x=\"181.18\" y=\"60.48\" dy=\"0.35em\" id=\"img-a54b6a80-8\" class=\"color_quicksort\">quicksort</text>\n",
       "      <text x=\"181.18\" y=\"64.1\" dy=\"0.35em\" id=\"img-a54b6a80-9\" class=\"color_pi_sum\">pi_sum</text>\n",
       "      <text x=\"181.18\" y=\"67.73\" dy=\"0.35em\" id=\"img-a54b6a80-10\" class=\"color_rand_mat_stat\">rand_mat_stat</text>\n",
       "      <text x=\"181.18\" y=\"71.36\" dy=\"0.35em\" id=\"img-a54b6a80-11\" class=\"color_rand_mat_mul\">rand_mat_mul</text>\n",
       "      <text x=\"181.18\" y=\"74.98\" dy=\"0.35em\" id=\"img-a54b6a80-12\" class=\"color_printfd\">printfd</text>\n",
       "    </g>\n",
       "    <g stroke=\"#000000\" stroke-opacity=\"0.000\" id=\"img-a54b6a80-13\">\n",
       "      <use xlink:href=\"#img-a54b6a80-14\" x=\"179.18\" y=\"49.6\" id=\"img-a54b6a80-15\" class=\"color_fib\" fill=\"#00BFFF\"/>\n",
       "      <use xlink:href=\"#img-a54b6a80-14\" x=\"179.18\" y=\"53.22\" id=\"img-a54b6a80-16\" class=\"color_parse_int\" fill=\"#D4CA3A\"/>\n",
       "      <use xlink:href=\"#img-a54b6a80-14\" x=\"179.18\" y=\"56.85\" id=\"img-a54b6a80-17\" class=\"color_mandel\" fill=\"#FF6DAE\"/>\n",
       "      <use xlink:href=\"#img-a54b6a80-14\" x=\"179.18\" y=\"60.48\" id=\"img-a54b6a80-18\" class=\"color_quicksort\" fill=\"#00B78D\"/>\n",
       "      <use xlink:href=\"#img-a54b6a80-14\" x=\"179.18\" y=\"64.1\" id=\"img-a54b6a80-19\" class=\"color_pi_sum\" fill=\"#BEA9FF\"/>\n",
       "      <use xlink:href=\"#img-a54b6a80-14\" x=\"179.18\" y=\"67.73\" id=\"img-a54b6a80-20\" class=\"color_rand_mat_stat\" fill=\"#FF6765\"/>\n",
       "      <use xlink:href=\"#img-a54b6a80-14\" x=\"179.18\" y=\"71.36\" id=\"img-a54b6a80-21\" class=\"color_rand_mat_mul\" fill=\"#C6C6C6\"/>\n",
       "      <use xlink:href=\"#img-a54b6a80-14\" x=\"179.18\" y=\"74.98\" id=\"img-a54b6a80-22\" class=\"color_printfd\" fill=\"#63DF75\"/>\n",
       "    </g>\n",
       "    <g fill=\"#362A35\" font-size=\"3.88\" font-family=\"'PT Sans','Helvetica Neue','Helvetica',sans-serif\" stroke=\"#000000\" stroke-opacity=\"0.000\" id=\"img-a54b6a80-23\">\n",
       "      <text x=\"178.37\" y=\"45.77\" id=\"img-a54b6a80-24\">benchmark</text>\n",
       "    </g>\n",
       "  </g>\n",
       "<g clip-path=\"url(#img-a54b6a80-25)\">\n",
       "  <g id=\"img-a54b6a80-26\">\n",
       "    <g pointer-events=\"visible\" opacity=\"1\" fill=\"#000000\" fill-opacity=\"0.000\" stroke=\"#000000\" stroke-opacity=\"0.000\" class=\"guide background\" id=\"img-a54b6a80-27\">\n",
       "      <rect x=\"12.64\" y=\"5\" width=\"164.73\" height=\"110.95\" id=\"img-a54b6a80-28\"/>\n",
       "    </g>\n",
       "    <g class=\"guide ygridlines xfixed\" stroke-dasharray=\"0.5,0.5\" stroke-width=\"0.2\" stroke=\"#D0D0E0\" id=\"img-a54b6a80-29\">\n",
       "      <path fill=\"none\" d=\"M12.64,113.95 L 177.37 113.95\" id=\"img-a54b6a80-30\"/>\n",
       "      <path fill=\"none\" d=\"M12.64,92.56 L 177.37 92.56\" id=\"img-a54b6a80-31\"/>\n",
       "      <path fill=\"none\" d=\"M12.64,71.17 L 177.37 71.17\" id=\"img-a54b6a80-32\"/>\n",
       "      <path fill=\"none\" d=\"M12.64,49.78 L 177.37 49.78\" id=\"img-a54b6a80-33\"/>\n",
       "      <path fill=\"none\" d=\"M12.64,28.39 L 177.37 28.39\" id=\"img-a54b6a80-34\"/>\n",
       "      <path fill=\"none\" d=\"M12.64,7 L 177.37 7\" id=\"img-a54b6a80-35\"/>\n",
       "    </g>\n",
       "    <g class=\"guide xgridlines yfixed\" stroke-dasharray=\"0.5,0.5\" stroke-width=\"0.2\" stroke=\"#D0D0E0\" id=\"img-a54b6a80-36\">\n",
       "      <path fill=\"none\" d=\"M67.55,5 L 67.55 115.95\" id=\"img-a54b6a80-37\"/>\n",
       "      <path fill=\"none\" d=\"M122.46,5 L 122.46 115.95\" id=\"img-a54b6a80-38\"/>\n",
       "    </g>\n",
       "    <g class=\"plotpanel\" id=\"img-a54b6a80-39\">\n",
       "      <g class=\"geometry\" id=\"img-a54b6a80-40\">\n",
       "        <g stroke-width=\"0.3\" id=\"img-a54b6a80-41\">\n",
       "          <use xlink:href=\"#img-a54b6a80-42\" x=\"40.09\" y=\"61.35\" id=\"img-a54b6a80-43\" class=\"color_fib\" stroke=\"#FFFFFF\" fill=\"#00BFFF\"/>\n",
       "          <use xlink:href=\"#img-a54b6a80-42\" x=\"40.09\" y=\"64.36\" id=\"img-a54b6a80-44\" class=\"color_parse_int\" stroke=\"#FFFFFF\" fill=\"#D4CA3A\"/>\n",
       "          <use xlink:href=\"#img-a54b6a80-42\" x=\"40.09\" y=\"58.4\" id=\"img-a54b6a80-45\" class=\"color_mandel\" stroke=\"#FFFFFF\" fill=\"#FF6DAE\"/>\n",
       "          <use xlink:href=\"#img-a54b6a80-42\" x=\"40.09\" y=\"46.42\" id=\"img-a54b6a80-46\" class=\"color_quicksort\" stroke=\"#FFFFFF\" fill=\"#00B78D\"/>\n",
       "          <use xlink:href=\"#img-a54b6a80-42\" x=\"40.09\" y=\"10.97\" id=\"img-a54b6a80-47\" class=\"color_pi_sum\" stroke=\"#FFFFFF\" fill=\"#BEA9FF\"/>\n",
       "          <use xlink:href=\"#img-a54b6a80-42\" x=\"40.09\" y=\"26.29\" id=\"img-a54b6a80-48\" class=\"color_rand_mat_stat\" stroke=\"#FFFFFF\" fill=\"#FF6765\"/>\n",
       "          <use xlink:href=\"#img-a54b6a80-42\" x=\"40.09\" y=\"32.24\" id=\"img-a54b6a80-49\" class=\"color_rand_mat_mul\" stroke=\"#FFFFFF\" fill=\"#C6C6C6\"/>\n",
       "          <use xlink:href=\"#img-a54b6a80-42\" x=\"95\" y=\"45.41\" id=\"img-a54b6a80-50\" class=\"color_fib\" stroke=\"#FFFFFF\" fill=\"#00BFFF\"/>\n",
       "          <use xlink:href=\"#img-a54b6a80-42\" x=\"95\" y=\"58.29\" id=\"img-a54b6a80-51\" class=\"color_parse_int\" stroke=\"#FFFFFF\" fill=\"#D4CA3A\"/>\n",
       "          <use xlink:href=\"#img-a54b6a80-42\" x=\"95\" y=\"29.06\" id=\"img-a54b6a80-52\" class=\"color_quicksort\" stroke=\"#FFFFFF\" fill=\"#00B78D\"/>\n",
       "          <use xlink:href=\"#img-a54b6a80-42\" x=\"95\" y=\"48.09\" id=\"img-a54b6a80-53\" class=\"color_mandel\" stroke=\"#FFFFFF\" fill=\"#FF6DAE\"/>\n",
       "          <use xlink:href=\"#img-a54b6a80-42\" x=\"95\" y=\"17.24\" id=\"img-a54b6a80-54\" class=\"color_pi_sum\" stroke=\"#FFFFFF\" fill=\"#BEA9FF\"/>\n",
       "          <use xlink:href=\"#img-a54b6a80-42\" x=\"95\" y=\"29.79\" id=\"img-a54b6a80-55\" class=\"color_rand_mat_stat\" stroke=\"#FFFFFF\" fill=\"#FF6765\"/>\n",
       "          <use xlink:href=\"#img-a54b6a80-42\" x=\"95\" y=\"25.47\" id=\"img-a54b6a80-56\" class=\"color_rand_mat_mul\" stroke=\"#FFFFFF\" fill=\"#C6C6C6\"/>\n",
       "          <use xlink:href=\"#img-a54b6a80-42\" x=\"149.91\" y=\"96.25\" id=\"img-a54b6a80-57\" class=\"color_fib\" stroke=\"#FFFFFF\" fill=\"#00BFFF\"/>\n",
       "          <use xlink:href=\"#img-a54b6a80-42\" x=\"149.91\" y=\"84.41\" id=\"img-a54b6a80-58\" class=\"color_parse_int\" stroke=\"#FFFFFF\" fill=\"#D4CA3A\"/>\n",
       "          <use xlink:href=\"#img-a54b6a80-42\" x=\"149.91\" y=\"83.89\" id=\"img-a54b6a80-59\" class=\"color_mandel\" stroke=\"#FFFFFF\" fill=\"#FF6DAE\"/>\n",
       "          <use xlink:href=\"#img-a54b6a80-42\" x=\"149.91\" y=\"78.74\" id=\"img-a54b6a80-60\" class=\"color_quicksort\" stroke=\"#FFFFFF\" fill=\"#00B78D\"/>\n",
       "          <use xlink:href=\"#img-a54b6a80-42\" x=\"149.91\" y=\"40.77\" id=\"img-a54b6a80-61\" class=\"color_pi_sum\" stroke=\"#FFFFFF\" fill=\"#BEA9FF\"/>\n",
       "          <use xlink:href=\"#img-a54b6a80-42\" x=\"149.91\" y=\"41.27\" id=\"img-a54b6a80-62\" class=\"color_rand_mat_stat\" stroke=\"#FFFFFF\" fill=\"#FF6765\"/>\n",
       "          <use xlink:href=\"#img-a54b6a80-42\" x=\"149.91\" y=\"36.93\" id=\"img-a54b6a80-63\" class=\"color_rand_mat_mul\" stroke=\"#FFFFFF\" fill=\"#C6C6C6\"/>\n",
       "          <use xlink:href=\"#img-a54b6a80-42\" x=\"149.91\" y=\"40.35\" id=\"img-a54b6a80-64\" class=\"color_printfd\" stroke=\"#FFFFFF\" fill=\"#63DF75\"/>\n",
       "        </g>\n",
       "      </g>\n",
       "    </g>\n",
       "  </g>\n",
       "</g>\n",
       "  <g class=\"guide ylabels\" font-size=\"2.82\" font-family=\"Georgia\" fill=\"#6C606B\" id=\"img-a54b6a80-65\">\n",
       "    <text x=\"11.64\" y=\"113.95\" text-anchor=\"end\" dy=\"0.35em\" id=\"img-a54b6a80-66\">10<tspan style=\"dominant-baseline:inherit\" dy=\"-0.6em\" font-size=\"83%\">-2</tspan><tspan dy=\"0.498000em\"></tspan></text>\n",
       "    <text x=\"11.64\" y=\"92.56\" text-anchor=\"end\" dy=\"0.35em\" id=\"img-a54b6a80-67\">10<tspan style=\"dominant-baseline:inherit\" dy=\"-0.6em\" font-size=\"83%\">-1</tspan><tspan dy=\"0.498000em\"></tspan></text>\n",
       "    <text x=\"11.64\" y=\"71.17\" text-anchor=\"end\" dy=\"0.35em\" id=\"img-a54b6a80-68\">10<tspan style=\"dominant-baseline:inherit\" dy=\"-0.6em\" font-size=\"83%\">0</tspan><tspan dy=\"0.498000em\"></tspan></text>\n",
       "    <text x=\"11.64\" y=\"49.78\" text-anchor=\"end\" dy=\"0.35em\" id=\"img-a54b6a80-69\">10<tspan style=\"dominant-baseline:inherit\" dy=\"-0.6em\" font-size=\"83%\">1</tspan><tspan dy=\"0.498000em\"></tspan></text>\n",
       "    <text x=\"11.64\" y=\"28.39\" text-anchor=\"end\" dy=\"0.35em\" id=\"img-a54b6a80-70\">10<tspan style=\"dominant-baseline:inherit\" dy=\"-0.6em\" font-size=\"83%\">2</tspan><tspan dy=\"0.498000em\"></tspan></text>\n",
       "    <text x=\"11.64\" y=\"7\" text-anchor=\"end\" dy=\"0.35em\" id=\"img-a54b6a80-71\">10<tspan style=\"dominant-baseline:inherit\" dy=\"-0.6em\" font-size=\"83%\">3</tspan><tspan dy=\"0.498000em\"></tspan></text>\n",
       "  </g>\n",
       "</g>\n",
       "<defs>\n",
       "  <clipPath id=\"img-a54b6a80-25\">\n",
       "  <path d=\"M12.64,5 L 177.37 5 177.37 115.95 12.64 115.95\" />\n",
       "</clipPath>\n",
       "  <g id=\"img-a54b6a80-14\">\n",
       "    <circle cx=\"0\" cy=\"0\" r=\"0.91\" id=\"img-a54b6a80-72\"/>\n",
       "  </g>\n",
       "  <g id=\"img-a54b6a80-42\">\n",
       "    <circle cx=\"0\" cy=\"0\" r=\"1\" id=\"img-a54b6a80-73\"/>\n",
       "  </g>\n",
       "</defs>\n",
       "</svg>\n"
      ],
      "text/plain": [
       "Compose.SVG(203.2mm,125.58450651397862mm,IOBuffer(data=UInt8[...], readable=true, writable=true, seekable=true, append=false, size=9222, maxsize=Inf, ptr=9223, mark=-1),nothing,\"img-a54b6a80\",0,Compose.SVGPropertyFrame[],Dict{Type{T},Union{Compose.Property{P<:Compose.PropertyPrimitive},Void}}(Compose.Property{Compose.JSCallPrimitive}=>nothing,Compose.Property{Compose.SVGClassPrimitive}=>nothing,Compose.Property{Compose.StrokePrimitive}=>nothing,Compose.Property{Compose.FillPrimitive}=>nothing),Dict{Compose.ClipPrimitive{P<:NTuple{N,Measures.Measure}},ASCIIString}(Compose.ClipPrimitive{Tuple{Measures.Length{:mm,Float64},Measures.Length{:mm,Float64}}}([(12.640000000000015mm,5.0mm),(177.36666666666667mm,5.0mm),(177.36666666666667mm,115.9511731806453mm),(12.640000000000015mm,115.9511731806453mm)])=>\"img-a54b6a80-25\"),Tuple{Compose.FormPrimitive,ASCIIString}[(Compose.CirclePrimitive{Tuple{Measures.Length{:mm,Float64},Measures.Length{:mm,Float64}},Measures.Length{:mm,Float64}}((0.0mm,0.0mm),0.9066666666666667mm),\"img-a54b6a80-14\"),(Compose.CirclePrimitive{Tuple{Measures.Length{:mm,Float64},Measures.Length{:mm,Float64}},Measures.Length{:mm,Float64}}((0.0mm,0.0mm),1.0mm),\"img-a54b6a80-42\")],Set{AbstractString}(),true,false,nothing,true,\"img-a54b6a80-73\",false,73,AbstractString[\"/Users/utensil/.julia/v0.4/Gadfly/src/gadfly.js\"],Tuple{AbstractString,AbstractString}[(\"Snap.svg\",\"Snap\"),(\"Gadfly\",\"Gadfly\")],AbstractString[\"fig.select(\\\"#img-a54b6a80-3\\\")\\n   .drag(function() {}, function() {}, function() {});\",\"fig.select(\\\"#img-a54b6a80-5\\\")\\n   .data(\\\"color_class\\\", \\\"color_fib\\\")\\n.click(Gadfly.colorkey_swatch_click)\\n;\",\"fig.select(\\\"#img-a54b6a80-6\\\")\\n   .data(\\\"color_class\\\", \\\"color_parse_int\\\")\\n.click(Gadfly.colorkey_swatch_click)\\n;\",\"fig.select(\\\"#img-a54b6a80-7\\\")\\n   .data(\\\"color_class\\\", \\\"color_mandel\\\")\\n.click(Gadfly.colorkey_swatch_click)\\n;\",\"fig.select(\\\"#img-a54b6a80-8\\\")\\n   .data(\\\"color_class\\\", \\\"color_quicksort\\\")\\n.click(Gadfly.colorkey_swatch_click)\\n;\",\"fig.select(\\\"#img-a54b6a80-9\\\")\\n   .data(\\\"color_class\\\", \\\"color_pi_sum\\\")\\n.click(Gadfly.colorkey_swatch_click)\\n;\",\"fig.select(\\\"#img-a54b6a80-10\\\")\\n   .data(\\\"color_class\\\", \\\"color_rand_mat_stat\\\")\\n.click(Gadfly.colorkey_swatch_click)\\n;\",\"fig.select(\\\"#img-a54b6a80-11\\\")\\n   .data(\\\"color_class\\\", \\\"color_rand_mat_mul\\\")\\n.click(Gadfly.colorkey_swatch_click)\\n;\",\"fig.select(\\\"#img-a54b6a80-12\\\")\\n   .data(\\\"color_class\\\", \\\"color_printfd\\\")\\n.click(Gadfly.colorkey_swatch_click)\\n;\",\"fig.select(\\\"#img-a54b6a80-15\\\")\\n   .data(\\\"color_class\\\", \\\"color_fib\\\")\\n.click(Gadfly.colorkey_swatch_click)\\n;\",\"fig.select(\\\"#img-a54b6a80-16\\\")\\n   .data(\\\"color_class\\\", \\\"color_parse_int\\\")\\n.click(Gadfly.colorkey_swatch_click)\\n;\",\"fig.select(\\\"#img-a54b6a80-17\\\")\\n   .data(\\\"color_class\\\", \\\"color_mandel\\\")\\n.click(Gadfly.colorkey_swatch_click)\\n;\",\"fig.select(\\\"#img-a54b6a80-18\\\")\\n   .data(\\\"color_class\\\", \\\"color_quicksort\\\")\\n.click(Gadfly.colorkey_swatch_click)\\n;\",\"fig.select(\\\"#img-a54b6a80-19\\\")\\n   .data(\\\"color_class\\\", \\\"color_pi_sum\\\")\\n.click(Gadfly.colorkey_swatch_click)\\n;\",\"fig.select(\\\"#img-a54b6a80-20\\\")\\n   .data(\\\"color_class\\\", \\\"color_rand_mat_stat\\\")\\n.click(Gadfly.colorkey_swatch_click)\\n;\",\"fig.select(\\\"#img-a54b6a80-21\\\")\\n   .data(\\\"color_class\\\", \\\"color_rand_mat_mul\\\")\\n.click(Gadfly.colorkey_swatch_click)\\n;\",\"fig.select(\\\"#img-a54b6a80-22\\\")\\n   .data(\\\"color_class\\\", \\\"color_printfd\\\")\\n.click(Gadfly.colorkey_swatch_click)\\n;\",\"fig.select(\\\"#img-a54b6a80-26\\\")\\n   .init_gadfly();\"],false,:none)"
      ]
     },
     "metadata": {},
     "output_type": "display_data"
    }
   ],
   "source": [
    "p = plot(benchmarks,\n",
    "    x = :language,\n",
    "    y = :mean_time,\n",
    "    color = :benchmark,\n",
    "    Scale.y_log10,\n",
    "    Guide.ylabel(nothing),\n",
    "    Guide.xlabel(nothing),\n",
    "    Theme(\n",
    "        default_point_size = 1mm,\n",
    "        guide_title_position = :left,\n",
    "        colorkey_swatch_shape = :circle,\n",
    "        minor_label_font = \"Georgia\",\n",
    "        major_label_font = \"Georgia\",\n",
    "    ),\n",
    ")\n",
    "draw(SVG(8inch,8inch/golden), p)"
   ]
  },
  {
   "cell_type": "code",
   "execution_count": 23,
   "metadata": {
    "collapsed": false
   },
   "outputs": [
    {
     "data": {
      "image/svg+xml": [
       "<?xml version=\"1.0\" encoding=\"UTF-8\"?>\n",
       "<svg xmlns=\"http://www.w3.org/2000/svg\"\n",
       "     xmlns:xlink=\"http://www.w3.org/1999/xlink\"\n",
       "     xmlns:gadfly=\"http://www.gadflyjl.org/ns\"\n",
       "     version=\"1.2\"\n",
       "     width=\"203.2mm\" height=\"125.58mm\" viewBox=\"0 0 203.2 125.58\"\n",
       "     stroke=\"none\"\n",
       "     fill=\"#000000\"\n",
       "     stroke-width=\"0.3\"\n",
       "     font-size=\"3.88\"\n",
       ">\n",
       "<g class=\"plotroot yscalable\" id=\"img-6466a421-1\">\n",
       "  <g class=\"guide xlabels\" font-size=\"2.82\" font-family=\"Georgia\" fill=\"#6C606B\" id=\"img-6466a421-2\">\n",
       "    <text x=\"39.31\" y=\"116.95\" text-anchor=\"middle\" dy=\"0.6em\">python</text>\n",
       "    <text x=\"94.53\" y=\"116.95\" text-anchor=\"middle\" dy=\"0.6em\">r</text>\n",
       "    <text x=\"149.76\" y=\"116.95\" text-anchor=\"middle\" dy=\"0.6em\">julia</text>\n",
       "  </g>\n",
       "  <g class=\"guide colorkey\" id=\"img-6466a421-3\">\n",
       "    <g fill=\"#4C404B\" font-size=\"2.82\" font-family=\"'PT Sans','Helvetica Neue','Helvetica',sans-serif\" id=\"img-6466a421-4\">\n",
       "      <text x=\"181.18\" y=\"49.6\" dy=\"0.35em\" id=\"img-6466a421-5\" class=\"color_fib\">fib</text>\n",
       "      <text x=\"181.18\" y=\"53.22\" dy=\"0.35em\" id=\"img-6466a421-6\" class=\"color_parse_int\">parse_int</text>\n",
       "      <text x=\"181.18\" y=\"56.85\" dy=\"0.35em\" id=\"img-6466a421-7\" class=\"color_mandel\">mandel</text>\n",
       "      <text x=\"181.18\" y=\"60.48\" dy=\"0.35em\" id=\"img-6466a421-8\" class=\"color_quicksort\">quicksort</text>\n",
       "      <text x=\"181.18\" y=\"64.1\" dy=\"0.35em\" id=\"img-6466a421-9\" class=\"color_pi_sum\">pi_sum</text>\n",
       "      <text x=\"181.18\" y=\"67.73\" dy=\"0.35em\" id=\"img-6466a421-10\" class=\"color_rand_mat_stat\">rand_mat_stat</text>\n",
       "      <text x=\"181.18\" y=\"71.36\" dy=\"0.35em\" id=\"img-6466a421-11\" class=\"color_rand_mat_mul\">rand_mat_mul</text>\n",
       "      <text x=\"181.18\" y=\"74.98\" dy=\"0.35em\" id=\"img-6466a421-12\" class=\"color_printfd\">printfd</text>\n",
       "    </g>\n",
       "    <g stroke=\"#000000\" stroke-opacity=\"0.000\" id=\"img-6466a421-13\">\n",
       "      <use xlink:href=\"#img-6466a421-14\" x=\"179.18\" y=\"49.6\" id=\"img-6466a421-15\" class=\"color_fib\" fill=\"#00BFFF\"/>\n",
       "      <use xlink:href=\"#img-6466a421-14\" x=\"179.18\" y=\"53.22\" id=\"img-6466a421-16\" class=\"color_parse_int\" fill=\"#D4CA3A\"/>\n",
       "      <use xlink:href=\"#img-6466a421-14\" x=\"179.18\" y=\"56.85\" id=\"img-6466a421-17\" class=\"color_mandel\" fill=\"#FF6DAE\"/>\n",
       "      <use xlink:href=\"#img-6466a421-14\" x=\"179.18\" y=\"60.48\" id=\"img-6466a421-18\" class=\"color_quicksort\" fill=\"#00B78D\"/>\n",
       "      <use xlink:href=\"#img-6466a421-14\" x=\"179.18\" y=\"64.1\" id=\"img-6466a421-19\" class=\"color_pi_sum\" fill=\"#BEA9FF\"/>\n",
       "      <use xlink:href=\"#img-6466a421-14\" x=\"179.18\" y=\"67.73\" id=\"img-6466a421-20\" class=\"color_rand_mat_stat\" fill=\"#FF6765\"/>\n",
       "      <use xlink:href=\"#img-6466a421-14\" x=\"179.18\" y=\"71.36\" id=\"img-6466a421-21\" class=\"color_rand_mat_mul\" fill=\"#C6C6C6\"/>\n",
       "      <use xlink:href=\"#img-6466a421-14\" x=\"179.18\" y=\"74.98\" id=\"img-6466a421-22\" class=\"color_printfd\" fill=\"#63DF75\"/>\n",
       "    </g>\n",
       "    <g fill=\"#362A35\" font-size=\"3.88\" font-family=\"'PT Sans','Helvetica Neue','Helvetica',sans-serif\" stroke=\"#000000\" stroke-opacity=\"0.000\" id=\"img-6466a421-23\">\n",
       "      <text x=\"178.37\" y=\"45.77\" id=\"img-6466a421-24\">benchmark</text>\n",
       "    </g>\n",
       "  </g>\n",
       "<g clip-path=\"url(#img-6466a421-25)\">\n",
       "  <g id=\"img-6466a421-26\">\n",
       "    <g pointer-events=\"visible\" opacity=\"1\" fill=\"#000000\" fill-opacity=\"0.000\" stroke=\"#000000\" stroke-opacity=\"0.000\" class=\"guide background\" id=\"img-6466a421-27\">\n",
       "      <rect x=\"11.7\" y=\"5\" width=\"165.67\" height=\"110.95\" id=\"img-6466a421-28\"/>\n",
       "    </g>\n",
       "    <g class=\"guide ygridlines xfixed\" stroke-dasharray=\"0.5,0.5\" stroke-width=\"0.2\" stroke=\"#D0D0E0\" id=\"img-6466a421-29\">\n",
       "      <path fill=\"none\" d=\"M11.7,113.95 L 177.37 113.95\" id=\"img-6466a421-30\"/>\n",
       "      <path fill=\"none\" d=\"M11.7,87.21 L 177.37 87.21\" id=\"img-6466a421-31\"/>\n",
       "      <path fill=\"none\" d=\"M11.7,60.48 L 177.37 60.48\" id=\"img-6466a421-32\"/>\n",
       "      <path fill=\"none\" d=\"M11.7,33.74 L 177.37 33.74\" id=\"img-6466a421-33\"/>\n",
       "      <path fill=\"none\" d=\"M11.7,7 L 177.37 7\" id=\"img-6466a421-34\"/>\n",
       "    </g>\n",
       "    <g class=\"guide xgridlines yfixed\" stroke-dasharray=\"0.5,0.5\" stroke-width=\"0.2\" stroke=\"#D0D0E0\" id=\"img-6466a421-35\">\n",
       "      <path fill=\"none\" d=\"M66.92,5 L 66.92 115.95\" id=\"img-6466a421-36\"/>\n",
       "      <path fill=\"none\" d=\"M122.14,5 L 122.14 115.95\" id=\"img-6466a421-37\"/>\n",
       "    </g>\n",
       "    <g class=\"plotpanel\" id=\"img-6466a421-38\">\n",
       "      <g class=\"geometry\" id=\"img-6466a421-39\">\n",
       "        <g stroke-width=\"0.3\" id=\"img-6466a421-40\">\n",
       "          <use xlink:href=\"#img-6466a421-41\" x=\"39.31\" y=\"113.57\" id=\"img-6466a421-42\" class=\"color_fib\" stroke=\"#FFFFFF\" fill=\"#00BFFF\"/>\n",
       "          <use xlink:href=\"#img-6466a421-41\" x=\"39.31\" y=\"113.67\" id=\"img-6466a421-43\" class=\"color_parse_int\" stroke=\"#FFFFFF\" fill=\"#D4CA3A\"/>\n",
       "          <use xlink:href=\"#img-6466a421-41\" x=\"39.31\" y=\"113.42\" id=\"img-6466a421-44\" class=\"color_mandel\" stroke=\"#FFFFFF\" fill=\"#FF6DAE\"/>\n",
       "          <use xlink:href=\"#img-6466a421-41\" x=\"39.31\" y=\"112.03\" id=\"img-6466a421-45\" class=\"color_quicksort\" stroke=\"#FFFFFF\" fill=\"#00B78D\"/>\n",
       "          <use xlink:href=\"#img-6466a421-41\" x=\"39.31\" y=\"26.78\" id=\"img-6466a421-46\" class=\"color_pi_sum\" stroke=\"#FFFFFF\" fill=\"#BEA9FF\"/>\n",
       "          <use xlink:href=\"#img-6466a421-41\" x=\"39.31\" y=\"97.19\" id=\"img-6466a421-47\" class=\"color_rand_mat_stat\" stroke=\"#FFFFFF\" fill=\"#FF6765\"/>\n",
       "          <use xlink:href=\"#img-6466a421-41\" x=\"39.31\" y=\"105.12\" id=\"img-6466a421-48\" class=\"color_rand_mat_mul\" stroke=\"#FFFFFF\" fill=\"#C6C6C6\"/>\n",
       "          <use xlink:href=\"#img-6466a421-41\" x=\"94.53\" y=\"111.81\" id=\"img-6466a421-49\" class=\"color_fib\" stroke=\"#FFFFFF\" fill=\"#00BFFF\"/>\n",
       "          <use xlink:href=\"#img-6466a421-41\" x=\"94.53\" y=\"113.42\" id=\"img-6466a421-50\" class=\"color_parse_int\" stroke=\"#FFFFFF\" fill=\"#D4CA3A\"/>\n",
       "          <use xlink:href=\"#img-6466a421-41\" x=\"94.53\" y=\"101.52\" id=\"img-6466a421-51\" class=\"color_quicksort\" stroke=\"#FFFFFF\" fill=\"#00B78D\"/>\n",
       "          <use xlink:href=\"#img-6466a421-41\" x=\"94.53\" y=\"112.35\" id=\"img-6466a421-52\" class=\"color_mandel\" stroke=\"#FFFFFF\" fill=\"#FF6DAE\"/>\n",
       "          <use xlink:href=\"#img-6466a421-41\" x=\"94.53\" y=\"69.57\" id=\"img-6466a421-53\" class=\"color_pi_sum\" stroke=\"#FFFFFF\" fill=\"#BEA9FF\"/>\n",
       "          <use xlink:href=\"#img-6466a421-41\" x=\"94.53\" y=\"102.45\" id=\"img-6466a421-54\" class=\"color_rand_mat_stat\" stroke=\"#FFFFFF\" fill=\"#FF6765\"/>\n",
       "          <use xlink:href=\"#img-6466a421-41\" x=\"94.53\" y=\"95.64\" id=\"img-6466a421-55\" class=\"color_rand_mat_mul\" stroke=\"#FFFFFF\" fill=\"#C6C6C6\"/>\n",
       "          <use xlink:href=\"#img-6466a421-41\" x=\"149.76\" y=\"113.94\" id=\"img-6466a421-56\" class=\"color_fib\" stroke=\"#FFFFFF\" fill=\"#00BFFF\"/>\n",
       "          <use xlink:href=\"#img-6466a421-41\" x=\"149.76\" y=\"113.92\" id=\"img-6466a421-57\" class=\"color_parse_int\" stroke=\"#FFFFFF\" fill=\"#D4CA3A\"/>\n",
       "          <use xlink:href=\"#img-6466a421-41\" x=\"149.76\" y=\"113.92\" id=\"img-6466a421-58\" class=\"color_mandel\" stroke=\"#FFFFFF\" fill=\"#FF6DAE\"/>\n",
       "          <use xlink:href=\"#img-6466a421-41\" x=\"149.76\" y=\"113.89\" id=\"img-6466a421-59\" class=\"color_quicksort\" stroke=\"#FFFFFF\" fill=\"#00B78D\"/>\n",
       "          <use xlink:href=\"#img-6466a421-41\" x=\"149.76\" y=\"110.42\" id=\"img-6466a421-60\" class=\"color_pi_sum\" stroke=\"#FFFFFF\" fill=\"#BEA9FF\"/>\n",
       "          <use xlink:href=\"#img-6466a421-41\" x=\"149.76\" y=\"110.61\" id=\"img-6466a421-61\" class=\"color_rand_mat_stat\" stroke=\"#FFFFFF\" fill=\"#FF6765\"/>\n",
       "          <use xlink:href=\"#img-6466a421-41\" x=\"149.76\" y=\"108.62\" id=\"img-6466a421-62\" class=\"color_rand_mat_mul\" stroke=\"#FFFFFF\" fill=\"#C6C6C6\"/>\n",
       "          <use xlink:href=\"#img-6466a421-41\" x=\"149.76\" y=\"110.26\" id=\"img-6466a421-63\" class=\"color_printfd\" stroke=\"#FFFFFF\" fill=\"#63DF75\"/>\n",
       "        </g>\n",
       "      </g>\n",
       "    </g>\n",
       "  </g>\n",
       "</g>\n",
       "  <g class=\"guide ylabels\" font-size=\"2.82\" font-family=\"Georgia\" fill=\"#6C606B\" id=\"img-6466a421-64\">\n",
       "    <text x=\"10.7\" y=\"113.95\" text-anchor=\"end\" dy=\"0.35em\" id=\"img-6466a421-65\">0</text>\n",
       "    <text x=\"10.7\" y=\"87.21\" text-anchor=\"end\" dy=\"0.35em\" id=\"img-6466a421-66\">200</text>\n",
       "    <text x=\"10.7\" y=\"60.48\" text-anchor=\"end\" dy=\"0.35em\" id=\"img-6466a421-67\">400</text>\n",
       "    <text x=\"10.7\" y=\"33.74\" text-anchor=\"end\" dy=\"0.35em\" id=\"img-6466a421-68\">600</text>\n",
       "    <text x=\"10.7\" y=\"7\" text-anchor=\"end\" dy=\"0.35em\" id=\"img-6466a421-69\">800</text>\n",
       "  </g>\n",
       "</g>\n",
       "<defs>\n",
       "  <clipPath id=\"img-6466a421-25\">\n",
       "  <path d=\"M11.7,5 L 177.37 5 177.37 115.95 11.7 115.95\" />\n",
       "</clipPath>\n",
       "  <g id=\"img-6466a421-14\">\n",
       "    <circle cx=\"0\" cy=\"0\" r=\"0.91\" id=\"img-6466a421-70\"/>\n",
       "  </g>\n",
       "  <g id=\"img-6466a421-41\">\n",
       "    <circle cx=\"0\" cy=\"0\" r=\"1\" id=\"img-6466a421-71\"/>\n",
       "  </g>\n",
       "</defs>\n",
       "</svg>\n"
      ],
      "text/html": [
       "<?xml version=\"1.0\" encoding=\"UTF-8\"?>\n",
       "<svg xmlns=\"http://www.w3.org/2000/svg\"\n",
       "     xmlns:xlink=\"http://www.w3.org/1999/xlink\"\n",
       "     xmlns:gadfly=\"http://www.gadflyjl.org/ns\"\n",
       "     version=\"1.2\"\n",
       "     width=\"203.2mm\" height=\"125.58mm\" viewBox=\"0 0 203.2 125.58\"\n",
       "     stroke=\"none\"\n",
       "     fill=\"#000000\"\n",
       "     stroke-width=\"0.3\"\n",
       "     font-size=\"3.88\"\n",
       ">\n",
       "<g class=\"plotroot yscalable\" id=\"img-6466a421-1\">\n",
       "  <g class=\"guide xlabels\" font-size=\"2.82\" font-family=\"Georgia\" fill=\"#6C606B\" id=\"img-6466a421-2\">\n",
       "    <text x=\"39.31\" y=\"116.95\" text-anchor=\"middle\" dy=\"0.6em\">python</text>\n",
       "    <text x=\"94.53\" y=\"116.95\" text-anchor=\"middle\" dy=\"0.6em\">r</text>\n",
       "    <text x=\"149.76\" y=\"116.95\" text-anchor=\"middle\" dy=\"0.6em\">julia</text>\n",
       "  </g>\n",
       "  <g class=\"guide colorkey\" id=\"img-6466a421-3\">\n",
       "    <g fill=\"#4C404B\" font-size=\"2.82\" font-family=\"'PT Sans','Helvetica Neue','Helvetica',sans-serif\" id=\"img-6466a421-4\">\n",
       "      <text x=\"181.18\" y=\"49.6\" dy=\"0.35em\" id=\"img-6466a421-5\" class=\"color_fib\">fib</text>\n",
       "      <text x=\"181.18\" y=\"53.22\" dy=\"0.35em\" id=\"img-6466a421-6\" class=\"color_parse_int\">parse_int</text>\n",
       "      <text x=\"181.18\" y=\"56.85\" dy=\"0.35em\" id=\"img-6466a421-7\" class=\"color_mandel\">mandel</text>\n",
       "      <text x=\"181.18\" y=\"60.48\" dy=\"0.35em\" id=\"img-6466a421-8\" class=\"color_quicksort\">quicksort</text>\n",
       "      <text x=\"181.18\" y=\"64.1\" dy=\"0.35em\" id=\"img-6466a421-9\" class=\"color_pi_sum\">pi_sum</text>\n",
       "      <text x=\"181.18\" y=\"67.73\" dy=\"0.35em\" id=\"img-6466a421-10\" class=\"color_rand_mat_stat\">rand_mat_stat</text>\n",
       "      <text x=\"181.18\" y=\"71.36\" dy=\"0.35em\" id=\"img-6466a421-11\" class=\"color_rand_mat_mul\">rand_mat_mul</text>\n",
       "      <text x=\"181.18\" y=\"74.98\" dy=\"0.35em\" id=\"img-6466a421-12\" class=\"color_printfd\">printfd</text>\n",
       "    </g>\n",
       "    <g stroke=\"#000000\" stroke-opacity=\"0.000\" id=\"img-6466a421-13\">\n",
       "      <use xlink:href=\"#img-6466a421-14\" x=\"179.18\" y=\"49.6\" id=\"img-6466a421-15\" class=\"color_fib\" fill=\"#00BFFF\"/>\n",
       "      <use xlink:href=\"#img-6466a421-14\" x=\"179.18\" y=\"53.22\" id=\"img-6466a421-16\" class=\"color_parse_int\" fill=\"#D4CA3A\"/>\n",
       "      <use xlink:href=\"#img-6466a421-14\" x=\"179.18\" y=\"56.85\" id=\"img-6466a421-17\" class=\"color_mandel\" fill=\"#FF6DAE\"/>\n",
       "      <use xlink:href=\"#img-6466a421-14\" x=\"179.18\" y=\"60.48\" id=\"img-6466a421-18\" class=\"color_quicksort\" fill=\"#00B78D\"/>\n",
       "      <use xlink:href=\"#img-6466a421-14\" x=\"179.18\" y=\"64.1\" id=\"img-6466a421-19\" class=\"color_pi_sum\" fill=\"#BEA9FF\"/>\n",
       "      <use xlink:href=\"#img-6466a421-14\" x=\"179.18\" y=\"67.73\" id=\"img-6466a421-20\" class=\"color_rand_mat_stat\" fill=\"#FF6765\"/>\n",
       "      <use xlink:href=\"#img-6466a421-14\" x=\"179.18\" y=\"71.36\" id=\"img-6466a421-21\" class=\"color_rand_mat_mul\" fill=\"#C6C6C6\"/>\n",
       "      <use xlink:href=\"#img-6466a421-14\" x=\"179.18\" y=\"74.98\" id=\"img-6466a421-22\" class=\"color_printfd\" fill=\"#63DF75\"/>\n",
       "    </g>\n",
       "    <g fill=\"#362A35\" font-size=\"3.88\" font-family=\"'PT Sans','Helvetica Neue','Helvetica',sans-serif\" stroke=\"#000000\" stroke-opacity=\"0.000\" id=\"img-6466a421-23\">\n",
       "      <text x=\"178.37\" y=\"45.77\" id=\"img-6466a421-24\">benchmark</text>\n",
       "    </g>\n",
       "  </g>\n",
       "<g clip-path=\"url(#img-6466a421-25)\">\n",
       "  <g id=\"img-6466a421-26\">\n",
       "    <g pointer-events=\"visible\" opacity=\"1\" fill=\"#000000\" fill-opacity=\"0.000\" stroke=\"#000000\" stroke-opacity=\"0.000\" class=\"guide background\" id=\"img-6466a421-27\">\n",
       "      <rect x=\"11.7\" y=\"5\" width=\"165.67\" height=\"110.95\" id=\"img-6466a421-28\"/>\n",
       "    </g>\n",
       "    <g class=\"guide ygridlines xfixed\" stroke-dasharray=\"0.5,0.5\" stroke-width=\"0.2\" stroke=\"#D0D0E0\" id=\"img-6466a421-29\">\n",
       "      <path fill=\"none\" d=\"M11.7,113.95 L 177.37 113.95\" id=\"img-6466a421-30\"/>\n",
       "      <path fill=\"none\" d=\"M11.7,87.21 L 177.37 87.21\" id=\"img-6466a421-31\"/>\n",
       "      <path fill=\"none\" d=\"M11.7,60.48 L 177.37 60.48\" id=\"img-6466a421-32\"/>\n",
       "      <path fill=\"none\" d=\"M11.7,33.74 L 177.37 33.74\" id=\"img-6466a421-33\"/>\n",
       "      <path fill=\"none\" d=\"M11.7,7 L 177.37 7\" id=\"img-6466a421-34\"/>\n",
       "    </g>\n",
       "    <g class=\"guide xgridlines yfixed\" stroke-dasharray=\"0.5,0.5\" stroke-width=\"0.2\" stroke=\"#D0D0E0\" id=\"img-6466a421-35\">\n",
       "      <path fill=\"none\" d=\"M66.92,5 L 66.92 115.95\" id=\"img-6466a421-36\"/>\n",
       "      <path fill=\"none\" d=\"M122.14,5 L 122.14 115.95\" id=\"img-6466a421-37\"/>\n",
       "    </g>\n",
       "    <g class=\"plotpanel\" id=\"img-6466a421-38\">\n",
       "      <g class=\"geometry\" id=\"img-6466a421-39\">\n",
       "        <g stroke-width=\"0.3\" id=\"img-6466a421-40\">\n",
       "          <use xlink:href=\"#img-6466a421-41\" x=\"39.31\" y=\"113.57\" id=\"img-6466a421-42\" class=\"color_fib\" stroke=\"#FFFFFF\" fill=\"#00BFFF\"/>\n",
       "          <use xlink:href=\"#img-6466a421-41\" x=\"39.31\" y=\"113.67\" id=\"img-6466a421-43\" class=\"color_parse_int\" stroke=\"#FFFFFF\" fill=\"#D4CA3A\"/>\n",
       "          <use xlink:href=\"#img-6466a421-41\" x=\"39.31\" y=\"113.42\" id=\"img-6466a421-44\" class=\"color_mandel\" stroke=\"#FFFFFF\" fill=\"#FF6DAE\"/>\n",
       "          <use xlink:href=\"#img-6466a421-41\" x=\"39.31\" y=\"112.03\" id=\"img-6466a421-45\" class=\"color_quicksort\" stroke=\"#FFFFFF\" fill=\"#00B78D\"/>\n",
       "          <use xlink:href=\"#img-6466a421-41\" x=\"39.31\" y=\"26.78\" id=\"img-6466a421-46\" class=\"color_pi_sum\" stroke=\"#FFFFFF\" fill=\"#BEA9FF\"/>\n",
       "          <use xlink:href=\"#img-6466a421-41\" x=\"39.31\" y=\"97.19\" id=\"img-6466a421-47\" class=\"color_rand_mat_stat\" stroke=\"#FFFFFF\" fill=\"#FF6765\"/>\n",
       "          <use xlink:href=\"#img-6466a421-41\" x=\"39.31\" y=\"105.12\" id=\"img-6466a421-48\" class=\"color_rand_mat_mul\" stroke=\"#FFFFFF\" fill=\"#C6C6C6\"/>\n",
       "          <use xlink:href=\"#img-6466a421-41\" x=\"94.53\" y=\"111.81\" id=\"img-6466a421-49\" class=\"color_fib\" stroke=\"#FFFFFF\" fill=\"#00BFFF\"/>\n",
       "          <use xlink:href=\"#img-6466a421-41\" x=\"94.53\" y=\"113.42\" id=\"img-6466a421-50\" class=\"color_parse_int\" stroke=\"#FFFFFF\" fill=\"#D4CA3A\"/>\n",
       "          <use xlink:href=\"#img-6466a421-41\" x=\"94.53\" y=\"101.52\" id=\"img-6466a421-51\" class=\"color_quicksort\" stroke=\"#FFFFFF\" fill=\"#00B78D\"/>\n",
       "          <use xlink:href=\"#img-6466a421-41\" x=\"94.53\" y=\"112.35\" id=\"img-6466a421-52\" class=\"color_mandel\" stroke=\"#FFFFFF\" fill=\"#FF6DAE\"/>\n",
       "          <use xlink:href=\"#img-6466a421-41\" x=\"94.53\" y=\"69.57\" id=\"img-6466a421-53\" class=\"color_pi_sum\" stroke=\"#FFFFFF\" fill=\"#BEA9FF\"/>\n",
       "          <use xlink:href=\"#img-6466a421-41\" x=\"94.53\" y=\"102.45\" id=\"img-6466a421-54\" class=\"color_rand_mat_stat\" stroke=\"#FFFFFF\" fill=\"#FF6765\"/>\n",
       "          <use xlink:href=\"#img-6466a421-41\" x=\"94.53\" y=\"95.64\" id=\"img-6466a421-55\" class=\"color_rand_mat_mul\" stroke=\"#FFFFFF\" fill=\"#C6C6C6\"/>\n",
       "          <use xlink:href=\"#img-6466a421-41\" x=\"149.76\" y=\"113.94\" id=\"img-6466a421-56\" class=\"color_fib\" stroke=\"#FFFFFF\" fill=\"#00BFFF\"/>\n",
       "          <use xlink:href=\"#img-6466a421-41\" x=\"149.76\" y=\"113.92\" id=\"img-6466a421-57\" class=\"color_parse_int\" stroke=\"#FFFFFF\" fill=\"#D4CA3A\"/>\n",
       "          <use xlink:href=\"#img-6466a421-41\" x=\"149.76\" y=\"113.92\" id=\"img-6466a421-58\" class=\"color_mandel\" stroke=\"#FFFFFF\" fill=\"#FF6DAE\"/>\n",
       "          <use xlink:href=\"#img-6466a421-41\" x=\"149.76\" y=\"113.89\" id=\"img-6466a421-59\" class=\"color_quicksort\" stroke=\"#FFFFFF\" fill=\"#00B78D\"/>\n",
       "          <use xlink:href=\"#img-6466a421-41\" x=\"149.76\" y=\"110.42\" id=\"img-6466a421-60\" class=\"color_pi_sum\" stroke=\"#FFFFFF\" fill=\"#BEA9FF\"/>\n",
       "          <use xlink:href=\"#img-6466a421-41\" x=\"149.76\" y=\"110.61\" id=\"img-6466a421-61\" class=\"color_rand_mat_stat\" stroke=\"#FFFFFF\" fill=\"#FF6765\"/>\n",
       "          <use xlink:href=\"#img-6466a421-41\" x=\"149.76\" y=\"108.62\" id=\"img-6466a421-62\" class=\"color_rand_mat_mul\" stroke=\"#FFFFFF\" fill=\"#C6C6C6\"/>\n",
       "          <use xlink:href=\"#img-6466a421-41\" x=\"149.76\" y=\"110.26\" id=\"img-6466a421-63\" class=\"color_printfd\" stroke=\"#FFFFFF\" fill=\"#63DF75\"/>\n",
       "        </g>\n",
       "      </g>\n",
       "    </g>\n",
       "  </g>\n",
       "</g>\n",
       "  <g class=\"guide ylabels\" font-size=\"2.82\" font-family=\"Georgia\" fill=\"#6C606B\" id=\"img-6466a421-64\">\n",
       "    <text x=\"10.7\" y=\"113.95\" text-anchor=\"end\" dy=\"0.35em\" id=\"img-6466a421-65\">0</text>\n",
       "    <text x=\"10.7\" y=\"87.21\" text-anchor=\"end\" dy=\"0.35em\" id=\"img-6466a421-66\">200</text>\n",
       "    <text x=\"10.7\" y=\"60.48\" text-anchor=\"end\" dy=\"0.35em\" id=\"img-6466a421-67\">400</text>\n",
       "    <text x=\"10.7\" y=\"33.74\" text-anchor=\"end\" dy=\"0.35em\" id=\"img-6466a421-68\">600</text>\n",
       "    <text x=\"10.7\" y=\"7\" text-anchor=\"end\" dy=\"0.35em\" id=\"img-6466a421-69\">800</text>\n",
       "  </g>\n",
       "</g>\n",
       "<defs>\n",
       "  <clipPath id=\"img-6466a421-25\">\n",
       "  <path d=\"M11.7,5 L 177.37 5 177.37 115.95 11.7 115.95\" />\n",
       "</clipPath>\n",
       "  <g id=\"img-6466a421-14\">\n",
       "    <circle cx=\"0\" cy=\"0\" r=\"0.91\" id=\"img-6466a421-70\"/>\n",
       "  </g>\n",
       "  <g id=\"img-6466a421-41\">\n",
       "    <circle cx=\"0\" cy=\"0\" r=\"1\" id=\"img-6466a421-71\"/>\n",
       "  </g>\n",
       "</defs>\n",
       "</svg>\n"
      ],
      "text/plain": [
       "Compose.SVG(203.2mm,125.58450651397862mm,IOBuffer(data=UInt8[...], readable=true, writable=true, seekable=true, append=false, size=8429, maxsize=Inf, ptr=8430, mark=-1),nothing,\"img-6466a421\",0,Compose.SVGPropertyFrame[],Dict{Type{T},Union{Compose.Property{P<:Compose.PropertyPrimitive},Void}}(Compose.Property{Compose.JSCallPrimitive}=>nothing,Compose.Property{Compose.SVGClassPrimitive}=>nothing,Compose.Property{Compose.StrokePrimitive}=>nothing,Compose.Property{Compose.FillPrimitive}=>nothing),Dict{Compose.ClipPrimitive{P<:NTuple{N,Measures.Measure}},ASCIIString}(Compose.ClipPrimitive{Tuple{Measures.Length{:mm,Float64},Measures.Length{:mm,Float64}}}([(11.699999999999989mm,5.0mm),(177.36666666666665mm,5.0mm),(177.36666666666665mm,115.9511731806453mm),(11.699999999999989mm,115.9511731806453mm)])=>\"img-6466a421-25\"),Tuple{Compose.FormPrimitive,ASCIIString}[(Compose.CirclePrimitive{Tuple{Measures.Length{:mm,Float64},Measures.Length{:mm,Float64}},Measures.Length{:mm,Float64}}((0.0mm,0.0mm),0.9066666666666667mm),\"img-6466a421-14\"),(Compose.CirclePrimitive{Tuple{Measures.Length{:mm,Float64},Measures.Length{:mm,Float64}},Measures.Length{:mm,Float64}}((0.0mm,0.0mm),1.0mm),\"img-6466a421-41\")],Set{AbstractString}(),true,false,nothing,true,\"img-6466a421-71\",false,71,AbstractString[\"/Users/utensil/.julia/v0.4/Gadfly/src/gadfly.js\"],Tuple{AbstractString,AbstractString}[(\"Snap.svg\",\"Snap\"),(\"Gadfly\",\"Gadfly\")],AbstractString[\"fig.select(\\\"#img-6466a421-3\\\")\\n   .drag(function() {}, function() {}, function() {});\",\"fig.select(\\\"#img-6466a421-5\\\")\\n   .data(\\\"color_class\\\", \\\"color_fib\\\")\\n.click(Gadfly.colorkey_swatch_click)\\n;\",\"fig.select(\\\"#img-6466a421-6\\\")\\n   .data(\\\"color_class\\\", \\\"color_parse_int\\\")\\n.click(Gadfly.colorkey_swatch_click)\\n;\",\"fig.select(\\\"#img-6466a421-7\\\")\\n   .data(\\\"color_class\\\", \\\"color_mandel\\\")\\n.click(Gadfly.colorkey_swatch_click)\\n;\",\"fig.select(\\\"#img-6466a421-8\\\")\\n   .data(\\\"color_class\\\", \\\"color_quicksort\\\")\\n.click(Gadfly.colorkey_swatch_click)\\n;\",\"fig.select(\\\"#img-6466a421-9\\\")\\n   .data(\\\"color_class\\\", \\\"color_pi_sum\\\")\\n.click(Gadfly.colorkey_swatch_click)\\n;\",\"fig.select(\\\"#img-6466a421-10\\\")\\n   .data(\\\"color_class\\\", \\\"color_rand_mat_stat\\\")\\n.click(Gadfly.colorkey_swatch_click)\\n;\",\"fig.select(\\\"#img-6466a421-11\\\")\\n   .data(\\\"color_class\\\", \\\"color_rand_mat_mul\\\")\\n.click(Gadfly.colorkey_swatch_click)\\n;\",\"fig.select(\\\"#img-6466a421-12\\\")\\n   .data(\\\"color_class\\\", \\\"color_printfd\\\")\\n.click(Gadfly.colorkey_swatch_click)\\n;\",\"fig.select(\\\"#img-6466a421-15\\\")\\n   .data(\\\"color_class\\\", \\\"color_fib\\\")\\n.click(Gadfly.colorkey_swatch_click)\\n;\",\"fig.select(\\\"#img-6466a421-16\\\")\\n   .data(\\\"color_class\\\", \\\"color_parse_int\\\")\\n.click(Gadfly.colorkey_swatch_click)\\n;\",\"fig.select(\\\"#img-6466a421-17\\\")\\n   .data(\\\"color_class\\\", \\\"color_mandel\\\")\\n.click(Gadfly.colorkey_swatch_click)\\n;\",\"fig.select(\\\"#img-6466a421-18\\\")\\n   .data(\\\"color_class\\\", \\\"color_quicksort\\\")\\n.click(Gadfly.colorkey_swatch_click)\\n;\",\"fig.select(\\\"#img-6466a421-19\\\")\\n   .data(\\\"color_class\\\", \\\"color_pi_sum\\\")\\n.click(Gadfly.colorkey_swatch_click)\\n;\",\"fig.select(\\\"#img-6466a421-20\\\")\\n   .data(\\\"color_class\\\", \\\"color_rand_mat_stat\\\")\\n.click(Gadfly.colorkey_swatch_click)\\n;\",\"fig.select(\\\"#img-6466a421-21\\\")\\n   .data(\\\"color_class\\\", \\\"color_rand_mat_mul\\\")\\n.click(Gadfly.colorkey_swatch_click)\\n;\",\"fig.select(\\\"#img-6466a421-22\\\")\\n   .data(\\\"color_class\\\", \\\"color_printfd\\\")\\n.click(Gadfly.colorkey_swatch_click)\\n;\",\"fig.select(\\\"#img-6466a421-26\\\")\\n   .init_gadfly();\"],false,:none)"
      ]
     },
     "metadata": {},
     "output_type": "display_data"
    }
   ],
   "source": [
    "p = plot(benchmarks,\n",
    "    x = :language,\n",
    "    y = :mean_time,\n",
    "    color = :benchmark,\n",
    "    Scale.y_continuous,\n",
    "    Guide.ylabel(nothing),\n",
    "    Guide.xlabel(nothing),\n",
    "    Theme(\n",
    "        default_point_size = 1mm,\n",
    "        guide_title_position = :left,\n",
    "        colorkey_swatch_shape = :circle,\n",
    "        minor_label_font = \"Georgia\",\n",
    "        major_label_font = \"Georgia\",\n",
    "    ),\n",
    ")\n",
    "draw(SVG(8inch,8inch/golden), p)"
   ]
  },
  {
   "cell_type": "code",
   "execution_count": null,
   "metadata": {
    "collapsed": true
   },
   "outputs": [],
   "source": []
  }
 ],
 "metadata": {
  "kernelspec": {
   "display_name": "Julia 0.4.5",
   "language": "julia",
   "name": "julia-0.4"
  },
  "language_info": {
   "file_extension": ".jl",
   "mimetype": "application/julia",
   "name": "julia",
   "version": "0.4.5"
  }
 },
 "nbformat": 4,
 "nbformat_minor": 0
}
