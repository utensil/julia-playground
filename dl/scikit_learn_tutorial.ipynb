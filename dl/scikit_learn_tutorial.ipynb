{
 "cells": [
  {
   "cell_type": "markdown",
   "metadata": {},
   "source": [
    "The following notebook was runned in a docker container with the following commands:\n",
    "\n",
    "```\n",
    "docker run -it -p 8888:8888 -p 6006:6006 -v `pwd`:/space/ -w /space/ --rm --name md waleedka/modern-deep-learning jupyter notebook --ip=0.0.0.0 --allow-root\n",
    "```\n",
    "\n",
    "The following code is adapted from http://scikit-learn.org/stable/user_guide.html"
   ]
  },
  {
   "cell_type": "markdown",
   "metadata": {},
   "source": [
    "# Supervised learning"
   ]
  },
  {
   "cell_type": "markdown",
   "metadata": {},
   "source": [
    "## Generalized Linear Models"
   ]
  },
  {
   "cell_type": "markdown",
   "metadata": {},
   "source": [
    "### Ordinary Least Squares\n",
    "\n",
    "$$ \\underset{w}{min\\,} {|| X w - y||_2}^2 $$\n",
    "\n",
    "where $$ w = (w_1, ..., w_p) $$\n",
    "\n",
    "If $ X $ is a matrix of size $ (n, p) $ this method has a\n",
    "cost of $ O(n p^2) $, assuming that $ n \\geq p $."
   ]
  },
  {
   "cell_type": "markdown",
   "metadata": {},
   "source": [
    "### Ridge Regression\n",
    "\n",
    "$$ \\underset{w}{min\\,} {{|| X w - y||_2}^2 + \\alpha {||w||_2}^2} $$\n",
    "\n",
    "where \n",
    "\n",
    "$$ \\alpha \\gt 0 $$\n",
    "\n",
    "$$ ||w||_2 = ? $$"
   ]
  },
  {
   "cell_type": "markdown",
   "metadata": {},
   "source": [
    "### Lasso\n",
    "\n",
    "$$ \\underset{w}{min\\,} { \\frac{1}{2n_{samples}} ||X w - y||_2 ^ 2 + \\alpha ||w||_1} $$\n",
    "\n",
    "where\n",
    "\n",
    "$$ ||w||_1 = ? $$"
   ]
  },
  {
   "cell_type": "markdown",
   "metadata": {},
   "source": [
    "### Elastic Net\n",
    "\n",
    "$$ \\underset{w}{min\\,} { \\frac{1}{2n_{samples}} ||X w - y||_2 ^ 2 + \\alpha \\rho ||w||_1 +\n",
    "    \\frac{\\alpha(1-\\rho)}{2} ||w||_2 ^ 2} $$\n",
    "    \n",
    "where $ \\rho $ is to control the convex combination of L1 and L2, a.k.a ``l1_ratio``"
   ]
  },
  {
   "cell_type": "markdown",
   "metadata": {},
   "source": [
    "### Least Angle Regression (LARS)\n",
    "\n",
    "Least-angle regression (LARS) is a regression algorithm for\n",
    "high-dimensional data. LARS is similar to forward stepwise\n",
    "regression. At each step, it finds the predictor most correlated with the\n",
    "response. When there are multiple predictors having equal correlation, instead\n",
    "of continuing along the same predictor, it proceeds in a direction equiangular\n",
    "between the predictors."
   ]
  },
  {
   "cell_type": "code",
   "execution_count": 1,
   "metadata": {
    "collapsed": true
   },
   "outputs": [],
   "source": [
    "from sklearn import linear_model"
   ]
  },
  {
   "cell_type": "code",
   "execution_count": 2,
   "metadata": {
    "collapsed": true
   },
   "outputs": [],
   "source": [
    "reg = linear_model.LinearRegression()"
   ]
  },
  {
   "cell_type": "code",
   "execution_count": 3,
   "metadata": {},
   "outputs": [
    {
     "data": {
      "text/plain": [
       "LinearRegression(copy_X=True, fit_intercept=True, n_jobs=1, normalize=False)"
      ]
     },
     "execution_count": 3,
     "metadata": {},
     "output_type": "execute_result"
    }
   ],
   "source": [
    "reg.fit ([[0, 0], [1, 1], [2, 2]], [0, 1, 2])"
   ]
  },
  {
   "cell_type": "code",
   "execution_count": 4,
   "metadata": {},
   "outputs": [
    {
     "data": {
      "text/plain": [
       "array([ 0.5,  0.5])"
      ]
     },
     "execution_count": 4,
     "metadata": {},
     "output_type": "execute_result"
    }
   ],
   "source": [
    "reg.coef_"
   ]
  },
  {
   "cell_type": "code",
   "execution_count": 78,
   "metadata": {},
   "outputs": [
    {
     "name": "stdout",
     "output_type": "stream",
     "text": [
      "Coefficients: \n",
      " [ 294.72241201] [ 265.76407018] [ 249.82982428] [ 220.29558537] [ 294.72241201]\n",
      "Super parameters: \n",
      " () (0.10000000000000001,) (0.10000000000000001,) (0.10000000000000001, 0.997) (0.0,)\n",
      "Mean squared error: \n",
      " 5594.52 5569.87 5558.29 5540.54 5594.52\n",
      "Variance score: \n",
      " -0.09 -0.08 -0.08 -0.08 -0.09\n"
     ]
    },
    {
     "data": {
      "image/png": "[encoded data removed]",
      "text/plain": [
       "<matplotlib.figure.Figure at 0x7f83c3f970f0>"
      ]
     },
     "metadata": {},
     "output_type": "display_data"
    }
   ],
   "source": [
    "# based on http://scikit-learn.org/stable/auto_examples/linear_model/plot_ols.html#sphx-glr-auto-examples-linear-model-plot-ols-py\n",
    "# but added Ridge and Lasso\n",
    "import matplotlib.pyplot as plt\n",
    "import numpy as np\n",
    "from sklearn import datasets, linear_model\n",
    "from sklearn.metrics import mean_squared_error, r2_score\n",
    "\n",
    "# Load the diabetes dataset\n",
    "diabetes = datasets.load_diabetes()\n",
    "\n",
    "# print(diabetes.data.shape)\n",
    "\n",
    "# Use only one feature\n",
    "diabetes_X = diabetes.data[:, np.newaxis, 5]\n",
    "\n",
    "# print(diabetes_X.data.shape)\n",
    "\n",
    "TEST_SET_SIZE = 30\n",
    "\n",
    "# Split the data into training/testing sets\n",
    "diabetes_X_train = diabetes_X[:-TEST_SET_SIZE]\n",
    "diabetes_X_test = diabetes_X[-TEST_SET_SIZE:]\n",
    "\n",
    "# Split the targets into training/testing sets\n",
    "diabetes_y_train = diabetes.target[:-TEST_SET_SIZE]\n",
    "diabetes_y_test = diabetes.target[-TEST_SET_SIZE:]\n",
    "\n",
    "# Create linear regression object\n",
    "lr = linear_model.LinearRegression()\n",
    "rg = linear_model.RidgeCV(alphas = [.1, .3, .5, .7, .9])\n",
    "ls = linear_model.LassoCV(alphas = [.1, .3, .5, .7, .9])\n",
    "en = linear_model.ElasticNetCV(alphas = [.1, .3, .5, .7, .9], l1_ratio = [.1, .3, .5, .7, .9, .99, .997])\n",
    "la = linear_model.LarsCV()\n",
    "\n",
    "# Train the model using the training sets\n",
    "lr.fit(diabetes_X_train, diabetes_y_train)\n",
    "rg.fit(diabetes_X_train, diabetes_y_train)\n",
    "ls.fit(diabetes_X_train, diabetes_y_train)\n",
    "en.fit(diabetes_X_train, diabetes_y_train)\n",
    "la.fit(diabetes_X_train, diabetes_y_train)\n",
    "\n",
    "# Make predictions using the testing set\n",
    "diabetes_y_pred_lr = lr.predict(diabetes_X_test)\n",
    "diabetes_y_pred_rg = rg.predict(diabetes_X_test)\n",
    "diabetes_y_pred_ls = ls.predict(diabetes_X_test)\n",
    "diabetes_y_pred_en = en.predict(diabetes_X_test)\n",
    "diabetes_y_pred_la = la.predict(diabetes_X_test)\n",
    "\n",
    "\n",
    "# The coefficients\n",
    "print('Coefficients: \\n', lr.coef_, rg.coef_, ls.coef_, en.coef_, la.coef_)\n",
    "\n",
    "print('Super parameters: \\n', (), (rg.alpha_,), (ls.alpha_,), (en.alpha_, en.l1_ratio_), (la.alpha_,))\n",
    "# The mean squared error\n",
    "print(\"Mean squared error: \\n %.2f %.2f %.2f %.2f %.2f\"\n",
    "      % (mean_squared_error(diabetes_y_test, diabetes_y_pred_lr),\n",
    "         mean_squared_error(diabetes_y_test, diabetes_y_pred_rg),\n",
    "         mean_squared_error(diabetes_y_test, diabetes_y_pred_ls),\n",
    "         mean_squared_error(diabetes_y_test, diabetes_y_pred_en),\n",
    "         mean_squared_error(diabetes_y_test, diabetes_y_pred_la)\n",
    "        ))\n",
    "# Explained variance score: 1 is perfect prediction\n",
    "print('Variance score: \\n %.2f %.2f %.2f %.2f %.2f' % \n",
    "      (r2_score(diabetes_y_test, diabetes_y_pred_lr),\n",
    "       r2_score(diabetes_y_test, diabetes_y_pred_rg),\n",
    "       r2_score(diabetes_y_test, diabetes_y_pred_ls),\n",
    "       r2_score(diabetes_y_test, diabetes_y_pred_en),\n",
    "       r2_score(diabetes_y_test, diabetes_y_pred_la)\n",
    "      ))\n",
    "\n",
    "# Plot outputs\n",
    "plt.rcParams[\"figure.figsize\"] = [15.0, 10.0]\n",
    "plt.scatter(diabetes_X_test, diabetes_y_test,  color='black')\n",
    "# blue\n",
    "plt.plot(diabetes_X_test, diabetes_y_pred_lr, color='#4572a7', linewidth=3, linestyle='solid')\n",
    "# green\n",
    "plt.plot(diabetes_X_test, diabetes_y_pred_rg, color='#1a9850', linewidth=1, linestyle='solid')\n",
    "# orange\n",
    "plt.plot(diabetes_X_test, diabetes_y_pred_ls, color='#ff7f0e', linewidth=1, linestyle='solid')\n",
    "# red\n",
    "plt.plot(diabetes_X_test, diabetes_y_pred_en, color='#aa4643', linewidth=1, linestyle='solid')\n",
    "# purple\n",
    "plt.plot(diabetes_X_test, diabetes_y_pred_la, color='#886fa8', linewidth=1, linestyle='solid')\n",
    "\n",
    "plt.xticks(())\n",
    "plt.yticks(())\n",
    "\n",
    "plt.show()"
   ]
  },
  {
   "cell_type": "code",
   "execution_count": null,
   "metadata": {
    "collapsed": true
   },
   "outputs": [],
   "source": []
  }
 ],
 "metadata": {
  "kernelspec": {
   "display_name": "Python 3",
   "language": "python",
   "name": "python3"
  },
  "language_info": {
   "codemirror_mode": {
    "name": "ipython",
    "version": 3
   },
   "file_extension": ".py",
   "mimetype": "text/x-python",
   "name": "python",
   "nbconvert_exporter": "python",
   "pygments_lexer": "ipython3",
   "version": "3.5.2"
  }
 },
 "nbformat": 4,
 "nbformat_minor": 2
}
