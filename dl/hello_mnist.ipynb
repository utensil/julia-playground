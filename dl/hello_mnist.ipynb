{
 "cells": [
  {
   "cell_type": "markdown",
   "metadata": {
    "collapsed": true
   },
   "source": [
    "I ran the following notebook in a docker container with the following commands:\n",
    "\n",
    "```\n",
    "docker run -it -v `pwd`:/space/ -p 8888:8888 -p 6006:6006 --name dl -w /space/ --rm utensil/dl:models_notop jupyter notebook --ip=0.0.0.0` to start.\n",
    "```"
   ]
  },
  {
   "cell_type": "code",
   "execution_count": null,
   "metadata": {
    "collapsed": true
   },
   "outputs": [],
   "source": [
    "%%bash\n",
    "pip2 install -U pip\n",
    "pip2 install -U Pillow\n",
    "pip2 install -U captcha\n",
    "pip2 install -U tensorflow\n",
    "pip2 install -U theano\n",
    "pip2 install -U keras\n",
    "pip2 install -U tflearn\n",
    "pip2 install -U pandas\n",
    "pip2 install -U scikit-learn\n",
    "pip2 install -U h5py\n",
    "pip2 install -U pydot-ng"
   ]
  },
  {
   "cell_type": "code",
   "execution_count": 1,
   "metadata": {
    "collapsed": true
   },
   "outputs": [],
   "source": [
    "# -*- coding: utf-8 -*-\n",
    "\n",
    "\"\"\" Convolutional Neural Network for MNIST dataset classification task.\n",
    "References:\n",
    "    Y. LeCun, L. Bottou, Y. Bengio, and P. Haffner. \"Gradient-based\n",
    "    learning applied to document recognition.\" Proceedings of the IEEE,\n",
    "    86(11):2278-2324, November 1998.\n",
    "Links:\n",
    "    [MNIST Dataset] http://yann.lecun.com/exdb/mnist/\n",
    "\"\"\"\n",
    "\n",
    "from __future__ import division, print_function, absolute_import\n",
    "\n",
    "import tflearn\n",
    "from tflearn.layers.core import input_data, dropout, fully_connected\n",
    "from tflearn.layers.conv import conv_2d, max_pool_2d\n",
    "from tflearn.layers.normalization import local_response_normalization\n",
    "from tflearn.layers.estimator import regression"
   ]
  },
  {
   "cell_type": "code",
   "execution_count": 2,
   "metadata": {
    "collapsed": false
   },
   "outputs": [
    {
     "name": "stderr",
     "output_type": "stream",
     "text": [
      "/usr/local/lib/python2.7/dist-packages/matplotlib/font_manager.py:273: UserWarning: Matplotlib is building the font cache using fc-list. This may take a moment.\n",
      "  warnings.warn('Matplotlib is building the font cache using fc-list. This may take a moment.')\n"
     ]
    }
   ],
   "source": [
    "%matplotlib inline\n",
    "import matplotlib.pyplot as plt\n",
    "import matplotlib as mpl"
   ]
  },
  {
   "cell_type": "code",
   "execution_count": 3,
   "metadata": {
    "collapsed": false
   },
   "outputs": [],
   "source": [
    "import numpy as np\n",
    "import tensorflow as tf"
   ]
  },
  {
   "cell_type": "code",
   "execution_count": 4,
   "metadata": {
    "collapsed": true
   },
   "outputs": [],
   "source": [
    "learn = tf.contrib.learn\n",
    "tf.logging.set_verbosity(tf.logging.DEBUG)"
   ]
  },
  {
   "cell_type": "code",
   "execution_count": 4,
   "metadata": {
    "collapsed": false
   },
   "outputs": [
    {
     "name": "stdout",
     "output_type": "stream",
     "text": [
      "Extracting MNIST-data/train-images-idx3-ubyte.gz\n",
      "Extracting MNIST-data/train-labels-idx1-ubyte.gz\n",
      "Extracting MNIST-data/t10k-images-idx3-ubyte.gz\n",
      "Extracting MNIST-data/t10k-labels-idx1-ubyte.gz\n"
     ]
    }
   ],
   "source": [
    "mnist = learn.datasets.load_dataset('mnist')"
   ]
  },
  {
   "cell_type": "code",
   "execution_count": 6,
   "metadata": {
    "collapsed": true
   },
   "outputs": [],
   "source": [
    "data = mnist.train.images\n",
    "labels = np.asarray(mnist.train.labels, dtype=np.int32)\n",
    "test_data = mnist.test.images\n",
    "test_labels = np.asarray(mnist.test.labels, dtype=np.int32)"
   ]
  },
  {
   "cell_type": "code",
   "execution_count": 7,
   "metadata": {
    "collapsed": false
   },
   "outputs": [],
   "source": [
    "max_examples = 10000\n",
    "data = data[:max_examples]\n",
    "labels = labels[:max_examples]"
   ]
  },
  {
   "cell_type": "code",
   "execution_count": 7,
   "metadata": {
    "collapsed": true
   },
   "outputs": [],
   "source": [
    "def display(i):\n",
    "    img = test_data[i]\n",
    "    plt.title('Example %d. Label: %d' % (i, test_labels[i]))\n",
    "    plt.imshow(img.reshape((28,28)), cmap=plt.cm.gray_r)    "
   ]
  },
  {
   "cell_type": "code",
   "execution_count": 8,
   "metadata": {
    "collapsed": false
   },
   "outputs": [
    {
     "data": {
      "image/png": "[encoded data removed]",
      "text/plain": [
       "<matplotlib.figure.Figure at 0x7fd40e30a390>"
      ]
     },
     "metadata": {},
     "output_type": "display_data"
    }
   ],
   "source": [
    "display(100)"
   ]
  },
  {
   "cell_type": "code",
   "execution_count": 4,
   "metadata": {
    "collapsed": false
   },
   "outputs": [
    {
     "name": "stdout",
     "output_type": "stream",
     "text": [
      "Extracting mnist/train-images-idx3-ubyte.gz\n",
      "Extracting mnist/train-labels-idx1-ubyte.gz\n",
      "Extracting mnist/t10k-images-idx3-ubyte.gz\n",
      "Extracting mnist/t10k-labels-idx1-ubyte.gz\n"
     ]
    }
   ],
   "source": [
    "# Data loading and preprocessing\n",
    "import tflearn.datasets.mnist as mnist\n",
    "X, Y, testX, testY = mnist.load_data(one_hot=True)"
   ]
  },
  {
   "cell_type": "code",
   "execution_count": 5,
   "metadata": {
    "collapsed": false
   },
   "outputs": [],
   "source": [
    "max_examples = 10000\n",
    "X = X.reshape([-1, 28, 28, 1])[:max_examples]\n",
    "testX = testX.reshape([-1, 28, 28, 1])"
   ]
  },
  {
   "cell_type": "code",
   "execution_count": 10,
   "metadata": {
    "collapsed": false
   },
   "outputs": [
    {
     "name": "stdout",
     "output_type": "stream",
     "text": [
      "Training Step: 157  | total loss: \u001b[1m\u001b[32m0.22930\u001b[0m\u001b[0m\n",
      "| Adam | epoch: 001 | loss: 0.22930 - acc: 0.9326 | val_loss: 0.13490 - val_acc: 0.9602 -- iter: 10000/10000\n",
      "Training Step: 157  | total loss: \u001b[1m\u001b[32m0.22930\u001b[0m\u001b[0m\n",
      "| Adam | epoch: 001 | loss: 0.22930 - acc: 0.9326 | val_loss: 0.13490 - val_acc: 0.9602 -- iter: 10000/10000\n",
      "--\n"
     ]
    }
   ],
   "source": [
    "\n",
    "# Building convolutional network\n",
    "network = input_data(shape=[None, 28, 28, 1], name='input')\n",
    "network = conv_2d(network, 32, 3, activation='relu', regularizer=\"L2\")\n",
    "network = max_pool_2d(network, 2)\n",
    "network = local_response_normalization(network)\n",
    "network = conv_2d(network, 64, 3, activation='relu', regularizer=\"L2\")\n",
    "network = max_pool_2d(network, 2)\n",
    "network = local_response_normalization(network)\n",
    "network = fully_connected(network, 128, activation='relu')\n",
    "network = dropout(network, 0.8)\n",
    "network = fully_connected(network, 256, activation='relu')\n",
    "network = dropout(network, 0.8)\n",
    "network = fully_connected(network, 10, activation='softmax')\n",
    "network = regression(network, optimizer='adam', learning_rate=0.01,\n",
    "                     loss='categorical_crossentropy', name='target')\n",
    "\n",
    "# Training\n",
    "model = tflearn.DNN(network, tensorboard_verbose=3, tensorboard_dir='./logs/')\n",
    "model.fit({'input': X}, {'target': Y}, n_epoch=1,\n",
    "           validation_set=({'input': testX}, {'target': testY}),\n",
    "           snapshot_step=100, show_metric=True, run_id='convnet_mnist')"
   ]
  },
  {
   "cell_type": "code",
   "execution_count": 6,
   "metadata": {
    "collapsed": false
   },
   "outputs": [],
   "source": [
    "from tflearn.layers.core import flatten\n",
    "\n",
    "IMAGE_STD_HEIGHT = 28\n",
    "IMAGE_STD_WIDTH = 28\n",
    "RGB_COLOR_COUNT = 1\n",
    "OPTIMIZER = tflearn.optimizers.AdaDelta(learning_rate=1.0, rho=0.95)\n",
    "# , epsilon=1e-08, use_locking=False, name='AdaDelta')# 'adam' # 'adadelta'\n",
    "# (lr=1.0, rho=0.95, epsilon=1e-08, decay=0.0)\n",
    "\n",
    "# This is the same as keras default glorot_normal\n",
    "INIT = tflearn.initializations.xavier(uniform=False) # , seed=None, dtype=tf.float32)\n",
    "CLASS_COUNT = 10\n",
    "\n",
    "def conv_2d_specialized(incoming, nb_filter, filter_size):\n",
    "    return conv_2d(incoming, nb_filter, filter_size,\n",
    "        padding='valid',\n",
    "        activation='relu',\n",
    "        weights_init=INIT) #, regularizer=\"L2\")\n",
    "\n",
    "def create_cnn_layers():\n",
    "    shape = [None, IMAGE_STD_HEIGHT, IMAGE_STD_WIDTH, RGB_COLOR_COUNT]\n",
    "\n",
    "    # input_layer = Input(name='input', shape=shape)\n",
    "    input_layer = input_data(name='input', shape=shape)\n",
    "    # h = Convolution2D(22, 5, 5, activation='relu', dim_ordering=dim_ordering)(input_layer)\n",
    "    h = conv_2d_specialized(input_layer, 22, [5, 5])\n",
    "    POOL_SIZE = [2, 2]\n",
    "    # h = MaxPooling2D(pool_size=POOL_SIZE)(h)\n",
    "    h = max_pool_2d(h, POOL_SIZE, padding='valid')\n",
    "    h = local_response_normalization(h)\n",
    "    # h = Convolution2D(44, 3, 3, activation='relu', dim_ordering=dim_ordering)(h)\n",
    "    h = conv_2d_specialized(h, 44, [3, 3])\n",
    "    # h = MaxPooling2D(pool_size=POOL_SIZE)(h)\n",
    "    h = max_pool_2d(h, POOL_SIZE, padding='valid')\n",
    "    h = local_response_normalization(h)\n",
    "    # h = Dropout(0.25)(h)\n",
    "    h = dropout(h, 1-0.25)\n",
    "    # last_cnn_layer = Flatten()(h)\n",
    "    last_cnn_layer = flatten(h)\n",
    "    return input_layer, last_cnn_layer\n",
    "\n",
    "def create_single_digit_model():\n",
    "    input_layer, last_cnn_layer = create_cnn_layers()\n",
    "\n",
    "    # h = Dense(256, activation='relu')(last_cnn_layer)\n",
    "    h = fully_connected(last_cnn_layer, 256, activation='relu', weights_init=INIT)\n",
    "    # h = Dropout(0.5)(h)\n",
    "    h = dropout(h, 1-0.5)\n",
    "    # output_layer = Dense(CLASS_COUNT, activation='softmax', name='out')(h)\n",
    "    output_layer = fully_connected(h, CLASS_COUNT, activation='softmax', weights_init=INIT)\n",
    "    network = regression(output_layer, optimizer=OPTIMIZER,\n",
    "                     learning_rate=0.1,\n",
    "                     loss='categorical_crossentropy', name='out')\n",
    "    # model = Model(input_layer, output_layer)\n",
    "    model = tflearn.DNN(network, tensorboard_verbose=3, tensorboard_dir='./logs/')\n",
    "    return model"
   ]
  },
  {
   "cell_type": "code",
   "execution_count": 7,
   "metadata": {
    "collapsed": false
   },
   "outputs": [
    {
     "name": "stdout",
     "output_type": "stream",
     "text": [
      "Training Step: 471  | total loss: \u001b[1m\u001b[32m0.18873\u001b[0m\u001b[0m\n",
      "| AdaDelta | epoch: 003 | loss: 0.18873 - acc: 0.9393 | val_loss: 0.10362 - val_acc: 0.9705 -- iter: 10000/10000\n",
      "Training Step: 471  | total loss: \u001b[1m\u001b[32m0.18873\u001b[0m\u001b[0m\n",
      "| AdaDelta | epoch: 003 | loss: 0.18873 - acc: 0.9393 | val_loss: 0.10362 - val_acc: 0.9705 -- iter: 10000/10000\n",
      "--\n"
     ]
    }
   ],
   "source": [
    "tf.logging.set_verbosity(tf.logging.ERROR)\n",
    "model = create_single_digit_model()\n",
    "model.fit({'input': X}, {'out': Y}, n_epoch=3,\n",
    "           validation_set=({'input': testX}, {'out': testY}),\n",
    "           snapshot_step=100, show_metric=True, run_id='conv4captcha_mnist')"
   ]
  },
  {
   "cell_type": "code",
   "execution_count": 9,
   "metadata": {
    "collapsed": false
   },
   "outputs": [],
   "source": [
    "sc = tf.get_variable_scope()"
   ]
  },
  {
   "cell_type": "code",
   "execution_count": 19,
   "metadata": {
    "collapsed": false
   },
   "outputs": [
    {
     "data": {
      "text/plain": [
       "[u'is_training:0',\n",
       " u'Conv2D/W:0',\n",
       " u'Conv2D/b:0',\n",
       " u'Conv2D_1/W:0',\n",
       " u'Conv2D_1/b:0',\n",
       " u'FullyConnected/W:0',\n",
       " u'FullyConnected/b:0',\n",
       " u'FullyConnected_1/W:0',\n",
       " u'FullyConnected_1/b:0',\n",
       " u'Training_step:0',\n",
       " u'Global_Step:0',\n",
       " u'val_loss:0',\n",
       " u'val_acc:0',\n",
       " u'Accuracy/Mean/moving_avg:0',\n",
       " u'Accuracy/Mean/moving_avg/biased:0',\n",
       " u'Accuracy/Mean/moving_avg/local_step:0',\n",
       " u'AdaDelta/Crossentropy/Mean/moving_avg:0',\n",
       " u'AdaDelta/Crossentropy/Mean/moving_avg/biased:0',\n",
       " u'AdaDelta/Crossentropy/Mean/moving_avg/local_step:0',\n",
       " u'AdaDelta/Conv2D/W/AdaDelta:0',\n",
       " u'AdaDelta/Conv2D/W/AdaDelta_1:0',\n",
       " u'AdaDelta/Conv2D/b/AdaDelta:0',\n",
       " u'AdaDelta/Conv2D/b/AdaDelta_1:0',\n",
       " u'AdaDelta/Conv2D_1/W/AdaDelta:0',\n",
       " u'AdaDelta/Conv2D_1/W/AdaDelta_1:0',\n",
       " u'AdaDelta/Conv2D_1/b/AdaDelta:0',\n",
       " u'AdaDelta/Conv2D_1/b/AdaDelta_1:0',\n",
       " u'AdaDelta/FullyConnected/W/AdaDelta:0',\n",
       " u'AdaDelta/FullyConnected/W/AdaDelta_1:0',\n",
       " u'AdaDelta/FullyConnected/b/AdaDelta:0',\n",
       " u'AdaDelta/FullyConnected/b/AdaDelta_1:0',\n",
       " u'AdaDelta/FullyConnected_1/W/AdaDelta:0',\n",
       " u'AdaDelta/FullyConnected_1/W/AdaDelta_1:0',\n",
       " u'AdaDelta/FullyConnected_1/b/AdaDelta:0',\n",
       " u'AdaDelta/FullyConnected_1/b/AdaDelta_1:0']"
      ]
     },
     "execution_count": 19,
     "metadata": {},
     "output_type": "execute_result"
    }
   ],
   "source": [
    "[v.name for v in tflearn.variables.get_all_variables()]"
   ]
  },
  {
   "cell_type": "code",
   "execution_count": 20,
   "metadata": {
    "collapsed": false
   },
   "outputs": [
    {
     "data": {
      "text/plain": [
       "[u'Conv2D/W:0',\n",
       " u'Conv2D/b:0',\n",
       " u'Conv2D_1/W:0',\n",
       " u'Conv2D_1/b:0',\n",
       " u'FullyConnected/W:0',\n",
       " u'FullyConnected/b:0',\n",
       " u'FullyConnected_1/W:0',\n",
       " u'FullyConnected_1/b:0']"
      ]
     },
     "execution_count": 20,
     "metadata": {},
     "output_type": "execute_result"
    }
   ],
   "source": [
    "[v.name for v in tflearn.variables.get_all_trainable_variable()]"
   ]
  },
  {
   "cell_type": "code",
   "execution_count": null,
   "metadata": {
    "collapsed": true
   },
   "outputs": [],
   "source": []
  }
 ],
 "metadata": {
  "kernelspec": {
   "display_name": "Python 2",
   "language": "python",
   "name": "python2"
  },
  "language_info": {
   "codemirror_mode": {
    "name": "ipython",
    "version": 2
   },
   "file_extension": ".py",
   "mimetype": "text/x-python",
   "name": "python",
   "nbconvert_exporter": "python",
   "pygments_lexer": "ipython2",
   "version": "2.7.6"
  }
 },
 "nbformat": 4,
 "nbformat_minor": 0
}
