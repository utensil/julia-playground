{
 "cells": [
  {
   "cell_type": "code",
   "execution_count": 1,
   "metadata": {},
   "outputs": [],
   "source": [
    "import numpy as np"
   ]
  },
  {
   "cell_type": "code",
   "execution_count": 2,
   "metadata": {},
   "outputs": [],
   "source": [
    "def nn(x, w): return np.sign(np.dot(x, w)).astype(int)"
   ]
  },
  {
   "cell_type": "code",
   "execution_count": 3,
   "metadata": {},
   "outputs": [],
   "source": [
    "x = np.array([[-2,4,-1], [4,1,-1], [1, 6, -1], [2, 4, -1], [6, 2, -1]])\n",
    "t = np.array([-1, -1, 1, 1, 1])"
   ]
  },
  {
   "cell_type": "code",
   "execution_count": 4,
   "metadata": {},
   "outputs": [],
   "source": [
    "n_samples, n_features = x.shape"
   ]
  },
  {
   "cell_type": "code",
   "execution_count": 5,
   "metadata": {},
   "outputs": [],
   "source": [
    "w = np.zeros(n_features)"
   ]
  },
  {
   "cell_type": "code",
   "execution_count": 6,
   "metadata": {},
   "outputs": [
    {
     "data": {
      "text/plain": [
       "array([0., 0., 0.])"
      ]
     },
     "execution_count": 6,
     "metadata": {},
     "output_type": "execute_result"
    }
   ],
   "source": [
    "w"
   ]
  },
  {
   "cell_type": "code",
   "execution_count": 7,
   "metadata": {},
   "outputs": [
    {
     "data": {
      "text/plain": [
       "array([0, 0, 0, 0, 0])"
      ]
     },
     "execution_count": 7,
     "metadata": {},
     "output_type": "execute_result"
    }
   ],
   "source": [
    "nn(x, w)"
   ]
  },
  {
   "cell_type": "code",
   "execution_count": 8,
   "metadata": {},
   "outputs": [
    {
     "data": {
      "text/plain": [
       "array([ 0,  1, -1])"
      ]
     },
     "execution_count": 8,
     "metadata": {},
     "output_type": "execute_result"
    }
   ],
   "source": [
    "np.sign([0, 10, -11])"
   ]
  },
  {
   "cell_type": "code",
   "execution_count": 9,
   "metadata": {},
   "outputs": [],
   "source": [
    "ld = 1 / 1000"
   ]
  },
  {
   "cell_type": "code",
   "execution_count": 48,
   "metadata": {},
   "outputs": [],
   "source": [
    "def cost(y, t, w, ld): return np.sum(np.fmax(1 - np.multiply(t, nn(x, w)), 0).reshape(-1, 1) + np.sum(ld * w ** 2, 0))"
   ]
  },
  {
   "cell_type": "code",
   "execution_count": 33,
   "metadata": {},
   "outputs": [],
   "source": [
    "def gradient(w, x, t, ld): \n",
    "  return np.sum(np.multiply(t.reshape(-1,1), x) * np.fmax(np.sign(1 - np.multiply(t, np.dot(x, w))), 0).reshape(-1,1), 0) + (ld * 2 * w)"
   ]
  },
  {
   "cell_type": "code",
   "execution_count": 12,
   "metadata": {},
   "outputs": [],
   "source": [
    "def delta_w(w, x, t, learning_rate, ld):\n",
    "    return learning_rate * gradient(w, x, t, ld)"
   ]
  },
  {
   "cell_type": "code",
   "execution_count": 36,
   "metadata": {},
   "outputs": [],
   "source": [
    "learning_rate = 0.1; nb_of_iterations = 20"
   ]
  },
  {
   "cell_type": "code",
   "execution_count": 49,
   "metadata": {},
   "outputs": [
    {
     "data": {
      "text/plain": [
       "[(array([0., 0., 0.]), array([0., 0., 0.]), 5.0),\n",
       " (array([-0.7, -0.7,  0.1]),\n",
       "  array([ 0.89986,  1.19986, -0.29998]),\n",
       "  6.004949999999999),\n",
       " (array([-1.59986, -1.89986,  0.39998]),\n",
       "  array([ 0.89968003,  1.19962003, -0.29992   ]),\n",
       "  6.031645020197999),\n",
       " (array([-2.49954003, -3.09948003,  0.6999    ]),\n",
       "  array([ 0.89950009,  1.1993801 , -0.29986002]),\n",
       "  6.081721684055722),\n",
       " (array([-3.39904012, -4.29886013,  0.99976002]),\n",
       "  array([ 0.89932019,  1.19914023, -0.29980005]),\n",
       "  6.155165961386848),\n",
       " (array([-4.29836031, -5.49800036,  1.29956007]),\n",
       "  array([ 0.89914033,  1.1989004 , -0.29974009]),\n",
       "  6.251963828552264),\n",
       " (array([-5.19750064, -6.69690076,  1.59930016]),\n",
       "  array([ 0.8989605 ,  1.19866062, -0.29968014]),\n",
       "  6.372101268457259),\n",
       " (array([-6.09646114, -7.89556138,  1.8989803 ]),\n",
       "  array([ 0.89878071,  1.19842089, -0.2996202 ]),\n",
       "  6.515564270548721),\n",
       " (array([-6.99524185, -9.09398227,  2.1986005 ]),\n",
       "  array([ 0.89860095,  1.1981812 , -0.29956028]),\n",
       "  6.682338830812322),\n",
       " (array([ -7.8938428 , -10.29216347,   2.49816078]),\n",
       "  array([ 0.89842123,  1.19794157, -0.29950037]),\n",
       "  6.872410951769728),\n",
       " (array([ -8.79226403, -11.49010504,   2.79766115]),\n",
       "  array([ 0.89824155,  1.19770198, -0.29944047]),\n",
       "  7.0857666424758),\n",
       " (array([ -9.69050558, -12.68780702,   3.09710162]),\n",
       "  array([ 0.8980619 ,  1.19746244, -0.29938058]),\n",
       "  7.322391918515777),\n",
       " (array([-10.58856748, -13.88526946,   3.3964822 ]),\n",
       "  array([ 0.89788229,  1.19722295, -0.2993207 ]),\n",
       "  7.582272802002498),\n",
       " (array([-11.48644976, -15.0824924 ,   3.6958029 ]),\n",
       "  array([ 0.89770271,  1.1969835 , -0.29926084]),\n",
       "  7.865395321573587),\n",
       " (array([-12.38415247, -16.2794759 ,   3.99506374]),\n",
       "  array([ 0.89752317,  1.1967441 , -0.29920099]),\n",
       "  8.171745512388664),\n",
       " (array([-13.28167564, -17.47622001,   4.29426473]),\n",
       "  array([ 0.89734366,  1.19650476, -0.29914115]),\n",
       "  8.501309416126563),\n",
       " (array([-14.17901931, -18.67272476,   4.59340588]),\n",
       "  array([ 0.8971642 ,  1.19626546, -0.29908132]),\n",
       "  8.854073080982506),\n",
       " (array([-15.0761835 , -19.86899022,   4.8924872 ]),\n",
       "  array([ 0.89698476,  1.1960262 , -0.2990215 ]),\n",
       "  9.23002256166534),\n",
       " (array([-15.97316827, -21.06501642,   5.1915087 ]),\n",
       "  array([ 0.89680537,  1.195787  , -0.2989617 ]),\n",
       "  9.629143919394728),\n",
       " (array([-16.86997363, -22.26080342,   5.4904704 ]),\n",
       "  array([ 0.89662601,  1.19554784, -0.29890191]),\n",
       "  10.05142322189837),\n",
       " (array([-17.76659964, -23.45635126,   5.7893723 ]),\n",
       "  array([ 0.89644668,  1.19530873, -0.29884213]),\n",
       "  10.496846543409202)]"
      ]
     },
     "execution_count": 49,
     "metadata": {},
     "output_type": "execute_result"
    }
   ],
   "source": [
    "w = np.zeros(n_features)\n",
    "w_cost = [(w, w, cost(nn(x, w), t, w, ld))]\n",
    "for i in range(nb_of_iterations):\n",
    "    w = w - delta_w(w, x, t, learning_rate, ld)\n",
    "    w_cost.append((w, delta_w(w, x, t, learning_rate, ld), cost(nn(x, w), t, w, ld)))\n",
    "w_cost"
   ]
  },
  {
   "cell_type": "code",
   "execution_count": 16,
   "metadata": {},
   "outputs": [
    {
     "data": {
      "text/plain": [
       "array([-1, -1,  1,  1,  1])"
      ]
     },
     "execution_count": 16,
     "metadata": {},
     "output_type": "execute_result"
    }
   ],
   "source": [
    "t"
   ]
  },
  {
   "cell_type": "code",
   "execution_count": 17,
   "metadata": {},
   "outputs": [
    {
     "data": {
      "text/plain": [
       "array([-1, -1, -1, -1, -1])"
      ]
     },
     "execution_count": 17,
     "metadata": {},
     "output_type": "execute_result"
    }
   ],
   "source": [
    "nn(x, w)"
   ]
  },
  {
   "cell_type": "code",
   "execution_count": 18,
   "metadata": {
    "scrolled": true
   },
   "outputs": [
    {
     "data": {
      "text/plain": [
       "array([ 1,  1, -1, -1, -1])"
      ]
     },
     "execution_count": 18,
     "metadata": {},
     "output_type": "execute_result"
    }
   ],
   "source": [
    "np.multiply(t, nn(x, w))"
   ]
  },
  {
   "cell_type": "code",
   "execution_count": 19,
   "metadata": {},
   "outputs": [
    {
     "data": {
      "text/plain": [
       "array([0, 0, 2, 2, 2])"
      ]
     },
     "execution_count": 19,
     "metadata": {},
     "output_type": "execute_result"
    }
   ],
   "source": [
    "np.fmax(1 - np.multiply(t, nn(x, w)), 0)"
   ]
  },
  {
   "cell_type": "code",
   "execution_count": 20,
   "metadata": {},
   "outputs": [
    {
     "data": {
      "text/plain": [
       "array([-17.73373539, -23.43373539,   5.86626461])"
      ]
     },
     "execution_count": 20,
     "metadata": {},
     "output_type": "execute_result"
    }
   ],
   "source": [
    "w"
   ]
  },
  {
   "cell_type": "code",
   "execution_count": 21,
   "metadata": {},
   "outputs": [
    {
     "data": {
      "text/plain": [
       "array([314.48537081, 549.13995424,  34.4130605 ])"
      ]
     },
     "execution_count": 21,
     "metadata": {},
     "output_type": "execute_result"
    }
   ],
   "source": [
    "w ** 2"
   ]
  },
  {
   "cell_type": "code",
   "execution_count": 22,
   "metadata": {},
   "outputs": [
    {
     "data": {
      "text/plain": [
       "6.898038385550921"
      ]
     },
     "execution_count": 22,
     "metadata": {},
     "output_type": "execute_result"
    }
   ],
   "source": [
    "cost(nn(x, w), t, w, ld)"
   ]
  },
  {
   "cell_type": "code",
   "execution_count": 23,
   "metadata": {},
   "outputs": [
    {
     "data": {
      "text/plain": [
       "array([0., 0., 1., 1., 1.])"
      ]
     },
     "execution_count": 23,
     "metadata": {},
     "output_type": "execute_result"
    }
   ],
   "source": [
    "np.fmax(np.sign(1 - np.multiply(t, np.dot(x, w))), 0) "
   ]
  },
  {
   "cell_type": "code",
   "execution_count": 24,
   "metadata": {},
   "outputs": [
    {
     "data": {
      "text/plain": [
       "array([ 7,  7, -1])"
      ]
     },
     "execution_count": 24,
     "metadata": {},
     "output_type": "execute_result"
    }
   ],
   "source": [
    "np.sum(np.multiply(t.reshape(-1,1), x), 0)"
   ]
  },
  {
   "cell_type": "code",
   "execution_count": 25,
   "metadata": {},
   "outputs": [
    {
     "data": {
      "text/plain": [
       "array([-1, -1,  1,  1,  1])"
      ]
     },
     "execution_count": 25,
     "metadata": {},
     "output_type": "execute_result"
    }
   ],
   "source": [
    "t"
   ]
  },
  {
   "cell_type": "code",
   "execution_count": 26,
   "metadata": {},
   "outputs": [
    {
     "data": {
      "text/plain": [
       "array([-1, -1,  1,  1,  1])"
      ]
     },
     "execution_count": 26,
     "metadata": {},
     "output_type": "execute_result"
    }
   ],
   "source": [
    "t.T"
   ]
  },
  {
   "cell_type": "code",
   "execution_count": 27,
   "metadata": {},
   "outputs": [
    {
     "data": {
      "text/plain": [
       "array([ True,  True,  True,  True,  True])"
      ]
     },
     "execution_count": 27,
     "metadata": {},
     "output_type": "execute_result"
    }
   ],
   "source": [
    "t == t.T"
   ]
  },
  {
   "cell_type": "code",
   "execution_count": 28,
   "metadata": {},
   "outputs": [
    {
     "data": {
      "text/plain": [
       "array([ 9., 12., -3.])"
      ]
     },
     "execution_count": 28,
     "metadata": {},
     "output_type": "execute_result"
    }
   ],
   "source": [
    "np.sum(np.multiply(t.reshape(-1,1), x) * np.fmax(np.sign(1 - np.multiply(t, np.dot(x, w))), 0).reshape(-1,1), 0) "
   ]
  },
  {
   "cell_type": "code",
   "execution_count": 47,
   "metadata": {},
   "outputs": [
    {
     "data": {
      "text/plain": [
       "5.0"
      ]
     },
     "execution_count": 47,
     "metadata": {},
     "output_type": "execute_result"
    }
   ],
   "source": [
    "np.sum(np.fmax(1 - np.multiply(t, nn(x, w)), 0).reshape(-1, 1) + np.sum(ld * w ** 2, 0))"
   ]
  },
  {
   "cell_type": "code",
   "execution_count": null,
   "metadata": {},
   "outputs": [],
   "source": []
  }
 ],
 "metadata": {
  "kernelspec": {
   "display_name": "Python 3",
   "language": "python",
   "name": "python3"
  },
  "language_info": {
   "codemirror_mode": {
    "name": "ipython",
    "version": 3
   },
   "file_extension": ".py",
   "mimetype": "text/x-python",
   "name": "python",
   "nbconvert_exporter": "python",
   "pygments_lexer": "ipython3",
   "version": "3.5.2"
  }
 },
 "nbformat": 4,
 "nbformat_minor": 2
}
