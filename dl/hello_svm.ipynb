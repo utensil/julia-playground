{
 "cells": [
  {
   "cell_type": "code",
   "execution_count": 1,
   "metadata": {},
   "outputs": [],
   "source": [
    "import numpy as np"
   ]
  },
  {
   "cell_type": "code",
   "execution_count": 2,
   "metadata": {},
   "outputs": [],
   "source": [
    "def nn(x, w): return np.sign(np.dot(x, w)).astype(int)"
   ]
  },
  {
   "cell_type": "code",
   "execution_count": 3,
   "metadata": {},
   "outputs": [],
   "source": [
    "x = np.array([[-2,4,-1], [4,1,-1], [1, 6, -1], [2, 4, -1], [6, 2, -1]])\n",
    "t = np.array([-1, -1, 1, 1, 1])"
   ]
  },
  {
   "cell_type": "code",
   "execution_count": 4,
   "metadata": {},
   "outputs": [],
   "source": [
    "n_samples, n_features = x.shape"
   ]
  },
  {
   "cell_type": "code",
   "execution_count": 5,
   "metadata": {},
   "outputs": [],
   "source": [
    "w = np.zeros(n_features)"
   ]
  },
  {
   "cell_type": "code",
   "execution_count": 6,
   "metadata": {},
   "outputs": [
    {
     "data": {
      "text/plain": [
       "array([ 0.,  0.,  0.])"
      ]
     },
     "execution_count": 6,
     "metadata": {},
     "output_type": "execute_result"
    }
   ],
   "source": [
    "w"
   ]
  },
  {
   "cell_type": "code",
   "execution_count": 7,
   "metadata": {},
   "outputs": [
    {
     "data": {
      "text/plain": [
       "array([0, 0, 0, 0, 0])"
      ]
     },
     "execution_count": 7,
     "metadata": {},
     "output_type": "execute_result"
    }
   ],
   "source": [
    "nn(x, w)"
   ]
  },
  {
   "cell_type": "code",
   "execution_count": 8,
   "metadata": {
    "scrolled": true
   },
   "outputs": [
    {
     "data": {
      "text/plain": [
       "array([ 0,  1, -1])"
      ]
     },
     "execution_count": 8,
     "metadata": {},
     "output_type": "execute_result"
    }
   ],
   "source": [
    "np.sign([0, 10, -11])"
   ]
  },
  {
   "cell_type": "code",
   "execution_count": 9,
   "metadata": {},
   "outputs": [],
   "source": [
    "ld = 1 / 1000"
   ]
  },
  {
   "cell_type": "code",
   "execution_count": 59,
   "metadata": {},
   "outputs": [],
   "source": [
    "def cost(y, t, w, ld): return np.sum(is_misclassified(w, x, t)) + np.sum(ld * w ** 2, 0)"
   ]
  },
  {
   "cell_type": "code",
   "execution_count": 50,
   "metadata": {},
   "outputs": [],
   "source": [
    "def is_misclassified(w, x, t): return np.fmax(np.sign(1 - np.multiply(t, np.dot(x, w))), 0).reshape(-1,1)"
   ]
  },
  {
   "cell_type": "code",
   "execution_count": 62,
   "metadata": {},
   "outputs": [],
   "source": [
    "def gradient(w, x, t, ld): \n",
    "  return np.sum((ld * 2 * w) - x * t.reshape(-1, 1) * is_misclassified(w, x, t), 0)"
   ]
  },
  {
   "cell_type": "code",
   "execution_count": 12,
   "metadata": {},
   "outputs": [],
   "source": [
    "def delta_w(w, x, t, learning_rate, ld):\n",
    "    return learning_rate * gradient(w, x, t, ld)"
   ]
  },
  {
   "cell_type": "code",
   "execution_count": 57,
   "metadata": {},
   "outputs": [],
   "source": [
    "learning_rate = 0.1; nb_of_iterations = 20"
   ]
  },
  {
   "cell_type": "code",
   "execution_count": 64,
   "metadata": {},
   "outputs": [
    {
     "data": {
      "text/plain": [
       "[(array([ 0.,  0.,  0.]), array([ 0.,  0.,  0.]), 5.0),\n",
       " (array([ 0.7,  0.7, -0.1]), array([[ 1.],\n",
       "         [ 1.],\n",
       "         [ 0.],\n",
       "         [ 0.],\n",
       "         [ 0.]]), array([ 0.2007,  0.5007, -0.2001]), 2.0009899999999998),\n",
       " (array([ 0.4993,  0.1993,  0.1001]), array([[ 1.],\n",
       "         [ 1.],\n",
       "         [ 0.],\n",
       "         [ 0.],\n",
       "         [ 0.]]), array([ 0.2004993,  0.5001993, -0.1998999]), 2.0002990409899999),\n",
       " (array([ 0.2988007, -0.3008993,  0.2999999]), array([[ 0.],\n",
       "         [ 1.],\n",
       "         [ 1.],\n",
       "         [ 1.],\n",
       "         [ 1.]]), array([-0.4997012, -1.1003009,  0.2003   ]), 4.000269822187061),\n",
       " (array([ 0.7985019,  0.7994016,  0.0996999]), array([[ 1.],\n",
       "         [ 1.],\n",
       "         [ 0.],\n",
       "         [ 0.],\n",
       "         [ 0.]]), array([ 0.2007985,  0.5007994, -0.1999003]), 2.0012865882702289),\n",
       " (array([ 0.5977034,  0.2986022,  0.2996002]), array([[ 1.],\n",
       "         [ 1.],\n",
       "         [ 0.],\n",
       "         [ 0.],\n",
       "         [ 0.]]), array([ 0.2005977,  0.5002986, -0.1997004]), 2.0005361729036957),\n",
       " (array([ 0.39710569, -0.2016964 ,  0.4993006 ]), array([[ 0.],\n",
       "         [ 1.],\n",
       "         [ 1.],\n",
       "         [ 1.],\n",
       "         [ 0.]]), array([ 0.10039711, -0.9002017 ,  0.1004993 ]), 3.0004476754609568),\n",
       " (array([ 0.29670859,  0.69850529,  0.3988013 ]), array([[ 1.],\n",
       "         [ 1.],\n",
       "         [ 0.],\n",
       "         [ 0.],\n",
       "         [ 0.]]), array([ 0.20029671,  0.50069851, -0.1996012 ]), 2.0007349881056022),\n",
       " (array([ 0.09641188,  0.19780679,  0.5984025 ]), array([[ 1.],\n",
       "         [ 1.],\n",
       "         [ 1.],\n",
       "         [ 1.],\n",
       "         [ 1.]]), array([-0.69990359, -0.69980219,  0.1005984 ]), 5.0004065083251152),\n",
       " (array([ 0.79631547,  0.89760898,  0.4978041 ]), array([[ 1.],\n",
       "         [ 1.],\n",
       "         [ 0.],\n",
       "         [ 0.],\n",
       "         [ 0.]]), array([ 0.20079632,  0.50089761, -0.1995022 ]), 2.0016876291225913),\n",
       " (array([ 0.59551915,  0.39671137,  0.69730629]), array([[ 1.],\n",
       "         [ 1.],\n",
       "         [ 0.],\n",
       "         [ 0.],\n",
       "         [ 0.]]), array([ 0.20059552,  0.50039671, -0.19930269]), 2.0009982590367792),\n",
       " (array([ 0.39492363, -0.10368534,  0.89660899]), array([[ 0.],\n",
       "         [ 1.],\n",
       "         [ 1.],\n",
       "         [ 1.],\n",
       "         [ 0.]]), array([ 0.10039492, -0.90010369,  0.10089661]), 3.0009706229982842),\n",
       " (array([ 0.29452871,  0.79641834,  0.79571238]), array([[ 1.],\n",
       "         [ 1.],\n",
       "         [ 0.],\n",
       "         [ 0.],\n",
       "         [ 0.]]), array([ 0.20029453,  0.50079642, -0.19920429]), 2.0013541875264207),\n",
       " (array([ 0.09423418,  0.29562193,  0.99491666]), array([[ 1.],\n",
       "         [ 1.],\n",
       "         [ 1.],\n",
       "         [ 1.],\n",
       "         [ 1.]]), array([-0.69990577, -0.69970438,  0.10099492]), 5.0010861315722712),\n",
       " (array([ 0.79413995,  0.9953263 ,  0.89392175]), array([[ 1.],\n",
       "         [ 1.],\n",
       "         [ 0.],\n",
       "         [ 0.],\n",
       "         [ 0.]]), array([ 0.20079414,  0.50099533, -0.19910608]), 2.0024204287975635),\n",
       " (array([ 0.59334581,  0.49433098,  1.09302783]), array([[ 1.],\n",
       "         [ 1.],\n",
       "         [ 0.],\n",
       "         [ 0.],\n",
       "         [ 0.]]), array([ 0.20059335,  0.50049433, -0.19890697]), 2.0017911321896311),\n",
       " (array([ 0.39275246, -0.00616335,  1.2919348 ]), array([[ 0.],\n",
       "         [ 1.],\n",
       "         [ 1.],\n",
       "         [ 1.],\n",
       "         [ 0.]]), array([ 0.10039275, -0.90000616,  0.10129193]), 3.0018233880037886),\n",
       " (array([ 0.29235971,  0.89384281,  1.19064286]), array([[ 1.],\n",
       "         [ 1.],\n",
       "         [ 0.],\n",
       "         [ 0.],\n",
       "         [ 0.]]), array([ 0.20029236,  0.50089384, -0.19880936]), 2.0023020595960199),\n",
       " (array([ 0.09206735,  0.39294897,  1.38945222]), array([[ 1.],\n",
       "         [ 1.],\n",
       "         [ 0.],\n",
       "         [ 1.],\n",
       "         [ 1.]]), array([-0.59990793, -0.09960705,  0.00138945]), 4.0020934627595537),\n",
       " (array([ 0.69197528,  0.49255602,  1.38806277]), array([[ 1.],\n",
       "         [ 1.],\n",
       "         [ 0.],\n",
       "         [ 0.],\n",
       "         [ 0.]]), array([ 0.20069198,  0.50049256, -0.19861194]), 2.002648159468976),\n",
       " (array([ 0.49128331, -0.00793654,  1.5866747 ]), array([[ 0.],\n",
       "         [ 1.],\n",
       "         [ 1.],\n",
       "         [ 1.],\n",
       "         [ 0.]]), array([ 0.10049128, -0.90000794,  0.10158667]), 3.0027589588949071)]"
      ]
     },
     "execution_count": 64,
     "metadata": {},
     "output_type": "execute_result"
    }
   ],
   "source": [
    "w = np.zeros(n_features)\n",
    "w_cost = [(w, w, cost(nn(x, w), t, w, ld))]\n",
    "for i in range(nb_of_iterations):\n",
    "    w = w - delta_w(w, x, t, learning_rate, ld)\n",
    "    w_cost.append((w, is_misclassified(w, x, t), delta_w(w, x, t, learning_rate, ld), cost(nn(x, w), t, w, ld)))\n",
    "w_cost"
   ]
  },
  {
   "cell_type": "code",
   "execution_count": 37,
   "metadata": {},
   "outputs": [
    {
     "data": {
      "text/plain": [
       "array([-1, -1,  1,  1,  1])"
      ]
     },
     "execution_count": 37,
     "metadata": {},
     "output_type": "execute_result"
    }
   ],
   "source": [
    "t"
   ]
  },
  {
   "cell_type": "code",
   "execution_count": 16,
   "metadata": {},
   "outputs": [
    {
     "data": {
      "text/plain": [
       "array([-1, -1, -1, -1, -1])"
      ]
     },
     "execution_count": 16,
     "metadata": {},
     "output_type": "execute_result"
    }
   ],
   "source": [
    "nn(x, w)"
   ]
  },
  {
   "cell_type": "code",
   "execution_count": 17,
   "metadata": {
    "scrolled": true
   },
   "outputs": [
    {
     "data": {
      "text/plain": [
       "array([ 1,  1, -1, -1, -1])"
      ]
     },
     "execution_count": 17,
     "metadata": {},
     "output_type": "execute_result"
    }
   ],
   "source": [
    "np.multiply(t, nn(x, w))"
   ]
  },
  {
   "cell_type": "code",
   "execution_count": 18,
   "metadata": {},
   "outputs": [
    {
     "data": {
      "text/plain": [
       "array([0, 0, 2, 2, 2])"
      ]
     },
     "execution_count": 18,
     "metadata": {},
     "output_type": "execute_result"
    }
   ],
   "source": [
    "np.fmax(1 - np.multiply(t, nn(x, w)), 0)"
   ]
  },
  {
   "cell_type": "code",
   "execution_count": 19,
   "metadata": {},
   "outputs": [
    {
     "data": {
      "text/plain": [
       "array([-17.76659964, -23.45635126,   5.7893723 ])"
      ]
     },
     "execution_count": 19,
     "metadata": {},
     "output_type": "execute_result"
    }
   ],
   "source": [
    "w"
   ]
  },
  {
   "cell_type": "code",
   "execution_count": 20,
   "metadata": {},
   "outputs": [
    {
     "data": {
      "text/plain": [
       "array([ 315.65206272,  550.20041431,   33.51683165])"
      ]
     },
     "execution_count": 20,
     "metadata": {},
     "output_type": "execute_result"
    }
   ],
   "source": [
    "w ** 2"
   ]
  },
  {
   "cell_type": "code",
   "execution_count": 21,
   "metadata": {},
   "outputs": [
    {
     "data": {
      "text/plain": [
       "10.496846543409202"
      ]
     },
     "execution_count": 21,
     "metadata": {},
     "output_type": "execute_result"
    }
   ],
   "source": [
    "cost(nn(x, w), t, w, ld)"
   ]
  },
  {
   "cell_type": "code",
   "execution_count": 22,
   "metadata": {},
   "outputs": [
    {
     "data": {
      "text/plain": [
       "array([ 0.,  0.,  1.,  1.,  1.])"
      ]
     },
     "execution_count": 22,
     "metadata": {},
     "output_type": "execute_result"
    }
   ],
   "source": [
    "np.fmax(np.sign(1 - np.multiply(t, np.dot(x, w))), 0) "
   ]
  },
  {
   "cell_type": "code",
   "execution_count": 23,
   "metadata": {},
   "outputs": [
    {
     "data": {
      "text/plain": [
       "array([ 7,  7, -1])"
      ]
     },
     "execution_count": 23,
     "metadata": {},
     "output_type": "execute_result"
    }
   ],
   "source": [
    "np.sum(np.multiply(t.reshape(-1,1), x), 0)"
   ]
  },
  {
   "cell_type": "code",
   "execution_count": 24,
   "metadata": {},
   "outputs": [
    {
     "data": {
      "text/plain": [
       "array([-1, -1,  1,  1,  1])"
      ]
     },
     "execution_count": 24,
     "metadata": {},
     "output_type": "execute_result"
    }
   ],
   "source": [
    "t"
   ]
  },
  {
   "cell_type": "code",
   "execution_count": 25,
   "metadata": {},
   "outputs": [
    {
     "data": {
      "text/plain": [
       "array([-1, -1,  1,  1,  1])"
      ]
     },
     "execution_count": 25,
     "metadata": {},
     "output_type": "execute_result"
    }
   ],
   "source": [
    "t.T"
   ]
  },
  {
   "cell_type": "code",
   "execution_count": 26,
   "metadata": {},
   "outputs": [
    {
     "data": {
      "text/plain": [
       "array([ True,  True,  True,  True,  True], dtype=bool)"
      ]
     },
     "execution_count": 26,
     "metadata": {},
     "output_type": "execute_result"
    }
   ],
   "source": [
    "t == t.T"
   ]
  },
  {
   "cell_type": "code",
   "execution_count": 27,
   "metadata": {},
   "outputs": [
    {
     "data": {
      "text/plain": [
       "array([  9.,  12.,  -3.])"
      ]
     },
     "execution_count": 27,
     "metadata": {},
     "output_type": "execute_result"
    }
   ],
   "source": [
    "np.sum(np.multiply(t.reshape(-1,1), x) * np.fmax(np.sign(1 - np.multiply(t, np.dot(x, w))), 0).reshape(-1,1), 0) "
   ]
  },
  {
   "cell_type": "code",
   "execution_count": 28,
   "metadata": {},
   "outputs": [
    {
     "data": {
      "text/plain": [
       "10.496846543409202"
      ]
     },
     "execution_count": 28,
     "metadata": {},
     "output_type": "execute_result"
    }
   ],
   "source": [
    "np.sum(np.fmax(1 - np.multiply(t, nn(x, w)), 0).reshape(-1, 1) + np.sum(ld * w ** 2, 0))"
   ]
  },
  {
   "cell_type": "code",
   "execution_count": 48,
   "metadata": {},
   "outputs": [
    {
     "data": {
      "text/plain": [
       "(array([[-2,  4, -1],\n",
       "        [ 4,  1, -1],\n",
       "        [ 1,  6, -1],\n",
       "        [ 2,  4, -1],\n",
       "        [ 6,  2, -1]]), array([[-1],\n",
       "        [-1],\n",
       "        [ 1],\n",
       "        [ 1],\n",
       "        [ 1]]), array([[ 2, -4,  1],\n",
       "        [-4, -1,  1],\n",
       "        [ 1,  6, -1],\n",
       "        [ 2,  4, -1],\n",
       "        [ 6,  2, -1]]))"
      ]
     },
     "execution_count": 48,
     "metadata": {},
     "output_type": "execute_result"
    }
   ],
   "source": [
    "x, t.reshape(-1, 1), x * t.reshape(-1, 1)"
   ]
  },
  {
   "cell_type": "code",
   "execution_count": 49,
   "metadata": {},
   "outputs": [
    {
     "data": {
      "text/plain": [
       "array([[ 1.],\n",
       "       [ 1.],\n",
       "       [ 1.],\n",
       "       [ 1.],\n",
       "       [ 1.]])"
      ]
     },
     "execution_count": 49,
     "metadata": {},
     "output_type": "execute_result"
    }
   ],
   "source": [
    "np.fmax(np.sign(1 - np.multiply(t, np.dot(x, w))), 0).reshape(-1,1)"
   ]
  },
  {
   "cell_type": "code",
   "execution_count": null,
   "metadata": {},
   "outputs": [],
   "source": []
  }
 ],
 "metadata": {
  "kernelspec": {
   "display_name": "Python 3",
   "language": "python",
   "name": "python3"
  },
  "language_info": {
   "codemirror_mode": {
    "name": "ipython",
    "version": 3
   },
   "file_extension": ".py",
   "mimetype": "text/x-python",
   "name": "python",
   "nbconvert_exporter": "python",
   "pygments_lexer": "ipython3",
   "version": "3.5.4"
  }
 },
 "nbformat": 4,
 "nbformat_minor": 2
}
