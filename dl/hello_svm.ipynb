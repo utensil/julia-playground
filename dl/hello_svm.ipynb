{
 "cells": [
  {
   "cell_type": "code",
   "execution_count": 33,
   "metadata": {},
   "outputs": [],
   "source": [
    "import numpy as np\n",
    "import matplotlib.pyplot as plt"
   ]
  },
  {
   "cell_type": "code",
   "execution_count": 2,
   "metadata": {},
   "outputs": [],
   "source": [
    "def nn(x, w): return np.sign(np.dot(x, w)).astype(int)"
   ]
  },
  {
   "cell_type": "code",
   "execution_count": 3,
   "metadata": {},
   "outputs": [],
   "source": [
    "x = np.array([[-2,4,-1], [4,1,-1], [1, 6, -1], [2, 4, -1], [6, 2, -1]])\n",
    "t = np.array([-1, -1, 1, 1, 1])"
   ]
  },
  {
   "cell_type": "code",
   "execution_count": 35,
   "metadata": {},
   "outputs": [
    {
     "data": {
      "text/plain": [
       "[<matplotlib.lines.Line2D at 0x7f55ce642588>]"
      ]
     },
     "execution_count": 35,
     "metadata": {},
     "output_type": "execute_result"
    },
    {
     "data": {
      "image/png": "[encoded data removed]",
      "text/plain": [
       "<matplotlib.figure.Figure at 0x7f55ce6425c0>"
      ]
     },
     "metadata": {},
     "output_type": "display_data"
    }
   ],
   "source": [
    "# https://maviccprp.github.io/a-support-vector-machine-in-just-a-few-lines-of-python-code/\n",
    "for d, sample in enumerate(x):\n",
    "    # Plot the negative samples\n",
    "    if d < 2:\n",
    "        plt.scatter(sample[0], sample[1], s=120, marker='_', linewidths=2)\n",
    "    # Plot the positive samples\n",
    "    else:\n",
    "        plt.scatter(sample[0], sample[1], s=120, marker='+', linewidths=2)\n",
    "\n",
    "# Print a possible hyperplane, that is seperating the two classes.\n",
    "plt.plot([-2,6],[6,0.5])"
   ]
  },
  {
   "cell_type": "code",
   "execution_count": 9,
   "metadata": {},
   "outputs": [],
   "source": [
    "ld = 1 / 1000"
   ]
  },
  {
   "cell_type": "code",
   "execution_count": 4,
   "metadata": {},
   "outputs": [],
   "source": [
    "n_samples, n_features = x.shape"
   ]
  },
  {
   "cell_type": "code",
   "execution_count": 5,
   "metadata": {},
   "outputs": [],
   "source": [
    "w = np.zeros(n_features)"
   ]
  },
  {
   "cell_type": "code",
   "execution_count": 6,
   "metadata": {},
   "outputs": [
    {
     "data": {
      "text/plain": [
       "array([0., 0., 0.])"
      ]
     },
     "execution_count": 6,
     "metadata": {},
     "output_type": "execute_result"
    }
   ],
   "source": [
    "w"
   ]
  },
  {
   "cell_type": "code",
   "execution_count": 7,
   "metadata": {},
   "outputs": [
    {
     "data": {
      "text/plain": [
       "array([0, 0, 0, 0, 0])"
      ]
     },
     "execution_count": 7,
     "metadata": {},
     "output_type": "execute_result"
    }
   ],
   "source": [
    "nn(x, w)"
   ]
  },
  {
   "cell_type": "code",
   "execution_count": 8,
   "metadata": {
    "scrolled": true
   },
   "outputs": [
    {
     "data": {
      "text/plain": [
       "array([ 0,  1, -1])"
      ]
     },
     "execution_count": 8,
     "metadata": {},
     "output_type": "execute_result"
    }
   ],
   "source": [
    "np.sign([0, 10, -11])"
   ]
  },
  {
   "cell_type": "code",
   "execution_count": 10,
   "metadata": {},
   "outputs": [
    {
     "data": {
      "text/plain": [
       "array([-1, -1,  1,  1,  1])"
      ]
     },
     "execution_count": 10,
     "metadata": {},
     "output_type": "execute_result"
    }
   ],
   "source": [
    "t"
   ]
  },
  {
   "cell_type": "code",
   "execution_count": 11,
   "metadata": {},
   "outputs": [
    {
     "data": {
      "text/plain": [
       "array([0, 0, 0, 0, 0])"
      ]
     },
     "execution_count": 11,
     "metadata": {},
     "output_type": "execute_result"
    }
   ],
   "source": [
    "nn(x, w)"
   ]
  },
  {
   "cell_type": "code",
   "execution_count": 12,
   "metadata": {
    "scrolled": true
   },
   "outputs": [
    {
     "data": {
      "text/plain": [
       "array([0, 0, 0, 0, 0])"
      ]
     },
     "execution_count": 12,
     "metadata": {},
     "output_type": "execute_result"
    }
   ],
   "source": [
    "np.multiply(t, nn(x, w))"
   ]
  },
  {
   "cell_type": "code",
   "execution_count": 13,
   "metadata": {},
   "outputs": [
    {
     "data": {
      "text/plain": [
       "array([1, 1, 1, 1, 1])"
      ]
     },
     "execution_count": 13,
     "metadata": {},
     "output_type": "execute_result"
    }
   ],
   "source": [
    "np.fmax(1 - np.multiply(t, nn(x, w)), 0)"
   ]
  },
  {
   "cell_type": "code",
   "execution_count": 14,
   "metadata": {},
   "outputs": [
    {
     "data": {
      "text/plain": [
       "array([0., 0., 0.])"
      ]
     },
     "execution_count": 14,
     "metadata": {},
     "output_type": "execute_result"
    }
   ],
   "source": [
    "w"
   ]
  },
  {
   "cell_type": "code",
   "execution_count": 15,
   "metadata": {},
   "outputs": [
    {
     "data": {
      "text/plain": [
       "array([0., 0., 0.])"
      ]
     },
     "execution_count": 15,
     "metadata": {},
     "output_type": "execute_result"
    }
   ],
   "source": [
    "w ** 2"
   ]
  },
  {
   "cell_type": "code",
   "execution_count": 16,
   "metadata": {},
   "outputs": [
    {
     "data": {
      "text/plain": [
       "array([1., 1., 1., 1., 1.])"
      ]
     },
     "execution_count": 16,
     "metadata": {},
     "output_type": "execute_result"
    }
   ],
   "source": [
    "np.fmax(np.sign(1 - np.multiply(t, np.dot(x, w))), 0) "
   ]
  },
  {
   "cell_type": "code",
   "execution_count": 17,
   "metadata": {},
   "outputs": [
    {
     "data": {
      "text/plain": [
       "array([ 7,  7, -1])"
      ]
     },
     "execution_count": 17,
     "metadata": {},
     "output_type": "execute_result"
    }
   ],
   "source": [
    "np.sum(np.multiply(t.reshape(-1,1), x), 0)"
   ]
  },
  {
   "cell_type": "code",
   "execution_count": 18,
   "metadata": {},
   "outputs": [
    {
     "data": {
      "text/plain": [
       "array([-1, -1,  1,  1,  1])"
      ]
     },
     "execution_count": 18,
     "metadata": {},
     "output_type": "execute_result"
    }
   ],
   "source": [
    "t"
   ]
  },
  {
   "cell_type": "code",
   "execution_count": 19,
   "metadata": {},
   "outputs": [
    {
     "data": {
      "text/plain": [
       "array([-1, -1,  1,  1,  1])"
      ]
     },
     "execution_count": 19,
     "metadata": {},
     "output_type": "execute_result"
    }
   ],
   "source": [
    "t.T"
   ]
  },
  {
   "cell_type": "code",
   "execution_count": 20,
   "metadata": {},
   "outputs": [
    {
     "data": {
      "text/plain": [
       "array([ True,  True,  True,  True,  True])"
      ]
     },
     "execution_count": 20,
     "metadata": {},
     "output_type": "execute_result"
    }
   ],
   "source": [
    "t == t.T"
   ]
  },
  {
   "cell_type": "code",
   "execution_count": 21,
   "metadata": {},
   "outputs": [
    {
     "data": {
      "text/plain": [
       "array([ 7.,  7., -1.])"
      ]
     },
     "execution_count": 21,
     "metadata": {},
     "output_type": "execute_result"
    }
   ],
   "source": [
    "np.sum(np.multiply(t.reshape(-1,1), x) * np.fmax(np.sign(1 - np.multiply(t, np.dot(x, w))), 0).reshape(-1,1), 0) "
   ]
  },
  {
   "cell_type": "code",
   "execution_count": 22,
   "metadata": {},
   "outputs": [
    {
     "data": {
      "text/plain": [
       "5.0"
      ]
     },
     "execution_count": 22,
     "metadata": {},
     "output_type": "execute_result"
    }
   ],
   "source": [
    "np.sum(np.fmax(1 - np.multiply(t, nn(x, w)), 0).reshape(-1, 1) + np.sum(ld * w ** 2, 0))"
   ]
  },
  {
   "cell_type": "code",
   "execution_count": 23,
   "metadata": {},
   "outputs": [
    {
     "data": {
      "text/plain": [
       "(array([[-2,  4, -1],\n",
       "        [ 4,  1, -1],\n",
       "        [ 1,  6, -1],\n",
       "        [ 2,  4, -1],\n",
       "        [ 6,  2, -1]]), array([[-1],\n",
       "        [-1],\n",
       "        [ 1],\n",
       "        [ 1],\n",
       "        [ 1]]), array([[ 2, -4,  1],\n",
       "        [-4, -1,  1],\n",
       "        [ 1,  6, -1],\n",
       "        [ 2,  4, -1],\n",
       "        [ 6,  2, -1]]))"
      ]
     },
     "execution_count": 23,
     "metadata": {},
     "output_type": "execute_result"
    }
   ],
   "source": [
    "x, t.reshape(-1, 1), x * t.reshape(-1, 1)"
   ]
  },
  {
   "cell_type": "code",
   "execution_count": 24,
   "metadata": {
    "scrolled": true
   },
   "outputs": [
    {
     "data": {
      "text/plain": [
       "array([[1.],\n",
       "       [1.],\n",
       "       [1.],\n",
       "       [1.],\n",
       "       [1.]])"
      ]
     },
     "execution_count": 24,
     "metadata": {},
     "output_type": "execute_result"
    }
   ],
   "source": [
    "np.fmax(np.sign(1 - np.multiply(t, np.dot(x, w))), 0).reshape(-1,1)"
   ]
  },
  {
   "cell_type": "code",
   "execution_count": 178,
   "metadata": {},
   "outputs": [],
   "source": [
    "def cost(y, t, w, ld): return np.sum(is_misclassified(w, x, t)) + ld * np.sum(w ** 2, 0)"
   ]
  },
  {
   "cell_type": "code",
   "execution_count": 179,
   "metadata": {},
   "outputs": [],
   "source": [
    "def cost(y, t, w, ld): return np.sum(is_misclassified(w, x, t)) + ld * (np.linalg.norm(w, ord=2) ** 2)"
   ]
  },
  {
   "cell_type": "code",
   "execution_count": 180,
   "metadata": {},
   "outputs": [],
   "source": [
    "def is_misclassified(w, x, t): return np.fmax(np.sign(1 - np.multiply(t, np.dot(x, w))), 0).reshape(-1,1)"
   ]
  },
  {
   "cell_type": "code",
   "execution_count": 181,
   "metadata": {},
   "outputs": [],
   "source": [
    "def is_misclassified(w, x, t): return (np.multiply(t, np.dot(x, w)) < 1).astype(int).reshape(-1,1)"
   ]
  },
  {
   "cell_type": "code",
   "execution_count": 182,
   "metadata": {},
   "outputs": [],
   "source": [
    "def gradient(w, x, t, ld): return np.sum((2 * ld * w) - x * t.reshape(-1, 1) * is_misclassified(w, x, t), 0)"
   ]
  },
  {
   "cell_type": "code",
   "execution_count": 183,
   "metadata": {},
   "outputs": [],
   "source": [
    "def delta_w(w, x, t, learning_rate, ld):\n",
    "    return learning_rate * gradient(w, x, t, ld)"
   ]
  },
  {
   "cell_type": "code",
   "execution_count": 184,
   "metadata": {},
   "outputs": [
    {
     "data": {
      "image/png": "[encoded data removed]",
      "text/plain": [
       "<matplotlib.figure.Figure at 0x7f55cc55dc88>"
      ]
     },
     "metadata": {},
     "output_type": "display_data"
    },
    {
     "data": {
      "text/plain": [
       "(0,\n",
       " 0.004206024853792431,\n",
       " array([ 1.58876117,  3.17458055, 11.11863105]),\n",
       " array([ 3.19010824,  3.70734226, 19.91675431]))"
      ]
     },
     "execution_count": 184,
     "metadata": {},
     "output_type": "execute_result"
    }
   ],
   "source": [
    "learning_rate = 1; nb_of_iterations = 100000\n",
    "\n",
    "w = np.zeros(n_features)\n",
    "costs = []\n",
    "costs_mis = []\n",
    "w_ref = np.zeros(n_features)\n",
    "cost_ref = 0\n",
    "costs_ref = []\n",
    "not_sames = []\n",
    "\n",
    "w_cost = [(w, np.zeros(n_features), cost(nn(x, w), t, w, ld))]\n",
    "\n",
    "for epoch in range(1, nb_of_iterations):\n",
    "    ld = 1 / epoch\n",
    "    \n",
    "    # print((- learning_rate * ((2 * ld * w) - x * t.reshape(-1, 1) * is_misclassified(w, x, t))))\n",
    "    \n",
    "    w = w - delta_w(w, x, t, learning_rate, ld)\n",
    "    w_cost.append((w, is_misclassified(w, x, t), delta_w(w, x, t, learning_rate, ld), cost(nn(x, w), t, w, ld)))\n",
    "    costs_mis.append(np.max(is_misclassified(w, x, t)) - 0.5)\n",
    "    costs.append(cost(nn(x, w), t, w, ld))\n",
    "\n",
    "    mis = is_misclassified(w_ref, x, t).reshape(-1, )\n",
    "    cost_ref = 0\n",
    "    not_same = 0.0\n",
    "    delta_w_ref_sum = []\n",
    "    for i, x_ in enumerate(x):  \n",
    "        if (t[i] * np.dot(x[i], w_ref)) < 1:\n",
    "            delta_w_ref = learning_rate * ( (x[i] * t[i]) + (-2 * ld * w_ref) )\n",
    "            cost_ref = 1\n",
    "            if mis[i] != 1:\n",
    "                not_same = 1.3\n",
    "        else:\n",
    "            delta_w_ref = learning_rate * (-2 * ld * w_ref)\n",
    "            if mis[i] != 0:\n",
    "                not_same = 1.3\n",
    "                \n",
    "        w_ref = w_ref + delta_w_ref\n",
    "        delta_w_ref_sum.append(delta_w_ref)\n",
    "        # print(delta_w_ref)\n",
    "    # print(delta_w_ref_sum)        \n",
    "                \n",
    "    costs_ref.append(cost_ref)\n",
    "    not_sames.append(not_same)\n",
    "    \n",
    "# plt.plot(costs_mis, 'o')\n",
    "plt.plot(costs, '.')\n",
    "plt.plot(costs_ref, '|') \n",
    "# plt.plot(not_sames, 's')\n",
    "plt.ylim(0.25, 1.5)\n",
    "# plt.axes().set_yticklabels([])\n",
    "plt.xlabel('Epoch')\n",
    "plt.ylabel('Misclassified')\n",
    "plt.show()\n",
    "\n",
    "costs_ref[-1], costs[-1], w_ref, w"
   ]
  },
  {
   "cell_type": "code",
   "execution_count": 78,
   "metadata": {},
   "outputs": [
    {
     "data": {
      "text/plain": [
       "array([1., 1., 0., 0., 0.])"
      ]
     },
     "execution_count": 78,
     "metadata": {},
     "output_type": "execute_result"
    }
   ],
   "source": [
    "mis_raw = np.fmax(np.sign(1 - np.multiply(t, np.dot(x, w))), 0)\n",
    "mis_raw"
   ]
  },
  {
   "cell_type": "code",
   "execution_count": 76,
   "metadata": {},
   "outputs": [
    {
     "data": {
      "text/plain": [
       "array([[ 2, -4,  1],\n",
       "       [-4, -1,  1],\n",
       "       [ 1,  6, -1],\n",
       "       [ 2,  4, -1],\n",
       "       [ 6,  2, -1]])"
      ]
     },
     "execution_count": 76,
     "metadata": {},
     "output_type": "execute_result"
    }
   ],
   "source": [
    "x * t.reshape(-1, 1)"
   ]
  },
  {
   "cell_type": "code",
   "execution_count": 82,
   "metadata": {},
   "outputs": [
    {
     "data": {
      "text/plain": [
       "(array([1., 1., 0., 0., 0.]), array([[-2,  4, -1],\n",
       "        [ 4,  1, -1],\n",
       "        [ 1,  6, -1],\n",
       "        [ 2,  4, -1],\n",
       "        [ 6,  2, -1]]), array([-1, -1,  1,  1,  1]))"
      ]
     },
     "execution_count": 82,
     "metadata": {},
     "output_type": "execute_result"
    }
   ],
   "source": [
    "mis_raw, x, t"
   ]
  },
  {
   "cell_type": "code",
   "execution_count": 84,
   "metadata": {},
   "outputs": [
    {
     "data": {
      "text/plain": [
       "array([[ 2., -4.,  1.],\n",
       "       [-4., -1.,  1.],\n",
       "       [ 0.,  0., -0.],\n",
       "       [ 0.,  0., -0.],\n",
       "       [ 0.,  0., -0.]])"
      ]
     },
     "execution_count": 84,
     "metadata": {},
     "output_type": "execute_result"
    }
   ],
   "source": [
    "x * t.reshape(-1, 1) * mis_raw.reshape(-1, 1)"
   ]
  },
  {
   "cell_type": "code",
   "execution_count": 93,
   "metadata": {},
   "outputs": [
    {
     "data": {
      "text/plain": [
       "(5,)"
      ]
     },
     "execution_count": 93,
     "metadata": {},
     "output_type": "execute_result"
    }
   ],
   "source": [
    "mis_raw.shape"
   ]
  },
  {
   "cell_type": "code",
   "execution_count": 98,
   "metadata": {},
   "outputs": [
    {
     "data": {
      "text/plain": [
       "array([1., 1., 0., 0., 0.])"
      ]
     },
     "execution_count": 98,
     "metadata": {},
     "output_type": "execute_result"
    }
   ],
   "source": [
    "mis_raw.reshape(-1, 1).reshape(-1, )"
   ]
  },
  {
   "cell_type": "code",
   "execution_count": 103,
   "metadata": {},
   "outputs": [
    {
     "data": {
      "text/plain": [
       "array([0, 0, 0, 0, 0])"
      ]
     },
     "execution_count": 103,
     "metadata": {},
     "output_type": "execute_result"
    }
   ],
   "source": [
    "(np.multiply(t, np.dot(x, w)) < 1).astype(int)"
   ]
  },
  {
   "cell_type": "code",
   "execution_count": 104,
   "metadata": {},
   "outputs": [
    {
     "data": {
      "text/plain": [
       "array([[0.],\n",
       "       [0.],\n",
       "       [0.],\n",
       "       [0.],\n",
       "       [0.]])"
      ]
     },
     "execution_count": 104,
     "metadata": {},
     "output_type": "execute_result"
    }
   ],
   "source": [
    "np.fmax(np.sign(1 - np.multiply(t, np.dot(x, w))), 0).reshape(-1,1)"
   ]
  },
  {
   "cell_type": "code",
   "execution_count": 108,
   "metadata": {},
   "outputs": [
    {
     "data": {
      "text/plain": [
       "array([[0, 0, 0],\n",
       "       [0, 0, 0],\n",
       "       [0, 0, 0],\n",
       "       [0, 0, 0],\n",
       "       [0, 0, 0]])"
      ]
     },
     "execution_count": 108,
     "metadata": {},
     "output_type": "execute_result"
    }
   ],
   "source": [
    "x * t.reshape(-1, 1) * is_misclassified(w, x, t)"
   ]
  },
  {
   "cell_type": "code",
   "execution_count": 111,
   "metadata": {},
   "outputs": [
    {
     "data": {
      "text/plain": [
       "(array([[6.38028029e-05, 7.41475867e-05, 3.98339070e-04],\n",
       "        [6.38028029e-05, 7.41475867e-05, 3.98339070e-04],\n",
       "        [6.38028029e-05, 7.41475867e-05, 3.98339070e-04],\n",
       "        [6.38028029e-05, 7.41475867e-05, 3.98339070e-04],\n",
       "        [6.38028029e-05, 7.41475867e-05, 3.98339070e-04]]),\n",
       " array([0.00031901, 0.00037074, 0.0019917 ]))"
      ]
     },
     "execution_count": 111,
     "metadata": {},
     "output_type": "execute_result"
    }
   ],
   "source": [
    "a = (2 * ld * w) - x * t.reshape(-1, 1) * is_misclassified(w, x, t)\n",
    "b = np.sum(a, 0)\n",
    "a, b"
   ]
  },
  {
   "cell_type": "code",
   "execution_count": 114,
   "metadata": {},
   "outputs": [
    {
     "data": {
      "text/plain": [
       "4.206066914461575e-08"
      ]
     },
     "execution_count": 114,
     "metadata": {},
     "output_type": "execute_result"
    }
   ],
   "source": [
    "cost(nn(x, w), t, w, ld)"
   ]
  },
  {
   "cell_type": "code",
   "execution_count": 116,
   "metadata": {},
   "outputs": [
    {
     "data": {
      "text/plain": [
       "(array([0.00010177, 0.00013745, 0.00396681]), 0)"
      ]
     },
     "execution_count": 116,
     "metadata": {},
     "output_type": "execute_result"
    }
   ],
   "source": [
    "ld * w ** 2, 0"
   ]
  },
  {
   "cell_type": "code",
   "execution_count": 125,
   "metadata": {},
   "outputs": [
    {
     "data": {
      "text/plain": [
       "(array([ 3.19010824,  3.70734226, 19.91675431]),\n",
       " 420.5982793543892,\n",
       " 420.59827935438926)"
      ]
     },
     "execution_count": 125,
     "metadata": {},
     "output_type": "execute_result"
    }
   ],
   "source": [
    "w, np.sum(w ** 2, 0), np.linalg.norm(w, ord=2) ** 2"
   ]
  },
  {
   "cell_type": "code",
   "execution_count": 168,
   "metadata": {},
   "outputs": [
    {
     "data": {
      "text/plain": [
       "(array([ 3.19010824,  3.70734226, 19.91675431]),\n",
       " [101.0, 1015.5, 4819.0, 8617.687500000002, 8072.150000000001],\n",
       " [0.004209559656618149,\n",
       "  0.004208675664246879,\n",
       "  0.004207791866348653,\n",
       "  0.004206908262878743,\n",
       "  0.004206024853792431])"
      ]
     },
     "execution_count": 168,
     "metadata": {},
     "output_type": "execute_result"
    }
   ],
   "source": [
    "def nn(x, w): return np.sign(np.dot(x, w)).astype(int)\n",
    "x = np.array([[-2,4,-1], [4,1,-1], [1, 6, -1], [2, 4, -1], [6, 2, -1]])\n",
    "t = np.array([-1, -1, 1, 1, 1])\n",
    "def cost(y, t, w, ld): return np.sum(is_misclassified(w, x, t)) + ld * (np.linalg.norm(w, ord=2) ** 2)\n",
    "def is_misclassified(w, x, t): return (np.multiply(t, np.dot(x, w)) < 1).astype(int).reshape(-1,1)\n",
    "def gradient(w, x, t, ld): return np.sum((2 * ld * w) - x * t.reshape(-1, 1) * is_misclassified(w, x, t), 0)\n",
    "def delta_w(w, x, t, learning_rate, ld): return learning_rate * gradient(w, x, t, ld)\n",
    "\n",
    "learning_rate = 1; nb_of_iterations = 100000\n",
    "\n",
    "w = np.zeros(n_features)\n",
    "costs = []\n",
    "\n",
    "for epoch in range(1, nb_of_iterations):\n",
    "    ld = 1 / epoch    \n",
    "    w = w - delta_w(w, x, t, learning_rate, ld)\n",
    "    costs.append(cost(nn(x, w), t, w, ld))\n",
    "\n",
    "w, costs[:5], costs[-5:]"
   ]
  },
  {
   "cell_type": "code",
   "execution_count": 177,
   "metadata": {},
   "outputs": [
    {
     "data": {
      "text/plain": [
       "(array([ 1.58876117,  3.17458055, 11.11863105]),\n",
       " [1, 1, 1, 0, 0],\n",
       " [0, 0, 0, 0, 0])"
      ]
     },
     "execution_count": 177,
     "metadata": {},
     "output_type": "execute_result"
    }
   ],
   "source": [
    "def nn(x, w): return np.sign(np.dot(x, w)).astype(int)\n",
    "def cost(y, t, w, ld): return is_misclassified(w, x, t) + ld * (np.linalg.norm(w, ord=2) ** 2)\n",
    "def is_misclassified(w, x, t): return (t * np.dot(x, w) < 1).astype(int)\n",
    "def gradient(w, x, t, ld): return 2 * ld * w - x * t * is_misclassified(w, x, t)\n",
    "\n",
    "x = np.array([[-2,4,-1], [4,1,-1], [1, 6, -1], [2, 4, -1], [6, 2, -1]])\n",
    "t = np.array([-1, -1, 1, 1, 1])\n",
    "learning_rate = 1; nb_of_iterations = 100000; w = np.zeros(n_features); costs = []\n",
    "\n",
    "for epoch in range(1, nb_of_iterations):\n",
    "    ld = 1 / epoch\n",
    "    error = 0\n",
    "    for i, x_ in enumerate(x):              \n",
    "        w = w - learning_rate * gradient(w, x[i], t[i], ld)\n",
    "        # costs.append(cost(nn(x, w), t, w, ld))\n",
    "        if is_misclassified(w, x[i], t[i]):\n",
    "            error = 1\n",
    "    costs.append(error)\n",
    "\n",
    "w, costs[:5], costs[-5:]"
   ]
  },
  {
   "cell_type": "code",
   "execution_count": null,
   "metadata": {},
   "outputs": [],
   "source": []
  }
 ],
 "metadata": {
  "kernelspec": {
   "display_name": "Python 3",
   "language": "python",
   "name": "python3"
  },
  "language_info": {
   "codemirror_mode": {
    "name": "ipython",
    "version": 3
   },
   "file_extension": ".py",
   "mimetype": "text/x-python",
   "name": "python",
   "nbconvert_exporter": "python",
   "pygments_lexer": "ipython3",
   "version": "3.5.2"
  }
 },
 "nbformat": 4,
 "nbformat_minor": 2
}
